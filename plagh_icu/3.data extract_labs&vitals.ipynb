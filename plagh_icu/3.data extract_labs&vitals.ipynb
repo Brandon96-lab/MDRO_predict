{
 "cells": [
  {
   "cell_type": "code",
   "execution_count": 1,
   "id": "0d291aa8",
   "metadata": {
    "ExecuteTime": {
     "end_time": "2022-02-19T03:09:12.859621Z",
     "start_time": "2022-02-19T03:09:11.642619Z"
    },
    "execution": {
     "iopub.execute_input": "2024-06-18T02:05:49.326389Z",
     "iopub.status.busy": "2024-06-18T02:05:49.325781Z",
     "iopub.status.idle": "2024-06-18T02:05:50.060796Z",
     "shell.execute_reply": "2024-06-18T02:05:50.059986Z",
     "shell.execute_reply.started": "2024-06-18T02:05:49.326337Z"
    },
    "tags": []
   },
   "outputs": [],
   "source": [
    "%config IPCompleter.greedy=True\n",
    "import numpy as np\n",
    "import pandas as pd\n",
    "\n",
    "import matplotlib.pyplot as plt\n",
    "import time\n",
    "import re\n",
    "import scipy\n",
    "from datetime import time, timedelta\n",
    "import seaborn as sns\n",
    "pd.set_option('display.max_columns', 100)\n",
    "\n",
    "from dateutil.parser import parse"
   ]
  },
  {
   "cell_type": "code",
   "execution_count": 2,
   "id": "877927b2",
   "metadata": {
    "ExecuteTime": {
     "end_time": "2022-02-19T03:09:12.875621Z",
     "start_time": "2022-02-19T03:09:12.862615Z"
    },
    "execution": {
     "iopub.execute_input": "2024-01-24T09:44:50.905905Z",
     "iopub.status.busy": "2024-01-24T09:44:50.905592Z",
     "iopub.status.idle": "2024-01-24T09:44:50.908711Z",
     "shell.execute_reply": "2024-01-24T09:44:50.908320Z",
     "shell.execute_reply.started": "2024-01-24T09:44:50.905889Z"
    },
    "tags": []
   },
   "outputs": [],
   "source": [
    "import warnings\n",
    "warnings.filterwarnings(\"ignore\")"
   ]
  },
  {
   "cell_type": "code",
   "execution_count": 3,
   "id": "015fa38f",
   "metadata": {
    "ExecuteTime": {
     "end_time": "2022-02-19T03:09:12.891619Z",
     "start_time": "2022-02-19T03:09:12.878615Z"
    },
    "execution": {
     "iopub.execute_input": "2024-01-24T09:44:50.909662Z",
     "iopub.status.busy": "2024-01-24T09:44:50.909453Z",
     "iopub.status.idle": "2024-01-24T09:44:50.911944Z",
     "shell.execute_reply": "2024-01-24T09:44:50.911561Z",
     "shell.execute_reply.started": "2024-01-24T09:44:50.909647Z"
    },
    "tags": []
   },
   "outputs": [],
   "source": [
    "from pandas.api.types import CategoricalDtype"
   ]
  },
  {
   "cell_type": "code",
   "execution_count": 4,
   "id": "dd8cacc0",
   "metadata": {
    "ExecuteTime": {
     "end_time": "2022-02-19T03:09:13.083780Z",
     "start_time": "2022-02-19T03:09:13.068775Z"
    },
    "execution": {
     "iopub.execute_input": "2024-01-24T09:44:50.912717Z",
     "iopub.status.busy": "2024-01-24T09:44:50.912569Z",
     "iopub.status.idle": "2024-01-24T09:44:50.915502Z",
     "shell.execute_reply": "2024-01-24T09:44:50.915118Z",
     "shell.execute_reply.started": "2024-01-24T09:44:50.912703Z"
    },
    "tags": []
   },
   "outputs": [],
   "source": [
    "def trans_time(t):\n",
    "    if t == 'None':\n",
    "        return np.datetime64('NaT')\n",
    "    elif pd.isna(t):\n",
    "        return np.datetime64('NaT')\n",
    "    else:\n",
    "        return np.datetime64(t)"
   ]
  },
  {
   "cell_type": "code",
   "execution_count": 5,
   "id": "dae34876",
   "metadata": {
    "ExecuteTime": {
     "end_time": "2022-02-19T03:09:14.615397Z",
     "start_time": "2022-02-19T03:09:14.598392Z"
    },
    "execution": {
     "iopub.execute_input": "2024-01-24T09:44:50.917470Z",
     "iopub.status.busy": "2024-01-24T09:44:50.917054Z",
     "iopub.status.idle": "2024-01-24T09:44:50.920522Z",
     "shell.execute_reply": "2024-01-24T09:44:50.920135Z",
     "shell.execute_reply.started": "2024-01-24T09:44:50.917454Z"
    },
    "tags": []
   },
   "outputs": [],
   "source": [
    "def trans_float(df):\n",
    "    for i in df.columns:\n",
    "        if df[i].dtype == object:\n",
    "            if ((df[i]== 'None')|(df[i]== 'Null')).any():\n",
    "                df[i].replace('None',np.nan,inplace = True)\n",
    "                df[i].replace('Null',np.nan,inplace = True)\n",
    "                df[i] = df[i].astype(float)\n",
    "            else:\n",
    "                df[i] = df[i].astype(float)"
   ]
  },
  {
   "cell_type": "code",
   "execution_count": 6,
   "id": "ca720a8c",
   "metadata": {
    "ExecuteTime": {
     "end_time": "2022-02-19T03:09:14.951851Z",
     "start_time": "2022-02-19T03:09:14.942852Z"
    },
    "execution": {
     "iopub.execute_input": "2024-01-24T09:44:50.921138Z",
     "iopub.status.busy": "2024-01-24T09:44:50.920991Z",
     "iopub.status.idle": "2024-01-24T09:44:50.923647Z",
     "shell.execute_reply": "2024-01-24T09:44:50.923292Z",
     "shell.execute_reply.started": "2024-01-24T09:44:50.921124Z"
    },
    "tags": []
   },
   "outputs": [],
   "source": [
    "def trans_time(t):\n",
    "    if t == 'None':\n",
    "        return np.datetime64('NaT')\n",
    "    elif pd.isna(t):\n",
    "        return np.datetime64('NaT')\n",
    "    else:\n",
    "        return parse(t)"
   ]
  },
  {
   "cell_type": "code",
   "execution_count": 2,
   "id": "6b7580b6",
   "metadata": {
    "ExecuteTime": {
     "end_time": "2022-02-19T03:09:15.316842Z",
     "start_time": "2022-02-19T03:09:15.301843Z"
    },
    "execution": {
     "iopub.execute_input": "2024-06-18T02:05:57.353232Z",
     "iopub.status.busy": "2024-06-18T02:05:57.352568Z",
     "iopub.status.idle": "2024-06-18T02:05:57.361248Z",
     "shell.execute_reply": "2024-06-18T02:05:57.360408Z",
     "shell.execute_reply.started": "2024-06-18T02:05:57.353178Z"
    },
    "tags": []
   },
   "outputs": [],
   "source": [
    "def read_largefile(path, encoding):\n",
    "    test = pd.read_csv(path, sep=',',encoding = encoding,nrows= 10000)\n",
    "    nan_count_list = []\n",
    "    col_sel_list = []\n",
    "    for i in range(len(test.columns.to_list())):\n",
    "        nan_count_list.append((pd.isna(test.iloc[:,i]).sum()/10000)*100)\n",
    "\n",
    "    for i in range(len(nan_count_list)):\n",
    "        if nan_count_list[i]<=50:\n",
    "            col_sel_list.append(test.columns.to_list()[i])\n",
    "    \n",
    "    reader = pd.read_csv(path,usecols= col_sel_list, sep=',', iterator=True,encoding = encoding)\n",
    "    loop = True\n",
    "    chunkSize = 100000\n",
    "    chunks = []\n",
    "    while loop:\n",
    "        try:\n",
    "            chunk = reader.get_chunk(chunkSize)\n",
    "            chunks.append(chunk)\n",
    "        except StopIteration:\n",
    "            loop = False\n",
    "            print(\"Iteration is stopped.\")\n",
    "    df = pd.concat(chunks, ignore_index=True)\n",
    "    return df"
   ]
  },
  {
   "cell_type": "markdown",
   "id": "86a81dff",
   "metadata": {},
   "source": [
    "# 生命体征"
   ]
  },
  {
   "cell_type": "code",
   "execution_count": 8,
   "id": "4d68af15",
   "metadata": {
    "ExecuteTime": {
     "end_time": "2022-02-20T06:43:55.639232Z",
     "start_time": "2022-02-20T06:42:27.932364Z"
    },
    "execution": {
     "iopub.execute_input": "2024-01-24T09:44:50.929456Z",
     "iopub.status.busy": "2024-01-24T09:44:50.929307Z",
     "iopub.status.idle": "2024-01-24T09:45:46.718128Z",
     "shell.execute_reply": "2024-01-24T09:45:46.717183Z",
     "shell.execute_reply.started": "2024-01-24T09:44:50.929442Z"
    }
   },
   "outputs": [
    {
     "name": "stdout",
     "output_type": "stream",
     "text": [
      "Iteration is stopped.\n"
     ]
    }
   ],
   "source": [
    "vitals = read_largefile('../Local_hosp_data/vitals.csv', encoding = 'gb2312')"
   ]
  },
  {
   "cell_type": "code",
   "execution_count": 9,
   "id": "fe434513",
   "metadata": {
    "ExecuteTime": {
     "end_time": "2022-02-20T06:44:23.180805Z",
     "start_time": "2022-02-20T06:44:19.500805Z"
    },
    "execution": {
     "iopub.execute_input": "2024-01-24T09:45:46.719489Z",
     "iopub.status.busy": "2024-01-24T09:45:46.719285Z",
     "iopub.status.idle": "2024-01-24T09:45:48.407999Z",
     "shell.execute_reply": "2024-01-24T09:45:48.406949Z",
     "shell.execute_reply.started": "2024-01-24T09:45:46.719471Z"
    }
   },
   "outputs": [
    {
     "data": {
      "text/plain": [
       "脉搏        7531181\n",
       "呼吸        7441957\n",
       "血压high    5205383\n",
       "血压Low     5205149\n",
       "体温        4782498\n",
       "血氧        3293086\n",
       "血糖        1616049\n",
       "尿量         701005\n",
       "总入量        677114\n",
       "心率         202266\n",
       "Name: VITAL_SIGNS, dtype: int64"
      ]
     },
     "execution_count": 9,
     "metadata": {},
     "output_type": "execute_result"
    }
   ],
   "source": [
    "vitals.VITAL_SIGNS.value_counts()"
   ]
  },
  {
   "cell_type": "code",
   "execution_count": 10,
   "id": "cf75f405",
   "metadata": {
    "ExecuteTime": {
     "end_time": "2022-02-19T03:11:34.557919Z",
     "start_time": "2022-02-19T03:10:48.513918Z"
    },
    "execution": {
     "iopub.execute_input": "2024-01-24T09:45:48.408743Z",
     "iopub.status.busy": "2024-01-24T09:45:48.408587Z",
     "iopub.status.idle": "2024-01-24T09:46:18.541327Z",
     "shell.execute_reply": "2024-01-24T09:46:18.539937Z",
     "shell.execute_reply.started": "2024-01-24T09:45:48.408728Z"
    }
   },
   "outputs": [],
   "source": [
    "vitals = vitals[vitals.VITAL_SIGNS.isin(['脉搏','呼吸','血压high','血压Low','血氧','体温','血糖','心率','尿量','总入量','总出量','呼吸机辅助'])].\\\n",
    "drop_duplicates().dropna(axis = 0,subset = ['VITAL_SIGNS_VALUES'])"
   ]
  },
  {
   "cell_type": "code",
   "execution_count": 11,
   "id": "e09c34fd",
   "metadata": {
    "ExecuteTime": {
     "end_time": "2022-02-19T03:11:34.573920Z",
     "start_time": "2022-02-19T03:11:34.560920Z"
    },
    "execution": {
     "iopub.execute_input": "2024-01-24T09:46:18.542242Z",
     "iopub.status.busy": "2024-01-24T09:46:18.542054Z",
     "iopub.status.idle": "2024-01-24T09:46:18.545756Z",
     "shell.execute_reply": "2024-01-24T09:46:18.545093Z",
     "shell.execute_reply.started": "2024-01-24T09:46:18.542227Z"
    }
   },
   "outputs": [],
   "source": [
    "#vitals.to_csv('vitals.csv', index = False)"
   ]
  },
  {
   "cell_type": "markdown",
   "id": "3274b58a",
   "metadata": {},
   "source": [
    "# 实验室检查"
   ]
  },
  {
   "cell_type": "code",
   "execution_count": 3,
   "id": "7883aeab",
   "metadata": {
    "ExecuteTime": {
     "end_time": "2022-02-19T03:12:48.578924Z",
     "start_time": "2022-02-19T03:11:34.575920Z"
    },
    "execution": {
     "iopub.execute_input": "2024-06-18T02:06:10.215338Z",
     "iopub.status.busy": "2024-06-18T02:06:10.214721Z",
     "iopub.status.idle": "2024-06-18T02:07:03.912675Z",
     "shell.execute_reply": "2024-06-18T02:07:03.911230Z",
     "shell.execute_reply.started": "2024-06-18T02:06:10.215285Z"
    },
    "tags": []
   },
   "outputs": [
    {
     "name": "stdout",
     "output_type": "stream",
     "text": [
      "Iteration is stopped.\n"
     ]
    }
   ],
   "source": [
    "lab = read_largefile('../Local_hosp_data/lab.csv', encoding = 'gb18030')"
   ]
  },
  {
   "cell_type": "code",
   "execution_count": 5,
   "id": "d22b5d4a",
   "metadata": {
    "execution": {
     "iopub.execute_input": "2024-06-18T02:07:03.934313Z",
     "iopub.status.busy": "2024-06-18T02:07:03.934162Z",
     "iopub.status.idle": "2024-06-18T02:07:03.938983Z",
     "shell.execute_reply": "2024-06-18T02:07:03.938592Z",
     "shell.execute_reply.started": "2024-06-18T02:07:03.934299Z"
    },
    "tags": []
   },
   "outputs": [
    {
     "data": {
      "text/plain": [
       "['ALP',\n",
       " 'ALT',\n",
       " 'APPT',\n",
       " 'AST',\n",
       " 'BNP',\n",
       " 'CRP',\n",
       " 'D_dimer',\n",
       " 'IL_6',\n",
       " 'INR',\n",
       " 'LYN',\n",
       " 'PA',\n",
       " 'PCT',\n",
       " 'PT',\n",
       " 'PTT',\n",
       " 'albumin',\n",
       " 'amylase',\n",
       " 'bands',\n",
       " 'basophil',\n",
       " 'bilirubin',\n",
       " 'bilirubin_direct',\n",
       " 'ca',\n",
       " 'chloride',\n",
       " 'ck',\n",
       " 'ck_mb',\n",
       " 'creatinine',\n",
       " 'eosinophil',\n",
       " 'fibrinogen',\n",
       " 'gamma_GT',\n",
       " 'glucose',\n",
       " 'hct_pcv',\n",
       " 'hemoglobin',\n",
       " 'lipase',\n",
       " 'mb',\n",
       " 'mch',\n",
       " 'mchc',\n",
       " 'mcv',\n",
       " 'mg',\n",
       " 'monocytes',\n",
       " 'mpv',\n",
       " 'p',\n",
       " 'platelet',\n",
       " 'potassium',\n",
       " 'rbc',\n",
       " 'rdw',\n",
       " 'sodium',\n",
       " 'urea',\n",
       " 'wbc']"
      ]
     },
     "execution_count": 5,
     "metadata": {},
     "output_type": "execute_result"
    }
   ],
   "source": [
    "['ALP', 'ALT', 'APPT', 'AST','BNP', 'CRP', 'D_dimer', 'IL_6', 'INR', 'LYN', 'PA', 'PCT', 'PT', 'PTT',\n",
    "'albumin', 'amylase', 'bands', 'basophil', 'bilirubin',\n",
    "'bilirubin_direct', 'ca', 'chloride', 'ck', 'ck_mb', 'creatinine',\n",
    "'eosinophil', 'fibrinogen', 'gamma_GT', 'glucose', 'hct_pcv',\n",
    "'hemoglobin', 'lipase', 'mb', 'mch', 'mchc', 'mcv', 'mg', 'monocytes',\n",
    "'mpv', 'p', 'platelet', 'potassium', 'rbc', 'rdw', 'sodium', 'urea','wbc']"
   ]
  },
  {
   "cell_type": "code",
   "execution_count": null,
   "id": "0ccca2f2-af06-4b04-9e0a-362d8aec2139",
   "metadata": {},
   "outputs": [],
   "source": [
    "#mimic \n",
    "# mg,50960,mg/dl; mmol/L\n",
    "# phosphate,50970,mg/dl; mmol/L\n",
    "# 'rbc', 51279, m/uL; 10^12/L\n",
    "#  'platelet',51265, K/uL; 10^9/L\n",
    "#  'rdw',51277,%; %\n",
    "#  'chloride',50902,mEq/L; mmol/L\n",
    "#  'sodium',50983,mEq/L; mmol/L\n",
    "#  'hemoglobin',51222,g/dL; g/L"
   ]
  },
  {
   "cell_type": "code",
   "execution_count": 17,
   "id": "8f571fc5",
   "metadata": {
    "ExecuteTime": {
     "end_time": "2022-03-02T04:43:22.732667Z",
     "start_time": "2022-03-02T04:43:20.692670Z"
    },
    "execution": {
     "iopub.execute_input": "2024-06-18T02:51:37.458091Z",
     "iopub.status.busy": "2024-06-18T02:51:37.457442Z",
     "iopub.status.idle": "2024-06-18T02:51:41.073457Z",
     "shell.execute_reply": "2024-06-18T02:51:41.072548Z",
     "shell.execute_reply.started": "2024-06-18T02:51:37.458057Z"
    },
    "tags": []
   },
   "outputs": [
    {
     "data": {
      "text/plain": [
       "mmol/L    456144\n",
       "Name: UNITS, dtype: int64"
      ]
     },
     "execution_count": 17,
     "metadata": {},
     "output_type": "execute_result"
    }
   ],
   "source": [
    "lab[(lab['LABEL'] == 'p')].UNITS.value_counts()"
   ]
  },
  {
   "cell_type": "markdown",
   "id": "5191ec4b",
   "metadata": {},
   "source": [
    "# icustay_detail"
   ]
  },
  {
   "cell_type": "code",
   "execution_count": 19,
   "id": "8d0659ef",
   "metadata": {
    "ExecuteTime": {
     "end_time": "2022-02-11T00:49:51.795801Z",
     "start_time": "2022-02-11T00:49:51.646799Z"
    },
    "execution": {
     "iopub.execute_input": "2024-01-24T09:47:13.825941Z",
     "iopub.status.busy": "2024-01-24T09:47:13.825789Z",
     "iopub.status.idle": "2024-01-24T09:47:13.902537Z",
     "shell.execute_reply": "2024-01-24T09:47:13.902070Z",
     "shell.execute_reply.started": "2024-01-24T09:47:13.825927Z"
    }
   },
   "outputs": [],
   "source": [
    "final_cohort = pd.read_csv('final_cohort.csv')"
   ]
  },
  {
   "cell_type": "code",
   "execution_count": 20,
   "id": "3c136b16",
   "metadata": {
    "ExecuteTime": {
     "end_time": "2022-02-11T00:49:53.970852Z",
     "start_time": "2022-02-11T00:49:53.941855Z"
    },
    "execution": {
     "iopub.execute_input": "2024-01-24T09:47:13.903379Z",
     "iopub.status.busy": "2024-01-24T09:47:13.903198Z",
     "iopub.status.idle": "2024-01-24T09:47:13.908960Z",
     "shell.execute_reply": "2024-01-24T09:47:13.908532Z",
     "shell.execute_reply.started": "2024-01-24T09:47:13.903364Z"
    }
   },
   "outputs": [],
   "source": [
    "final_cohort = final_cohort[final_cohort['LOS_ICU']>0]"
   ]
  },
  {
   "cell_type": "code",
   "execution_count": 21,
   "id": "1399991e",
   "metadata": {
    "ExecuteTime": {
     "end_time": "2022-02-11T00:50:01.461511Z",
     "start_time": "2022-02-11T00:49:54.469512Z"
    },
    "execution": {
     "iopub.execute_input": "2024-01-24T09:47:13.909730Z",
     "iopub.status.busy": "2024-01-24T09:47:13.909574Z",
     "iopub.status.idle": "2024-01-24T09:47:17.285099Z",
     "shell.execute_reply": "2024-01-24T09:47:17.284350Z",
     "shell.execute_reply.started": "2024-01-24T09:47:13.909716Z"
    }
   },
   "outputs": [],
   "source": [
    "for i in ['ADMISSION_DATE_TIME','DISCHARGE_DATE_TIME','TF_ADMISSION_DATE_TIME', 'TF_DISCHARGE_DATE_TIME']:\n",
    "    final_cohort[i] = final_cohort[i].apply(trans_time)"
   ]
  },
  {
   "cell_type": "markdown",
   "id": "5adf0e82",
   "metadata": {},
   "source": [
    "# 实验室检查值"
   ]
  },
  {
   "cell_type": "code",
   "execution_count": 49,
   "id": "1b3b8c18",
   "metadata": {
    "ExecuteTime": {
     "end_time": "2022-02-11T04:26:47.268926Z",
     "start_time": "2022-02-11T04:26:42.574922Z"
    },
    "execution": {
     "iopub.execute_input": "2024-01-24T09:48:35.640684Z",
     "iopub.status.busy": "2024-01-24T09:48:35.640333Z",
     "iopub.status.idle": "2024-01-24T09:48:37.779291Z",
     "shell.execute_reply": "2024-01-24T09:48:37.778023Z",
     "shell.execute_reply.started": "2024-01-24T09:48:35.640670Z"
    }
   },
   "outputs": [],
   "source": [
    "lab_sel = lab[lab['PATIENT_ID'].isin(final_cohort['PATIENT_ID'].to_list())]"
   ]
  },
  {
   "cell_type": "code",
   "execution_count": 50,
   "id": "95c321f5",
   "metadata": {
    "ExecuteTime": {
     "end_time": "2022-02-11T04:26:52.305925Z",
     "start_time": "2022-02-11T04:26:47.271921Z"
    },
    "execution": {
     "iopub.execute_input": "2024-01-24T09:48:37.780300Z",
     "iopub.status.busy": "2024-01-24T09:48:37.780120Z",
     "iopub.status.idle": "2024-01-24T09:48:41.598288Z",
     "shell.execute_reply": "2024-01-24T09:48:41.597371Z",
     "shell.execute_reply.started": "2024-01-24T09:48:37.780285Z"
    }
   },
   "outputs": [],
   "source": [
    "lab_bc = pd.merge(final_cohort[['PATIENT_ID','TF_ADMISSION_DATE_TIME']],lab_sel,how = 'left', on = ['PATIENT_ID'])"
   ]
  },
  {
   "cell_type": "code",
   "execution_count": 51,
   "id": "8c7d6968",
   "metadata": {
    "ExecuteTime": {
     "end_time": "2022-02-11T04:27:04.547128Z",
     "start_time": "2022-02-11T04:27:01.436129Z"
    },
    "execution": {
     "iopub.execute_input": "2024-01-24T09:48:41.599317Z",
     "iopub.status.busy": "2024-01-24T09:48:41.599129Z",
     "iopub.status.idle": "2024-01-24T09:48:43.784609Z",
     "shell.execute_reply": "2024-01-24T09:48:43.783282Z",
     "shell.execute_reply.started": "2024-01-24T09:48:41.599301Z"
    }
   },
   "outputs": [
    {
     "data": {
      "text/plain": [
       "3.5～10           82750\n",
       "3.5～10×10^9/L    68664\n",
       "3.5-10           48777\n",
       "Name: PRINT_CONTEXT, dtype: int64"
      ]
     },
     "execution_count": 51,
     "metadata": {},
     "output_type": "execute_result"
    }
   ],
   "source": [
    "lab_bc[(lab_bc['LABEL'] == 'wbc')].PRINT_CONTEXT.value_counts()"
   ]
  },
  {
   "cell_type": "code",
   "execution_count": 52,
   "id": "52727aca",
   "metadata": {
    "ExecuteTime": {
     "end_time": "2022-02-10T03:56:12.890169Z",
     "start_time": "2022-02-10T03:56:12.877168Z"
    },
    "execution": {
     "iopub.execute_input": "2024-01-24T09:48:43.785533Z",
     "iopub.status.busy": "2024-01-24T09:48:43.785366Z",
     "iopub.status.idle": "2024-01-24T09:48:43.791962Z",
     "shell.execute_reply": "2024-01-24T09:48:43.791567Z",
     "shell.execute_reply.started": "2024-01-24T09:48:43.785518Z"
    }
   },
   "outputs": [
    {
     "name": "stdout",
     "output_type": "stream",
     "text": [
      "<class 'pandas.core.frame.DataFrame'>\n",
      "Int64Index: 11428788 entries, 0 to 11428787\n",
      "Data columns (total 12 columns):\n",
      " #   Column                   Dtype         \n",
      "---  ------                   -----         \n",
      " 0   PATIENT_ID               object        \n",
      " 1   TF_ADMISSION_DATE_TIME   datetime64[ns]\n",
      " 2   VISIT_ID                 float64       \n",
      " 3   TEST_NO                  int64         \n",
      " 4   ITEM_NO                  int64         \n",
      " 5   REQUESTED_DATE_TIME      object        \n",
      " 6   SPCM_RECEIVED_DATE_TIME  object        \n",
      " 7   LABEL                    object        \n",
      " 8   RESULT                   object        \n",
      " 9   UNITS                    object        \n",
      " 10  RESULTS_RPT_DATE_TIME    object        \n",
      " 11  PRINT_CONTEXT            object        \n",
      "dtypes: datetime64[ns](1), float64(1), int64(2), object(8)\n",
      "memory usage: 1.1+ GB\n"
     ]
    }
   ],
   "source": [
    "lab_bc.info()"
   ]
  },
  {
   "cell_type": "code",
   "execution_count": 53,
   "id": "50f447da",
   "metadata": {
    "ExecuteTime": {
     "end_time": "2022-02-10T04:41:14.703451Z",
     "start_time": "2022-02-10T03:56:12.892168Z"
    },
    "execution": {
     "iopub.execute_input": "2024-01-24T09:48:43.792643Z",
     "iopub.status.busy": "2024-01-24T09:48:43.792491Z",
     "iopub.status.idle": "2024-01-24T10:04:44.071087Z",
     "shell.execute_reply": "2024-01-24T10:04:44.069765Z",
     "shell.execute_reply.started": "2024-01-24T09:48:43.792629Z"
    }
   },
   "outputs": [],
   "source": [
    "for i in ['REQUESTED_DATE_TIME','RESULTS_RPT_DATE_TIME']:\n",
    "    lab_bc[i] = lab_bc[i].apply(trans_time)"
   ]
  },
  {
   "cell_type": "code",
   "execution_count": 54,
   "id": "8da164df",
   "metadata": {
    "ExecuteTime": {
     "end_time": "2022-02-10T04:41:18.442451Z",
     "start_time": "2022-02-10T04:41:14.705450Z"
    },
    "execution": {
     "iopub.execute_input": "2024-01-24T10:04:44.072309Z",
     "iopub.status.busy": "2024-01-24T10:04:44.072109Z",
     "iopub.status.idle": "2024-01-24T10:04:44.866361Z",
     "shell.execute_reply": "2024-01-24T10:04:44.865039Z",
     "shell.execute_reply.started": "2024-01-24T10:04:44.072290Z"
    }
   },
   "outputs": [],
   "source": [
    "lab_bc_1stday = lab_bc[((lab_bc['REQUESTED_DATE_TIME'] - lab_bc['TF_ADMISSION_DATE_TIME']).dt.total_seconds()/3600<=48)&\\\n",
    "                       ((lab_bc['REQUESTED_DATE_TIME'] - lab_bc['TF_ADMISSION_DATE_TIME']).dt.total_seconds()/3600>=-24)]"
   ]
  },
  {
   "cell_type": "code",
   "execution_count": 55,
   "id": "1f4ea561",
   "metadata": {
    "ExecuteTime": {
     "end_time": "2022-02-10T04:41:19.122447Z",
     "start_time": "2022-02-10T04:41:18.446448Z"
    },
    "execution": {
     "iopub.execute_input": "2024-01-24T10:04:44.867296Z",
     "iopub.status.busy": "2024-01-24T10:04:44.867119Z",
     "iopub.status.idle": "2024-01-24T10:04:45.311163Z",
     "shell.execute_reply": "2024-01-24T10:04:45.309854Z",
     "shell.execute_reply.started": "2024-01-24T10:04:44.867280Z"
    }
   },
   "outputs": [],
   "source": [
    "lab_bc_1stday.dropna(axis = 0, subset = ['RESULT'], inplace = True)"
   ]
  },
  {
   "cell_type": "code",
   "execution_count": 56,
   "id": "a9b33078",
   "metadata": {
    "ExecuteTime": {
     "end_time": "2022-02-10T04:41:22.852453Z",
     "start_time": "2022-02-10T04:41:19.124447Z"
    },
    "execution": {
     "iopub.execute_input": "2024-01-24T10:04:45.312111Z",
     "iopub.status.busy": "2024-01-24T10:04:45.311928Z",
     "iopub.status.idle": "2024-01-24T10:04:46.979443Z",
     "shell.execute_reply": "2024-01-24T10:04:46.978825Z",
     "shell.execute_reply.started": "2024-01-24T10:04:45.312095Z"
    }
   },
   "outputs": [],
   "source": [
    "lab_bc_1stday = lab_bc_1stday.drop_duplicates()"
   ]
  },
  {
   "cell_type": "code",
   "execution_count": 57,
   "id": "2f015815",
   "metadata": {
    "ExecuteTime": {
     "end_time": "2022-02-10T06:25:44.389442Z",
     "start_time": "2022-02-10T06:25:39.644436Z"
    },
    "execution": {
     "iopub.execute_input": "2024-01-24T10:04:46.980430Z",
     "iopub.status.busy": "2024-01-24T10:04:46.980242Z",
     "iopub.status.idle": "2024-01-24T10:04:48.879027Z",
     "shell.execute_reply": "2024-01-24T10:04:48.877121Z",
     "shell.execute_reply.started": "2024-01-24T10:04:46.980414Z"
    }
   },
   "outputs": [],
   "source": [
    "def sub_f(x):\n",
    "    if x == 'nan':\n",
    "        return np.nan\n",
    "    else:\n",
    "        x_togroup = re.search(\"\\d+(\\.\\d+)?\",x)\n",
    "        if x_togroup == None:\n",
    "            return np.nan\n",
    "        else:\n",
    "            return x_togroup.group()\n",
    "\n",
    "\n",
    "lab_bc_1stday['RESULT'] = lab_bc_1stday['RESULT'].astype(str).apply(sub_f).astype(float)"
   ]
  },
  {
   "cell_type": "code",
   "execution_count": 163,
   "id": "2eb402ba",
   "metadata": {
    "ExecuteTime": {
     "end_time": "2022-02-10T06:27:14.095534Z",
     "start_time": "2022-02-10T06:27:13.900537Z"
    },
    "execution": {
     "iopub.execute_input": "2024-01-24T11:11:42.626089Z",
     "iopub.status.busy": "2024-01-24T11:11:42.625561Z",
     "iopub.status.idle": "2024-01-24T11:11:42.782721Z",
     "shell.execute_reply": "2024-01-24T11:11:42.781567Z",
     "shell.execute_reply.started": "2024-01-24T11:11:42.626041Z"
    },
    "tags": []
   },
   "outputs": [
    {
     "data": {
      "text/plain": [
       "30～45s    30175\n",
       "Name: PRINT_CONTEXT, dtype: int64"
      ]
     },
     "execution_count": 163,
     "metadata": {},
     "output_type": "execute_result"
    }
   ],
   "source": [
    "lab_bc_1stday[(lab_bc_1stday['LABEL'] == 'APPT')].PRINT_CONTEXT.value_counts()"
   ]
  },
  {
   "cell_type": "code",
   "execution_count": 59,
   "id": "ddaf13a3",
   "metadata": {
    "ExecuteTime": {
     "end_time": "2022-02-10T06:40:28.350780Z",
     "start_time": "2022-02-10T06:40:28.339780Z"
    },
    "execution": {
     "iopub.execute_input": "2024-01-24T10:04:49.002998Z",
     "iopub.status.busy": "2024-01-24T10:04:49.002844Z",
     "iopub.status.idle": "2024-01-24T10:04:49.006289Z",
     "shell.execute_reply": "2024-01-24T10:04:49.005906Z",
     "shell.execute_reply.started": "2024-01-24T10:04:49.002983Z"
    }
   },
   "outputs": [],
   "source": [
    "def blood_def_clean(df):\n",
    "    if df['LABEL'] in ['bands','LYN','basophil','monocytes','eosinophil'] and (df['RESULT']>=1 or df['RESULT']<0):\n",
    "        return np.nan    \n",
    "    else:\n",
    "        return df['RESULT']"
   ]
  },
  {
   "cell_type": "code",
   "execution_count": 60,
   "id": "eed68ef4",
   "metadata": {
    "ExecuteTime": {
     "end_time": "2022-02-10T06:42:57.938966Z",
     "start_time": "2022-02-10T06:41:56.172966Z"
    },
    "execution": {
     "iopub.execute_input": "2024-01-24T10:04:49.006954Z",
     "iopub.status.busy": "2024-01-24T10:04:49.006808Z",
     "iopub.status.idle": "2024-01-24T10:05:07.787488Z",
     "shell.execute_reply": "2024-01-24T10:05:07.786131Z",
     "shell.execute_reply.started": "2024-01-24T10:04:49.006940Z"
    }
   },
   "outputs": [],
   "source": [
    "lab_bc_1stday['RESULT'] = lab_bc_1stday.apply(blood_def_clean,axis = 1)"
   ]
  },
  {
   "cell_type": "code",
   "execution_count": 61,
   "id": "34df8e1b",
   "metadata": {
    "ExecuteTime": {
     "end_time": "2022-02-10T06:43:14.092593Z",
     "start_time": "2022-02-10T06:43:13.837585Z"
    },
    "execution": {
     "iopub.execute_input": "2024-01-24T10:05:07.795536Z",
     "iopub.status.busy": "2024-01-24T10:05:07.795336Z",
     "iopub.status.idle": "2024-01-24T10:05:07.888632Z",
     "shell.execute_reply": "2024-01-24T10:05:07.887912Z",
     "shell.execute_reply.started": "2024-01-24T10:05:07.795520Z"
    }
   },
   "outputs": [],
   "source": [
    "lab_count = lab_bc_1stday.LABEL.value_counts()"
   ]
  },
  {
   "cell_type": "code",
   "execution_count": 62,
   "id": "ac949e1e",
   "metadata": {
    "ExecuteTime": {
     "end_time": "2022-02-10T06:43:47.625529Z",
     "start_time": "2022-02-10T06:43:47.165523Z"
    },
    "execution": {
     "iopub.execute_input": "2024-01-24T10:05:07.889377Z",
     "iopub.status.busy": "2024-01-24T10:05:07.889223Z",
     "iopub.status.idle": "2024-01-24T10:05:08.068686Z",
     "shell.execute_reply": "2024-01-24T10:05:08.067287Z",
     "shell.execute_reply.started": "2024-01-24T10:05:07.889363Z"
    }
   },
   "outputs": [],
   "source": [
    "lab_bc_sel = lab_bc_1stday[lab_bc_1stday.LABEL.isin(lab_count.head(47).index.to_list())]"
   ]
  },
  {
   "cell_type": "code",
   "execution_count": 63,
   "id": "11362fff",
   "metadata": {
    "ExecuteTime": {
     "end_time": "2022-02-10T06:45:37.818729Z",
     "start_time": "2022-02-10T06:45:36.101728Z"
    },
    "execution": {
     "iopub.execute_input": "2024-01-24T10:05:08.069707Z",
     "iopub.status.busy": "2024-01-24T10:05:08.069524Z",
     "iopub.status.idle": "2024-01-24T10:05:09.065372Z",
     "shell.execute_reply": "2024-01-24T10:05:09.064374Z",
     "shell.execute_reply.started": "2024-01-24T10:05:08.069691Z"
    }
   },
   "outputs": [],
   "source": [
    "lab_bc_sel = lab_bc_sel[['PATIENT_ID', 'TF_ADMISSION_DATE_TIME', \n",
    "       'REQUESTED_DATE_TIME',  'LABEL','RESULT']].drop_duplicates().dropna()"
   ]
  },
  {
   "cell_type": "code",
   "execution_count": 64,
   "id": "3514e0de",
   "metadata": {
    "ExecuteTime": {
     "end_time": "2022-02-10T07:21:00.928066Z",
     "start_time": "2022-02-10T06:45:44.427254Z"
    },
    "execution": {
     "iopub.execute_input": "2024-01-24T10:05:09.066446Z",
     "iopub.status.busy": "2024-01-24T10:05:09.066249Z",
     "iopub.status.idle": "2024-01-24T10:21:46.408619Z",
     "shell.execute_reply": "2024-01-24T10:21:46.407578Z",
     "shell.execute_reply.started": "2024-01-24T10:05:09.066430Z"
    }
   },
   "outputs": [],
   "source": [
    "lab_bc_sel_1st = lab_bc_sel.groupby(['PATIENT_ID','TF_ADMISSION_DATE_TIME','LABEL']).apply(lambda x: x.sort_values(['REQUESTED_DATE_TIME'],ascending = True).head(1))"
   ]
  },
  {
   "cell_type": "code",
   "execution_count": 65,
   "id": "d4463a4c",
   "metadata": {
    "ExecuteTime": {
     "end_time": "2022-02-10T07:21:00.958063Z",
     "start_time": "2022-02-10T07:21:00.931062Z"
    },
    "execution": {
     "iopub.execute_input": "2024-01-24T10:21:46.409972Z",
     "iopub.status.busy": "2024-01-24T10:21:46.409754Z",
     "iopub.status.idle": "2024-01-24T10:21:46.434079Z",
     "shell.execute_reply": "2024-01-24T10:21:46.432855Z",
     "shell.execute_reply.started": "2024-01-24T10:21:46.409954Z"
    }
   },
   "outputs": [],
   "source": [
    "lab_1st = lab_bc_sel_1st.reset_index(drop = True)"
   ]
  },
  {
   "cell_type": "code",
   "execution_count": 66,
   "id": "4eacb05d",
   "metadata": {
    "ExecuteTime": {
     "end_time": "2022-02-10T07:21:01.004070Z",
     "start_time": "2022-02-10T07:21:00.960063Z"
    },
    "execution": {
     "iopub.execute_input": "2024-01-24T10:21:46.434961Z",
     "iopub.status.busy": "2024-01-24T10:21:46.434774Z",
     "iopub.status.idle": "2024-01-24T10:21:46.445609Z",
     "shell.execute_reply": "2024-01-24T10:21:46.445201Z",
     "shell.execute_reply.started": "2024-01-24T10:21:46.434946Z"
    }
   },
   "outputs": [],
   "source": [
    "lab_1st.drop(columns = ['REQUESTED_DATE_TIME'],inplace = True)"
   ]
  },
  {
   "cell_type": "code",
   "execution_count": 67,
   "id": "159cfecc",
   "metadata": {
    "ExecuteTime": {
     "end_time": "2022-02-10T07:21:01.020068Z",
     "start_time": "2022-02-10T07:21:01.007063Z"
    },
    "execution": {
     "iopub.execute_input": "2024-01-24T10:21:46.446389Z",
     "iopub.status.busy": "2024-01-24T10:21:46.446230Z",
     "iopub.status.idle": "2024-01-24T10:21:46.449250Z",
     "shell.execute_reply": "2024-01-24T10:21:46.448463Z",
     "shell.execute_reply.started": "2024-01-24T10:21:46.446374Z"
    }
   },
   "outputs": [],
   "source": [
    "#lab_1st[lab_1st['PATIENT_ID'] =='S118067120'].set_index(['PATIENT_ID','TF_ADMISSION_DATE_TIME','LABEL']).unstack()"
   ]
  },
  {
   "cell_type": "code",
   "execution_count": 68,
   "id": "b86c45da",
   "metadata": {
    "ExecuteTime": {
     "end_time": "2022-02-10T07:21:01.446066Z",
     "start_time": "2022-02-10T07:21:01.023063Z"
    },
    "execution": {
     "iopub.execute_input": "2024-01-24T10:21:46.449934Z",
     "iopub.status.busy": "2024-01-24T10:21:46.449785Z",
     "iopub.status.idle": "2024-01-24T10:21:46.613964Z",
     "shell.execute_reply": "2024-01-24T10:21:46.612855Z",
     "shell.execute_reply.started": "2024-01-24T10:21:46.449920Z"
    }
   },
   "outputs": [],
   "source": [
    "lab_1st = lab_1st.set_index(['PATIENT_ID','TF_ADMISSION_DATE_TIME','LABEL']).unstack()"
   ]
  },
  {
   "cell_type": "code",
   "execution_count": 69,
   "id": "6409e970",
   "metadata": {
    "ExecuteTime": {
     "end_time": "2022-02-10T07:21:01.462067Z",
     "start_time": "2022-02-10T07:21:01.448065Z"
    },
    "execution": {
     "iopub.execute_input": "2024-01-24T10:21:46.614942Z",
     "iopub.status.busy": "2024-01-24T10:21:46.614755Z",
     "iopub.status.idle": "2024-01-24T10:21:46.621386Z",
     "shell.execute_reply": "2024-01-24T10:21:46.620792Z",
     "shell.execute_reply.started": "2024-01-24T10:21:46.614926Z"
    }
   },
   "outputs": [],
   "source": [
    "lab_name = []\n",
    "for i in lab_1st.reset_index().columns.to_list()[2:]:\n",
    "    lab_name.append(i[1])"
   ]
  },
  {
   "cell_type": "code",
   "execution_count": 70,
   "id": "29a1723f",
   "metadata": {
    "ExecuteTime": {
     "end_time": "2022-02-10T07:21:01.494069Z",
     "start_time": "2022-02-10T07:21:01.465062Z"
    },
    "execution": {
     "iopub.execute_input": "2024-01-24T10:21:46.622215Z",
     "iopub.status.busy": "2024-01-24T10:21:46.622063Z",
     "iopub.status.idle": "2024-01-24T10:21:46.630060Z",
     "shell.execute_reply": "2024-01-24T10:21:46.629700Z",
     "shell.execute_reply.started": "2024-01-24T10:21:46.622201Z"
    }
   },
   "outputs": [],
   "source": [
    "lab_name.insert(0,lab_1st.reset_index().columns.to_list()[0][0])\n",
    "lab_name.insert(1,lab_1st.reset_index().columns.to_list()[1][0])"
   ]
  },
  {
   "cell_type": "code",
   "execution_count": 71,
   "id": "e342d654",
   "metadata": {
    "ExecuteTime": {
     "end_time": "2022-02-10T07:21:01.542068Z",
     "start_time": "2022-02-10T07:21:01.497063Z"
    },
    "execution": {
     "iopub.execute_input": "2024-01-24T10:21:46.630738Z",
     "iopub.status.busy": "2024-01-24T10:21:46.630588Z",
     "iopub.status.idle": "2024-01-24T10:21:46.635131Z",
     "shell.execute_reply": "2024-01-24T10:21:46.634785Z",
     "shell.execute_reply.started": "2024-01-24T10:21:46.630724Z"
    }
   },
   "outputs": [],
   "source": [
    "lab_1st_re = lab_1st.reset_index()"
   ]
  },
  {
   "cell_type": "code",
   "execution_count": 72,
   "id": "61c7db73",
   "metadata": {
    "ExecuteTime": {
     "end_time": "2022-02-10T07:21:01.558068Z",
     "start_time": "2022-02-10T07:21:01.545063Z"
    },
    "execution": {
     "iopub.execute_input": "2024-01-24T10:21:46.635810Z",
     "iopub.status.busy": "2024-01-24T10:21:46.635661Z",
     "iopub.status.idle": "2024-01-24T10:21:46.638217Z",
     "shell.execute_reply": "2024-01-24T10:21:46.637799Z",
     "shell.execute_reply.started": "2024-01-24T10:21:46.635797Z"
    }
   },
   "outputs": [],
   "source": [
    "lab_1st_re.columns = lab_name"
   ]
  },
  {
   "cell_type": "code",
   "execution_count": 73,
   "id": "30a7d376",
   "metadata": {
    "ExecuteTime": {
     "end_time": "2022-02-10T07:21:01.573066Z",
     "start_time": "2022-02-10T07:21:01.561063Z"
    },
    "execution": {
     "iopub.execute_input": "2024-01-24T10:21:46.638878Z",
     "iopub.status.busy": "2024-01-24T10:21:46.638730Z",
     "iopub.status.idle": "2024-01-24T10:21:46.641025Z",
     "shell.execute_reply": "2024-01-24T10:21:46.640618Z",
     "shell.execute_reply.started": "2024-01-24T10:21:46.638864Z"
    }
   },
   "outputs": [],
   "source": [
    "#lab_1st_re[lab_1st_re['C-反应蛋白测定'].str.contains(r'[^((0-9)|\\.)]')]"
   ]
  },
  {
   "cell_type": "code",
   "execution_count": 74,
   "id": "9651c696",
   "metadata": {
    "ExecuteTime": {
     "end_time": "2022-02-10T07:21:01.589063Z",
     "start_time": "2022-02-10T07:21:01.576062Z"
    },
    "execution": {
     "iopub.execute_input": "2024-01-24T10:21:46.641687Z",
     "iopub.status.busy": "2024-01-24T10:21:46.641538Z",
     "iopub.status.idle": "2024-01-24T10:21:46.644342Z",
     "shell.execute_reply": "2024-01-24T10:21:46.643999Z",
     "shell.execute_reply.started": "2024-01-24T10:21:46.641674Z"
    }
   },
   "outputs": [],
   "source": [
    "lab_1st_re_re = lab_1st_re.copy()"
   ]
  },
  {
   "cell_type": "code",
   "execution_count": 75,
   "id": "4fb32161",
   "metadata": {
    "ExecuteTime": {
     "end_time": "2022-02-10T07:21:01.605063Z",
     "start_time": "2022-02-10T07:21:01.592064Z"
    },
    "execution": {
     "iopub.execute_input": "2024-01-24T10:21:46.644991Z",
     "iopub.status.busy": "2024-01-24T10:21:46.644844Z",
     "iopub.status.idle": "2024-01-24T10:21:46.648430Z",
     "shell.execute_reply": "2024-01-24T10:21:46.648093Z",
     "shell.execute_reply.started": "2024-01-24T10:21:46.644977Z"
    }
   },
   "outputs": [
    {
     "data": {
      "text/plain": [
       "Index(['PATIENT_ID', 'TF_ADMISSION_DATE_TIME', 'ALP', 'ALT', 'APPT', 'AST',\n",
       "       'BNP', 'CRP', 'D_dimer', 'IL_6', 'INR', 'LYN', 'PA', 'PCT', 'PT', 'PTT',\n",
       "       'albumin', 'amylase', 'bands', 'basophil', 'bilirubin',\n",
       "       'bilirubin_direct', 'ca', 'chloride', 'ck', 'ck_mb', 'creatinine',\n",
       "       'eosinophil', 'fibrinogen', 'gamma_GT', 'glucose', 'hct_pcv',\n",
       "       'hemoglobin', 'lipase', 'mb', 'mch', 'mchc', 'mcv', 'mg', 'monocytes',\n",
       "       'mpv', 'p', 'platelet', 'potassium', 'rbc', 'rdw', 'sodium', 'urea',\n",
       "       'wbc'],\n",
       "      dtype='object')"
      ]
     },
     "execution_count": 75,
     "metadata": {},
     "output_type": "execute_result"
    }
   ],
   "source": [
    "lab_1st_re_re.columns"
   ]
  },
  {
   "cell_type": "code",
   "execution_count": 76,
   "id": "cf23d834",
   "metadata": {
    "ExecuteTime": {
     "end_time": "2022-02-10T07:25:56.514768Z",
     "start_time": "2022-02-10T07:25:56.475768Z"
    },
    "execution": {
     "iopub.execute_input": "2024-01-24T10:21:46.649205Z",
     "iopub.status.busy": "2024-01-24T10:21:46.648934Z",
     "iopub.status.idle": "2024-01-24T10:21:46.662718Z",
     "shell.execute_reply": "2024-01-24T10:21:46.662312Z",
     "shell.execute_reply.started": "2024-01-24T10:21:46.649190Z"
    }
   },
   "outputs": [],
   "source": [
    "lab_ = pd.merge(final_cohort[['PATIENT_ID','TF_ADMISSION_DATE_TIME']],lab_1st_re_re, how = 'left', on = ['PATIENT_ID','TF_ADMISSION_DATE_TIME'])"
   ]
  },
  {
   "cell_type": "code",
   "execution_count": 77,
   "id": "f236c96d",
   "metadata": {
    "ExecuteTime": {
     "end_time": "2022-02-10T07:25:57.923767Z",
     "start_time": "2022-02-10T07:25:57.852769Z"
    },
    "execution": {
     "iopub.execute_input": "2024-01-24T10:21:46.663494Z",
     "iopub.status.busy": "2024-01-24T10:21:46.663274Z",
     "iopub.status.idle": "2024-01-24T10:21:46.683625Z",
     "shell.execute_reply": "2024-01-24T10:21:46.683189Z",
     "shell.execute_reply.started": "2024-01-24T10:21:46.663480Z"
    }
   },
   "outputs": [],
   "source": [
    "lab_ = lab_.drop_duplicates()"
   ]
  },
  {
   "cell_type": "code",
   "execution_count": 78,
   "id": "d4d832b1",
   "metadata": {
    "ExecuteTime": {
     "end_time": "2022-02-10T07:25:58.555768Z",
     "start_time": "2022-02-10T07:25:58.540769Z"
    },
    "execution": {
     "iopub.execute_input": "2024-01-24T10:21:46.684338Z",
     "iopub.status.busy": "2024-01-24T10:21:46.684192Z",
     "iopub.status.idle": "2024-01-24T10:21:46.687889Z",
     "shell.execute_reply": "2024-01-24T10:21:46.687374Z",
     "shell.execute_reply.started": "2024-01-24T10:21:46.684325Z"
    }
   },
   "outputs": [],
   "source": [
    "def lookup_miss(df):\n",
    "    nadf = pd.DataFrame(columns=['nan_nums','nan_ratios'])\n",
    "    for i in df.columns:\n",
    "        nadf.loc[i,'nan_nums'] = pd.isna(df[i]).sum()\n",
    "        nadf.loc[i,'nan_ratios'] = (nadf.loc[i,'nan_nums']/df.shape[0])*100\n",
    "    return nadf.sort_values(by = 'nan_ratios', ascending = False)"
   ]
  },
  {
   "cell_type": "code",
   "execution_count": 79,
   "id": "d2d47ce9",
   "metadata": {
    "ExecuteTime": {
     "end_time": "2022-02-10T07:26:14.397768Z",
     "start_time": "2022-02-10T07:26:14.311768Z"
    },
    "execution": {
     "iopub.execute_input": "2024-01-24T10:21:46.688590Z",
     "iopub.status.busy": "2024-01-24T10:21:46.688442Z",
     "iopub.status.idle": "2024-01-24T10:21:46.720923Z",
     "shell.execute_reply": "2024-01-24T10:21:46.720546Z",
     "shell.execute_reply.started": "2024-01-24T10:21:46.688577Z"
    }
   },
   "outputs": [
    {
     "data": {
      "text/html": [
       "<div>\n",
       "<style scoped>\n",
       "    .dataframe tbody tr th:only-of-type {\n",
       "        vertical-align: middle;\n",
       "    }\n",
       "\n",
       "    .dataframe tbody tr th {\n",
       "        vertical-align: top;\n",
       "    }\n",
       "\n",
       "    .dataframe thead th {\n",
       "        text-align: right;\n",
       "    }\n",
       "</style>\n",
       "<table border=\"1\" class=\"dataframe\">\n",
       "  <thead>\n",
       "    <tr style=\"text-align: right;\">\n",
       "      <th></th>\n",
       "      <th>nan_nums</th>\n",
       "      <th>nan_ratios</th>\n",
       "    </tr>\n",
       "  </thead>\n",
       "  <tbody>\n",
       "    <tr>\n",
       "      <th>IL_6</th>\n",
       "      <td>5560</td>\n",
       "      <td>41.594973</td>\n",
       "    </tr>\n",
       "    <tr>\n",
       "      <th>PCT</th>\n",
       "      <td>4809</td>\n",
       "      <td>35.976659</td>\n",
       "    </tr>\n",
       "    <tr>\n",
       "      <th>BNP</th>\n",
       "      <td>2805</td>\n",
       "      <td>20.984514</td>\n",
       "    </tr>\n",
       "    <tr>\n",
       "      <th>lipase</th>\n",
       "      <td>2738</td>\n",
       "      <td>20.48328</td>\n",
       "    </tr>\n",
       "    <tr>\n",
       "      <th>amylase</th>\n",
       "      <td>2685</td>\n",
       "      <td>20.086781</td>\n",
       "    </tr>\n",
       "    <tr>\n",
       "      <th>D_dimer</th>\n",
       "      <td>2601</td>\n",
       "      <td>19.458368</td>\n",
       "    </tr>\n",
       "    <tr>\n",
       "      <th>ALP</th>\n",
       "      <td>2212</td>\n",
       "      <td>16.548216</td>\n",
       "    </tr>\n",
       "    <tr>\n",
       "      <th>gamma_GT</th>\n",
       "      <td>2188</td>\n",
       "      <td>16.368669</td>\n",
       "    </tr>\n",
       "    <tr>\n",
       "      <th>mb</th>\n",
       "      <td>2119</td>\n",
       "      <td>15.852473</td>\n",
       "    </tr>\n",
       "    <tr>\n",
       "      <th>p</th>\n",
       "      <td>2053</td>\n",
       "      <td>15.358719</td>\n",
       "    </tr>\n",
       "    <tr>\n",
       "      <th>mg</th>\n",
       "      <td>2050</td>\n",
       "      <td>15.336276</td>\n",
       "    </tr>\n",
       "    <tr>\n",
       "      <th>CRP</th>\n",
       "      <td>1667</td>\n",
       "      <td>12.471011</td>\n",
       "    </tr>\n",
       "    <tr>\n",
       "      <th>ck_mb</th>\n",
       "      <td>955</td>\n",
       "      <td>7.14446</td>\n",
       "    </tr>\n",
       "    <tr>\n",
       "      <th>ck</th>\n",
       "      <td>840</td>\n",
       "      <td>6.284133</td>\n",
       "    </tr>\n",
       "    <tr>\n",
       "      <th>glucose</th>\n",
       "      <td>550</td>\n",
       "      <td>4.114611</td>\n",
       "    </tr>\n",
       "    <tr>\n",
       "      <th>PTT</th>\n",
       "      <td>376</td>\n",
       "      <td>2.812897</td>\n",
       "    </tr>\n",
       "    <tr>\n",
       "      <th>APPT</th>\n",
       "      <td>376</td>\n",
       "      <td>2.812897</td>\n",
       "    </tr>\n",
       "    <tr>\n",
       "      <th>PT</th>\n",
       "      <td>371</td>\n",
       "      <td>2.775492</td>\n",
       "    </tr>\n",
       "    <tr>\n",
       "      <th>PA</th>\n",
       "      <td>371</td>\n",
       "      <td>2.775492</td>\n",
       "    </tr>\n",
       "    <tr>\n",
       "      <th>fibrinogen</th>\n",
       "      <td>371</td>\n",
       "      <td>2.775492</td>\n",
       "    </tr>\n",
       "    <tr>\n",
       "      <th>INR</th>\n",
       "      <td>371</td>\n",
       "      <td>2.775492</td>\n",
       "    </tr>\n",
       "    <tr>\n",
       "      <th>mpv</th>\n",
       "      <td>223</td>\n",
       "      <td>1.668288</td>\n",
       "    </tr>\n",
       "    <tr>\n",
       "      <th>bilirubin_direct</th>\n",
       "      <td>197</td>\n",
       "      <td>1.473779</td>\n",
       "    </tr>\n",
       "    <tr>\n",
       "      <th>bilirubin</th>\n",
       "      <td>193</td>\n",
       "      <td>1.443854</td>\n",
       "    </tr>\n",
       "    <tr>\n",
       "      <th>ca</th>\n",
       "      <td>99</td>\n",
       "      <td>0.74063</td>\n",
       "    </tr>\n",
       "    <tr>\n",
       "      <th>AST</th>\n",
       "      <td>57</td>\n",
       "      <td>0.426423</td>\n",
       "    </tr>\n",
       "    <tr>\n",
       "      <th>albumin</th>\n",
       "      <td>55</td>\n",
       "      <td>0.411461</td>\n",
       "    </tr>\n",
       "    <tr>\n",
       "      <th>ALT</th>\n",
       "      <td>49</td>\n",
       "      <td>0.366574</td>\n",
       "    </tr>\n",
       "    <tr>\n",
       "      <th>chloride</th>\n",
       "      <td>46</td>\n",
       "      <td>0.344131</td>\n",
       "    </tr>\n",
       "    <tr>\n",
       "      <th>urea</th>\n",
       "      <td>45</td>\n",
       "      <td>0.33665</td>\n",
       "    </tr>\n",
       "    <tr>\n",
       "      <th>creatinine</th>\n",
       "      <td>40</td>\n",
       "      <td>0.299244</td>\n",
       "    </tr>\n",
       "    <tr>\n",
       "      <th>bands</th>\n",
       "      <td>40</td>\n",
       "      <td>0.299244</td>\n",
       "    </tr>\n",
       "    <tr>\n",
       "      <th>LYN</th>\n",
       "      <td>40</td>\n",
       "      <td>0.299244</td>\n",
       "    </tr>\n",
       "    <tr>\n",
       "      <th>monocytes</th>\n",
       "      <td>40</td>\n",
       "      <td>0.299244</td>\n",
       "    </tr>\n",
       "    <tr>\n",
       "      <th>eosinophil</th>\n",
       "      <td>39</td>\n",
       "      <td>0.291763</td>\n",
       "    </tr>\n",
       "    <tr>\n",
       "      <th>basophil</th>\n",
       "      <td>38</td>\n",
       "      <td>0.284282</td>\n",
       "    </tr>\n",
       "    <tr>\n",
       "      <th>sodium</th>\n",
       "      <td>33</td>\n",
       "      <td>0.246877</td>\n",
       "    </tr>\n",
       "    <tr>\n",
       "      <th>rdw</th>\n",
       "      <td>31</td>\n",
       "      <td>0.231914</td>\n",
       "    </tr>\n",
       "    <tr>\n",
       "      <th>potassium</th>\n",
       "      <td>31</td>\n",
       "      <td>0.231914</td>\n",
       "    </tr>\n",
       "    <tr>\n",
       "      <th>rbc</th>\n",
       "      <td>25</td>\n",
       "      <td>0.187028</td>\n",
       "    </tr>\n",
       "    <tr>\n",
       "      <th>platelet</th>\n",
       "      <td>25</td>\n",
       "      <td>0.187028</td>\n",
       "    </tr>\n",
       "    <tr>\n",
       "      <th>wbc</th>\n",
       "      <td>25</td>\n",
       "      <td>0.187028</td>\n",
       "    </tr>\n",
       "    <tr>\n",
       "      <th>mcv</th>\n",
       "      <td>25</td>\n",
       "      <td>0.187028</td>\n",
       "    </tr>\n",
       "    <tr>\n",
       "      <th>mchc</th>\n",
       "      <td>25</td>\n",
       "      <td>0.187028</td>\n",
       "    </tr>\n",
       "    <tr>\n",
       "      <th>mch</th>\n",
       "      <td>25</td>\n",
       "      <td>0.187028</td>\n",
       "    </tr>\n",
       "    <tr>\n",
       "      <th>hemoglobin</th>\n",
       "      <td>25</td>\n",
       "      <td>0.187028</td>\n",
       "    </tr>\n",
       "    <tr>\n",
       "      <th>hct_pcv</th>\n",
       "      <td>25</td>\n",
       "      <td>0.187028</td>\n",
       "    </tr>\n",
       "    <tr>\n",
       "      <th>TF_ADMISSION_DATE_TIME</th>\n",
       "      <td>0</td>\n",
       "      <td>0.0</td>\n",
       "    </tr>\n",
       "    <tr>\n",
       "      <th>PATIENT_ID</th>\n",
       "      <td>0</td>\n",
       "      <td>0.0</td>\n",
       "    </tr>\n",
       "  </tbody>\n",
       "</table>\n",
       "</div>"
      ],
      "text/plain": [
       "                       nan_nums nan_ratios\n",
       "IL_6                       5560  41.594973\n",
       "PCT                        4809  35.976659\n",
       "BNP                        2805  20.984514\n",
       "lipase                     2738   20.48328\n",
       "amylase                    2685  20.086781\n",
       "D_dimer                    2601  19.458368\n",
       "ALP                        2212  16.548216\n",
       "gamma_GT                   2188  16.368669\n",
       "mb                         2119  15.852473\n",
       "p                          2053  15.358719\n",
       "mg                         2050  15.336276\n",
       "CRP                        1667  12.471011\n",
       "ck_mb                       955    7.14446\n",
       "ck                          840   6.284133\n",
       "glucose                     550   4.114611\n",
       "PTT                         376   2.812897\n",
       "APPT                        376   2.812897\n",
       "PT                          371   2.775492\n",
       "PA                          371   2.775492\n",
       "fibrinogen                  371   2.775492\n",
       "INR                         371   2.775492\n",
       "mpv                         223   1.668288\n",
       "bilirubin_direct            197   1.473779\n",
       "bilirubin                   193   1.443854\n",
       "ca                           99    0.74063\n",
       "AST                          57   0.426423\n",
       "albumin                      55   0.411461\n",
       "ALT                          49   0.366574\n",
       "chloride                     46   0.344131\n",
       "urea                         45    0.33665\n",
       "creatinine                   40   0.299244\n",
       "bands                        40   0.299244\n",
       "LYN                          40   0.299244\n",
       "monocytes                    40   0.299244\n",
       "eosinophil                   39   0.291763\n",
       "basophil                     38   0.284282\n",
       "sodium                       33   0.246877\n",
       "rdw                          31   0.231914\n",
       "potassium                    31   0.231914\n",
       "rbc                          25   0.187028\n",
       "platelet                     25   0.187028\n",
       "wbc                          25   0.187028\n",
       "mcv                          25   0.187028\n",
       "mchc                         25   0.187028\n",
       "mch                          25   0.187028\n",
       "hemoglobin                   25   0.187028\n",
       "hct_pcv                      25   0.187028\n",
       "TF_ADMISSION_DATE_TIME        0        0.0\n",
       "PATIENT_ID                    0        0.0"
      ]
     },
     "execution_count": 79,
     "metadata": {},
     "output_type": "execute_result"
    }
   ],
   "source": [
    "lookup_miss(lab_)"
   ]
  },
  {
   "cell_type": "markdown",
   "id": "518638e0",
   "metadata": {},
   "source": [
    "# 生命体征"
   ]
  },
  {
   "cell_type": "code",
   "execution_count": 80,
   "id": "d6de1af1",
   "metadata": {
    "ExecuteTime": {
     "end_time": "2022-02-10T05:16:08.743568Z",
     "start_time": "2022-02-10T05:16:04.630563Z"
    },
    "execution": {
     "iopub.execute_input": "2024-01-24T10:21:46.721607Z",
     "iopub.status.busy": "2024-01-24T10:21:46.721458Z",
     "iopub.status.idle": "2024-01-24T10:21:48.485372Z",
     "shell.execute_reply": "2024-01-24T10:21:48.484673Z",
     "shell.execute_reply.started": "2024-01-24T10:21:46.721594Z"
    },
    "scrolled": true
   },
   "outputs": [
    {
     "data": {
      "text/plain": [
       "脉搏        7531180\n",
       "呼吸        7441956\n",
       "血压high    5205382\n",
       "血压Low     5205148\n",
       "体温        4782497\n",
       "血氧        3293086\n",
       "血糖        1616049\n",
       "尿量         701005\n",
       "总入量        677114\n",
       "心率         202266\n",
       "Name: VITAL_SIGNS, dtype: int64"
      ]
     },
     "execution_count": 80,
     "metadata": {},
     "output_type": "execute_result"
    }
   ],
   "source": [
    "vitals.VITAL_SIGNS.value_counts()[0:20]"
   ]
  },
  {
   "cell_type": "code",
   "execution_count": 81,
   "id": "fcb83048",
   "metadata": {
    "ExecuteTime": {
     "end_time": "2022-02-10T05:16:55.754564Z",
     "start_time": "2022-02-10T05:16:08.746565Z"
    },
    "execution": {
     "iopub.execute_input": "2024-01-24T10:21:48.486116Z",
     "iopub.status.busy": "2024-01-24T10:21:48.485968Z",
     "iopub.status.idle": "2024-01-24T10:22:14.258822Z",
     "shell.execute_reply": "2024-01-24T10:22:14.257137Z",
     "shell.execute_reply.started": "2024-01-24T10:21:48.486103Z"
    },
    "scrolled": true
   },
   "outputs": [],
   "source": [
    "vitals = vitals[vitals.VITAL_SIGNS.isin(['脉搏','呼吸','血压high','血压Low','血氧','体温','血糖','心率'])].\\\n",
    "drop_duplicates().dropna(axis = 0,subset = ['VITAL_SIGNS_VALUES'])"
   ]
  },
  {
   "cell_type": "code",
   "execution_count": 82,
   "id": "49db4d00",
   "metadata": {
    "ExecuteTime": {
     "end_time": "2022-02-10T05:17:08.827562Z",
     "start_time": "2022-02-10T05:16:55.756564Z"
    },
    "execution": {
     "iopub.execute_input": "2024-01-24T10:22:14.260096Z",
     "iopub.status.busy": "2024-01-24T10:22:14.259893Z",
     "iopub.status.idle": "2024-01-24T10:22:23.659381Z",
     "shell.execute_reply": "2024-01-24T10:22:23.658504Z",
     "shell.execute_reply.started": "2024-01-24T10:22:14.260077Z"
    }
   },
   "outputs": [],
   "source": [
    "vitals_bc = pd.merge(final_cohort[['PATIENT_ID','VISIT_ID','TF_ADMISSION_DATE_TIME']],vitals,how = 'left', on = ['PATIENT_ID','VISIT_ID'])"
   ]
  },
  {
   "cell_type": "code",
   "execution_count": 83,
   "id": "2b6de041",
   "metadata": {
    "ExecuteTime": {
     "end_time": "2022-02-10T05:39:25.957742Z",
     "start_time": "2022-02-10T05:17:08.861562Z"
    },
    "execution": {
     "iopub.execute_input": "2024-01-24T10:22:23.660353Z",
     "iopub.status.busy": "2024-01-24T10:22:23.660167Z",
     "iopub.status.idle": "2024-01-24T10:30:30.533680Z",
     "shell.execute_reply": "2024-01-24T10:30:30.532252Z",
     "shell.execute_reply.started": "2024-01-24T10:22:23.660338Z"
    }
   },
   "outputs": [],
   "source": [
    "vitals_bc['TIME_POINT'] = vitals_bc['TIME_POINT'].apply(trans_time)"
   ]
  },
  {
   "cell_type": "code",
   "execution_count": 84,
   "id": "e84692a3",
   "metadata": {
    "ExecuteTime": {
     "end_time": "2022-02-10T05:39:28.554738Z",
     "start_time": "2022-02-10T05:39:25.961739Z"
    },
    "execution": {
     "iopub.execute_input": "2024-01-24T10:30:30.534923Z",
     "iopub.status.busy": "2024-01-24T10:30:30.534725Z",
     "iopub.status.idle": "2024-01-24T10:30:32.248405Z",
     "shell.execute_reply": "2024-01-24T10:30:32.246985Z",
     "shell.execute_reply.started": "2024-01-24T10:30:30.534905Z"
    }
   },
   "outputs": [],
   "source": [
    "vitals_bc_1stday = vitals_bc[((vitals_bc['TIME_POINT'] - vitals_bc['TF_ADMISSION_DATE_TIME']).dt.total_seconds()/3600>=-24)&\\\n",
    "((vitals_bc['TIME_POINT'] - vitals_bc['TF_ADMISSION_DATE_TIME']).dt.total_seconds()/3600<=24)]"
   ]
  },
  {
   "cell_type": "code",
   "execution_count": 85,
   "id": "99d60c41",
   "metadata": {
    "ExecuteTime": {
     "end_time": "2022-02-10T05:39:28.569739Z",
     "start_time": "2022-02-10T05:39:28.556738Z"
    },
    "execution": {
     "iopub.execute_input": "2024-01-24T10:30:32.249523Z",
     "iopub.status.busy": "2024-01-24T10:30:32.249337Z",
     "iopub.status.idle": "2024-01-24T10:30:32.253863Z",
     "shell.execute_reply": "2024-01-24T10:30:32.253466Z",
     "shell.execute_reply.started": "2024-01-24T10:30:32.249507Z"
    }
   },
   "outputs": [
    {
     "data": {
      "text/plain": [
       "Index(['PATIENT_ID', 'VISIT_ID', 'TF_ADMISSION_DATE_TIME', 'RECORDING_DATE',\n",
       "       'TIME_POINT', 'VITAL_SIGNS', 'VITAL_SIGNS_VALUES', 'UNITS'],\n",
       "      dtype='object')"
      ]
     },
     "execution_count": 85,
     "metadata": {},
     "output_type": "execute_result"
    }
   ],
   "source": [
    "vitals_bc_1stday.columns"
   ]
  },
  {
   "cell_type": "code",
   "execution_count": 86,
   "id": "948de862",
   "metadata": {
    "ExecuteTime": {
     "end_time": "2022-02-10T05:39:28.632739Z",
     "start_time": "2022-02-10T05:39:28.571738Z"
    },
    "execution": {
     "iopub.execute_input": "2024-01-24T10:30:32.254737Z",
     "iopub.status.busy": "2024-01-24T10:30:32.254582Z",
     "iopub.status.idle": "2024-01-24T10:30:32.287588Z",
     "shell.execute_reply": "2024-01-24T10:30:32.287093Z",
     "shell.execute_reply.started": "2024-01-24T10:30:32.254723Z"
    }
   },
   "outputs": [],
   "source": [
    "vitals_bc_1stday = vitals_bc_1stday[['PATIENT_ID', 'TF_ADMISSION_DATE_TIME', 'TIME_POINT', 'VITAL_SIGNS', 'VITAL_SIGNS_VALUES']]"
   ]
  },
  {
   "cell_type": "code",
   "execution_count": 87,
   "id": "791b1c41",
   "metadata": {
    "ExecuteTime": {
     "end_time": "2022-02-10T05:44:14.753743Z",
     "start_time": "2022-02-10T05:39:28.634738Z"
    },
    "execution": {
     "iopub.execute_input": "2024-01-24T10:30:32.288427Z",
     "iopub.status.busy": "2024-01-24T10:30:32.288263Z",
     "iopub.status.idle": "2024-01-24T10:32:43.459001Z",
     "shell.execute_reply": "2024-01-24T10:32:43.457747Z",
     "shell.execute_reply.started": "2024-01-24T10:30:32.288413Z"
    }
   },
   "outputs": [],
   "source": [
    "vitals_bc_1stday_1st = vitals_bc_1stday.groupby(['PATIENT_ID','TF_ADMISSION_DATE_TIME', 'VITAL_SIGNS']).apply(lambda x: x.sort_values(['TIME_POINT'],ascending = True).head(1))"
   ]
  },
  {
   "cell_type": "code",
   "execution_count": 88,
   "id": "3c8f29ce",
   "metadata": {
    "ExecuteTime": {
     "end_time": "2022-02-10T05:44:14.769739Z",
     "start_time": "2022-02-10T05:44:14.756744Z"
    },
    "execution": {
     "iopub.execute_input": "2024-01-24T10:32:43.460471Z",
     "iopub.status.busy": "2024-01-24T10:32:43.460254Z",
     "iopub.status.idle": "2024-01-24T10:32:43.467616Z",
     "shell.execute_reply": "2024-01-24T10:32:43.467167Z",
     "shell.execute_reply.started": "2024-01-24T10:32:43.460454Z"
    }
   },
   "outputs": [],
   "source": [
    "vitals_bc_1stday_1st = vitals_bc_1stday_1st.reset_index(drop = True)"
   ]
  },
  {
   "cell_type": "code",
   "execution_count": 89,
   "id": "f2505696",
   "metadata": {
    "ExecuteTime": {
     "end_time": "2022-02-10T05:44:14.865742Z",
     "start_time": "2022-02-10T05:44:14.771739Z"
    },
    "execution": {
     "iopub.execute_input": "2024-01-24T10:32:43.468380Z",
     "iopub.status.busy": "2024-01-24T10:32:43.468229Z",
     "iopub.status.idle": "2024-01-24T10:32:43.499760Z",
     "shell.execute_reply": "2024-01-24T10:32:43.499355Z",
     "shell.execute_reply.started": "2024-01-24T10:32:43.468366Z"
    }
   },
   "outputs": [],
   "source": [
    "vitals_1st = vitals_bc_1stday_1st.drop(columns = ['TIME_POINT']).set_index(['PATIENT_ID','TF_ADMISSION_DATE_TIME','VITAL_SIGNS']).unstack()"
   ]
  },
  {
   "cell_type": "code",
   "execution_count": 90,
   "id": "8d44d0c8",
   "metadata": {
    "ExecuteTime": {
     "end_time": "2022-02-10T05:44:14.881739Z",
     "start_time": "2022-02-10T05:44:14.867739Z"
    },
    "execution": {
     "iopub.execute_input": "2024-01-24T10:32:43.500473Z",
     "iopub.status.busy": "2024-01-24T10:32:43.500325Z",
     "iopub.status.idle": "2024-01-24T10:32:43.505478Z",
     "shell.execute_reply": "2024-01-24T10:32:43.505038Z",
     "shell.execute_reply.started": "2024-01-24T10:32:43.500459Z"
    }
   },
   "outputs": [],
   "source": [
    "vitals_name = []\n",
    "for i in vitals_1st.reset_index().columns.to_list()[2:]:\n",
    "    vitals_name.append(i[1])"
   ]
  },
  {
   "cell_type": "code",
   "execution_count": 91,
   "id": "83657c86",
   "metadata": {
    "ExecuteTime": {
     "end_time": "2022-02-10T05:44:14.897744Z",
     "start_time": "2022-02-10T05:44:14.883739Z"
    },
    "execution": {
     "iopub.execute_input": "2024-01-24T10:32:43.506195Z",
     "iopub.status.busy": "2024-01-24T10:32:43.506045Z",
     "iopub.status.idle": "2024-01-24T10:32:43.512306Z",
     "shell.execute_reply": "2024-01-24T10:32:43.511958Z",
     "shell.execute_reply.started": "2024-01-24T10:32:43.506182Z"
    }
   },
   "outputs": [],
   "source": [
    "vitals_name.insert(0,vitals_1st.reset_index().columns.to_list()[0][0])\n",
    "vitals_name.insert(1,vitals_1st.reset_index().columns.to_list()[1][0])"
   ]
  },
  {
   "cell_type": "code",
   "execution_count": 92,
   "id": "bdf138c7",
   "metadata": {
    "ExecuteTime": {
     "end_time": "2022-02-10T05:44:14.913742Z",
     "start_time": "2022-02-10T05:44:14.899744Z"
    },
    "execution": {
     "iopub.execute_input": "2024-01-24T10:32:43.513195Z",
     "iopub.status.busy": "2024-01-24T10:32:43.512841Z",
     "iopub.status.idle": "2024-01-24T10:32:43.516667Z",
     "shell.execute_reply": "2024-01-24T10:32:43.516320Z",
     "shell.execute_reply.started": "2024-01-24T10:32:43.513168Z"
    }
   },
   "outputs": [],
   "source": [
    "vitals_1st = vitals_1st.reset_index()"
   ]
  },
  {
   "cell_type": "code",
   "execution_count": 93,
   "id": "0d29778a",
   "metadata": {
    "ExecuteTime": {
     "end_time": "2022-02-10T05:44:14.929743Z",
     "start_time": "2022-02-10T05:44:14.916739Z"
    },
    "execution": {
     "iopub.execute_input": "2024-01-24T10:32:43.517492Z",
     "iopub.status.busy": "2024-01-24T10:32:43.517211Z",
     "iopub.status.idle": "2024-01-24T10:32:43.519640Z",
     "shell.execute_reply": "2024-01-24T10:32:43.519288Z",
     "shell.execute_reply.started": "2024-01-24T10:32:43.517478Z"
    }
   },
   "outputs": [],
   "source": [
    "vitals_1st.columns = vitals_name"
   ]
  },
  {
   "cell_type": "code",
   "execution_count": 94,
   "id": "f333146a",
   "metadata": {
    "ExecuteTime": {
     "end_time": "2022-02-10T05:44:14.945739Z",
     "start_time": "2022-02-10T05:44:14.931739Z"
    },
    "execution": {
     "iopub.execute_input": "2024-01-24T10:32:43.520485Z",
     "iopub.status.busy": "2024-01-24T10:32:43.520185Z",
     "iopub.status.idle": "2024-01-24T10:32:43.526131Z",
     "shell.execute_reply": "2024-01-24T10:32:43.525799Z",
     "shell.execute_reply.started": "2024-01-24T10:32:43.520471Z"
    }
   },
   "outputs": [
    {
     "data": {
      "text/plain": [
       "PATIENT_ID                    0\n",
       "TF_ADMISSION_DATE_TIME        0\n",
       "体温                            0\n",
       "呼吸                           28\n",
       "心率                        12958\n",
       "脉搏                            0\n",
       "血压Low                         5\n",
       "血压high                        5\n",
       "血氧                         5762\n",
       "血糖                         8408\n",
       "dtype: int64"
      ]
     },
     "execution_count": 94,
     "metadata": {},
     "output_type": "execute_result"
    }
   ],
   "source": [
    "pd.isna(vitals_1st).sum()"
   ]
  },
  {
   "cell_type": "code",
   "execution_count": 95,
   "id": "e5fcf2df",
   "metadata": {
    "ExecuteTime": {
     "end_time": "2022-02-10T05:44:14.961744Z",
     "start_time": "2022-02-10T05:44:14.947738Z"
    },
    "execution": {
     "iopub.execute_input": "2024-01-24T10:32:43.527039Z",
     "iopub.status.busy": "2024-01-24T10:32:43.526629Z",
     "iopub.status.idle": "2024-01-24T10:32:43.529898Z",
     "shell.execute_reply": "2024-01-24T10:32:43.529496Z",
     "shell.execute_reply.started": "2024-01-24T10:32:43.527026Z"
    }
   },
   "outputs": [],
   "source": [
    "vitals_1st.drop(columns = ['心率','血糖'], inplace = True)"
   ]
  },
  {
   "cell_type": "code",
   "execution_count": 96,
   "id": "e1ae8487",
   "metadata": {
    "ExecuteTime": {
     "end_time": "2022-02-10T05:44:14.977743Z",
     "start_time": "2022-02-10T05:44:14.963739Z"
    },
    "execution": {
     "iopub.execute_input": "2024-01-24T10:32:43.530623Z",
     "iopub.status.busy": "2024-01-24T10:32:43.530403Z",
     "iopub.status.idle": "2024-01-24T10:32:43.533458Z",
     "shell.execute_reply": "2024-01-24T10:32:43.533113Z",
     "shell.execute_reply.started": "2024-01-24T10:32:43.530609Z"
    }
   },
   "outputs": [
    {
     "data": {
      "text/plain": [
       "Index(['PATIENT_ID', 'TF_ADMISSION_DATE_TIME', '体温', '呼吸', '脉搏', '血压Low',\n",
       "       '血压high', '血氧'],\n",
       "      dtype='object')"
      ]
     },
     "execution_count": 96,
     "metadata": {},
     "output_type": "execute_result"
    }
   ],
   "source": [
    "vitals_1st.columns"
   ]
  },
  {
   "cell_type": "code",
   "execution_count": 97,
   "id": "ce561a27",
   "metadata": {
    "ExecuteTime": {
     "end_time": "2022-02-10T05:44:14.993738Z",
     "start_time": "2022-02-10T05:44:14.980738Z"
    },
    "execution": {
     "iopub.execute_input": "2024-01-24T10:32:43.534107Z",
     "iopub.status.busy": "2024-01-24T10:32:43.533961Z",
     "iopub.status.idle": "2024-01-24T10:32:43.536591Z",
     "shell.execute_reply": "2024-01-24T10:32:43.536203Z",
     "shell.execute_reply.started": "2024-01-24T10:32:43.534093Z"
    }
   },
   "outputs": [],
   "source": [
    "vitals_1st.columns = ['PATIENT_ID', 'TF_ADMISSION_DATE_TIME', 'Temperature', 'RR', 'HR', 'DBP','SBP', 'SPO2']"
   ]
  },
  {
   "cell_type": "code",
   "execution_count": 98,
   "id": "b9db1acb",
   "metadata": {
    "ExecuteTime": {
     "end_time": "2022-02-10T08:34:41.633739Z",
     "start_time": "2022-02-10T08:34:41.518734Z"
    },
    "execution": {
     "iopub.execute_input": "2024-01-24T10:32:43.537308Z",
     "iopub.status.busy": "2024-01-24T10:32:43.537076Z",
     "iopub.status.idle": "2024-01-24T10:32:43.579177Z",
     "shell.execute_reply": "2024-01-24T10:32:43.578719Z",
     "shell.execute_reply.started": "2024-01-24T10:32:43.537293Z"
    },
    "tags": []
   },
   "outputs": [],
   "source": [
    "bc_cohort = pd.merge(final_cohort,lab_,how = 'left', on = ['PATIENT_ID', 'TF_ADMISSION_DATE_TIME']).\\\n",
    "merge(vitals_1st, how = 'left', on = ['PATIENT_ID', 'TF_ADMISSION_DATE_TIME'])"
   ]
  },
  {
   "cell_type": "code",
   "execution_count": 99,
   "id": "36999222",
   "metadata": {
    "ExecuteTime": {
     "end_time": "2022-02-10T08:34:41.777740Z",
     "start_time": "2022-02-10T08:34:41.757734Z"
    },
    "execution": {
     "iopub.execute_input": "2024-01-24T10:32:43.579983Z",
     "iopub.status.busy": "2024-01-24T10:32:43.579823Z",
     "iopub.status.idle": "2024-01-24T10:32:43.586687Z",
     "shell.execute_reply": "2024-01-24T10:32:43.586292Z",
     "shell.execute_reply.started": "2024-01-24T10:32:43.579969Z"
    },
    "tags": []
   },
   "outputs": [],
   "source": [
    "bc_cohort['GENDER'] = bc_cohort['GENDER'].apply(lambda x: 1 if x == 'M' else 0)"
   ]
  },
  {
   "cell_type": "code",
   "execution_count": 100,
   "id": "b1c61a2f",
   "metadata": {
    "ExecuteTime": {
     "end_time": "2022-02-10T08:34:42.016740Z",
     "start_time": "2022-02-10T08:34:41.956734Z"
    },
    "execution": {
     "iopub.execute_input": "2024-01-24T10:32:43.587405Z",
     "iopub.status.busy": "2024-01-24T10:32:43.587256Z",
     "iopub.status.idle": "2024-01-24T10:32:43.607329Z",
     "shell.execute_reply": "2024-01-24T10:32:43.606879Z",
     "shell.execute_reply.started": "2024-01-24T10:32:43.587392Z"
    },
    "tags": []
   },
   "outputs": [],
   "source": [
    "bc_cohort = pd.get_dummies(data = bc_cohort, columns= ['ICU_TYPE'])"
   ]
  },
  {
   "cell_type": "code",
   "execution_count": 101,
   "id": "87af85f1",
   "metadata": {
    "ExecuteTime": {
     "end_time": "2022-02-10T08:34:42.205737Z",
     "start_time": "2022-02-10T08:34:42.155735Z"
    },
    "execution": {
     "iopub.execute_input": "2024-01-24T10:32:43.608132Z",
     "iopub.status.busy": "2024-01-24T10:32:43.607966Z",
     "iopub.status.idle": "2024-01-24T10:32:43.616031Z",
     "shell.execute_reply": "2024-01-24T10:32:43.615628Z",
     "shell.execute_reply.started": "2024-01-24T10:32:43.608117Z"
    },
    "tags": []
   },
   "outputs": [],
   "source": [
    "bc_cohort = bc_cohort.drop(columns = ['previous_mdrpos_lessthan7d','previous_mdrneg_lessthan7d','los_icu_exc','stay_chart_included'])"
   ]
  },
  {
   "cell_type": "code",
   "execution_count": 102,
   "id": "d0e3a0f9",
   "metadata": {
    "ExecuteTime": {
     "end_time": "2022-02-20T07:06:46.296882Z",
     "start_time": "2022-02-20T07:06:37.705884Z"
    },
    "execution": {
     "iopub.execute_input": "2024-01-24T10:32:43.616765Z",
     "iopub.status.busy": "2024-01-24T10:32:43.616606Z",
     "iopub.status.idle": "2024-01-24T10:32:48.200716Z",
     "shell.execute_reply": "2024-01-24T10:32:48.199614Z",
     "shell.execute_reply.started": "2024-01-24T10:32:43.616751Z"
    },
    "tags": []
   },
   "outputs": [],
   "source": [
    "icustay_detail = pd.read_csv('../Local_hosp_data/icustay_detail.csv',encoding = 'gb18030')\n",
    "icustay_detail = icustay_detail[~pd.isna(icustay_detail['ICU_TYPE'])]\n",
    "icustay_detail['TF_ADMISSION_DATE_TIME'] = icustay_detail['TF_ADMISSION_DATE_TIME'].apply(trans_time)\n",
    "\n",
    "icustay_detail['icustay_rank']= icustay_detail.groupby(['PATIENT_ID'])['TF_ADMISSION_DATE_TIME'].rank()"
   ]
  },
  {
   "cell_type": "code",
   "execution_count": 103,
   "id": "ee1cf06d",
   "metadata": {
    "ExecuteTime": {
     "end_time": "2022-02-10T08:34:51.149740Z",
     "start_time": "2022-02-10T08:34:51.136735Z"
    },
    "execution": {
     "iopub.execute_input": "2024-01-24T10:32:48.201849Z",
     "iopub.status.busy": "2024-01-24T10:32:48.201651Z",
     "iopub.status.idle": "2024-01-24T10:32:48.208947Z",
     "shell.execute_reply": "2024-01-24T10:32:48.208338Z",
     "shell.execute_reply.started": "2024-01-24T10:32:48.201831Z"
    },
    "tags": []
   },
   "outputs": [
    {
     "data": {
      "text/plain": [
       "1.0     67751\n",
       "2.0     10772\n",
       "3.0      2346\n",
       "4.0       750\n",
       "5.0       342\n",
       "6.0       188\n",
       "7.0       128\n",
       "8.0        98\n",
       "9.0        73\n",
       "10.0       58\n",
       "11.0       50\n",
       "12.0       42\n",
       "13.0       33\n",
       "14.0       24\n",
       "15.0       22\n",
       "16.0       18\n",
       "17.0       17\n",
       "18.0       14\n",
       "19.0        8\n",
       "20.0        7\n",
       "21.0        4\n",
       "22.0        3\n",
       "23.0        2\n",
       "Name: icustay_rank, dtype: int64"
      ]
     },
     "execution_count": 103,
     "metadata": {},
     "output_type": "execute_result"
    }
   ],
   "source": [
    "icustay_detail['icustay_rank'].value_counts()"
   ]
  },
  {
   "cell_type": "code",
   "execution_count": 104,
   "id": "f9cdcac6",
   "metadata": {
    "ExecuteTime": {
     "end_time": "2022-02-10T08:34:51.181738Z",
     "start_time": "2022-02-10T08:34:51.151735Z"
    },
    "execution": {
     "iopub.execute_input": "2024-01-24T10:32:48.209701Z",
     "iopub.status.busy": "2024-01-24T10:32:48.209550Z",
     "iopub.status.idle": "2024-01-24T10:32:48.217371Z",
     "shell.execute_reply": "2024-01-24T10:32:48.216286Z",
     "shell.execute_reply.started": "2024-01-24T10:32:48.209687Z"
    },
    "tags": []
   },
   "outputs": [],
   "source": [
    "bc_cohort.drop(columns = ['icustay_rank'], inplace = True)"
   ]
  },
  {
   "cell_type": "code",
   "execution_count": 105,
   "id": "47e784ec",
   "metadata": {
    "ExecuteTime": {
     "end_time": "2022-02-10T08:34:51.309735Z",
     "start_time": "2022-02-10T08:34:51.183735Z"
    },
    "execution": {
     "iopub.execute_input": "2024-01-24T10:32:48.218046Z",
     "iopub.status.busy": "2024-01-24T10:32:48.217896Z",
     "iopub.status.idle": "2024-01-24T10:32:48.254253Z",
     "shell.execute_reply": "2024-01-24T10:32:48.253581Z",
     "shell.execute_reply.started": "2024-01-24T10:32:48.218032Z"
    },
    "tags": []
   },
   "outputs": [],
   "source": [
    "bc_cohort = bc_cohort.merge(icustay_detail[['PATIENT_ID', 'TF_ADMISSION_DATE_TIME','icustay_rank']], how = 'left', on = ['PATIENT_ID', 'TF_ADMISSION_DATE_TIME'])"
   ]
  },
  {
   "cell_type": "code",
   "execution_count": 106,
   "id": "bd06f99f",
   "metadata": {
    "ExecuteTime": {
     "end_time": "2022-02-10T08:34:52.753740Z",
     "start_time": "2022-02-10T08:34:51.312734Z"
    },
    "execution": {
     "iopub.execute_input": "2024-01-24T10:32:48.255013Z",
     "iopub.status.busy": "2024-01-24T10:32:48.254861Z",
     "iopub.status.idle": "2024-01-24T10:32:48.741664Z",
     "shell.execute_reply": "2024-01-24T10:32:48.740684Z",
     "shell.execute_reply.started": "2024-01-24T10:32:48.254999Z"
    },
    "tags": []
   },
   "outputs": [],
   "source": [
    "#住院次数\n",
    "bc_cohort['hospstay_seq'] = bc_cohort['VISIT_ID']\n",
    "\n",
    "#住院时长\n",
    "bc_cohort['los_hospital'] = (bc_cohort['DISCHARGE_DATE_TIME'] - bc_cohort['ADMISSION_DATE_TIME']).dt.total_seconds()/(3600*24)\n",
    "\n",
    "#死亡信息\n",
    "mort = pd.read_csv('../Local_hosp_data/mort.csv')\n",
    "\n",
    "mort['DOD_HOSP'] = mort['DOD_HOSP'].apply(trans_time)\n",
    "\n",
    "bc_cohort = pd.merge(bc_cohort, mort, how = 'left', on = ['PATIENT_ID','VISIT_ID'])\n",
    "\n",
    "bc_cohort['DOD'] = \\\n",
    "bc_cohort[['ADMISSION_DATE_TIME','DISCHARGE_DATE_TIME','DOD_HOSP']].\\\n",
    "apply(lambda x: 1 if ((x[2]-x[0]).total_seconds()>=0) and ((x[2]-x[1]).total_seconds()<=0) else 0, axis = 1)"
   ]
  },
  {
   "cell_type": "code",
   "execution_count": 107,
   "id": "fa24a187",
   "metadata": {
    "ExecuteTime": {
     "end_time": "2022-02-10T08:34:52.879735Z",
     "start_time": "2022-02-10T08:34:52.755734Z"
    },
    "execution": {
     "iopub.execute_input": "2024-01-24T10:32:48.742649Z",
     "iopub.status.busy": "2024-01-24T10:32:48.742484Z",
     "iopub.status.idle": "2024-01-24T10:32:48.785918Z",
     "shell.execute_reply": "2024-01-24T10:32:48.785117Z",
     "shell.execute_reply.started": "2024-01-24T10:32:48.742634Z"
    },
    "tags": []
   },
   "outputs": [],
   "source": [
    "bc_cohort = bc_cohort.drop_duplicates()"
   ]
  },
  {
   "cell_type": "code",
   "execution_count": 108,
   "id": "4228edd3",
   "metadata": {
    "ExecuteTime": {
     "end_time": "2022-02-10T08:34:52.895741Z",
     "start_time": "2022-02-10T08:34:52.881735Z"
    },
    "execution": {
     "iopub.execute_input": "2024-01-24T10:32:48.786846Z",
     "iopub.status.busy": "2024-01-24T10:32:48.786682Z",
     "iopub.status.idle": "2024-01-24T10:32:48.789696Z",
     "shell.execute_reply": "2024-01-24T10:32:48.789255Z",
     "shell.execute_reply.started": "2024-01-24T10:32:48.786832Z"
    },
    "tags": []
   },
   "outputs": [],
   "source": [
    "#bc_cohort_icu = bc_cohort[(bc_cohort['ICU_TYPE_ICU'] == 1)|(bc_cohort['ICU_TYPE_EICU'] == 1)]#.drop_duplicates()"
   ]
  },
  {
   "cell_type": "code",
   "execution_count": 109,
   "id": "4f694871",
   "metadata": {
    "ExecuteTime": {
     "end_time": "2022-02-10T08:34:52.911734Z",
     "start_time": "2022-02-10T08:34:52.898735Z"
    },
    "execution": {
     "iopub.execute_input": "2024-01-24T10:32:48.790413Z",
     "iopub.status.busy": "2024-01-24T10:32:48.790262Z",
     "iopub.status.idle": "2024-01-24T10:32:48.795430Z",
     "shell.execute_reply": "2024-01-24T10:32:48.794992Z",
     "shell.execute_reply.started": "2024-01-24T10:32:48.790399Z"
    },
    "tags": []
   },
   "outputs": [],
   "source": [
    "bc_cohort_icu = bc_cohort[(bc_cohort['ICU_TYPE_ICU'] == 1)]"
   ]
  },
  {
   "cell_type": "code",
   "execution_count": 110,
   "id": "77ca5470",
   "metadata": {
    "ExecuteTime": {
     "end_time": "2022-02-20T07:08:30.360997Z",
     "start_time": "2022-02-20T07:08:30.339997Z"
    },
    "execution": {
     "iopub.execute_input": "2024-01-24T10:32:48.796133Z",
     "iopub.status.busy": "2024-01-24T10:32:48.795985Z",
     "iopub.status.idle": "2024-01-24T10:32:48.799604Z",
     "shell.execute_reply": "2024-01-24T10:32:48.799266Z",
     "shell.execute_reply.started": "2024-01-24T10:32:48.796119Z"
    },
    "tags": []
   },
   "outputs": [
    {
     "data": {
      "text/plain": [
       "Index(['PATIENT_ID', 'VISIT_ID', 'GENDER', 'AGE', 'ADMISSION_DATE_TIME',\n",
       "       'DISCHARGE_DATE_TIME', 'DATE_OF_BIRTH', 'ADMISSION_TYPE',\n",
       "       'ADMISSION_CONDITION', 'DEPT_STAYED', 'ICU_TYPE', 'ICU_FLAG',\n",
       "       'TF_ADMISSION_DATE_TIME', 'TF_DISCHARGE_DATE_TIME', 'LOS_ICU',\n",
       "       'IDENTITY', 'OCCUPATION', 'MARITAL_STATUS', 'MAILING_ADDRESS',\n",
       "       'BLOOD_TYPE', 'BLOOD_TYPE_RH', 'ALERGY_DRUGS', 'MR_VALUE', 'MR_QUALITY',\n",
       "       'DISCHARGE_DISPOSITION', 'CHARGE_TYPE', 'MEDICAL_PAY_WAY',\n",
       "       'TOTAL_COSTS', 'TOTAL_PAYMENTS', 'SERIOUS_COND_DAYS',\n",
       "       'CRITICAL_COND_DAYS', 'ICU_DAYS', 'CCU_DAYS', 'BODY_HEIGHT',\n",
       "       'BODY_WEIGHT', 'HBSAG_INDICATOR', 'HCV_AB_INDICATOR',\n",
       "       'HIV_AB_INDICATOR', 'icustay_rank'],\n",
       "      dtype='object')"
      ]
     },
     "execution_count": 110,
     "metadata": {},
     "output_type": "execute_result"
    }
   ],
   "source": [
    "icustay_detail.columns"
   ]
  },
  {
   "cell_type": "code",
   "execution_count": 111,
   "id": "05ee5b01",
   "metadata": {
    "ExecuteTime": {
     "end_time": "2022-02-20T07:11:19.662793Z",
     "start_time": "2022-02-20T07:11:19.635793Z"
    },
    "execution": {
     "iopub.execute_input": "2024-01-24T10:32:48.800316Z",
     "iopub.status.busy": "2024-01-24T10:32:48.800117Z",
     "iopub.status.idle": "2024-01-24T10:32:48.807245Z",
     "shell.execute_reply": "2024-01-24T10:32:48.806900Z",
     "shell.execute_reply.started": "2024-01-24T10:32:48.800302Z"
    },
    "tags": []
   },
   "outputs": [],
   "source": [
    "hw = icustay_detail[['PATIENT_ID', 'VISIT_ID','BODY_HEIGHT','BODY_WEIGHT']]\n",
    "hw['BODY_HEIGHT'] = hw['BODY_HEIGHT'].astype(float)\n",
    "hw['BODY_WEIGHT'] = hw['BODY_WEIGHT'].astype(float)\n",
    "hw['BMI'] = hw['BODY_WEIGHT']/(hw['BODY_HEIGHT']/100)**2"
   ]
  },
  {
   "cell_type": "code",
   "execution_count": 112,
   "id": "89a97ce5",
   "metadata": {
    "ExecuteTime": {
     "end_time": "2022-02-20T07:12:26.348369Z",
     "start_time": "2022-02-20T07:12:26.283364Z"
    },
    "execution": {
     "iopub.execute_input": "2024-01-24T10:32:48.808077Z",
     "iopub.status.busy": "2024-01-24T10:32:48.807789Z",
     "iopub.status.idle": "2024-01-24T10:32:48.835785Z",
     "shell.execute_reply": "2024-01-24T10:32:48.834858Z",
     "shell.execute_reply.started": "2024-01-24T10:32:48.808062Z"
    },
    "tags": []
   },
   "outputs": [],
   "source": [
    "bc_cohort_icu = pd.merge(bc_cohort_icu,hw, how = 'left', on = ['PATIENT_ID', 'VISIT_ID'])"
   ]
  },
  {
   "cell_type": "code",
   "execution_count": 113,
   "id": "070cad24",
   "metadata": {
    "ExecuteTime": {
     "end_time": "2022-02-10T08:42:17.685161Z",
     "start_time": "2022-02-10T08:42:17.671162Z"
    },
    "execution": {
     "iopub.execute_input": "2024-01-24T10:32:48.836534Z",
     "iopub.status.busy": "2024-01-24T10:32:48.836378Z",
     "iopub.status.idle": "2024-01-24T10:32:48.840971Z",
     "shell.execute_reply": "2024-01-24T10:32:48.840527Z",
     "shell.execute_reply.started": "2024-01-24T10:32:48.836520Z"
    },
    "tags": []
   },
   "outputs": [
    {
     "data": {
      "text/plain": [
       "0       3.0\n",
       "1       4.0\n",
       "2       1.0\n",
       "3       1.0\n",
       "4       2.0\n",
       "       ... \n",
       "3886    1.0\n",
       "3887    2.0\n",
       "3888    1.0\n",
       "3889    1.0\n",
       "3890    1.0\n",
       "Name: hospstay_seq, Length: 3891, dtype: float64"
      ]
     },
     "execution_count": 113,
     "metadata": {},
     "output_type": "execute_result"
    }
   ],
   "source": [
    "bc_cohort_icu.hospstay_seq"
   ]
  },
  {
   "cell_type": "code",
   "execution_count": 114,
   "id": "1cea4eea",
   "metadata": {
    "ExecuteTime": {
     "end_time": "2022-02-10T08:34:52.943737Z",
     "start_time": "2022-02-10T08:34:52.913736Z"
    },
    "execution": {
     "iopub.execute_input": "2024-01-24T10:32:48.841656Z",
     "iopub.status.busy": "2024-01-24T10:32:48.841506Z",
     "iopub.status.idle": "2024-01-24T10:32:48.850236Z",
     "shell.execute_reply": "2024-01-24T10:32:48.849892Z",
     "shell.execute_reply.started": "2024-01-24T10:32:48.841643Z"
    },
    "tags": []
   },
   "outputs": [
    {
     "data": {
      "text/plain": [
       "(3537, 2)"
      ]
     },
     "execution_count": 114,
     "metadata": {},
     "output_type": "execute_result"
    }
   ],
   "source": [
    "bc_cohort_icu[bc_cohort_icu['AGE']>=18][['PATIENT_ID','TF_ADMISSION_DATE_TIME']].drop_duplicates().shape"
   ]
  },
  {
   "cell_type": "code",
   "execution_count": 115,
   "id": "a7c55ff3",
   "metadata": {
    "ExecuteTime": {
     "end_time": "2022-02-20T07:23:58.099314Z",
     "start_time": "2022-02-20T07:23:58.083316Z"
    },
    "execution": {
     "iopub.execute_input": "2024-01-24T10:32:48.850855Z",
     "iopub.status.busy": "2024-01-24T10:32:48.850713Z",
     "iopub.status.idle": "2024-01-24T10:32:48.857570Z",
     "shell.execute_reply": "2024-01-24T10:32:48.857219Z",
     "shell.execute_reply.started": "2024-01-24T10:32:48.850842Z"
    },
    "tags": []
   },
   "outputs": [],
   "source": [
    "bc_cohort_icu['BODY_HEIGHT'] = bc_cohort_icu['BODY_HEIGHT'].apply(lambda x:np.nan if ((x<=100) or (x>=250)) else x)\n",
    "bc_cohort_icu['BODY_WEIGHT'] = bc_cohort_icu['BODY_WEIGHT'].apply(lambda x:np.nan if ((x<=30) or (x>=230)) else x)\n",
    "bc_cohort_icu['BMI'] = bc_cohort_icu['BODY_WEIGHT']/(bc_cohort_icu['BODY_HEIGHT']/100)**2"
   ]
  },
  {
   "cell_type": "code",
   "execution_count": 116,
   "id": "7782aef3",
   "metadata": {
    "ExecuteTime": {
     "end_time": "2022-02-20T07:38:03.058114Z",
     "start_time": "2022-02-20T07:38:03.012113Z"
    },
    "execution": {
     "iopub.execute_input": "2024-01-24T10:32:48.858276Z",
     "iopub.status.busy": "2024-01-24T10:32:48.858070Z",
     "iopub.status.idle": "2024-01-24T10:32:48.876092Z",
     "shell.execute_reply": "2024-01-24T10:32:48.875697Z",
     "shell.execute_reply.started": "2024-01-24T10:32:48.858262Z"
    },
    "tags": []
   },
   "outputs": [],
   "source": [
    "bc_cohort_icu = bc_cohort_icu.drop_duplicates()"
   ]
  },
  {
   "cell_type": "code",
   "execution_count": 117,
   "id": "478c04b1",
   "metadata": {
    "ExecuteTime": {
     "end_time": "2022-02-20T07:05:57.159637Z",
     "start_time": "2022-02-20T07:05:56.994631Z"
    },
    "execution": {
     "iopub.execute_input": "2024-01-24T10:32:48.876789Z",
     "iopub.status.busy": "2024-01-24T10:32:48.876642Z",
     "iopub.status.idle": "2024-01-24T10:32:48.879086Z",
     "shell.execute_reply": "2024-01-24T10:32:48.878736Z",
     "shell.execute_reply.started": "2024-01-24T10:32:48.876775Z"
    },
    "tags": []
   },
   "outputs": [],
   "source": [
    "#bc_cohort_icu = pd.read_csv('mdro_cohort.csv', encoding = 'ANSI')"
   ]
  },
  {
   "cell_type": "code",
   "execution_count": 118,
   "id": "53a5e947",
   "metadata": {
    "ExecuteTime": {
     "end_time": "2022-02-10T08:34:53.353739Z",
     "start_time": "2022-02-10T08:34:53.340734Z"
    },
    "execution": {
     "iopub.execute_input": "2024-01-24T10:32:48.879741Z",
     "iopub.status.busy": "2024-01-24T10:32:48.879594Z",
     "iopub.status.idle": "2024-01-24T10:32:48.883625Z",
     "shell.execute_reply": "2024-01-24T10:32:48.883288Z",
     "shell.execute_reply.started": "2024-01-24T10:32:48.879727Z"
    },
    "tags": []
   },
   "outputs": [
    {
     "data": {
      "text/plain": [
       "0.0    3114\n",
       "1.0     423\n",
       "Name: stay_chart_included_mdr, dtype: int64"
      ]
     },
     "execution_count": 118,
     "metadata": {},
     "output_type": "execute_result"
    }
   ],
   "source": [
    "bc_cohort_icu.stay_chart_included_mdr.value_counts()"
   ]
  },
  {
   "cell_type": "code",
   "execution_count": 119,
   "id": "cb606d13",
   "metadata": {
    "ExecuteTime": {
     "end_time": "2022-02-10T08:34:53.368734Z",
     "start_time": "2022-02-10T08:34:53.356741Z"
    },
    "execution": {
     "iopub.execute_input": "2024-01-24T10:32:48.884339Z",
     "iopub.status.busy": "2024-01-24T10:32:48.884192Z",
     "iopub.status.idle": "2024-01-24T10:32:48.891102Z",
     "shell.execute_reply": "2024-01-24T10:32:48.890773Z",
     "shell.execute_reply.started": "2024-01-24T10:32:48.884325Z"
    },
    "tags": []
   },
   "outputs": [
    {
     "data": {
      "text/plain": [
       "DOD_HOSP                 3122\n",
       "SPO2                     2613\n",
       "firsthospmdrcharttime    2504\n",
       "firsthospmdrorgname      2504\n",
       "firsthospmdrRAB          2504\n",
       "firsthospmdrstoretime    2504\n",
       "IL_6                      621\n",
       "glucose                   502\n",
       "PCT                       252\n",
       "BMI                       177\n",
       "BODY_WEIGHT               171\n",
       "mb                        155\n",
       "BNP                       134\n",
       "BODY_HEIGHT               117\n",
       "mpv                        57\n",
       "ck_mb                      39\n",
       "ALP                        24\n",
       "gamma_GT                   22\n",
       "lipase                     16\n",
       "amylase                    13\n",
       "CRP                         8\n",
       "mg                          8\n",
       "chloride                    8\n",
       "ck                          8\n",
       "p                           5\n",
       "dtype: int64"
      ]
     },
     "execution_count": 119,
     "metadata": {},
     "output_type": "execute_result"
    }
   ],
   "source": [
    "pd.isna(bc_cohort_icu).sum().sort_values(ascending =False).head(25)"
   ]
  },
  {
   "cell_type": "code",
   "execution_count": 120,
   "id": "364c23ac",
   "metadata": {
    "ExecuteTime": {
     "end_time": "2022-02-10T08:34:53.400739Z",
     "start_time": "2022-02-10T08:34:53.370734Z"
    },
    "execution": {
     "iopub.execute_input": "2024-01-24T10:32:48.891750Z",
     "iopub.status.busy": "2024-01-24T10:32:48.891604Z",
     "iopub.status.idle": "2024-01-24T10:32:48.901730Z",
     "shell.execute_reply": "2024-01-24T10:32:48.901375Z",
     "shell.execute_reply.started": "2024-01-24T10:32:48.891737Z"
    },
    "tags": []
   },
   "outputs": [],
   "source": [
    "bc_cohort['PCT_nan'] = bc_cohort['PCT'].apply(lambda x:1 if pd.isna(x) else 0)"
   ]
  },
  {
   "cell_type": "code",
   "execution_count": 121,
   "id": "5707a372",
   "metadata": {
    "ExecuteTime": {
     "end_time": "2022-02-10T08:34:53.416734Z",
     "start_time": "2022-02-10T08:34:53.403734Z"
    },
    "execution": {
     "iopub.execute_input": "2024-01-24T10:32:48.902443Z",
     "iopub.status.busy": "2024-01-24T10:32:48.902294Z",
     "iopub.status.idle": "2024-01-24T10:32:48.908413Z",
     "shell.execute_reply": "2024-01-24T10:32:48.908069Z",
     "shell.execute_reply.started": "2024-01-24T10:32:48.902430Z"
    },
    "tags": []
   },
   "outputs": [
    {
     "data": {
      "text/plain": [
       "0.0    3114\n",
       "1.0     423\n",
       "Name: stay_chart_included_mdr, dtype: int64"
      ]
     },
     "execution_count": 121,
     "metadata": {},
     "output_type": "execute_result"
    }
   ],
   "source": [
    "bc_cohort[bc_cohort['ICU_TYPE_ICU']==1].stay_chart_included_mdr.value_counts()"
   ]
  },
  {
   "cell_type": "code",
   "execution_count": 122,
   "id": "ae92995b-4e46-4104-9668-c7e31c677898",
   "metadata": {
    "execution": {
     "iopub.execute_input": "2024-01-24T10:32:48.909093Z",
     "iopub.status.busy": "2024-01-24T10:32:48.908947Z",
     "iopub.status.idle": "2024-01-24T10:32:48.917587Z",
     "shell.execute_reply": "2024-01-24T10:32:48.917222Z",
     "shell.execute_reply.started": "2024-01-24T10:32:48.909079Z"
    },
    "tags": []
   },
   "outputs": [],
   "source": [
    "missing_percent = lab_.isnull().mean(axis=1)\n",
    "lab_filtered = lab_[missing_percent < 0.2]\n",
    "lab_filtered = lab_filtered[~pd.isna(lab_filtered['wbc'])]"
   ]
  },
  {
   "cell_type": "code",
   "execution_count": 123,
   "id": "101fc1a7-debc-4c10-be30-9d288c87d1da",
   "metadata": {
    "execution": {
     "iopub.execute_input": "2024-01-24T10:32:48.918431Z",
     "iopub.status.busy": "2024-01-24T10:32:48.918108Z",
     "iopub.status.idle": "2024-01-24T10:32:48.927637Z",
     "shell.execute_reply": "2024-01-24T10:32:48.927287Z",
     "shell.execute_reply.started": "2024-01-24T10:32:48.918416Z"
    },
    "tags": []
   },
   "outputs": [],
   "source": [
    "bc_cohort_icu = bc_cohort_icu.merge(lab_filtered[['PATIENT_ID','TF_ADMISSION_DATE_TIME']],how = 'inner', on = ['PATIENT_ID','TF_ADMISSION_DATE_TIME'] )"
   ]
  },
  {
   "cell_type": "code",
   "execution_count": 124,
   "id": "30c3c1ab-693c-4d36-b2e5-f92af35aa947",
   "metadata": {
    "execution": {
     "iopub.execute_input": "2024-01-24T10:32:48.928290Z",
     "iopub.status.busy": "2024-01-24T10:32:48.928145Z",
     "iopub.status.idle": "2024-01-24T10:32:48.931200Z",
     "shell.execute_reply": "2024-01-24T10:32:48.930863Z",
     "shell.execute_reply.started": "2024-01-24T10:32:48.928277Z"
    }
   },
   "outputs": [
    {
     "data": {
      "text/plain": [
       "(3536, 107)"
      ]
     },
     "execution_count": 124,
     "metadata": {},
     "output_type": "execute_result"
    }
   ],
   "source": [
    "bc_cohort_icu.shape"
   ]
  },
  {
   "cell_type": "code",
   "execution_count": 125,
   "id": "77997710-4a4d-4ab4-9bf7-25feca5da263",
   "metadata": {
    "execution": {
     "iopub.execute_input": "2024-01-24T10:32:48.931863Z",
     "iopub.status.busy": "2024-01-24T10:32:48.931717Z",
     "iopub.status.idle": "2024-01-24T10:32:49.104150Z",
     "shell.execute_reply": "2024-01-24T10:32:49.103671Z",
     "shell.execute_reply.started": "2024-01-24T10:32:48.931850Z"
    },
    "tags": []
   },
   "outputs": [],
   "source": [
    "bc_cohort_icu.drop_duplicates().to_csv('mdro_cohort.csv', index  = False, encoding = 'utf-8')"
   ]
  },
  {
   "cell_type": "markdown",
   "id": "6cfddc1e",
   "metadata": {},
   "source": [
    "# 经R语言插补缺失值"
   ]
  },
  {
   "cell_type": "code",
   "execution_count": 127,
   "id": "7920d526",
   "metadata": {
    "ExecuteTime": {
     "end_time": "2022-02-20T07:38:06.263023Z",
     "start_time": "2022-02-20T07:38:06.157500Z"
    },
    "execution": {
     "iopub.execute_input": "2024-01-24T10:39:32.677576Z",
     "iopub.status.busy": "2024-01-24T10:39:32.676905Z",
     "iopub.status.idle": "2024-01-24T10:39:32.728721Z",
     "shell.execute_reply": "2024-01-24T10:39:32.727859Z",
     "shell.execute_reply.started": "2024-01-24T10:39:32.677523Z"
    },
    "tags": []
   },
   "outputs": [],
   "source": [
    "bc_cohort_median_fill = pd.read_csv('MDRO_afterimp_Rmice.csv',encoding = 'utf-8')"
   ]
  },
  {
   "cell_type": "code",
   "execution_count": 128,
   "id": "210082dd-0541-4a93-814a-8b076d62499d",
   "metadata": {
    "execution": {
     "iopub.execute_input": "2024-01-24T10:39:34.985699Z",
     "iopub.status.busy": "2024-01-24T10:39:34.985120Z",
     "iopub.status.idle": "2024-01-24T10:39:34.997706Z",
     "shell.execute_reply": "2024-01-24T10:39:34.996774Z",
     "shell.execute_reply.started": "2024-01-24T10:39:34.985646Z"
    },
    "tags": []
   },
   "outputs": [],
   "source": [
    "bc_cohort_median_fill['monocytes_abs'] = bc_cohort_median_fill['monocytes'] * bc_cohort_median_fill['wbc']\n",
    "bc_cohort_median_fill['neutrophils_abs'] = bc_cohort_median_fill['bands'] * bc_cohort_median_fill['wbc']\n",
    "bc_cohort_median_fill['eosinophil_abs'] = bc_cohort_median_fill['eosinophil'] * bc_cohort_median_fill['wbc']\n",
    "bc_cohort_median_fill['basophil_abs'] = bc_cohort_median_fill['basophil'] * bc_cohort_median_fill['wbc']\n",
    "bc_cohort_median_fill['lymphocytes_abs'] = bc_cohort_median_fill['LYN'] * bc_cohort_median_fill['wbc']\n",
    "bc_cohort_median_fill['lymphocytes_abs'] = bc_cohort_median_fill['lymphocytes_abs'].apply(lambda x:0.0001 if x == 0 else x)"
   ]
  },
  {
   "cell_type": "code",
   "execution_count": 129,
   "id": "ce14cb19-9b07-45ab-810a-d666200fa1b6",
   "metadata": {
    "execution": {
     "iopub.execute_input": "2024-01-24T10:39:36.396510Z",
     "iopub.status.busy": "2024-01-24T10:39:36.395290Z",
     "iopub.status.idle": "2024-01-24T10:39:36.405287Z",
     "shell.execute_reply": "2024-01-24T10:39:36.403926Z",
     "shell.execute_reply.started": "2024-01-24T10:39:36.396458Z"
    },
    "tags": []
   },
   "outputs": [],
   "source": [
    "bc_cohort_median_fill['RPR'] = bc_cohort_median_fill['rdw']/bc_cohort_median_fill['platelet']\n",
    "bc_cohort_median_fill['NLR'] = bc_cohort_median_fill['neutrophils_abs']/bc_cohort_median_fill['lymphocytes_abs']\n",
    "\n",
    "bc_cohort_median_fill['SBP'] = bc_cohort_median_fill['SBP'].apply(lambda x:0.0001 if x == 0 else x)\n",
    "bc_cohort_median_fill['shock_index'] = bc_cohort_median_fill['HR']/bc_cohort_median_fill['SBP']"
   ]
  },
  {
   "cell_type": "code",
   "execution_count": 130,
   "id": "6765be2e",
   "metadata": {
    "ExecuteTime": {
     "end_time": "2022-02-20T07:38:06.915292Z",
     "start_time": "2022-02-20T07:38:06.899291Z"
    },
    "execution": {
     "iopub.execute_input": "2024-01-24T10:39:37.424928Z",
     "iopub.status.busy": "2024-01-24T10:39:37.423614Z",
     "iopub.status.idle": "2024-01-24T10:39:37.433896Z",
     "shell.execute_reply": "2024-01-24T10:39:37.433363Z",
     "shell.execute_reply.started": "2024-01-24T10:39:37.424876Z"
    },
    "tags": []
   },
   "outputs": [
    {
     "data": {
      "text/plain": [
       "1     3199\n",
       "2      276\n",
       "3       39\n",
       "4       11\n",
       "5        3\n",
       "6        1\n",
       "8        1\n",
       "9        1\n",
       "14       1\n",
       "15       1\n",
       "18       1\n",
       "19       1\n",
       "20       1\n",
       "Name: icustay_rank, dtype: int64"
      ]
     },
     "execution_count": 130,
     "metadata": {},
     "output_type": "execute_result"
    }
   ],
   "source": [
    "bc_cohort_median_fill.icustay_rank.value_counts()"
   ]
  },
  {
   "cell_type": "code",
   "execution_count": 132,
   "id": "1322a0f4",
   "metadata": {
    "ExecuteTime": {
     "end_time": "2022-02-20T07:38:09.731264Z",
     "start_time": "2022-02-20T07:38:09.402259Z"
    },
    "execution": {
     "iopub.execute_input": "2024-01-24T10:39:38.549940Z",
     "iopub.status.busy": "2024-01-24T10:39:38.549411Z",
     "iopub.status.idle": "2024-01-24T10:39:38.713537Z",
     "shell.execute_reply": "2024-01-24T10:39:38.712637Z",
     "shell.execute_reply.started": "2024-01-24T10:39:38.549891Z"
    },
    "tags": []
   },
   "outputs": [],
   "source": [
    "bc_cohort_median_fill.TF_ADMISSION_DATE_TIME = bc_cohort_median_fill.TF_ADMISSION_DATE_TIME.apply(trans_time)"
   ]
  },
  {
   "cell_type": "code",
   "execution_count": 133,
   "id": "d5c94321-3814-400f-8367-e79196908ed8",
   "metadata": {
    "execution": {
     "iopub.execute_input": "2024-01-24T10:39:39.252051Z",
     "iopub.status.busy": "2024-01-24T10:39:39.250739Z",
     "iopub.status.idle": "2024-01-24T10:39:39.408228Z",
     "shell.execute_reply": "2024-01-24T10:39:39.406930Z",
     "shell.execute_reply.started": "2024-01-24T10:39:39.252000Z"
    },
    "tags": []
   },
   "outputs": [],
   "source": [
    "bc_cohort_median_fill.to_csv('plagh_totableone.csv',index = False)"
   ]
  },
  {
   "cell_type": "code",
   "execution_count": 134,
   "id": "778aae6e",
   "metadata": {
    "ExecuteTime": {
     "end_time": "2022-02-20T07:38:09.857431Z",
     "start_time": "2022-02-20T07:38:09.843431Z"
    },
    "execution": {
     "iopub.execute_input": "2024-01-24T10:39:39.743592Z",
     "iopub.status.busy": "2024-01-24T10:39:39.743062Z",
     "iopub.status.idle": "2024-01-24T10:39:39.751652Z",
     "shell.execute_reply": "2024-01-24T10:39:39.750588Z",
     "shell.execute_reply.started": "2024-01-24T10:39:39.743543Z"
    },
    "tags": []
   },
   "outputs": [],
   "source": [
    "bc_cohort_median_fill['year'] = bc_cohort_median_fill.TF_ADMISSION_DATE_TIME.dt.year"
   ]
  },
  {
   "cell_type": "code",
   "execution_count": 135,
   "id": "e91ea0fb",
   "metadata": {
    "ExecuteTime": {
     "end_time": "2022-02-20T07:38:10.381025Z",
     "start_time": "2022-02-20T07:38:10.346028Z"
    },
    "execution": {
     "iopub.execute_input": "2024-01-24T10:39:47.970097Z",
     "iopub.status.busy": "2024-01-24T10:39:47.969552Z",
     "iopub.status.idle": "2024-01-24T10:39:47.991946Z",
     "shell.execute_reply": "2024-01-24T10:39:47.991106Z",
     "shell.execute_reply.started": "2024-01-24T10:39:47.970048Z"
    },
    "tags": []
   },
   "outputs": [
    {
     "data": {
      "text/html": [
       "<div>\n",
       "<style scoped>\n",
       "    .dataframe tbody tr th:only-of-type {\n",
       "        vertical-align: middle;\n",
       "    }\n",
       "\n",
       "    .dataframe tbody tr th {\n",
       "        vertical-align: top;\n",
       "    }\n",
       "\n",
       "    .dataframe thead tr th {\n",
       "        text-align: left;\n",
       "    }\n",
       "\n",
       "    .dataframe thead tr:last-of-type th {\n",
       "        text-align: right;\n",
       "    }\n",
       "</style>\n",
       "<table border=\"1\" class=\"dataframe\">\n",
       "  <thead>\n",
       "    <tr>\n",
       "      <th></th>\n",
       "      <th>count</th>\n",
       "      <th>mean</th>\n",
       "    </tr>\n",
       "    <tr>\n",
       "      <th></th>\n",
       "      <th>stay_chart_included_mdr</th>\n",
       "      <th>stay_chart_included_mdr</th>\n",
       "    </tr>\n",
       "    <tr>\n",
       "      <th>year</th>\n",
       "      <th></th>\n",
       "      <th></th>\n",
       "    </tr>\n",
       "  </thead>\n",
       "  <tbody>\n",
       "    <tr>\n",
       "      <th>2008</th>\n",
       "      <td>77</td>\n",
       "      <td>0.129870</td>\n",
       "    </tr>\n",
       "    <tr>\n",
       "      <th>2009</th>\n",
       "      <td>105</td>\n",
       "      <td>0.285714</td>\n",
       "    </tr>\n",
       "    <tr>\n",
       "      <th>2010</th>\n",
       "      <td>153</td>\n",
       "      <td>0.222222</td>\n",
       "    </tr>\n",
       "    <tr>\n",
       "      <th>2011</th>\n",
       "      <td>148</td>\n",
       "      <td>0.141892</td>\n",
       "    </tr>\n",
       "    <tr>\n",
       "      <th>2012</th>\n",
       "      <td>131</td>\n",
       "      <td>0.106870</td>\n",
       "    </tr>\n",
       "    <tr>\n",
       "      <th>2013</th>\n",
       "      <td>190</td>\n",
       "      <td>0.157895</td>\n",
       "    </tr>\n",
       "    <tr>\n",
       "      <th>2014</th>\n",
       "      <td>412</td>\n",
       "      <td>0.070388</td>\n",
       "    </tr>\n",
       "    <tr>\n",
       "      <th>2015</th>\n",
       "      <td>557</td>\n",
       "      <td>0.073609</td>\n",
       "    </tr>\n",
       "    <tr>\n",
       "      <th>2016</th>\n",
       "      <td>615</td>\n",
       "      <td>0.110569</td>\n",
       "    </tr>\n",
       "    <tr>\n",
       "      <th>2017</th>\n",
       "      <td>532</td>\n",
       "      <td>0.133459</td>\n",
       "    </tr>\n",
       "    <tr>\n",
       "      <th>2018</th>\n",
       "      <td>557</td>\n",
       "      <td>0.131059</td>\n",
       "    </tr>\n",
       "    <tr>\n",
       "      <th>2019</th>\n",
       "      <td>59</td>\n",
       "      <td>0.033898</td>\n",
       "    </tr>\n",
       "  </tbody>\n",
       "</table>\n",
       "</div>"
      ],
      "text/plain": [
       "                       count                    mean\n",
       "     stay_chart_included_mdr stay_chart_included_mdr\n",
       "year                                                \n",
       "2008                      77                0.129870\n",
       "2009                     105                0.285714\n",
       "2010                     153                0.222222\n",
       "2011                     148                0.141892\n",
       "2012                     131                0.106870\n",
       "2013                     190                0.157895\n",
       "2014                     412                0.070388\n",
       "2015                     557                0.073609\n",
       "2016                     615                0.110569\n",
       "2017                     532                0.133459\n",
       "2018                     557                0.131059\n",
       "2019                      59                0.033898"
      ]
     },
     "execution_count": 135,
     "metadata": {},
     "output_type": "execute_result"
    }
   ],
   "source": [
    "pd.pivot_table(bc_cohort_median_fill, index = ['year'], values = ['stay_chart_included_mdr'], aggfunc= ['count','mean'])"
   ]
  },
  {
   "cell_type": "code",
   "execution_count": 136,
   "id": "0527e127",
   "metadata": {
    "ExecuteTime": {
     "end_time": "2022-02-20T07:38:12.278888Z",
     "start_time": "2022-02-20T07:38:12.258888Z"
    },
    "execution": {
     "iopub.execute_input": "2024-01-24T10:39:50.060031Z",
     "iopub.status.busy": "2024-01-24T10:39:50.059503Z",
     "iopub.status.idle": "2024-01-24T10:39:50.070970Z",
     "shell.execute_reply": "2024-01-24T10:39:50.069611Z",
     "shell.execute_reply.started": "2024-01-24T10:39:50.059982Z"
    },
    "tags": []
   },
   "outputs": [],
   "source": [
    "train_df = bc_cohort_median_fill[bc_cohort_median_fill['year'].isin([2008,2009,2010,2011,2012,2013,2014,2015,2016])]\n",
    "val_df = bc_cohort_median_fill[bc_cohort_median_fill['year'].isin([2017,2018,2019])]"
   ]
  },
  {
   "cell_type": "code",
   "execution_count": 149,
   "id": "26731d16",
   "metadata": {
    "ExecuteTime": {
     "end_time": "2022-02-20T07:38:19.797152Z",
     "start_time": "2022-02-20T07:38:19.570156Z"
    },
    "execution": {
     "iopub.execute_input": "2024-01-24T10:40:01.075340Z",
     "iopub.status.busy": "2024-01-24T10:40:01.074800Z",
     "iopub.status.idle": "2024-01-24T10:40:01.203760Z",
     "shell.execute_reply": "2024-01-24T10:40:01.202449Z",
     "shell.execute_reply.started": "2024-01-24T10:40:01.075291Z"
    },
    "tags": []
   },
   "outputs": [],
   "source": [
    "train_df.to_csv('train_df.csv',index = False)\n",
    "val_df.to_csv('val_df.csv',index = False)"
   ]
  },
  {
   "cell_type": "code",
   "execution_count": null,
   "id": "d7700a9c-6ad6-45f8-8e13-e760cece3ebb",
   "metadata": {},
   "outputs": [],
   "source": []
  }
 ],
 "metadata": {
  "kernelspec": {
   "display_name": "machine_learning",
   "language": "python",
   "name": "ml"
  },
  "language_info": {
   "codemirror_mode": {
    "name": "ipython",
    "version": 3
   },
   "file_extension": ".py",
   "mimetype": "text/x-python",
   "name": "python",
   "nbconvert_exporter": "python",
   "pygments_lexer": "ipython3",
   "version": "3.9.16"
  },
  "toc": {
   "base_numbering": 1,
   "nav_menu": {},
   "number_sections": true,
   "sideBar": true,
   "skip_h1_title": false,
   "title_cell": "Table of Contents",
   "title_sidebar": "Contents",
   "toc_cell": false,
   "toc_position": {
    "height": "calc(100% - 180px)",
    "left": "10px",
    "top": "150px",
    "width": "359.273px"
   },
   "toc_section_display": true,
   "toc_window_display": true
  },
  "varInspector": {
   "cols": {
    "lenName": 16,
    "lenType": 16,
    "lenVar": 40
   },
   "kernels_config": {
    "python": {
     "delete_cmd_postfix": "",
     "delete_cmd_prefix": "del ",
     "library": "var_list.py",
     "varRefreshCmd": "print(var_dic_list())"
    },
    "r": {
     "delete_cmd_postfix": ") ",
     "delete_cmd_prefix": "rm(",
     "library": "var_list.r",
     "varRefreshCmd": "cat(var_dic_list()) "
    }
   },
   "position": {
    "height": "400.844px",
    "left": "1337.33px",
    "right": "20px",
    "top": "120px",
    "width": "350px"
   },
   "types_to_exclude": [
    "module",
    "function",
    "builtin_function_or_method",
    "instance",
    "_Feature"
   ],
   "window_display": false
  }
 },
 "nbformat": 4,
 "nbformat_minor": 5
}
