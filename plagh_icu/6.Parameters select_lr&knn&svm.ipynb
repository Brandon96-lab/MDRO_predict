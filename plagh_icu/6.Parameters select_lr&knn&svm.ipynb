{
 "cells": [
  {
   "cell_type": "code",
   "execution_count": 1,
   "id": "e8cfdf9e",
   "metadata": {
    "ExecuteTime": {
     "end_time": "2022-02-20T07:59:29.302328Z",
     "start_time": "2022-02-20T07:59:27.764322Z"
    },
    "execution": {
     "iopub.execute_input": "2024-01-24T11:17:04.195991Z",
     "iopub.status.busy": "2024-01-24T11:17:04.195853Z",
     "iopub.status.idle": "2024-01-24T11:17:05.020566Z",
     "shell.execute_reply": "2024-01-24T11:17:05.019807Z",
     "shell.execute_reply.started": "2024-01-24T11:17:04.195977Z"
    }
   },
   "outputs": [],
   "source": [
    "import warnings\n",
    "warnings.filterwarnings(\"ignore\")\n",
    "\n",
    "import numpy as np\n",
    "import pandas as pd\n",
    "import matplotlib.pyplot as plt\n",
    "import seaborn as sns\n",
    "%matplotlib inline\n",
    "#pd.set_option('max_columns',100)\n",
    "\n",
    "import matplotlib as mpl\n",
    "mpl.style.use('ggplot')\n",
    "sns.set_style('white')\n",
    "\n",
    "import sklearn\n",
    "from sklearn.linear_model import LogisticRegression\n",
    "from sklearn.tree import DecisionTreeClassifier\n",
    "from sklearn.ensemble import RandomForestClassifier\n",
    "from xgboost.sklearn import XGBClassifier\n",
    "from sklearn.svm import SVC\n",
    "from sklearn.neural_network import MLPClassifier\n",
    "from sklearn.neighbors import KNeighborsClassifier\n",
    "\n",
    "import sys\n",
    "import os\n",
    "import tempfile\n",
    "from sklearn.preprocessing import StandardScaler\n",
    "\n",
    "from sklearn.model_selection import GridSearchCV\n",
    "from sklearn.model_selection import train_test_split\n",
    "from sklearn.model_selection import ShuffleSplit\n",
    "from sklearn.model_selection import cross_val_score\n",
    "\n",
    "from sklearn import metrics\n",
    "from sklearn.metrics import confusion_matrix\n",
    "from sklearn.metrics import plot_roc_curve\n",
    "from sklearn.metrics import roc_auc_score\n",
    "from sklearn.metrics import roc_curve,auc\n",
    "from sklearn.metrics import accuracy_score\n",
    "from sklearn.calibration import calibration_curve\n",
    "from sklearn.metrics import brier_score_loss\n",
    "from sklearn.metrics import (precision_score, recall_score,f1_score)\n",
    "from sklearn.calibration import CalibratedClassifierCV, calibration_curve"
   ]
  },
  {
   "cell_type": "code",
   "execution_count": 2,
   "id": "1b1c68be",
   "metadata": {
    "ExecuteTime": {
     "end_time": "2022-02-20T07:59:29.318322Z",
     "start_time": "2022-02-20T07:59:29.305322Z"
    },
    "execution": {
     "iopub.execute_input": "2024-01-24T11:17:05.021636Z",
     "iopub.status.busy": "2024-01-24T11:17:05.021389Z",
     "iopub.status.idle": "2024-01-24T11:17:05.028069Z",
     "shell.execute_reply": "2024-01-24T11:17:05.027660Z",
     "shell.execute_reply.started": "2024-01-24T11:17:05.021620Z"
    }
   },
   "outputs": [],
   "source": [
    "from sklearn.ensemble import GradientBoostingClassifier\n",
    "from bayes_opt import BayesianOptimization"
   ]
  },
  {
   "cell_type": "code",
   "execution_count": 3,
   "id": "3efd027a",
   "metadata": {
    "ExecuteTime": {
     "end_time": "2022-02-20T07:59:29.382328Z",
     "start_time": "2022-02-20T07:59:29.321322Z"
    },
    "execution": {
     "iopub.execute_input": "2024-01-24T11:17:05.028770Z",
     "iopub.status.busy": "2024-01-24T11:17:05.028614Z",
     "iopub.status.idle": "2024-01-24T11:17:05.062034Z",
     "shell.execute_reply": "2024-01-24T11:17:05.061571Z",
     "shell.execute_reply.started": "2024-01-24T11:17:05.028756Z"
    }
   },
   "outputs": [],
   "source": [
    "dev_df = pd.read_csv('train_df.csv')\n",
    "val_df = pd.read_csv('val_df.csv')"
   ]
  },
  {
   "cell_type": "code",
   "execution_count": 4,
   "id": "57eda7f7-3f66-4b43-886d-efccba1449a7",
   "metadata": {
    "execution": {
     "iopub.execute_input": "2024-01-24T11:17:05.062777Z",
     "iopub.status.busy": "2024-01-24T11:17:05.062624Z",
     "iopub.status.idle": "2024-01-24T11:17:05.065967Z",
     "shell.execute_reply": "2024-01-24T11:17:05.065544Z",
     "shell.execute_reply.started": "2024-01-24T11:17:05.062764Z"
    }
   },
   "outputs": [],
   "source": [
    "label_features_dict = {\n",
    "'stay_chart_included_mdr':['sodium',\n",
    " 'RPR',\n",
    " 'creatinine',\n",
    " 'monocytes_abs',\n",
    " 'mcv',\n",
    " 'INR',\n",
    " 'mchc',\n",
    " 'APPT',\n",
    " 'fibrinogen',\n",
    " 'Temperature',\n",
    " 'shock_index',\n",
    " 'bilirubin',\n",
    " 'D_dimer',\n",
    " 'PT',\n",
    " 'p',\n",
    " 'gamma_GT',\n",
    " 'BMI',\n",
    " 'BNP',\n",
    " 'PCT',\n",
    " 'urea',\n",
    " 'CRP',\n",
    " 'ck',\n",
    " 'IL_6',\n",
    " 'HR',\n",
    " 'los_hosp_beforeicu'\n",
    "]\n",
    "}"
   ]
  },
  {
   "cell_type": "code",
   "execution_count": 5,
   "id": "02b87a05",
   "metadata": {
    "ExecuteTime": {
     "end_time": "2022-02-20T07:59:29.398327Z",
     "start_time": "2022-02-20T07:59:29.384322Z"
    },
    "execution": {
     "iopub.execute_input": "2024-01-24T11:17:05.067683Z",
     "iopub.status.busy": "2024-01-24T11:17:05.067527Z",
     "iopub.status.idle": "2024-01-24T11:17:05.070333Z",
     "shell.execute_reply": "2024-01-24T11:17:05.069910Z",
     "shell.execute_reply.started": "2024-01-24T11:17:05.067670Z"
    }
   },
   "outputs": [],
   "source": [
    "# label_features_dict = {\n",
    "# 'stay_chart_included_mdr':['AGE',\n",
    "#  'mcv',\n",
    "#  'INR',\n",
    "#  'creatinine',\n",
    "#  'PA',\n",
    "#  'rdw',\n",
    "#  'APPT',\n",
    "#  'ca',\n",
    "#  'wbc',\n",
    "#  'fibrinogen',\n",
    "#  'RR',\n",
    "#  'mpv',\n",
    "#  'Temperature',\n",
    "#  'BNP',\n",
    "#  'sodium',\n",
    "#  'urea',\n",
    "#  'bilirubin',\n",
    "#  'ck',\n",
    "#  'BMI',\n",
    "#  'gamma_GT',\n",
    "#  'PCT',\n",
    "#  'IL_6',\n",
    "#  'HR',\n",
    "#  'los_hosp_beforeicu',\n",
    "#  'CRP'\n",
    "# ]\n",
    "# }"
   ]
  },
  {
   "cell_type": "code",
   "execution_count": 6,
   "id": "024cb5e0",
   "metadata": {
    "ExecuteTime": {
     "end_time": "2022-02-20T07:59:29.414326Z",
     "start_time": "2022-02-20T07:59:29.400322Z"
    },
    "execution": {
     "iopub.execute_input": "2024-01-24T11:17:05.071094Z",
     "iopub.status.busy": "2024-01-24T11:17:05.070943Z",
     "iopub.status.idle": "2024-01-24T11:17:05.073856Z",
     "shell.execute_reply": "2024-01-24T11:17:05.073343Z",
     "shell.execute_reply.started": "2024-01-24T11:17:05.071081Z"
    }
   },
   "outputs": [],
   "source": [
    "from sklearn.preprocessing import MinMaxScaler\n",
    "from sklearn.preprocessing import StandardScaler\n",
    "# scaler = StandardScaler()\n",
    "\n",
    "# x_train = scaler.fit_transform(x_train)\n",
    "# x_test = scaler.transform(x_test)"
   ]
  },
  {
   "cell_type": "code",
   "execution_count": 7,
   "id": "c5660d68",
   "metadata": {
    "ExecuteTime": {
     "end_time": "2022-02-20T07:59:29.430323Z",
     "start_time": "2022-02-20T07:59:29.416322Z"
    },
    "execution": {
     "iopub.execute_input": "2024-01-24T11:17:05.074717Z",
     "iopub.status.busy": "2024-01-24T11:17:05.074403Z",
     "iopub.status.idle": "2024-01-24T11:17:05.082097Z",
     "shell.execute_reply": "2024-01-24T11:17:05.081693Z",
     "shell.execute_reply.started": "2024-01-24T11:17:05.074703Z"
    }
   },
   "outputs": [],
   "source": [
    "#lr\n",
    "def lr_cv(expC):\n",
    "    C = 10 ** expC\n",
    "    res = cross_val_score( \n",
    "        LogisticRegression(C = C\n",
    "        ),\n",
    "        x_train, y_train, scoring='roc_auc', cv=5\n",
    "    ).mean()\n",
    "    return res\n",
    "\n",
    "lr_op = BayesianOptimization(\n",
    "        lr_cv,\n",
    "        {'expC': (-5, 2)},\n",
    "    random_state=2024\n",
    ")\n",
    "\n",
    "#knn\n",
    "def knn_cv(n_neighbors, weights):\n",
    "    weights = int(round(weights))\n",
    "    res = cross_val_score( \n",
    "        KNeighborsClassifier(n_neighbors=int(n_neighbors),\n",
    "                            weights= ['uniform', 'distance'][weights]\n",
    "        ),\n",
    "        x_train, y_train, scoring='roc_auc', cv=5\n",
    "    ).mean()\n",
    "    return res\n",
    "\n",
    "knn_op = BayesianOptimization(\n",
    "        knn_cv,\n",
    "        {'n_neighbors': (2, 20),\n",
    "        'weights': (0,1)},\n",
    "    random_state = 2024\n",
    ")\n",
    "\n",
    "#svc\n",
    "def svc_cv(expC, expGamma):\n",
    "    C = 10 ** expC\n",
    "    gamma = 10 ** expGamma\n",
    "    \n",
    "    res = cross_val_score(\n",
    "        SVC(C=C, gamma=gamma,random_state=2024),\n",
    "        x_train, y_train, scoring='roc_auc', cv=5\n",
    "    ).mean()\n",
    "    return res\n",
    "\n",
    "svc_op = BayesianOptimization(\n",
    "        svc_cv,\n",
    "        {'expC': (-5, 3), \n",
    "         'expGamma': (-4, -1)},\n",
    "    random_state = 2024\n",
    ")\n",
    "\n",
    "#mlp\n",
    "def mlp_cv(layer1, layer2):    \n",
    "    res = cross_val_score(\n",
    "        MLPClassifier(hidden_layer_sizes=(int(layer1),int(layer2)),early_stopping = True, random_state=2024),\n",
    "        x_train, y_train, scoring='roc_auc', cv=5\n",
    "    ).mean()\n",
    "    return res\n",
    "\n",
    "mlp_op = BayesianOptimization(\n",
    "        mlp_cv,\n",
    "        {'layer1': (30, 300), \n",
    "         'layer2': (4, 120)},\n",
    "    random_state = 2024\n",
    ")"
   ]
  },
  {
   "cell_type": "code",
   "execution_count": 8,
   "id": "a5bc3dff",
   "metadata": {
    "ExecuteTime": {
     "end_time": "2022-02-20T07:59:29.509328Z",
     "start_time": "2022-02-20T07:59:29.433324Z"
    },
    "execution": {
     "iopub.execute_input": "2024-01-24T11:17:05.082867Z",
     "iopub.status.busy": "2024-01-24T11:17:05.082614Z",
     "iopub.status.idle": "2024-01-24T11:17:05.087322Z",
     "shell.execute_reply": "2024-01-24T11:17:05.086969Z",
     "shell.execute_reply.started": "2024-01-24T11:17:05.082853Z"
    }
   },
   "outputs": [],
   "source": [
    "def optimize_lr(n_iter):\n",
    "    total_param_dict = {}\n",
    "    models_dict = {}\n",
    "    \n",
    "    def lr_cv(expC):\n",
    "        C = 10 ** expC\n",
    "        res = cross_val_score( \n",
    "            LogisticRegression(C = C\n",
    "            ),\n",
    "            x_train, y_train, scoring='roc_auc', cv=5\n",
    "        ).mean()\n",
    "        return res\n",
    "\n",
    "    lr_op = BayesianOptimization(\n",
    "            lr_cv,\n",
    "            {'expC': (-5, 2)},\n",
    "        random_state=2024\n",
    "    )\n",
    "\n",
    "    for i in label_features_dict:\n",
    "        label = i\n",
    "        features = label_features_dict[i]\n",
    "        x_train = dev_df[features]\n",
    "        y_train = dev_df[label]\n",
    "        x_test = val_df[features]\n",
    "        y_test = val_df[label]\n",
    "\n",
    "        scaler = MinMaxScaler()\n",
    "        x_train = scaler.fit_transform(x_train)\n",
    "        x_test = scaler.transform(x_test)      \n",
    "        \n",
    "        lr_op = BayesianOptimization(\n",
    "            lr_cv,\n",
    "            {'expC': (-5, 2)},\n",
    "            random_state=2024)\n",
    "\n",
    "        print('---------------------------特征为：%s-------------------------------'%label)\n",
    "        print('---------------------------模型为：lr-------------------------------')\n",
    "        lr_op.maximize(n_iter=n_iter)\n",
    "        print(lr_op.max)\n",
    "        models_dict[label] = lr_op.max\n",
    "        print('----------------------------------------------------------------------------------------------------')\n",
    "        \n",
    "    return models_dict"
   ]
  },
  {
   "cell_type": "code",
   "execution_count": 14,
   "id": "5ae6cc64",
   "metadata": {
    "ExecuteTime": {
     "end_time": "2022-02-20T07:59:29.525322Z",
     "start_time": "2022-02-20T07:59:29.512322Z"
    },
    "execution": {
     "iopub.execute_input": "2024-01-24T11:18:10.593573Z",
     "iopub.status.busy": "2024-01-24T11:18:10.593183Z",
     "iopub.status.idle": "2024-01-24T11:18:10.604704Z",
     "shell.execute_reply": "2024-01-24T11:18:10.603567Z",
     "shell.execute_reply.started": "2024-01-24T11:18:10.593542Z"
    },
    "tags": []
   },
   "outputs": [],
   "source": [
    "def optimize_knn(n_iter):\n",
    "    total_param_dict = {}\n",
    "    models_dict = {}\n",
    "    \n",
    "    def knn_cv(n_neighbors, weights):\n",
    "        weights = int(round(weights))\n",
    "        res = cross_val_score( \n",
    "            KNeighborsClassifier(n_neighbors=int(n_neighbors),\n",
    "                                weights= ['uniform', 'distance'][weights]\n",
    "            ),\n",
    "            x_train, y_train, scoring='roc_auc', cv=5\n",
    "        ).mean()\n",
    "        return res\n",
    "\n",
    "    for i in label_features_dict:\n",
    "        label = i\n",
    "        features = label_features_dict[i]\n",
    "        x_train = dev_df[features]\n",
    "        y_train = dev_df[label]\n",
    "        x_test = val_df[features]\n",
    "        y_test = val_df[label]\n",
    "\n",
    "        scaler = MinMaxScaler()\n",
    "        x_train = scaler.fit_transform(x_train)\n",
    "        x_test = scaler.transform(x_test)      \n",
    "        \n",
    "        knn_op = BayesianOptimization(\n",
    "            knn_cv,\n",
    "            {'n_neighbors': (2, 50),\n",
    "            'weights': (0,1)},\n",
    "            random_state = 2024,allow_duplicate_points=True)\n",
    "\n",
    "        print('---------------------------特征为：%s-------------------------------'%label)\n",
    "        print('---------------------------模型为：knn-------------------------------')\n",
    "        knn_op.maximize(n_iter=n_iter)\n",
    "        print(knn_op.max)\n",
    "        models_dict[label] = knn_op.max\n",
    "        print('----------------------------------------------------------------------------------------------------')\n",
    "        \n",
    "    return models_dict"
   ]
  },
  {
   "cell_type": "code",
   "execution_count": 15,
   "id": "0a621c18",
   "metadata": {
    "ExecuteTime": {
     "end_time": "2022-02-20T07:59:29.541321Z",
     "start_time": "2022-02-20T07:59:29.527322Z"
    },
    "execution": {
     "iopub.execute_input": "2024-01-24T11:18:11.350615Z",
     "iopub.status.busy": "2024-01-24T11:18:11.350088Z",
     "iopub.status.idle": "2024-01-24T11:18:11.360150Z",
     "shell.execute_reply": "2024-01-24T11:18:11.359369Z",
     "shell.execute_reply.started": "2024-01-24T11:18:11.350569Z"
    },
    "tags": []
   },
   "outputs": [],
   "source": [
    "def optimize_svc(n_iter):\n",
    "    total_param_dict = {}\n",
    "    models_dict = {}\n",
    "    \n",
    "    def svc_cv(expC, expGamma):\n",
    "        C = 10 ** expC\n",
    "        gamma = 10 ** expGamma\n",
    "\n",
    "        res = cross_val_score(\n",
    "            SVC(C=C, gamma=gamma,random_state=2024),\n",
    "            x_train, y_train, scoring='roc_auc', cv=5\n",
    "        ).mean()\n",
    "        return res\n",
    "\n",
    "    for i in label_features_dict:\n",
    "        label = i\n",
    "        features = label_features_dict[i]\n",
    "        x_train = dev_df[features]\n",
    "        y_train = dev_df[label]\n",
    "        x_test = val_df[features]\n",
    "        y_test = val_df[label]\n",
    "\n",
    "        scaler = MinMaxScaler()\n",
    "        x_train = scaler.fit_transform(x_train)\n",
    "        x_test = scaler.transform(x_test)      \n",
    "        \n",
    "        svc_op = BayesianOptimization(\n",
    "            svc_cv,\n",
    "            {'expC': (-3, 2), \n",
    "             'expGamma': (-4, -1)},\n",
    "                random_state = 2024)\n",
    "\n",
    "        print('---------------------------特征为：%s-------------------------------'%label)\n",
    "        print('---------------------------模型为：svc-------------------------------')\n",
    "        svc_op.maximize(n_iter=n_iter)\n",
    "        print(svc_op.max)\n",
    "        models_dict[label] = svc_op.max\n",
    "        print('----------------------------------------------------------------------------------------------------')\n",
    "        \n",
    "    return models_dict"
   ]
  },
  {
   "cell_type": "code",
   "execution_count": 16,
   "id": "a1965f4d",
   "metadata": {
    "ExecuteTime": {
     "end_time": "2022-02-20T07:59:29.557321Z",
     "start_time": "2022-02-20T07:59:29.543322Z"
    },
    "execution": {
     "iopub.execute_input": "2024-01-24T11:18:11.566682Z",
     "iopub.status.busy": "2024-01-24T11:18:11.566322Z",
     "iopub.status.idle": "2024-01-24T11:18:11.574089Z",
     "shell.execute_reply": "2024-01-24T11:18:11.573265Z",
     "shell.execute_reply.started": "2024-01-24T11:18:11.566651Z"
    },
    "tags": []
   },
   "outputs": [],
   "source": [
    "def optimize_mlp(n_iter):\n",
    "    total_param_dict = {}\n",
    "    models_dict = {}\n",
    "    \n",
    "    def mlp_cv(layer1, layer2):    \n",
    "        res = cross_val_score(\n",
    "            MLPClassifier(hidden_layer_sizes=(int(layer1),int(layer2)),early_stopping=False, random_state=2024),\n",
    "            x_train, y_train, scoring='roc_auc', cv=5).mean()\n",
    "        return res\n",
    "\n",
    "    for i in label_features_dict:\n",
    "        label = i\n",
    "        features = label_features_dict[i]\n",
    "        x_train = dev_df[features]\n",
    "        y_train = dev_df[label]\n",
    "        x_test = val_df[features]\n",
    "        y_test = val_df[label]\n",
    "\n",
    "        scaler = MinMaxScaler()\n",
    "        x_train = scaler.fit_transform(x_train)\n",
    "        x_test = scaler.transform(x_test)      \n",
    "        \n",
    "        mlp_op = BayesianOptimization(\n",
    "                mlp_cv,\n",
    "                {'layer1': (30, 300), \n",
    "                 'layer2': (4, 120)},\n",
    "            random_state = 2024)\n",
    "\n",
    "        print('---------------------------特征为：%s-------------------------------'%label)\n",
    "        print('---------------------------模型为：mlp-------------------------------')\n",
    "        mlp_op.maximize(n_iter=n_iter)\n",
    "        print(mlp_op.max)\n",
    "        models_dict[label] = mlp_op.max\n",
    "        print('----------------------------------------------------------------------------------------------------')\n",
    "        \n",
    "    return models_dict"
   ]
  },
  {
   "cell_type": "code",
   "execution_count": 17,
   "id": "97ed8fb1",
   "metadata": {
    "ExecuteTime": {
     "end_time": "2022-02-20T07:59:51.282321Z",
     "start_time": "2022-02-20T07:59:29.559330Z"
    },
    "execution": {
     "iopub.execute_input": "2024-01-24T11:18:11.743681Z",
     "iopub.status.busy": "2024-01-24T11:18:11.743321Z",
     "iopub.status.idle": "2024-01-24T11:18:17.954438Z",
     "shell.execute_reply": "2024-01-24T11:18:17.953654Z",
     "shell.execute_reply.started": "2024-01-24T11:18:11.743650Z"
    },
    "scrolled": true,
    "tags": []
   },
   "outputs": [
    {
     "name": "stdout",
     "output_type": "stream",
     "text": [
      "---------------------------特征为：stay_chart_included_mdr-------------------------------\n",
      "---------------------------模型为：lr-------------------------------\n",
      "|   iter    |  target   |   expC    |\n",
      "-------------------------------------\n",
      "| \u001b[0m1        \u001b[0m | \u001b[0m0.7475   \u001b[0m | \u001b[0m-0.8839  \u001b[0m |\n",
      "| \u001b[95m2        \u001b[0m | \u001b[95m0.7485   \u001b[0m | \u001b[95m-0.1062  \u001b[0m |\n",
      "| \u001b[0m3        \u001b[0m | \u001b[0m0.7426   \u001b[0m | \u001b[0m-3.683   \u001b[0m |\n",
      "| \u001b[0m4        \u001b[0m | \u001b[0m0.7426   \u001b[0m | \u001b[0m-4.693   \u001b[0m |\n",
      "| \u001b[0m5        \u001b[0m | \u001b[0m0.7427   \u001b[0m | \u001b[0m-3.565   \u001b[0m |\n",
      "| \u001b[0m6        \u001b[0m | \u001b[0m0.7419   \u001b[0m | \u001b[0m2.0      \u001b[0m |\n",
      "| \u001b[0m7        \u001b[0m | \u001b[0m0.7467   \u001b[0m | \u001b[0m0.4267   \u001b[0m |\n",
      "| \u001b[95m8        \u001b[0m | \u001b[95m0.7492   \u001b[0m | \u001b[95m-0.4058  \u001b[0m |\n",
      "| \u001b[0m9        \u001b[0m | \u001b[0m0.7491   \u001b[0m | \u001b[0m-0.5113  \u001b[0m |\n",
      "| \u001b[95m10       \u001b[0m | \u001b[95m0.7494   \u001b[0m | \u001b[95m-0.4408  \u001b[0m |\n",
      "| \u001b[0m11       \u001b[0m | \u001b[0m0.7443   \u001b[0m | \u001b[0m-1.563   \u001b[0m |\n",
      "| \u001b[0m12       \u001b[0m | \u001b[0m0.7467   \u001b[0m | \u001b[0m0.4267   \u001b[0m |\n",
      "| \u001b[0m13       \u001b[0m | \u001b[0m0.7491   \u001b[0m | \u001b[0m-0.5114  \u001b[0m |\n",
      "| \u001b[0m14       \u001b[0m | \u001b[0m0.7489   \u001b[0m | \u001b[0m-0.5467  \u001b[0m |\n",
      "| \u001b[0m15       \u001b[0m | \u001b[0m0.7488   \u001b[0m | \u001b[0m-0.1515  \u001b[0m |\n",
      "| \u001b[0m16       \u001b[0m | \u001b[0m0.7428   \u001b[0m | \u001b[0m-2.535   \u001b[0m |\n",
      "| \u001b[0m17       \u001b[0m | \u001b[0m0.749    \u001b[0m | \u001b[0m-0.2     \u001b[0m |\n",
      "| \u001b[0m18       \u001b[0m | \u001b[0m0.7432   \u001b[0m | \u001b[0m1.117    \u001b[0m |\n",
      "| \u001b[0m19       \u001b[0m | \u001b[0m0.7432   \u001b[0m | \u001b[0m-2.023   \u001b[0m |\n",
      "| \u001b[0m20       \u001b[0m | \u001b[0m0.7459   \u001b[0m | \u001b[0m-1.175   \u001b[0m |\n",
      "| \u001b[0m21       \u001b[0m | \u001b[0m0.7491   \u001b[0m | \u001b[0m-0.2469  \u001b[0m |\n",
      "| \u001b[0m22       \u001b[0m | \u001b[0m0.7427   \u001b[0m | \u001b[0m-3.031   \u001b[0m |\n",
      "| \u001b[0m23       \u001b[0m | \u001b[0m0.7475   \u001b[0m | \u001b[0m0.1865   \u001b[0m |\n",
      "| \u001b[0m24       \u001b[0m | \u001b[0m0.7426   \u001b[0m | \u001b[0m-4.206   \u001b[0m |\n",
      "| \u001b[0m25       \u001b[0m | \u001b[0m0.7426   \u001b[0m | \u001b[0m-5.0     \u001b[0m |\n",
      "| \u001b[0m26       \u001b[0m | \u001b[0m0.7491   \u001b[0m | \u001b[0m-0.4611  \u001b[0m |\n",
      "| \u001b[0m27       \u001b[0m | \u001b[0m0.7422   \u001b[0m | \u001b[0m1.544    \u001b[0m |\n",
      "| \u001b[0m28       \u001b[0m | \u001b[0m0.7452   \u001b[0m | \u001b[0m0.7647   \u001b[0m |\n",
      "| \u001b[0m29       \u001b[0m | \u001b[0m0.7482   \u001b[0m | \u001b[0m-0.737   \u001b[0m |\n",
      "| \u001b[0m30       \u001b[0m | \u001b[0m0.7481   \u001b[0m | \u001b[0m0.04574  \u001b[0m |\n",
      "| \u001b[0m31       \u001b[0m | \u001b[0m0.7427   \u001b[0m | \u001b[0m-3.301   \u001b[0m |\n",
      "| \u001b[0m32       \u001b[0m | \u001b[0m0.7472   \u001b[0m | \u001b[0m0.3098   \u001b[0m |\n",
      "| \u001b[0m33       \u001b[0m | \u001b[0m0.7453   \u001b[0m | \u001b[0m-1.353   \u001b[0m |\n",
      "| \u001b[0m34       \u001b[0m | \u001b[0m0.743    \u001b[0m | \u001b[0m-2.275   \u001b[0m |\n",
      "| \u001b[0m35       \u001b[0m | \u001b[0m0.7426   \u001b[0m | \u001b[0m-3.944   \u001b[0m |\n",
      "| \u001b[0m36       \u001b[0m | \u001b[0m0.7491   \u001b[0m | \u001b[0m-0.2001  \u001b[0m |\n",
      "| \u001b[0m37       \u001b[0m | \u001b[0m0.7491   \u001b[0m | \u001b[0m-0.2057  \u001b[0m |\n",
      "| \u001b[0m38       \u001b[0m | \u001b[0m0.7492   \u001b[0m | \u001b[0m-0.4466  \u001b[0m |\n",
      "| \u001b[0m39       \u001b[0m | \u001b[0m0.7492   \u001b[0m | \u001b[0m-0.4541  \u001b[0m |\n",
      "| \u001b[0m40       \u001b[0m | \u001b[0m0.7491   \u001b[0m | \u001b[0m-0.3992  \u001b[0m |\n",
      "| \u001b[0m41       \u001b[0m | \u001b[0m0.7491   \u001b[0m | \u001b[0m-0.2545  \u001b[0m |\n",
      "| \u001b[0m42       \u001b[0m | \u001b[0m0.7471   \u001b[0m | \u001b[0m-1.009   \u001b[0m |\n",
      "| \u001b[0m43       \u001b[0m | \u001b[0m0.7427   \u001b[0m | \u001b[0m-2.781   \u001b[0m |\n",
      "| \u001b[0m44       \u001b[0m | \u001b[0m0.7436   \u001b[0m | \u001b[0m-1.784   \u001b[0m |\n",
      "| \u001b[0m45       \u001b[0m | \u001b[0m0.7426   \u001b[0m | \u001b[0m-4.45    \u001b[0m |\n",
      "| \u001b[0m46       \u001b[0m | \u001b[0m0.742    \u001b[0m | \u001b[0m1.771    \u001b[0m |\n",
      "| \u001b[0m47       \u001b[0m | \u001b[0m0.749    \u001b[0m | \u001b[0m-0.5382  \u001b[0m |\n",
      "| \u001b[0m48       \u001b[0m | \u001b[0m0.7487   \u001b[0m | \u001b[0m-0.6542  \u001b[0m |\n",
      "| \u001b[0m49       \u001b[0m | \u001b[0m0.7423   \u001b[0m | \u001b[0m1.324    \u001b[0m |\n",
      "| \u001b[0m50       \u001b[0m | \u001b[0m0.7441   \u001b[0m | \u001b[0m0.9243   \u001b[0m |\n",
      "=====================================\n",
      "{'target': 0.7493514249075407, 'params': {'expC': -0.4408229265700516}}\n",
      "----------------------------------------------------------------------------------------------------\n"
     ]
    }
   ],
   "source": [
    "models_dict_lr = optimize_lr(45)"
   ]
  },
  {
   "cell_type": "code",
   "execution_count": 18,
   "id": "3cd8741f",
   "metadata": {
    "ExecuteTime": {
     "end_time": "2022-02-20T08:00:15.405913Z",
     "start_time": "2022-02-20T07:59:51.285321Z"
    },
    "execution": {
     "iopub.execute_input": "2024-01-24T11:18:17.966330Z",
     "iopub.status.busy": "2024-01-24T11:18:17.965920Z",
     "iopub.status.idle": "2024-01-24T11:18:29.089825Z",
     "shell.execute_reply": "2024-01-24T11:18:29.089168Z",
     "shell.execute_reply.started": "2024-01-24T11:18:17.966313Z"
    },
    "scrolled": true,
    "tags": []
   },
   "outputs": [
    {
     "name": "stdout",
     "output_type": "stream",
     "text": [
      "---------------------------特征为：stay_chart_included_mdr-------------------------------\n",
      "---------------------------模型为：knn-------------------------------\n",
      "|   iter    |  target   | n_neig... |  weights  |\n",
      "-------------------------------------------------\n",
      "| \u001b[0m1        \u001b[0m | \u001b[0m0.7106   \u001b[0m | \u001b[0m30.22    \u001b[0m | \u001b[0m0.6991   \u001b[0m |\n",
      "| \u001b[0m2        \u001b[0m | \u001b[0m0.6828   \u001b[0m | \u001b[0m11.03    \u001b[0m | \u001b[0m0.04381  \u001b[0m |\n",
      "| \u001b[0m3        \u001b[0m | \u001b[0m0.6828   \u001b[0m | \u001b[0m11.84    \u001b[0m | \u001b[0m0.1061   \u001b[0m |\n",
      "| \u001b[95m4        \u001b[0m | \u001b[95m0.7181   \u001b[0m | \u001b[95m36.91    \u001b[0m | \u001b[95m0.6794   \u001b[0m |\n",
      "| \u001b[0m5        \u001b[0m | \u001b[0m0.6985   \u001b[0m | \u001b[0m24.74    \u001b[0m | \u001b[0m0.4483   \u001b[0m |\n",
      "| \u001b[95m6        \u001b[0m | \u001b[95m0.7263   \u001b[0m | \u001b[95m50.0     \u001b[0m | \u001b[95m1.0      \u001b[0m |\n",
      "| \u001b[0m7        \u001b[0m | \u001b[0m0.7218   \u001b[0m | \u001b[0m46.77    \u001b[0m | \u001b[0m0.0      \u001b[0m |\n",
      "| \u001b[0m8        \u001b[0m | \u001b[0m0.7241   \u001b[0m | \u001b[0m50.0     \u001b[0m | \u001b[0m0.0      \u001b[0m |\n",
      "\u001b[91mData point [50.  1.] is not unique. 1 duplicates registered. Continuing ...\u001b[0m\n",
      "| \u001b[0m9        \u001b[0m | \u001b[0m0.7263   \u001b[0m | \u001b[0m50.0     \u001b[0m | \u001b[0m1.0      \u001b[0m |\n",
      "\u001b[91mData point [50.  1.] is not unique. 2 duplicates registered. Continuing ...\u001b[0m\n",
      "| \u001b[0m10       \u001b[0m | \u001b[0m0.7263   \u001b[0m | \u001b[0m50.0     \u001b[0m | \u001b[0m1.0      \u001b[0m |\n",
      "\u001b[91mData point [50.  1.] is not unique. 3 duplicates registered. Continuing ...\u001b[0m\n",
      "| \u001b[0m11       \u001b[0m | \u001b[0m0.7263   \u001b[0m | \u001b[0m50.0     \u001b[0m | \u001b[0m1.0      \u001b[0m |\n",
      "\u001b[91mData point [50.  1.] is not unique. 4 duplicates registered. Continuing ...\u001b[0m\n",
      "| \u001b[0m12       \u001b[0m | \u001b[0m0.7263   \u001b[0m | \u001b[0m50.0     \u001b[0m | \u001b[0m1.0      \u001b[0m |\n",
      "\u001b[91mData point [50.  1.] is not unique. 5 duplicates registered. Continuing ...\u001b[0m\n",
      "| \u001b[0m13       \u001b[0m | \u001b[0m0.7263   \u001b[0m | \u001b[0m50.0     \u001b[0m | \u001b[0m1.0      \u001b[0m |\n",
      "\u001b[91mData point [50.  1.] is not unique. 6 duplicates registered. Continuing ...\u001b[0m\n",
      "| \u001b[0m14       \u001b[0m | \u001b[0m0.7263   \u001b[0m | \u001b[0m50.0     \u001b[0m | \u001b[0m1.0      \u001b[0m |\n",
      "\u001b[91mData point [50.  1.] is not unique. 7 duplicates registered. Continuing ...\u001b[0m\n",
      "| \u001b[0m15       \u001b[0m | \u001b[0m0.7263   \u001b[0m | \u001b[0m50.0     \u001b[0m | \u001b[0m1.0      \u001b[0m |\n",
      "\u001b[91mData point [50.  1.] is not unique. 8 duplicates registered. Continuing ...\u001b[0m\n",
      "| \u001b[0m16       \u001b[0m | \u001b[0m0.7263   \u001b[0m | \u001b[0m50.0     \u001b[0m | \u001b[0m1.0      \u001b[0m |\n",
      "\u001b[91mData point [50.  1.] is not unique. 9 duplicates registered. Continuing ...\u001b[0m\n",
      "| \u001b[0m17       \u001b[0m | \u001b[0m0.7263   \u001b[0m | \u001b[0m50.0     \u001b[0m | \u001b[0m1.0      \u001b[0m |\n",
      "\u001b[91mData point [50.  1.] is not unique. 10 duplicates registered. Continuing ...\u001b[0m\n",
      "| \u001b[0m18       \u001b[0m | \u001b[0m0.7263   \u001b[0m | \u001b[0m50.0     \u001b[0m | \u001b[0m1.0      \u001b[0m |\n",
      "\u001b[91mData point [50.  1.] is not unique. 11 duplicates registered. Continuing ...\u001b[0m\n",
      "| \u001b[0m19       \u001b[0m | \u001b[0m0.7263   \u001b[0m | \u001b[0m50.0     \u001b[0m | \u001b[0m1.0      \u001b[0m |\n",
      "\u001b[91mData point [50.  1.] is not unique. 12 duplicates registered. Continuing ...\u001b[0m\n",
      "| \u001b[0m20       \u001b[0m | \u001b[0m0.7263   \u001b[0m | \u001b[0m50.0     \u001b[0m | \u001b[0m1.0      \u001b[0m |\n",
      "\u001b[91mData point [50.  1.] is not unique. 13 duplicates registered. Continuing ...\u001b[0m\n",
      "| \u001b[0m21       \u001b[0m | \u001b[0m0.7263   \u001b[0m | \u001b[0m50.0     \u001b[0m | \u001b[0m1.0      \u001b[0m |\n",
      "\u001b[91mData point [50.  1.] is not unique. 14 duplicates registered. Continuing ...\u001b[0m\n",
      "| \u001b[0m22       \u001b[0m | \u001b[0m0.7263   \u001b[0m | \u001b[0m50.0     \u001b[0m | \u001b[0m1.0      \u001b[0m |\n",
      "\u001b[91mData point [50.  1.] is not unique. 15 duplicates registered. Continuing ...\u001b[0m\n",
      "| \u001b[0m23       \u001b[0m | \u001b[0m0.7263   \u001b[0m | \u001b[0m50.0     \u001b[0m | \u001b[0m1.0      \u001b[0m |\n",
      "\u001b[91mData point [50.  1.] is not unique. 16 duplicates registered. Continuing ...\u001b[0m\n",
      "| \u001b[0m24       \u001b[0m | \u001b[0m0.7263   \u001b[0m | \u001b[0m50.0     \u001b[0m | \u001b[0m1.0      \u001b[0m |\n",
      "\u001b[91mData point [50.  1.] is not unique. 17 duplicates registered. Continuing ...\u001b[0m\n",
      "| \u001b[0m25       \u001b[0m | \u001b[0m0.7263   \u001b[0m | \u001b[0m50.0     \u001b[0m | \u001b[0m1.0      \u001b[0m |\n",
      "\u001b[91mData point [50.  1.] is not unique. 18 duplicates registered. Continuing ...\u001b[0m\n",
      "| \u001b[0m26       \u001b[0m | \u001b[0m0.7263   \u001b[0m | \u001b[0m50.0     \u001b[0m | \u001b[0m1.0      \u001b[0m |\n",
      "\u001b[91mData point [50.  1.] is not unique. 19 duplicates registered. Continuing ...\u001b[0m\n",
      "| \u001b[0m27       \u001b[0m | \u001b[0m0.7263   \u001b[0m | \u001b[0m50.0     \u001b[0m | \u001b[0m1.0      \u001b[0m |\n",
      "\u001b[91mData point [50.  1.] is not unique. 20 duplicates registered. Continuing ...\u001b[0m\n",
      "| \u001b[0m28       \u001b[0m | \u001b[0m0.7263   \u001b[0m | \u001b[0m50.0     \u001b[0m | \u001b[0m1.0      \u001b[0m |\n",
      "\u001b[91mData point [50.  1.] is not unique. 21 duplicates registered. Continuing ...\u001b[0m\n",
      "| \u001b[0m29       \u001b[0m | \u001b[0m0.7263   \u001b[0m | \u001b[0m50.0     \u001b[0m | \u001b[0m1.0      \u001b[0m |\n",
      "\u001b[91mData point [50.  1.] is not unique. 22 duplicates registered. Continuing ...\u001b[0m\n",
      "| \u001b[0m30       \u001b[0m | \u001b[0m0.7263   \u001b[0m | \u001b[0m50.0     \u001b[0m | \u001b[0m1.0      \u001b[0m |\n",
      "\u001b[91mData point [50.  1.] is not unique. 23 duplicates registered. Continuing ...\u001b[0m\n",
      "| \u001b[0m31       \u001b[0m | \u001b[0m0.7263   \u001b[0m | \u001b[0m50.0     \u001b[0m | \u001b[0m1.0      \u001b[0m |\n",
      "\u001b[91mData point [50.  1.] is not unique. 24 duplicates registered. Continuing ...\u001b[0m\n",
      "| \u001b[0m32       \u001b[0m | \u001b[0m0.7263   \u001b[0m | \u001b[0m50.0     \u001b[0m | \u001b[0m1.0      \u001b[0m |\n",
      "\u001b[91mData point [50.  1.] is not unique. 25 duplicates registered. Continuing ...\u001b[0m\n",
      "| \u001b[0m33       \u001b[0m | \u001b[0m0.7263   \u001b[0m | \u001b[0m50.0     \u001b[0m | \u001b[0m1.0      \u001b[0m |\n",
      "\u001b[91mData point [50.  1.] is not unique. 26 duplicates registered. Continuing ...\u001b[0m\n",
      "| \u001b[0m34       \u001b[0m | \u001b[0m0.7263   \u001b[0m | \u001b[0m50.0     \u001b[0m | \u001b[0m1.0      \u001b[0m |\n",
      "\u001b[91mData point [50.  1.] is not unique. 27 duplicates registered. Continuing ...\u001b[0m\n",
      "| \u001b[0m35       \u001b[0m | \u001b[0m0.7263   \u001b[0m | \u001b[0m50.0     \u001b[0m | \u001b[0m1.0      \u001b[0m |\n",
      "\u001b[91mData point [50.  1.] is not unique. 28 duplicates registered. Continuing ...\u001b[0m\n",
      "| \u001b[0m36       \u001b[0m | \u001b[0m0.7263   \u001b[0m | \u001b[0m50.0     \u001b[0m | \u001b[0m1.0      \u001b[0m |\n",
      "\u001b[91mData point [50.  1.] is not unique. 29 duplicates registered. Continuing ...\u001b[0m\n",
      "| \u001b[0m37       \u001b[0m | \u001b[0m0.7263   \u001b[0m | \u001b[0m50.0     \u001b[0m | \u001b[0m1.0      \u001b[0m |\n",
      "\u001b[91mData point [50.  1.] is not unique. 30 duplicates registered. Continuing ...\u001b[0m\n",
      "| \u001b[0m38       \u001b[0m | \u001b[0m0.7263   \u001b[0m | \u001b[0m50.0     \u001b[0m | \u001b[0m1.0      \u001b[0m |\n",
      "| \u001b[0m39       \u001b[0m | \u001b[0m0.7245   \u001b[0m | \u001b[0m49.85    \u001b[0m | \u001b[0m1.0      \u001b[0m |\n",
      "| \u001b[0m40       \u001b[0m | \u001b[0m0.5907   \u001b[0m | \u001b[0m2.0      \u001b[0m | \u001b[0m0.8846   \u001b[0m |\n",
      "| \u001b[0m41       \u001b[0m | \u001b[0m0.7155   \u001b[0m | \u001b[0m42.07    \u001b[0m | \u001b[0m0.0      \u001b[0m |\n",
      "| \u001b[0m42       \u001b[0m | \u001b[0m0.6964   \u001b[0m | \u001b[0m18.89    \u001b[0m | \u001b[0m1.0      \u001b[0m |\n",
      "| \u001b[0m43       \u001b[0m | \u001b[0m0.7115   \u001b[0m | \u001b[0m33.75    \u001b[0m | \u001b[0m0.0      \u001b[0m |\n",
      "| \u001b[0m44       \u001b[0m | \u001b[0m0.7221   \u001b[0m | \u001b[0m44.62    \u001b[0m | \u001b[0m1.0      \u001b[0m |\n",
      "| \u001b[0m45       \u001b[0m | \u001b[0m0.7193   \u001b[0m | \u001b[0m39.54    \u001b[0m | \u001b[0m1.0      \u001b[0m |\n",
      "| \u001b[0m46       \u001b[0m | \u001b[0m0.7188   \u001b[0m | \u001b[0m44.89    \u001b[0m | \u001b[0m0.0      \u001b[0m |\n",
      "| \u001b[0m47       \u001b[0m | \u001b[0m0.7161   \u001b[0m | \u001b[0m38.56    \u001b[0m | \u001b[0m0.0      \u001b[0m |\n",
      "| \u001b[0m48       \u001b[0m | \u001b[0m0.7245   \u001b[0m | \u001b[0m46.25    \u001b[0m | \u001b[0m1.0      \u001b[0m |\n",
      "| \u001b[0m49       \u001b[0m | \u001b[0m0.7071   \u001b[0m | \u001b[0m28.08    \u001b[0m | \u001b[0m0.01636  \u001b[0m |\n",
      "| \u001b[0m50       \u001b[0m | \u001b[0m0.7176   \u001b[0m | \u001b[0m41.94    \u001b[0m | \u001b[0m1.0      \u001b[0m |\n",
      "=================================================\n",
      "{'target': 0.7263443760339243, 'params': {'n_neighbors': 50.0, 'weights': 1.0}}\n",
      "----------------------------------------------------------------------------------------------------\n"
     ]
    }
   ],
   "source": [
    "models_dict_knn = optimize_knn(45)"
   ]
  },
  {
   "cell_type": "code",
   "execution_count": 19,
   "id": "b0455192",
   "metadata": {
    "ExecuteTime": {
     "end_time": "2022-02-20T08:01:13.319914Z",
     "start_time": "2022-02-20T08:00:15.408913Z"
    },
    "execution": {
     "iopub.execute_input": "2024-01-24T11:21:38.933450Z",
     "iopub.status.busy": "2024-01-24T11:21:38.932581Z",
     "iopub.status.idle": "2024-01-24T11:21:55.914340Z",
     "shell.execute_reply": "2024-01-24T11:21:55.913675Z",
     "shell.execute_reply.started": "2024-01-24T11:21:38.933421Z"
    },
    "tags": []
   },
   "outputs": [
    {
     "name": "stdout",
     "output_type": "stream",
     "text": [
      "---------------------------特征为：stay_chart_included_mdr-------------------------------\n",
      "---------------------------模型为：svc-------------------------------\n",
      "|   iter    |  target   |   expC    | expGamma  |\n",
      "-------------------------------------------------\n",
      "| \u001b[0m1        \u001b[0m | \u001b[0m0.5699   \u001b[0m | \u001b[0m-0.05993 \u001b[0m | \u001b[0m-1.903   \u001b[0m |\n",
      "| \u001b[95m2        \u001b[0m | \u001b[95m0.6622   \u001b[0m | \u001b[95m-2.059   \u001b[0m | \u001b[95m-3.869   \u001b[0m |\n",
      "| \u001b[95m3        \u001b[0m | \u001b[95m0.7068   \u001b[0m | \u001b[95m-1.975   \u001b[0m | \u001b[95m-3.682   \u001b[0m |\n",
      "| \u001b[0m4        \u001b[0m | \u001b[0m0.5355   \u001b[0m | \u001b[0m0.6362   \u001b[0m | \u001b[0m-1.962   \u001b[0m |\n",
      "| \u001b[0m5        \u001b[0m | \u001b[0m0.6153   \u001b[0m | \u001b[0m-0.6308  \u001b[0m | \u001b[0m-2.655   \u001b[0m |\n",
      "| \u001b[0m6        \u001b[0m | \u001b[0m0.6649   \u001b[0m | \u001b[0m-2.064   \u001b[0m | \u001b[0m-3.86    \u001b[0m |\n",
      "| \u001b[0m7        \u001b[0m | \u001b[0m0.6456   \u001b[0m | \u001b[0m-2.222   \u001b[0m | \u001b[0m-3.323   \u001b[0m |\n",
      "| \u001b[0m8        \u001b[0m | \u001b[0m0.6464   \u001b[0m | \u001b[0m-1.289   \u001b[0m | \u001b[0m-2.486   \u001b[0m |\n",
      "| \u001b[0m9        \u001b[0m | \u001b[0m0.6586   \u001b[0m | \u001b[0m-1.972   \u001b[0m | \u001b[0m-3.69    \u001b[0m |\n",
      "| \u001b[0m10       \u001b[0m | \u001b[0m0.6828   \u001b[0m | \u001b[0m-1.95    \u001b[0m | \u001b[0m-3.656   \u001b[0m |\n",
      "| \u001b[0m11       \u001b[0m | \u001b[0m0.6452   \u001b[0m | \u001b[0m-2.481   \u001b[0m | \u001b[0m-2.257   \u001b[0m |\n",
      "| \u001b[0m12       \u001b[0m | \u001b[0m0.6779   \u001b[0m | \u001b[0m-2.005   \u001b[0m | \u001b[0m-3.69    \u001b[0m |\n",
      "| \u001b[0m13       \u001b[0m | \u001b[0m0.6938   \u001b[0m | \u001b[0m-1.987   \u001b[0m | \u001b[0m-3.686   \u001b[0m |\n",
      "| \u001b[0m14       \u001b[0m | \u001b[0m0.6443   \u001b[0m | \u001b[0m-2.033   \u001b[0m | \u001b[0m-3.666   \u001b[0m |\n",
      "| \u001b[0m15       \u001b[0m | \u001b[0m0.6643   \u001b[0m | \u001b[0m-1.981   \u001b[0m | \u001b[0m-3.662   \u001b[0m |\n",
      "| \u001b[0m16       \u001b[0m | \u001b[0m0.6841   \u001b[0m | \u001b[0m-2.044   \u001b[0m | \u001b[0m-3.84    \u001b[0m |\n",
      "| \u001b[0m17       \u001b[0m | \u001b[0m0.6834   \u001b[0m | \u001b[0m-2.045   \u001b[0m | \u001b[0m-3.842   \u001b[0m |\n",
      "| \u001b[0m18       \u001b[0m | \u001b[0m0.6918   \u001b[0m | \u001b[0m-2.066   \u001b[0m | \u001b[0m-3.813   \u001b[0m |\n",
      "| \u001b[0m19       \u001b[0m | \u001b[0m0.6684   \u001b[0m | \u001b[0m-2.101   \u001b[0m | \u001b[0m-3.8     \u001b[0m |\n",
      "| \u001b[0m20       \u001b[0m | \u001b[0m0.6845   \u001b[0m | \u001b[0m-2.046   \u001b[0m | \u001b[0m-3.817   \u001b[0m |\n",
      "| \u001b[0m21       \u001b[0m | \u001b[0m0.6975   \u001b[0m | \u001b[0m-2.04    \u001b[0m | \u001b[0m-3.786   \u001b[0m |\n",
      "| \u001b[0m22       \u001b[0m | \u001b[0m0.6789   \u001b[0m | \u001b[0m-2.07    \u001b[0m | \u001b[0m-3.77    \u001b[0m |\n",
      "| \u001b[0m23       \u001b[0m | \u001b[0m0.6758   \u001b[0m | \u001b[0m-2.023   \u001b[0m | \u001b[0m-3.807   \u001b[0m |\n",
      "| \u001b[0m24       \u001b[0m | \u001b[0m0.6735   \u001b[0m | \u001b[0m-1.917   \u001b[0m | \u001b[0m-3.637   \u001b[0m |\n",
      "| \u001b[0m25       \u001b[0m | \u001b[0m0.664    \u001b[0m | \u001b[0m-2.038   \u001b[0m | \u001b[0m-3.761   \u001b[0m |\n",
      "| \u001b[0m26       \u001b[0m | \u001b[0m0.7034   \u001b[0m | \u001b[0m-1.952   \u001b[0m | \u001b[0m-3.618   \u001b[0m |\n",
      "| \u001b[0m27       \u001b[0m | \u001b[0m0.5942   \u001b[0m | \u001b[0m0.5281   \u001b[0m | \u001b[0m-3.075   \u001b[0m |\n",
      "| \u001b[0m28       \u001b[0m | \u001b[0m0.6661   \u001b[0m | \u001b[0m-1.93    \u001b[0m | \u001b[0m-3.585   \u001b[0m |\n",
      "| \u001b[0m29       \u001b[0m | \u001b[0m0.5815   \u001b[0m | \u001b[0m1.42     \u001b[0m | \u001b[0m-1.959   \u001b[0m |\n",
      "| \u001b[0m30       \u001b[0m | \u001b[0m0.6683   \u001b[0m | \u001b[0m-1.971   \u001b[0m | \u001b[0m-3.591   \u001b[0m |\n",
      "| \u001b[0m31       \u001b[0m | \u001b[0m0.6671   \u001b[0m | \u001b[0m-1.987   \u001b[0m | \u001b[0m-3.616   \u001b[0m |\n",
      "| \u001b[0m32       \u001b[0m | \u001b[0m0.6934   \u001b[0m | \u001b[0m-0.4841  \u001b[0m | \u001b[0m-3.591   \u001b[0m |\n",
      "| \u001b[0m33       \u001b[0m | \u001b[0m0.7037   \u001b[0m | \u001b[0m-2.543   \u001b[0m | \u001b[0m-3.932   \u001b[0m |\n",
      "| \u001b[0m34       \u001b[0m | \u001b[0m0.6856   \u001b[0m | \u001b[0m-2.515   \u001b[0m | \u001b[0m-3.93    \u001b[0m |\n",
      "| \u001b[0m35       \u001b[0m | \u001b[0m0.5382   \u001b[0m | \u001b[0m-1.527   \u001b[0m | \u001b[0m-1.584   \u001b[0m |\n",
      "| \u001b[0m36       \u001b[0m | \u001b[0m0.6094   \u001b[0m | \u001b[0m-2.54    \u001b[0m | \u001b[0m-3.956   \u001b[0m |\n",
      "| \u001b[0m37       \u001b[0m | \u001b[0m0.7065   \u001b[0m | \u001b[0m-2.522   \u001b[0m | \u001b[0m-3.909   \u001b[0m |\n",
      "| \u001b[0m38       \u001b[0m | \u001b[0m0.6888   \u001b[0m | \u001b[0m-0.4596  \u001b[0m | \u001b[0m-3.572   \u001b[0m |\n",
      "| \u001b[0m39       \u001b[0m | \u001b[0m0.6181   \u001b[0m | \u001b[0m-2.567   \u001b[0m | \u001b[0m-3.904   \u001b[0m |\n",
      "| \u001b[0m40       \u001b[0m | \u001b[0m0.625    \u001b[0m | \u001b[0m1.49     \u001b[0m | \u001b[0m-3.725   \u001b[0m |\n",
      "| \u001b[0m41       \u001b[0m | \u001b[0m0.6562   \u001b[0m | \u001b[0m-0.488   \u001b[0m | \u001b[0m-3.557   \u001b[0m |\n",
      "| \u001b[0m42       \u001b[0m | \u001b[0m0.6769   \u001b[0m | \u001b[0m-0.4865  \u001b[0m | \u001b[0m-3.623   \u001b[0m |\n",
      "| \u001b[0m43       \u001b[0m | \u001b[0m0.6693   \u001b[0m | \u001b[0m-2.512   \u001b[0m | \u001b[0m-3.885   \u001b[0m |\n",
      "| \u001b[95m44       \u001b[0m | \u001b[95m0.7091   \u001b[0m | \u001b[95m-2.474   \u001b[0m | \u001b[95m-3.913   \u001b[0m |\n",
      "| \u001b[0m45       \u001b[0m | \u001b[0m0.6926   \u001b[0m | \u001b[0m-0.444   \u001b[0m | \u001b[0m-3.604   \u001b[0m |\n",
      "| \u001b[0m46       \u001b[0m | \u001b[0m0.6482   \u001b[0m | \u001b[0m-2.464   \u001b[0m | \u001b[0m-3.924   \u001b[0m |\n",
      "| \u001b[0m47       \u001b[0m | \u001b[0m0.6785   \u001b[0m | \u001b[0m-0.4386  \u001b[0m | \u001b[0m-3.575   \u001b[0m |\n",
      "| \u001b[0m48       \u001b[0m | \u001b[0m0.5953   \u001b[0m | \u001b[0m-1.078   \u001b[0m | \u001b[0m-1.433   \u001b[0m |\n",
      "| \u001b[0m49       \u001b[0m | \u001b[0m0.6855   \u001b[0m | \u001b[0m-0.4072  \u001b[0m | \u001b[0m-3.619   \u001b[0m |\n",
      "| \u001b[0m50       \u001b[0m | \u001b[0m0.625    \u001b[0m | \u001b[0m-2.49    \u001b[0m | \u001b[0m-3.905   \u001b[0m |\n",
      "=================================================\n",
      "{'target': 0.7090906413564475, 'params': {'expC': -2.4742751381135673, 'expGamma': -3.9128199792162386}}\n",
      "----------------------------------------------------------------------------------------------------\n"
     ]
    }
   ],
   "source": [
    "models_dict_svc = optimize_svc(45)"
   ]
  },
  {
   "cell_type": "code",
   "execution_count": 20,
   "id": "9c7678d0",
   "metadata": {
    "ExecuteTime": {
     "end_time": "2022-02-20T08:22:45.662955Z",
     "start_time": "2022-02-20T08:01:13.321914Z"
    },
    "execution": {
     "iopub.execute_input": "2024-01-24T11:21:55.922995Z",
     "iopub.status.busy": "2024-01-24T11:21:55.922840Z",
     "iopub.status.idle": "2024-01-24T11:33:36.331340Z",
     "shell.execute_reply": "2024-01-24T11:33:36.330597Z",
     "shell.execute_reply.started": "2024-01-24T11:21:55.922981Z"
    },
    "tags": []
   },
   "outputs": [
    {
     "name": "stdout",
     "output_type": "stream",
     "text": [
      "---------------------------特征为：stay_chart_included_mdr-------------------------------\n",
      "---------------------------模型为：mlp-------------------------------\n",
      "|   iter    |  target   |  layer1   |  layer2   |\n",
      "-------------------------------------------------\n",
      "| \u001b[0m1        \u001b[0m | \u001b[0m0.6078   \u001b[0m | \u001b[0m188.8    \u001b[0m | \u001b[0m85.1     \u001b[0m |\n",
      "| \u001b[95m2        \u001b[0m | \u001b[95m0.7296   \u001b[0m | \u001b[95m80.8     \u001b[0m | \u001b[95m9.082    \u001b[0m |\n",
      "| \u001b[0m3        \u001b[0m | \u001b[0m0.7137   \u001b[0m | \u001b[0m85.36    \u001b[0m | \u001b[0m16.3     \u001b[0m |\n",
      "| \u001b[0m4        \u001b[0m | \u001b[0m0.6244   \u001b[0m | \u001b[0m226.4    \u001b[0m | \u001b[0m82.81    \u001b[0m |\n",
      "| \u001b[0m5        \u001b[0m | \u001b[0m0.6473   \u001b[0m | \u001b[0m157.9    \u001b[0m | \u001b[0m56.0     \u001b[0m |\n",
      "| \u001b[95m6        \u001b[0m | \u001b[95m0.7432   \u001b[0m | \u001b[95m32.07    \u001b[0m | \u001b[95m4.0      \u001b[0m |\n",
      "| \u001b[0m7        \u001b[0m | \u001b[0m0.706    \u001b[0m | \u001b[0m30.0     \u001b[0m | \u001b[0m120.0    \u001b[0m |\n",
      "| \u001b[0m8        \u001b[0m | \u001b[0m0.7369   \u001b[0m | \u001b[0m81.57    \u001b[0m | \u001b[0m7.7      \u001b[0m |\n",
      "| \u001b[0m9        \u001b[0m | \u001b[0m0.7347   \u001b[0m | \u001b[0m112.8    \u001b[0m | \u001b[0m4.325    \u001b[0m |\n",
      "| \u001b[0m10       \u001b[0m | \u001b[0m0.7188   \u001b[0m | \u001b[0m30.0     \u001b[0m | \u001b[0m43.78    \u001b[0m |\n",
      "| \u001b[0m11       \u001b[0m | \u001b[0m0.6914   \u001b[0m | \u001b[0m300.0    \u001b[0m | \u001b[0m4.0      \u001b[0m |\n",
      "| \u001b[0m12       \u001b[0m | \u001b[0m0.6496   \u001b[0m | \u001b[0m85.0     \u001b[0m | \u001b[0m120.0    \u001b[0m |\n",
      "| \u001b[0m13       \u001b[0m | \u001b[0m0.5943   \u001b[0m | \u001b[0m300.0    \u001b[0m | \u001b[0m120.0    \u001b[0m |\n",
      "| \u001b[0m14       \u001b[0m | \u001b[0m0.706    \u001b[0m | \u001b[0m30.0     \u001b[0m | \u001b[0m81.15    \u001b[0m |\n",
      "| \u001b[0m15       \u001b[0m | \u001b[0m0.7139   \u001b[0m | \u001b[0m239.0    \u001b[0m | \u001b[0m4.0      \u001b[0m |\n",
      "| \u001b[0m16       \u001b[0m | \u001b[0m0.7264   \u001b[0m | \u001b[0m194.3    \u001b[0m | \u001b[0m4.0      \u001b[0m |\n",
      "| \u001b[0m17       \u001b[0m | \u001b[0m0.7407   \u001b[0m | \u001b[0m157.0    \u001b[0m | \u001b[0m4.0      \u001b[0m |\n",
      "| \u001b[0m18       \u001b[0m | \u001b[0m0.6552   \u001b[0m | \u001b[0m270.0    \u001b[0m | \u001b[0m37.4     \u001b[0m |\n",
      "| \u001b[0m19       \u001b[0m | \u001b[0m0.6813   \u001b[0m | \u001b[0m68.89    \u001b[0m | \u001b[0m67.95    \u001b[0m |\n",
      "| \u001b[0m20       \u001b[0m | \u001b[0m0.6949   \u001b[0m | \u001b[0m136.9    \u001b[0m | \u001b[0m20.03    \u001b[0m |\n",
      "| \u001b[0m21       \u001b[0m | \u001b[0m0.7328   \u001b[0m | \u001b[0m96.0     \u001b[0m | \u001b[0m4.0      \u001b[0m |\n",
      "| \u001b[0m22       \u001b[0m | \u001b[0m0.741    \u001b[0m | \u001b[0m52.01    \u001b[0m | \u001b[0m4.0      \u001b[0m |\n",
      "| \u001b[0m23       \u001b[0m | \u001b[0m0.6938   \u001b[0m | \u001b[0m214.0    \u001b[0m | \u001b[0m24.79    \u001b[0m |\n",
      "| \u001b[0m24       \u001b[0m | \u001b[0m0.6974   \u001b[0m | \u001b[0m174.6    \u001b[0m | \u001b[0m16.24    \u001b[0m |\n",
      "| \u001b[0m25       \u001b[0m | \u001b[0m0.7337   \u001b[0m | \u001b[0m38.38    \u001b[0m | \u001b[0m21.5     \u001b[0m |\n",
      "| \u001b[0m26       \u001b[0m | \u001b[0m0.6226   \u001b[0m | \u001b[0m141.0    \u001b[0m | \u001b[0m120.0    \u001b[0m |\n",
      "| \u001b[0m27       \u001b[0m | \u001b[0m0.6927   \u001b[0m | \u001b[0m106.5    \u001b[0m | \u001b[0m49.26    \u001b[0m |\n",
      "| \u001b[0m28       \u001b[0m | \u001b[0m0.7409   \u001b[0m | \u001b[0m135.5    \u001b[0m | \u001b[0m4.0      \u001b[0m |\n",
      "| \u001b[0m29       \u001b[0m | \u001b[0m0.7116   \u001b[0m | \u001b[0m214.8    \u001b[0m | \u001b[0m4.07     \u001b[0m |\n",
      "| \u001b[0m30       \u001b[0m | \u001b[0m0.7388   \u001b[0m | \u001b[0m265.3    \u001b[0m | \u001b[0m5.366    \u001b[0m |\n",
      "| \u001b[0m31       \u001b[0m | \u001b[0m0.5958   \u001b[0m | \u001b[0m300.0    \u001b[0m | \u001b[0m63.77    \u001b[0m |\n",
      "| \u001b[0m32       \u001b[0m | \u001b[0m0.696    \u001b[0m | \u001b[0m50.23    \u001b[0m | \u001b[0m101.2    \u001b[0m |\n",
      "| \u001b[0m33       \u001b[0m | \u001b[0m0.6099   \u001b[0m | \u001b[0m238.8    \u001b[0m | \u001b[0m120.0    \u001b[0m |\n",
      "| \u001b[0m34       \u001b[0m | \u001b[0m0.7361   \u001b[0m | \u001b[0m30.02    \u001b[0m | \u001b[0m16.39    \u001b[0m |\n",
      "| \u001b[0m35       \u001b[0m | \u001b[0m0.7098   \u001b[0m | \u001b[0m277.9    \u001b[0m | \u001b[0m4.489    \u001b[0m |\n",
      "| \u001b[0m36       \u001b[0m | \u001b[0m0.6598   \u001b[0m | \u001b[0m253.8    \u001b[0m | \u001b[0m16.04    \u001b[0m |\n",
      "| \u001b[0m37       \u001b[0m | \u001b[0m0.7107   \u001b[0m | \u001b[0m53.41    \u001b[0m | \u001b[0m42.47    \u001b[0m |\n",
      "| \u001b[0m38       \u001b[0m | \u001b[0m0.6452   \u001b[0m | \u001b[0m110.5    \u001b[0m | \u001b[0m80.72    \u001b[0m |\n",
      "| \u001b[0m39       \u001b[0m | \u001b[0m0.7075   \u001b[0m | \u001b[0m111.1    \u001b[0m | \u001b[0m24.55    \u001b[0m |\n",
      "| \u001b[0m40       \u001b[0m | \u001b[0m0.7374   \u001b[0m | \u001b[0m68.24    \u001b[0m | \u001b[0m4.0      \u001b[0m |\n",
      "| \u001b[0m41       \u001b[0m | \u001b[0m0.7153   \u001b[0m | \u001b[0m41.54    \u001b[0m | \u001b[0m62.16    \u001b[0m |\n",
      "| \u001b[0m42       \u001b[0m | \u001b[0m0.7235   \u001b[0m | \u001b[0m173.4    \u001b[0m | \u001b[0m4.0      \u001b[0m |\n",
      "| \u001b[0m43       \u001b[0m | \u001b[0m0.7407   \u001b[0m | \u001b[0m41.25    \u001b[0m | \u001b[0m4.349    \u001b[0m |\n",
      "| \u001b[0m44       \u001b[0m | \u001b[0m0.7379   \u001b[0m | \u001b[0m127.0    \u001b[0m | \u001b[0m5.08     \u001b[0m |\n",
      "| \u001b[0m45       \u001b[0m | \u001b[0m0.7334   \u001b[0m | \u001b[0m146.8    \u001b[0m | \u001b[0m4.042    \u001b[0m |\n",
      "| \u001b[0m46       \u001b[0m | \u001b[0m0.7328   \u001b[0m | \u001b[0m257.7    \u001b[0m | \u001b[0m4.0      \u001b[0m |\n",
      "| \u001b[0m47       \u001b[0m | \u001b[0m0.7397   \u001b[0m | \u001b[0m84.01    \u001b[0m | \u001b[0m4.161    \u001b[0m |\n",
      "| \u001b[0m48       \u001b[0m | \u001b[0m0.5989   \u001b[0m | \u001b[0m191.5    \u001b[0m | \u001b[0m119.9    \u001b[0m |\n",
      "| \u001b[0m49       \u001b[0m | \u001b[0m0.6629   \u001b[0m | \u001b[0m195.6    \u001b[0m | \u001b[0m42.82    \u001b[0m |\n",
      "| \u001b[0m50       \u001b[0m | \u001b[0m0.6663   \u001b[0m | \u001b[0m54.03    \u001b[0m | \u001b[0m119.8    \u001b[0m |\n",
      "=================================================\n",
      "{'target': 0.7432244345237187, 'params': {'layer1': 32.070433944748565, 'layer2': 4.0}}\n",
      "----------------------------------------------------------------------------------------------------\n"
     ]
    }
   ],
   "source": [
    "models_dict_mlp = optimize_mlp(45)"
   ]
  },
  {
   "cell_type": "code",
   "execution_count": 21,
   "id": "5fc8f219",
   "metadata": {
    "ExecuteTime": {
     "end_time": "2022-02-20T08:22:45.678955Z",
     "start_time": "2022-02-20T08:22:45.665955Z"
    },
    "execution": {
     "iopub.execute_input": "2024-01-24T11:33:36.333374Z",
     "iopub.status.busy": "2024-01-24T11:33:36.333044Z",
     "iopub.status.idle": "2024-01-24T11:33:36.336875Z",
     "shell.execute_reply": "2024-01-24T11:33:36.336297Z",
     "shell.execute_reply.started": "2024-01-24T11:33:36.333352Z"
    },
    "tags": []
   },
   "outputs": [],
   "source": [
    "models_dict_lr_mod = models_dict_lr.copy()\n",
    "models_dict_knn_mod =models_dict_knn.copy()\n",
    "models_dict_svc_mod =models_dict_svc.copy()\n",
    "models_dict_mlp_mod =models_dict_mlp.copy()"
   ]
  },
  {
   "cell_type": "code",
   "execution_count": 22,
   "id": "b57e1d49",
   "metadata": {
    "ExecuteTime": {
     "end_time": "2022-02-20T08:22:45.694955Z",
     "start_time": "2022-02-20T08:22:45.681955Z"
    },
    "execution": {
     "iopub.execute_input": "2024-01-24T11:33:36.337692Z",
     "iopub.status.busy": "2024-01-24T11:33:36.337512Z",
     "iopub.status.idle": "2024-01-24T11:33:36.341512Z",
     "shell.execute_reply": "2024-01-24T11:33:36.341021Z",
     "shell.execute_reply.started": "2024-01-24T11:33:36.337677Z"
    },
    "tags": []
   },
   "outputs": [
    {
     "data": {
      "text/plain": [
       "{'stay_chart_included_mdr': {'target': 0.7493514249075407,\n",
       "  'params': {'expC': -0.4408229265700516}}}"
      ]
     },
     "execution_count": 22,
     "metadata": {},
     "output_type": "execute_result"
    }
   ],
   "source": [
    "models_dict_lr_mod"
   ]
  },
  {
   "cell_type": "code",
   "execution_count": 23,
   "id": "cff0c87b",
   "metadata": {
    "ExecuteTime": {
     "end_time": "2022-02-20T08:22:45.710955Z",
     "start_time": "2022-02-20T08:22:45.697955Z"
    },
    "execution": {
     "iopub.execute_input": "2024-01-24T11:33:36.342435Z",
     "iopub.status.busy": "2024-01-24T11:33:36.342133Z",
     "iopub.status.idle": "2024-01-24T11:33:36.345328Z",
     "shell.execute_reply": "2024-01-24T11:33:36.344824Z",
     "shell.execute_reply.started": "2024-01-24T11:33:36.342418Z"
    },
    "tags": []
   },
   "outputs": [],
   "source": [
    "for i in models_dict_lr_mod:\n",
    "    models_dict_lr_mod[i]['params']['C'] = round(10 ** models_dict_lr_mod[i]['params']['expC'],5)\n",
    "    del models_dict_lr_mod[i]['params']['expC']"
   ]
  },
  {
   "cell_type": "code",
   "execution_count": 24,
   "id": "a768c5a7",
   "metadata": {
    "ExecuteTime": {
     "end_time": "2022-02-20T08:22:45.726955Z",
     "start_time": "2022-02-20T08:22:45.713956Z"
    },
    "execution": {
     "iopub.execute_input": "2024-01-24T11:33:36.346264Z",
     "iopub.status.busy": "2024-01-24T11:33:36.345967Z",
     "iopub.status.idle": "2024-01-24T11:33:36.349296Z",
     "shell.execute_reply": "2024-01-24T11:33:36.348787Z",
     "shell.execute_reply.started": "2024-01-24T11:33:36.346247Z"
    },
    "tags": []
   },
   "outputs": [],
   "source": [
    "for i in models_dict_knn_mod:\n",
    "    models_dict_knn_mod[i]['params']['n_neighbors'] = int(models_dict_knn_mod[i]['params']['n_neighbors'])\n",
    "    models_dict_knn_mod[i]['params']['weights'] = ['uniform', 'distance'][int(models_dict_knn_mod[i]['params']['weights'])]"
   ]
  },
  {
   "cell_type": "code",
   "execution_count": 25,
   "id": "0fe8b1b9",
   "metadata": {
    "ExecuteTime": {
     "end_time": "2022-02-20T08:22:45.742955Z",
     "start_time": "2022-02-20T08:22:45.729955Z"
    },
    "execution": {
     "iopub.execute_input": "2024-01-24T11:33:36.350233Z",
     "iopub.status.busy": "2024-01-24T11:33:36.349925Z",
     "iopub.status.idle": "2024-01-24T11:33:36.353554Z",
     "shell.execute_reply": "2024-01-24T11:33:36.353050Z",
     "shell.execute_reply.started": "2024-01-24T11:33:36.350217Z"
    },
    "tags": []
   },
   "outputs": [],
   "source": [
    "for i in models_dict_svc_mod:\n",
    "    models_dict_svc_mod[i]['params']['C'] = round(10 ** models_dict_svc_mod[i]['params']['expC'],5)\n",
    "    models_dict_svc_mod[i]['params']['gamma'] = round(10 ** models_dict_svc_mod[i]['params']['expGamma'],5)\n",
    "    del models_dict_svc_mod[i]['params']['expC']\n",
    "    del models_dict_svc_mod[i]['params']['expGamma']"
   ]
  },
  {
   "cell_type": "code",
   "execution_count": 26,
   "id": "7bf8e739",
   "metadata": {
    "ExecuteTime": {
     "end_time": "2022-02-20T08:22:45.758957Z",
     "start_time": "2022-02-20T08:22:45.745955Z"
    },
    "execution": {
     "iopub.execute_input": "2024-01-24T11:33:36.354477Z",
     "iopub.status.busy": "2024-01-24T11:33:36.354172Z",
     "iopub.status.idle": "2024-01-24T11:33:36.357363Z",
     "shell.execute_reply": "2024-01-24T11:33:36.356861Z",
     "shell.execute_reply.started": "2024-01-24T11:33:36.354460Z"
    },
    "tags": []
   },
   "outputs": [],
   "source": [
    "for i in models_dict_mlp_mod:\n",
    "    models_dict_mlp_mod[i]['params']['layer1'] = int(models_dict_mlp_mod[i]['params']['layer1'])\n",
    "    models_dict_mlp_mod[i]['params']['layer2'] = int(models_dict_mlp_mod[i]['params']['layer2'])"
   ]
  },
  {
   "cell_type": "code",
   "execution_count": 27,
   "id": "b41d24fd",
   "metadata": {
    "ExecuteTime": {
     "end_time": "2022-02-20T08:22:45.790955Z",
     "start_time": "2022-02-20T08:22:45.760955Z"
    },
    "execution": {
     "iopub.execute_input": "2024-01-24T11:33:36.359345Z",
     "iopub.status.busy": "2024-01-24T11:33:36.359039Z",
     "iopub.status.idle": "2024-01-24T11:33:36.362844Z",
     "shell.execute_reply": "2024-01-24T11:33:36.362351Z",
     "shell.execute_reply.started": "2024-01-24T11:33:36.359329Z"
    },
    "tags": []
   },
   "outputs": [],
   "source": [
    "np.save('lr_params.npy',models_dict_lr_mod)\n",
    "np.save('knn_params.npy',models_dict_knn_mod)\n",
    "np.save('svc_params.npy',models_dict_svc_mod)\n",
    "np.save('mlp_params.npy',models_dict_mlp_mod)"
   ]
  },
  {
   "cell_type": "code",
   "execution_count": 28,
   "id": "3c74a8eb",
   "metadata": {
    "ExecuteTime": {
     "end_time": "2022-02-20T08:22:45.806955Z",
     "start_time": "2022-02-20T08:22:45.795955Z"
    },
    "execution": {
     "iopub.execute_input": "2024-01-24T11:33:36.363796Z",
     "iopub.status.busy": "2024-01-24T11:33:36.363490Z",
     "iopub.status.idle": "2024-01-24T11:33:36.366998Z",
     "shell.execute_reply": "2024-01-24T11:33:36.366445Z",
     "shell.execute_reply.started": "2024-01-24T11:33:36.363779Z"
    },
    "tags": []
   },
   "outputs": [],
   "source": [
    "# total_param_dict = {}\n",
    "# models_dict = {}\n",
    "# n_iter = 195\n",
    "# for i in label_features_dict:\n",
    "#     label = i\n",
    "#     features = label_features_dict[i]\n",
    "#     x_train = dev_df[features]\n",
    "#     y_train = dev_df[label]\n",
    "#     x_test = val_df[features]\n",
    "#     y_test = val_df[label]\n",
    "    \n",
    "#     scaler = MinMaxScaler()\n",
    "#     x_train = scaler.fit_transform(x_train)\n",
    "#     x_test = scaler.transform(x_test)\n",
    "    \n",
    "#     lr_op = BayesianOptimization(\n",
    "#         lr_cv,\n",
    "#         {'expC': (-5, 2)},\n",
    "#     random_state=2024)\n",
    "    \n",
    "#     knn_op = BayesianOptimization(\n",
    "#         knn_cv,\n",
    "#         {'n_neighbors': (2, 20),\n",
    "#         'weights': (0,1)},\n",
    "#     random_state = 2024)\n",
    "    \n",
    "#     svc_op = BayesianOptimization(\n",
    "#         svc_cv,\n",
    "#         {'expC': (-3, 2), \n",
    "#          'expGamma': (-4, -1)},\n",
    "#     random_state = 2024)\n",
    "    \n",
    "#     print('---------------------------特征为：%s-------------------------------'%label)\n",
    "#     print('---------------------------模型为：l2-------------------------------')\n",
    "#     lr_op.maximize(n_iter=n_iter)\n",
    "#     print(lr_op.max)\n",
    "#     models_dict['l2'] = lr_op.max\n",
    "#     print('---------------------------模型为：KNN-------------------------------')\n",
    "#     knn_op.maximize(n_iter=n_iter)\n",
    "#     print(knn_op.max)\n",
    "#     models_dict['knn'] = knn_op.max\n",
    "#     print('---------------------------模型为：SVC-------------------------------')\n",
    "#     svc_op.maximize(n_iter=n_iter)\n",
    "#     print(svc_op.max)\n",
    "#     models_dict['svc'] = svc_op.max\n",
    "#     total_param_dict[label] = models_dict\n",
    "#     print('----------------------------------------------------------------------------------------------------')"
   ]
  },
  {
   "cell_type": "code",
   "execution_count": null,
   "id": "46778c8a",
   "metadata": {},
   "outputs": [],
   "source": []
  }
 ],
 "metadata": {
  "kernelspec": {
   "display_name": "machine_learning",
   "language": "python",
   "name": "ml"
  },
  "language_info": {
   "codemirror_mode": {
    "name": "ipython",
    "version": 3
   },
   "file_extension": ".py",
   "mimetype": "text/x-python",
   "name": "python",
   "nbconvert_exporter": "python",
   "pygments_lexer": "ipython3",
   "version": "3.9.16"
  },
  "toc": {
   "base_numbering": 1,
   "nav_menu": {},
   "number_sections": true,
   "sideBar": true,
   "skip_h1_title": false,
   "title_cell": "Table of Contents",
   "title_sidebar": "Contents",
   "toc_cell": false,
   "toc_position": {},
   "toc_section_display": true,
   "toc_window_display": false
  }
 },
 "nbformat": 4,
 "nbformat_minor": 5
}
