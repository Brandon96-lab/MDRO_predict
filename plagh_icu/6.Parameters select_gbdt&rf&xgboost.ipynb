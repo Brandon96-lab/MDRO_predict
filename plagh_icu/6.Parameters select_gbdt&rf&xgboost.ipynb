{
 "cells": [
  {
   "cell_type": "code",
   "execution_count": 1,
   "id": "85dfe639",
   "metadata": {
    "ExecuteTime": {
     "end_time": "2022-02-20T07:59:22.079326Z",
     "start_time": "2022-02-20T07:59:20.266118Z"
    },
    "execution": {
     "iopub.execute_input": "2024-01-24T11:17:00.742978Z",
     "iopub.status.busy": "2024-01-24T11:17:00.742761Z",
     "iopub.status.idle": "2024-01-24T11:17:01.571571Z",
     "shell.execute_reply": "2024-01-24T11:17:01.571061Z",
     "shell.execute_reply.started": "2024-01-24T11:17:00.742964Z"
    }
   },
   "outputs": [],
   "source": [
    "import warnings\n",
    "warnings.filterwarnings(\"ignore\")\n",
    "\n",
    "import numpy as np\n",
    "import pandas as pd\n",
    "import matplotlib.pyplot as plt\n",
    "import seaborn as sns\n",
    "%matplotlib inline\n",
    "#pd.set_option('max_columns',100)\n",
    "\n",
    "import matplotlib as mpl\n",
    "mpl.style.use('ggplot')\n",
    "sns.set_style('white')\n",
    "\n",
    "import sklearn\n",
    "from sklearn.linear_model import LogisticRegression\n",
    "from sklearn.tree import DecisionTreeClassifier\n",
    "from sklearn.ensemble import RandomForestClassifier\n",
    "from xgboost.sklearn import XGBClassifier\n",
    "\n",
    "import sys\n",
    "import os\n",
    "import tempfile\n",
    "from sklearn.preprocessing import StandardScaler\n",
    "\n",
    "from sklearn.model_selection import GridSearchCV\n",
    "from sklearn.model_selection import train_test_split\n",
    "from sklearn.model_selection import ShuffleSplit\n",
    "from sklearn.model_selection import cross_val_score\n",
    "\n",
    "from sklearn import metrics\n",
    "from sklearn.metrics import confusion_matrix\n",
    "from sklearn.metrics import plot_roc_curve\n",
    "from sklearn.metrics import roc_auc_score\n",
    "from sklearn.metrics import roc_curve,auc\n",
    "from sklearn.metrics import accuracy_score\n",
    "from sklearn.calibration import calibration_curve\n",
    "from sklearn.metrics import brier_score_loss\n",
    "from sklearn.metrics import (precision_score, recall_score,f1_score)\n",
    "from sklearn.calibration import CalibratedClassifierCV, calibration_curve"
   ]
  },
  {
   "cell_type": "code",
   "execution_count": 2,
   "id": "a504e8b4",
   "metadata": {
    "ExecuteTime": {
     "end_time": "2022-02-20T07:59:22.110326Z",
     "start_time": "2022-02-20T07:59:22.082322Z"
    },
    "execution": {
     "iopub.execute_input": "2024-01-24T11:17:01.572510Z",
     "iopub.status.busy": "2024-01-24T11:17:01.572263Z",
     "iopub.status.idle": "2024-01-24T11:17:01.578706Z",
     "shell.execute_reply": "2024-01-24T11:17:01.578326Z",
     "shell.execute_reply.started": "2024-01-24T11:17:01.572493Z"
    }
   },
   "outputs": [],
   "source": [
    "from sklearn.ensemble import GradientBoostingClassifier\n",
    "from bayes_opt import BayesianOptimization"
   ]
  },
  {
   "cell_type": "code",
   "execution_count": 3,
   "id": "34a63f23",
   "metadata": {
    "ExecuteTime": {
     "end_time": "2022-02-20T07:59:22.174327Z",
     "start_time": "2022-02-20T07:59:22.113323Z"
    },
    "execution": {
     "iopub.execute_input": "2024-01-24T11:17:01.579401Z",
     "iopub.status.busy": "2024-01-24T11:17:01.579246Z",
     "iopub.status.idle": "2024-01-24T11:17:01.612332Z",
     "shell.execute_reply": "2024-01-24T11:17:01.611930Z",
     "shell.execute_reply.started": "2024-01-24T11:17:01.579387Z"
    }
   },
   "outputs": [],
   "source": [
    "dev_df = pd.read_csv('train_df.csv')\n",
    "val_df = pd.read_csv('val_df.csv')"
   ]
  },
  {
   "cell_type": "code",
   "execution_count": 4,
   "id": "51c98cf6",
   "metadata": {
    "ExecuteTime": {
     "end_time": "2022-02-20T07:59:22.190329Z",
     "start_time": "2022-02-20T07:59:22.176327Z"
    },
    "execution": {
     "iopub.execute_input": "2024-01-24T11:17:01.613051Z",
     "iopub.status.busy": "2024-01-24T11:17:01.612899Z",
     "iopub.status.idle": "2024-01-24T11:17:01.615912Z",
     "shell.execute_reply": "2024-01-24T11:17:01.615516Z",
     "shell.execute_reply.started": "2024-01-24T11:17:01.613038Z"
    }
   },
   "outputs": [],
   "source": [
    "# features = [\n",
    "# 'hospstay_seq',\n",
    "#  'icustay_rank',\n",
    "#  'previous_mdrneg_lessthan90d',\n",
    "#  'potassium',\n",
    "#  'bicarbonate',\n",
    "#  'creatinine',\n",
    "#  'po2',\n",
    "#  'eosinophils',\n",
    "#  'monocytes_abs',\n",
    "#  'lymphocytes',\n",
    "#  'ptt',\n",
    "#  'hematocrit',\n",
    "#  'mch',\n",
    "#  'mchc',\n",
    "#  'platelet',\n",
    "#  'rbc',\n",
    "#  'rdw',\n",
    "#  'history_dialysis',\n",
    "#  'charlson_comorbidity_index',\n",
    "#  'ant_duration',\n",
    "#  'ant_1stday',\n",
    "#  'immu_1stday',\n",
    "#  'ent_nut',\n",
    "\n",
    "#   'CEFTRIAXONE_anttest_beforeicu90d',\n",
    "#   'TRIMETHOPRIM.SULFA_anttest_beforeicu90d',\n",
    "#   'CEFEPIME_anttest_beforeicu90d'\n",
    "#   'CEFTAZIDIME_anttest_beforeicu90d',\n",
    "#   'CIPROFLOXACIN_anttest_beforeicu90d',\n",
    "#   'PIPERACILLIN.TAZO_anttest_beforeicu90d',\n",
    "#   'MEROPENEM_anttest_beforeicu90d',\n",
    "#   'GENTAMICIN_anttest_beforeicu90d',\n",
    "#   'TOBRAMYCIN_anttest_beforeicu90d'\n",
    "# ]\n",
    "# labels = ['CEFEPIME', 'CEFTAZIDIME', 'CIPROFLOXACIN','PIPERACILLIN.TAZO', 'MEROPENEM','GENTAMICIN', 'TOBRAMYCIN']"
   ]
  },
  {
   "cell_type": "code",
   "execution_count": 5,
   "id": "55252cf4-d2ad-42f3-bcf9-2105bd126cac",
   "metadata": {
    "execution": {
     "iopub.execute_input": "2024-01-24T11:17:01.616593Z",
     "iopub.status.busy": "2024-01-24T11:17:01.616443Z",
     "iopub.status.idle": "2024-01-24T11:17:01.620585Z",
     "shell.execute_reply": "2024-01-24T11:17:01.619321Z",
     "shell.execute_reply.started": "2024-01-24T11:17:01.616580Z"
    }
   },
   "outputs": [],
   "source": [
    "label_features_dict = {\n",
    "'stay_chart_included_mdr':['sodium',\n",
    " 'RPR',\n",
    " 'creatinine',\n",
    " 'monocytes_abs',\n",
    " 'mcv',\n",
    " 'INR',\n",
    " 'mchc',\n",
    " 'APPT',\n",
    " 'fibrinogen',\n",
    " 'Temperature',\n",
    " 'shock_index',\n",
    " 'bilirubin',\n",
    " 'D_dimer',\n",
    " 'PT',\n",
    " 'p',\n",
    " 'gamma_GT',\n",
    " 'BMI',\n",
    " 'BNP',\n",
    " 'PCT',\n",
    " 'urea',\n",
    " 'CRP',\n",
    " 'ck',\n",
    " 'IL_6',\n",
    " 'HR',\n",
    " 'los_hosp_beforeicu'\n",
    "]\n",
    "}"
   ]
  },
  {
   "cell_type": "code",
   "execution_count": 6,
   "id": "79103ae2",
   "metadata": {
    "ExecuteTime": {
     "end_time": "2022-02-20T07:59:22.206327Z",
     "start_time": "2022-02-20T07:59:22.193321Z"
    },
    "execution": {
     "iopub.execute_input": "2024-01-24T11:17:01.621321Z",
     "iopub.status.busy": "2024-01-24T11:17:01.621170Z",
     "iopub.status.idle": "2024-01-24T11:17:01.623591Z",
     "shell.execute_reply": "2024-01-24T11:17:01.623239Z",
     "shell.execute_reply.started": "2024-01-24T11:17:01.621308Z"
    }
   },
   "outputs": [],
   "source": [
    "# label_features_dict = {\n",
    "# 'stay_chart_included_mdr':['AGE',\n",
    "#  'mcv',\n",
    "#  'INR',\n",
    "#  'creatinine',\n",
    "#  'PA',\n",
    "#  'rdw',\n",
    "#  'APPT',\n",
    "#  'ca',\n",
    "#  'wbc',\n",
    "#  'fibrinogen',\n",
    "#  'RR',\n",
    "#  'mpv',\n",
    "#  'Temperature',\n",
    "#  'BNP',\n",
    "#  'sodium',\n",
    "#  'urea',\n",
    "#  'bilirubin',\n",
    "#  'ck',\n",
    "#  'BMI',\n",
    "#  'gamma_GT',\n",
    "#  'PCT',\n",
    "#  'IL_6',\n",
    "#  'HR',\n",
    "#  'los_hosp_beforeicu',\n",
    "#  'CRP'\n",
    "# ]\n",
    "# }"
   ]
  },
  {
   "cell_type": "code",
   "execution_count": 7,
   "id": "c86ac6c2",
   "metadata": {
    "ExecuteTime": {
     "end_time": "2022-02-20T07:59:22.238329Z",
     "start_time": "2022-02-20T07:59:22.209323Z"
    },
    "execution": {
     "iopub.execute_input": "2024-01-24T11:17:01.625349Z",
     "iopub.status.busy": "2024-01-24T11:17:01.625196Z",
     "iopub.status.idle": "2024-01-24T11:17:01.633034Z",
     "shell.execute_reply": "2024-01-24T11:17:01.632689Z",
     "shell.execute_reply.started": "2024-01-24T11:17:01.625336Z"
    }
   },
   "outputs": [],
   "source": [
    "#gbdt\n",
    "def gbdt_cv(n_estimators, min_samples_split, max_features, max_depth):\n",
    "    res = cross_val_score( \n",
    "        GradientBoostingClassifier(n_estimators=int(n_estimators),\n",
    "                                                        min_samples_split=int(min_samples_split),\n",
    "                                                        max_features=min(max_features, 0.999), # float\n",
    "                                                        max_depth=int(max_depth),\n",
    "                                                        random_state=2024\n",
    "        ),\n",
    "        x_train, y_train, scoring='roc_auc', cv=5\n",
    "    ).mean()\n",
    "    return res\n",
    "\n",
    "gbdt_op = BayesianOptimization(\n",
    "        gbdt_cv,\n",
    "        {'n_estimators': (10, 250),\n",
    "        'min_samples_split': (2, 25),\n",
    "        'max_features': (0.1, 0.999),\n",
    "        'max_depth': (5, 15)},\n",
    "    random_state=2024\n",
    ")\n",
    "\n",
    "#random forest\n",
    "def rf_cv(n_estimators, min_samples_split, max_features, max_depth):\n",
    "    res = cross_val_score( \n",
    "        RandomForestClassifier(n_estimators=int(n_estimators),\n",
    "                            min_samples_split=int(min_samples_split),\n",
    "                            max_features=min(max_features, 0.999), # float\n",
    "                            max_depth=int(max_depth),\n",
    "                            random_state=2024\n",
    "        ),\n",
    "        x_train, y_train, scoring='roc_auc', cv=5\n",
    "    ).mean()\n",
    "    return res\n",
    "\n",
    "rf_op = BayesianOptimization(\n",
    "        rf_cv,\n",
    "        {'n_estimators': (10, 250),\n",
    "        'min_samples_split': (2, 25),\n",
    "        'max_features': (0.1, 0.999),\n",
    "        'max_depth': (3, 15)},\n",
    "    random_state = 2024\n",
    ")\n",
    "\n",
    "#xgboost\n",
    "def xgb_cv(n_estimators, min_child_weight,  subsample, colsample_bytree, max_depth):\n",
    "    res = cross_val_score(\n",
    "        XGBClassifier(n_estimators=int(n_estimators),\n",
    "                            min_child_weight=int(min_child_weight),\n",
    "                            #gama = min(gama,0.999),\n",
    "                            subsample = min(subsample,0.999),\n",
    "                            colsample_bytree = min(colsample_bytree,0.999),\n",
    "                            max_depth=int(max_depth),\n",
    "                            learning_rate = 0.01,\n",
    "                            #n_jobs = -1,\n",
    "                            random_state=2024\n",
    "        ),\n",
    "        x_train, y_train, scoring='roc_auc', cv=5\n",
    "    ).mean()\n",
    "    return res\n",
    "\n",
    "xgb_op = BayesianOptimization(\n",
    "        xgb_cv,\n",
    "        {'n_estimators': (10, 250),\n",
    "        'min_child_weight': (2, 25),\n",
    "        #'gama': (0.1, 0.999),\n",
    "        'subsample': (0.1, 0.999),\n",
    "        'colsample_bytree': (0.1, 0.999),\n",
    "        'max_depth': (3, 15)},\n",
    "    random_state = 2024\n",
    ")"
   ]
  },
  {
   "cell_type": "code",
   "execution_count": 8,
   "id": "10bb8b35",
   "metadata": {
    "ExecuteTime": {
     "end_time": "2022-02-20T07:59:22.333328Z",
     "start_time": "2022-02-20T07:59:22.242323Z"
    },
    "execution": {
     "iopub.execute_input": "2024-01-24T11:17:01.633927Z",
     "iopub.status.busy": "2024-01-24T11:17:01.633703Z",
     "iopub.status.idle": "2024-01-24T11:17:01.641960Z",
     "shell.execute_reply": "2024-01-24T11:17:01.641554Z",
     "shell.execute_reply.started": "2024-01-24T11:17:01.633913Z"
    }
   },
   "outputs": [],
   "source": [
    "def optimize_rf(n_iter):\n",
    "    total_param_dict = {}\n",
    "    models_dict = {}\n",
    "    \n",
    "    def rf_cv(n_estimators, min_samples_split, max_features, max_depth):\n",
    "        return cross_val_score( \n",
    "                RandomForestClassifier(n_estimators=int(n_estimators),\n",
    "                                    min_samples_split=int(min_samples_split),\n",
    "                                    max_features=min(max_features, 0.999), # float\n",
    "                                    max_depth=int(max_depth),\n",
    "                                    random_state=2024\n",
    "                ),\n",
    "                x_train, y_train, scoring='roc_auc', cv=5\n",
    "            ).mean()\n",
    "\n",
    "    for i in label_features_dict:\n",
    "        label = i\n",
    "        features = label_features_dict[i]\n",
    "        x_train = dev_df[features]\n",
    "        y_train = dev_df[label]\n",
    "        x_test = val_df[features]\n",
    "        y_test = val_df[label]        \n",
    "        \n",
    "        rf_op = BayesianOptimization(\n",
    "            rf_cv,\n",
    "            {'n_estimators': (10, 300),\n",
    "            'min_samples_split': (2, 25),\n",
    "            'max_features': (0.1, 0.999),\n",
    "            'max_depth': (3, 20)},\n",
    "        random_state = 2024)\n",
    "\n",
    "        print('---------------------------特征为：%s-------------------------------'%label)\n",
    "        print('---------------------------模型为：Random Forest-------------------------------')\n",
    "        rf_op.maximize(n_iter=n_iter)\n",
    "        print(rf_op.max)\n",
    "        models_dict[label] = rf_op.max\n",
    "        print('----------------------------------------------------------------------------------------------------')\n",
    "        \n",
    "    return models_dict\n",
    "    \n",
    "def optimize_xgb(n_iter):\n",
    "    total_param_dict = {}\n",
    "    models_dict = {}\n",
    "    \n",
    "    def xgb_cv(n_estimators, min_child_weight,  subsample, colsample_bytree, max_depth):\n",
    "        res = cross_val_score(\n",
    "            XGBClassifier(n_estimators=int(n_estimators),\n",
    "                                min_child_weight=int(min_child_weight),\n",
    "                                #gama = min(gama,0.999),\n",
    "                                subsample = min(subsample,0.999),\n",
    "                                colsample_bytree = min(colsample_bytree,0.999),\n",
    "                                max_depth=int(max_depth),\n",
    "                                learning_rate = 0.01,\n",
    "                                #n_jobs = -1,\n",
    "                                random_state=2024\n",
    "            ),\n",
    "            x_train, y_train, scoring='roc_auc', cv=5\n",
    "        ).mean()\n",
    "        return res\n",
    "\n",
    "    for i in label_features_dict:\n",
    "        label = i\n",
    "        features = label_features_dict[i]\n",
    "        x_train = dev_df[features]\n",
    "        y_train = dev_df[label]\n",
    "        x_test = val_df[features]\n",
    "        y_test = val_df[label]        \n",
    "        \n",
    "        xgb_op = BayesianOptimization(\n",
    "                xgb_cv,\n",
    "                {'n_estimators': (10, 250),\n",
    "                'min_child_weight': (2, 25),\n",
    "                #'gama': (0.1, 0.999),\n",
    "                'subsample': (0.1, 0.999),\n",
    "                'colsample_bytree': (0.1, 0.999),\n",
    "                'max_depth': (3, 15)},\n",
    "            random_state = 2024\n",
    "        )\n",
    "\n",
    "        print('---------------------------特征为：%s-------------------------------'%label)\n",
    "        print('---------------------------模型为：XGBOOST-------------------------------')\n",
    "        xgb_op.maximize(n_iter=n_iter)\n",
    "        print(xgb_op.max)\n",
    "        models_dict[label] = xgb_op.max\n",
    "        print('----------------------------------------------------------------------------------------------------')\n",
    "        \n",
    "    return models_dict"
   ]
  },
  {
   "cell_type": "code",
   "execution_count": 9,
   "id": "2b92d855",
   "metadata": {
    "ExecuteTime": {
     "end_time": "2022-02-20T08:08:56.296915Z",
     "start_time": "2022-02-20T07:59:22.336321Z"
    },
    "execution": {
     "iopub.execute_input": "2024-01-24T11:17:01.642589Z",
     "iopub.status.busy": "2024-01-24T11:17:01.642442Z",
     "iopub.status.idle": "2024-01-24T11:22:36.680172Z",
     "shell.execute_reply": "2024-01-24T11:22:36.679535Z",
     "shell.execute_reply.started": "2024-01-24T11:17:01.642576Z"
    },
    "scrolled": true
   },
   "outputs": [
    {
     "name": "stdout",
     "output_type": "stream",
     "text": [
      "---------------------------特征为：stay_chart_included_mdr-------------------------------\n",
      "---------------------------模型为：Random Forest-------------------------------\n",
      "|   iter    |  target   | max_depth | max_fe... | min_sa... | n_esti... |\n",
      "-------------------------------------------------------------------------\n",
      "| \u001b[0m1        \u001b[0m | \u001b[0m0.715    \u001b[0m | \u001b[0m13.0     \u001b[0m | \u001b[0m0.7285   \u001b[0m | \u001b[0m6.327    \u001b[0m | \u001b[0m22.7     \u001b[0m |\n",
      "| \u001b[95m2        \u001b[0m | \u001b[95m0.764    \u001b[0m | \u001b[95m6.485    \u001b[0m | \u001b[95m0.1954   \u001b[0m | \u001b[95m18.73    \u001b[0m | \u001b[95m207.0    \u001b[0m |\n",
      "| \u001b[0m3        \u001b[0m | \u001b[0m0.745    \u001b[0m | \u001b[0m11.06    \u001b[0m | \u001b[0m0.503    \u001b[0m | \u001b[0m2.439    \u001b[0m | \u001b[0m228.3    \u001b[0m |\n",
      "| \u001b[0m4        \u001b[0m | \u001b[0m0.7334   \u001b[0m | \u001b[0m13.24    \u001b[0m | \u001b[0m0.9646   \u001b[0m | \u001b[0m17.28    \u001b[0m | \u001b[0m185.9    \u001b[0m |\n",
      "| \u001b[0m5        \u001b[0m | \u001b[0m0.7467   \u001b[0m | \u001b[0m10.64    \u001b[0m | \u001b[0m0.3026   \u001b[0m | \u001b[0m17.41    \u001b[0m | \u001b[0m223.4    \u001b[0m |\n",
      "| \u001b[0m6        \u001b[0m | \u001b[0m0.7538   \u001b[0m | \u001b[0m3.645    \u001b[0m | \u001b[0m0.6906   \u001b[0m | \u001b[0m8.653    \u001b[0m | \u001b[0m208.1    \u001b[0m |\n",
      "| \u001b[0m7        \u001b[0m | \u001b[0m0.7567   \u001b[0m | \u001b[0m5.812    \u001b[0m | \u001b[0m0.6975   \u001b[0m | \u001b[0m17.91    \u001b[0m | \u001b[0m206.2    \u001b[0m |\n",
      "| \u001b[0m8        \u001b[0m | \u001b[0m0.7631   \u001b[0m | \u001b[0m8.249    \u001b[0m | \u001b[0m0.1      \u001b[0m | \u001b[0m19.08    \u001b[0m | \u001b[0m210.9    \u001b[0m |\n",
      "| \u001b[0m9        \u001b[0m | \u001b[0m0.7594   \u001b[0m | \u001b[0m8.713    \u001b[0m | \u001b[0m0.1      \u001b[0m | \u001b[0m24.26    \u001b[0m | \u001b[0m207.2    \u001b[0m |\n",
      "| \u001b[0m10       \u001b[0m | \u001b[0m0.7594   \u001b[0m | \u001b[0m13.03    \u001b[0m | \u001b[0m0.1      \u001b[0m | \u001b[0m18.36    \u001b[0m | \u001b[0m206.4    \u001b[0m |\n",
      "| \u001b[0m11       \u001b[0m | \u001b[0m0.7549   \u001b[0m | \u001b[0m3.771    \u001b[0m | \u001b[0m0.723    \u001b[0m | \u001b[0m23.56    \u001b[0m | \u001b[0m211.1    \u001b[0m |\n",
      "| \u001b[0m12       \u001b[0m | \u001b[0m0.7576   \u001b[0m | \u001b[0m14.24    \u001b[0m | \u001b[0m0.1      \u001b[0m | \u001b[0m9.493    \u001b[0m | \u001b[0m210.7    \u001b[0m |\n",
      "| \u001b[0m13       \u001b[0m | \u001b[0m0.7539   \u001b[0m | \u001b[0m13.04    \u001b[0m | \u001b[0m0.1      \u001b[0m | \u001b[0m2.0      \u001b[0m | \u001b[0m204.5    \u001b[0m |\n",
      "| \u001b[0m14       \u001b[0m | \u001b[0m0.7327   \u001b[0m | \u001b[0m19.43    \u001b[0m | \u001b[0m0.8342   \u001b[0m | \u001b[0m17.67    \u001b[0m | \u001b[0m213.5    \u001b[0m |\n",
      "| \u001b[0m15       \u001b[0m | \u001b[0m0.7441   \u001b[0m | \u001b[0m9.119    \u001b[0m | \u001b[0m0.8806   \u001b[0m | \u001b[0m2.746    \u001b[0m | \u001b[0m214.0    \u001b[0m |\n",
      "| \u001b[0m16       \u001b[0m | \u001b[0m0.7351   \u001b[0m | \u001b[0m13.63    \u001b[0m | \u001b[0m0.8447   \u001b[0m | \u001b[0m10.0     \u001b[0m | \u001b[0m203.4    \u001b[0m |\n",
      "| \u001b[0m17       \u001b[0m | \u001b[0m0.7533   \u001b[0m | \u001b[0m9.2      \u001b[0m | \u001b[0m0.2409   \u001b[0m | \u001b[0m13.84    \u001b[0m | \u001b[0m211.7    \u001b[0m |\n",
      "| \u001b[0m18       \u001b[0m | \u001b[0m0.7549   \u001b[0m | \u001b[0m10.07    \u001b[0m | \u001b[0m0.1      \u001b[0m | \u001b[0m21.59    \u001b[0m | \u001b[0m202.3    \u001b[0m |\n",
      "| \u001b[0m19       \u001b[0m | \u001b[0m0.7599   \u001b[0m | \u001b[0m3.0      \u001b[0m | \u001b[0m0.1      \u001b[0m | \u001b[0m25.0     \u001b[0m | \u001b[0m203.4    \u001b[0m |\n",
      "| \u001b[0m20       \u001b[0m | \u001b[0m0.7319   \u001b[0m | \u001b[0m19.75    \u001b[0m | \u001b[0m0.7462   \u001b[0m | \u001b[0m2.378    \u001b[0m | \u001b[0m211.0    \u001b[0m |\n",
      "| \u001b[0m21       \u001b[0m | \u001b[0m0.7549   \u001b[0m | \u001b[0m4.003    \u001b[0m | \u001b[0m0.9783   \u001b[0m | \u001b[0m24.75    \u001b[0m | \u001b[0m196.4    \u001b[0m |\n",
      "| \u001b[95m22       \u001b[0m | \u001b[95m0.766    \u001b[0m | \u001b[95m6.311    \u001b[0m | \u001b[95m0.1724   \u001b[0m | \u001b[95m2.549    \u001b[0m | \u001b[95m202.0    \u001b[0m |\n",
      "| \u001b[0m23       \u001b[0m | \u001b[0m0.7596   \u001b[0m | \u001b[0m3.0      \u001b[0m | \u001b[0m0.1      \u001b[0m | \u001b[0m2.0      \u001b[0m | \u001b[0m197.9    \u001b[0m |\n",
      "| \u001b[0m24       \u001b[0m | \u001b[0m0.7526   \u001b[0m | \u001b[0m3.026    \u001b[0m | \u001b[0m0.9514   \u001b[0m | \u001b[0m2.295    \u001b[0m | \u001b[0m205.1    \u001b[0m |\n",
      "| \u001b[0m25       \u001b[0m | \u001b[0m0.7523   \u001b[0m | \u001b[0m9.629    \u001b[0m | \u001b[0m0.4316   \u001b[0m | \u001b[0m2.441    \u001b[0m | \u001b[0m196.0    \u001b[0m |\n",
      "| \u001b[0m26       \u001b[0m | \u001b[0m0.7593   \u001b[0m | \u001b[0m4.33     \u001b[0m | \u001b[0m0.1      \u001b[0m | \u001b[0m6.922    \u001b[0m | \u001b[0m200.1    \u001b[0m |\n",
      "| \u001b[0m27       \u001b[0m | \u001b[0m0.7271   \u001b[0m | \u001b[0m18.72    \u001b[0m | \u001b[0m0.9191   \u001b[0m | \u001b[0m22.68    \u001b[0m | \u001b[0m105.2    \u001b[0m |\n",
      "| \u001b[0m28       \u001b[0m | \u001b[0m0.7516   \u001b[0m | \u001b[0m3.368    \u001b[0m | \u001b[0m0.967    \u001b[0m | \u001b[0m24.76    \u001b[0m | \u001b[0m299.9    \u001b[0m |\n",
      "| \u001b[0m29       \u001b[0m | \u001b[0m0.7643   \u001b[0m | \u001b[0m4.934    \u001b[0m | \u001b[0m0.1387   \u001b[0m | \u001b[0m12.72    \u001b[0m | \u001b[0m295.0    \u001b[0m |\n",
      "| \u001b[0m30       \u001b[0m | \u001b[0m0.743    \u001b[0m | \u001b[0m9.677    \u001b[0m | \u001b[0m0.8872   \u001b[0m | \u001b[0m15.03    \u001b[0m | \u001b[0m292.0    \u001b[0m |\n",
      "| \u001b[0m31       \u001b[0m | \u001b[0m0.7533   \u001b[0m | \u001b[0m3.291    \u001b[0m | \u001b[0m0.8683   \u001b[0m | \u001b[0m11.67    \u001b[0m | \u001b[0m299.9    \u001b[0m |\n",
      "| \u001b[0m32       \u001b[0m | \u001b[0m0.7609   \u001b[0m | \u001b[0m3.0      \u001b[0m | \u001b[0m0.1      \u001b[0m | \u001b[0m8.56     \u001b[0m | \u001b[0m292.8    \u001b[0m |\n",
      "| \u001b[0m33       \u001b[0m | \u001b[0m0.7599   \u001b[0m | \u001b[0m7.683    \u001b[0m | \u001b[0m0.2051   \u001b[0m | \u001b[0m6.272    \u001b[0m | \u001b[0m297.0    \u001b[0m |\n",
      "| \u001b[0m34       \u001b[0m | \u001b[0m0.7505   \u001b[0m | \u001b[0m8.66     \u001b[0m | \u001b[0m0.3814   \u001b[0m | \u001b[0m3.919    \u001b[0m | \u001b[0m290.6    \u001b[0m |\n",
      "| \u001b[0m35       \u001b[0m | \u001b[0m0.7388   \u001b[0m | \u001b[0m14.6     \u001b[0m | \u001b[0m0.5998   \u001b[0m | \u001b[0m3.677    \u001b[0m | \u001b[0m299.5    \u001b[0m |\n",
      "| \u001b[0m36       \u001b[0m | \u001b[0m0.7644   \u001b[0m | \u001b[0m3.204    \u001b[0m | \u001b[0m0.1902   \u001b[0m | \u001b[0m4.554    \u001b[0m | \u001b[0m297.7    \u001b[0m |\n",
      "| \u001b[0m37       \u001b[0m | \u001b[0m0.7572   \u001b[0m | \u001b[0m3.003    \u001b[0m | \u001b[0m0.555    \u001b[0m | \u001b[0m15.0     \u001b[0m | \u001b[0m292.1    \u001b[0m |\n",
      "| \u001b[0m38       \u001b[0m | \u001b[0m0.7574   \u001b[0m | \u001b[0m3.207    \u001b[0m | \u001b[0m0.627    \u001b[0m | \u001b[0m3.108    \u001b[0m | \u001b[0m144.8    \u001b[0m |\n",
      "| \u001b[0m39       \u001b[0m | \u001b[0m0.737    \u001b[0m | \u001b[0m11.02    \u001b[0m | \u001b[0m0.9162   \u001b[0m | \u001b[0m2.118    \u001b[0m | \u001b[0m142.3    \u001b[0m |\n",
      "| \u001b[0m40       \u001b[0m | \u001b[0m0.7625   \u001b[0m | \u001b[0m3.564    \u001b[0m | \u001b[0m0.1531   \u001b[0m | \u001b[0m9.104    \u001b[0m | \u001b[0m150.7    \u001b[0m |\n",
      "| \u001b[0m41       \u001b[0m | \u001b[0m0.7621   \u001b[0m | \u001b[0m4.318    \u001b[0m | \u001b[0m0.4258   \u001b[0m | \u001b[0m4.579    \u001b[0m | \u001b[0m155.7    \u001b[0m |\n",
      "| \u001b[0m42       \u001b[0m | \u001b[0m0.7532   \u001b[0m | \u001b[0m3.0      \u001b[0m | \u001b[0m0.8631   \u001b[0m | \u001b[0m11.0     \u001b[0m | \u001b[0m157.1    \u001b[0m |\n",
      "| \u001b[0m43       \u001b[0m | \u001b[0m0.75     \u001b[0m | \u001b[0m9.077    \u001b[0m | \u001b[0m0.5001   \u001b[0m | \u001b[0m7.967    \u001b[0m | \u001b[0m153.5    \u001b[0m |\n",
      "| \u001b[0m44       \u001b[0m | \u001b[0m0.753    \u001b[0m | \u001b[0m3.546    \u001b[0m | \u001b[0m0.8631   \u001b[0m | \u001b[0m11.5     \u001b[0m | \u001b[0m145.4    \u001b[0m |\n",
      "| \u001b[0m45       \u001b[0m | \u001b[0m0.7586   \u001b[0m | \u001b[0m3.0      \u001b[0m | \u001b[0m0.1      \u001b[0m | \u001b[0m2.0      \u001b[0m | \u001b[0m161.5    \u001b[0m |\n",
      "| \u001b[0m46       \u001b[0m | \u001b[0m0.7561   \u001b[0m | \u001b[0m3.357    \u001b[0m | \u001b[0m0.5691   \u001b[0m | \u001b[0m2.331    \u001b[0m | \u001b[0m150.6    \u001b[0m |\n",
      "| \u001b[0m47       \u001b[0m | \u001b[0m0.7551   \u001b[0m | \u001b[0m10.12    \u001b[0m | \u001b[0m0.1      \u001b[0m | \u001b[0m2.0      \u001b[0m | \u001b[0m161.5    \u001b[0m |\n",
      "| \u001b[0m48       \u001b[0m | \u001b[0m0.7591   \u001b[0m | \u001b[0m3.063    \u001b[0m | \u001b[0m0.3879   \u001b[0m | \u001b[0m4.238    \u001b[0m | \u001b[0m169.5    \u001b[0m |\n",
      "| \u001b[0m49       \u001b[0m | \u001b[0m0.7539   \u001b[0m | \u001b[0m9.808    \u001b[0m | \u001b[0m0.1      \u001b[0m | \u001b[0m2.0      \u001b[0m | \u001b[0m171.4    \u001b[0m |\n",
      "| \u001b[0m50       \u001b[0m | \u001b[0m0.7616   \u001b[0m | \u001b[0m4.618    \u001b[0m | \u001b[0m0.1457   \u001b[0m | \u001b[0m10.87    \u001b[0m | \u001b[0m167.5    \u001b[0m |\n",
      "=========================================================================\n",
      "{'target': 0.7660144345979276, 'params': {'max_depth': 6.310835812868152, 'max_features': 0.17243941344261204, 'min_samples_split': 2.548800284437463, 'n_estimators': 202.04323333351644}}\n",
      "----------------------------------------------------------------------------------------------------\n"
     ]
    }
   ],
   "source": [
    "models_dict_rf = optimize_rf(45)"
   ]
  },
  {
   "cell_type": "code",
   "execution_count": 10,
   "id": "cdea459d",
   "metadata": {
    "ExecuteTime": {
     "end_time": "2022-02-20T08:10:30.122913Z",
     "start_time": "2022-02-20T08:08:56.299915Z"
    },
    "execution": {
     "iopub.execute_input": "2024-01-24T11:22:36.681455Z",
     "iopub.status.busy": "2024-01-24T11:22:36.681130Z",
     "iopub.status.idle": "2024-01-24T11:26:07.641749Z",
     "shell.execute_reply": "2024-01-24T11:26:07.640812Z",
     "shell.execute_reply.started": "2024-01-24T11:22:36.681433Z"
    },
    "scrolled": true
   },
   "outputs": [
    {
     "name": "stdout",
     "output_type": "stream",
     "text": [
      "---------------------------特征为：stay_chart_included_mdr-------------------------------\n",
      "---------------------------模型为：XGBOOST-------------------------------\n",
      "|   iter    |  target   | colsam... | max_depth | min_ch... | n_esti... | subsample |\n",
      "-------------------------------------------------------------------------------------\n",
      "| \u001b[0m1        \u001b[0m | \u001b[0m0.7543   \u001b[0m | \u001b[0m0.6286   \u001b[0m | \u001b[0m11.39    \u001b[0m | \u001b[0m6.327    \u001b[0m | \u001b[0m20.51    \u001b[0m | \u001b[0m0.2843   \u001b[0m |\n",
      "| \u001b[95m2        \u001b[0m | \u001b[95m0.7633   \u001b[0m | \u001b[95m0.1954   \u001b[0m | \u001b[95m11.73    \u001b[0m | \u001b[95m17.63    \u001b[0m | \u001b[95m123.7    \u001b[0m | \u001b[95m0.503    \u001b[0m |\n",
      "| \u001b[0m3        \u001b[0m | \u001b[0m0.7607   \u001b[0m | \u001b[0m0.1172   \u001b[0m | \u001b[0m12.03    \u001b[0m | \u001b[0m15.86    \u001b[0m | \u001b[0m240.8    \u001b[0m | \u001b[0m0.6973   \u001b[0m |\n",
      "| \u001b[95m4        \u001b[0m | \u001b[95m0.7665   \u001b[0m | \u001b[95m0.6454   \u001b[0m | \u001b[95m8.39     \u001b[0m | \u001b[95m7.183    \u001b[0m | \u001b[95m170.8    \u001b[0m | \u001b[95m0.7615   \u001b[0m |\n",
      "| \u001b[0m5        \u001b[0m | \u001b[0m0.7538   \u001b[0m | \u001b[0m0.3319   \u001b[0m | \u001b[0m4.147    \u001b[0m | \u001b[0m24.1     \u001b[0m | \u001b[0m70.42    \u001b[0m | \u001b[0m0.3537   \u001b[0m |\n",
      "| \u001b[0m6        \u001b[0m | \u001b[0m0.7541   \u001b[0m | \u001b[0m0.999    \u001b[0m | \u001b[0m15.0     \u001b[0m | \u001b[0m25.0     \u001b[0m | \u001b[0m165.5    \u001b[0m | \u001b[0m0.999    \u001b[0m |\n",
      "| \u001b[0m7        \u001b[0m | \u001b[0m0.7627   \u001b[0m | \u001b[0m0.6726   \u001b[0m | \u001b[0m8.635    \u001b[0m | \u001b[0m7.949    \u001b[0m | \u001b[0m170.2    \u001b[0m | \u001b[0m0.8928   \u001b[0m |\n",
      "| \u001b[95m8        \u001b[0m | \u001b[95m0.7692   \u001b[0m | \u001b[95m0.4154   \u001b[0m | \u001b[95m6.999    \u001b[0m | \u001b[95m6.925    \u001b[0m | \u001b[95m170.5    \u001b[0m | \u001b[95m0.8099   \u001b[0m |\n",
      "| \u001b[0m9        \u001b[0m | \u001b[0m0.7687   \u001b[0m | \u001b[0m0.6676   \u001b[0m | \u001b[0m6.569    \u001b[0m | \u001b[0m5.386    \u001b[0m | \u001b[0m172.8    \u001b[0m | \u001b[0m0.7037   \u001b[0m |\n",
      "| \u001b[0m10       \u001b[0m | \u001b[0m0.7631   \u001b[0m | \u001b[0m0.6047   \u001b[0m | \u001b[0m3.717    \u001b[0m | \u001b[0m5.769    \u001b[0m | \u001b[0m170.2    \u001b[0m | \u001b[0m0.3148   \u001b[0m |\n",
      "| \u001b[0m11       \u001b[0m | \u001b[0m0.7644   \u001b[0m | \u001b[0m0.2501   \u001b[0m | \u001b[0m7.454    \u001b[0m | \u001b[0m3.528    \u001b[0m | \u001b[0m171.1    \u001b[0m | \u001b[0m0.3246   \u001b[0m |\n",
      "| \u001b[0m12       \u001b[0m | \u001b[0m0.7663   \u001b[0m | \u001b[0m0.8052   \u001b[0m | \u001b[0m5.906    \u001b[0m | \u001b[0m8.865    \u001b[0m | \u001b[0m174.1    \u001b[0m | \u001b[0m0.591    \u001b[0m |\n",
      "| \u001b[0m13       \u001b[0m | \u001b[0m0.7499   \u001b[0m | \u001b[0m0.1082   \u001b[0m | \u001b[0m8.41     \u001b[0m | \u001b[0m5.901    \u001b[0m | \u001b[0m176.3    \u001b[0m | \u001b[0m0.569    \u001b[0m |\n",
      "| \u001b[0m14       \u001b[0m | \u001b[0m0.7615   \u001b[0m | \u001b[0m0.8362   \u001b[0m | \u001b[0m5.709    \u001b[0m | \u001b[0m7.065    \u001b[0m | \u001b[0m172.3    \u001b[0m | \u001b[0m0.2969   \u001b[0m |\n",
      "| \u001b[0m15       \u001b[0m | \u001b[0m0.7641   \u001b[0m | \u001b[0m0.4594   \u001b[0m | \u001b[0m7.181    \u001b[0m | \u001b[0m5.403    \u001b[0m | \u001b[0m169.6    \u001b[0m | \u001b[0m0.4907   \u001b[0m |\n",
      "| \u001b[95m16       \u001b[0m | \u001b[95m0.77     \u001b[0m | \u001b[95m0.1753   \u001b[0m | \u001b[95m6.936    \u001b[0m | \u001b[95m5.606    \u001b[0m | \u001b[95m171.6    \u001b[0m | \u001b[95m0.9237   \u001b[0m |\n",
      "| \u001b[0m17       \u001b[0m | \u001b[0m0.7676   \u001b[0m | \u001b[0m0.5516   \u001b[0m | \u001b[0m5.788    \u001b[0m | \u001b[0m10.98    \u001b[0m | \u001b[0m173.8    \u001b[0m | \u001b[0m0.6348   \u001b[0m |\n",
      "| \u001b[0m18       \u001b[0m | \u001b[0m0.7653   \u001b[0m | \u001b[0m0.9002   \u001b[0m | \u001b[0m3.457    \u001b[0m | \u001b[0m10.51    \u001b[0m | \u001b[0m175.6    \u001b[0m | \u001b[0m0.3904   \u001b[0m |\n",
      "| \u001b[0m19       \u001b[0m | \u001b[0m0.7629   \u001b[0m | \u001b[0m0.2753   \u001b[0m | \u001b[0m7.579    \u001b[0m | \u001b[0m11.05    \u001b[0m | \u001b[0m175.6    \u001b[0m | \u001b[0m0.2644   \u001b[0m |\n",
      "| \u001b[0m20       \u001b[0m | \u001b[0m0.7599   \u001b[0m | \u001b[0m0.1139   \u001b[0m | \u001b[0m3.784    \u001b[0m | \u001b[0m12.55    \u001b[0m | \u001b[0m172.0    \u001b[0m | \u001b[0m0.4919   \u001b[0m |\n",
      "| \u001b[0m21       \u001b[0m | \u001b[0m0.7654   \u001b[0m | \u001b[0m0.9807   \u001b[0m | \u001b[0m4.02     \u001b[0m | \u001b[0m3.373    \u001b[0m | \u001b[0m171.9    \u001b[0m | \u001b[0m0.4243   \u001b[0m |\n",
      "| \u001b[0m22       \u001b[0m | \u001b[0m0.7584   \u001b[0m | \u001b[0m0.4321   \u001b[0m | \u001b[0m8.966    \u001b[0m | \u001b[0m5.499    \u001b[0m | \u001b[0m171.8    \u001b[0m | \u001b[0m0.1821   \u001b[0m |\n",
      "| \u001b[0m23       \u001b[0m | \u001b[0m0.7662   \u001b[0m | \u001b[0m0.5437   \u001b[0m | \u001b[0m5.629    \u001b[0m | \u001b[0m3.318    \u001b[0m | \u001b[0m172.7    \u001b[0m | \u001b[0m0.5307   \u001b[0m |\n",
      "| \u001b[0m24       \u001b[0m | \u001b[0m0.7538   \u001b[0m | \u001b[0m0.8252   \u001b[0m | \u001b[0m7.415    \u001b[0m | \u001b[0m9.339    \u001b[0m | \u001b[0m172.0    \u001b[0m | \u001b[0m0.9757   \u001b[0m |\n",
      "| \u001b[0m25       \u001b[0m | \u001b[0m0.7677   \u001b[0m | \u001b[0m0.4918   \u001b[0m | \u001b[0m5.368    \u001b[0m | \u001b[0m9.691    \u001b[0m | \u001b[0m175.9    \u001b[0m | \u001b[0m0.5706   \u001b[0m |\n",
      "| \u001b[0m26       \u001b[0m | \u001b[0m0.7666   \u001b[0m | \u001b[0m0.7527   \u001b[0m | \u001b[0m4.082    \u001b[0m | \u001b[0m9.256    \u001b[0m | \u001b[0m178.4    \u001b[0m | \u001b[0m0.6459   \u001b[0m |\n",
      "| \u001b[0m27       \u001b[0m | \u001b[0m0.7651   \u001b[0m | \u001b[0m0.5525   \u001b[0m | \u001b[0m5.962    \u001b[0m | \u001b[0m4.652    \u001b[0m | \u001b[0m171.1    \u001b[0m | \u001b[0m0.6031   \u001b[0m |\n",
      "| \u001b[95m28       \u001b[0m | \u001b[95m0.7715   \u001b[0m | \u001b[95m0.1697   \u001b[0m | \u001b[95m3.95     \u001b[0m | \u001b[95m8.015    \u001b[0m | \u001b[95m176.6    \u001b[0m | \u001b[95m0.9519   \u001b[0m |\n",
      "| \u001b[0m29       \u001b[0m | \u001b[0m0.7658   \u001b[0m | \u001b[0m0.1      \u001b[0m | \u001b[0m3.0      \u001b[0m | \u001b[0m7.008    \u001b[0m | \u001b[0m177.5    \u001b[0m | \u001b[0m0.999    \u001b[0m |\n",
      "| \u001b[0m30       \u001b[0m | \u001b[0m0.7657   \u001b[0m | \u001b[0m0.1061   \u001b[0m | \u001b[0m3.01     \u001b[0m | \u001b[0m8.682    \u001b[0m | \u001b[0m174.5    \u001b[0m | \u001b[0m0.9978   \u001b[0m |\n",
      "| \u001b[0m31       \u001b[0m | \u001b[0m0.7645   \u001b[0m | \u001b[0m0.9014   \u001b[0m | \u001b[0m4.571    \u001b[0m | \u001b[0m8.539    \u001b[0m | \u001b[0m176.4    \u001b[0m | \u001b[0m0.7827   \u001b[0m |\n",
      "| \u001b[0m32       \u001b[0m | \u001b[0m0.7661   \u001b[0m | \u001b[0m0.2155   \u001b[0m | \u001b[0m5.088    \u001b[0m | \u001b[0m7.168    \u001b[0m | \u001b[0m175.8    \u001b[0m | \u001b[0m0.4063   \u001b[0m |\n",
      "| \u001b[0m33       \u001b[0m | \u001b[0m0.7678   \u001b[0m | \u001b[0m0.57     \u001b[0m | \u001b[0m4.952    \u001b[0m | \u001b[0m11.79    \u001b[0m | \u001b[0m175.8    \u001b[0m | \u001b[0m0.6125   \u001b[0m |\n",
      "| \u001b[0m34       \u001b[0m | \u001b[0m0.7668   \u001b[0m | \u001b[0m0.5752   \u001b[0m | \u001b[0m5.54     \u001b[0m | \u001b[0m11.16    \u001b[0m | \u001b[0m177.9    \u001b[0m | \u001b[0m0.5666   \u001b[0m |\n",
      "| \u001b[0m35       \u001b[0m | \u001b[0m0.7648   \u001b[0m | \u001b[0m0.1      \u001b[0m | \u001b[0m3.0      \u001b[0m | \u001b[0m8.85     \u001b[0m | \u001b[0m176.8    \u001b[0m | \u001b[0m0.999    \u001b[0m |\n",
      "| \u001b[0m36       \u001b[0m | \u001b[0m0.768    \u001b[0m | \u001b[0m0.6997   \u001b[0m | \u001b[0m3.979    \u001b[0m | \u001b[0m12.37    \u001b[0m | \u001b[0m177.2    \u001b[0m | \u001b[0m0.6989   \u001b[0m |\n",
      "| \u001b[0m37       \u001b[0m | \u001b[0m0.7469   \u001b[0m | \u001b[0m0.999    \u001b[0m | \u001b[0m3.736    \u001b[0m | \u001b[0m11.55    \u001b[0m | \u001b[0m179.0    \u001b[0m | \u001b[0m0.999    \u001b[0m |\n",
      "| \u001b[0m38       \u001b[0m | \u001b[0m0.7713   \u001b[0m | \u001b[0m0.1966   \u001b[0m | \u001b[0m5.272    \u001b[0m | \u001b[0m7.799    \u001b[0m | \u001b[0m177.4    \u001b[0m | \u001b[0m0.9952   \u001b[0m |\n",
      "| \u001b[0m39       \u001b[0m | \u001b[0m0.7674   \u001b[0m | \u001b[0m0.5398   \u001b[0m | \u001b[0m5.725    \u001b[0m | \u001b[0m9.439    \u001b[0m | \u001b[0m177.4    \u001b[0m | \u001b[0m0.7667   \u001b[0m |\n",
      "| \u001b[0m40       \u001b[0m | \u001b[0m0.7567   \u001b[0m | \u001b[0m0.1211   \u001b[0m | \u001b[0m4.224    \u001b[0m | \u001b[0m6.931    \u001b[0m | \u001b[0m177.2    \u001b[0m | \u001b[0m0.2438   \u001b[0m |\n",
      "| \u001b[0m41       \u001b[0m | \u001b[0m0.7704   \u001b[0m | \u001b[0m0.2963   \u001b[0m | \u001b[0m5.049    \u001b[0m | \u001b[0m12.38    \u001b[0m | \u001b[0m177.3    \u001b[0m | \u001b[0m0.7541   \u001b[0m |\n",
      "| \u001b[0m42       \u001b[0m | \u001b[0m0.7662   \u001b[0m | \u001b[0m0.4562   \u001b[0m | \u001b[0m5.104    \u001b[0m | \u001b[0m10.27    \u001b[0m | \u001b[0m174.1    \u001b[0m | \u001b[0m0.3642   \u001b[0m |\n",
      "| \u001b[0m43       \u001b[0m | \u001b[0m0.7698   \u001b[0m | \u001b[0m0.1722   \u001b[0m | \u001b[0m5.803    \u001b[0m | \u001b[0m8.033    \u001b[0m | \u001b[0m178.4    \u001b[0m | \u001b[0m0.9786   \u001b[0m |\n",
      "| \u001b[0m44       \u001b[0m | \u001b[0m0.7638   \u001b[0m | \u001b[0m0.6282   \u001b[0m | \u001b[0m6.171    \u001b[0m | \u001b[0m12.5     \u001b[0m | \u001b[0m177.3    \u001b[0m | \u001b[0m0.4852   \u001b[0m |\n",
      "| \u001b[0m45       \u001b[0m | \u001b[0m0.7642   \u001b[0m | \u001b[0m0.1      \u001b[0m | \u001b[0m4.807    \u001b[0m | \u001b[0m11.33    \u001b[0m | \u001b[0m176.8    \u001b[0m | \u001b[0m0.999    \u001b[0m |\n",
      "| \u001b[0m46       \u001b[0m | \u001b[0m0.7658   \u001b[0m | \u001b[0m0.884    \u001b[0m | \u001b[0m4.432    \u001b[0m | \u001b[0m12.7     \u001b[0m | \u001b[0m176.7    \u001b[0m | \u001b[0m0.7321   \u001b[0m |\n",
      "| \u001b[0m47       \u001b[0m | \u001b[0m0.7669   \u001b[0m | \u001b[0m0.4076   \u001b[0m | \u001b[0m5.951    \u001b[0m | \u001b[0m7.573    \u001b[0m | \u001b[0m177.5    \u001b[0m | \u001b[0m0.7537   \u001b[0m |\n",
      "| \u001b[0m48       \u001b[0m | \u001b[0m0.7635   \u001b[0m | \u001b[0m0.9583   \u001b[0m | \u001b[0m5.447    \u001b[0m | \u001b[0m10.84    \u001b[0m | \u001b[0m175.0    \u001b[0m | \u001b[0m0.4329   \u001b[0m |\n",
      "| \u001b[0m49       \u001b[0m | \u001b[0m0.7629   \u001b[0m | \u001b[0m0.623    \u001b[0m | \u001b[0m4.748    \u001b[0m | \u001b[0m8.094    \u001b[0m | \u001b[0m178.7    \u001b[0m | \u001b[0m0.4813   \u001b[0m |\n",
      "| \u001b[0m50       \u001b[0m | \u001b[0m0.769    \u001b[0m | \u001b[0m0.1767   \u001b[0m | \u001b[0m5.618    \u001b[0m | \u001b[0m12.5     \u001b[0m | \u001b[0m175.8    \u001b[0m | \u001b[0m0.8958   \u001b[0m |\n",
      "=====================================================================================\n",
      "{'target': 0.7714894217241197, 'params': {'colsample_bytree': 0.1697061013403305, 'max_depth': 3.9503147150861055, 'min_child_weight': 8.014693941309265, 'n_estimators': 176.58796973075368, 'subsample': 0.9518958314875539}}\n",
      "----------------------------------------------------------------------------------------------------\n"
     ]
    }
   ],
   "source": [
    "models_dict_xgb = optimize_xgb(45)"
   ]
  },
  {
   "cell_type": "code",
   "execution_count": 11,
   "id": "ff056892",
   "metadata": {
    "ExecuteTime": {
     "end_time": "2022-02-20T08:10:30.138913Z",
     "start_time": "2022-02-20T08:10:30.125913Z"
    },
    "execution": {
     "iopub.execute_input": "2024-01-24T11:26:07.644726Z",
     "iopub.status.busy": "2024-01-24T11:26:07.644179Z",
     "iopub.status.idle": "2024-01-24T11:26:07.649213Z",
     "shell.execute_reply": "2024-01-24T11:26:07.648514Z",
     "shell.execute_reply.started": "2024-01-24T11:26:07.644695Z"
    }
   },
   "outputs": [],
   "source": [
    "models_dict_rf_mod = models_dict_rf.copy()\n",
    "models_dict_xgb_mod =models_dict_xgb.copy()"
   ]
  },
  {
   "cell_type": "code",
   "execution_count": 12,
   "id": "9b72e045",
   "metadata": {
    "ExecuteTime": {
     "end_time": "2022-02-20T08:10:30.154915Z",
     "start_time": "2022-02-20T08:10:30.142914Z"
    },
    "execution": {
     "iopub.execute_input": "2024-01-24T11:26:07.650483Z",
     "iopub.status.busy": "2024-01-24T11:26:07.650092Z",
     "iopub.status.idle": "2024-01-24T11:26:07.657174Z",
     "shell.execute_reply": "2024-01-24T11:26:07.656511Z",
     "shell.execute_reply.started": "2024-01-24T11:26:07.650457Z"
    }
   },
   "outputs": [],
   "source": [
    "for i in models_dict_rf_mod:\n",
    "    models_dict_rf_mod[i]['params']['max_depth'] = int(models_dict_rf_mod[i]['params']['max_depth'])\n",
    "    models_dict_rf_mod[i]['params']['max_features'] = round(models_dict_rf_mod[i]['params']['max_features'],3)\n",
    "    models_dict_rf_mod[i]['params']['min_samples_split'] = int(models_dict_rf_mod[i]['params']['min_samples_split'])\n",
    "    models_dict_rf_mod[i]['params']['n_estimators'] = int(models_dict_rf_mod[i]['params']['n_estimators'])"
   ]
  },
  {
   "cell_type": "code",
   "execution_count": 13,
   "id": "58514255",
   "metadata": {
    "ExecuteTime": {
     "end_time": "2022-02-20T08:10:30.170914Z",
     "start_time": "2022-02-20T08:10:30.157914Z"
    },
    "execution": {
     "iopub.execute_input": "2024-01-24T11:26:07.659240Z",
     "iopub.status.busy": "2024-01-24T11:26:07.658059Z",
     "iopub.status.idle": "2024-01-24T11:26:07.668927Z",
     "shell.execute_reply": "2024-01-24T11:26:07.668276Z",
     "shell.execute_reply.started": "2024-01-24T11:26:07.659214Z"
    }
   },
   "outputs": [],
   "source": [
    "for i in models_dict_xgb_mod:\n",
    "    models_dict_xgb_mod[i]['params']['max_depth'] = int(models_dict_xgb_mod[i]['params']['max_depth'])\n",
    "    models_dict_xgb_mod[i]['params']['colsample_bytree'] = round(models_dict_xgb_mod[i]['params']['colsample_bytree'],3)\n",
    "    models_dict_xgb_mod[i]['params']['subsample'] = round(models_dict_xgb_mod[i]['params']['subsample'],3)\n",
    "    models_dict_xgb_mod[i]['params']['min_child_weight'] = int(models_dict_xgb_mod[i]['params']['min_child_weight'])\n",
    "    models_dict_xgb_mod[i]['params']['n_estimators'] = int(models_dict_xgb_mod[i]['params']['n_estimators'])"
   ]
  },
  {
   "cell_type": "code",
   "execution_count": 14,
   "id": "1be4e266",
   "metadata": {
    "ExecuteTime": {
     "end_time": "2022-02-20T08:10:30.201913Z",
     "start_time": "2022-02-20T08:10:30.173913Z"
    },
    "execution": {
     "iopub.execute_input": "2024-01-24T11:26:07.670910Z",
     "iopub.status.busy": "2024-01-24T11:26:07.669778Z",
     "iopub.status.idle": "2024-01-24T11:26:07.677201Z",
     "shell.execute_reply": "2024-01-24T11:26:07.676535Z",
     "shell.execute_reply.started": "2024-01-24T11:26:07.670884Z"
    }
   },
   "outputs": [],
   "source": [
    "np.save('rf_params.npy',models_dict_rf_mod)\n",
    "np.save('xgb_params.npy',models_dict_xgb_mod)"
   ]
  },
  {
   "cell_type": "code",
   "execution_count": 15,
   "id": "ca087847",
   "metadata": {
    "ExecuteTime": {
     "end_time": "2022-02-20T08:10:30.217915Z",
     "start_time": "2022-02-20T08:10:30.204913Z"
    },
    "execution": {
     "iopub.execute_input": "2024-01-24T11:26:07.679336Z",
     "iopub.status.busy": "2024-01-24T11:26:07.678082Z",
     "iopub.status.idle": "2024-01-24T11:26:07.683537Z",
     "shell.execute_reply": "2024-01-24T11:26:07.682890Z",
     "shell.execute_reply.started": "2024-01-24T11:26:07.679308Z"
    }
   },
   "outputs": [],
   "source": [
    "#models_dict_rf_mod = np.load('rf_params.npy',allow_pickle=True).item()"
   ]
  },
  {
   "cell_type": "code",
   "execution_count": 16,
   "id": "7217542a",
   "metadata": {
    "ExecuteTime": {
     "end_time": "2022-02-20T08:10:30.233914Z",
     "start_time": "2022-02-20T08:10:30.219914Z"
    },
    "execution": {
     "iopub.execute_input": "2024-01-24T11:26:07.685659Z",
     "iopub.status.busy": "2024-01-24T11:26:07.684681Z",
     "iopub.status.idle": "2024-01-24T11:26:07.693750Z",
     "shell.execute_reply": "2024-01-24T11:26:07.693105Z",
     "shell.execute_reply.started": "2024-01-24T11:26:07.685633Z"
    }
   },
   "outputs": [],
   "source": [
    "# total_param_dict = {}\n",
    "# models_dict = {}\n",
    "# n_iter = 195\n",
    "# for i in label_features_dict:\n",
    "#     label = i\n",
    "#     features = label_features_dict[i]\n",
    "#     x_train = dev_df[features]\n",
    "#     y_train = dev_df[label]\n",
    "#     x_test = val_df[features]\n",
    "#     y_test = val_df[label]\n",
    "    \n",
    "# #     gbdt_op = BayesianOptimization(\n",
    "# #         gbdt_cv,\n",
    "# #         {'n_estimators': (10, 250),\n",
    "# #         'min_samples_split': (2, 25),\n",
    "# #         'max_features': (0.1, 0.999),\n",
    "# #         'max_depth': (5, 15)},\n",
    "# #     random_state=2024)\n",
    "\n",
    "#     rf_op = BayesianOptimization(\n",
    "#         rf_cv,\n",
    "#         {'n_estimators': (10, 250),\n",
    "#         'min_samples_split': (2, 25),\n",
    "#         'max_features': (0.1, 0.999),\n",
    "#         'max_depth': (3, 15)},\n",
    "#     random_state = 2024)\n",
    "    \n",
    "#     xgb_op = BayesianOptimization(\n",
    "#         xgb_cv,\n",
    "#         {'n_estimators': (10, 250),\n",
    "#         'min_child_weight': (2, 25),\n",
    "#         #'gama': (0.1, 0.999),\n",
    "#         'subsample': (0.1, 0.999),\n",
    "#         'colsample_bytree': (0.1, 0.999),\n",
    "#         'max_depth': (3, 15)},\n",
    "#     random_state = 2024)\n",
    "    \n",
    "#     print('---------------------------特征为：%s-------------------------------'%label)\n",
    "# #     print('---------------------------模型为：GBDT-------------------------------')\n",
    "# #     gbdt_op.maximize(n_iter=n_iter)\n",
    "# #     print(gbdt_op.max)\n",
    "# #     models_dict['gbdt'] = gbdt_op.max\n",
    "#     print('---------------------------模型为：Random Forest-------------------------------')\n",
    "#     rf_op.maximize(n_iter=n_iter)\n",
    "#     print(rf_op.max)\n",
    "#     models_dict['rf'] = rf_op.max\n",
    "#     print('---------------------------模型为：XGBOOST-------------------------------')\n",
    "#     xgb_op.maximize(n_iter=n_iter)\n",
    "#     print(xgb_op.max)\n",
    "#     models_dict['xgboost'] = xgb_op.max\n",
    "#     total_param_dict[label] = models_dict\n",
    "#     print('----------------------------------------------------------------------------------------------------')"
   ]
  },
  {
   "cell_type": "code",
   "execution_count": null,
   "id": "60966134",
   "metadata": {},
   "outputs": [],
   "source": []
  }
 ],
 "metadata": {
  "kernelspec": {
   "display_name": "machine_learning",
   "language": "python",
   "name": "ml"
  },
  "language_info": {
   "codemirror_mode": {
    "name": "ipython",
    "version": 3
   },
   "file_extension": ".py",
   "mimetype": "text/x-python",
   "name": "python",
   "nbconvert_exporter": "python",
   "pygments_lexer": "ipython3",
   "version": "3.9.16"
  },
  "toc": {
   "base_numbering": 1,
   "nav_menu": {},
   "number_sections": true,
   "sideBar": true,
   "skip_h1_title": false,
   "title_cell": "Table of Contents",
   "title_sidebar": "Contents",
   "toc_cell": false,
   "toc_position": {},
   "toc_section_display": true,
   "toc_window_display": false
  }
 },
 "nbformat": 4,
 "nbformat_minor": 5
}
