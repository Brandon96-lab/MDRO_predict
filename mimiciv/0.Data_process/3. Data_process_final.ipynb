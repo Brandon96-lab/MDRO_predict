{
 "cells": [
  {
   "cell_type": "code",
   "execution_count": 7,
   "id": "e9a19c00-bb68-4a5c-ae0c-cfd2a0e25905",
   "metadata": {
    "ExecuteTime": {
     "end_time": "2022-02-04T13:04:04.417762Z",
     "start_time": "2022-02-04T13:04:03.224756Z"
    },
    "execution": {
     "iopub.execute_input": "2024-06-17T09:31:24.733798Z",
     "iopub.status.busy": "2024-06-17T09:31:24.733185Z",
     "iopub.status.idle": "2024-06-17T09:31:24.744331Z",
     "shell.execute_reply": "2024-06-17T09:31:24.743365Z",
     "shell.execute_reply.started": "2024-06-17T09:31:24.733747Z"
    },
    "tags": []
   },
   "outputs": [],
   "source": [
    "%config IPCompleter.greedy=True\n",
    "import numpy as np\n",
    "import pandas as pd\n",
    "import psycopg2\n",
    "import matplotlib.pyplot as plt\n",
    "import time\n",
    "import re\n",
    "import scipy\n",
    "from datetime import time, timedelta\n",
    "import seaborn as sns\n",
    "import datetime as dt\n",
    "pd.set_option('display.max_columns', 300)"
   ]
  },
  {
   "cell_type": "code",
   "execution_count": 8,
   "id": "46e8e10e-c17a-4863-9a01-9b00ccde5907",
   "metadata": {
    "ExecuteTime": {
     "end_time": "2022-02-04T13:04:04.433758Z",
     "start_time": "2022-02-04T13:04:04.421755Z"
    },
    "execution": {
     "iopub.execute_input": "2024-06-17T09:31:25.020233Z",
     "iopub.status.busy": "2024-06-17T09:31:25.019695Z",
     "iopub.status.idle": "2024-06-17T09:31:25.028065Z",
     "shell.execute_reply": "2024-06-17T09:31:25.027192Z",
     "shell.execute_reply.started": "2024-06-17T09:31:25.020184Z"
    },
    "tags": []
   },
   "outputs": [],
   "source": [
    "def trans_id(df):\n",
    "    for i in ['subject_id','hadm_id','stay_id']:\n",
    "        if i in df.columns.tolist():\n",
    "            if df[i].dtype == object:\n",
    "                if ((df[i]== 'None')|(df[i]== 'Null')).any():\n",
    "                    df[i].replace('None',np.nan,inplace = True)\n",
    "                    df[i].replace('Null',np.nan,inplace = True)\n",
    "                    df[i] = df[i].astype(float)\n",
    "                else:\n",
    "                    df[i] = df[i].astype(float)"
   ]
  },
  {
   "cell_type": "code",
   "execution_count": 9,
   "id": "cd877209-ac2f-4de2-8a6d-37260e78ca18",
   "metadata": {
    "ExecuteTime": {
     "end_time": "2022-02-04T13:04:04.449758Z",
     "start_time": "2022-02-04T13:04:04.436758Z"
    },
    "execution": {
     "iopub.execute_input": "2024-06-17T09:31:25.295380Z",
     "iopub.status.busy": "2024-06-17T09:31:25.294856Z",
     "iopub.status.idle": "2024-06-17T09:31:25.301249Z",
     "shell.execute_reply": "2024-06-17T09:31:25.300634Z",
     "shell.execute_reply.started": "2024-06-17T09:31:25.295332Z"
    },
    "tags": []
   },
   "outputs": [],
   "source": [
    "def trans_time(t):\n",
    "    if t == 'None':\n",
    "        return np.datetime64('NaT')\n",
    "    elif pd.isna(t):\n",
    "        return np.datetime64('NaT')\n",
    "    else:\n",
    "        return np.datetime64(t)"
   ]
  },
  {
   "cell_type": "code",
   "execution_count": 10,
   "id": "2e213be6-b585-42f8-8651-3fb93bee6ef8",
   "metadata": {
    "ExecuteTime": {
     "end_time": "2022-02-04T13:04:04.465755Z",
     "start_time": "2022-02-04T13:04:04.452755Z"
    },
    "execution": {
     "iopub.execute_input": "2024-06-17T09:31:25.570161Z",
     "iopub.status.busy": "2024-06-17T09:31:25.569081Z",
     "iopub.status.idle": "2024-06-17T09:31:25.576359Z",
     "shell.execute_reply": "2024-06-17T09:31:25.575593Z",
     "shell.execute_reply.started": "2024-06-17T09:31:25.570110Z"
    },
    "tags": []
   },
   "outputs": [],
   "source": [
    "def trans_float(df):\n",
    "    for i in df.columns:\n",
    "        if df[i].dtype == object:\n",
    "            if ((df[i]== 'None')|(df[i]== 'Null')).any():\n",
    "                df[i].replace('None',np.nan,inplace = True)\n",
    "                df[i].replace('Null',np.nan,inplace = True)\n",
    "                df[i] = df[i].astype(float)\n",
    "            else:\n",
    "                df[i] = df[i].astype(float)"
   ]
  },
  {
   "cell_type": "code",
   "execution_count": 98,
   "id": "61029ba3-f85e-4049-9f79-5cbe12647cbe",
   "metadata": {
    "ExecuteTime": {
     "end_time": "2022-02-04T13:04:05.914755Z",
     "start_time": "2022-02-04T13:04:04.467755Z"
    },
    "execution": {
     "iopub.execute_input": "2024-06-17T10:24:09.491211Z",
     "iopub.status.busy": "2024-06-17T10:24:09.490621Z",
     "iopub.status.idle": "2024-06-17T10:24:10.466838Z",
     "shell.execute_reply": "2024-06-17T10:24:10.465523Z",
     "shell.execute_reply.started": "2024-06-17T10:24:09.491160Z"
    },
    "tags": []
   },
   "outputs": [],
   "source": [
    "data = pd.read_csv('data_tomodel_1st_revise.csv')"
   ]
  },
  {
   "cell_type": "code",
   "execution_count": 99,
   "id": "979f2316-8149-4a4d-a68e-8d9a1cd623d8",
   "metadata": {
    "ExecuteTime": {
     "end_time": "2022-02-04T13:04:06.470756Z",
     "start_time": "2022-02-04T13:04:05.916756Z"
    },
    "execution": {
     "iopub.execute_input": "2024-06-17T10:24:10.479537Z",
     "iopub.status.busy": "2024-06-17T10:24:10.479390Z",
     "iopub.status.idle": "2024-06-17T10:24:10.757779Z",
     "shell.execute_reply": "2024-06-17T10:24:10.756695Z",
     "shell.execute_reply.started": "2024-06-17T10:24:10.479523Z"
    },
    "tags": []
   },
   "outputs": [],
   "source": [
    "data = data.drop_duplicates()"
   ]
  },
  {
   "cell_type": "code",
   "execution_count": 93,
   "id": "ba53f5dd-bbfc-45a8-a163-0e5f0097fe5c",
   "metadata": {
    "ExecuteTime": {
     "end_time": "2022-02-04T13:04:07.958836Z",
     "start_time": "2022-02-04T13:04:06.473756Z"
    },
    "execution": {
     "iopub.execute_input": "2024-06-17T10:17:09.754098Z",
     "iopub.status.busy": "2024-06-17T10:17:09.753556Z",
     "iopub.status.idle": "2024-06-17T10:17:09.758408Z",
     "shell.execute_reply": "2024-06-17T10:17:09.757632Z",
     "shell.execute_reply.started": "2024-06-17T10:17:09.754049Z"
    },
    "tags": []
   },
   "outputs": [],
   "source": [
    "#from pandas_profiling import ProfileReport"
   ]
  },
  {
   "cell_type": "code",
   "execution_count": 94,
   "id": "e72eba18-a19a-406e-afdc-68a6fcb66311",
   "metadata": {
    "ExecuteTime": {
     "end_time": "2022-02-04T13:04:07.974832Z",
     "start_time": "2022-02-04T13:04:07.961832Z"
    },
    "execution": {
     "iopub.execute_input": "2024-06-17T10:17:10.216179Z",
     "iopub.status.busy": "2024-06-17T10:17:10.215658Z",
     "iopub.status.idle": "2024-06-17T10:17:10.221542Z",
     "shell.execute_reply": "2024-06-17T10:17:10.220516Z",
     "shell.execute_reply.started": "2024-06-17T10:17:10.216131Z"
    },
    "tags": []
   },
   "outputs": [],
   "source": [
    "#profile = ProfileReport(data, title=\"Pandas Profiling Report\", minimal=True, pool_size=0)"
   ]
  },
  {
   "cell_type": "code",
   "execution_count": 95,
   "id": "1e4f1768-7289-4cca-8b53-cec9804e5898",
   "metadata": {
    "ExecuteTime": {
     "end_time": "2022-02-04T13:04:07.990832Z",
     "start_time": "2022-02-04T13:04:07.977838Z"
    },
    "execution": {
     "iopub.execute_input": "2024-06-17T10:17:10.545743Z",
     "iopub.status.busy": "2024-06-17T10:17:10.545216Z",
     "iopub.status.idle": "2024-06-17T10:17:10.551273Z",
     "shell.execute_reply": "2024-06-17T10:17:10.549929Z",
     "shell.execute_reply.started": "2024-06-17T10:17:10.545695Z"
    },
    "tags": []
   },
   "outputs": [],
   "source": [
    "#profile.to_file(\"ini_1st_eda.html\")"
   ]
  },
  {
   "cell_type": "code",
   "execution_count": null,
   "id": "b3cf067f-cdb1-437b-afc3-f66b4f4d05b6",
   "metadata": {},
   "outputs": [],
   "source": []
  },
  {
   "cell_type": "code",
   "execution_count": 96,
   "id": "6d2a9c3b-cc73-42f1-bad2-b3a5396b0a8b",
   "metadata": {
    "ExecuteTime": {
     "end_time": "2022-02-04T13:04:08.037831Z",
     "start_time": "2022-02-04T13:04:08.009831Z"
    },
    "execution": {
     "iopub.execute_input": "2024-06-17T10:17:11.426407Z",
     "iopub.status.busy": "2024-06-17T10:17:11.425728Z",
     "iopub.status.idle": "2024-06-17T10:17:11.442088Z",
     "shell.execute_reply": "2024-06-17T10:17:11.441322Z",
     "shell.execute_reply.started": "2024-06-17T10:17:11.426355Z"
    },
    "tags": []
   },
   "outputs": [],
   "source": [
    "variables_name = [\n",
    " 'stay_id',\n",
    " 'gender',\n",
    "# 'admittime',\n",
    "# 'dischtime',\n",
    "# 'los_hospital',\n",
    " 'admission_age',\n",
    " 'race',\n",
    " 'height',\n",
    " 'weight',\n",
    " 'before_adm_90d',\n",
    "\n",
    " 'history_unintentional_weight_loss_10_lbs',\n",
    " 'history_assistive_devices_Cane',\n",
    " 'history_assistive_devices_None',\n",
    " 'history_assistive_devices_Other',\n",
    " 'history_assistive_devices_Walker',\n",
    " 'history_assistive_devices_Wheelchair',\n",
    " 'history_currently_pain',\n",
    " 'history_dialysis',\n",
    " 'history_difficulty_swallowing',\n",
    " 'history_iv_access',\n",
    " 'history_past_Anemia',\n",
    " 'history_past_Asthma',\n",
    " 'history_past_COPD',\n",
    " 'history_past_Diabetes - Insulin',\n",
    " 'history_past_Diabetes - Oral Agent',\n",
    " 'history_past_ETOH',\n",
    " 'history_past_GI Bleed',\n",
    " 'history_past_HEMO or PD',\n",
    " 'history_past_Hepatitis',\n",
    " 'history_past_Liver Failure',\n",
    " 'history_past_Pancreatitis',\n",
    " 'history_past_Renal Failure',\n",
    " 'history_past_Seizures',\n",
    " 'history_past_Smoker',\n",
    " 'history_cv_Angina',\n",
    " 'history_cv_Arrhythmias',\n",
    " 'history_cv_CAD',\n",
    " 'history_cv_CHF',\n",
    " 'history_cv_CVA',\n",
    " 'history_cv_Hypertension',\n",
    " 'history_cv_MI',\n",
    " 'history_cv_PVD',\n",
    " 'history_cv_Pacemaker',   \n",
    "\n",
    " 'myocardial_infarct',\n",
    " 'congestive_heart_failure',\n",
    " 'peripheral_vascular_disease',\n",
    " 'cerebrovascular_disease',\n",
    " 'dementia',\n",
    " 'chronic_pulmonary_disease',\n",
    " 'rheumatic_disease',\n",
    " 'peptic_ulcer_disease',\n",
    " 'mild_liver_disease',\n",
    " 'diabetes_without_cc',\n",
    " 'diabetes_with_cc',\n",
    " 'paraplegia',\n",
    " 'renal_disease',\n",
    " 'malignant_cancer',\n",
    " 'severe_liver_disease',\n",
    " 'metastatic_solid_tumor',\n",
    " 'aids',\n",
    " 'charlson_comorbidity_index',\n",
    "    \n",
    "\n",
    " 'nasal_swab',\n",
    " 'blood_culture',\n",
    " 'urine_culture',\n",
    " 'sputum_culture',\n",
    " 'stool_culture',\n",
    " 'pan_culture',\n",
    " 'bal_fluid_culture',\n",
    " 'wound_culture',\n",
    " 'rectal_swab',\n",
    " 'csf_culture',\n",
    "\n",
    " 'admission_location_AMBULATORY SURGERY TRANSFER',\n",
    " 'admission_location_CLINIC REFERRAL',\n",
    " 'admission_location_EMERGENCY ROOM',\n",
    " 'admission_location_INFORMATION NOT AVAILABLE',\n",
    " 'admission_location_INTERNAL TRANSFER TO OR FROM PSYCH',\n",
    " 'admission_location_PACU',\n",
    " 'admission_location_PHYSICIAN REFERRAL',\n",
    " 'admission_location_PROCEDURE SITE',\n",
    " 'admission_location_TRANSFER FROM HOSPITAL',\n",
    " 'admission_location_TRANSFER FROM SKILLED NURSING FACILITY',\n",
    " 'admission_location_WALK-IN/SELF REFERRAL',\n",
    "# 'hospital_expire_flag',\n",
    "\n",
    " 'hospstay_seq',\n",
    " 'icustay_rank',\n",
    " 'los_hosp_beforeicu',\n",
    " 'previous_mdrpos_lessthan90d',\n",
    " 'previous_mdrneg_lessthan90d', \n",
    "# 'first_hosp_stay',\n",
    "# 'intime',\n",
    "# 'outtime',\n",
    " 'first_careunit',\n",
    " 'last_careunit',\n",
    "# 'los_icu',\n",
    "# 'icustay_seq',\n",
    "# 'first_icu_stay',\n",
    "# 'firsthospmdrcharttime',\n",
    "# 'firsthospmdrstoretime',\n",
    "# 'firsthospmdrorgname',\n",
    "# 'firsthospmdrRAB',\n",
    "# 'last',\n",
    "# 'previous_mdrpos_lessthan14d',\n",
    "# 'previous_mdrneg_lessthan14d',\n",
    "\n",
    "# 'stay_chart_included',\n",
    " 'immu_duration',\n",
    " 'ant_duration',\n",
    " 'ant_1stday',\n",
    " 'immu_1stday',\n",
    " 'vaso_beforeicu',\n",
    " 'vaso_1stday',\n",
    " 'surgical',\n",
    " 'invasive_line_1stday',\n",
    " 'ventilation_1stday',\n",
    " 'ent_nut',\n",
    " 'par_nut',\n",
    "\n",
    "'lods', 'sofa', 'sirs', 'apsiii', 'sapsii', 'oasis',\n",
    "             \n",
    "    'albumin', 'globulin', 'total_protein', 'aniongap', 'bicarbonate',\n",
    "    'bun', 'calcium', 'chloride', 'creatinine', 'glucose', 'sodium',\n",
    "    'potassium', 'so2', 'po2', 'pco2', 'fio2_chartevents', 'fio2', 'aado2',\n",
    "    'aado2_calc', 'pao2fio2ratio', 'ph', 'baseexcess', 'totalco2',\n",
    "    'carboxyhemoglobin', 'methemoglobin', 'lactate', 'specimen_id',\n",
    "    'basophils_abs', 'eosinophils_abs', 'lymphocytes_abs', 'monocytes_abs',\n",
    "    'neutrophils_abs', 'basophils', 'eosinophils', 'lymphocytes',\n",
    "    'monocytes', 'neutrophils', 'atypical_lymphocytes', 'bands',\n",
    "    'immature_granulocytes', 'metamyelocytes', 'nrbc', 'bleeding_time',\n",
    "    'd_dimer', 'fibrinogen', 'thrombin', 'inr', 'pt', 'ptt', 'hematocrit',\n",
    "    'hemoglobin', 'mch', 'mchc', 'mcv', 'platelet', 'rbc', 'rdw', 'wbc',\n",
    "    'troponin_i', 'troponin_t', 'ck_mb', 'alt', 'alp', 'ast', 'amylase',\n",
    "    'bilirubin_total', 'bilirubin_direct', 'bilirubin_indirect', 'ck_cpk',\n",
    "    'ggt', 'ld_ldh', 'heart_rate', 'spo2', 'sbp', 'dbp', 'mbp', 'resp_rate',\n",
    "    'temperature', 'gcs', 'gcs_motor', 'gcs_verbal', 'gcs_eyes', 'gcs_unable',\n",
    "    'crp', 'ck', 'ntprobnp', 'mg', 'mpv', 'phosphate',\n",
    " \n",
    " 'amikacin',\n",
    " 'amoxicill',\n",
    " 'amoxicillin_clavulanate',\n",
    " 'ampicillin',\n",
    " 'ampicillin_sulbactam',\n",
    " 'azithromycin',\n",
    " 'aztreonam',\n",
    " 'cefuroxime_axetil',\n",
    " 'bactrim',\n",
    " 'cefazolin',\n",
    " 'ceftazidime',\n",
    " 'ceftazidime_avibactam',\n",
    " 'cefadroxil',\n",
    " 'cefepime',\n",
    " 'cefotaxime',\n",
    " 'ceftaroline',\n",
    " 'ceftriaxone',\n",
    " 'cephalexin',\n",
    " 'chloramphenicol',\n",
    " 'ciprofloxacin',\n",
    " 'clarithromycin',\n",
    " 'clindamycin',\n",
    " 'dicloxacillin',\n",
    " 'doxycycline',\n",
    " 'erythromycin',\n",
    " 'gentamicin',\n",
    " 'cefalexin',\n",
    " 'levofloxacin',\n",
    " 'linezolid',\n",
    " 'nitrofurantoin',\n",
    " 'metronidazole',\n",
    " 'meropenem',\n",
    " 'imipenem',\n",
    " 'ertapenem',\n",
    " 'minocycline',\n",
    " 'moxifloxacin',\n",
    " 'mupirocin',\n",
    " 'nafcillin',\n",
    " 'neomycin_polymyxin',\n",
    " 'ofloxacin',\n",
    " 'oxacillin',\n",
    " 'penicillin',\n",
    " 'piperacillin_tazobactam',\n",
    " 'ceftolozane_tazobactam',\n",
    " 'rifampin',\n",
    " 'sulfadiazine',\n",
    " 'polymyxin_trimethoprim',\n",
    " 'sulfameth_trimethoprim',\n",
    " 'tetracycline',\n",
    " 'tobramycin',\n",
    " 'vancomycin',\n",
    "\n",
    " 'stay_chart_included_mdr',\n",
    " 'stay_chart_included_mdr_neg_tot',\n",
    " 'stay_chart_included_mdr_pos_tot'\n",
    "]"
   ]
  },
  {
   "cell_type": "code",
   "execution_count": 101,
   "id": "a0ad8850-8dfe-4f20-ab6d-5040fc2e67fa",
   "metadata": {
    "ExecuteTime": {
     "end_time": "2022-02-04T13:04:08.085832Z",
     "start_time": "2022-02-04T13:04:08.039832Z"
    },
    "execution": {
     "iopub.execute_input": "2024-06-17T10:24:39.468242Z",
     "iopub.status.busy": "2024-06-17T10:24:39.467618Z",
     "iopub.status.idle": "2024-06-17T10:24:39.537556Z",
     "shell.execute_reply": "2024-06-17T10:24:39.536718Z",
     "shell.execute_reply.started": "2024-06-17T10:24:39.468186Z"
    },
    "tags": []
   },
   "outputs": [],
   "source": [
    "variables_df = data[variables_name]"
   ]
  },
  {
   "cell_type": "markdown",
   "id": "3b23a7d8-4163-4000-adf3-50dfe65cf58a",
   "metadata": {},
   "source": [
    "# 抗菌素整合"
   ]
  },
  {
   "cell_type": "code",
   "execution_count": 18,
   "id": "7f36ac95-c17a-42a5-a1ab-a7c1b659d05b",
   "metadata": {
    "ExecuteTime": {
     "end_time": "2022-02-04T13:04:08.101831Z",
     "start_time": "2022-02-04T13:04:08.087832Z"
    },
    "execution": {
     "iopub.execute_input": "2024-06-17T09:31:29.326242Z",
     "iopub.status.busy": "2024-06-17T09:31:29.325000Z",
     "iopub.status.idle": "2024-06-17T09:31:29.334167Z",
     "shell.execute_reply": "2024-06-17T09:31:29.332664Z",
     "shell.execute_reply.started": "2024-06-17T09:31:29.326190Z"
    },
    "tags": []
   },
   "outputs": [],
   "source": [
    "anti_name = ['amikacin', 'amoxicill', 'amoxicillin_clavulanate',\n",
    " 'ampicillin', 'ampicillin_sulbactam',\n",
    " 'azithromycin', 'aztreonam',\n",
    " 'cefuroxime_axetil', 'bactrim',\n",
    " 'cefazolin', 'ceftazidime',\n",
    "# 'ceftazidime_avibactam', 'cefadroxil',\n",
    " 'cefepime', #'cefotaxime',\n",
    " 'ceftaroline', 'ceftriaxone',\n",
    " 'cephalexin', #'chloramphenicol',\n",
    " 'ciprofloxacin', 'clarithromycin',\n",
    " 'clindamycin', 'dicloxacillin',\n",
    " 'doxycycline', 'erythromycin',\n",
    " 'gentamicin', #'cefalexin',\n",
    " 'levofloxacin', 'linezolid',\n",
    " 'nitrofurantoin', 'metronidazole',\n",
    " 'meropenem', 'imipenem',\n",
    " 'ertapenem', 'minocycline',\n",
    " 'moxifloxacin', 'mupirocin',\n",
    " 'nafcillin', 'neomycin_polymyxin',\n",
    " #'ofloxacin',\n",
    "#'oxacillin',\n",
    " 'penicillin', 'piperacillin_tazobactam',\n",
    " 'ceftolozane_tazobactam', 'rifampin',\n",
    " 'sulfadiazine',# 'polymyxin_trimethoprim',\n",
    " 'sulfameth_trimethoprim', 'tetracycline',\n",
    " 'tobramycin', 'vancomycin']"
   ]
  },
  {
   "cell_type": "code",
   "execution_count": 19,
   "id": "ed6c1f3f-46a4-43f0-88b6-6fb74eb88c20",
   "metadata": {
    "ExecuteTime": {
     "end_time": "2022-02-04T13:04:08.149831Z",
     "start_time": "2022-02-04T13:04:08.103831Z"
    },
    "execution": {
     "iopub.execute_input": "2024-06-17T09:31:29.612436Z",
     "iopub.status.busy": "2024-06-17T09:31:29.612094Z",
     "iopub.status.idle": "2024-06-17T09:31:29.633669Z",
     "shell.execute_reply": "2024-06-17T09:31:29.633098Z",
     "shell.execute_reply.started": "2024-06-17T09:31:29.612406Z"
    },
    "tags": []
   },
   "outputs": [
    {
     "data": {
      "text/html": [
       "<div>\n",
       "<style scoped>\n",
       "    .dataframe tbody tr th:only-of-type {\n",
       "        vertical-align: middle;\n",
       "    }\n",
       "\n",
       "    .dataframe tbody tr th {\n",
       "        vertical-align: top;\n",
       "    }\n",
       "\n",
       "    .dataframe thead tr th {\n",
       "        text-align: left;\n",
       "    }\n",
       "\n",
       "    .dataframe thead tr:last-of-type th {\n",
       "        text-align: right;\n",
       "    }\n",
       "</style>\n",
       "<table border=\"1\" class=\"dataframe\">\n",
       "  <thead>\n",
       "    <tr>\n",
       "      <th></th>\n",
       "      <th>count</th>\n",
       "      <th>mean</th>\n",
       "    </tr>\n",
       "    <tr>\n",
       "      <th></th>\n",
       "      <th>stay_chart_included_mdr</th>\n",
       "      <th>stay_chart_included_mdr</th>\n",
       "    </tr>\n",
       "    <tr>\n",
       "      <th>cefotaxime</th>\n",
       "      <th></th>\n",
       "      <th></th>\n",
       "    </tr>\n",
       "  </thead>\n",
       "  <tbody>\n",
       "    <tr>\n",
       "      <th>0.0</th>\n",
       "      <td>47587</td>\n",
       "      <td>0.079349</td>\n",
       "    </tr>\n",
       "  </tbody>\n",
       "</table>\n",
       "</div>"
      ],
      "text/plain": [
       "                             count                    mean\n",
       "           stay_chart_included_mdr stay_chart_included_mdr\n",
       "cefotaxime                                                \n",
       "0.0                          47587                0.079349"
      ]
     },
     "execution_count": 19,
     "metadata": {},
     "output_type": "execute_result"
    }
   ],
   "source": [
    "pd.pivot_table(data = variables_df,values='stay_chart_included_mdr',index = ['cefotaxime'],aggfunc= ['count','mean'])"
   ]
  },
  {
   "cell_type": "code",
   "execution_count": 20,
   "id": "afd332e2-f4a9-4d44-8ca3-286c571d5bc7",
   "metadata": {
    "ExecuteTime": {
     "end_time": "2022-02-04T13:04:10.477836Z",
     "start_time": "2022-02-04T13:04:08.151832Z"
    },
    "execution": {
     "iopub.execute_input": "2024-06-17T09:31:29.916032Z",
     "iopub.status.busy": "2024-06-17T09:31:29.914976Z",
     "iopub.status.idle": "2024-06-17T09:31:30.932585Z",
     "shell.execute_reply": "2024-06-17T09:31:30.931634Z",
     "shell.execute_reply.started": "2024-06-17T09:31:29.915980Z"
    },
    "tags": []
   },
   "outputs": [],
   "source": [
    "ant_lookdf = pd.DataFrame(columns = ['nonuse_count','use_count','non_use_mdr_ratio','use_mdr_ratio'], index = anti_name)\n",
    "for i in range(len(anti_name)):\n",
    "    #ant_lookdf.iloc[i,0] = anti_name[i]\n",
    "    ant_lookdf.iloc[i,0] = pd.pivot_table(data = variables_df,values='stay_chart_included_mdr',index = [anti_name[i]],aggfunc= ['count','mean']).iloc[0,0]\n",
    "    ant_lookdf.iloc[i,1] = pd.pivot_table(data = variables_df,values='stay_chart_included_mdr',index = [anti_name[i]],aggfunc= ['count','mean']).iloc[1,0]\n",
    "    ant_lookdf.iloc[i,2] = pd.pivot_table(data = variables_df,values='stay_chart_included_mdr',index = [anti_name[i]],aggfunc= ['count','mean']).iloc[0,1]\n",
    "    ant_lookdf.iloc[i,3] = pd.pivot_table(data = variables_df,values='stay_chart_included_mdr',index = [anti_name[i]],aggfunc= ['count','mean']).iloc[1,1]"
   ]
  },
  {
   "cell_type": "code",
   "execution_count": 21,
   "id": "91598c12-b70e-4ced-a3c9-06860c110080",
   "metadata": {
    "ExecuteTime": {
     "end_time": "2022-02-04T13:04:10.493832Z",
     "start_time": "2022-02-04T13:04:10.480831Z"
    },
    "execution": {
     "iopub.execute_input": "2024-06-17T09:31:30.944493Z",
     "iopub.status.busy": "2024-06-17T09:31:30.944344Z",
     "iopub.status.idle": "2024-06-17T09:31:30.946709Z",
     "shell.execute_reply": "2024-06-17T09:31:30.946354Z",
     "shell.execute_reply.started": "2024-06-17T09:31:30.944479Z"
    },
    "tags": []
   },
   "outputs": [],
   "source": [
    "#ant_lookdf.to_csv('ant_1stdayuse.csv')"
   ]
  },
  {
   "cell_type": "code",
   "execution_count": 22,
   "id": "c4e5af95-6ad7-49ab-807a-671414beedfc",
   "metadata": {
    "ExecuteTime": {
     "end_time": "2022-02-04T13:04:10.508831Z",
     "start_time": "2022-02-04T13:04:10.495832Z"
    },
    "execution": {
     "iopub.execute_input": "2024-06-17T09:31:30.947668Z",
     "iopub.status.busy": "2024-06-17T09:31:30.947519Z",
     "iopub.status.idle": "2024-06-17T09:31:30.955972Z",
     "shell.execute_reply": "2024-06-17T09:31:30.955608Z",
     "shell.execute_reply.started": "2024-06-17T09:31:30.947655Z"
    },
    "tags": []
   },
   "outputs": [],
   "source": [
    "antsel_ini_df = variables_df[anti_name]"
   ]
  },
  {
   "cell_type": "code",
   "execution_count": 23,
   "id": "a9c43c83-8d2b-4635-9058-5fe7f9d1fae8",
   "metadata": {
    "ExecuteTime": {
     "end_time": "2022-02-04T13:04:10.618832Z",
     "start_time": "2022-02-04T13:04:10.510831Z"
    },
    "execution": {
     "iopub.execute_input": "2024-06-17T09:31:30.956672Z",
     "iopub.status.busy": "2024-06-17T09:31:30.956523Z",
     "iopub.status.idle": "2024-06-17T09:31:31.019121Z",
     "shell.execute_reply": "2024-06-17T09:31:31.018595Z",
     "shell.execute_reply.started": "2024-06-17T09:31:30.956659Z"
    },
    "tags": []
   },
   "outputs": [
    {
     "name": "stderr",
     "output_type": "stream",
     "text": [
      "/tmp/ipykernel_2821004/3798773329.py:1: SettingWithCopyWarning: \n",
      "A value is trying to be set on a copy of a slice from a DataFrame.\n",
      "Try using .loc[row_indexer,col_indexer] = value instead\n",
      "\n",
      "See the caveats in the documentation: https://pandas.pydata.org/pandas-docs/stable/user_guide/indexing.html#returning-a-view-versus-a-copy\n",
      "  antsel_ini_df['carbapenem'] = antsel_ini_df[['meropenem','imipenem','ertapenem']].sum(axis = 1).apply(lambda x:1 if x>0 else 0)\n",
      "/tmp/ipykernel_2821004/3798773329.py:2: SettingWithCopyWarning: \n",
      "A value is trying to be set on a copy of a slice from a DataFrame.\n",
      "Try using .loc[row_indexer,col_indexer] = value instead\n",
      "\n",
      "See the caveats in the documentation: https://pandas.pydata.org/pandas-docs/stable/user_guide/indexing.html#returning-a-view-versus-a-copy\n",
      "  antsel_ini_df['ceph_4th'] = antsel_ini_df['cefepime']\n",
      "/tmp/ipykernel_2821004/3798773329.py:3: SettingWithCopyWarning: \n",
      "A value is trying to be set on a copy of a slice from a DataFrame.\n",
      "Try using .loc[row_indexer,col_indexer] = value instead\n",
      "\n",
      "See the caveats in the documentation: https://pandas.pydata.org/pandas-docs/stable/user_guide/indexing.html#returning-a-view-versus-a-copy\n",
      "  antsel_ini_df['ceph_3th'] = antsel_ini_df[['ceftazidime','ceftriaxone']].sum(axis = 1).apply(lambda x:1 if x>0 else 0)\n",
      "/tmp/ipykernel_2821004/3798773329.py:4: SettingWithCopyWarning: \n",
      "A value is trying to be set on a copy of a slice from a DataFrame.\n",
      "Try using .loc[row_indexer,col_indexer] = value instead\n",
      "\n",
      "See the caveats in the documentation: https://pandas.pydata.org/pandas-docs/stable/user_guide/indexing.html#returning-a-view-versus-a-copy\n",
      "  antsel_ini_df['ceph_1st'] = antsel_ini_df[['cephalexin','cefazolin']].sum(axis = 1).apply(lambda x:1 if x>0 else 0)\n"
     ]
    }
   ],
   "source": [
    "antsel_ini_df['carbapenem'] = antsel_ini_df[['meropenem','imipenem','ertapenem']].sum(axis = 1).apply(lambda x:1 if x>0 else 0)\n",
    "antsel_ini_df['ceph_4th'] = antsel_ini_df['cefepime']\n",
    "antsel_ini_df['ceph_3th'] = antsel_ini_df[['ceftazidime','ceftriaxone']].sum(axis = 1).apply(lambda x:1 if x>0 else 0)\n",
    "antsel_ini_df['ceph_1st'] = antsel_ini_df[['cephalexin','cefazolin']].sum(axis = 1).apply(lambda x:1 if x>0 else 0)"
   ]
  },
  {
   "cell_type": "code",
   "execution_count": 24,
   "id": "b345b01f-db89-426b-b266-4e2a11318517",
   "metadata": {
    "ExecuteTime": {
     "end_time": "2022-02-04T13:04:10.633832Z",
     "start_time": "2022-02-04T13:04:10.621832Z"
    },
    "execution": {
     "iopub.execute_input": "2024-06-17T09:31:31.020208Z",
     "iopub.status.busy": "2024-06-17T09:31:31.020046Z",
     "iopub.status.idle": "2024-06-17T09:31:31.024866Z",
     "shell.execute_reply": "2024-06-17T09:31:31.024396Z",
     "shell.execute_reply.started": "2024-06-17T09:31:31.020193Z"
    },
    "tags": []
   },
   "outputs": [],
   "source": [
    "antsel_sel_df = antsel_ini_df[['carbapenem','ceph_4th','ceph_3th','ceph_1st','tobramycin','linezolid',\\\n",
    "              'aztreonam','gentamicin','piperacillin_tazobactam','ciprofloxacin',\\\n",
    "              'metronidazole','levofloxacin','vancomycin','sulfameth_trimethoprim',\\\n",
    "              'clindamycin','erythromycin','azithromycin','doxycycline','ampicillin','nafcillin']]"
   ]
  },
  {
   "cell_type": "code",
   "execution_count": 25,
   "id": "3028840b-0f16-432b-9dfc-dae64830e629",
   "metadata": {
    "ExecuteTime": {
     "end_time": "2022-02-04T13:04:10.649832Z",
     "start_time": "2022-02-04T13:04:10.635832Z"
    },
    "execution": {
     "iopub.execute_input": "2024-06-17T09:31:31.286556Z",
     "iopub.status.busy": "2024-06-17T09:31:31.286030Z",
     "iopub.status.idle": "2024-06-17T09:31:31.294951Z",
     "shell.execute_reply": "2024-06-17T09:31:31.294187Z",
     "shell.execute_reply.started": "2024-06-17T09:31:31.286507Z"
    },
    "tags": []
   },
   "outputs": [],
   "source": [
    "antsel_sel_df = antsel_sel_df.fillna(0)"
   ]
  },
  {
   "cell_type": "markdown",
   "id": "d03cb603-fcb0-48ba-8992-b96edafeedf5",
   "metadata": {},
   "source": [
    "# 实验室检查和体征整合"
   ]
  },
  {
   "cell_type": "code",
   "execution_count": 26,
   "id": "4cca6051-d8b3-4e1d-8404-c538b79774a5",
   "metadata": {
    "ExecuteTime": {
     "end_time": "2022-02-04T13:04:10.665832Z",
     "start_time": "2022-02-04T13:04:10.651832Z"
    },
    "execution": {
     "iopub.execute_input": "2024-06-17T09:31:32.162809Z",
     "iopub.status.busy": "2024-06-17T09:31:32.162273Z",
     "iopub.status.idle": "2024-06-17T09:31:32.187598Z",
     "shell.execute_reply": "2024-06-17T09:31:32.186804Z",
     "shell.execute_reply.started": "2024-06-17T09:31:32.162760Z"
    },
    "tags": []
   },
   "outputs": [],
   "source": [
    "labvitalssel_sel_df = variables_df[['albumin', 'globulin', 'total_protein', 'aniongap', 'bicarbonate',\n",
    "    'bun', 'calcium', 'chloride', 'creatinine', 'glucose', 'sodium',\n",
    "    'potassium', 'so2', 'po2', 'pco2', 'fio2_chartevents', 'fio2', 'aado2',\n",
    "    'aado2_calc', 'pao2fio2ratio', 'ph', 'baseexcess', 'totalco2',\n",
    "    'carboxyhemoglobin', 'methemoglobin', 'lactate', 'specimen_id',\n",
    "    'basophils_abs', 'eosinophils_abs', 'lymphocytes_abs', 'monocytes_abs',\n",
    "    'neutrophils_abs', 'basophils', 'eosinophils', 'lymphocytes',\n",
    "    'monocytes', 'neutrophils', 'atypical_lymphocytes', 'bands',\n",
    "    'immature_granulocytes', 'metamyelocytes', 'nrbc', 'bleeding_time',\n",
    "    'd_dimer', 'fibrinogen', 'thrombin', 'inr', 'pt', 'ptt', 'hematocrit',\n",
    "    'hemoglobin', 'mch', 'mchc', 'mcv', 'platelet', 'rbc', 'rdw', 'wbc',\n",
    "    'troponin_i', 'troponin_t', 'ck_mb', 'alt', 'alp', 'ast', 'amylase',\n",
    "    'bilirubin_total', 'bilirubin_direct', 'bilirubin_indirect', 'ck_cpk',\n",
    "    'ggt', 'ld_ldh', 'heart_rate', 'spo2', 'sbp', 'dbp', 'mbp', 'resp_rate',\n",
    "    'temperature', 'crp', 'ck', 'ntprobnp', 'mg', 'mpv', 'phosphate']]"
   ]
  },
  {
   "cell_type": "markdown",
   "id": "48135598-213b-43a2-82c4-342c80a59e04",
   "metadata": {},
   "source": [
    "# 入院方式"
   ]
  },
  {
   "cell_type": "code",
   "execution_count": 27,
   "id": "c462e6ab-c8dc-438b-8ac8-0452b6cd83a5",
   "metadata": {
    "ExecuteTime": {
     "end_time": "2022-02-04T13:04:10.681832Z",
     "start_time": "2022-02-04T13:04:10.670832Z"
    },
    "execution": {
     "iopub.execute_input": "2024-06-17T09:31:32.881037Z",
     "iopub.status.busy": "2024-06-17T09:31:32.879723Z",
     "iopub.status.idle": "2024-06-17T09:31:32.887662Z",
     "shell.execute_reply": "2024-06-17T09:31:32.886252Z",
     "shell.execute_reply.started": "2024-06-17T09:31:32.880979Z"
    },
    "tags": []
   },
   "outputs": [],
   "source": [
    "admissiontype = ['admission_location_AMBULATORY SURGERY TRANSFER',\n",
    " 'admission_location_CLINIC REFERRAL',\n",
    " 'admission_location_EMERGENCY ROOM',\n",
    " 'admission_location_INFORMATION NOT AVAILABLE',\n",
    " 'admission_location_INTERNAL TRANSFER TO OR FROM PSYCH',\n",
    "# 'admission_location_None',\n",
    " 'admission_location_PACU',\n",
    " 'admission_location_PHYSICIAN REFERRAL',\n",
    " 'admission_location_PROCEDURE SITE',\n",
    " 'admission_location_TRANSFER FROM HOSPITAL',\n",
    " 'admission_location_TRANSFER FROM SKILLED NURSING FACILITY',\n",
    " 'admission_location_WALK-IN/SELF REFERRAL']"
   ]
  },
  {
   "cell_type": "code",
   "execution_count": 28,
   "id": "57e85ced-16fd-47f6-8751-8fb0f91bd293",
   "metadata": {
    "ExecuteTime": {
     "end_time": "2022-02-04T13:04:11.270837Z",
     "start_time": "2022-02-04T13:04:10.684832Z"
    },
    "execution": {
     "iopub.execute_input": "2024-06-17T09:31:33.199417Z",
     "iopub.status.busy": "2024-06-17T09:31:33.198898Z",
     "iopub.status.idle": "2024-06-17T09:31:33.477766Z",
     "shell.execute_reply": "2024-06-17T09:31:33.476459Z",
     "shell.execute_reply.started": "2024-06-17T09:31:33.199369Z"
    },
    "tags": []
   },
   "outputs": [],
   "source": [
    "admissiontype_lookdf = pd.DataFrame(columns = ['nonuse_count','value_count','non_mdr_ratio','is_mdr_ratio'], index = admissiontype)\n",
    "for i in range(len(admissiontype)):\n",
    "    admissiontype_lookdf.iloc[i,0] = pd.pivot_table(data = variables_df,values='stay_chart_included_mdr',index = [admissiontype[i]],aggfunc= ['count','mean']).iloc[0,0]\n",
    "    admissiontype_lookdf.iloc[i,1] = pd.pivot_table(data = variables_df,values='stay_chart_included_mdr',index = [admissiontype[i]],aggfunc= ['count','mean']).iloc[1,0]\n",
    "    admissiontype_lookdf.iloc[i,2] = pd.pivot_table(data = variables_df,values='stay_chart_included_mdr',index = [admissiontype[i]],aggfunc= ['count','mean']).iloc[0,1]\n",
    "    admissiontype_lookdf.iloc[i,3] = pd.pivot_table(data = variables_df,values='stay_chart_included_mdr',index = [admissiontype[i]],aggfunc= ['count','mean']).iloc[1,1]"
   ]
  },
  {
   "cell_type": "code",
   "execution_count": 29,
   "id": "97721a5e-72fe-4dd1-8fc7-3061bdad0372",
   "metadata": {
    "execution": {
     "iopub.execute_input": "2024-06-17T09:31:33.489030Z",
     "iopub.status.busy": "2024-06-17T09:31:33.488881Z",
     "iopub.status.idle": "2024-06-17T09:31:33.494793Z",
     "shell.execute_reply": "2024-06-17T09:31:33.494447Z",
     "shell.execute_reply.started": "2024-06-17T09:31:33.489017Z"
    },
    "tags": []
   },
   "outputs": [
    {
     "data": {
      "text/html": [
       "<div>\n",
       "<style scoped>\n",
       "    .dataframe tbody tr th:only-of-type {\n",
       "        vertical-align: middle;\n",
       "    }\n",
       "\n",
       "    .dataframe tbody tr th {\n",
       "        vertical-align: top;\n",
       "    }\n",
       "\n",
       "    .dataframe thead th {\n",
       "        text-align: right;\n",
       "    }\n",
       "</style>\n",
       "<table border=\"1\" class=\"dataframe\">\n",
       "  <thead>\n",
       "    <tr style=\"text-align: right;\">\n",
       "      <th></th>\n",
       "      <th>nonuse_count</th>\n",
       "      <th>value_count</th>\n",
       "      <th>non_mdr_ratio</th>\n",
       "      <th>is_mdr_ratio</th>\n",
       "    </tr>\n",
       "  </thead>\n",
       "  <tbody>\n",
       "    <tr>\n",
       "      <th>admission_location_AMBULATORY SURGERY TRANSFER</th>\n",
       "      <td>47619</td>\n",
       "      <td>33</td>\n",
       "      <td>0.079401</td>\n",
       "      <td>0.030303</td>\n",
       "    </tr>\n",
       "    <tr>\n",
       "      <th>admission_location_CLINIC REFERRAL</th>\n",
       "      <td>47119</td>\n",
       "      <td>533</td>\n",
       "      <td>0.079374</td>\n",
       "      <td>0.078799</td>\n",
       "    </tr>\n",
       "    <tr>\n",
       "      <th>admission_location_EMERGENCY ROOM</th>\n",
       "      <td>23457</td>\n",
       "      <td>24195</td>\n",
       "      <td>0.064373</td>\n",
       "      <td>0.093904</td>\n",
       "    </tr>\n",
       "    <tr>\n",
       "      <th>admission_location_INFORMATION NOT AVAILABLE</th>\n",
       "      <td>47527</td>\n",
       "      <td>125</td>\n",
       "      <td>0.07945</td>\n",
       "      <td>0.048</td>\n",
       "    </tr>\n",
       "    <tr>\n",
       "      <th>admission_location_INTERNAL TRANSFER TO OR FROM PSYCH</th>\n",
       "      <td>47645</td>\n",
       "      <td>7</td>\n",
       "      <td>0.079358</td>\n",
       "      <td>0.142857</td>\n",
       "    </tr>\n",
       "    <tr>\n",
       "      <th>admission_location_PACU</th>\n",
       "      <td>47410</td>\n",
       "      <td>242</td>\n",
       "      <td>0.079266</td>\n",
       "      <td>0.099174</td>\n",
       "    </tr>\n",
       "    <tr>\n",
       "      <th>admission_location_PHYSICIAN REFERRAL</th>\n",
       "      <td>38054</td>\n",
       "      <td>9598</td>\n",
       "      <td>0.087928</td>\n",
       "      <td>0.045426</td>\n",
       "    </tr>\n",
       "    <tr>\n",
       "      <th>admission_location_PROCEDURE SITE</th>\n",
       "      <td>46985</td>\n",
       "      <td>667</td>\n",
       "      <td>0.079706</td>\n",
       "      <td>0.055472</td>\n",
       "    </tr>\n",
       "    <tr>\n",
       "      <th>admission_location_TRANSFER FROM HOSPITAL</th>\n",
       "      <td>37107</td>\n",
       "      <td>10545</td>\n",
       "      <td>0.081305</td>\n",
       "      <td>0.072546</td>\n",
       "    </tr>\n",
       "    <tr>\n",
       "      <th>admission_location_TRANSFER FROM SKILLED NURSING FACILITY</th>\n",
       "      <td>46935</td>\n",
       "      <td>717</td>\n",
       "      <td>0.077682</td>\n",
       "      <td>0.189679</td>\n",
       "    </tr>\n",
       "    <tr>\n",
       "      <th>admission_location_WALK-IN/SELF REFERRAL</th>\n",
       "      <td>46662</td>\n",
       "      <td>990</td>\n",
       "      <td>0.079722</td>\n",
       "      <td>0.062626</td>\n",
       "    </tr>\n",
       "  </tbody>\n",
       "</table>\n",
       "</div>"
      ],
      "text/plain": [
       "                                                   nonuse_count value_count  \\\n",
       "admission_location_AMBULATORY SURGERY TRANSFER            47619          33   \n",
       "admission_location_CLINIC REFERRAL                        47119         533   \n",
       "admission_location_EMERGENCY ROOM                         23457       24195   \n",
       "admission_location_INFORMATION NOT AVAILABLE              47527         125   \n",
       "admission_location_INTERNAL TRANSFER TO OR FROM...        47645           7   \n",
       "admission_location_PACU                                   47410         242   \n",
       "admission_location_PHYSICIAN REFERRAL                     38054        9598   \n",
       "admission_location_PROCEDURE SITE                         46985         667   \n",
       "admission_location_TRANSFER FROM HOSPITAL                 37107       10545   \n",
       "admission_location_TRANSFER FROM SKILLED NURSIN...        46935         717   \n",
       "admission_location_WALK-IN/SELF REFERRAL                  46662         990   \n",
       "\n",
       "                                                   non_mdr_ratio is_mdr_ratio  \n",
       "admission_location_AMBULATORY SURGERY TRANSFER          0.079401     0.030303  \n",
       "admission_location_CLINIC REFERRAL                      0.079374     0.078799  \n",
       "admission_location_EMERGENCY ROOM                       0.064373     0.093904  \n",
       "admission_location_INFORMATION NOT AVAILABLE             0.07945        0.048  \n",
       "admission_location_INTERNAL TRANSFER TO OR FROM...      0.079358     0.142857  \n",
       "admission_location_PACU                                 0.079266     0.099174  \n",
       "admission_location_PHYSICIAN REFERRAL                   0.087928     0.045426  \n",
       "admission_location_PROCEDURE SITE                       0.079706     0.055472  \n",
       "admission_location_TRANSFER FROM HOSPITAL               0.081305     0.072546  \n",
       "admission_location_TRANSFER FROM SKILLED NURSIN...      0.077682     0.189679  \n",
       "admission_location_WALK-IN/SELF REFERRAL                0.079722     0.062626  "
      ]
     },
     "execution_count": 29,
     "metadata": {},
     "output_type": "execute_result"
    }
   ],
   "source": [
    "admissiontype_lookdf"
   ]
  },
  {
   "cell_type": "code",
   "execution_count": 30,
   "id": "7e59a036-86d9-4039-a951-7a890762a924",
   "metadata": {
    "ExecuteTime": {
     "end_time": "2022-02-04T13:04:11.286831Z",
     "start_time": "2022-02-04T13:04:11.272832Z"
    },
    "execution": {
     "iopub.execute_input": "2024-06-17T09:31:34.033878Z",
     "iopub.status.busy": "2024-06-17T09:31:34.033350Z",
     "iopub.status.idle": "2024-06-17T09:31:34.038696Z",
     "shell.execute_reply": "2024-06-17T09:31:34.037957Z",
     "shell.execute_reply.started": "2024-06-17T09:31:34.033831Z"
    },
    "tags": []
   },
   "outputs": [],
   "source": [
    "#admissiontype_lookdf"
   ]
  },
  {
   "cell_type": "code",
   "execution_count": 31,
   "id": "f3067073-6ec7-4627-9225-09bd8c1e9a14",
   "metadata": {
    "ExecuteTime": {
     "end_time": "2022-02-04T13:04:11.302831Z",
     "start_time": "2022-02-04T13:04:11.288833Z"
    },
    "execution": {
     "iopub.execute_input": "2024-06-17T09:31:34.665069Z",
     "iopub.status.busy": "2024-06-17T09:31:34.663870Z",
     "iopub.status.idle": "2024-06-17T09:31:34.670016Z",
     "shell.execute_reply": "2024-06-17T09:31:34.669274Z",
     "shell.execute_reply.started": "2024-06-17T09:31:34.665013Z"
    },
    "tags": []
   },
   "outputs": [],
   "source": [
    "admissiontype_sel_df = variables_df[['admission_location_EMERGENCY ROOM','admission_location_TRANSFER FROM HOSPITAL','admission_location_TRANSFER FROM SKILLED NURSING FACILITY']]"
   ]
  },
  {
   "cell_type": "code",
   "execution_count": 32,
   "id": "cc2e88b3-dea7-444a-89b2-c53251b4c1c3",
   "metadata": {
    "ExecuteTime": {
     "end_time": "2022-02-04T13:04:12.051831Z",
     "start_time": "2022-02-04T13:04:11.304832Z"
    },
    "execution": {
     "iopub.execute_input": "2024-06-17T09:31:35.032990Z",
     "iopub.status.busy": "2024-06-17T09:31:35.032424Z",
     "iopub.status.idle": "2024-06-17T09:31:35.319182Z",
     "shell.execute_reply": "2024-06-17T09:31:35.318333Z",
     "shell.execute_reply.started": "2024-06-17T09:31:35.032940Z"
    },
    "tags": []
   },
   "outputs": [
    {
     "name": "stderr",
     "output_type": "stream",
     "text": [
      "/tmp/ipykernel_2821004/3956313325.py:1: SettingWithCopyWarning: \n",
      "A value is trying to be set on a copy of a slice from a DataFrame.\n",
      "Try using .loc[row_indexer,col_indexer] = value instead\n",
      "\n",
      "See the caveats in the documentation: https://pandas.pydata.org/pandas-docs/stable/user_guide/indexing.html#returning-a-view-versus-a-copy\n",
      "  admissiontype_sel_df['admission_location_other'] = admissiontype_sel_df.apply(lambda x:0 if ((x[0]==1) or (x[1]==1) or (x[2]==1)).any() else 1, axis = 1)\n"
     ]
    }
   ],
   "source": [
    "admissiontype_sel_df['admission_location_other'] = admissiontype_sel_df.apply(lambda x:0 if ((x[0]==1) or (x[1]==1) or (x[2]==1)).any() else 1, axis = 1)"
   ]
  },
  {
   "cell_type": "markdown",
   "id": "e3071d6d-afc6-47a4-96c6-6b85350ac620",
   "metadata": {},
   "source": [
    "# 既往史"
   ]
  },
  {
   "cell_type": "code",
   "execution_count": 33,
   "id": "044a470b-7c21-4a01-bdc8-b8aace7556bb",
   "metadata": {
    "ExecuteTime": {
     "end_time": "2022-02-04T13:04:12.067832Z",
     "start_time": "2022-02-04T13:04:12.054834Z"
    },
    "execution": {
     "iopub.execute_input": "2024-06-17T09:31:35.821397Z",
     "iopub.status.busy": "2024-06-17T09:31:35.820145Z",
     "iopub.status.idle": "2024-06-17T09:31:35.826832Z",
     "shell.execute_reply": "2024-06-17T09:31:35.826059Z",
     "shell.execute_reply.started": "2024-06-17T09:31:35.821345Z"
    },
    "tags": []
   },
   "outputs": [],
   "source": [
    "history_ = [ 'history_unintentional_weight_loss_10_lbs',\n",
    " 'history_assistive_devices_Cane',\n",
    " 'history_assistive_devices_None',\n",
    " 'history_assistive_devices_Other',\n",
    " 'history_assistive_devices_Walker',\n",
    " 'history_assistive_devices_Wheelchair',\n",
    " 'history_currently_pain',\n",
    " 'history_dialysis',\n",
    " 'history_difficulty_swallowing',\n",
    " 'history_iv_access',\n",
    "\n",
    " 'history_past_Anemia',\n",
    " 'history_past_Asthma',\n",
    " 'history_past_COPD',\n",
    " 'history_past_Diabetes - Insulin',\n",
    " 'history_past_Diabetes - Oral Agent',\n",
    " 'history_past_ETOH',\n",
    " 'history_past_GI Bleed',\n",
    " 'history_past_HEMO or PD',\n",
    " 'history_past_Hepatitis',\n",
    " 'history_past_Liver Failure',\n",
    " 'history_past_Pancreatitis',\n",
    " 'history_past_Renal Failure',\n",
    " 'history_past_Seizures',\n",
    " 'history_past_Smoker',\n",
    " 'history_cv_Angina',\n",
    " 'history_cv_Arrhythmias',\n",
    " 'history_cv_CAD',\n",
    " 'history_cv_CHF',\n",
    " 'history_cv_CVA',\n",
    " 'history_cv_Hypertension',\n",
    " 'history_cv_MI',\n",
    " 'history_cv_PVD',\n",
    " 'history_cv_Pacemaker']"
   ]
  },
  {
   "cell_type": "code",
   "execution_count": 34,
   "id": "b3df8c16-1492-4fbe-aa97-cb2842cb5e85",
   "metadata": {
    "ExecuteTime": {
     "end_time": "2022-02-04T13:04:12.083832Z",
     "start_time": "2022-02-04T13:04:12.069832Z"
    },
    "execution": {
     "iopub.execute_input": "2024-06-17T09:31:36.358243Z",
     "iopub.status.busy": "2024-06-17T09:31:36.357048Z",
     "iopub.status.idle": "2024-06-17T09:31:36.368426Z",
     "shell.execute_reply": "2024-06-17T09:31:36.367664Z",
     "shell.execute_reply.started": "2024-06-17T09:31:36.358192Z"
    },
    "tags": []
   },
   "outputs": [],
   "source": [
    "history_sel_df = variables_df[history_]"
   ]
  },
  {
   "cell_type": "code",
   "execution_count": 35,
   "id": "704ff96d-34dc-4e7a-a0fe-83356f0884eb",
   "metadata": {
    "ExecuteTime": {
     "end_time": "2022-02-04T13:04:13.870838Z",
     "start_time": "2022-02-04T13:04:12.085831Z"
    },
    "execution": {
     "iopub.execute_input": "2024-06-17T09:31:36.692061Z",
     "iopub.status.busy": "2024-06-17T09:31:36.691530Z",
     "iopub.status.idle": "2024-06-17T09:31:37.471863Z",
     "shell.execute_reply": "2024-06-17T09:31:37.470568Z",
     "shell.execute_reply.started": "2024-06-17T09:31:36.692013Z"
    },
    "tags": []
   },
   "outputs": [],
   "source": [
    "history_lookdf = pd.DataFrame(columns = ['nonuse_count','value_count','non_mdr_ratio','is_mdr_ratio'], index = history_)\n",
    "for i in range(len(history_)):\n",
    "    history_lookdf.iloc[i,0] = pd.pivot_table(data = variables_df,values='stay_chart_included_mdr',index = [history_[i]],aggfunc= ['count','mean']).iloc[0,0]\n",
    "    history_lookdf.iloc[i,1] = pd.pivot_table(data = variables_df,values='stay_chart_included_mdr',index = [history_[i]],aggfunc= ['count','mean']).iloc[1,0]\n",
    "    history_lookdf.iloc[i,2] = pd.pivot_table(data = variables_df,values='stay_chart_included_mdr',index = [history_[i]],aggfunc= ['count','mean']).iloc[0,1]\n",
    "    history_lookdf.iloc[i,3] = pd.pivot_table(data = variables_df,values='stay_chart_included_mdr',index = [history_[i]],aggfunc= ['count','mean']).iloc[1,1]"
   ]
  },
  {
   "cell_type": "code",
   "execution_count": 36,
   "id": "641d885b-6928-4bb4-b7bb-2c61bba265e6",
   "metadata": {
    "ExecuteTime": {
     "end_time": "2022-02-04T13:04:13.902832Z",
     "start_time": "2022-02-04T13:04:13.872837Z"
    },
    "execution": {
     "iopub.execute_input": "2024-06-17T09:31:37.483098Z",
     "iopub.status.busy": "2024-06-17T09:31:37.482950Z",
     "iopub.status.idle": "2024-06-17T09:31:37.490284Z",
     "shell.execute_reply": "2024-06-17T09:31:37.489929Z",
     "shell.execute_reply.started": "2024-06-17T09:31:37.483084Z"
    },
    "tags": []
   },
   "outputs": [
    {
     "data": {
      "text/html": [
       "<div>\n",
       "<style scoped>\n",
       "    .dataframe tbody tr th:only-of-type {\n",
       "        vertical-align: middle;\n",
       "    }\n",
       "\n",
       "    .dataframe tbody tr th {\n",
       "        vertical-align: top;\n",
       "    }\n",
       "\n",
       "    .dataframe thead th {\n",
       "        text-align: right;\n",
       "    }\n",
       "</style>\n",
       "<table border=\"1\" class=\"dataframe\">\n",
       "  <thead>\n",
       "    <tr style=\"text-align: right;\">\n",
       "      <th></th>\n",
       "      <th>nonuse_count</th>\n",
       "      <th>value_count</th>\n",
       "      <th>non_mdr_ratio</th>\n",
       "      <th>is_mdr_ratio</th>\n",
       "    </tr>\n",
       "  </thead>\n",
       "  <tbody>\n",
       "    <tr>\n",
       "      <th>history_unintentional_weight_loss_10_lbs</th>\n",
       "      <td>44712</td>\n",
       "      <td>2940</td>\n",
       "      <td>0.078167</td>\n",
       "      <td>0.097619</td>\n",
       "    </tr>\n",
       "    <tr>\n",
       "      <th>history_assistive_devices_Cane</th>\n",
       "      <td>44512</td>\n",
       "      <td>3140</td>\n",
       "      <td>0.079799</td>\n",
       "      <td>0.073248</td>\n",
       "    </tr>\n",
       "    <tr>\n",
       "      <th>history_assistive_devices_None</th>\n",
       "      <td>7761</td>\n",
       "      <td>39891</td>\n",
       "      <td>0.125242</td>\n",
       "      <td>0.070442</td>\n",
       "    </tr>\n",
       "    <tr>\n",
       "      <th>history_assistive_devices_Other</th>\n",
       "      <td>46943</td>\n",
       "      <td>709</td>\n",
       "      <td>0.078201</td>\n",
       "      <td>0.156559</td>\n",
       "    </tr>\n",
       "    <tr>\n",
       "      <th>history_assistive_devices_Walker</th>\n",
       "      <td>44116</td>\n",
       "      <td>3536</td>\n",
       "      <td>0.076163</td>\n",
       "      <td>0.119344</td>\n",
       "    </tr>\n",
       "    <tr>\n",
       "      <th>history_assistive_devices_Wheelchair</th>\n",
       "      <td>45907</td>\n",
       "      <td>1745</td>\n",
       "      <td>0.074673</td>\n",
       "      <td>0.202865</td>\n",
       "    </tr>\n",
       "    <tr>\n",
       "      <th>history_currently_pain</th>\n",
       "      <td>37595</td>\n",
       "      <td>10057</td>\n",
       "      <td>0.078016</td>\n",
       "      <td>0.084419</td>\n",
       "    </tr>\n",
       "    <tr>\n",
       "      <th>history_dialysis</th>\n",
       "      <td>46089</td>\n",
       "      <td>1563</td>\n",
       "      <td>0.0785</td>\n",
       "      <td>0.104926</td>\n",
       "    </tr>\n",
       "    <tr>\n",
       "      <th>history_difficulty_swallowing</th>\n",
       "      <td>44263</td>\n",
       "      <td>3389</td>\n",
       "      <td>0.075187</td>\n",
       "      <td>0.133963</td>\n",
       "    </tr>\n",
       "    <tr>\n",
       "      <th>history_iv_access</th>\n",
       "      <td>27586</td>\n",
       "      <td>20066</td>\n",
       "      <td>0.067317</td>\n",
       "      <td>0.095933</td>\n",
       "    </tr>\n",
       "    <tr>\n",
       "      <th>history_past_Anemia</th>\n",
       "      <td>45025</td>\n",
       "      <td>2627</td>\n",
       "      <td>0.076624</td>\n",
       "      <td>0.12638</td>\n",
       "    </tr>\n",
       "    <tr>\n",
       "      <th>history_past_Asthma</th>\n",
       "      <td>45307</td>\n",
       "      <td>2345</td>\n",
       "      <td>0.079414</td>\n",
       "      <td>0.078465</td>\n",
       "    </tr>\n",
       "    <tr>\n",
       "      <th>history_past_COPD</th>\n",
       "      <td>43358</td>\n",
       "      <td>4294</td>\n",
       "      <td>0.073527</td>\n",
       "      <td>0.138333</td>\n",
       "    </tr>\n",
       "    <tr>\n",
       "      <th>history_past_Diabetes - Insulin</th>\n",
       "      <td>42762</td>\n",
       "      <td>4890</td>\n",
       "      <td>0.074763</td>\n",
       "      <td>0.119632</td>\n",
       "    </tr>\n",
       "    <tr>\n",
       "      <th>history_past_Diabetes - Oral Agent</th>\n",
       "      <td>43763</td>\n",
       "      <td>3889</td>\n",
       "      <td>0.078719</td>\n",
       "      <td>0.086655</td>\n",
       "    </tr>\n",
       "    <tr>\n",
       "      <th>history_past_ETOH</th>\n",
       "      <td>44483</td>\n",
       "      <td>3169</td>\n",
       "      <td>0.079716</td>\n",
       "      <td>0.074471</td>\n",
       "    </tr>\n",
       "    <tr>\n",
       "      <th>history_past_GI Bleed</th>\n",
       "      <td>45636</td>\n",
       "      <td>2016</td>\n",
       "      <td>0.077987</td>\n",
       "      <td>0.110615</td>\n",
       "    </tr>\n",
       "    <tr>\n",
       "      <th>history_past_HEMO or PD</th>\n",
       "      <td>46875</td>\n",
       "      <td>777</td>\n",
       "      <td>0.078976</td>\n",
       "      <td>0.10296</td>\n",
       "    </tr>\n",
       "    <tr>\n",
       "      <th>history_past_Hepatitis</th>\n",
       "      <td>46121</td>\n",
       "      <td>1531</td>\n",
       "      <td>0.078489</td>\n",
       "      <td>0.105813</td>\n",
       "    </tr>\n",
       "    <tr>\n",
       "      <th>history_past_Liver Failure</th>\n",
       "      <td>46353</td>\n",
       "      <td>1299</td>\n",
       "      <td>0.077665</td>\n",
       "      <td>0.140108</td>\n",
       "    </tr>\n",
       "    <tr>\n",
       "      <th>history_past_Pancreatitis</th>\n",
       "      <td>47181</td>\n",
       "      <td>471</td>\n",
       "      <td>0.079163</td>\n",
       "      <td>0.099788</td>\n",
       "    </tr>\n",
       "    <tr>\n",
       "      <th>history_past_Renal Failure</th>\n",
       "      <td>45015</td>\n",
       "      <td>2637</td>\n",
       "      <td>0.076908</td>\n",
       "      <td>0.12135</td>\n",
       "    </tr>\n",
       "    <tr>\n",
       "      <th>history_past_Seizures</th>\n",
       "      <td>46467</td>\n",
       "      <td>1185</td>\n",
       "      <td>0.078615</td>\n",
       "      <td>0.108861</td>\n",
       "    </tr>\n",
       "    <tr>\n",
       "      <th>history_past_Smoker</th>\n",
       "      <td>43882</td>\n",
       "      <td>3770</td>\n",
       "      <td>0.079828</td>\n",
       "      <td>0.074005</td>\n",
       "    </tr>\n",
       "    <tr>\n",
       "      <th>history_cv_Angina</th>\n",
       "      <td>46135</td>\n",
       "      <td>1517</td>\n",
       "      <td>0.080264</td>\n",
       "      <td>0.052076</td>\n",
       "    </tr>\n",
       "    <tr>\n",
       "      <th>history_cv_Arrhythmias</th>\n",
       "      <td>42365</td>\n",
       "      <td>5287</td>\n",
       "      <td>0.076053</td>\n",
       "      <td>0.10592</td>\n",
       "    </tr>\n",
       "    <tr>\n",
       "      <th>history_cv_CAD</th>\n",
       "      <td>39628</td>\n",
       "      <td>8024</td>\n",
       "      <td>0.07901</td>\n",
       "      <td>0.081132</td>\n",
       "    </tr>\n",
       "    <tr>\n",
       "      <th>history_cv_CHF</th>\n",
       "      <td>42806</td>\n",
       "      <td>4846</td>\n",
       "      <td>0.074499</td>\n",
       "      <td>0.122369</td>\n",
       "    </tr>\n",
       "    <tr>\n",
       "      <th>history_cv_CVA</th>\n",
       "      <td>45697</td>\n",
       "      <td>1955</td>\n",
       "      <td>0.076963</td>\n",
       "      <td>0.13555</td>\n",
       "    </tr>\n",
       "    <tr>\n",
       "      <th>history_cv_Hypertension</th>\n",
       "      <td>30398</td>\n",
       "      <td>17254</td>\n",
       "      <td>0.078624</td>\n",
       "      <td>0.080677</td>\n",
       "    </tr>\n",
       "    <tr>\n",
       "      <th>history_cv_MI</th>\n",
       "      <td>44790</td>\n",
       "      <td>2862</td>\n",
       "      <td>0.079102</td>\n",
       "      <td>0.083508</td>\n",
       "    </tr>\n",
       "    <tr>\n",
       "      <th>history_cv_PVD</th>\n",
       "      <td>45885</td>\n",
       "      <td>1767</td>\n",
       "      <td>0.077542</td>\n",
       "      <td>0.126769</td>\n",
       "    </tr>\n",
       "    <tr>\n",
       "      <th>history_cv_Pacemaker</th>\n",
       "      <td>46116</td>\n",
       "      <td>1536</td>\n",
       "      <td>0.078519</td>\n",
       "      <td>0.104818</td>\n",
       "    </tr>\n",
       "  </tbody>\n",
       "</table>\n",
       "</div>"
      ],
      "text/plain": [
       "                                         nonuse_count value_count  \\\n",
       "history_unintentional_weight_loss_10_lbs        44712        2940   \n",
       "history_assistive_devices_Cane                  44512        3140   \n",
       "history_assistive_devices_None                   7761       39891   \n",
       "history_assistive_devices_Other                 46943         709   \n",
       "history_assistive_devices_Walker                44116        3536   \n",
       "history_assistive_devices_Wheelchair            45907        1745   \n",
       "history_currently_pain                          37595       10057   \n",
       "history_dialysis                                46089        1563   \n",
       "history_difficulty_swallowing                   44263        3389   \n",
       "history_iv_access                               27586       20066   \n",
       "history_past_Anemia                             45025        2627   \n",
       "history_past_Asthma                             45307        2345   \n",
       "history_past_COPD                               43358        4294   \n",
       "history_past_Diabetes - Insulin                 42762        4890   \n",
       "history_past_Diabetes - Oral Agent              43763        3889   \n",
       "history_past_ETOH                               44483        3169   \n",
       "history_past_GI Bleed                           45636        2016   \n",
       "history_past_HEMO or PD                         46875         777   \n",
       "history_past_Hepatitis                          46121        1531   \n",
       "history_past_Liver Failure                      46353        1299   \n",
       "history_past_Pancreatitis                       47181         471   \n",
       "history_past_Renal Failure                      45015        2637   \n",
       "history_past_Seizures                           46467        1185   \n",
       "history_past_Smoker                             43882        3770   \n",
       "history_cv_Angina                               46135        1517   \n",
       "history_cv_Arrhythmias                          42365        5287   \n",
       "history_cv_CAD                                  39628        8024   \n",
       "history_cv_CHF                                  42806        4846   \n",
       "history_cv_CVA                                  45697        1955   \n",
       "history_cv_Hypertension                         30398       17254   \n",
       "history_cv_MI                                   44790        2862   \n",
       "history_cv_PVD                                  45885        1767   \n",
       "history_cv_Pacemaker                            46116        1536   \n",
       "\n",
       "                                         non_mdr_ratio is_mdr_ratio  \n",
       "history_unintentional_weight_loss_10_lbs      0.078167     0.097619  \n",
       "history_assistive_devices_Cane                0.079799     0.073248  \n",
       "history_assistive_devices_None                0.125242     0.070442  \n",
       "history_assistive_devices_Other               0.078201     0.156559  \n",
       "history_assistive_devices_Walker              0.076163     0.119344  \n",
       "history_assistive_devices_Wheelchair          0.074673     0.202865  \n",
       "history_currently_pain                        0.078016     0.084419  \n",
       "history_dialysis                                0.0785     0.104926  \n",
       "history_difficulty_swallowing                 0.075187     0.133963  \n",
       "history_iv_access                             0.067317     0.095933  \n",
       "history_past_Anemia                           0.076624      0.12638  \n",
       "history_past_Asthma                           0.079414     0.078465  \n",
       "history_past_COPD                             0.073527     0.138333  \n",
       "history_past_Diabetes - Insulin               0.074763     0.119632  \n",
       "history_past_Diabetes - Oral Agent            0.078719     0.086655  \n",
       "history_past_ETOH                             0.079716     0.074471  \n",
       "history_past_GI Bleed                         0.077987     0.110615  \n",
       "history_past_HEMO or PD                       0.078976      0.10296  \n",
       "history_past_Hepatitis                        0.078489     0.105813  \n",
       "history_past_Liver Failure                    0.077665     0.140108  \n",
       "history_past_Pancreatitis                     0.079163     0.099788  \n",
       "history_past_Renal Failure                    0.076908      0.12135  \n",
       "history_past_Seizures                         0.078615     0.108861  \n",
       "history_past_Smoker                           0.079828     0.074005  \n",
       "history_cv_Angina                             0.080264     0.052076  \n",
       "history_cv_Arrhythmias                        0.076053      0.10592  \n",
       "history_cv_CAD                                 0.07901     0.081132  \n",
       "history_cv_CHF                                0.074499     0.122369  \n",
       "history_cv_CVA                                0.076963      0.13555  \n",
       "history_cv_Hypertension                       0.078624     0.080677  \n",
       "history_cv_MI                                 0.079102     0.083508  \n",
       "history_cv_PVD                                0.077542     0.126769  \n",
       "history_cv_Pacemaker                          0.078519     0.104818  "
      ]
     },
     "execution_count": 36,
     "metadata": {},
     "output_type": "execute_result"
    }
   ],
   "source": [
    "history_lookdf"
   ]
  },
  {
   "cell_type": "markdown",
   "id": "888a886d-ec5d-4e23-b67a-7ee99d7e8d82",
   "metadata": {},
   "source": [
    "# 合并症"
   ]
  },
  {
   "cell_type": "code",
   "execution_count": 37,
   "id": "af97fa86-0e99-4af6-b3a0-05f07fd24edd",
   "metadata": {
    "ExecuteTime": {
     "end_time": "2022-02-04T13:04:13.918831Z",
     "start_time": "2022-02-04T13:04:13.905832Z"
    },
    "execution": {
     "iopub.execute_input": "2024-06-17T09:31:38.912703Z",
     "iopub.status.busy": "2024-06-17T09:31:38.911478Z",
     "iopub.status.idle": "2024-06-17T09:31:38.917245Z",
     "shell.execute_reply": "2024-06-17T09:31:38.916363Z",
     "shell.execute_reply.started": "2024-06-17T09:31:38.912651Z"
    },
    "tags": []
   },
   "outputs": [],
   "source": [
    "comb_ = [ 'myocardial_infarct', 'congestive_heart_failure',\n",
    " 'peripheral_vascular_disease', 'cerebrovascular_disease', 'dementia',\n",
    " 'chronic_pulmonary_disease', 'rheumatic_disease',\n",
    " 'peptic_ulcer_disease', 'mild_liver_disease',\n",
    " 'diabetes_without_cc', 'diabetes_with_cc',\n",
    " 'paraplegia', 'renal_disease', 'malignant_cancer',\n",
    " 'severe_liver_disease', 'metastatic_solid_tumor',\n",
    " 'aids','charlson_comorbidity_index']"
   ]
  },
  {
   "cell_type": "code",
   "execution_count": 38,
   "id": "d2fdf865-dc91-4570-b1ef-2fa14769d4d8",
   "metadata": {
    "ExecuteTime": {
     "end_time": "2022-02-04T13:04:14.908836Z",
     "start_time": "2022-02-04T13:04:13.920831Z"
    },
    "execution": {
     "iopub.execute_input": "2024-06-17T09:31:39.431028Z",
     "iopub.status.busy": "2024-06-17T09:31:39.430508Z",
     "iopub.status.idle": "2024-06-17T09:31:39.868730Z",
     "shell.execute_reply": "2024-06-17T09:31:39.867759Z",
     "shell.execute_reply.started": "2024-06-17T09:31:39.430979Z"
    },
    "tags": []
   },
   "outputs": [],
   "source": [
    "comb_lookdf = pd.DataFrame(columns = ['nonuse_count','value_count','non_mdr_ratio','is_mdr_ratio'], index = comb_)\n",
    "for i in range(len(comb_)):\n",
    "    comb_lookdf.iloc[i,0] = pd.pivot_table(data = variables_df,values='stay_chart_included_mdr',index = [comb_[i]],aggfunc= ['count','mean']).iloc[0,0]\n",
    "    comb_lookdf.iloc[i,1] = pd.pivot_table(data = variables_df,values='stay_chart_included_mdr',index = [comb_[i]],aggfunc= ['count','mean']).iloc[1,0]\n",
    "    comb_lookdf.iloc[i,2] = pd.pivot_table(data = variables_df,values='stay_chart_included_mdr',index = [comb_[i]],aggfunc= ['count','mean']).iloc[0,1]\n",
    "    comb_lookdf.iloc[i,3] = pd.pivot_table(data = variables_df,values='stay_chart_included_mdr',index = [comb_[i]],aggfunc= ['count','mean']).iloc[1,1]"
   ]
  },
  {
   "cell_type": "code",
   "execution_count": 39,
   "id": "e25efac6-f53c-4e6a-864a-708f00cb10a8",
   "metadata": {
    "ExecuteTime": {
     "end_time": "2022-02-04T13:04:14.940836Z",
     "start_time": "2022-02-04T13:04:14.911836Z"
    },
    "execution": {
     "iopub.execute_input": "2024-06-17T09:31:39.972148Z",
     "iopub.status.busy": "2024-06-17T09:31:39.971082Z",
     "iopub.status.idle": "2024-06-17T09:31:39.983987Z",
     "shell.execute_reply": "2024-06-17T09:31:39.983233Z",
     "shell.execute_reply.started": "2024-06-17T09:31:39.972097Z"
    },
    "tags": []
   },
   "outputs": [
    {
     "data": {
      "text/html": [
       "<div>\n",
       "<style scoped>\n",
       "    .dataframe tbody tr th:only-of-type {\n",
       "        vertical-align: middle;\n",
       "    }\n",
       "\n",
       "    .dataframe tbody tr th {\n",
       "        vertical-align: top;\n",
       "    }\n",
       "\n",
       "    .dataframe thead th {\n",
       "        text-align: right;\n",
       "    }\n",
       "</style>\n",
       "<table border=\"1\" class=\"dataframe\">\n",
       "  <thead>\n",
       "    <tr style=\"text-align: right;\">\n",
       "      <th></th>\n",
       "      <th>nonuse_count</th>\n",
       "      <th>value_count</th>\n",
       "      <th>non_mdr_ratio</th>\n",
       "      <th>is_mdr_ratio</th>\n",
       "    </tr>\n",
       "  </thead>\n",
       "  <tbody>\n",
       "    <tr>\n",
       "      <th>myocardial_infarct</th>\n",
       "      <td>39502</td>\n",
       "      <td>8150</td>\n",
       "      <td>0.080224</td>\n",
       "      <td>0.075215</td>\n",
       "    </tr>\n",
       "    <tr>\n",
       "      <th>congestive_heart_failure</th>\n",
       "      <td>33215</td>\n",
       "      <td>14437</td>\n",
       "      <td>0.071474</td>\n",
       "      <td>0.097527</td>\n",
       "    </tr>\n",
       "    <tr>\n",
       "      <th>peripheral_vascular_disease</th>\n",
       "      <td>41942</td>\n",
       "      <td>5710</td>\n",
       "      <td>0.079157</td>\n",
       "      <td>0.080911</td>\n",
       "    </tr>\n",
       "    <tr>\n",
       "      <th>cerebrovascular_disease</th>\n",
       "      <td>40070</td>\n",
       "      <td>7582</td>\n",
       "      <td>0.081507</td>\n",
       "      <td>0.068056</td>\n",
       "    </tr>\n",
       "    <tr>\n",
       "      <th>dementia</th>\n",
       "      <td>45888</td>\n",
       "      <td>1764</td>\n",
       "      <td>0.076643</td>\n",
       "      <td>0.150227</td>\n",
       "    </tr>\n",
       "    <tr>\n",
       "      <th>chronic_pulmonary_disease</th>\n",
       "      <td>34775</td>\n",
       "      <td>12877</td>\n",
       "      <td>0.071201</td>\n",
       "      <td>0.101421</td>\n",
       "    </tr>\n",
       "    <tr>\n",
       "      <th>rheumatic_disease</th>\n",
       "      <td>45903</td>\n",
       "      <td>1749</td>\n",
       "      <td>0.078426</td>\n",
       "      <td>0.104059</td>\n",
       "    </tr>\n",
       "    <tr>\n",
       "      <th>peptic_ulcer_disease</th>\n",
       "      <td>46102</td>\n",
       "      <td>1550</td>\n",
       "      <td>0.079476</td>\n",
       "      <td>0.076129</td>\n",
       "    </tr>\n",
       "    <tr>\n",
       "      <th>mild_liver_disease</th>\n",
       "      <td>41401</td>\n",
       "      <td>6251</td>\n",
       "      <td>0.076617</td>\n",
       "      <td>0.097584</td>\n",
       "    </tr>\n",
       "    <tr>\n",
       "      <th>diabetes_without_cc</th>\n",
       "      <td>36165</td>\n",
       "      <td>11487</td>\n",
       "      <td>0.073469</td>\n",
       "      <td>0.097937</td>\n",
       "    </tr>\n",
       "    <tr>\n",
       "      <th>diabetes_with_cc</th>\n",
       "      <td>42826</td>\n",
       "      <td>4826</td>\n",
       "      <td>0.078083</td>\n",
       "      <td>0.090758</td>\n",
       "    </tr>\n",
       "    <tr>\n",
       "      <th>paraplegia</th>\n",
       "      <td>45096</td>\n",
       "      <td>2556</td>\n",
       "      <td>0.078854</td>\n",
       "      <td>0.088419</td>\n",
       "    </tr>\n",
       "    <tr>\n",
       "      <th>renal_disease</th>\n",
       "      <td>36900</td>\n",
       "      <td>10752</td>\n",
       "      <td>0.072195</td>\n",
       "      <td>0.103981</td>\n",
       "    </tr>\n",
       "    <tr>\n",
       "      <th>malignant_cancer</th>\n",
       "      <td>41131</td>\n",
       "      <td>6521</td>\n",
       "      <td>0.079599</td>\n",
       "      <td>0.077902</td>\n",
       "    </tr>\n",
       "    <tr>\n",
       "      <th>severe_liver_disease</th>\n",
       "      <td>44687</td>\n",
       "      <td>2965</td>\n",
       "      <td>0.07736</td>\n",
       "      <td>0.109612</td>\n",
       "    </tr>\n",
       "    <tr>\n",
       "      <th>metastatic_solid_tumor</th>\n",
       "      <td>44549</td>\n",
       "      <td>3103</td>\n",
       "      <td>0.080473</td>\n",
       "      <td>0.063487</td>\n",
       "    </tr>\n",
       "    <tr>\n",
       "      <th>aids</th>\n",
       "      <td>47265</td>\n",
       "      <td>387</td>\n",
       "      <td>0.079213</td>\n",
       "      <td>0.098191</td>\n",
       "    </tr>\n",
       "    <tr>\n",
       "      <th>charlson_comorbidity_index</th>\n",
       "      <td>2619</td>\n",
       "      <td>3122</td>\n",
       "      <td>0.046201</td>\n",
       "      <td>0.042281</td>\n",
       "    </tr>\n",
       "  </tbody>\n",
       "</table>\n",
       "</div>"
      ],
      "text/plain": [
       "                            nonuse_count value_count non_mdr_ratio  \\\n",
       "myocardial_infarct                 39502        8150      0.080224   \n",
       "congestive_heart_failure           33215       14437      0.071474   \n",
       "peripheral_vascular_disease        41942        5710      0.079157   \n",
       "cerebrovascular_disease            40070        7582      0.081507   \n",
       "dementia                           45888        1764      0.076643   \n",
       "chronic_pulmonary_disease          34775       12877      0.071201   \n",
       "rheumatic_disease                  45903        1749      0.078426   \n",
       "peptic_ulcer_disease               46102        1550      0.079476   \n",
       "mild_liver_disease                 41401        6251      0.076617   \n",
       "diabetes_without_cc                36165       11487      0.073469   \n",
       "diabetes_with_cc                   42826        4826      0.078083   \n",
       "paraplegia                         45096        2556      0.078854   \n",
       "renal_disease                      36900       10752      0.072195   \n",
       "malignant_cancer                   41131        6521      0.079599   \n",
       "severe_liver_disease               44687        2965       0.07736   \n",
       "metastatic_solid_tumor             44549        3103      0.080473   \n",
       "aids                               47265         387      0.079213   \n",
       "charlson_comorbidity_index          2619        3122      0.046201   \n",
       "\n",
       "                            is_mdr_ratio  \n",
       "myocardial_infarct              0.075215  \n",
       "congestive_heart_failure        0.097527  \n",
       "peripheral_vascular_disease     0.080911  \n",
       "cerebrovascular_disease         0.068056  \n",
       "dementia                        0.150227  \n",
       "chronic_pulmonary_disease       0.101421  \n",
       "rheumatic_disease               0.104059  \n",
       "peptic_ulcer_disease            0.076129  \n",
       "mild_liver_disease              0.097584  \n",
       "diabetes_without_cc             0.097937  \n",
       "diabetes_with_cc                0.090758  \n",
       "paraplegia                      0.088419  \n",
       "renal_disease                   0.103981  \n",
       "malignant_cancer                0.077902  \n",
       "severe_liver_disease            0.109612  \n",
       "metastatic_solid_tumor          0.063487  \n",
       "aids                            0.098191  \n",
       "charlson_comorbidity_index      0.042281  "
      ]
     },
     "execution_count": 39,
     "metadata": {},
     "output_type": "execute_result"
    }
   ],
   "source": [
    "comb_lookdf"
   ]
  },
  {
   "cell_type": "code",
   "execution_count": 40,
   "id": "c6d87ee5-f328-4ac2-b83c-b641e4f109b1",
   "metadata": {
    "ExecuteTime": {
     "end_time": "2022-02-04T13:04:14.987832Z",
     "start_time": "2022-02-04T13:04:14.943832Z"
    },
    "execution": {
     "iopub.execute_input": "2024-06-17T09:31:41.467453Z",
     "iopub.status.busy": "2024-06-17T09:31:41.466927Z",
     "iopub.status.idle": "2024-06-17T09:31:41.487318Z",
     "shell.execute_reply": "2024-06-17T09:31:41.486703Z",
     "shell.execute_reply.started": "2024-06-17T09:31:41.467405Z"
    },
    "tags": []
   },
   "outputs": [
    {
     "data": {
      "text/html": [
       "<div>\n",
       "<style scoped>\n",
       "    .dataframe tbody tr th:only-of-type {\n",
       "        vertical-align: middle;\n",
       "    }\n",
       "\n",
       "    .dataframe tbody tr th {\n",
       "        vertical-align: top;\n",
       "    }\n",
       "\n",
       "    .dataframe thead tr th {\n",
       "        text-align: left;\n",
       "    }\n",
       "\n",
       "    .dataframe thead tr:last-of-type th {\n",
       "        text-align: right;\n",
       "    }\n",
       "</style>\n",
       "<table border=\"1\" class=\"dataframe\">\n",
       "  <thead>\n",
       "    <tr>\n",
       "      <th></th>\n",
       "      <th>count</th>\n",
       "      <th>mean</th>\n",
       "    </tr>\n",
       "    <tr>\n",
       "      <th></th>\n",
       "      <th>stay_chart_included_mdr_neg_tot</th>\n",
       "      <th>stay_chart_included_mdr_neg_tot</th>\n",
       "    </tr>\n",
       "    <tr>\n",
       "      <th>charlson_comorbidity_index</th>\n",
       "      <th></th>\n",
       "      <th></th>\n",
       "    </tr>\n",
       "  </thead>\n",
       "  <tbody>\n",
       "    <tr>\n",
       "      <th>0.0</th>\n",
       "      <td>2619</td>\n",
       "      <td>0.014509</td>\n",
       "    </tr>\n",
       "    <tr>\n",
       "      <th>1.0</th>\n",
       "      <td>3122</td>\n",
       "      <td>0.014414</td>\n",
       "    </tr>\n",
       "    <tr>\n",
       "      <th>2.0</th>\n",
       "      <td>4174</td>\n",
       "      <td>0.021802</td>\n",
       "    </tr>\n",
       "    <tr>\n",
       "      <th>3.0</th>\n",
       "      <td>5213</td>\n",
       "      <td>0.025321</td>\n",
       "    </tr>\n",
       "    <tr>\n",
       "      <th>4.0</th>\n",
       "      <td>5989</td>\n",
       "      <td>0.032059</td>\n",
       "    </tr>\n",
       "    <tr>\n",
       "      <th>5.0</th>\n",
       "      <td>6076</td>\n",
       "      <td>0.039829</td>\n",
       "    </tr>\n",
       "    <tr>\n",
       "      <th>6.0</th>\n",
       "      <td>5444</td>\n",
       "      <td>0.036187</td>\n",
       "    </tr>\n",
       "    <tr>\n",
       "      <th>7.0</th>\n",
       "      <td>4668</td>\n",
       "      <td>0.040917</td>\n",
       "    </tr>\n",
       "    <tr>\n",
       "      <th>8.0</th>\n",
       "      <td>3828</td>\n",
       "      <td>0.036050</td>\n",
       "    </tr>\n",
       "    <tr>\n",
       "      <th>9.0</th>\n",
       "      <td>2764</td>\n",
       "      <td>0.037988</td>\n",
       "    </tr>\n",
       "    <tr>\n",
       "      <th>10.0</th>\n",
       "      <td>1678</td>\n",
       "      <td>0.039928</td>\n",
       "    </tr>\n",
       "    <tr>\n",
       "      <th>11.0</th>\n",
       "      <td>1001</td>\n",
       "      <td>0.037962</td>\n",
       "    </tr>\n",
       "    <tr>\n",
       "      <th>12.0</th>\n",
       "      <td>537</td>\n",
       "      <td>0.040968</td>\n",
       "    </tr>\n",
       "    <tr>\n",
       "      <th>13.0</th>\n",
       "      <td>259</td>\n",
       "      <td>0.061776</td>\n",
       "    </tr>\n",
       "    <tr>\n",
       "      <th>14.0</th>\n",
       "      <td>146</td>\n",
       "      <td>0.054795</td>\n",
       "    </tr>\n",
       "    <tr>\n",
       "      <th>15.0</th>\n",
       "      <td>75</td>\n",
       "      <td>0.040000</td>\n",
       "    </tr>\n",
       "    <tr>\n",
       "      <th>16.0</th>\n",
       "      <td>35</td>\n",
       "      <td>0.028571</td>\n",
       "    </tr>\n",
       "    <tr>\n",
       "      <th>17.0</th>\n",
       "      <td>15</td>\n",
       "      <td>0.133333</td>\n",
       "    </tr>\n",
       "    <tr>\n",
       "      <th>18.0</th>\n",
       "      <td>4</td>\n",
       "      <td>0.000000</td>\n",
       "    </tr>\n",
       "    <tr>\n",
       "      <th>19.0</th>\n",
       "      <td>4</td>\n",
       "      <td>0.000000</td>\n",
       "    </tr>\n",
       "    <tr>\n",
       "      <th>20.0</th>\n",
       "      <td>1</td>\n",
       "      <td>0.000000</td>\n",
       "    </tr>\n",
       "  </tbody>\n",
       "</table>\n",
       "</div>"
      ],
      "text/plain": [
       "                                                     count  \\\n",
       "                           stay_chart_included_mdr_neg_tot   \n",
       "charlson_comorbidity_index                                   \n",
       "0.0                                                   2619   \n",
       "1.0                                                   3122   \n",
       "2.0                                                   4174   \n",
       "3.0                                                   5213   \n",
       "4.0                                                   5989   \n",
       "5.0                                                   6076   \n",
       "6.0                                                   5444   \n",
       "7.0                                                   4668   \n",
       "8.0                                                   3828   \n",
       "9.0                                                   2764   \n",
       "10.0                                                  1678   \n",
       "11.0                                                  1001   \n",
       "12.0                                                   537   \n",
       "13.0                                                   259   \n",
       "14.0                                                   146   \n",
       "15.0                                                    75   \n",
       "16.0                                                    35   \n",
       "17.0                                                    15   \n",
       "18.0                                                     4   \n",
       "19.0                                                     4   \n",
       "20.0                                                     1   \n",
       "\n",
       "                                                      mean  \n",
       "                           stay_chart_included_mdr_neg_tot  \n",
       "charlson_comorbidity_index                                  \n",
       "0.0                                               0.014509  \n",
       "1.0                                               0.014414  \n",
       "2.0                                               0.021802  \n",
       "3.0                                               0.025321  \n",
       "4.0                                               0.032059  \n",
       "5.0                                               0.039829  \n",
       "6.0                                               0.036187  \n",
       "7.0                                               0.040917  \n",
       "8.0                                               0.036050  \n",
       "9.0                                               0.037988  \n",
       "10.0                                              0.039928  \n",
       "11.0                                              0.037962  \n",
       "12.0                                              0.040968  \n",
       "13.0                                              0.061776  \n",
       "14.0                                              0.054795  \n",
       "15.0                                              0.040000  \n",
       "16.0                                              0.028571  \n",
       "17.0                                              0.133333  \n",
       "18.0                                              0.000000  \n",
       "19.0                                              0.000000  \n",
       "20.0                                              0.000000  "
      ]
     },
     "execution_count": 40,
     "metadata": {},
     "output_type": "execute_result"
    }
   ],
   "source": [
    "pd.pivot_table(data = variables_df,values='stay_chart_included_mdr_neg_tot',index = ['charlson_comorbidity_index'],aggfunc= ['count','mean'])"
   ]
  },
  {
   "cell_type": "code",
   "execution_count": 41,
   "id": "b0bfffc8-8dec-4251-8b69-1fbcaf615998",
   "metadata": {
    "ExecuteTime": {
     "end_time": "2022-02-04T13:04:15.003832Z",
     "start_time": "2022-02-04T13:04:14.989832Z"
    },
    "execution": {
     "iopub.execute_input": "2024-06-17T09:31:42.056760Z",
     "iopub.status.busy": "2024-06-17T09:31:42.056239Z",
     "iopub.status.idle": "2024-06-17T09:31:42.065622Z",
     "shell.execute_reply": "2024-06-17T09:31:42.064723Z",
     "shell.execute_reply.started": "2024-06-17T09:31:42.056712Z"
    },
    "tags": []
   },
   "outputs": [],
   "source": [
    "comb_sel_df = variables_df[comb_]"
   ]
  },
  {
   "cell_type": "code",
   "execution_count": 42,
   "id": "18a6c183-f54e-407c-8483-814aea3a55a0",
   "metadata": {
    "ExecuteTime": {
     "end_time": "2022-02-04T13:04:15.019832Z",
     "start_time": "2022-02-04T13:04:15.005832Z"
    },
    "execution": {
     "iopub.execute_input": "2024-06-17T09:31:42.670670Z",
     "iopub.status.busy": "2024-06-17T09:31:42.669475Z",
     "iopub.status.idle": "2024-06-17T09:31:42.675166Z",
     "shell.execute_reply": "2024-06-17T09:31:42.674427Z",
     "shell.execute_reply.started": "2024-06-17T09:31:42.670619Z"
    },
    "tags": []
   },
   "outputs": [],
   "source": [
    "# 'history_cv_MI','myocardial_infarct',\n",
    "# 'history_cv_CHF', 'congestive_heart_failure',\n",
    "# 'history_past_COPD','chronic_pulmonary_disease',\n",
    "# 'diabetes_without_cc', 'diabetes_with_cc', 'history_past_Diabetes - Insulin', 'history_past_Diabetes - Oral Agent',  \n",
    "# 'history_past_Liver Failure','mild_liver_disease','severe_liver_disease', 'history_past_Hepatitis',\n",
    "# 'history_cv_Hypertension',\n",
    "# 'history_cv_CVA','cerebrovascular_disease',"
   ]
  },
  {
   "cell_type": "code",
   "execution_count": 43,
   "id": "4ab83fcb-5abf-43f8-84a0-32a96e704ebd",
   "metadata": {
    "ExecuteTime": {
     "end_time": "2022-02-04T13:04:15.035833Z",
     "start_time": "2022-02-04T13:04:15.021832Z"
    },
    "execution": {
     "iopub.execute_input": "2024-06-17T09:31:43.054010Z",
     "iopub.status.busy": "2024-06-17T09:31:43.052826Z",
     "iopub.status.idle": "2024-06-17T09:31:43.058428Z",
     "shell.execute_reply": "2024-06-17T09:31:43.057972Z",
     "shell.execute_reply.started": "2024-06-17T09:31:43.053958Z"
    },
    "tags": []
   },
   "outputs": [],
   "source": [
    "#  'history_past_Anemia',\n",
    "#  'history_past_Asthma',\n",
    "\n",
    "#  'history_past_ETOH',\n",
    "#  'history_past_GI Bleed',\n",
    "#  'history_past_HEMO or PD',\n",
    "\n",
    "#  'history_past_Pancreatitis',\n",
    "#  'history_past_Renal Failure',\n",
    "#  'history_past_Seizures',\n",
    "#  'history_past_Smoker',\n",
    "#  'history_cv_Angina',\n",
    "#  'history_cv_Arrhythmias',\n",
    "#  'history_cv_CAD',\n",
    "\n",
    "#  'history_cv_PVD',\n",
    "#  'history_cv_Pacemaker'\n",
    "\n",
    "#  'peripheral_vascular_disease',  'dementia',\n",
    "#  'rheumatic_disease',\n",
    "#  'peptic_ulcer_disease', \n",
    "\n",
    "#  'paraplegia', 'renal_disease', 'malignant_cancer',\n",
    "#   'metastatic_solid_tumor',\n",
    "#  'aids','charlson_comorbidity_index'"
   ]
  },
  {
   "cell_type": "markdown",
   "id": "d68d8e92-9ea8-4113-a986-f67bbdd240c7",
   "metadata": {},
   "source": [
    "# 其他信息"
   ]
  },
  {
   "cell_type": "markdown",
   "id": "b325a1c7-1eb6-4ba0-9b4f-00419a588e1f",
   "metadata": {},
   "source": [
    "## ICU类型"
   ]
  },
  {
   "cell_type": "code",
   "execution_count": 44,
   "id": "e37d43cc-f7c0-421c-9daa-da7976ff620e",
   "metadata": {
    "ExecuteTime": {
     "end_time": "2022-02-04T13:04:15.051832Z",
     "start_time": "2022-02-04T13:04:15.037832Z"
    },
    "execution": {
     "iopub.execute_input": "2024-06-17T09:31:44.289786Z",
     "iopub.status.busy": "2024-06-17T09:31:44.289259Z",
     "iopub.status.idle": "2024-06-17T09:31:44.304663Z",
     "shell.execute_reply": "2024-06-17T09:31:44.303800Z",
     "shell.execute_reply.started": "2024-06-17T09:31:44.289739Z"
    },
    "tags": []
   },
   "outputs": [
    {
     "data": {
      "text/plain": [
       "Medical Intensive Care Unit (MICU)                  11634\n",
       "Medical/Surgical Intensive Care Unit (MICU/SICU)     8468\n",
       "Cardiac Vascular Intensive Care Unit (CVICU)         7602\n",
       "Surgical Intensive Care Unit (SICU)                  7280\n",
       "Coronary Care Unit (CCU)                             5297\n",
       "Trauma SICU (TSICU)                                  5075\n",
       "Neuro Intermediate                                   1166\n",
       "Neuro Surgical Intensive Care Unit (Neuro SICU)       585\n",
       "Neuro Stepdown                                        545\n",
       "Name: last_careunit, dtype: int64"
      ]
     },
     "execution_count": 44,
     "metadata": {},
     "output_type": "execute_result"
    }
   ],
   "source": [
    "variables_df['last_careunit'].value_counts()"
   ]
  },
  {
   "cell_type": "code",
   "execution_count": 45,
   "id": "792fdab6-76c8-4cc5-b69e-57be71979e2a",
   "metadata": {
    "execution": {
     "iopub.execute_input": "2024-06-17T09:31:44.771993Z",
     "iopub.status.busy": "2024-06-17T09:31:44.771471Z",
     "iopub.status.idle": "2024-06-17T09:31:44.794362Z",
     "shell.execute_reply": "2024-06-17T09:31:44.793720Z",
     "shell.execute_reply.started": "2024-06-17T09:31:44.771944Z"
    },
    "tags": []
   },
   "outputs": [
    {
     "data": {
      "text/html": [
       "<div>\n",
       "<style scoped>\n",
       "    .dataframe tbody tr th:only-of-type {\n",
       "        vertical-align: middle;\n",
       "    }\n",
       "\n",
       "    .dataframe tbody tr th {\n",
       "        vertical-align: top;\n",
       "    }\n",
       "\n",
       "    .dataframe thead tr th {\n",
       "        text-align: left;\n",
       "    }\n",
       "\n",
       "    .dataframe thead tr:last-of-type th {\n",
       "        text-align: right;\n",
       "    }\n",
       "</style>\n",
       "<table border=\"1\" class=\"dataframe\">\n",
       "  <thead>\n",
       "    <tr>\n",
       "      <th></th>\n",
       "      <th>count</th>\n",
       "      <th>mean</th>\n",
       "    </tr>\n",
       "    <tr>\n",
       "      <th></th>\n",
       "      <th>stay_chart_included_mdr</th>\n",
       "      <th>stay_chart_included_mdr</th>\n",
       "    </tr>\n",
       "    <tr>\n",
       "      <th>last_careunit</th>\n",
       "      <th></th>\n",
       "      <th></th>\n",
       "    </tr>\n",
       "  </thead>\n",
       "  <tbody>\n",
       "    <tr>\n",
       "      <th>Cardiac Vascular Intensive Care Unit (CVICU)</th>\n",
       "      <td>7602</td>\n",
       "      <td>0.027493</td>\n",
       "    </tr>\n",
       "    <tr>\n",
       "      <th>Coronary Care Unit (CCU)</th>\n",
       "      <td>5297</td>\n",
       "      <td>0.058335</td>\n",
       "    </tr>\n",
       "    <tr>\n",
       "      <th>Medical Intensive Care Unit (MICU)</th>\n",
       "      <td>11634</td>\n",
       "      <td>0.118274</td>\n",
       "    </tr>\n",
       "    <tr>\n",
       "      <th>Medical/Surgical Intensive Care Unit (MICU/SICU)</th>\n",
       "      <td>8468</td>\n",
       "      <td>0.107936</td>\n",
       "    </tr>\n",
       "    <tr>\n",
       "      <th>Neuro Intermediate</th>\n",
       "      <td>1166</td>\n",
       "      <td>0.018868</td>\n",
       "    </tr>\n",
       "    <tr>\n",
       "      <th>Neuro Stepdown</th>\n",
       "      <td>545</td>\n",
       "      <td>0.025688</td>\n",
       "    </tr>\n",
       "    <tr>\n",
       "      <th>Neuro Surgical Intensive Care Unit (Neuro SICU)</th>\n",
       "      <td>585</td>\n",
       "      <td>0.034188</td>\n",
       "    </tr>\n",
       "    <tr>\n",
       "      <th>Surgical Intensive Care Unit (SICU)</th>\n",
       "      <td>7280</td>\n",
       "      <td>0.075275</td>\n",
       "    </tr>\n",
       "    <tr>\n",
       "      <th>Trauma SICU (TSICU)</th>\n",
       "      <td>5075</td>\n",
       "      <td>0.072906</td>\n",
       "    </tr>\n",
       "  </tbody>\n",
       "</table>\n",
       "</div>"
      ],
      "text/plain": [
       "                                                                   count  \\\n",
       "                                                 stay_chart_included_mdr   \n",
       "last_careunit                                                              \n",
       "Cardiac Vascular Intensive Care Unit (CVICU)                        7602   \n",
       "Coronary Care Unit (CCU)                                            5297   \n",
       "Medical Intensive Care Unit (MICU)                                 11634   \n",
       "Medical/Surgical Intensive Care Unit (MICU/SICU)                    8468   \n",
       "Neuro Intermediate                                                  1166   \n",
       "Neuro Stepdown                                                       545   \n",
       "Neuro Surgical Intensive Care Unit (Neuro SICU)                      585   \n",
       "Surgical Intensive Care Unit (SICU)                                 7280   \n",
       "Trauma SICU (TSICU)                                                 5075   \n",
       "\n",
       "                                                                    mean  \n",
       "                                                 stay_chart_included_mdr  \n",
       "last_careunit                                                             \n",
       "Cardiac Vascular Intensive Care Unit (CVICU)                    0.027493  \n",
       "Coronary Care Unit (CCU)                                        0.058335  \n",
       "Medical Intensive Care Unit (MICU)                              0.118274  \n",
       "Medical/Surgical Intensive Care Unit (MICU/SICU)                0.107936  \n",
       "Neuro Intermediate                                              0.018868  \n",
       "Neuro Stepdown                                                  0.025688  \n",
       "Neuro Surgical Intensive Care Unit (Neuro SICU)                 0.034188  \n",
       "Surgical Intensive Care Unit (SICU)                             0.075275  \n",
       "Trauma SICU (TSICU)                                             0.072906  "
      ]
     },
     "execution_count": 45,
     "metadata": {},
     "output_type": "execute_result"
    }
   ],
   "source": [
    "pd.pivot_table(data = variables_df,values='stay_chart_included_mdr',index = ['last_careunit'],aggfunc= ['count','mean'])"
   ]
  },
  {
   "cell_type": "markdown",
   "id": "8721891f-7315-49f5-941b-5b3df54dd59b",
   "metadata": {},
   "source": [
    "## 种族"
   ]
  },
  {
   "cell_type": "code",
   "execution_count": 46,
   "id": "d77ed28f-8c0e-4c49-91f2-7a17bc686a36",
   "metadata": {
    "ExecuteTime": {
     "end_time": "2022-02-04T13:04:15.147831Z",
     "start_time": "2022-02-04T13:04:15.101831Z"
    },
    "execution": {
     "iopub.execute_input": "2024-06-17T09:31:45.824046Z",
     "iopub.status.busy": "2024-06-17T09:31:45.823509Z",
     "iopub.status.idle": "2024-06-17T09:31:45.849479Z",
     "shell.execute_reply": "2024-06-17T09:31:45.848761Z",
     "shell.execute_reply.started": "2024-06-17T09:31:45.823997Z"
    },
    "tags": []
   },
   "outputs": [
    {
     "data": {
      "text/html": [
       "<div>\n",
       "<style scoped>\n",
       "    .dataframe tbody tr th:only-of-type {\n",
       "        vertical-align: middle;\n",
       "    }\n",
       "\n",
       "    .dataframe tbody tr th {\n",
       "        vertical-align: top;\n",
       "    }\n",
       "\n",
       "    .dataframe thead tr th {\n",
       "        text-align: left;\n",
       "    }\n",
       "\n",
       "    .dataframe thead tr:last-of-type th {\n",
       "        text-align: right;\n",
       "    }\n",
       "</style>\n",
       "<table border=\"1\" class=\"dataframe\">\n",
       "  <thead>\n",
       "    <tr>\n",
       "      <th></th>\n",
       "      <th>count</th>\n",
       "      <th>mean</th>\n",
       "    </tr>\n",
       "    <tr>\n",
       "      <th></th>\n",
       "      <th>stay_chart_included_mdr</th>\n",
       "      <th>stay_chart_included_mdr</th>\n",
       "    </tr>\n",
       "    <tr>\n",
       "      <th>race</th>\n",
       "      <th></th>\n",
       "      <th></th>\n",
       "    </tr>\n",
       "  </thead>\n",
       "  <tbody>\n",
       "    <tr>\n",
       "      <th>AMERICAN INDIAN/ALASKA NATIVE</th>\n",
       "      <td>96</td>\n",
       "      <td>0.104167</td>\n",
       "    </tr>\n",
       "    <tr>\n",
       "      <th>ASIAN</th>\n",
       "      <td>556</td>\n",
       "      <td>0.082734</td>\n",
       "    </tr>\n",
       "    <tr>\n",
       "      <th>ASIAN - ASIAN INDIAN</th>\n",
       "      <td>126</td>\n",
       "      <td>0.103175</td>\n",
       "    </tr>\n",
       "    <tr>\n",
       "      <th>ASIAN - CHINESE</th>\n",
       "      <td>496</td>\n",
       "      <td>0.068548</td>\n",
       "    </tr>\n",
       "    <tr>\n",
       "      <th>ASIAN - KOREAN</th>\n",
       "      <td>40</td>\n",
       "      <td>0.025000</td>\n",
       "    </tr>\n",
       "    <tr>\n",
       "      <th>ASIAN - SOUTH EAST ASIAN</th>\n",
       "      <td>197</td>\n",
       "      <td>0.060914</td>\n",
       "    </tr>\n",
       "    <tr>\n",
       "      <th>BLACK/AFRICAN</th>\n",
       "      <td>189</td>\n",
       "      <td>0.042328</td>\n",
       "    </tr>\n",
       "    <tr>\n",
       "      <th>BLACK/AFRICAN AMERICAN</th>\n",
       "      <td>4366</td>\n",
       "      <td>0.084746</td>\n",
       "    </tr>\n",
       "    <tr>\n",
       "      <th>BLACK/CAPE VERDEAN</th>\n",
       "      <td>312</td>\n",
       "      <td>0.064103</td>\n",
       "    </tr>\n",
       "    <tr>\n",
       "      <th>BLACK/CARIBBEAN ISLAND</th>\n",
       "      <td>270</td>\n",
       "      <td>0.077778</td>\n",
       "    </tr>\n",
       "    <tr>\n",
       "      <th>HISPANIC OR LATINO</th>\n",
       "      <td>488</td>\n",
       "      <td>0.098361</td>\n",
       "    </tr>\n",
       "    <tr>\n",
       "      <th>HISPANIC/LATINO - CENTRAL AMERICAN</th>\n",
       "      <td>34</td>\n",
       "      <td>0.000000</td>\n",
       "    </tr>\n",
       "    <tr>\n",
       "      <th>HISPANIC/LATINO - COLUMBIAN</th>\n",
       "      <td>38</td>\n",
       "      <td>0.052632</td>\n",
       "    </tr>\n",
       "    <tr>\n",
       "      <th>HISPANIC/LATINO - CUBAN</th>\n",
       "      <td>52</td>\n",
       "      <td>0.076923</td>\n",
       "    </tr>\n",
       "    <tr>\n",
       "      <th>HISPANIC/LATINO - DOMINICAN</th>\n",
       "      <td>339</td>\n",
       "      <td>0.091445</td>\n",
       "    </tr>\n",
       "    <tr>\n",
       "      <th>HISPANIC/LATINO - GUATEMALAN</th>\n",
       "      <td>107</td>\n",
       "      <td>0.046729</td>\n",
       "    </tr>\n",
       "    <tr>\n",
       "      <th>HISPANIC/LATINO - HONDURAN</th>\n",
       "      <td>41</td>\n",
       "      <td>0.000000</td>\n",
       "    </tr>\n",
       "    <tr>\n",
       "      <th>HISPANIC/LATINO - MEXICAN</th>\n",
       "      <td>41</td>\n",
       "      <td>0.121951</td>\n",
       "    </tr>\n",
       "    <tr>\n",
       "      <th>HISPANIC/LATINO - PUERTO RICAN</th>\n",
       "      <td>590</td>\n",
       "      <td>0.076271</td>\n",
       "    </tr>\n",
       "    <tr>\n",
       "      <th>HISPANIC/LATINO - SALVADORAN</th>\n",
       "      <td>53</td>\n",
       "      <td>0.094340</td>\n",
       "    </tr>\n",
       "    <tr>\n",
       "      <th>MULTIPLE RACE/ETHNICITY</th>\n",
       "      <td>53</td>\n",
       "      <td>0.056604</td>\n",
       "    </tr>\n",
       "    <tr>\n",
       "      <th>NATIVE HAWAIIAN OR OTHER PACIFIC ISLANDER</th>\n",
       "      <td>67</td>\n",
       "      <td>0.074627</td>\n",
       "    </tr>\n",
       "    <tr>\n",
       "      <th>OTHER</th>\n",
       "      <td>1548</td>\n",
       "      <td>0.069121</td>\n",
       "    </tr>\n",
       "    <tr>\n",
       "      <th>PATIENT DECLINED TO ANSWER</th>\n",
       "      <td>274</td>\n",
       "      <td>0.051095</td>\n",
       "    </tr>\n",
       "    <tr>\n",
       "      <th>PORTUGUESE</th>\n",
       "      <td>210</td>\n",
       "      <td>0.071429</td>\n",
       "    </tr>\n",
       "    <tr>\n",
       "      <th>SOUTH AMERICAN</th>\n",
       "      <td>36</td>\n",
       "      <td>0.055556</td>\n",
       "    </tr>\n",
       "    <tr>\n",
       "      <th>UNABLE TO OBTAIN</th>\n",
       "      <td>645</td>\n",
       "      <td>0.082171</td>\n",
       "    </tr>\n",
       "    <tr>\n",
       "      <th>UNKNOWN</th>\n",
       "      <td>4069</td>\n",
       "      <td>0.061932</td>\n",
       "    </tr>\n",
       "    <tr>\n",
       "      <th>WHITE</th>\n",
       "      <td>30833</td>\n",
       "      <td>0.082606</td>\n",
       "    </tr>\n",
       "    <tr>\n",
       "      <th>WHITE - BRAZILIAN</th>\n",
       "      <td>86</td>\n",
       "      <td>0.069767</td>\n",
       "    </tr>\n",
       "    <tr>\n",
       "      <th>WHITE - EASTERN EUROPEAN</th>\n",
       "      <td>102</td>\n",
       "      <td>0.039216</td>\n",
       "    </tr>\n",
       "    <tr>\n",
       "      <th>WHITE - OTHER EUROPEAN</th>\n",
       "      <td>802</td>\n",
       "      <td>0.044888</td>\n",
       "    </tr>\n",
       "    <tr>\n",
       "      <th>WHITE - RUSSIAN</th>\n",
       "      <td>496</td>\n",
       "      <td>0.116935</td>\n",
       "    </tr>\n",
       "  </tbody>\n",
       "</table>\n",
       "</div>"
      ],
      "text/plain": [
       "                                                            count  \\\n",
       "                                          stay_chart_included_mdr   \n",
       "race                                                                \n",
       "AMERICAN INDIAN/ALASKA NATIVE                                  96   \n",
       "ASIAN                                                         556   \n",
       "ASIAN - ASIAN INDIAN                                          126   \n",
       "ASIAN - CHINESE                                               496   \n",
       "ASIAN - KOREAN                                                 40   \n",
       "ASIAN - SOUTH EAST ASIAN                                      197   \n",
       "BLACK/AFRICAN                                                 189   \n",
       "BLACK/AFRICAN AMERICAN                                       4366   \n",
       "BLACK/CAPE VERDEAN                                            312   \n",
       "BLACK/CARIBBEAN ISLAND                                        270   \n",
       "HISPANIC OR LATINO                                            488   \n",
       "HISPANIC/LATINO - CENTRAL AMERICAN                             34   \n",
       "HISPANIC/LATINO - COLUMBIAN                                    38   \n",
       "HISPANIC/LATINO - CUBAN                                        52   \n",
       "HISPANIC/LATINO - DOMINICAN                                   339   \n",
       "HISPANIC/LATINO - GUATEMALAN                                  107   \n",
       "HISPANIC/LATINO - HONDURAN                                     41   \n",
       "HISPANIC/LATINO - MEXICAN                                      41   \n",
       "HISPANIC/LATINO - PUERTO RICAN                                590   \n",
       "HISPANIC/LATINO - SALVADORAN                                   53   \n",
       "MULTIPLE RACE/ETHNICITY                                        53   \n",
       "NATIVE HAWAIIAN OR OTHER PACIFIC ISLANDER                      67   \n",
       "OTHER                                                        1548   \n",
       "PATIENT DECLINED TO ANSWER                                    274   \n",
       "PORTUGUESE                                                    210   \n",
       "SOUTH AMERICAN                                                 36   \n",
       "UNABLE TO OBTAIN                                              645   \n",
       "UNKNOWN                                                      4069   \n",
       "WHITE                                                       30833   \n",
       "WHITE - BRAZILIAN                                              86   \n",
       "WHITE - EASTERN EUROPEAN                                      102   \n",
       "WHITE - OTHER EUROPEAN                                        802   \n",
       "WHITE - RUSSIAN                                               496   \n",
       "\n",
       "                                                             mean  \n",
       "                                          stay_chart_included_mdr  \n",
       "race                                                               \n",
       "AMERICAN INDIAN/ALASKA NATIVE                            0.104167  \n",
       "ASIAN                                                    0.082734  \n",
       "ASIAN - ASIAN INDIAN                                     0.103175  \n",
       "ASIAN - CHINESE                                          0.068548  \n",
       "ASIAN - KOREAN                                           0.025000  \n",
       "ASIAN - SOUTH EAST ASIAN                                 0.060914  \n",
       "BLACK/AFRICAN                                            0.042328  \n",
       "BLACK/AFRICAN AMERICAN                                   0.084746  \n",
       "BLACK/CAPE VERDEAN                                       0.064103  \n",
       "BLACK/CARIBBEAN ISLAND                                   0.077778  \n",
       "HISPANIC OR LATINO                                       0.098361  \n",
       "HISPANIC/LATINO - CENTRAL AMERICAN                       0.000000  \n",
       "HISPANIC/LATINO - COLUMBIAN                              0.052632  \n",
       "HISPANIC/LATINO - CUBAN                                  0.076923  \n",
       "HISPANIC/LATINO - DOMINICAN                              0.091445  \n",
       "HISPANIC/LATINO - GUATEMALAN                             0.046729  \n",
       "HISPANIC/LATINO - HONDURAN                               0.000000  \n",
       "HISPANIC/LATINO - MEXICAN                                0.121951  \n",
       "HISPANIC/LATINO - PUERTO RICAN                           0.076271  \n",
       "HISPANIC/LATINO - SALVADORAN                             0.094340  \n",
       "MULTIPLE RACE/ETHNICITY                                  0.056604  \n",
       "NATIVE HAWAIIAN OR OTHER PACIFIC ISLANDER                0.074627  \n",
       "OTHER                                                    0.069121  \n",
       "PATIENT DECLINED TO ANSWER                               0.051095  \n",
       "PORTUGUESE                                               0.071429  \n",
       "SOUTH AMERICAN                                           0.055556  \n",
       "UNABLE TO OBTAIN                                         0.082171  \n",
       "UNKNOWN                                                  0.061932  \n",
       "WHITE                                                    0.082606  \n",
       "WHITE - BRAZILIAN                                        0.069767  \n",
       "WHITE - EASTERN EUROPEAN                                 0.039216  \n",
       "WHITE - OTHER EUROPEAN                                   0.044888  \n",
       "WHITE - RUSSIAN                                          0.116935  "
      ]
     },
     "execution_count": 46,
     "metadata": {},
     "output_type": "execute_result"
    }
   ],
   "source": [
    "pd.pivot_table(data = variables_df,values='stay_chart_included_mdr',index = ['race'],aggfunc= ['count','mean'])"
   ]
  },
  {
   "cell_type": "markdown",
   "id": "2e2f63e6-474e-41a3-ada2-025bdc45442b",
   "metadata": {},
   "source": [
    "## 住院次数"
   ]
  },
  {
   "cell_type": "code",
   "execution_count": 47,
   "id": "d5f7a17e-0738-40f3-bff5-c03e8b75a78d",
   "metadata": {
    "ExecuteTime": {
     "end_time": "2022-02-04T13:04:15.179831Z",
     "start_time": "2022-02-04T13:04:15.149831Z"
    },
    "execution": {
     "iopub.execute_input": "2024-06-17T09:31:46.715169Z",
     "iopub.status.busy": "2024-06-17T09:31:46.713967Z",
     "iopub.status.idle": "2024-06-17T09:31:46.731754Z",
     "shell.execute_reply": "2024-06-17T09:31:46.731077Z",
     "shell.execute_reply.started": "2024-06-17T09:31:46.715117Z"
    },
    "scrolled": true,
    "tags": []
   },
   "outputs": [
    {
     "data": {
      "text/html": [
       "<div>\n",
       "<style scoped>\n",
       "    .dataframe tbody tr th:only-of-type {\n",
       "        vertical-align: middle;\n",
       "    }\n",
       "\n",
       "    .dataframe tbody tr th {\n",
       "        vertical-align: top;\n",
       "    }\n",
       "\n",
       "    .dataframe thead tr th {\n",
       "        text-align: left;\n",
       "    }\n",
       "\n",
       "    .dataframe thead tr:last-of-type th {\n",
       "        text-align: right;\n",
       "    }\n",
       "</style>\n",
       "<table border=\"1\" class=\"dataframe\">\n",
       "  <thead>\n",
       "    <tr>\n",
       "      <th></th>\n",
       "      <th>count</th>\n",
       "      <th>mean</th>\n",
       "    </tr>\n",
       "    <tr>\n",
       "      <th></th>\n",
       "      <th>stay_chart_included_mdr</th>\n",
       "      <th>stay_chart_included_mdr</th>\n",
       "    </tr>\n",
       "    <tr>\n",
       "      <th>hospstay_seq</th>\n",
       "      <th></th>\n",
       "      <th></th>\n",
       "    </tr>\n",
       "  </thead>\n",
       "  <tbody>\n",
       "    <tr>\n",
       "      <th>1</th>\n",
       "      <td>36338</td>\n",
       "      <td>0.064368</td>\n",
       "    </tr>\n",
       "    <tr>\n",
       "      <th>2</th>\n",
       "      <td>6594</td>\n",
       "      <td>0.110252</td>\n",
       "    </tr>\n",
       "    <tr>\n",
       "      <th>3</th>\n",
       "      <td>2239</td>\n",
       "      <td>0.126842</td>\n",
       "    </tr>\n",
       "    <tr>\n",
       "      <th>4</th>\n",
       "      <td>949</td>\n",
       "      <td>0.150685</td>\n",
       "    </tr>\n",
       "    <tr>\n",
       "      <th>5</th>\n",
       "      <td>527</td>\n",
       "      <td>0.184061</td>\n",
       "    </tr>\n",
       "    <tr>\n",
       "      <th>6</th>\n",
       "      <td>300</td>\n",
       "      <td>0.190000</td>\n",
       "    </tr>\n",
       "    <tr>\n",
       "      <th>7</th>\n",
       "      <td>192</td>\n",
       "      <td>0.203125</td>\n",
       "    </tr>\n",
       "    <tr>\n",
       "      <th>8</th>\n",
       "      <td>113</td>\n",
       "      <td>0.168142</td>\n",
       "    </tr>\n",
       "    <tr>\n",
       "      <th>9</th>\n",
       "      <td>90</td>\n",
       "      <td>0.166667</td>\n",
       "    </tr>\n",
       "    <tr>\n",
       "      <th>10</th>\n",
       "      <td>60</td>\n",
       "      <td>0.250000</td>\n",
       "    </tr>\n",
       "    <tr>\n",
       "      <th>11</th>\n",
       "      <td>48</td>\n",
       "      <td>0.208333</td>\n",
       "    </tr>\n",
       "    <tr>\n",
       "      <th>12</th>\n",
       "      <td>33</td>\n",
       "      <td>0.151515</td>\n",
       "    </tr>\n",
       "    <tr>\n",
       "      <th>13</th>\n",
       "      <td>28</td>\n",
       "      <td>0.250000</td>\n",
       "    </tr>\n",
       "    <tr>\n",
       "      <th>14</th>\n",
       "      <td>20</td>\n",
       "      <td>0.300000</td>\n",
       "    </tr>\n",
       "    <tr>\n",
       "      <th>15</th>\n",
       "      <td>23</td>\n",
       "      <td>0.173913</td>\n",
       "    </tr>\n",
       "    <tr>\n",
       "      <th>16</th>\n",
       "      <td>17</td>\n",
       "      <td>0.117647</td>\n",
       "    </tr>\n",
       "    <tr>\n",
       "      <th>17</th>\n",
       "      <td>13</td>\n",
       "      <td>0.307692</td>\n",
       "    </tr>\n",
       "    <tr>\n",
       "      <th>18</th>\n",
       "      <td>12</td>\n",
       "      <td>0.166667</td>\n",
       "    </tr>\n",
       "    <tr>\n",
       "      <th>19</th>\n",
       "      <td>10</td>\n",
       "      <td>0.300000</td>\n",
       "    </tr>\n",
       "    <tr>\n",
       "      <th>20</th>\n",
       "      <td>7</td>\n",
       "      <td>0.142857</td>\n",
       "    </tr>\n",
       "    <tr>\n",
       "      <th>21</th>\n",
       "      <td>8</td>\n",
       "      <td>0.000000</td>\n",
       "    </tr>\n",
       "    <tr>\n",
       "      <th>22</th>\n",
       "      <td>6</td>\n",
       "      <td>0.333333</td>\n",
       "    </tr>\n",
       "    <tr>\n",
       "      <th>23</th>\n",
       "      <td>3</td>\n",
       "      <td>0.000000</td>\n",
       "    </tr>\n",
       "    <tr>\n",
       "      <th>24</th>\n",
       "      <td>6</td>\n",
       "      <td>0.000000</td>\n",
       "    </tr>\n",
       "    <tr>\n",
       "      <th>25</th>\n",
       "      <td>3</td>\n",
       "      <td>0.000000</td>\n",
       "    </tr>\n",
       "    <tr>\n",
       "      <th>26</th>\n",
       "      <td>4</td>\n",
       "      <td>0.000000</td>\n",
       "    </tr>\n",
       "    <tr>\n",
       "      <th>27</th>\n",
       "      <td>2</td>\n",
       "      <td>0.500000</td>\n",
       "    </tr>\n",
       "    <tr>\n",
       "      <th>28</th>\n",
       "      <td>4</td>\n",
       "      <td>0.000000</td>\n",
       "    </tr>\n",
       "    <tr>\n",
       "      <th>29</th>\n",
       "      <td>2</td>\n",
       "      <td>0.000000</td>\n",
       "    </tr>\n",
       "    <tr>\n",
       "      <th>30</th>\n",
       "      <td>1</td>\n",
       "      <td>0.000000</td>\n",
       "    </tr>\n",
       "  </tbody>\n",
       "</table>\n",
       "</div>"
      ],
      "text/plain": [
       "                               count                    mean\n",
       "             stay_chart_included_mdr stay_chart_included_mdr\n",
       "hospstay_seq                                                \n",
       "1                              36338                0.064368\n",
       "2                               6594                0.110252\n",
       "3                               2239                0.126842\n",
       "4                                949                0.150685\n",
       "5                                527                0.184061\n",
       "6                                300                0.190000\n",
       "7                                192                0.203125\n",
       "8                                113                0.168142\n",
       "9                                 90                0.166667\n",
       "10                                60                0.250000\n",
       "11                                48                0.208333\n",
       "12                                33                0.151515\n",
       "13                                28                0.250000\n",
       "14                                20                0.300000\n",
       "15                                23                0.173913\n",
       "16                                17                0.117647\n",
       "17                                13                0.307692\n",
       "18                                12                0.166667\n",
       "19                                10                0.300000\n",
       "20                                 7                0.142857\n",
       "21                                 8                0.000000\n",
       "22                                 6                0.333333\n",
       "23                                 3                0.000000\n",
       "24                                 6                0.000000\n",
       "25                                 3                0.000000\n",
       "26                                 4                0.000000\n",
       "27                                 2                0.500000\n",
       "28                                 4                0.000000\n",
       "29                                 2                0.000000\n",
       "30                                 1                0.000000"
      ]
     },
     "execution_count": 47,
     "metadata": {},
     "output_type": "execute_result"
    }
   ],
   "source": [
    "pd.pivot_table(data = variables_df,values='stay_chart_included_mdr',index = ['hospstay_seq'],aggfunc= ['count','mean'])"
   ]
  },
  {
   "cell_type": "code",
   "execution_count": 48,
   "id": "a228686f-51f4-403a-9b19-6c77d681654d",
   "metadata": {
    "ExecuteTime": {
     "end_time": "2022-02-04T13:04:15.225831Z",
     "start_time": "2022-02-04T13:04:15.181833Z"
    },
    "execution": {
     "iopub.execute_input": "2024-06-17T09:31:47.175005Z",
     "iopub.status.busy": "2024-06-17T09:31:47.174488Z",
     "iopub.status.idle": "2024-06-17T09:31:47.196687Z",
     "shell.execute_reply": "2024-06-17T09:31:47.195988Z",
     "shell.execute_reply.started": "2024-06-17T09:31:47.174958Z"
    },
    "tags": []
   },
   "outputs": [
    {
     "data": {
      "text/html": [
       "<div>\n",
       "<style scoped>\n",
       "    .dataframe tbody tr th:only-of-type {\n",
       "        vertical-align: middle;\n",
       "    }\n",
       "\n",
       "    .dataframe tbody tr th {\n",
       "        vertical-align: top;\n",
       "    }\n",
       "\n",
       "    .dataframe thead tr th {\n",
       "        text-align: left;\n",
       "    }\n",
       "\n",
       "    .dataframe thead tr:last-of-type th {\n",
       "        text-align: right;\n",
       "    }\n",
       "</style>\n",
       "<table border=\"1\" class=\"dataframe\">\n",
       "  <thead>\n",
       "    <tr>\n",
       "      <th></th>\n",
       "      <th>count</th>\n",
       "      <th>mean</th>\n",
       "    </tr>\n",
       "    <tr>\n",
       "      <th></th>\n",
       "      <th>stay_chart_included_mdr</th>\n",
       "      <th>stay_chart_included_mdr</th>\n",
       "    </tr>\n",
       "    <tr>\n",
       "      <th>icustay_rank</th>\n",
       "      <th></th>\n",
       "      <th></th>\n",
       "    </tr>\n",
       "  </thead>\n",
       "  <tbody>\n",
       "    <tr>\n",
       "      <th>1.0</th>\n",
       "      <td>33407</td>\n",
       "      <td>0.064687</td>\n",
       "    </tr>\n",
       "    <tr>\n",
       "      <th>2.0</th>\n",
       "      <td>7820</td>\n",
       "      <td>0.087724</td>\n",
       "    </tr>\n",
       "    <tr>\n",
       "      <th>3.0</th>\n",
       "      <td>2944</td>\n",
       "      <td>0.122962</td>\n",
       "    </tr>\n",
       "    <tr>\n",
       "      <th>4.0</th>\n",
       "      <td>1352</td>\n",
       "      <td>0.141272</td>\n",
       "    </tr>\n",
       "    <tr>\n",
       "      <th>5.0</th>\n",
       "      <td>700</td>\n",
       "      <td>0.155714</td>\n",
       "    </tr>\n",
       "    <tr>\n",
       "      <th>6.0</th>\n",
       "      <td>439</td>\n",
       "      <td>0.191344</td>\n",
       "    </tr>\n",
       "    <tr>\n",
       "      <th>7.0</th>\n",
       "      <td>254</td>\n",
       "      <td>0.177165</td>\n",
       "    </tr>\n",
       "    <tr>\n",
       "      <th>8.0</th>\n",
       "      <td>183</td>\n",
       "      <td>0.185792</td>\n",
       "    </tr>\n",
       "    <tr>\n",
       "      <th>9.0</th>\n",
       "      <td>128</td>\n",
       "      <td>0.218750</td>\n",
       "    </tr>\n",
       "    <tr>\n",
       "      <th>10.0</th>\n",
       "      <td>96</td>\n",
       "      <td>0.166667</td>\n",
       "    </tr>\n",
       "    <tr>\n",
       "      <th>11.0</th>\n",
       "      <td>72</td>\n",
       "      <td>0.250000</td>\n",
       "    </tr>\n",
       "    <tr>\n",
       "      <th>12.0</th>\n",
       "      <td>41</td>\n",
       "      <td>0.170732</td>\n",
       "    </tr>\n",
       "    <tr>\n",
       "      <th>13.0</th>\n",
       "      <td>29</td>\n",
       "      <td>0.206897</td>\n",
       "    </tr>\n",
       "    <tr>\n",
       "      <th>14.0</th>\n",
       "      <td>26</td>\n",
       "      <td>0.230769</td>\n",
       "    </tr>\n",
       "    <tr>\n",
       "      <th>15.0</th>\n",
       "      <td>30</td>\n",
       "      <td>0.266667</td>\n",
       "    </tr>\n",
       "    <tr>\n",
       "      <th>16.0</th>\n",
       "      <td>27</td>\n",
       "      <td>0.148148</td>\n",
       "    </tr>\n",
       "    <tr>\n",
       "      <th>17.0</th>\n",
       "      <td>16</td>\n",
       "      <td>0.187500</td>\n",
       "    </tr>\n",
       "    <tr>\n",
       "      <th>18.0</th>\n",
       "      <td>14</td>\n",
       "      <td>0.142857</td>\n",
       "    </tr>\n",
       "    <tr>\n",
       "      <th>19.0</th>\n",
       "      <td>11</td>\n",
       "      <td>0.181818</td>\n",
       "    </tr>\n",
       "    <tr>\n",
       "      <th>20.0</th>\n",
       "      <td>7</td>\n",
       "      <td>0.285714</td>\n",
       "    </tr>\n",
       "    <tr>\n",
       "      <th>21.0</th>\n",
       "      <td>8</td>\n",
       "      <td>0.375000</td>\n",
       "    </tr>\n",
       "    <tr>\n",
       "      <th>22.0</th>\n",
       "      <td>8</td>\n",
       "      <td>0.125000</td>\n",
       "    </tr>\n",
       "    <tr>\n",
       "      <th>23.0</th>\n",
       "      <td>4</td>\n",
       "      <td>0.000000</td>\n",
       "    </tr>\n",
       "    <tr>\n",
       "      <th>24.0</th>\n",
       "      <td>7</td>\n",
       "      <td>0.285714</td>\n",
       "    </tr>\n",
       "    <tr>\n",
       "      <th>25.0</th>\n",
       "      <td>5</td>\n",
       "      <td>0.000000</td>\n",
       "    </tr>\n",
       "    <tr>\n",
       "      <th>26.0</th>\n",
       "      <td>5</td>\n",
       "      <td>0.000000</td>\n",
       "    </tr>\n",
       "    <tr>\n",
       "      <th>27.0</th>\n",
       "      <td>2</td>\n",
       "      <td>0.500000</td>\n",
       "    </tr>\n",
       "    <tr>\n",
       "      <th>28.0</th>\n",
       "      <td>2</td>\n",
       "      <td>0.000000</td>\n",
       "    </tr>\n",
       "    <tr>\n",
       "      <th>29.0</th>\n",
       "      <td>3</td>\n",
       "      <td>0.000000</td>\n",
       "    </tr>\n",
       "    <tr>\n",
       "      <th>30.0</th>\n",
       "      <td>3</td>\n",
       "      <td>0.000000</td>\n",
       "    </tr>\n",
       "    <tr>\n",
       "      <th>31.0</th>\n",
       "      <td>2</td>\n",
       "      <td>0.000000</td>\n",
       "    </tr>\n",
       "    <tr>\n",
       "      <th>32.0</th>\n",
       "      <td>2</td>\n",
       "      <td>0.500000</td>\n",
       "    </tr>\n",
       "    <tr>\n",
       "      <th>33.0</th>\n",
       "      <td>2</td>\n",
       "      <td>0.000000</td>\n",
       "    </tr>\n",
       "    <tr>\n",
       "      <th>34.0</th>\n",
       "      <td>1</td>\n",
       "      <td>0.000000</td>\n",
       "    </tr>\n",
       "    <tr>\n",
       "      <th>35.0</th>\n",
       "      <td>1</td>\n",
       "      <td>0.000000</td>\n",
       "    </tr>\n",
       "    <tr>\n",
       "      <th>36.0</th>\n",
       "      <td>1</td>\n",
       "      <td>0.000000</td>\n",
       "    </tr>\n",
       "  </tbody>\n",
       "</table>\n",
       "</div>"
      ],
      "text/plain": [
       "                               count                    mean\n",
       "             stay_chart_included_mdr stay_chart_included_mdr\n",
       "icustay_rank                                                \n",
       "1.0                            33407                0.064687\n",
       "2.0                             7820                0.087724\n",
       "3.0                             2944                0.122962\n",
       "4.0                             1352                0.141272\n",
       "5.0                              700                0.155714\n",
       "6.0                              439                0.191344\n",
       "7.0                              254                0.177165\n",
       "8.0                              183                0.185792\n",
       "9.0                              128                0.218750\n",
       "10.0                              96                0.166667\n",
       "11.0                              72                0.250000\n",
       "12.0                              41                0.170732\n",
       "13.0                              29                0.206897\n",
       "14.0                              26                0.230769\n",
       "15.0                              30                0.266667\n",
       "16.0                              27                0.148148\n",
       "17.0                              16                0.187500\n",
       "18.0                              14                0.142857\n",
       "19.0                              11                0.181818\n",
       "20.0                               7                0.285714\n",
       "21.0                               8                0.375000\n",
       "22.0                               8                0.125000\n",
       "23.0                               4                0.000000\n",
       "24.0                               7                0.285714\n",
       "25.0                               5                0.000000\n",
       "26.0                               5                0.000000\n",
       "27.0                               2                0.500000\n",
       "28.0                               2                0.000000\n",
       "29.0                               3                0.000000\n",
       "30.0                               3                0.000000\n",
       "31.0                               2                0.000000\n",
       "32.0                               2                0.500000\n",
       "33.0                               2                0.000000\n",
       "34.0                               1                0.000000\n",
       "35.0                               1                0.000000\n",
       "36.0                               1                0.000000"
      ]
     },
     "execution_count": 48,
     "metadata": {},
     "output_type": "execute_result"
    }
   ],
   "source": [
    "pd.pivot_table(data = variables_df,values='stay_chart_included_mdr',index = ['icustay_rank'],aggfunc= ['count','mean'])"
   ]
  },
  {
   "cell_type": "code",
   "execution_count": 49,
   "id": "1c3e4fa7-7965-40a3-b451-42325d335b53",
   "metadata": {
    "ExecuteTime": {
     "end_time": "2022-02-04T13:04:15.257831Z",
     "start_time": "2022-02-04T13:04:15.227831Z"
    },
    "execution": {
     "iopub.execute_input": "2024-06-17T09:31:47.587834Z",
     "iopub.status.busy": "2024-06-17T09:31:47.587307Z",
     "iopub.status.idle": "2024-06-17T09:31:47.603004Z",
     "shell.execute_reply": "2024-06-17T09:31:47.602458Z",
     "shell.execute_reply.started": "2024-06-17T09:31:47.587786Z"
    },
    "tags": []
   },
   "outputs": [
    {
     "data": {
      "text/html": [
       "<div>\n",
       "<style scoped>\n",
       "    .dataframe tbody tr th:only-of-type {\n",
       "        vertical-align: middle;\n",
       "    }\n",
       "\n",
       "    .dataframe tbody tr th {\n",
       "        vertical-align: top;\n",
       "    }\n",
       "\n",
       "    .dataframe thead tr th {\n",
       "        text-align: left;\n",
       "    }\n",
       "\n",
       "    .dataframe thead tr:last-of-type th {\n",
       "        text-align: right;\n",
       "    }\n",
       "</style>\n",
       "<table border=\"1\" class=\"dataframe\">\n",
       "  <thead>\n",
       "    <tr>\n",
       "      <th></th>\n",
       "      <th>count</th>\n",
       "      <th>mean</th>\n",
       "    </tr>\n",
       "    <tr>\n",
       "      <th></th>\n",
       "      <th>stay_chart_included_mdr</th>\n",
       "      <th>stay_chart_included_mdr</th>\n",
       "    </tr>\n",
       "    <tr>\n",
       "      <th>previous_mdrneg_lessthan90d</th>\n",
       "      <th></th>\n",
       "      <th></th>\n",
       "    </tr>\n",
       "  </thead>\n",
       "  <tbody>\n",
       "    <tr>\n",
       "      <th>0</th>\n",
       "      <td>46786</td>\n",
       "      <td>0.074424</td>\n",
       "    </tr>\n",
       "    <tr>\n",
       "      <th>1</th>\n",
       "      <td>866</td>\n",
       "      <td>0.346420</td>\n",
       "    </tr>\n",
       "  </tbody>\n",
       "</table>\n",
       "</div>"
      ],
      "text/plain": [
       "                                              count                    mean\n",
       "                            stay_chart_included_mdr stay_chart_included_mdr\n",
       "previous_mdrneg_lessthan90d                                                \n",
       "0                                             46786                0.074424\n",
       "1                                               866                0.346420"
      ]
     },
     "execution_count": 49,
     "metadata": {},
     "output_type": "execute_result"
    }
   ],
   "source": [
    "pd.pivot_table(data = variables_df,values='stay_chart_included_mdr',index = ['previous_mdrneg_lessthan90d'],aggfunc= ['count','mean'])"
   ]
  },
  {
   "cell_type": "code",
   "execution_count": 50,
   "id": "57638010-a001-4d50-a8a5-00106ac1f34f",
   "metadata": {
    "ExecuteTime": {
     "end_time": "2022-02-04T13:04:15.305831Z",
     "start_time": "2022-02-04T13:04:15.259832Z"
    },
    "execution": {
     "iopub.execute_input": "2024-06-17T09:31:48.071548Z",
     "iopub.status.busy": "2024-06-17T09:31:48.071030Z",
     "iopub.status.idle": "2024-06-17T09:31:48.093277Z",
     "shell.execute_reply": "2024-06-17T09:31:48.092579Z",
     "shell.execute_reply.started": "2024-06-17T09:31:48.071501Z"
    },
    "tags": []
   },
   "outputs": [
    {
     "data": {
      "text/html": [
       "<div>\n",
       "<style scoped>\n",
       "    .dataframe tbody tr th:only-of-type {\n",
       "        vertical-align: middle;\n",
       "    }\n",
       "\n",
       "    .dataframe tbody tr th {\n",
       "        vertical-align: top;\n",
       "    }\n",
       "\n",
       "    .dataframe thead tr th {\n",
       "        text-align: left;\n",
       "    }\n",
       "\n",
       "    .dataframe thead tr:last-of-type th {\n",
       "        text-align: right;\n",
       "    }\n",
       "</style>\n",
       "<table border=\"1\" class=\"dataframe\">\n",
       "  <thead>\n",
       "    <tr>\n",
       "      <th></th>\n",
       "      <th>count</th>\n",
       "      <th>mean</th>\n",
       "    </tr>\n",
       "    <tr>\n",
       "      <th></th>\n",
       "      <th>stay_chart_included_mdr</th>\n",
       "      <th>stay_chart_included_mdr</th>\n",
       "    </tr>\n",
       "    <tr>\n",
       "      <th>gender</th>\n",
       "      <th></th>\n",
       "      <th></th>\n",
       "    </tr>\n",
       "  </thead>\n",
       "  <tbody>\n",
       "    <tr>\n",
       "      <th>F</th>\n",
       "      <td>20803</td>\n",
       "      <td>0.087535</td>\n",
       "    </tr>\n",
       "    <tr>\n",
       "      <th>M</th>\n",
       "      <td>26849</td>\n",
       "      <td>0.073038</td>\n",
       "    </tr>\n",
       "  </tbody>\n",
       "</table>\n",
       "</div>"
      ],
      "text/plain": [
       "                         count                    mean\n",
       "       stay_chart_included_mdr stay_chart_included_mdr\n",
       "gender                                                \n",
       "F                        20803                0.087535\n",
       "M                        26849                0.073038"
      ]
     },
     "execution_count": 50,
     "metadata": {},
     "output_type": "execute_result"
    }
   ],
   "source": [
    "pd.pivot_table(data = variables_df,values='stay_chart_included_mdr',index = ['gender'],aggfunc= ['count','mean'])"
   ]
  },
  {
   "cell_type": "markdown",
   "id": "b4c3278c-01a5-4cf7-a048-eeab1fe314fa",
   "metadata": {},
   "source": [
    "# 基础信息表"
   ]
  },
  {
   "cell_type": "code",
   "execution_count": 51,
   "id": "94c0bb27-6b2f-44a9-a2c7-f141817ef881",
   "metadata": {
    "ExecuteTime": {
     "end_time": "2022-02-04T13:04:15.321832Z",
     "start_time": "2022-02-04T13:04:15.307832Z"
    },
    "execution": {
     "iopub.execute_input": "2024-06-17T09:31:49.068999Z",
     "iopub.status.busy": "2024-06-17T09:31:49.067796Z",
     "iopub.status.idle": "2024-06-17T09:31:49.079265Z",
     "shell.execute_reply": "2024-06-17T09:31:49.078666Z",
     "shell.execute_reply.started": "2024-06-17T09:31:49.068946Z"
    },
    "tags": []
   },
   "outputs": [],
   "source": [
    "basic_inf = variables_df[[ 'stay_id',\n",
    " 'gender',\n",
    " 'admission_age',\n",
    " 'race',\n",
    " 'weight',\n",
    " 'hospstay_seq',\n",
    " 'icustay_rank',\n",
    " 'los_hosp_beforeicu',\n",
    " 'previous_mdrpos_lessthan90d',\n",
    " 'previous_mdrneg_lessthan90d', \n",
    " 'last_careunit',\n",
    " 'nasal_swab',\n",
    " 'blood_culture',\n",
    " 'urine_culture',\n",
    " 'sputum_culture',\n",
    " 'stool_culture',\n",
    " 'pan_culture',\n",
    " 'bal_fluid_culture',\n",
    " 'wound_culture',\n",
    " 'rectal_swab',\n",
    " 'csf_culture',\n",
    "'before_adm_90d'\n",
    "]]"
   ]
  },
  {
   "cell_type": "code",
   "execution_count": 52,
   "id": "61196dde-a8ae-47cf-85e8-d08f7aa8e1ec",
   "metadata": {
    "ExecuteTime": {
     "end_time": "2022-02-04T13:04:15.353832Z",
     "start_time": "2022-02-04T13:04:15.323832Z"
    },
    "execution": {
     "iopub.execute_input": "2024-06-17T09:31:49.377757Z",
     "iopub.status.busy": "2024-06-17T09:31:49.377226Z",
     "iopub.status.idle": "2024-06-17T09:31:49.394599Z",
     "shell.execute_reply": "2024-06-17T09:31:49.394004Z",
     "shell.execute_reply.started": "2024-06-17T09:31:49.377711Z"
    },
    "tags": []
   },
   "outputs": [
    {
     "data": {
      "text/html": [
       "<div>\n",
       "<style scoped>\n",
       "    .dataframe tbody tr th:only-of-type {\n",
       "        vertical-align: middle;\n",
       "    }\n",
       "\n",
       "    .dataframe tbody tr th {\n",
       "        vertical-align: top;\n",
       "    }\n",
       "\n",
       "    .dataframe thead tr th {\n",
       "        text-align: left;\n",
       "    }\n",
       "\n",
       "    .dataframe thead tr:last-of-type th {\n",
       "        text-align: right;\n",
       "    }\n",
       "</style>\n",
       "<table border=\"1\" class=\"dataframe\">\n",
       "  <thead>\n",
       "    <tr>\n",
       "      <th></th>\n",
       "      <th>count</th>\n",
       "      <th>mean</th>\n",
       "    </tr>\n",
       "    <tr>\n",
       "      <th></th>\n",
       "      <th>stay_chart_included_mdr</th>\n",
       "      <th>stay_chart_included_mdr</th>\n",
       "    </tr>\n",
       "    <tr>\n",
       "      <th>stool_culture</th>\n",
       "      <th></th>\n",
       "      <th></th>\n",
       "    </tr>\n",
       "  </thead>\n",
       "  <tbody>\n",
       "    <tr>\n",
       "      <th>0.0</th>\n",
       "      <td>47144</td>\n",
       "      <td>0.078122</td>\n",
       "    </tr>\n",
       "    <tr>\n",
       "      <th>1.0</th>\n",
       "      <td>508</td>\n",
       "      <td>0.194882</td>\n",
       "    </tr>\n",
       "  </tbody>\n",
       "</table>\n",
       "</div>"
      ],
      "text/plain": [
       "                                count                    mean\n",
       "              stay_chart_included_mdr stay_chart_included_mdr\n",
       "stool_culture                                                \n",
       "0.0                             47144                0.078122\n",
       "1.0                               508                0.194882"
      ]
     },
     "execution_count": 52,
     "metadata": {},
     "output_type": "execute_result"
    }
   ],
   "source": [
    "pd.pivot_table(data = variables_df,values='stay_chart_included_mdr',index = ['stool_culture'],aggfunc= ['count','mean'])"
   ]
  },
  {
   "cell_type": "markdown",
   "id": "3beecaab-850c-4c8a-a374-a9e3a48b8262",
   "metadata": {},
   "source": [
    "# 治疗表"
   ]
  },
  {
   "cell_type": "code",
   "execution_count": 53,
   "id": "a94894a8-3aa4-4de7-a774-2973fc386901",
   "metadata": {
    "ExecuteTime": {
     "end_time": "2022-02-04T13:04:15.369832Z",
     "start_time": "2022-02-04T13:04:15.355831Z"
    },
    "execution": {
     "iopub.execute_input": "2024-06-17T09:31:50.303335Z",
     "iopub.status.busy": "2024-06-17T09:31:50.302769Z",
     "iopub.status.idle": "2024-06-17T09:31:50.312190Z",
     "shell.execute_reply": "2024-06-17T09:31:50.311404Z",
     "shell.execute_reply.started": "2024-06-17T09:31:50.303285Z"
    },
    "tags": []
   },
   "outputs": [],
   "source": [
    "therapy_inf = variables_df[[ 'immu_duration',\n",
    " 'ant_duration',\n",
    " 'ant_1stday',\n",
    " 'immu_1stday',\n",
    " 'vaso_beforeicu',\n",
    " 'vaso_1stday',\n",
    " 'surgical',\n",
    " 'invasive_line_1stday',\n",
    " 'ventilation_1stday',\n",
    "'ent_nut',\n",
    " 'par_nut']]"
   ]
  },
  {
   "cell_type": "markdown",
   "id": "6d933427-eec1-46e6-b7e6-e1d306130f59",
   "metadata": {},
   "source": [
    "# 评分表"
   ]
  },
  {
   "cell_type": "code",
   "execution_count": 54,
   "id": "57fcaa66-eb8c-468a-8ad8-0f6a85eb003d",
   "metadata": {
    "ExecuteTime": {
     "end_time": "2022-02-04T13:04:15.385832Z",
     "start_time": "2022-02-04T13:04:15.371832Z"
    },
    "execution": {
     "iopub.execute_input": "2024-06-17T09:31:50.877761Z",
     "iopub.status.busy": "2024-06-17T09:31:50.877235Z",
     "iopub.status.idle": "2024-06-17T09:31:50.889983Z",
     "shell.execute_reply": "2024-06-17T09:31:50.889094Z",
     "shell.execute_reply.started": "2024-06-17T09:31:50.877713Z"
    },
    "tags": []
   },
   "outputs": [],
   "source": [
    "scores = variables_df[[ 'gcs',\n",
    " 'gcs_motor',\n",
    " 'gcs_eyes',\n",
    " 'gcs_verbal',\n",
    " 'gcs_unable',\n",
    " 'lods',\n",
    " 'sofa',\n",
    " 'sirs',\n",
    " 'apsiii',\n",
    " 'sapsii',\n",
    " 'oasis']]"
   ]
  },
  {
   "cell_type": "markdown",
   "id": "03d92e89-cafa-4ada-bc98-43ebcc61451f",
   "metadata": {},
   "source": [
    "# 结局"
   ]
  },
  {
   "cell_type": "code",
   "execution_count": 55,
   "id": "f1c2f433-cc00-4534-9ca0-83a26e774c28",
   "metadata": {
    "ExecuteTime": {
     "end_time": "2022-02-04T13:04:15.401832Z",
     "start_time": "2022-02-04T13:04:15.387832Z"
    },
    "execution": {
     "iopub.execute_input": "2024-06-17T09:31:51.722387Z",
     "iopub.status.busy": "2024-06-17T09:31:51.721864Z",
     "iopub.status.idle": "2024-06-17T09:31:51.731581Z",
     "shell.execute_reply": "2024-06-17T09:31:51.731041Z",
     "shell.execute_reply.started": "2024-06-17T09:31:51.722341Z"
    },
    "tags": []
   },
   "outputs": [],
   "source": [
    "outcomes = data[['los_icu',\n",
    "'los_hospital',\n",
    "'hospital_expire_flag',\n",
    " 'stay_chart_included_mdr',\n",
    " 'stay_chart_included_mdr_neg_tot',\n",
    " 'stay_chart_included_mdr_pos_tot']]"
   ]
  },
  {
   "cell_type": "markdown",
   "id": "92a5dc46-8384-4351-8e32-697d62efb419",
   "metadata": {},
   "source": [
    "# 汇总"
   ]
  },
  {
   "cell_type": "code",
   "execution_count": 56,
   "id": "11e12ee2-2c40-42e1-9cc0-ac7bd2d8b71b",
   "metadata": {
    "ExecuteTime": {
     "end_time": "2022-02-04T13:04:15.449832Z",
     "start_time": "2022-02-04T13:04:15.403832Z"
    },
    "execution": {
     "iopub.execute_input": "2024-06-17T09:31:52.672542Z",
     "iopub.status.busy": "2024-06-17T09:31:52.671549Z",
     "iopub.status.idle": "2024-06-17T09:31:52.726978Z",
     "shell.execute_reply": "2024-06-17T09:31:52.725672Z",
     "shell.execute_reply.started": "2024-06-17T09:31:52.672492Z"
    },
    "tags": []
   },
   "outputs": [],
   "source": [
    "cohort_total = pd.concat([basic_inf,antsel_sel_df,labvitalssel_sel_df,admissiontype_sel_df,history_sel_df,comb_sel_df,therapy_inf,scores,outcomes],axis = 1)"
   ]
  },
  {
   "cell_type": "markdown",
   "id": "0e99ab37-ad72-45e1-9be5-167e989c3fc4",
   "metadata": {},
   "source": [
    "# 与实际时间整合"
   ]
  },
  {
   "cell_type": "code",
   "execution_count": 57,
   "id": "6e6d716a-b4e6-43e5-b0a6-8796898e3962",
   "metadata": {
    "ExecuteTime": {
     "end_time": "2022-02-04T13:04:15.465832Z",
     "start_time": "2022-02-04T13:04:15.452832Z"
    },
    "execution": {
     "iopub.execute_input": "2024-06-17T09:31:53.459904Z",
     "iopub.status.busy": "2024-06-17T09:31:53.459385Z",
     "iopub.status.idle": "2024-06-17T09:31:53.470617Z",
     "shell.execute_reply": "2024-06-17T09:31:53.469310Z",
     "shell.execute_reply.started": "2024-06-17T09:31:53.459857Z"
    },
    "tags": []
   },
   "outputs": [],
   "source": [
    "def get_data_MIMIC(sql):\n",
    "    conn = psycopg2.connect(database=\"mimiciv2_2\",user=\"postgres\",\n",
    "                           password=\"postgres\",\n",
    "                            host=\"10.245.99.98\",\n",
    "                            #ost=\"172.16.2.76\",\n",
    "                            port=\"5433\")\n",
    "    cur = conn.cursor()\n",
    "    try:\n",
    "        cur.execute(sql)\n",
    "        #获取表的所有字段名称\n",
    "        coloumns = [row[0] for row in cur.description]\n",
    "        result = [[str(item) for item in row] for row in cur.fetchall()]\n",
    "        return pd.DataFrame(result,columns=coloumns)\n",
    "    except Exception as ex:\n",
    "        print(ex)\n",
    "    finally:\n",
    "        conn.close()"
   ]
  },
  {
   "cell_type": "code",
   "execution_count": 58,
   "id": "d8347eac-c30a-4c14-a3c8-6f2773b5e9a0",
   "metadata": {
    "ExecuteTime": {
     "end_time": "2022-02-04T13:04:16.816006Z",
     "start_time": "2022-02-04T13:04:15.468832Z"
    },
    "execution": {
     "iopub.execute_input": "2024-06-17T09:31:54.065837Z",
     "iopub.status.busy": "2024-06-17T09:31:54.065315Z",
     "iopub.status.idle": "2024-06-17T09:31:55.434178Z",
     "shell.execute_reply": "2024-06-17T09:31:55.432811Z",
     "shell.execute_reply.started": "2024-06-17T09:31:54.065790Z"
    },
    "tags": []
   },
   "outputs": [],
   "source": [
    "to_cal_actual_year_df = get_data_MIMIC(\n",
    "'''select  pat.subject_id,hadm_id,stay_id, anchor_year, anchor_year_group, intime\n",
    "from mimiciv_hosp.patients pat\n",
    "inner join mimiciv_icu.icustays ide\n",
    "on pat.subject_id = ide.subject_id\n",
    "''')"
   ]
  },
  {
   "cell_type": "code",
   "execution_count": 59,
   "id": "f529e6ea-ea1d-434b-b0a9-8031ebab8adf",
   "metadata": {
    "ExecuteTime": {
     "end_time": "2022-02-04T13:04:17.467005Z",
     "start_time": "2022-02-04T13:04:16.818999Z"
    },
    "execution": {
     "iopub.execute_input": "2024-06-17T09:31:55.447870Z",
     "iopub.status.busy": "2024-06-17T09:31:55.447716Z",
     "iopub.status.idle": "2024-06-17T09:31:55.658607Z",
     "shell.execute_reply": "2024-06-17T09:31:55.658058Z",
     "shell.execute_reply.started": "2024-06-17T09:31:55.447856Z"
    },
    "tags": []
   },
   "outputs": [],
   "source": [
    "to_cal_actual_year_df['anchor_year_start'] = to_cal_actual_year_df['anchor_year_group'].apply(lambda x: int(x.split(' - ')[0]))\n",
    "to_cal_actual_year_df['anchor_year_end'] = to_cal_actual_year_df['anchor_year_group'].apply(lambda x: int(x.split(' - ')[1]))\n",
    "\n",
    "to_cal_actual_year_df['admityear'] = pd.to_datetime(to_cal_actual_year_df['intime']).apply(lambda x: x.year)"
   ]
  },
  {
   "cell_type": "code",
   "execution_count": 60,
   "id": "bb9cfbe1-f9d4-484a-9a82-e77a865f0cf0",
   "metadata": {
    "ExecuteTime": {
     "end_time": "2022-02-04T13:04:17.498998Z",
     "start_time": "2022-02-04T13:04:17.469000Z"
    },
    "execution": {
     "iopub.execute_input": "2024-06-17T09:31:56.175995Z",
     "iopub.status.busy": "2024-06-17T09:31:56.175545Z",
     "iopub.status.idle": "2024-06-17T09:31:56.189306Z",
     "shell.execute_reply": "2024-06-17T09:31:56.188388Z",
     "shell.execute_reply.started": "2024-06-17T09:31:56.175966Z"
    },
    "tags": []
   },
   "outputs": [
    {
     "data": {
      "text/html": [
       "<div>\n",
       "<style scoped>\n",
       "    .dataframe tbody tr th:only-of-type {\n",
       "        vertical-align: middle;\n",
       "    }\n",
       "\n",
       "    .dataframe tbody tr th {\n",
       "        vertical-align: top;\n",
       "    }\n",
       "\n",
       "    .dataframe thead th {\n",
       "        text-align: right;\n",
       "    }\n",
       "</style>\n",
       "<table border=\"1\" class=\"dataframe\">\n",
       "  <thead>\n",
       "    <tr style=\"text-align: right;\">\n",
       "      <th></th>\n",
       "      <th>subject_id</th>\n",
       "      <th>hadm_id</th>\n",
       "      <th>stay_id</th>\n",
       "      <th>anchor_year</th>\n",
       "      <th>anchor_year_group</th>\n",
       "      <th>intime</th>\n",
       "      <th>anchor_year_start</th>\n",
       "      <th>anchor_year_end</th>\n",
       "      <th>admityear</th>\n",
       "    </tr>\n",
       "  </thead>\n",
       "  <tbody>\n",
       "    <tr>\n",
       "      <th>0</th>\n",
       "      <td>10001884</td>\n",
       "      <td>26184834</td>\n",
       "      <td>37510196</td>\n",
       "      <td>2122</td>\n",
       "      <td>2008 - 2010</td>\n",
       "      <td>2131-01-11 04:20:05</td>\n",
       "      <td>2008</td>\n",
       "      <td>2010</td>\n",
       "      <td>2131</td>\n",
       "    </tr>\n",
       "    <tr>\n",
       "      <th>1</th>\n",
       "      <td>10005348</td>\n",
       "      <td>25239799</td>\n",
       "      <td>34629895</td>\n",
       "      <td>2128</td>\n",
       "      <td>2011 - 2013</td>\n",
       "      <td>2130-10-27 12:06:00</td>\n",
       "      <td>2011</td>\n",
       "      <td>2013</td>\n",
       "      <td>2130</td>\n",
       "    </tr>\n",
       "    <tr>\n",
       "      <th>2</th>\n",
       "      <td>10005909</td>\n",
       "      <td>20199380</td>\n",
       "      <td>36496303</td>\n",
       "      <td>2144</td>\n",
       "      <td>2014 - 2016</td>\n",
       "      <td>2144-10-29 23:09:03</td>\n",
       "      <td>2014</td>\n",
       "      <td>2016</td>\n",
       "      <td>2144</td>\n",
       "    </tr>\n",
       "    <tr>\n",
       "      <th>3</th>\n",
       "      <td>10006580</td>\n",
       "      <td>24159665</td>\n",
       "      <td>38329661</td>\n",
       "      <td>2137</td>\n",
       "      <td>2014 - 2016</td>\n",
       "      <td>2137-08-10 16:23:10</td>\n",
       "      <td>2014</td>\n",
       "      <td>2016</td>\n",
       "      <td>2137</td>\n",
       "    </tr>\n",
       "    <tr>\n",
       "      <th>4</th>\n",
       "      <td>10018928</td>\n",
       "      <td>22523751</td>\n",
       "      <td>35050109</td>\n",
       "      <td>2125</td>\n",
       "      <td>2008 - 2010</td>\n",
       "      <td>2125-02-27 10:42:00</td>\n",
       "      <td>2008</td>\n",
       "      <td>2010</td>\n",
       "      <td>2125</td>\n",
       "    </tr>\n",
       "    <tr>\n",
       "      <th>...</th>\n",
       "      <td>...</td>\n",
       "      <td>...</td>\n",
       "      <td>...</td>\n",
       "      <td>...</td>\n",
       "      <td>...</td>\n",
       "      <td>...</td>\n",
       "      <td>...</td>\n",
       "      <td>...</td>\n",
       "      <td>...</td>\n",
       "    </tr>\n",
       "    <tr>\n",
       "      <th>73176</th>\n",
       "      <td>19991135</td>\n",
       "      <td>24563775</td>\n",
       "      <td>33094484</td>\n",
       "      <td>2124</td>\n",
       "      <td>2008 - 2010</td>\n",
       "      <td>2133-02-06 10:02:26</td>\n",
       "      <td>2008</td>\n",
       "      <td>2010</td>\n",
       "      <td>2133</td>\n",
       "    </tr>\n",
       "    <tr>\n",
       "      <th>73177</th>\n",
       "      <td>19991135</td>\n",
       "      <td>29872770</td>\n",
       "      <td>33242276</td>\n",
       "      <td>2124</td>\n",
       "      <td>2008 - 2010</td>\n",
       "      <td>2133-07-07 08:15:48</td>\n",
       "      <td>2008</td>\n",
       "      <td>2010</td>\n",
       "      <td>2133</td>\n",
       "    </tr>\n",
       "    <tr>\n",
       "      <th>73178</th>\n",
       "      <td>19992202</td>\n",
       "      <td>20329411</td>\n",
       "      <td>36409124</td>\n",
       "      <td>2153</td>\n",
       "      <td>2014 - 2016</td>\n",
       "      <td>2153-02-26 20:47:12</td>\n",
       "      <td>2014</td>\n",
       "      <td>2016</td>\n",
       "      <td>2153</td>\n",
       "    </tr>\n",
       "    <tr>\n",
       "      <th>73179</th>\n",
       "      <td>19997448</td>\n",
       "      <td>23560173</td>\n",
       "      <td>33380030</td>\n",
       "      <td>2121</td>\n",
       "      <td>2014 - 2016</td>\n",
       "      <td>2122-07-23 10:35:21</td>\n",
       "      <td>2014</td>\n",
       "      <td>2016</td>\n",
       "      <td>2122</td>\n",
       "    </tr>\n",
       "    <tr>\n",
       "      <th>73180</th>\n",
       "      <td>19997448</td>\n",
       "      <td>23560173</td>\n",
       "      <td>38134381</td>\n",
       "      <td>2121</td>\n",
       "      <td>2014 - 2016</td>\n",
       "      <td>2122-07-27 02:53:13</td>\n",
       "      <td>2014</td>\n",
       "      <td>2016</td>\n",
       "      <td>2122</td>\n",
       "    </tr>\n",
       "  </tbody>\n",
       "</table>\n",
       "<p>73181 rows × 9 columns</p>\n",
       "</div>"
      ],
      "text/plain": [
       "      subject_id   hadm_id   stay_id anchor_year anchor_year_group  \\\n",
       "0       10001884  26184834  37510196        2122       2008 - 2010   \n",
       "1       10005348  25239799  34629895        2128       2011 - 2013   \n",
       "2       10005909  20199380  36496303        2144       2014 - 2016   \n",
       "3       10006580  24159665  38329661        2137       2014 - 2016   \n",
       "4       10018928  22523751  35050109        2125       2008 - 2010   \n",
       "...          ...       ...       ...         ...               ...   \n",
       "73176   19991135  24563775  33094484        2124       2008 - 2010   \n",
       "73177   19991135  29872770  33242276        2124       2008 - 2010   \n",
       "73178   19992202  20329411  36409124        2153       2014 - 2016   \n",
       "73179   19997448  23560173  33380030        2121       2014 - 2016   \n",
       "73180   19997448  23560173  38134381        2121       2014 - 2016   \n",
       "\n",
       "                    intime  anchor_year_start  anchor_year_end  admityear  \n",
       "0      2131-01-11 04:20:05               2008             2010       2131  \n",
       "1      2130-10-27 12:06:00               2011             2013       2130  \n",
       "2      2144-10-29 23:09:03               2014             2016       2144  \n",
       "3      2137-08-10 16:23:10               2014             2016       2137  \n",
       "4      2125-02-27 10:42:00               2008             2010       2125  \n",
       "...                    ...                ...              ...        ...  \n",
       "73176  2133-02-06 10:02:26               2008             2010       2133  \n",
       "73177  2133-07-07 08:15:48               2008             2010       2133  \n",
       "73178  2153-02-26 20:47:12               2014             2016       2153  \n",
       "73179  2122-07-23 10:35:21               2014             2016       2122  \n",
       "73180  2122-07-27 02:53:13               2014             2016       2122  \n",
       "\n",
       "[73181 rows x 9 columns]"
      ]
     },
     "execution_count": 60,
     "metadata": {},
     "output_type": "execute_result"
    }
   ],
   "source": [
    "to_cal_actual_year_df"
   ]
  },
  {
   "cell_type": "code",
   "execution_count": 61,
   "id": "942019c6-0ad2-418e-bcd6-fa10ed9c6aa5",
   "metadata": {
    "ExecuteTime": {
     "end_time": "2022-02-04T13:04:17.689999Z",
     "start_time": "2022-02-04T13:04:17.500999Z"
    },
    "execution": {
     "iopub.execute_input": "2024-06-17T09:31:56.762858Z",
     "iopub.status.busy": "2024-06-17T09:31:56.762535Z",
     "iopub.status.idle": "2024-06-17T09:31:56.837871Z",
     "shell.execute_reply": "2024-06-17T09:31:56.836593Z",
     "shell.execute_reply.started": "2024-06-17T09:31:56.762830Z"
    },
    "tags": []
   },
   "outputs": [],
   "source": [
    "to_cal_actual_year_df['actual_year_start'] = to_cal_actual_year_df['admityear'] -  \\\n",
    "                                             to_cal_actual_year_df['anchor_year'].astype(int) + to_cal_actual_year_df['anchor_year_start']\n",
    "\n",
    "to_cal_actual_year_df['actual_year_end'] = to_cal_actual_year_df['admityear'] -  \\\n",
    "                                             to_cal_actual_year_df['anchor_year'].astype(int) + to_cal_actual_year_df['anchor_year_end']\n",
    "\n",
    "to_cal_actual_year_df['actual_year_group'] = to_cal_actual_year_df['actual_year_start'].astype(str) + ' - '\\\n",
    "                                            + to_cal_actual_year_df['actual_year_end'].astype(str)"
   ]
  },
  {
   "cell_type": "code",
   "execution_count": 62,
   "id": "ff80b150-5e5a-4833-a182-dddcf340b792",
   "metadata": {
    "ExecuteTime": {
     "end_time": "2022-02-04T13:04:17.738005Z",
     "start_time": "2022-02-04T13:04:17.693000Z"
    },
    "execution": {
     "iopub.execute_input": "2024-06-17T09:31:57.392066Z",
     "iopub.status.busy": "2024-06-17T09:31:57.391746Z",
     "iopub.status.idle": "2024-06-17T09:31:57.428959Z",
     "shell.execute_reply": "2024-06-17T09:31:57.427463Z",
     "shell.execute_reply.started": "2024-06-17T09:31:57.392036Z"
    },
    "tags": []
   },
   "outputs": [],
   "source": [
    "actual_year_df = to_cal_actual_year_df[['stay_id','actual_year_group']]"
   ]
  },
  {
   "cell_type": "code",
   "execution_count": 63,
   "id": "02bab6c4-df94-405f-a466-f67d182d1c73",
   "metadata": {
    "ExecuteTime": {
     "end_time": "2022-02-04T13:04:17.785004Z",
     "start_time": "2022-02-04T13:04:17.739999Z"
    },
    "execution": {
     "iopub.execute_input": "2024-06-17T09:31:57.959431Z",
     "iopub.status.busy": "2024-06-17T09:31:57.958999Z",
     "iopub.status.idle": "2024-06-17T09:31:57.986954Z",
     "shell.execute_reply": "2024-06-17T09:31:57.986115Z",
     "shell.execute_reply.started": "2024-06-17T09:31:57.959391Z"
    },
    "tags": []
   },
   "outputs": [
    {
     "name": "stderr",
     "output_type": "stream",
     "text": [
      "/tmp/ipykernel_2821004/1820869256.py:10: SettingWithCopyWarning: \n",
      "A value is trying to be set on a copy of a slice from a DataFrame.\n",
      "Try using .loc[row_indexer,col_indexer] = value instead\n",
      "\n",
      "See the caveats in the documentation: https://pandas.pydata.org/pandas-docs/stable/user_guide/indexing.html#returning-a-view-versus-a-copy\n",
      "  df[i] = df[i].astype(float)\n"
     ]
    }
   ],
   "source": [
    "trans_id(actual_year_df)"
   ]
  },
  {
   "cell_type": "code",
   "execution_count": 64,
   "id": "141e5867-7a63-497d-8357-0128847d2a90",
   "metadata": {
    "ExecuteTime": {
     "end_time": "2022-02-04T13:04:17.896999Z",
     "start_time": "2022-02-04T13:04:17.786998Z"
    },
    "execution": {
     "iopub.execute_input": "2024-06-17T09:32:00.527309Z",
     "iopub.status.busy": "2024-06-17T09:32:00.526861Z",
     "iopub.status.idle": "2024-06-17T09:32:00.656594Z",
     "shell.execute_reply": "2024-06-17T09:32:00.655582Z",
     "shell.execute_reply.started": "2024-06-17T09:32:00.527271Z"
    },
    "tags": []
   },
   "outputs": [],
   "source": [
    "cohort_total_acty = pd.merge(cohort_total,actual_year_df, how = 'left', on = ['stay_id'])"
   ]
  },
  {
   "cell_type": "code",
   "execution_count": 65,
   "id": "05264ba6-7efe-439e-b66f-89c041541dd7",
   "metadata": {
    "ExecuteTime": {
     "end_time": "2022-02-04T13:04:18.008001Z",
     "start_time": "2022-02-04T13:04:17.899000Z"
    },
    "execution": {
     "iopub.execute_input": "2024-06-17T09:32:01.287373Z",
     "iopub.status.busy": "2024-06-17T09:32:01.286949Z",
     "iopub.status.idle": "2024-06-17T09:32:01.394105Z",
     "shell.execute_reply": "2024-06-17T09:32:01.393358Z",
     "shell.execute_reply.started": "2024-06-17T09:32:01.287334Z"
    },
    "tags": []
   },
   "outputs": [
    {
     "data": {
      "text/html": [
       "<div>\n",
       "<style scoped>\n",
       "    .dataframe tbody tr th:only-of-type {\n",
       "        vertical-align: middle;\n",
       "    }\n",
       "\n",
       "    .dataframe tbody tr th {\n",
       "        vertical-align: top;\n",
       "    }\n",
       "\n",
       "    .dataframe thead tr th {\n",
       "        text-align: left;\n",
       "    }\n",
       "\n",
       "    .dataframe thead tr:last-of-type th {\n",
       "        text-align: right;\n",
       "    }\n",
       "</style>\n",
       "<table border=\"1\" class=\"dataframe\">\n",
       "  <thead>\n",
       "    <tr>\n",
       "      <th></th>\n",
       "      <th>count</th>\n",
       "      <th>mean</th>\n",
       "    </tr>\n",
       "    <tr>\n",
       "      <th></th>\n",
       "      <th>stay_chart_included_mdr</th>\n",
       "      <th>stay_chart_included_mdr</th>\n",
       "    </tr>\n",
       "    <tr>\n",
       "      <th>actual_year_group</th>\n",
       "      <th></th>\n",
       "      <th></th>\n",
       "    </tr>\n",
       "  </thead>\n",
       "  <tbody>\n",
       "    <tr>\n",
       "      <th>2008 - 2010</th>\n",
       "      <td>7279</td>\n",
       "      <td>0.079132</td>\n",
       "    </tr>\n",
       "    <tr>\n",
       "      <th>2009 - 2011</th>\n",
       "      <td>2096</td>\n",
       "      <td>0.134065</td>\n",
       "    </tr>\n",
       "    <tr>\n",
       "      <th>2010 - 2012</th>\n",
       "      <td>1582</td>\n",
       "      <td>0.127054</td>\n",
       "    </tr>\n",
       "    <tr>\n",
       "      <th>2011 - 2013</th>\n",
       "      <td>9297</td>\n",
       "      <td>0.077875</td>\n",
       "    </tr>\n",
       "    <tr>\n",
       "      <th>2012 - 2014</th>\n",
       "      <td>2408</td>\n",
       "      <td>0.111711</td>\n",
       "    </tr>\n",
       "    <tr>\n",
       "      <th>2013 - 2015</th>\n",
       "      <td>1688</td>\n",
       "      <td>0.096564</td>\n",
       "    </tr>\n",
       "    <tr>\n",
       "      <th>2014 - 2016</th>\n",
       "      <td>9453</td>\n",
       "      <td>0.063472</td>\n",
       "    </tr>\n",
       "    <tr>\n",
       "      <th>2015 - 2017</th>\n",
       "      <td>2349</td>\n",
       "      <td>0.098765</td>\n",
       "    </tr>\n",
       "    <tr>\n",
       "      <th>2016 - 2018</th>\n",
       "      <td>1732</td>\n",
       "      <td>0.091801</td>\n",
       "    </tr>\n",
       "    <tr>\n",
       "      <th>2017 - 2019</th>\n",
       "      <td>7404</td>\n",
       "      <td>0.048892</td>\n",
       "    </tr>\n",
       "    <tr>\n",
       "      <th>2018 - 2020</th>\n",
       "      <td>1637</td>\n",
       "      <td>0.089798</td>\n",
       "    </tr>\n",
       "    <tr>\n",
       "      <th>2019 - 2021</th>\n",
       "      <td>608</td>\n",
       "      <td>0.097039</td>\n",
       "    </tr>\n",
       "    <tr>\n",
       "      <th>2020 - 2022</th>\n",
       "      <td>119</td>\n",
       "      <td>0.075630</td>\n",
       "    </tr>\n",
       "  </tbody>\n",
       "</table>\n",
       "</div>"
      ],
      "text/plain": [
       "                                    count                    mean\n",
       "                  stay_chart_included_mdr stay_chart_included_mdr\n",
       "actual_year_group                                                \n",
       "2008 - 2010                          7279                0.079132\n",
       "2009 - 2011                          2096                0.134065\n",
       "2010 - 2012                          1582                0.127054\n",
       "2011 - 2013                          9297                0.077875\n",
       "2012 - 2014                          2408                0.111711\n",
       "2013 - 2015                          1688                0.096564\n",
       "2014 - 2016                          9453                0.063472\n",
       "2015 - 2017                          2349                0.098765\n",
       "2016 - 2018                          1732                0.091801\n",
       "2017 - 2019                          7404                0.048892\n",
       "2018 - 2020                          1637                0.089798\n",
       "2019 - 2021                           608                0.097039\n",
       "2020 - 2022                           119                0.075630"
      ]
     },
     "execution_count": 65,
     "metadata": {},
     "output_type": "execute_result"
    }
   ],
   "source": [
    "pd.pivot_table(data = cohort_total_acty,values='stay_chart_included_mdr',index = ['actual_year_group'],aggfunc= ['count','mean'])"
   ]
  },
  {
   "cell_type": "code",
   "execution_count": 66,
   "id": "a73a51b7-883e-4ee4-9d47-53d45008f7ea",
   "metadata": {
    "ExecuteTime": {
     "end_time": "2022-02-04T13:04:18.024001Z",
     "start_time": "2022-02-04T13:04:18.010002Z"
    },
    "execution": {
     "iopub.execute_input": "2024-06-17T09:32:03.411683Z",
     "iopub.status.busy": "2024-06-17T09:32:03.411232Z",
     "iopub.status.idle": "2024-06-17T09:32:03.417321Z",
     "shell.execute_reply": "2024-06-17T09:32:03.416220Z",
     "shell.execute_reply.started": "2024-06-17T09:32:03.411645Z"
    },
    "tags": []
   },
   "outputs": [],
   "source": [
    "float_list = [x for x in cohort_total_acty.columns.to_list() if x not in ['gender','race','last_careunit','actual_year_group']]"
   ]
  },
  {
   "cell_type": "code",
   "execution_count": 67,
   "id": "f471a9f1-4940-4191-813a-4ff06492b2e0",
   "metadata": {
    "execution": {
     "iopub.execute_input": "2024-06-17T09:32:05.818868Z",
     "iopub.status.busy": "2024-06-17T09:32:05.818401Z",
     "iopub.status.idle": "2024-06-17T09:32:08.108000Z",
     "shell.execute_reply": "2024-06-17T09:32:08.107023Z",
     "shell.execute_reply.started": "2024-06-17T09:32:05.818826Z"
    },
    "tags": []
   },
   "outputs": [
    {
     "name": "stdout",
     "output_type": "stream",
     "text": [
      "Attempting to convert columns to float:\n",
      "Conversion completed.\n"
     ]
    }
   ],
   "source": [
    "# 打印出尝试转换的列名\n",
    "print(\"Attempting to convert columns to float:\")\n",
    "\n",
    "for col in float_list:\n",
    "    try:\n",
    "        # 尝试将该列转换为浮点数\n",
    "        cohort_total_acty[col] = cohort_total_acty[col].astype(float)\n",
    "    except ValueError as e:\n",
    "        # 如果转换失败，打印列名和错误信息\n",
    "        print(f\"Error converting column {col} to float: {e}\")\n",
    "\n",
    "print(\"Conversion completed.\")\n"
   ]
  },
  {
   "cell_type": "code",
   "execution_count": 68,
   "id": "b363838e-f0cd-4ca5-bb3e-30d369fde5df",
   "metadata": {
    "execution": {
     "iopub.execute_input": "2024-06-17T09:32:11.757640Z",
     "iopub.status.busy": "2024-06-17T09:32:11.757060Z",
     "iopub.status.idle": "2024-06-17T09:32:11.766763Z",
     "shell.execute_reply": "2024-06-17T09:32:11.765970Z",
     "shell.execute_reply.started": "2024-06-17T09:32:11.757589Z"
    },
    "tags": []
   },
   "outputs": [],
   "source": [
    "labs_var = [\n",
    "    'albumin', 'globulin', 'total_protein', 'aniongap', 'bicarbonate',\n",
    "    'bun', 'calcium', 'chloride', 'creatinine', 'glucose', 'sodium',\n",
    "    'potassium', 'so2', 'po2', 'pco2', 'fio2_chartevents', 'fio2', 'aado2',\n",
    "    'aado2_calc', 'pao2fio2ratio', 'ph', 'baseexcess', 'totalco2',\n",
    "    'carboxyhemoglobin', 'methemoglobin', 'lactate', 'specimen_id',\n",
    "    'basophils_abs', 'eosinophils_abs', 'lymphocytes_abs', 'monocytes_abs',\n",
    "    'neutrophils_abs', 'basophils', 'eosinophils', 'lymphocytes',\n",
    "    'monocytes', 'neutrophils', 'atypical_lymphocytes', 'bands',\n",
    "    'immature_granulocytes', 'metamyelocytes', 'nrbc', 'bleeding_time',\n",
    "    'd_dimer', 'fibrinogen', 'thrombin', 'inr', 'pt', 'ptt', 'hematocrit',\n",
    "    'hemoglobin', 'mch', 'mchc', 'mcv', 'platelet', 'rbc', 'rdw', 'wbc',\n",
    "    'troponin_i', 'troponin_t', 'ck_mb', 'alt', 'alp', 'ast', 'amylase',\n",
    "    'bilirubin_total', 'bilirubin_direct', 'bilirubin_indirect', 'ck_cpk',\n",
    "    'ggt', 'ld_ldh', 'heart_rate', 'spo2', 'sbp', 'dbp', 'mbp', 'resp_rate',\n",
    "    'temperature', \n",
    "    'crp', 'ck', 'ntprobnp', 'mg', 'mpv', 'phosphate'\n",
    "]\n"
   ]
  },
  {
   "cell_type": "code",
   "execution_count": 69,
   "id": "36cc6c29-5ca1-4658-b3ab-61375e48102c",
   "metadata": {
    "execution": {
     "iopub.execute_input": "2024-06-17T09:32:15.486302Z",
     "iopub.status.busy": "2024-06-17T09:32:15.485884Z",
     "iopub.status.idle": "2024-06-17T09:32:15.586806Z",
     "shell.execute_reply": "2024-06-17T09:32:15.586052Z",
     "shell.execute_reply.started": "2024-06-17T09:32:15.486263Z"
    },
    "tags": []
   },
   "outputs": [
    {
     "data": {
      "text/plain": [
       "mpv                       0.000000\n",
       "troponin_i                0.000000\n",
       "thrombin                  0.249727\n",
       "d_dimer                   0.302191\n",
       "methemoglobin             0.411315\n",
       "carboxyhemoglobin         0.478469\n",
       "ggt                       0.982120\n",
       "globulin                  1.949551\n",
       "total_protein             3.200285\n",
       "crp                       3.330395\n",
       "aado2                     4.427936\n",
       "nrbc                      5.389071\n",
       "bilirubin_indirect        6.110971\n",
       "bilirubin_direct          6.337614\n",
       "amylase                   9.185344\n",
       "fio2                      9.487535\n",
       "so2                       9.596659\n",
       "ntprobnp                 13.560816\n",
       "atypical_lymphocytes     14.668849\n",
       "metamyelocytes           14.912281\n",
       "fio2_chartevents         15.313103\n",
       "bands                    15.925879\n",
       "pao2fio2ratio            20.765131\n",
       "aado2_calc               20.765131\n",
       "immature_granulocytes    23.428188\n",
       "troponin_t               27.291614\n",
       "fibrinogen               29.098464\n",
       "bleeding_time            30.017628\n",
       "ck_mb                    33.520104\n",
       "lactate                  35.261899\n",
       "ck_cpk                   36.292286\n",
       "ck                       36.292286\n",
       "ld_ldh                   37.117015\n",
       "albumin                  52.207672\n",
       "ph                       54.807773\n",
       "totalco2                 54.807773\n",
       "pco2                     54.807773\n",
       "po2                      54.809872\n",
       "baseexcess               54.809872\n",
       "bilirubin_total          63.101234\n",
       "alp                      63.246034\n",
       "alt                      63.478973\n",
       "ast                      63.789558\n",
       "eosinophils              73.230924\n",
       "monocytes_abs            73.233023\n",
       "neutrophils_abs          73.233023\n",
       "basophils                73.233023\n",
       "neutrophils              73.233023\n",
       "monocytes                73.233023\n",
       "eosinophils_abs          73.233023\n",
       "basophils_abs            73.233023\n",
       "lymphocytes              73.300176\n",
       "lymphocytes_abs          73.300176\n",
       "specimen_id              73.300176\n",
       "ptt                      93.523881\n",
       "pt                       93.933098\n",
       "inr                      93.935197\n",
       "calcium                  93.962478\n",
       "phosphate                94.031730\n",
       "temperature              96.617141\n",
       "dtype: float64"
      ]
     },
     "execution_count": 69,
     "metadata": {},
     "output_type": "execute_result"
    }
   ],
   "source": [
    "(100-pd.isna(cohort_total_acty[labs_var]).sum()*100/data.shape[0]).sort_values()[:60]"
   ]
  },
  {
   "cell_type": "code",
   "execution_count": 70,
   "id": "c0347cd0-fa54-4ebd-9b8b-aaee3e015ccc",
   "metadata": {
    "execution": {
     "iopub.execute_input": "2024-06-17T09:32:18.065383Z",
     "iopub.status.busy": "2024-06-17T09:32:18.064810Z",
     "iopub.status.idle": "2024-06-17T09:32:18.089609Z",
     "shell.execute_reply": "2024-06-17T09:32:18.088967Z",
     "shell.execute_reply.started": "2024-06-17T09:32:18.065347Z"
    },
    "tags": []
   },
   "outputs": [
    {
     "data": {
      "text/plain": [
       "mg             97.236213\n",
       "resp_rate      99.582389\n",
       "dbp            99.599177\n",
       "sbp            99.611769\n",
       "mbp            99.725090\n",
       "aniongap       99.760766\n",
       "potassium      99.817426\n",
       "bicarbonate    99.838412\n",
       "spo2           99.842609\n",
       "heart_rate     99.861496\n",
       "rdw            99.867791\n",
       "mch            99.878284\n",
       "mchc           99.886678\n",
       "mcv            99.888777\n",
       "rbc            99.890876\n",
       "hemoglobin     99.892974\n",
       "wbc            99.899270\n",
       "platelet       99.903467\n",
       "creatinine     99.911861\n",
       "bun            99.916058\n",
       "glucose        99.916058\n",
       "hematocrit     99.918157\n",
       "sodium         99.922354\n",
       "chloride       99.922354\n",
       "dtype: float64"
      ]
     },
     "execution_count": 70,
     "metadata": {},
     "output_type": "execute_result"
    }
   ],
   "source": [
    "#于此处查看缺失值\n",
    "\n",
    "(100-pd.isna(cohort_total_acty[labs_var]).sum()*100/data.shape[0]).sort_values()[60:90]"
   ]
  },
  {
   "cell_type": "code",
   "execution_count": 78,
   "id": "b33fff03-f08a-48c1-b7c9-0ac75e9dcbc4",
   "metadata": {
    "execution": {
     "iopub.execute_input": "2024-06-17T09:58:26.547036Z",
     "iopub.status.busy": "2024-06-17T09:58:26.546446Z",
     "iopub.status.idle": "2024-06-17T09:58:26.590341Z",
     "shell.execute_reply": "2024-06-17T09:58:26.589617Z",
     "shell.execute_reply.started": "2024-06-17T09:58:26.546985Z"
    },
    "tags": []
   },
   "outputs": [
    {
     "data": {
      "text/plain": [
       "mpv                       0.000000\n",
       "troponin_i                0.000000\n",
       "thrombin                  0.249727\n",
       "d_dimer                   0.302191\n",
       "methemoglobin             0.411315\n",
       "carboxyhemoglobin         0.478469\n",
       "ggt                       0.982120\n",
       "globulin                  1.949551\n",
       "total_protein             3.200285\n",
       "crp                       3.330395\n",
       "aado2                     4.427936\n",
       "nrbc                      5.389071\n",
       "bilirubin_indirect        6.110971\n",
       "bilirubin_direct          6.337614\n",
       "amylase                   9.185344\n",
       "fio2                      9.487535\n",
       "so2                       9.596659\n",
       "ntprobnp                 13.560816\n",
       "atypical_lymphocytes     14.668849\n",
       "metamyelocytes           14.912281\n",
       "fio2_chartevents         15.313103\n",
       "bands                    15.925879\n",
       "pao2fio2ratio            20.765131\n",
       "aado2_calc               20.765131\n",
       "immature_granulocytes    23.428188\n",
       "troponin_t               27.291614\n",
       "fibrinogen               29.098464\n",
       "bleeding_time            30.017628\n",
       "ck_mb                    33.520104\n",
       "lactate                  35.261899\n",
       "ck                       36.292286\n",
       "ck_cpk                   36.292286\n",
       "ld_ldh                   37.117015\n",
       "albumin                  52.207672\n",
       "ph                       54.807773\n",
       "totalco2                 54.807773\n",
       "pco2                     54.807773\n",
       "po2                      54.809872\n",
       "baseexcess               54.809872\n",
       "bilirubin_total          63.101234\n",
       "alp                      63.246034\n",
       "alt                      63.478973\n",
       "ast                      63.789558\n",
       "eosinophils              73.230924\n",
       "eosinophils_abs          73.233023\n",
       "neutrophils_abs          73.233023\n",
       "basophils                73.233023\n",
       "monocytes                73.233023\n",
       "neutrophils              73.233023\n",
       "basophils_abs            73.233023\n",
       "dtype: float64"
      ]
     },
     "execution_count": 78,
     "metadata": {},
     "output_type": "execute_result"
    }
   ],
   "source": [
    "(100-pd.isna(cohort_total_acty).sum()*100/data.shape[0]).sort_values()[0:50]"
   ]
  },
  {
   "cell_type": "code",
   "execution_count": 81,
   "id": "b1f3b19d-62ca-43bb-b477-6323f8e53f92",
   "metadata": {
    "execution": {
     "iopub.execute_input": "2024-06-17T10:00:05.847634Z",
     "iopub.status.busy": "2024-06-17T10:00:05.847026Z",
     "iopub.status.idle": "2024-06-17T10:00:05.899616Z",
     "shell.execute_reply": "2024-06-17T10:00:05.898646Z",
     "shell.execute_reply.started": "2024-06-17T10:00:05.847581Z"
    },
    "tags": []
   },
   "outputs": [],
   "source": [
    "MISSLOOKUP = cohort_total_acty.copy()"
   ]
  },
  {
   "cell_type": "code",
   "execution_count": 82,
   "id": "f444afe3-c7e7-4be6-83ee-73132c0be2f2",
   "metadata": {
    "execution": {
     "iopub.execute_input": "2024-06-17T10:00:20.725261Z",
     "iopub.status.busy": "2024-06-17T10:00:20.724592Z",
     "iopub.status.idle": "2024-06-17T10:00:20.781833Z",
     "shell.execute_reply": "2024-06-17T10:00:20.780827Z",
     "shell.execute_reply.started": "2024-06-17T10:00:20.725205Z"
    }
   },
   "outputs": [],
   "source": [
    "MISSLOOKUP['lymphocytes_abs'] = MISSLOOKUP['lymphocytes_abs'].replace(0, 0.001)\n",
    "MISSLOOKUP['RPR'] = MISSLOOKUP['rdw']/MISSLOOKUP['platelet']\n",
    "MISSLOOKUP['NLR'] = MISSLOOKUP['neutrophils_abs']/MISSLOOKUP['lymphocytes_abs']\n",
    "MISSLOOKUP['shock_index'] = MISSLOOKUP['heart_rate']/MISSLOOKUP['sbp']"
   ]
  },
  {
   "cell_type": "code",
   "execution_count": 110,
   "id": "5b0881ea-cdb3-4959-a9f9-e38b8e2b6882",
   "metadata": {
    "execution": {
     "iopub.execute_input": "2024-06-17T10:27:34.072684Z",
     "iopub.status.busy": "2024-06-17T10:27:34.072128Z",
     "iopub.status.idle": "2024-06-17T10:27:34.081448Z",
     "shell.execute_reply": "2024-06-17T10:27:34.080672Z",
     "shell.execute_reply.started": "2024-06-17T10:27:34.072634Z"
    },
    "tags": []
   },
   "outputs": [
    {
     "data": {
      "text/plain": [
       "48.493242676068164"
      ]
     },
     "execution_count": 110,
     "metadata": {},
     "output_type": "execute_result"
    }
   ],
   "source": [
    "(pd.isna(data['height']/(data['weight']*data['weight'])).sum()*100/data.shape[0])"
   ]
  },
  {
   "cell_type": "code",
   "execution_count": 104,
   "id": "e464a26f-ec38-47c9-a0ab-637db4b59f18",
   "metadata": {
    "execution": {
     "iopub.execute_input": "2024-06-17T10:25:34.737106Z",
     "iopub.status.busy": "2024-06-17T10:25:34.736475Z",
     "iopub.status.idle": "2024-06-17T10:25:34.747701Z",
     "shell.execute_reply": "2024-06-17T10:25:34.746900Z",
     "shell.execute_reply.started": "2024-06-17T10:25:34.737052Z"
    },
    "tags": []
   },
   "outputs": [
    {
     "data": {
      "text/plain": [
       "height    51.727105\n",
       "weight    98.029464\n",
       "dtype: float64"
      ]
     },
     "execution_count": 104,
     "metadata": {},
     "output_type": "execute_result"
    }
   ],
   "source": [
    "(100-pd.isna(data[['weight','height']]).sum()*100/data.shape[0]).sort_values()[0:50]"
   ]
  },
  {
   "cell_type": "code",
   "execution_count": 85,
   "id": "9593ce12-148d-42a5-b43e-9acd272d9f1d",
   "metadata": {
    "execution": {
     "iopub.execute_input": "2024-06-17T10:01:07.937753Z",
     "iopub.status.busy": "2024-06-17T10:01:07.937194Z",
     "iopub.status.idle": "2024-06-17T10:01:07.956003Z",
     "shell.execute_reply": "2024-06-17T10:01:07.955379Z",
     "shell.execute_reply.started": "2024-06-17T10:01:07.937704Z"
    },
    "tags": []
   },
   "outputs": [],
   "source": [
    "labs_co = cohort_total_acty[labs_var]"
   ]
  },
  {
   "cell_type": "code",
   "execution_count": 87,
   "id": "3e270e32-6826-430f-a69d-67a7fd629f8a",
   "metadata": {
    "execution": {
     "iopub.execute_input": "2024-06-13T08:26:12.139850Z",
     "iopub.status.busy": "2024-06-13T08:26:12.139302Z",
     "iopub.status.idle": "2024-06-13T08:26:12.153777Z",
     "shell.execute_reply": "2024-06-13T08:26:12.153031Z",
     "shell.execute_reply.started": "2024-06-13T08:26:12.139799Z"
    },
    "tags": []
   },
   "outputs": [
    {
     "name": "stdout",
     "output_type": "stream",
     "text": [
      "Columns with more than 30% missing values: ['albumin', 'globulin', 'total_protein', 'so2', 'po2', 'pco2', 'fio2_chartevents', 'fio2', 'aado2', 'aado2_calc', 'pao2fio2ratio', 'ph', 'baseexcess', 'totalco2', 'carboxyhemoglobin', 'methemoglobin', 'lactate', 'atypical_lymphocytes', 'bands', 'immature_granulocytes', 'metamyelocytes', 'nrbc', 'bleeding_time', 'd_dimer', 'fibrinogen', 'thrombin', 'troponin_i', 'troponin_t', 'ck_mb', 'alt', 'alp', 'ast', 'amylase', 'bilirubin_total', 'bilirubin_direct', 'bilirubin_indirect', 'ck_cpk', 'ggt', 'ld_ldh', 'crp', 'ck', 'ntprobnp', 'mpv']\n"
     ]
    }
   ],
   "source": [
    "# 计算每列中缺失值的百分比\n",
    "missing_percentage = labs_co.isna().mean() * 100\n",
    "\n",
    "# 找出缺失值大于 30% 的列名\n",
    "columns_with_missing = missing_percentage[missing_percentage > 30].index.tolist()\n",
    "\n",
    "print(\"Columns with more than 30% missing values:\", columns_with_missing)"
   ]
  },
  {
   "cell_type": "code",
   "execution_count": 88,
   "id": "dd90c4d2-60bc-47d6-bede-472be3e3b014",
   "metadata": {
    "execution": {
     "iopub.execute_input": "2024-06-13T08:26:12.854462Z",
     "iopub.status.busy": "2024-06-13T08:26:12.853933Z",
     "iopub.status.idle": "2024-06-13T08:26:12.861126Z",
     "shell.execute_reply": "2024-06-13T08:26:12.859688Z",
     "shell.execute_reply.started": "2024-06-13T08:26:12.854413Z"
    },
    "tags": []
   },
   "outputs": [],
   "source": [
    "labs_use_col = [i for i in labs_co.columns if i not in columns_with_missing]"
   ]
  },
  {
   "cell_type": "code",
   "execution_count": 89,
   "id": "2fa1247a-e08e-4cc8-a6e5-f2fcc6822e62",
   "metadata": {
    "execution": {
     "iopub.execute_input": "2024-06-13T08:26:13.370270Z",
     "iopub.status.busy": "2024-06-13T08:26:13.369742Z",
     "iopub.status.idle": "2024-06-13T08:26:13.376066Z",
     "shell.execute_reply": "2024-06-13T08:26:13.375259Z",
     "shell.execute_reply.started": "2024-06-13T08:26:13.370221Z"
    },
    "tags": []
   },
   "outputs": [],
   "source": [
    "labs_use_col = ['aniongap',\n",
    " 'bicarbonate',\n",
    " 'bun',\n",
    " 'calcium',\n",
    " 'chloride',\n",
    " 'creatinine',\n",
    " 'glucose',\n",
    " 'sodium',\n",
    " 'potassium',\n",
    " 'basophils_abs',\n",
    " 'eosinophils_abs',\n",
    " 'lymphocytes_abs',\n",
    " 'monocytes_abs',\n",
    " 'neutrophils_abs',\n",
    " 'basophils',\n",
    " 'eosinophils',\n",
    " 'lymphocytes',\n",
    " 'monocytes',\n",
    " 'neutrophils',\n",
    " 'inr',\n",
    " 'pt',\n",
    " 'ptt',\n",
    " 'hematocrit',\n",
    " 'hemoglobin',\n",
    " 'mch',\n",
    " 'mchc',\n",
    " 'mcv',\n",
    " 'platelet',\n",
    " 'rbc',\n",
    " 'rdw',\n",
    " 'wbc',\n",
    " 'heart_rate',\n",
    " 'spo2',\n",
    " 'sbp',\n",
    " 'dbp',\n",
    " 'mbp',\n",
    " 'resp_rate',\n",
    " 'temperature',\n",
    " 'mg',\n",
    " 'phosphate']"
   ]
  },
  {
   "cell_type": "code",
   "execution_count": 90,
   "id": "aa88cb53-eb29-45e6-8d1d-65c10d30c2ab",
   "metadata": {
    "execution": {
     "iopub.execute_input": "2024-06-13T08:26:14.013891Z",
     "iopub.status.busy": "2024-06-13T08:26:14.013323Z",
     "iopub.status.idle": "2024-06-13T08:26:14.021984Z",
     "shell.execute_reply": "2024-06-13T08:26:14.021149Z",
     "shell.execute_reply.started": "2024-06-13T08:26:14.013839Z"
    }
   },
   "outputs": [
    {
     "data": {
      "text/plain": [
       "['stay_id',\n",
       " 'calcium',\n",
       " 'aniongap',\n",
       " 'potassium',\n",
       " 'bicarbonate',\n",
       " 'glucose',\n",
       " 'bun',\n",
       " 'sodium',\n",
       " 'chloride',\n",
       " 'creatinine',\n",
       " 'pco2',\n",
       " 'po2',\n",
       " 'totalco2',\n",
       " 'baseexcess',\n",
       " 'ph',\n",
       " 'lactate',\n",
       " 'eosinophils',\n",
       " 'monocytes_abs',\n",
       " 'neutrophils_abs',\n",
       " 'basophils',\n",
       " 'monocytes',\n",
       " 'neutrophils',\n",
       " 'eosinophils_abs',\n",
       " 'basophils_abs',\n",
       " 'lymphocytes',\n",
       " 'lymphocytes_abs',\n",
       " 'ptt',\n",
       " 'pt',\n",
       " 'inr',\n",
       " 'hematocrit',\n",
       " 'hemoglobin',\n",
       " 'mch',\n",
       " 'mchc',\n",
       " 'mcv',\n",
       " 'platelet',\n",
       " 'rbc',\n",
       " 'rdw',\n",
       " 'wbc',\n",
       " 'heart_rate',\n",
       " 'spo2',\n",
       " 'sbp',\n",
       " 'dbp',\n",
       " 'mbp',\n",
       " 'resp_rate',\n",
       " 'temperature']"
      ]
     },
     "execution_count": 90,
     "metadata": {},
     "output_type": "execute_result"
    }
   ],
   "source": [
    "['stay_id','calcium',\n",
    " 'aniongap','potassium', 'bicarbonate',\n",
    " 'glucose', 'bun', 'sodium', 'chloride',\n",
    " 'creatinine', 'pco2', 'po2', 'totalco2',\n",
    " 'baseexcess', 'ph', 'lactate', 'eosinophils',\n",
    " 'monocytes_abs', 'neutrophils_abs', 'basophils',\n",
    " 'monocytes', 'neutrophils', 'eosinophils_abs',\n",
    " 'basophils_abs', 'lymphocytes',\n",
    " 'lymphocytes_abs', 'ptt', 'pt', 'inr', 'hematocrit',\n",
    " 'hemoglobin', 'mch', 'mchc', 'mcv', 'platelet',\n",
    " 'rbc', 'rdw', 'wbc', 'heart_rate', 'spo2',\n",
    " 'sbp', 'dbp', 'mbp', 'resp_rate', 'temperature']"
   ]
  },
  {
   "cell_type": "code",
   "execution_count": 91,
   "id": "ba684d77-62cb-46ac-8b35-b38269821d61",
   "metadata": {
    "execution": {
     "iopub.execute_input": "2024-06-13T08:26:14.589026Z",
     "iopub.status.busy": "2024-06-13T08:26:14.588445Z",
     "iopub.status.idle": "2024-06-13T08:26:14.602342Z",
     "shell.execute_reply": "2024-06-13T08:26:14.601375Z",
     "shell.execute_reply.started": "2024-06-13T08:26:14.588975Z"
    },
    "tags": []
   },
   "outputs": [
    {
     "name": "stdout",
     "output_type": "stream",
     "text": [
      "Common elements: ['aniongap', 'bicarbonate', 'bun', 'calcium', 'chloride', 'creatinine', 'glucose', 'sodium', 'potassium', 'basophils_abs', 'eosinophils_abs', 'lymphocytes_abs', 'monocytes_abs', 'neutrophils_abs', 'basophils', 'eosinophils', 'lymphocytes', 'monocytes', 'neutrophils', 'inr', 'pt', 'ptt', 'hematocrit', 'hemoglobin', 'mch', 'mchc', 'mcv', 'platelet', 'rbc', 'rdw', 'wbc', 'heart_rate', 'spo2', 'sbp', 'dbp', 'mbp', 'resp_rate', 'temperature']\n",
      "Unique to list1: ['mg', 'phosphate']\n",
      "Unique to list2: ['pco2', 'po2', 'totalco2', 'baseexcess', 'ph', 'lactate']\n"
     ]
    }
   ],
   "source": [
    "from collections import Counter\n",
    "\n",
    "# 假设 list1 和 list2 是你要比较的两个列表\n",
    "list1 = labs_use_col\n",
    "list2 = ['calcium',\n",
    " 'aniongap','potassium', 'bicarbonate',\n",
    " 'glucose', 'bun', 'sodium', 'chloride',\n",
    " 'creatinine', 'pco2', 'po2', 'totalco2',\n",
    " 'baseexcess', 'ph', 'lactate', 'eosinophils',\n",
    " 'monocytes_abs', 'neutrophils_abs', 'basophils',\n",
    " 'monocytes', 'neutrophils', 'eosinophils_abs',\n",
    " 'basophils_abs', 'lymphocytes',\n",
    " 'lymphocytes_abs', 'ptt', 'pt', 'inr', 'hematocrit',\n",
    " 'hemoglobin', 'mch', 'mchc', 'mcv', 'platelet',\n",
    " 'rbc', 'rdw', 'wbc', 'heart_rate', 'spo2',\n",
    " 'sbp', 'dbp', 'mbp', 'resp_rate', 'temperature']\n",
    "\n",
    "# 使用 Counter 统计元素出现的频率\n",
    "counter1 = Counter(list1)\n",
    "counter2 = Counter(list2)\n",
    "\n",
    "# 找出相同的元素（交集）\n",
    "common_elements = list((counter1 & counter2).elements())\n",
    "\n",
    "# 找出仅在 list1 中的元素（差集）\n",
    "unique_to_list1 = list((counter1 - counter2).elements())\n",
    "\n",
    "# 找出仅在 list2 中的元素（差集）\n",
    "unique_to_list2 = list((counter2 - counter1).elements())\n",
    "\n",
    "# 打印结果\n",
    "print(\"Common elements:\", common_elements)\n",
    "print(\"Unique to list1:\", unique_to_list1)\n",
    "print(\"Unique to list2:\", unique_to_list2)"
   ]
  },
  {
   "cell_type": "code",
   "execution_count": 95,
   "id": "ed4d232f-7c2b-40fa-a313-04edc61a5986",
   "metadata": {
    "execution": {
     "iopub.execute_input": "2024-06-13T08:31:49.190982Z",
     "iopub.status.busy": "2024-06-13T08:31:49.190362Z",
     "iopub.status.idle": "2024-06-13T08:31:49.234616Z",
     "shell.execute_reply": "2024-06-13T08:31:49.233540Z",
     "shell.execute_reply.started": "2024-06-13T08:31:49.190928Z"
    },
    "tags": []
   },
   "outputs": [],
   "source": [
    "cohort_total_actydropcol = cohort_total_acty.drop(columns = columns_with_missing)#.drop(columns = unique_to_list2)"
   ]
  },
  {
   "cell_type": "code",
   "execution_count": 96,
   "id": "49b86f7c-0952-4ece-9061-27bcdbf0a38d",
   "metadata": {
    "execution": {
     "iopub.execute_input": "2024-06-13T08:32:14.082514Z",
     "iopub.status.busy": "2024-06-13T08:32:14.081889Z",
     "iopub.status.idle": "2024-06-13T08:32:14.099470Z",
     "shell.execute_reply": "2024-06-13T08:32:14.098578Z",
     "shell.execute_reply.started": "2024-06-13T08:32:14.082462Z"
    }
   },
   "outputs": [],
   "source": [
    "lab = cohort_total_actydropcol[['stay_id','aniongap', 'bicarbonate', 'bun', 'calcium', \\\n",
    "                   'chloride', 'creatinine', 'glucose', 'sodium', 'potassium',\\\n",
    "                   'basophils_abs', 'eosinophils_abs', 'lymphocytes_abs', 'monocytes_abs',\\\n",
    "                   'neutrophils_abs', 'basophils', 'eosinophils', 'lymphocytes', 'monocytes',\\\n",
    "                   'neutrophils', 'inr', 'pt', 'ptt', 'hematocrit', 'hemoglobin',\\\n",
    "                   'mch', 'mchc', 'mcv', 'platelet', 'rbc', 'rdw', 'wbc',\\\n",
    "                   'heart_rate', 'spo2', 'sbp', 'dbp', 'mbp', 'resp_rate', 'temperature','mg', 'phosphate']]"
   ]
  },
  {
   "cell_type": "code",
   "execution_count": 97,
   "id": "954fa232-b19b-4360-899e-9a044115d883",
   "metadata": {
    "execution": {
     "iopub.execute_input": "2024-06-13T08:32:19.465497Z",
     "iopub.status.busy": "2024-06-13T08:32:19.464429Z",
     "iopub.status.idle": "2024-06-13T08:32:19.471035Z",
     "shell.execute_reply": "2024-06-13T08:32:19.469460Z",
     "shell.execute_reply.started": "2024-06-13T08:32:19.465442Z"
    },
    "tags": []
   },
   "outputs": [],
   "source": [
    "#mdro_tomice = pd.read_csv('mdro_tomice.csv')"
   ]
  },
  {
   "cell_type": "code",
   "execution_count": 98,
   "id": "4450d8be-ec8d-47fd-b074-33f57da171e6",
   "metadata": {
    "execution": {
     "iopub.execute_input": "2024-06-13T08:32:23.789618Z",
     "iopub.status.busy": "2024-06-13T08:32:23.789005Z",
     "iopub.status.idle": "2024-06-13T08:32:23.797247Z",
     "shell.execute_reply": "2024-06-13T08:32:23.796161Z",
     "shell.execute_reply.started": "2024-06-13T08:32:23.789567Z"
    },
    "tags": []
   },
   "outputs": [
    {
     "data": {
      "text/plain": [
       "41"
      ]
     },
     "execution_count": 98,
     "metadata": {},
     "output_type": "execute_result"
    }
   ],
   "source": [
    "len(lab[pd.isna(lab['wbc'])].columns)"
   ]
  },
  {
   "cell_type": "code",
   "execution_count": 101,
   "id": "b5886794-5f11-4eb6-8887-f98a6f617620",
   "metadata": {
    "execution": {
     "iopub.execute_input": "2024-06-13T08:33:05.226019Z",
     "iopub.status.busy": "2024-06-13T08:33:05.225383Z",
     "iopub.status.idle": "2024-06-13T08:33:05.243374Z",
     "shell.execute_reply": "2024-06-13T08:33:05.242073Z",
     "shell.execute_reply.started": "2024-06-13T08:33:05.225966Z"
    },
    "tags": []
   },
   "outputs": [],
   "source": [
    "missing_percent = lab.isnull().mean(axis=1)\n",
    "lab_filtered = lab[missing_percent < 0.2]\n",
    "lab_filtered = lab_filtered[~pd.isna(lab_filtered['wbc'])]"
   ]
  },
  {
   "cell_type": "code",
   "execution_count": 102,
   "id": "e7f4a2b2-76b2-4d6f-a74f-a0cfc3c925eb",
   "metadata": {
    "execution": {
     "iopub.execute_input": "2024-06-13T08:33:06.293006Z",
     "iopub.status.busy": "2024-06-13T08:33:06.292393Z",
     "iopub.status.idle": "2024-06-13T08:33:06.301242Z",
     "shell.execute_reply": "2024-06-13T08:33:06.300263Z",
     "shell.execute_reply.started": "2024-06-13T08:33:06.292951Z"
    },
    "tags": []
   },
   "outputs": [
    {
     "data": {
      "text/plain": [
       "(47652, 41)"
      ]
     },
     "execution_count": 102,
     "metadata": {},
     "output_type": "execute_result"
    }
   ],
   "source": [
    "lab.shape"
   ]
  },
  {
   "cell_type": "code",
   "execution_count": 103,
   "id": "98093b5a-01fc-4353-bf45-228430f43a66",
   "metadata": {
    "execution": {
     "iopub.execute_input": "2024-06-13T08:33:11.230278Z",
     "iopub.status.busy": "2024-06-13T08:33:11.229649Z",
     "iopub.status.idle": "2024-06-13T08:33:11.238736Z",
     "shell.execute_reply": "2024-06-13T08:33:11.237275Z",
     "shell.execute_reply.started": "2024-06-13T08:33:11.230227Z"
    },
    "tags": []
   },
   "outputs": [
    {
     "data": {
      "text/plain": [
       "(34923, 41)"
      ]
     },
     "execution_count": 103,
     "metadata": {},
     "output_type": "execute_result"
    }
   ],
   "source": [
    "lab_filtered.shape"
   ]
  },
  {
   "cell_type": "code",
   "execution_count": 110,
   "id": "2f73cba3-a060-4961-ba8c-07719e9b6589",
   "metadata": {
    "execution": {
     "iopub.execute_input": "2024-06-13T08:37:15.216187Z",
     "iopub.status.busy": "2024-06-13T08:37:15.215557Z",
     "iopub.status.idle": "2024-06-13T08:37:15.223569Z",
     "shell.execute_reply": "2024-06-13T08:37:15.222627Z",
     "shell.execute_reply.started": "2024-06-13T08:37:15.216132Z"
    },
    "tags": []
   },
   "outputs": [
    {
     "data": {
      "text/plain": [
       "3272"
      ]
     },
     "execution_count": 110,
     "metadata": {},
     "output_type": "execute_result"
    }
   ],
   "source": [
    "34923-23506-8145"
   ]
  },
  {
   "cell_type": "code",
   "execution_count": 104,
   "id": "a45b95db-70e2-4b83-a4b2-6930b70a1f15",
   "metadata": {
    "execution": {
     "iopub.execute_input": "2024-06-13T08:35:16.643898Z",
     "iopub.status.busy": "2024-06-13T08:35:16.643265Z",
     "iopub.status.idle": "2024-06-13T08:35:16.694795Z",
     "shell.execute_reply": "2024-06-13T08:35:16.693858Z",
     "shell.execute_reply.started": "2024-06-13T08:35:16.643843Z"
    },
    "tags": []
   },
   "outputs": [],
   "source": [
    "cohort_total_actyfilter = cohort_total_actydropcol[cohort_total_actydropcol['stay_id'].isin(lab_filtered.stay_id.to_list())]"
   ]
  },
  {
   "cell_type": "code",
   "execution_count": 111,
   "id": "19842237-4134-4809-827e-9ee7fd037e33",
   "metadata": {
    "execution": {
     "iopub.execute_input": "2024-06-13T08:37:44.327701Z",
     "iopub.status.busy": "2024-06-13T08:37:44.327064Z",
     "iopub.status.idle": "2024-06-13T08:37:46.453472Z",
     "shell.execute_reply": "2024-06-13T08:37:46.452147Z",
     "shell.execute_reply.started": "2024-06-13T08:37:44.327645Z"
    },
    "tags": []
   },
   "outputs": [],
   "source": [
    "cohort_total_actyfilter.to_csv('mdro_tomice_revise.csv',index = False)"
   ]
  },
  {
   "cell_type": "code",
   "execution_count": null,
   "id": "9e86c155-c176-4837-8aee-13658beaaabd",
   "metadata": {
    "execution": {
     "iopub.status.busy": "2024-06-13T08:07:57.587057Z",
     "iopub.status.idle": "2024-06-13T08:07:57.587381Z",
     "shell.execute_reply": "2024-06-13T08:07:57.587289Z",
     "shell.execute_reply.started": "2024-06-13T08:07:57.587279Z"
    },
    "tags": []
   },
   "outputs": [],
   "source": [
    "#lab_filtered[lab_filtered['stay_id'] == 36515454]"
   ]
  },
  {
   "cell_type": "code",
   "execution_count": null,
   "id": "aea2d13e-dee5-444e-9d7e-9d4647a6fa6f",
   "metadata": {
    "ExecuteTime": {
     "end_time": "2022-02-04T13:04:24.303609Z",
     "start_time": "2022-02-04T13:04:24.147613Z"
    },
    "execution": {
     "iopub.status.busy": "2024-06-13T08:07:57.587933Z",
     "iopub.status.idle": "2024-06-13T08:07:57.588143Z",
     "shell.execute_reply": "2024-06-13T08:07:57.588035Z",
     "shell.execute_reply.started": "2024-06-13T08:07:57.588025Z"
    }
   },
   "outputs": [],
   "source": [
    "data[data['stay_id'] == 36515454]"
   ]
  },
  {
   "cell_type": "code",
   "execution_count": 105,
   "id": "256c33b5-2242-441f-9e61-e61f32ca80ef",
   "metadata": {
    "ExecuteTime": {
     "end_time": "2022-02-05T07:11:45.826020Z",
     "start_time": "2022-02-05T07:11:45.716016Z"
    },
    "execution": {
     "iopub.execute_input": "2024-06-13T08:35:40.115065Z",
     "iopub.status.busy": "2024-06-13T08:35:40.114437Z",
     "iopub.status.idle": "2024-06-13T08:35:40.136131Z",
     "shell.execute_reply": "2024-06-13T08:35:40.135460Z",
     "shell.execute_reply.started": "2024-06-13T08:35:40.115011Z"
    },
    "tags": []
   },
   "outputs": [],
   "source": [
    "act_year_ind = pd.pivot_table(data = cohort_total_actyfilter,values='stay_chart_included_mdr',\\\n",
    "               index = ['actual_year_group'],aggfunc= ['count','mean']).index.to_list()\n",
    "act_year_pre = act_year_ind[0:7]\n",
    "act_year_lat = act_year_ind[-4:]"
   ]
  },
  {
   "cell_type": "code",
   "execution_count": 106,
   "id": "baedb7fc-5e9a-4a19-9160-d2f146f03f54",
   "metadata": {
    "ExecuteTime": {
     "end_time": "2022-02-05T07:12:17.085096Z",
     "start_time": "2022-02-05T07:12:17.012994Z"
    },
    "execution": {
     "iopub.execute_input": "2024-06-13T08:35:49.061636Z",
     "iopub.status.busy": "2024-06-13T08:35:49.061165Z",
     "iopub.status.idle": "2024-06-13T08:35:49.108502Z",
     "shell.execute_reply": "2024-06-13T08:35:49.107063Z",
     "shell.execute_reply.started": "2024-06-13T08:35:49.061602Z"
    },
    "tags": []
   },
   "outputs": [],
   "source": [
    "train_df = cohort_total_actyfilter[cohort_total_actyfilter['actual_year_group'].isin(act_year_pre)]\n",
    "val_df = cohort_total_actyfilter[cohort_total_actyfilter['actual_year_group'].isin(act_year_lat)]"
   ]
  },
  {
   "cell_type": "code",
   "execution_count": 108,
   "id": "ca59118e-8921-4faf-a476-e1799020ce7e",
   "metadata": {
    "execution": {
     "iopub.execute_input": "2024-06-13T08:35:57.227055Z",
     "iopub.status.busy": "2024-06-13T08:35:57.226490Z",
     "iopub.status.idle": "2024-06-13T08:35:57.235722Z",
     "shell.execute_reply": "2024-06-13T08:35:57.234646Z",
     "shell.execute_reply.started": "2024-06-13T08:35:57.227003Z"
    },
    "tags": []
   },
   "outputs": [
    {
     "data": {
      "text/plain": [
       "(23506, 167)"
      ]
     },
     "execution_count": 108,
     "metadata": {},
     "output_type": "execute_result"
    }
   ],
   "source": [
    "train_df.shape"
   ]
  },
  {
   "cell_type": "code",
   "execution_count": 109,
   "id": "dd63322f-b97d-4243-a635-3ebca8fe13ab",
   "metadata": {
    "execution": {
     "iopub.execute_input": "2024-06-13T08:36:03.147848Z",
     "iopub.status.busy": "2024-06-13T08:36:03.147263Z",
     "iopub.status.idle": "2024-06-13T08:36:03.155243Z",
     "shell.execute_reply": "2024-06-13T08:36:03.154609Z",
     "shell.execute_reply.started": "2024-06-13T08:36:03.147796Z"
    }
   },
   "outputs": [
    {
     "data": {
      "text/plain": [
       "(8145, 167)"
      ]
     },
     "execution_count": 109,
     "metadata": {},
     "output_type": "execute_result"
    }
   ],
   "source": [
    "val_df.shape"
   ]
  },
  {
   "cell_type": "code",
   "execution_count": null,
   "id": "e87d75cb-a6be-4702-8a5f-0c7425ea824c",
   "metadata": {
    "execution": {
     "iopub.status.busy": "2024-06-13T08:07:57.590605Z",
     "iopub.status.idle": "2024-06-13T08:07:57.590944Z",
     "shell.execute_reply": "2024-06-13T08:07:57.590848Z",
     "shell.execute_reply.started": "2024-06-13T08:07:57.590836Z"
    },
    "tags": []
   },
   "outputs": [],
   "source": [
    "# def lookup_miss(df):\n",
    "#     nadf = pd.DataFrame(columns=['nan_nums','nan_ratios'])\n",
    "#     for i in df.columns:\n",
    "#         nadf.loc[i,'nan_nums'] = pd.isna(df[i]).sum()\n",
    "#         nadf.loc[i,'nan_ratios'] = (nadf.loc[i,'nan_nums']/df.shape[0])*100\n",
    "#     return nadf.sort_values(by = 'nan_ratios', ascending = False)"
   ]
  }
 ],
 "metadata": {
  "kernelspec": {
   "display_name": "data_extraction",
   "language": "python",
   "name": "data_extraction"
  },
  "language_info": {
   "codemirror_mode": {
    "name": "ipython",
    "version": 3
   },
   "file_extension": ".py",
   "mimetype": "text/x-python",
   "name": "python",
   "nbconvert_exporter": "python",
   "pygments_lexer": "ipython3",
   "version": "3.10.9"
  }
 },
 "nbformat": 4,
 "nbformat_minor": 5
}
