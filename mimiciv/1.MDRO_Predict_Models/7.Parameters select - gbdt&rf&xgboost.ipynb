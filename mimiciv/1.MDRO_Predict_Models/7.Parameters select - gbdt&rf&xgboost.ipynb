{
 "cells": [
  {
   "cell_type": "code",
   "execution_count": 1,
   "id": "1a55944a",
   "metadata": {
    "ExecuteTime": {
     "end_time": "2022-02-18T14:31:22.569251Z",
     "start_time": "2022-02-18T14:31:20.760762Z"
    },
    "execution": {
     "iopub.execute_input": "2024-06-15T02:37:05.264289Z",
     "iopub.status.busy": "2024-06-15T02:37:05.264147Z",
     "iopub.status.idle": "2024-06-15T02:37:06.230956Z",
     "shell.execute_reply": "2024-06-15T02:37:06.229370Z",
     "shell.execute_reply.started": "2024-06-15T02:37:05.264273Z"
    },
    "tags": []
   },
   "outputs": [],
   "source": [
    "import warnings\n",
    "warnings.filterwarnings(\"ignore\")\n",
    "\n",
    "import numpy as np\n",
    "import pandas as pd\n",
    "import matplotlib.pyplot as plt\n",
    "import seaborn as sns\n",
    "%matplotlib inline\n",
    "#pd.set_option('max_columns',100)\n",
    "\n",
    "import matplotlib as mpl\n",
    "mpl.style.use('ggplot')\n",
    "sns.set_style('white')\n",
    "\n",
    "import sklearn\n",
    "from sklearn.linear_model import LogisticRegression\n",
    "from sklearn.tree import DecisionTreeClassifier\n",
    "from sklearn.ensemble import RandomForestClassifier\n",
    "from xgboost.sklearn import XGBClassifier\n",
    "\n",
    "import sys\n",
    "import os\n",
    "import tempfile\n",
    "from sklearn.preprocessing import StandardScaler\n",
    "\n",
    "from sklearn.model_selection import GridSearchCV\n",
    "from sklearn.model_selection import train_test_split\n",
    "from sklearn.model_selection import ShuffleSplit\n",
    "from sklearn.model_selection import cross_val_score\n",
    "\n",
    "from sklearn import metrics\n",
    "from sklearn.metrics import confusion_matrix\n",
    "from sklearn.metrics import plot_roc_curve\n",
    "from sklearn.metrics import roc_auc_score\n",
    "from sklearn.metrics import roc_curve,auc\n",
    "from sklearn.metrics import accuracy_score\n",
    "from sklearn.calibration import calibration_curve\n",
    "from sklearn.metrics import brier_score_loss\n",
    "from sklearn.metrics import (precision_score, recall_score,f1_score)\n",
    "from sklearn.calibration import CalibratedClassifierCV, calibration_curve"
   ]
  },
  {
   "cell_type": "code",
   "execution_count": 2,
   "id": "e55fa9c4",
   "metadata": {
    "ExecuteTime": {
     "end_time": "2022-02-18T14:31:22.585246Z",
     "start_time": "2022-02-18T14:31:22.572247Z"
    },
    "execution": {
     "iopub.execute_input": "2024-06-15T02:37:06.232048Z",
     "iopub.status.busy": "2024-06-15T02:37:06.231796Z",
     "iopub.status.idle": "2024-06-15T02:37:06.239119Z",
     "shell.execute_reply": "2024-06-15T02:37:06.238750Z",
     "shell.execute_reply.started": "2024-06-15T02:37:06.232031Z"
    },
    "tags": []
   },
   "outputs": [],
   "source": [
    "from sklearn.ensemble import GradientBoostingClassifier\n",
    "from bayes_opt import BayesianOptimization"
   ]
  },
  {
   "cell_type": "code",
   "execution_count": 3,
   "id": "fddfbfd0",
   "metadata": {
    "ExecuteTime": {
     "end_time": "2022-02-18T14:31:23.189250Z",
     "start_time": "2022-02-18T14:31:22.587247Z"
    },
    "execution": {
     "iopub.execute_input": "2024-06-15T02:37:06.239815Z",
     "iopub.status.busy": "2024-06-15T02:37:06.239661Z",
     "iopub.status.idle": "2024-06-15T02:37:06.595745Z",
     "shell.execute_reply": "2024-06-15T02:37:06.594356Z",
     "shell.execute_reply.started": "2024-06-15T02:37:06.239801Z"
    },
    "tags": []
   },
   "outputs": [],
   "source": [
    "dev_df = pd.read_csv('dev_df_revise.csv')\n",
    "val_df = pd.read_csv('val_df_revise.csv')"
   ]
  },
  {
   "cell_type": "code",
   "execution_count": 4,
   "id": "972e2443",
   "metadata": {
    "ExecuteTime": {
     "end_time": "2022-02-10T16:33:21.604679Z",
     "start_time": "2022-02-10T16:33:21.590676Z"
    },
    "execution": {
     "iopub.execute_input": "2024-06-15T02:37:06.596791Z",
     "iopub.status.busy": "2024-06-15T02:37:06.596606Z",
     "iopub.status.idle": "2024-06-15T02:37:06.601165Z",
     "shell.execute_reply": "2024-06-15T02:37:06.600368Z",
     "shell.execute_reply.started": "2024-06-15T02:37:06.596775Z"
    },
    "tags": []
   },
   "outputs": [],
   "source": [
    "# features = [\n",
    "# 'hospstay_seq',\n",
    "#  'icustay_rank',\n",
    "#  'previous_mdrneg_lessthan90d',\n",
    "#  'potassium',\n",
    "#  'bicarbonate',\n",
    "#  'creatinine',\n",
    "#  'po2',\n",
    "#  'eosinophils',\n",
    "#  'monocytes_abs',\n",
    "#  'lymphocytes',\n",
    "#  'ptt',\n",
    "#  'hematocrit',\n",
    "#  'mch',\n",
    "#  'mchc',\n",
    "#  'platelet',\n",
    "#  'rbc',\n",
    "#  'rdw',\n",
    "#  'history_dialysis',\n",
    "#  'charlson_comorbidity_index',\n",
    "#  'ant_duration',\n",
    "#  'ant_1stday',\n",
    "#  'immu_1stday',\n",
    "#  'ent_nut',\n",
    "\n",
    "#   'CEFTRIAXONE_anttest_beforeicu90d',\n",
    "#   'TRIMETHOPRIM.SULFA_anttest_beforeicu90d',\n",
    "#   'CEFEPIME_anttest_beforeicu90d'\n",
    "#   'CEFTAZIDIME_anttest_beforeicu90d',\n",
    "#   'CIPROFLOXACIN_anttest_beforeicu90d',\n",
    "#   'PIPERACILLIN.TAZO_anttest_beforeicu90d',\n",
    "#   'MEROPENEM_anttest_beforeicu90d',\n",
    "#   'GENTAMICIN_anttest_beforeicu90d',\n",
    "#   'TOBRAMYCIN_anttest_beforeicu90d'\n",
    "# ]\n",
    "# labels = ['CEFEPIME', 'CEFTAZIDIME', 'CIPROFLOXACIN','PIPERACILLIN.TAZO', 'MEROPENEM','GENTAMICIN', 'TOBRAMYCIN']"
   ]
  },
  {
   "cell_type": "code",
   "execution_count": 5,
   "id": "d2fd4aa5",
   "metadata": {
    "ExecuteTime": {
     "end_time": "2022-02-10T16:33:21.620680Z",
     "start_time": "2022-02-10T16:33:21.607676Z"
    },
    "execution": {
     "iopub.execute_input": "2024-06-15T02:37:06.602078Z",
     "iopub.status.busy": "2024-06-15T02:37:06.601896Z",
     "iopub.status.idle": "2024-06-15T02:37:06.605817Z",
     "shell.execute_reply": "2024-06-15T02:37:06.605336Z",
     "shell.execute_reply.started": "2024-06-15T02:37:06.602061Z"
    },
    "tags": []
   },
   "outputs": [],
   "source": [
    "label_features_dict = {\n",
    "'stay_chart_included_mdr':['dementia',\n",
    " 'platelet',\n",
    " 'phosphate',\n",
    " 'heart_rate',\n",
    " 'weight',\n",
    " 'creatinine',\n",
    " 'basophils_abs',\n",
    " 'lymphocytes_abs',\n",
    " 'icustay_rank',\n",
    " 'temperature',\n",
    " 'sodium',\n",
    " 'history_difficulty_swallowing',\n",
    " 'los_hosp_beforeicu',\n",
    " 'hospstay_seq',\n",
    " 'neutrophils_abs',\n",
    " 'wbc',\n",
    " 'mg',\n",
    " 'NLR',\n",
    " 'admission_age',\n",
    " 'history_assistive_devices_Wheelchair',\n",
    " 'mchc',\n",
    " 'history_past_COPD',\n",
    " 'bun',\n",
    " 'rdw',\n",
    " 'previous_mdr_90d'\n",
    "]\n",
    "}"
   ]
  },
  {
   "cell_type": "code",
   "execution_count": 6,
   "id": "80b6e74c",
   "metadata": {
    "ExecuteTime": {
     "end_time": "2022-02-10T16:33:21.636676Z",
     "start_time": "2022-02-10T16:33:21.622683Z"
    },
    "execution": {
     "iopub.execute_input": "2024-06-15T02:37:06.606761Z",
     "iopub.status.busy": "2024-06-15T02:37:06.606469Z",
     "iopub.status.idle": "2024-06-15T02:37:06.614906Z",
     "shell.execute_reply": "2024-06-15T02:37:06.614463Z",
     "shell.execute_reply.started": "2024-06-15T02:37:06.606746Z"
    },
    "tags": []
   },
   "outputs": [],
   "source": [
    "#gbdt\n",
    "def gbdt_cv(n_estimators, min_samples_split, max_features, max_depth):\n",
    "    res = cross_val_score( \n",
    "        GradientBoostingClassifier(n_estimators=int(n_estimators),\n",
    "                                                        min_samples_split=int(min_samples_split),\n",
    "                                                        max_features=min(max_features, 0.999), # float\n",
    "                                                        max_depth=int(max_depth),\n",
    "                                                        random_state=2023\n",
    "        ),\n",
    "        x_train, y_train, scoring='roc_auc', cv=5\n",
    "    ).mean()\n",
    "    return res\n",
    "\n",
    "gbdt_op = BayesianOptimization(\n",
    "        gbdt_cv,\n",
    "        {'n_estimators': (10, 250),\n",
    "        'min_samples_split': (2, 25),\n",
    "        'max_features': (0.1, 0.999),\n",
    "        'max_depth': (5, 15)},\n",
    "    random_state=2023\n",
    ")\n",
    "\n",
    "#random forest\n",
    "def rf_cv(n_estimators, min_samples_split, max_features, max_depth):\n",
    "    res = cross_val_score( \n",
    "        RandomForestClassifier(n_estimators=int(n_estimators),\n",
    "                            min_samples_split=int(min_samples_split),\n",
    "                            max_features=min(max_features, 0.999), # float\n",
    "                            max_depth=int(max_depth),\n",
    "                            random_state=2023\n",
    "        ),\n",
    "        x_train, y_train, scoring='roc_auc', cv=5\n",
    "    ).mean()\n",
    "    return res\n",
    "\n",
    "rf_op = BayesianOptimization(\n",
    "        rf_cv,\n",
    "        {'n_estimators': (10, 250),\n",
    "        'min_samples_split': (2, 25),\n",
    "        'max_features': (0.1, 0.999),\n",
    "        'max_depth': (3, 15)},\n",
    "    random_state = 2023\n",
    ")\n",
    "\n",
    "#xgboost\n",
    "def xgb_cv(n_estimators, min_child_weight,  subsample, colsample_bytree, max_depth):\n",
    "    res = cross_val_score(\n",
    "        XGBClassifier(n_estimators=int(n_estimators),\n",
    "                            min_child_weight=int(min_child_weight),\n",
    "                            #gama = min(gama,0.999),\n",
    "                            subsample = min(subsample,0.999),\n",
    "                            colsample_bytree = min(colsample_bytree,0.999),\n",
    "                            max_depth=int(max_depth),\n",
    "                            learning_rate = 0.01,\n",
    "                            #n_jobs = -1,\n",
    "                            random_state=2023\n",
    "        ),\n",
    "        x_train, y_train, scoring='roc_auc', cv=5\n",
    "    ).mean()\n",
    "    return res\n",
    "\n",
    "xgb_op = BayesianOptimization(\n",
    "        xgb_cv,\n",
    "        {'n_estimators': (10, 250),\n",
    "        'min_child_weight': (2, 25),\n",
    "        #'gama': (0.1, 0.999),\n",
    "        'subsample': (0.1, 0.999),\n",
    "        'colsample_bytree': (0.1, 0.999),\n",
    "        'max_depth': (3, 15)},\n",
    "    random_state = 2023\n",
    ")"
   ]
  },
  {
   "cell_type": "code",
   "execution_count": 7,
   "id": "511994d1",
   "metadata": {
    "ExecuteTime": {
     "end_time": "2022-02-10T16:33:21.715678Z",
     "start_time": "2022-02-10T16:33:21.638675Z"
    },
    "execution": {
     "iopub.execute_input": "2024-06-15T02:37:06.616975Z",
     "iopub.status.busy": "2024-06-15T02:37:06.616622Z",
     "iopub.status.idle": "2024-06-15T02:37:06.625481Z",
     "shell.execute_reply": "2024-06-15T02:37:06.625051Z",
     "shell.execute_reply.started": "2024-06-15T02:37:06.616957Z"
    },
    "tags": []
   },
   "outputs": [],
   "source": [
    "def optimize_rf(n_iter):\n",
    "    total_param_dict = {}\n",
    "    models_dict = {}\n",
    "    \n",
    "    def rf_cv(n_estimators, min_samples_split, max_features, max_depth):\n",
    "        return cross_val_score( \n",
    "                RandomForestClassifier(n_estimators=int(n_estimators),\n",
    "                                    min_samples_split=int(min_samples_split),\n",
    "                                    max_features=min(max_features, 0.999), # float\n",
    "                                    max_depth=int(max_depth),\n",
    "                                    random_state=2023\n",
    "                ),\n",
    "                x_train, y_train, scoring='roc_auc', cv=5\n",
    "            ).mean()\n",
    "\n",
    "    for i in label_features_dict:\n",
    "        label = i\n",
    "        features = label_features_dict[i]\n",
    "        x_train = dev_df[features]\n",
    "        y_train = dev_df[label]\n",
    "        x_test = val_df[features]\n",
    "        y_test = val_df[label]        \n",
    "        \n",
    "        rf_op = BayesianOptimization(\n",
    "            rf_cv,\n",
    "            {'n_estimators': (10, 300),\n",
    "            'min_samples_split': (2, 25),\n",
    "            'max_features': (0.1, 0.999),\n",
    "            'max_depth': (3, 20)},\n",
    "        random_state = 2023)\n",
    "\n",
    "        print('---------------------------特征为：%s-------------------------------'%label)\n",
    "        print('---------------------------模型为：Random Forest-------------------------------')\n",
    "        rf_op.maximize(n_iter=n_iter)\n",
    "        print(rf_op.max)\n",
    "        models_dict[label] = rf_op.max\n",
    "        print('----------------------------------------------------------------------------------------------------')\n",
    "        \n",
    "    return models_dict\n",
    "    \n",
    "def optimize_xgb(n_iter):\n",
    "    total_param_dict = {}\n",
    "    models_dict = {}\n",
    "    \n",
    "    def xgb_cv(n_estimators, min_child_weight,  subsample, colsample_bytree, max_depth):\n",
    "        res = cross_val_score(\n",
    "            XGBClassifier(n_estimators=int(n_estimators),\n",
    "                                min_child_weight=int(min_child_weight),\n",
    "                                #gama = min(gama,0.999),\n",
    "                                subsample = min(subsample,0.999),\n",
    "                                colsample_bytree = min(colsample_bytree,0.999),\n",
    "                                max_depth=int(max_depth),\n",
    "                                learning_rate = 0.01,\n",
    "                                #n_jobs = -1,\n",
    "                                random_state=2023\n",
    "            ),\n",
    "            x_train, y_train, scoring='roc_auc', cv=5\n",
    "        ).mean()\n",
    "        return res\n",
    "\n",
    "    for i in label_features_dict:\n",
    "        label = i\n",
    "        features = label_features_dict[i]\n",
    "        x_train = dev_df[features]\n",
    "        y_train = dev_df[label]\n",
    "        x_test = val_df[features]\n",
    "        y_test = val_df[label]        \n",
    "        \n",
    "        xgb_op = BayesianOptimization(\n",
    "                xgb_cv,\n",
    "                {'n_estimators': (10, 250),\n",
    "                'min_child_weight': (2, 25),\n",
    "                #'gama': (0.1, 0.999),\n",
    "                'subsample': (0.1, 0.999),\n",
    "                'colsample_bytree': (0.1, 0.999),\n",
    "                'max_depth': (3, 15)},\n",
    "            random_state = 2023\n",
    "        )\n",
    "\n",
    "        print('---------------------------特征为：%s-------------------------------'%label)\n",
    "        print('---------------------------模型为：XGBOOST-------------------------------')\n",
    "        xgb_op.maximize(n_iter=n_iter)\n",
    "        print(xgb_op.max)\n",
    "        models_dict[label] = xgb_op.max\n",
    "        print('----------------------------------------------------------------------------------------------------')\n",
    "        \n",
    "    return models_dict"
   ]
  },
  {
   "cell_type": "code",
   "execution_count": 8,
   "id": "6075c24f",
   "metadata": {
    "ExecuteTime": {
     "end_time": "2022-02-10T17:09:48.904101Z",
     "start_time": "2022-02-10T16:33:21.718675Z"
    },
    "execution": {
     "iopub.execute_input": "2024-06-15T02:37:06.626328Z",
     "iopub.status.busy": "2024-06-15T02:37:06.626167Z",
     "iopub.status.idle": "2024-06-15T03:34:05.009496Z",
     "shell.execute_reply": "2024-06-15T03:34:05.008174Z",
     "shell.execute_reply.started": "2024-06-15T02:37:06.626314Z"
    },
    "scrolled": true,
    "tags": []
   },
   "outputs": [
    {
     "name": "stdout",
     "output_type": "stream",
     "text": [
      "---------------------------特征为：stay_chart_included_mdr-------------------------------\n",
      "---------------------------模型为：Random Forest-------------------------------\n",
      "|   iter    |  target   | max_depth | max_fe... | min_sa... | n_esti... |\n",
      "-------------------------------------------------------------------------\n",
      "| \u001b[0m1        \u001b[0m | \u001b[0m0.6939   \u001b[0m | \u001b[0m8.474    \u001b[0m | \u001b[0m0.9005   \u001b[0m | \u001b[0m15.53    \u001b[0m | \u001b[0m46.71    \u001b[0m |\n",
      "| \u001b[95m2        \u001b[0m | \u001b[95m0.6943   \u001b[0m | \u001b[95m5.403    \u001b[0m | \u001b[95m0.5206   \u001b[0m | \u001b[95m2.508    \u001b[0m | \u001b[95m220.9    \u001b[0m |\n",
      "| \u001b[95m3        \u001b[0m | \u001b[95m0.6982   \u001b[0m | \u001b[95m11.91    \u001b[0m | \u001b[95m0.5899   \u001b[0m | \u001b[95m12.5     \u001b[0m | \u001b[95m155.4    \u001b[0m |\n",
      "| \u001b[95m4        \u001b[0m | \u001b[95m0.7009   \u001b[0m | \u001b[95m9.706    \u001b[0m | \u001b[95m0.2359   \u001b[0m | \u001b[95m10.3     \u001b[0m | \u001b[95m57.0     \u001b[0m |\n",
      "| \u001b[0m5        \u001b[0m | \u001b[0m0.6945   \u001b[0m | \u001b[0m8.745    \u001b[0m | \u001b[0m0.2621   \u001b[0m | \u001b[0m10.99    \u001b[0m | \u001b[0m20.34    \u001b[0m |\n",
      "| \u001b[95m6        \u001b[0m | \u001b[95m0.7034   \u001b[0m | \u001b[95m8.893    \u001b[0m | \u001b[95m0.2191   \u001b[0m | \u001b[95m9.434    \u001b[0m | \u001b[95m299.6    \u001b[0m |\n",
      "| \u001b[0m7        \u001b[0m | \u001b[0m0.6983   \u001b[0m | \u001b[0m9.99     \u001b[0m | \u001b[0m0.3619   \u001b[0m | \u001b[0m10.89    \u001b[0m | \u001b[0m56.68    \u001b[0m |\n",
      "| \u001b[0m8        \u001b[0m | \u001b[0m0.7005   \u001b[0m | \u001b[0m9.308    \u001b[0m | \u001b[0m0.5131   \u001b[0m | \u001b[0m10.17    \u001b[0m | \u001b[0m299.8    \u001b[0m |\n",
      "| \u001b[0m9        \u001b[0m | \u001b[0m0.7003   \u001b[0m | \u001b[0m8.767    \u001b[0m | \u001b[0m0.4431   \u001b[0m | \u001b[0m9.378    \u001b[0m | \u001b[0m298.5    \u001b[0m |\n",
      "| \u001b[95m10       \u001b[0m | \u001b[95m0.7047   \u001b[0m | \u001b[95m8.901    \u001b[0m | \u001b[95m0.1783   \u001b[0m | \u001b[95m7.933    \u001b[0m | \u001b[95m299.1    \u001b[0m |\n",
      "| \u001b[0m11       \u001b[0m | \u001b[0m0.6962   \u001b[0m | \u001b[0m7.354    \u001b[0m | \u001b[0m0.8734   \u001b[0m | \u001b[0m5.981    \u001b[0m | \u001b[0m297.9    \u001b[0m |\n",
      "| \u001b[0m12       \u001b[0m | \u001b[0m0.7011   \u001b[0m | \u001b[0m10.33    \u001b[0m | \u001b[0m0.5584   \u001b[0m | \u001b[0m6.953    \u001b[0m | \u001b[0m299.4    \u001b[0m |\n",
      "| \u001b[0m13       \u001b[0m | \u001b[0m0.7004   \u001b[0m | \u001b[0m8.675    \u001b[0m | \u001b[0m0.6545   \u001b[0m | \u001b[0m8.541    \u001b[0m | \u001b[0m299.8    \u001b[0m |\n",
      "| \u001b[95m14       \u001b[0m | \u001b[95m0.7066   \u001b[0m | \u001b[95m9.453    \u001b[0m | \u001b[95m0.1096   \u001b[0m | \u001b[95m6.646    \u001b[0m | \u001b[95m297.3    \u001b[0m |\n",
      "| \u001b[0m15       \u001b[0m | \u001b[0m0.7004   \u001b[0m | \u001b[0m9.66     \u001b[0m | \u001b[0m0.6155   \u001b[0m | \u001b[0m7.21     \u001b[0m | \u001b[0m298.6    \u001b[0m |\n",
      "| \u001b[0m16       \u001b[0m | \u001b[0m0.7003   \u001b[0m | \u001b[0m9.421    \u001b[0m | \u001b[0m0.4118   \u001b[0m | \u001b[0m8.364    \u001b[0m | \u001b[0m298.7    \u001b[0m |\n",
      "| \u001b[0m17       \u001b[0m | \u001b[0m0.6987   \u001b[0m | \u001b[0m9.544    \u001b[0m | \u001b[0m0.7216   \u001b[0m | \u001b[0m5.943    \u001b[0m | \u001b[0m296.7    \u001b[0m |\n",
      "| \u001b[0m18       \u001b[0m | \u001b[0m0.6873   \u001b[0m | \u001b[0m19.85    \u001b[0m | \u001b[0m0.2663   \u001b[0m | \u001b[0m22.47    \u001b[0m | \u001b[0m76.03    \u001b[0m |\n",
      "| \u001b[0m19       \u001b[0m | \u001b[0m0.6981   \u001b[0m | \u001b[0m7.32     \u001b[0m | \u001b[0m0.6701   \u001b[0m | \u001b[0m9.901    \u001b[0m | \u001b[0m299.5    \u001b[0m |\n",
      "| \u001b[0m20       \u001b[0m | \u001b[0m0.7011   \u001b[0m | \u001b[0m8.951    \u001b[0m | \u001b[0m0.4478   \u001b[0m | \u001b[0m7.748    \u001b[0m | \u001b[0m297.9    \u001b[0m |\n",
      "| \u001b[0m21       \u001b[0m | \u001b[0m0.6986   \u001b[0m | \u001b[0m8.888    \u001b[0m | \u001b[0m0.5282   \u001b[0m | \u001b[0m7.646    \u001b[0m | \u001b[0m296.2    \u001b[0m |\n",
      "| \u001b[0m22       \u001b[0m | \u001b[0m0.7037   \u001b[0m | \u001b[0m8.538    \u001b[0m | \u001b[0m0.271    \u001b[0m | \u001b[0m6.763    \u001b[0m | \u001b[0m299.8    \u001b[0m |\n",
      "| \u001b[0m23       \u001b[0m | \u001b[0m0.7001   \u001b[0m | \u001b[0m9.999    \u001b[0m | \u001b[0m0.6434   \u001b[0m | \u001b[0m5.552    \u001b[0m | \u001b[0m298.8    \u001b[0m |\n",
      "| \u001b[0m24       \u001b[0m | \u001b[0m0.6973   \u001b[0m | \u001b[0m9.718    \u001b[0m | \u001b[0m0.7458   \u001b[0m | \u001b[0m8.015    \u001b[0m | \u001b[0m58.47    \u001b[0m |\n",
      "| \u001b[0m25       \u001b[0m | \u001b[0m0.6982   \u001b[0m | \u001b[0m11.99    \u001b[0m | \u001b[0m0.8429   \u001b[0m | \u001b[0m6.516    \u001b[0m | \u001b[0m298.9    \u001b[0m |\n",
      "| \u001b[0m26       \u001b[0m | \u001b[0m0.7042   \u001b[0m | \u001b[0m11.28    \u001b[0m | \u001b[0m0.1477   \u001b[0m | \u001b[0m7.199    \u001b[0m | \u001b[0m296.2    \u001b[0m |\n",
      "| \u001b[0m27       \u001b[0m | \u001b[0m0.6984   \u001b[0m | \u001b[0m11.75    \u001b[0m | \u001b[0m0.5678   \u001b[0m | \u001b[0m5.451    \u001b[0m | \u001b[0m295.5    \u001b[0m |\n",
      "| \u001b[0m28       \u001b[0m | \u001b[0m0.698    \u001b[0m | \u001b[0m11.36    \u001b[0m | \u001b[0m0.9879   \u001b[0m | \u001b[0m6.838    \u001b[0m | \u001b[0m296.2    \u001b[0m |\n",
      "| \u001b[0m29       \u001b[0m | \u001b[0m0.701    \u001b[0m | \u001b[0m9.228    \u001b[0m | \u001b[0m0.5117   \u001b[0m | \u001b[0m6.635    \u001b[0m | \u001b[0m297.2    \u001b[0m |\n",
      "| \u001b[0m30       \u001b[0m | \u001b[0m0.7012   \u001b[0m | \u001b[0m9.581    \u001b[0m | \u001b[0m0.5072   \u001b[0m | \u001b[0m7.08     \u001b[0m | \u001b[0m297.8    \u001b[0m |\n",
      "| \u001b[0m31       \u001b[0m | \u001b[0m0.7024   \u001b[0m | \u001b[0m10.86    \u001b[0m | \u001b[0m0.3587   \u001b[0m | \u001b[0m8.483    \u001b[0m | \u001b[0m296.8    \u001b[0m |\n",
      "| \u001b[0m32       \u001b[0m | \u001b[0m0.7009   \u001b[0m | \u001b[0m8.145    \u001b[0m | \u001b[0m0.3819   \u001b[0m | \u001b[0m7.486    \u001b[0m | \u001b[0m299.9    \u001b[0m |\n",
      "| \u001b[0m33       \u001b[0m | \u001b[0m0.6974   \u001b[0m | \u001b[0m9.676    \u001b[0m | \u001b[0m0.939    \u001b[0m | \u001b[0m7.696    \u001b[0m | \u001b[0m300.0    \u001b[0m |\n",
      "| \u001b[0m34       \u001b[0m | \u001b[0m0.6983   \u001b[0m | \u001b[0m8.507    \u001b[0m | \u001b[0m0.6199   \u001b[0m | \u001b[0m7.857    \u001b[0m | \u001b[0m298.8    \u001b[0m |\n",
      "| \u001b[0m35       \u001b[0m | \u001b[0m0.6981   \u001b[0m | \u001b[0m5.783    \u001b[0m | \u001b[0m0.332    \u001b[0m | \u001b[0m20.5     \u001b[0m | \u001b[0m178.3    \u001b[0m |\n",
      "| \u001b[0m36       \u001b[0m | \u001b[0m0.7053   \u001b[0m | \u001b[0m11.49    \u001b[0m | \u001b[0m0.1578   \u001b[0m | \u001b[0m8.422    \u001b[0m | \u001b[0m296.3    \u001b[0m |\n",
      "| \u001b[0m37       \u001b[0m | \u001b[0m0.6988   \u001b[0m | \u001b[0m10.96    \u001b[0m | \u001b[0m0.731    \u001b[0m | \u001b[0m9.573    \u001b[0m | \u001b[0m297.1    \u001b[0m |\n",
      "| \u001b[0m38       \u001b[0m | \u001b[0m0.7013   \u001b[0m | \u001b[0m11.66    \u001b[0m | \u001b[0m0.2023   \u001b[0m | \u001b[0m7.001    \u001b[0m | \u001b[0m297.1    \u001b[0m |\n",
      "| \u001b[0m39       \u001b[0m | \u001b[0m0.698    \u001b[0m | \u001b[0m10.57    \u001b[0m | \u001b[0m0.5659   \u001b[0m | \u001b[0m20.09    \u001b[0m | \u001b[0m80.48    \u001b[0m |\n",
      "| \u001b[0m40       \u001b[0m | \u001b[0m0.6895   \u001b[0m | \u001b[0m14.45    \u001b[0m | \u001b[0m0.1621   \u001b[0m | \u001b[0m24.13    \u001b[0m | \u001b[0m33.14    \u001b[0m |\n",
      "| \u001b[0m41       \u001b[0m | \u001b[0m0.7028   \u001b[0m | \u001b[0m11.56    \u001b[0m | \u001b[0m0.3183   \u001b[0m | \u001b[0m9.042    \u001b[0m | \u001b[0m295.6    \u001b[0m |\n",
      "| \u001b[0m42       \u001b[0m | \u001b[0m0.6998   \u001b[0m | \u001b[0m10.79    \u001b[0m | \u001b[0m0.6176   \u001b[0m | \u001b[0m8.404    \u001b[0m | \u001b[0m294.7    \u001b[0m |\n",
      "| \u001b[0m43       \u001b[0m | \u001b[0m0.6998   \u001b[0m | \u001b[0m10.84    \u001b[0m | \u001b[0m0.7199   \u001b[0m | \u001b[0m8.362    \u001b[0m | \u001b[0m296.0    \u001b[0m |\n",
      "| \u001b[0m44       \u001b[0m | \u001b[0m0.7018   \u001b[0m | \u001b[0m11.18    \u001b[0m | \u001b[0m0.3249   \u001b[0m | \u001b[0m7.947    \u001b[0m | \u001b[0m296.4    \u001b[0m |\n",
      "| \u001b[0m45       \u001b[0m | \u001b[0m0.6969   \u001b[0m | \u001b[0m8.201    \u001b[0m | \u001b[0m0.4292   \u001b[0m | \u001b[0m9.505    \u001b[0m | \u001b[0m55.56    \u001b[0m |\n",
      "| \u001b[0m46       \u001b[0m | \u001b[0m0.6971   \u001b[0m | \u001b[0m12.42    \u001b[0m | \u001b[0m0.8825   \u001b[0m | \u001b[0m8.999    \u001b[0m | \u001b[0m296.9    \u001b[0m |\n",
      "| \u001b[0m47       \u001b[0m | \u001b[0m0.7065   \u001b[0m | \u001b[0m10.82    \u001b[0m | \u001b[0m0.105    \u001b[0m | \u001b[0m8.928    \u001b[0m | \u001b[0m296.3    \u001b[0m |\n",
      "| \u001b[95m48       \u001b[0m | \u001b[95m0.7066   \u001b[0m | \u001b[95m9.268    \u001b[0m | \u001b[95m0.1053   \u001b[0m | \u001b[95m6.287    \u001b[0m | \u001b[95m299.2    \u001b[0m |\n",
      "| \u001b[0m49       \u001b[0m | \u001b[0m0.7061   \u001b[0m | \u001b[0m8.809    \u001b[0m | \u001b[0m0.1071   \u001b[0m | \u001b[0m5.204    \u001b[0m | \u001b[0m299.2    \u001b[0m |\n",
      "| \u001b[0m50       \u001b[0m | \u001b[0m0.6991   \u001b[0m | \u001b[0m8.913    \u001b[0m | \u001b[0m0.6751   \u001b[0m | \u001b[0m3.592    \u001b[0m | \u001b[0m299.1    \u001b[0m |\n",
      "=========================================================================\n",
      "{'target': 0.7066043296553487, 'params': {'max_depth': 9.267748849751055, 'max_features': 0.1052781506306532, 'min_samples_split': 6.287271766679888, 'n_estimators': 299.23334556965926}}\n",
      "----------------------------------------------------------------------------------------------------\n"
     ]
    }
   ],
   "source": [
    "models_dict_rf = optimize_rf(45)"
   ]
  },
  {
   "cell_type": "code",
   "execution_count": 9,
   "id": "e70d7c7c",
   "metadata": {
    "ExecuteTime": {
     "end_time": "2022-02-10T17:16:28.196710Z",
     "start_time": "2022-02-10T17:09:48.907102Z"
    },
    "execution": {
     "iopub.execute_input": "2024-06-15T03:34:05.010792Z",
     "iopub.status.busy": "2024-06-15T03:34:05.010595Z",
     "iopub.status.idle": "2024-06-15T03:42:12.038052Z",
     "shell.execute_reply": "2024-06-15T03:42:12.037197Z",
     "shell.execute_reply.started": "2024-06-15T03:34:05.010774Z"
    },
    "scrolled": true
   },
   "outputs": [
    {
     "name": "stdout",
     "output_type": "stream",
     "text": [
      "---------------------------特征为：stay_chart_included_mdr-------------------------------\n",
      "---------------------------模型为：XGBOOST-------------------------------\n",
      "|   iter    |  target   | colsam... | max_depth | min_ch... | n_esti... | subsample |\n",
      "-------------------------------------------------------------------------------------\n",
      "| \u001b[0m1        \u001b[0m | \u001b[0m0.6986   \u001b[0m | \u001b[0m0.3895   \u001b[0m | \u001b[0m13.69    \u001b[0m | \u001b[0m15.53    \u001b[0m | \u001b[0m40.38    \u001b[0m | \u001b[0m0.2271   \u001b[0m |\n",
      "| \u001b[0m2        \u001b[0m | \u001b[0m0.6961   \u001b[0m | \u001b[0m0.5206   \u001b[0m | \u001b[0m3.265    \u001b[0m | \u001b[0m18.73    \u001b[0m | \u001b[0m135.9    \u001b[0m | \u001b[0m0.5899   \u001b[0m |\n",
      "| \u001b[95m3        \u001b[0m | \u001b[95m0.7058   \u001b[0m | \u001b[95m0.5103   \u001b[0m | \u001b[95m9.017    \u001b[0m | \u001b[95m11.07    \u001b[0m | \u001b[95m46.28    \u001b[0m | \u001b[95m0.4244   \u001b[0m |\n",
      "| \u001b[0m4        \u001b[0m | \u001b[0m0.7009   \u001b[0m | \u001b[0m0.2457   \u001b[0m | \u001b[0m7.056    \u001b[0m | \u001b[0m6.147    \u001b[0m | \u001b[0m103.8    \u001b[0m | \u001b[0m0.132    \u001b[0m |\n",
      "| \u001b[95m5        \u001b[0m | \u001b[95m0.706    \u001b[0m | \u001b[95m0.6078   \u001b[0m | \u001b[95m5.442    \u001b[0m | \u001b[95m9.374    \u001b[0m | \u001b[95m100.4    \u001b[0m | \u001b[95m0.2655   \u001b[0m |\n",
      "| \u001b[0m6        \u001b[0m | \u001b[0m0.7035   \u001b[0m | \u001b[0m0.864    \u001b[0m | \u001b[0m11.17    \u001b[0m | \u001b[0m3.412    \u001b[0m | \u001b[0m196.4    \u001b[0m | \u001b[0m0.5708   \u001b[0m |\n",
      "| \u001b[0m7        \u001b[0m | \u001b[0m0.7036   \u001b[0m | \u001b[0m0.3614   \u001b[0m | \u001b[0m4.916    \u001b[0m | \u001b[0m15.0     \u001b[0m | \u001b[0m116.6    \u001b[0m | \u001b[0m0.7846   \u001b[0m |\n",
      "| \u001b[0m8        \u001b[0m | \u001b[0m0.705    \u001b[0m | \u001b[0m0.8176   \u001b[0m | \u001b[0m11.7     \u001b[0m | \u001b[0m23.26    \u001b[0m | \u001b[0m194.5    \u001b[0m | \u001b[0m0.9018   \u001b[0m |\n",
      "| \u001b[0m9        \u001b[0m | \u001b[0m0.6997   \u001b[0m | \u001b[0m0.5684   \u001b[0m | \u001b[0m5.683    \u001b[0m | \u001b[0m15.72    \u001b[0m | \u001b[0m10.08    \u001b[0m | \u001b[0m0.8171   \u001b[0m |\n",
      "| \u001b[95m10       \u001b[0m | \u001b[95m0.7075   \u001b[0m | \u001b[95m0.2594   \u001b[0m | \u001b[95m8.334    \u001b[0m | \u001b[95m14.54    \u001b[0m | \u001b[95m91.3     \u001b[0m | \u001b[95m0.9701   \u001b[0m |\n",
      "| \u001b[0m11       \u001b[0m | \u001b[0m0.7066   \u001b[0m | \u001b[0m0.2432   \u001b[0m | \u001b[0m8.353    \u001b[0m | \u001b[0m24.23    \u001b[0m | \u001b[0m94.76    \u001b[0m | \u001b[0m0.8041   \u001b[0m |\n",
      "| \u001b[95m12       \u001b[0m | \u001b[95m0.7083   \u001b[0m | \u001b[95m0.3957   \u001b[0m | \u001b[95m9.116    \u001b[0m | \u001b[95m19.21    \u001b[0m | \u001b[95m220.7    \u001b[0m | \u001b[95m0.4266   \u001b[0m |\n",
      "| \u001b[95m13       \u001b[0m | \u001b[95m0.7084   \u001b[0m | \u001b[95m0.7043   \u001b[0m | \u001b[95m6.62     \u001b[0m | \u001b[95m17.29    \u001b[0m | \u001b[95m246.1    \u001b[0m | \u001b[95m0.4427   \u001b[0m |\n",
      "| \u001b[0m14       \u001b[0m | \u001b[0m0.7028   \u001b[0m | \u001b[0m0.5456   \u001b[0m | \u001b[0m4.235    \u001b[0m | \u001b[0m21.59    \u001b[0m | \u001b[0m65.74    \u001b[0m | \u001b[0m0.2264   \u001b[0m |\n",
      "| \u001b[0m15       \u001b[0m | \u001b[0m0.7074   \u001b[0m | \u001b[0m0.584    \u001b[0m | \u001b[0m12.43    \u001b[0m | \u001b[0m17.68    \u001b[0m | \u001b[0m116.8    \u001b[0m | \u001b[0m0.4177   \u001b[0m |\n",
      "| \u001b[0m16       \u001b[0m | \u001b[0m0.7072   \u001b[0m | \u001b[0m0.5304   \u001b[0m | \u001b[0m11.96    \u001b[0m | \u001b[0m18.2     \u001b[0m | \u001b[0m117.0    \u001b[0m | \u001b[0m0.9064   \u001b[0m |\n",
      "| \u001b[0m17       \u001b[0m | \u001b[0m0.6949   \u001b[0m | \u001b[0m0.6262   \u001b[0m | \u001b[0m3.832    \u001b[0m | \u001b[0m16.23    \u001b[0m | \u001b[0m96.61    \u001b[0m | \u001b[0m0.5378   \u001b[0m |\n",
      "| \u001b[0m18       \u001b[0m | \u001b[0m0.6984   \u001b[0m | \u001b[0m0.9514   \u001b[0m | \u001b[0m4.14     \u001b[0m | \u001b[0m16.07    \u001b[0m | \u001b[0m244.7    \u001b[0m | \u001b[0m0.9445   \u001b[0m |\n",
      "| \u001b[95m19       \u001b[0m | \u001b[95m0.7087   \u001b[0m | \u001b[95m0.3414   \u001b[0m | \u001b[95m7.131    \u001b[0m | \u001b[95m18.45    \u001b[0m | \u001b[95m247.2    \u001b[0m | \u001b[95m0.8846   \u001b[0m |\n",
      "| \u001b[0m20       \u001b[0m | \u001b[0m0.7058   \u001b[0m | \u001b[0m0.3632   \u001b[0m | \u001b[0m9.399    \u001b[0m | \u001b[0m17.64    \u001b[0m | \u001b[0m246.5    \u001b[0m | \u001b[0m0.1642   \u001b[0m |\n",
      "| \u001b[0m21       \u001b[0m | \u001b[0m0.6901   \u001b[0m | \u001b[0m0.999    \u001b[0m | \u001b[0m7.086    \u001b[0m | \u001b[0m19.84    \u001b[0m | \u001b[0m245.3    \u001b[0m | \u001b[0m0.1      \u001b[0m |\n",
      "| \u001b[0m22       \u001b[0m | \u001b[0m0.7083   \u001b[0m | \u001b[0m0.2868   \u001b[0m | \u001b[0m7.011    \u001b[0m | \u001b[0m16.4     \u001b[0m | \u001b[0m247.4    \u001b[0m | \u001b[0m0.767    \u001b[0m |\n",
      "| \u001b[0m23       \u001b[0m | \u001b[0m0.7076   \u001b[0m | \u001b[0m0.2893   \u001b[0m | \u001b[0m7.713    \u001b[0m | \u001b[0m17.34    \u001b[0m | \u001b[0m246.9    \u001b[0m | \u001b[0m0.4439   \u001b[0m |\n",
      "| \u001b[0m24       \u001b[0m | \u001b[0m0.7053   \u001b[0m | \u001b[0m0.9958   \u001b[0m | \u001b[0m6.109    \u001b[0m | \u001b[0m17.47    \u001b[0m | \u001b[0m248.6    \u001b[0m | \u001b[0m0.7171   \u001b[0m |\n",
      "| \u001b[0m25       \u001b[0m | \u001b[0m0.7052   \u001b[0m | \u001b[0m0.1783   \u001b[0m | \u001b[0m10.45    \u001b[0m | \u001b[0m20.31    \u001b[0m | \u001b[0m221.9    \u001b[0m | \u001b[0m0.7309   \u001b[0m |\n",
      "| \u001b[0m26       \u001b[0m | \u001b[0m0.7077   \u001b[0m | \u001b[0m0.4537   \u001b[0m | \u001b[0m8.581    \u001b[0m | \u001b[0m18.58    \u001b[0m | \u001b[0m249.0    \u001b[0m | \u001b[0m0.9089   \u001b[0m |\n",
      "| \u001b[0m27       \u001b[0m | \u001b[0m0.7003   \u001b[0m | \u001b[0m0.1382   \u001b[0m | \u001b[0m9.926    \u001b[0m | \u001b[0m17.47    \u001b[0m | \u001b[0m221.7    \u001b[0m | \u001b[0m0.7927   \u001b[0m |\n",
      "| \u001b[0m28       \u001b[0m | \u001b[0m0.7064   \u001b[0m | \u001b[0m0.2016   \u001b[0m | \u001b[0m8.873    \u001b[0m | \u001b[0m20.66    \u001b[0m | \u001b[0m220.2    \u001b[0m | \u001b[0m0.5037   \u001b[0m |\n",
      "| \u001b[0m29       \u001b[0m | \u001b[0m0.7068   \u001b[0m | \u001b[0m0.5357   \u001b[0m | \u001b[0m10.55    \u001b[0m | \u001b[0m16.81    \u001b[0m | \u001b[0m116.7    \u001b[0m | \u001b[0m0.1832   \u001b[0m |\n",
      "| \u001b[0m30       \u001b[0m | \u001b[0m0.6975   \u001b[0m | \u001b[0m0.999    \u001b[0m | \u001b[0m7.679    \u001b[0m | \u001b[0m15.69    \u001b[0m | \u001b[0m245.9    \u001b[0m | \u001b[0m0.999    \u001b[0m |\n",
      "| \u001b[0m31       \u001b[0m | \u001b[0m0.7038   \u001b[0m | \u001b[0m0.166    \u001b[0m | \u001b[0m7.839    \u001b[0m | \u001b[0m19.44    \u001b[0m | \u001b[0m221.2    \u001b[0m | \u001b[0m0.2014   \u001b[0m |\n",
      "| \u001b[0m32       \u001b[0m | \u001b[0m0.7049   \u001b[0m | \u001b[0m0.1894   \u001b[0m | \u001b[0m8.6      \u001b[0m | \u001b[0m16.55    \u001b[0m | \u001b[0m248.7    \u001b[0m | \u001b[0m0.3007   \u001b[0m |\n",
      "| \u001b[0m33       \u001b[0m | \u001b[0m0.6972   \u001b[0m | \u001b[0m0.1168   \u001b[0m | \u001b[0m7.088    \u001b[0m | \u001b[0m19.04    \u001b[0m | \u001b[0m248.4    \u001b[0m | \u001b[0m0.8299   \u001b[0m |\n",
      "| \u001b[0m34       \u001b[0m | \u001b[0m0.7068   \u001b[0m | \u001b[0m0.9568   \u001b[0m | \u001b[0m9.395    \u001b[0m | \u001b[0m19.55    \u001b[0m | \u001b[0m220.4    \u001b[0m | \u001b[0m0.2445   \u001b[0m |\n",
      "| \u001b[0m35       \u001b[0m | \u001b[0m0.6972   \u001b[0m | \u001b[0m0.1027   \u001b[0m | \u001b[0m7.465    \u001b[0m | \u001b[0m17.94    \u001b[0m | \u001b[0m246.1    \u001b[0m | \u001b[0m0.2561   \u001b[0m |\n",
      "| \u001b[0m36       \u001b[0m | \u001b[0m0.7043   \u001b[0m | \u001b[0m0.6752   \u001b[0m | \u001b[0m6.065    \u001b[0m | \u001b[0m17.12    \u001b[0m | \u001b[0m246.5    \u001b[0m | \u001b[0m0.9682   \u001b[0m |\n",
      "| \u001b[0m37       \u001b[0m | \u001b[0m0.7058   \u001b[0m | \u001b[0m0.9763   \u001b[0m | \u001b[0m13.13    \u001b[0m | \u001b[0m8.587    \u001b[0m | \u001b[0m237.5    \u001b[0m | \u001b[0m0.2495   \u001b[0m |\n",
      "| \u001b[0m38       \u001b[0m | \u001b[0m0.7076   \u001b[0m | \u001b[0m0.5035   \u001b[0m | \u001b[0m9.2      \u001b[0m | \u001b[0m19.9     \u001b[0m | \u001b[0m220.9    \u001b[0m | \u001b[0m0.4438   \u001b[0m |\n",
      "| \u001b[0m39       \u001b[0m | \u001b[0m0.7061   \u001b[0m | \u001b[0m0.8559   \u001b[0m | \u001b[0m12.61    \u001b[0m | \u001b[0m13.31    \u001b[0m | \u001b[0m184.1    \u001b[0m | \u001b[0m0.2174   \u001b[0m |\n",
      "| \u001b[0m40       \u001b[0m | \u001b[0m0.7081   \u001b[0m | \u001b[0m0.498    \u001b[0m | \u001b[0m7.724    \u001b[0m | \u001b[0m11.31    \u001b[0m | \u001b[0m197.5    \u001b[0m | \u001b[0m0.5672   \u001b[0m |\n",
      "| \u001b[0m41       \u001b[0m | \u001b[0m0.707    \u001b[0m | \u001b[0m0.497    \u001b[0m | \u001b[0m12.15    \u001b[0m | \u001b[0m10.85    \u001b[0m | \u001b[0m242.0    \u001b[0m | \u001b[0m0.4453   \u001b[0m |\n",
      "| \u001b[0m42       \u001b[0m | \u001b[0m0.7061   \u001b[0m | \u001b[0m0.2185   \u001b[0m | \u001b[0m6.786    \u001b[0m | \u001b[0m3.657    \u001b[0m | \u001b[0m206.1    \u001b[0m | \u001b[0m0.6175   \u001b[0m |\n",
      "| \u001b[95m43       \u001b[0m | \u001b[95m0.7089   \u001b[0m | \u001b[95m0.5244   \u001b[0m | \u001b[95m7.559    \u001b[0m | \u001b[95m11.05    \u001b[0m | \u001b[95m196.7    \u001b[0m | \u001b[95m0.5112   \u001b[0m |\n",
      "| \u001b[0m44       \u001b[0m | \u001b[0m0.6945   \u001b[0m | \u001b[0m0.6437   \u001b[0m | \u001b[0m10.75    \u001b[0m | \u001b[0m3.696    \u001b[0m | \u001b[0m25.38    \u001b[0m | \u001b[0m0.3345   \u001b[0m |\n",
      "| \u001b[0m45       \u001b[0m | \u001b[0m0.7076   \u001b[0m | \u001b[0m0.9286   \u001b[0m | \u001b[0m7.441    \u001b[0m | \u001b[0m11.44    \u001b[0m | \u001b[0m196.0    \u001b[0m | \u001b[0m0.3077   \u001b[0m |\n",
      "| \u001b[0m46       \u001b[0m | \u001b[0m0.7062   \u001b[0m | \u001b[0m0.8139   \u001b[0m | \u001b[0m8.136    \u001b[0m | \u001b[0m16.77    \u001b[0m | \u001b[0m247.8    \u001b[0m | \u001b[0m0.7333   \u001b[0m |\n",
      "| \u001b[0m47       \u001b[0m | \u001b[0m0.7076   \u001b[0m | \u001b[0m0.3404   \u001b[0m | \u001b[0m8.43     \u001b[0m | \u001b[0m10.42    \u001b[0m | \u001b[0m197.5    \u001b[0m | \u001b[0m0.8795   \u001b[0m |\n",
      "| \u001b[0m48       \u001b[0m | \u001b[0m0.7081   \u001b[0m | \u001b[0m0.9524   \u001b[0m | \u001b[0m8.729    \u001b[0m | \u001b[0m11.25    \u001b[0m | \u001b[0m197.8    \u001b[0m | \u001b[0m0.2189   \u001b[0m |\n",
      "| \u001b[0m49       \u001b[0m | \u001b[0m0.7084   \u001b[0m | \u001b[0m0.5794   \u001b[0m | \u001b[0m8.327    \u001b[0m | \u001b[0m12.47    \u001b[0m | \u001b[0m196.8    \u001b[0m | \u001b[0m0.1806   \u001b[0m |\n",
      "| \u001b[0m50       \u001b[0m | \u001b[0m0.7086   \u001b[0m | \u001b[0m0.3454   \u001b[0m | \u001b[0m8.766    \u001b[0m | \u001b[0m12.2     \u001b[0m | \u001b[0m195.9    \u001b[0m | \u001b[0m0.7624   \u001b[0m |\n",
      "=====================================================================================\n",
      "{'target': 0.708856824121894, 'params': {'colsample_bytree': 0.5244090020814424, 'max_depth': 7.559296242370165, 'min_child_weight': 11.054606285307766, 'n_estimators': 196.73907071600797, 'subsample': 0.5112150267909228}}\n",
      "----------------------------------------------------------------------------------------------------\n"
     ]
    }
   ],
   "source": [
    "models_dict_xgb = optimize_xgb(45)"
   ]
  },
  {
   "cell_type": "code",
   "execution_count": 10,
   "id": "3899e71f",
   "metadata": {
    "ExecuteTime": {
     "end_time": "2022-02-10T17:16:28.212710Z",
     "start_time": "2022-02-10T17:16:28.199709Z"
    },
    "execution": {
     "iopub.execute_input": "2024-06-15T03:42:12.039791Z",
     "iopub.status.busy": "2024-06-15T03:42:12.039247Z",
     "iopub.status.idle": "2024-06-15T03:42:12.044116Z",
     "shell.execute_reply": "2024-06-15T03:42:12.043340Z",
     "shell.execute_reply.started": "2024-06-15T03:42:12.039758Z"
    }
   },
   "outputs": [],
   "source": [
    "models_dict_rf_mod = models_dict_rf.copy()\n",
    "models_dict_xgb_mod =models_dict_xgb.copy()"
   ]
  },
  {
   "cell_type": "code",
   "execution_count": 11,
   "id": "9f8dbff8",
   "metadata": {
    "ExecuteTime": {
     "end_time": "2022-02-10T17:16:28.228709Z",
     "start_time": "2022-02-10T17:16:28.215709Z"
    },
    "execution": {
     "iopub.execute_input": "2024-06-15T03:42:12.045868Z",
     "iopub.status.busy": "2024-06-15T03:42:12.045171Z",
     "iopub.status.idle": "2024-06-15T03:42:12.053125Z",
     "shell.execute_reply": "2024-06-15T03:42:12.052347Z",
     "shell.execute_reply.started": "2024-06-15T03:42:12.045840Z"
    }
   },
   "outputs": [],
   "source": [
    "for i in models_dict_rf_mod:\n",
    "    models_dict_rf_mod[i]['params']['max_depth'] = int(models_dict_rf_mod[i]['params']['max_depth'])\n",
    "    models_dict_rf_mod[i]['params']['max_features'] = round(models_dict_rf_mod[i]['params']['max_features'],3)\n",
    "    models_dict_rf_mod[i]['params']['min_samples_split'] = int(models_dict_rf_mod[i]['params']['min_samples_split'])\n",
    "    models_dict_rf_mod[i]['params']['n_estimators'] = int(models_dict_rf_mod[i]['params']['n_estimators'])"
   ]
  },
  {
   "cell_type": "code",
   "execution_count": 12,
   "id": "0b387948",
   "metadata": {
    "ExecuteTime": {
     "end_time": "2022-02-10T17:16:28.244710Z",
     "start_time": "2022-02-10T17:16:28.231709Z"
    },
    "execution": {
     "iopub.execute_input": "2024-06-15T03:42:12.054821Z",
     "iopub.status.busy": "2024-06-15T03:42:12.054244Z",
     "iopub.status.idle": "2024-06-15T03:42:12.064908Z",
     "shell.execute_reply": "2024-06-15T03:42:12.064005Z",
     "shell.execute_reply.started": "2024-06-15T03:42:12.054793Z"
    }
   },
   "outputs": [],
   "source": [
    "for i in models_dict_xgb_mod:\n",
    "    models_dict_xgb_mod[i]['params']['max_depth'] = int(models_dict_xgb_mod[i]['params']['max_depth'])\n",
    "    models_dict_xgb_mod[i]['params']['colsample_bytree'] = round(models_dict_xgb_mod[i]['params']['colsample_bytree'],3)\n",
    "    models_dict_xgb_mod[i]['params']['subsample'] = round(models_dict_xgb_mod[i]['params']['subsample'],3)\n",
    "    models_dict_xgb_mod[i]['params']['min_child_weight'] = int(models_dict_xgb_mod[i]['params']['min_child_weight'])\n",
    "    models_dict_xgb_mod[i]['params']['n_estimators'] = int(models_dict_xgb_mod[i]['params']['n_estimators'])"
   ]
  },
  {
   "cell_type": "code",
   "execution_count": 13,
   "id": "a5d886ba",
   "metadata": {
    "ExecuteTime": {
     "end_time": "2022-02-10T17:16:28.260710Z",
     "start_time": "2022-02-10T17:16:28.247709Z"
    },
    "execution": {
     "iopub.execute_input": "2024-06-15T03:42:12.066528Z",
     "iopub.status.busy": "2024-06-15T03:42:12.065969Z",
     "iopub.status.idle": "2024-06-15T03:42:12.072876Z",
     "shell.execute_reply": "2024-06-15T03:42:12.072116Z",
     "shell.execute_reply.started": "2024-06-15T03:42:12.066500Z"
    }
   },
   "outputs": [],
   "source": [
    "np.save('rf_params_revise.npy',models_dict_rf_mod)\n",
    "np.save('xgb_params_revise.npy',models_dict_xgb_mod)"
   ]
  },
  {
   "cell_type": "code",
   "execution_count": 14,
   "id": "5fb07bce",
   "metadata": {
    "ExecuteTime": {
     "end_time": "2022-02-10T17:16:28.276710Z",
     "start_time": "2022-02-10T17:16:28.262709Z"
    },
    "execution": {
     "iopub.execute_input": "2024-06-15T03:42:12.074580Z",
     "iopub.status.busy": "2024-06-15T03:42:12.073888Z",
     "iopub.status.idle": "2024-06-15T03:42:12.078625Z",
     "shell.execute_reply": "2024-06-15T03:42:12.077904Z",
     "shell.execute_reply.started": "2024-06-15T03:42:12.074552Z"
    }
   },
   "outputs": [],
   "source": [
    "#models_dict_rf_mod = np.load('rf_params.npy',allow_pickle=True).item()"
   ]
  },
  {
   "cell_type": "code",
   "execution_count": 15,
   "id": "854c84b1",
   "metadata": {
    "ExecuteTime": {
     "end_time": "2022-02-10T17:16:28.292714Z",
     "start_time": "2022-02-10T17:16:28.278710Z"
    },
    "execution": {
     "iopub.execute_input": "2024-06-15T03:42:12.080140Z",
     "iopub.status.busy": "2024-06-15T03:42:12.079859Z",
     "iopub.status.idle": "2024-06-15T03:42:12.088674Z",
     "shell.execute_reply": "2024-06-15T03:42:12.087825Z",
     "shell.execute_reply.started": "2024-06-15T03:42:12.080114Z"
    },
    "tags": []
   },
   "outputs": [],
   "source": [
    "# total_param_dict = {}\n",
    "# models_dict = {}\n",
    "# n_iter = 195\n",
    "# for i in label_features_dict:\n",
    "#     label = i\n",
    "#     features = label_features_dict[i]\n",
    "#     x_train = dev_df[features]\n",
    "#     y_train = dev_df[label]\n",
    "#     x_test = val_df[features]\n",
    "#     y_test = val_df[label]\n",
    "    \n",
    "# #     gbdt_op = BayesianOptimization(\n",
    "# #         gbdt_cv,\n",
    "# #         {'n_estimators': (10, 250),\n",
    "# #         'min_samples_split': (2, 25),\n",
    "# #         'max_features': (0.1, 0.999),\n",
    "# #         'max_depth': (5, 15)},\n",
    "# #     random_state=2023)\n",
    "\n",
    "#     rf_op = BayesianOptimization(\n",
    "#         rf_cv,\n",
    "#         {'n_estimators': (10, 250),\n",
    "#         'min_samples_split': (2, 25),\n",
    "#         'max_features': (0.1, 0.999),\n",
    "#         'max_depth': (3, 15)},\n",
    "#     random_state = 2023)\n",
    "    \n",
    "#     xgb_op = BayesianOptimization(\n",
    "#         xgb_cv,\n",
    "#         {'n_estimators': (10, 250),\n",
    "#         'min_child_weight': (2, 25),\n",
    "#         #'gama': (0.1, 0.999),\n",
    "#         'subsample': (0.1, 0.999),\n",
    "#         'colsample_bytree': (0.1, 0.999),\n",
    "#         'max_depth': (3, 15)},\n",
    "#     random_state = 2023)\n",
    "    \n",
    "#     print('---------------------------特征为：%s-------------------------------'%label)\n",
    "# #     print('---------------------------模型为：GBDT-------------------------------')\n",
    "# #     gbdt_op.maximize(n_iter=n_iter)\n",
    "# #     print(gbdt_op.max)\n",
    "# #     models_dict['gbdt'] = gbdt_op.max\n",
    "#     print('---------------------------模型为：Random Forest-------------------------------')\n",
    "#     rf_op.maximize(n_iter=n_iter)\n",
    "#     print(rf_op.max)\n",
    "#     models_dict['rf'] = rf_op.max\n",
    "#     print('---------------------------模型为：XGBOOST-------------------------------')\n",
    "#     xgb_op.maximize(n_iter=n_iter)\n",
    "#     print(xgb_op.max)\n",
    "#     models_dict['xgboost'] = xgb_op.max\n",
    "#     total_param_dict[label] = models_dict\n",
    "#     print('----------------------------------------------------------------------------------------------------')"
   ]
  },
  {
   "cell_type": "code",
   "execution_count": null,
   "id": "a2110d02",
   "metadata": {},
   "outputs": [],
   "source": []
  }
 ],
 "metadata": {
  "kernelspec": {
   "display_name": "machine_learning",
   "language": "python",
   "name": "ml"
  },
  "language_info": {
   "codemirror_mode": {
    "name": "ipython",
    "version": 3
   },
   "file_extension": ".py",
   "mimetype": "text/x-python",
   "name": "python",
   "nbconvert_exporter": "python",
   "pygments_lexer": "ipython3",
   "version": "3.9.16"
  },
  "toc": {
   "base_numbering": 1,
   "nav_menu": {},
   "number_sections": true,
   "sideBar": true,
   "skip_h1_title": false,
   "title_cell": "Table of Contents",
   "title_sidebar": "Contents",
   "toc_cell": false,
   "toc_position": {},
   "toc_section_display": true,
   "toc_window_display": false
  }
 },
 "nbformat": 4,
 "nbformat_minor": 5
}
