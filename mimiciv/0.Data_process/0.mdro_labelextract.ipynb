{
 "cells": [
  {
   "cell_type": "code",
   "execution_count": 1,
   "metadata": {
    "ExecuteTime": {
     "end_time": "2021-12-27T07:54:24.705276Z",
     "start_time": "2021-12-27T07:54:23.501270Z"
    },
    "execution": {
     "iopub.execute_input": "2023-11-28T08:33:51.967443Z",
     "iopub.status.busy": "2023-11-28T08:33:51.967299Z",
     "iopub.status.idle": "2023-11-28T08:33:52.638192Z",
     "shell.execute_reply": "2023-11-28T08:33:52.636872Z",
     "shell.execute_reply.started": "2023-11-28T08:33:51.967429Z"
    },
    "tags": []
   },
   "outputs": [],
   "source": [
    "%config IPCompleter.greedy=True\n",
    "import numpy as np\n",
    "import pandas as pd\n",
    "import psycopg2\n",
    "import matplotlib.pyplot as plt\n",
    "import time\n",
    "import re\n",
    "import scipy\n",
    "from datetime import time, timedelta\n",
    "import seaborn as sns\n",
    "pd.set_option('display.max_columns', 100)"
   ]
  },
  {
   "cell_type": "code",
   "execution_count": 8,
   "metadata": {
    "ExecuteTime": {
     "end_time": "2021-12-27T07:54:24.721272Z",
     "start_time": "2021-12-27T07:54:24.708270Z"
    },
    "execution": {
     "iopub.execute_input": "2023-11-28T08:34:31.237133Z",
     "iopub.status.busy": "2023-11-28T08:34:31.236588Z",
     "iopub.status.idle": "2023-11-28T08:34:31.244915Z",
     "shell.execute_reply": "2023-11-28T08:34:31.244153Z",
     "shell.execute_reply.started": "2023-11-28T08:34:31.237084Z"
    },
    "tags": []
   },
   "outputs": [],
   "source": [
    "'''\n",
    "*****自定义数据提取的代码*****\n",
    "输入：\n",
    "    sql:常规sql代码\n",
    "\n",
    "输出：\n",
    "    dataframe格式数据表格\n",
    "    \n",
    "备注：\n",
    "    当sql代码出错的时候，函数会返回sql的报错内容\n",
    "'''\n",
    "def get_data_MIMIC(sql):\n",
    "    conn = psycopg2.connect(database=\"mimiciv2_2\",user=\"postgres\",\n",
    "                           password=\"postgres\",\n",
    "                            host=\"10.245.99.98\",\n",
    "                            #ost=\"172.16.2.76\",\n",
    "                            port=\"5433\")\n",
    "    cur = conn.cursor()\n",
    "    try:\n",
    "        cur.execute(sql)\n",
    "        #获取表的所有字段名称\n",
    "        coloumns = [row[0] for row in cur.description]\n",
    "        result = [[str(item) for item in row] for row in cur.fetchall()]\n",
    "        return pd.DataFrame(result,columns=coloumns)\n",
    "    except Exception as ex:\n",
    "        print(ex)\n",
    "    finally:\n",
    "        conn.close()"
   ]
  },
  {
   "cell_type": "code",
   "execution_count": 3,
   "metadata": {
    "ExecuteTime": {
     "end_time": "2021-12-27T07:54:24.736270Z",
     "start_time": "2021-12-27T07:54:24.724274Z"
    },
    "execution": {
     "iopub.execute_input": "2023-11-28T08:33:52.701935Z",
     "iopub.status.busy": "2023-11-28T08:33:52.701775Z",
     "iopub.status.idle": "2023-11-28T08:33:52.705446Z",
     "shell.execute_reply": "2023-11-28T08:33:52.705039Z",
     "shell.execute_reply.started": "2023-11-28T08:33:52.701921Z"
    },
    "tags": []
   },
   "outputs": [],
   "source": [
    "def trans_id(df):\n",
    "    for i in ['subject_id','hadm_id','stay_id']:\n",
    "        if i in df.columns.tolist():\n",
    "            if df[i].dtype == object:\n",
    "                if ((df[i]== 'None')|(df[i]== 'Null')).any():\n",
    "                    df[i].replace('None',np.nan,inplace = True)\n",
    "                    df[i].replace('Null',np.nan,inplace = True)\n",
    "                    df[i] = df[i].astype(float)\n",
    "                else:\n",
    "                    df[i] = df[i].astype(float)"
   ]
  },
  {
   "cell_type": "code",
   "execution_count": 4,
   "metadata": {
    "ExecuteTime": {
     "end_time": "2021-12-27T07:54:24.751271Z",
     "start_time": "2021-12-27T07:54:24.738270Z"
    },
    "execution": {
     "iopub.execute_input": "2023-11-28T08:33:52.706202Z",
     "iopub.status.busy": "2023-11-28T08:33:52.706052Z",
     "iopub.status.idle": "2023-11-28T08:33:52.708873Z",
     "shell.execute_reply": "2023-11-28T08:33:52.708468Z",
     "shell.execute_reply.started": "2023-11-28T08:33:52.706188Z"
    },
    "tags": []
   },
   "outputs": [],
   "source": [
    "def trans_time(t):\n",
    "    if t == 'None':\n",
    "        return np.datetime64('NaT')\n",
    "    elif pd.isna(t):\n",
    "        return np.datetime64('NaT')\n",
    "    else:\n",
    "        return np.datetime64(t)"
   ]
  },
  {
   "cell_type": "code",
   "execution_count": 5,
   "metadata": {
    "ExecuteTime": {
     "end_time": "2021-12-27T07:54:24.767272Z",
     "start_time": "2021-12-27T07:54:24.754269Z"
    },
    "execution": {
     "iopub.execute_input": "2023-11-28T08:33:52.710292Z",
     "iopub.status.busy": "2023-11-28T08:33:52.710139Z",
     "iopub.status.idle": "2023-11-28T08:33:52.713335Z",
     "shell.execute_reply": "2023-11-28T08:33:52.712958Z",
     "shell.execute_reply.started": "2023-11-28T08:33:52.710278Z"
    },
    "tags": []
   },
   "outputs": [],
   "source": [
    "def trans_float(df):\n",
    "    for i in df.columns:\n",
    "        if df[i].dtype == object:\n",
    "            if ((df[i]== 'None')|(df[i]== 'Null')).any():\n",
    "                df[i].replace('None',np.nan,inplace = True)\n",
    "                df[i].replace('Null',np.nan,inplace = True)\n",
    "                df[i] = df[i].astype(float)\n",
    "            else:\n",
    "                df[i] = df[i].astype(float)"
   ]
  },
  {
   "cell_type": "markdown",
   "metadata": {},
   "source": [
    "# 提取微生物信息"
   ]
  },
  {
   "cell_type": "code",
   "execution_count": 9,
   "metadata": {
    "ExecuteTime": {
     "end_time": "2021-12-27T07:56:35.209767Z",
     "start_time": "2021-12-27T07:54:24.769270Z"
    },
    "execution": {
     "iopub.execute_input": "2023-11-28T08:34:33.538528Z",
     "iopub.status.busy": "2023-11-28T08:34:33.537970Z",
     "iopub.status.idle": "2023-11-28T09:07:35.857169Z",
     "shell.execute_reply": "2023-11-28T09:07:35.855670Z",
     "shell.execute_reply.started": "2023-11-28T08:34:33.538478Z"
    },
    "tags": []
   },
   "outputs": [],
   "source": [
    "microevents = get_data_MIMIC('''\n",
    "set search_path to mimiciv2_2;\n",
    "select distinct *\n",
    "from mimiciv_hosp.microbiologyevents\n",
    "''')"
   ]
  },
  {
   "cell_type": "code",
   "execution_count": 10,
   "metadata": {
    "ExecuteTime": {
     "end_time": "2022-01-04T07:43:01.048647Z",
     "start_time": "2022-01-04T07:43:00.418648Z"
    },
    "execution": {
     "iopub.execute_input": "2023-11-28T09:07:35.864827Z",
     "iopub.status.busy": "2023-11-28T09:07:35.864672Z",
     "iopub.status.idle": "2023-11-28T09:07:35.867408Z",
     "shell.execute_reply": "2023-11-28T09:07:35.866990Z",
     "shell.execute_reply.started": "2023-11-28T09:07:35.864813Z"
    }
   },
   "outputs": [],
   "source": [
    "# org_mimiciv = pd.DataFrame(microevents.org_name.value_counts())\n",
    "# org_mimiciv = org_mimiciv.reset_index()\n",
    "# org_mimiciv.columns = ['org_name','number']\n",
    "# org_name = pd.read_excel('org_name.xlsx',sheet_name = '含真菌')\n",
    "# org_mimiciv_tot = pd.merge(org_mimiciv, org_name, how = 'left', on = ['org_name'])\n",
    "# org_mimiciv_tot.to_excel('micro_label_mimiciv_tot_tobefinished.xlsx')"
   ]
  },
  {
   "cell_type": "code",
   "execution_count": 11,
   "metadata": {
    "ExecuteTime": {
     "end_time": "2021-12-27T07:56:37.668776Z",
     "start_time": "2021-12-27T07:56:35.214762Z"
    },
    "execution": {
     "iopub.execute_input": "2023-11-28T09:07:35.868789Z",
     "iopub.status.busy": "2023-11-28T09:07:35.868634Z",
     "iopub.status.idle": "2023-11-28T09:08:23.960043Z",
     "shell.execute_reply": "2023-11-28T09:08:23.958652Z",
     "shell.execute_reply.started": "2023-11-28T09:07:35.868775Z"
    }
   },
   "outputs": [],
   "source": [
    "icustays = get_data_MIMIC('''\n",
    "set search_path to mimiciv2_2;\n",
    "select distinct *\n",
    "from mimiciv_derived.icustay_detail\n",
    "''')"
   ]
  },
  {
   "cell_type": "code",
   "execution_count": 12,
   "metadata": {
    "ExecuteTime": {
     "end_time": "2021-12-27T07:56:46.083763Z",
     "start_time": "2021-12-27T07:56:37.671761Z"
    },
    "execution": {
     "iopub.execute_input": "2023-11-28T09:08:23.961058Z",
     "iopub.status.busy": "2023-11-28T09:08:23.960878Z",
     "iopub.status.idle": "2023-11-28T09:08:27.720758Z",
     "shell.execute_reply": "2023-11-28T09:08:27.719932Z",
     "shell.execute_reply.started": "2023-11-28T09:08:23.961042Z"
    }
   },
   "outputs": [],
   "source": [
    "microevents = microevents[microevents['subject_id'].isin(icustays['subject_id'])]"
   ]
  },
  {
   "cell_type": "code",
   "execution_count": 14,
   "metadata": {
    "ExecuteTime": {
     "end_time": "2021-12-27T07:56:46.671766Z",
     "start_time": "2021-12-27T07:56:46.085762Z"
    },
    "execution": {
     "iopub.execute_input": "2023-11-28T12:19:13.033989Z",
     "iopub.status.busy": "2023-11-28T12:19:13.033370Z",
     "iopub.status.idle": "2023-11-28T12:19:13.146082Z",
     "shell.execute_reply": "2023-11-28T12:19:13.144834Z",
     "shell.execute_reply.started": "2023-11-28T12:19:13.033936Z"
    },
    "tags": []
   },
   "outputs": [],
   "source": [
    "org_name_sel = pd.read_excel('org_name.xlsx',sheet_name='sel')"
   ]
  },
  {
   "cell_type": "code",
   "execution_count": 15,
   "metadata": {
    "ExecuteTime": {
     "end_time": "2021-12-27T07:56:46.703767Z",
     "start_time": "2021-12-27T07:56:46.674762Z"
    },
    "execution": {
     "iopub.execute_input": "2023-11-28T12:19:21.513852Z",
     "iopub.status.busy": "2023-11-28T12:19:21.513258Z",
     "iopub.status.idle": "2023-11-28T12:19:21.521513Z",
     "shell.execute_reply": "2023-11-28T12:19:21.520648Z",
     "shell.execute_reply.started": "2023-11-28T12:19:21.513801Z"
    },
    "tags": []
   },
   "outputs": [],
   "source": [
    "test_name_sel = pd.read_csv('test_name_sel.csv').iloc[:,0].to_list()"
   ]
  },
  {
   "cell_type": "code",
   "execution_count": 16,
   "metadata": {
    "ExecuteTime": {
     "end_time": "2021-12-27T07:56:51.455766Z",
     "start_time": "2021-12-27T07:56:46.706762Z"
    },
    "execution": {
     "iopub.execute_input": "2023-11-28T12:19:22.646165Z",
     "iopub.status.busy": "2023-11-28T12:19:22.645631Z",
     "iopub.status.idle": "2023-11-28T12:19:26.970251Z",
     "shell.execute_reply": "2023-11-28T12:19:26.968913Z",
     "shell.execute_reply.started": "2023-11-28T12:19:22.646115Z"
    },
    "tags": []
   },
   "outputs": [],
   "source": [
    "trans_id(microevents)"
   ]
  },
  {
   "cell_type": "code",
   "execution_count": 17,
   "metadata": {
    "ExecuteTime": {
     "end_time": "2021-12-27T07:56:53.676768Z",
     "start_time": "2021-12-27T07:56:51.459761Z"
    },
    "execution": {
     "iopub.execute_input": "2023-11-28T12:19:38.675520Z",
     "iopub.status.busy": "2023-11-28T12:19:38.674843Z",
     "iopub.status.idle": "2023-11-28T12:19:40.238181Z",
     "shell.execute_reply": "2023-11-28T12:19:40.236878Z",
     "shell.execute_reply.started": "2023-11-28T12:19:38.675462Z"
    },
    "tags": []
   },
   "outputs": [],
   "source": [
    "microevents = microevents[microevents['test_name'].isin(test_name_sel)]"
   ]
  },
  {
   "cell_type": "code",
   "execution_count": 18,
   "metadata": {
    "ExecuteTime": {
     "end_time": "2022-01-08T16:07:50.321472Z",
     "start_time": "2022-01-08T16:07:49.630473Z"
    },
    "execution": {
     "iopub.execute_input": "2023-11-28T12:19:41.015843Z",
     "iopub.status.busy": "2023-11-28T12:19:41.015269Z",
     "iopub.status.idle": "2023-11-28T12:19:41.135955Z",
     "shell.execute_reply": "2023-11-28T12:19:41.135324Z",
     "shell.execute_reply.started": "2023-11-28T12:19:41.015791Z"
    },
    "tags": []
   },
   "outputs": [
    {
     "data": {
      "text/html": [
       "<div>\n",
       "<style scoped>\n",
       "    .dataframe tbody tr th:only-of-type {\n",
       "        vertical-align: middle;\n",
       "    }\n",
       "\n",
       "    .dataframe tbody tr th {\n",
       "        vertical-align: top;\n",
       "    }\n",
       "\n",
       "    .dataframe thead th {\n",
       "        text-align: right;\n",
       "    }\n",
       "</style>\n",
       "<table border=\"1\" class=\"dataframe\">\n",
       "  <thead>\n",
       "    <tr style=\"text-align: right;\">\n",
       "      <th></th>\n",
       "      <th>microevent_id</th>\n",
       "      <th>subject_id</th>\n",
       "      <th>hadm_id</th>\n",
       "      <th>micro_specimen_id</th>\n",
       "      <th>order_provider_id</th>\n",
       "      <th>chartdate</th>\n",
       "      <th>charttime</th>\n",
       "      <th>spec_itemid</th>\n",
       "      <th>spec_type_desc</th>\n",
       "      <th>test_seq</th>\n",
       "      <th>storedate</th>\n",
       "      <th>storetime</th>\n",
       "      <th>test_itemid</th>\n",
       "      <th>test_name</th>\n",
       "      <th>org_itemid</th>\n",
       "      <th>org_name</th>\n",
       "      <th>isolate_num</th>\n",
       "      <th>quantity</th>\n",
       "      <th>ab_itemid</th>\n",
       "      <th>ab_name</th>\n",
       "      <th>dilution_text</th>\n",
       "      <th>dilution_comparison</th>\n",
       "      <th>dilution_value</th>\n",
       "      <th>interpretation</th>\n",
       "      <th>comments</th>\n",
       "    </tr>\n",
       "  </thead>\n",
       "  <tbody>\n",
       "  </tbody>\n",
       "</table>\n",
       "</div>"
      ],
      "text/plain": [
       "Empty DataFrame\n",
       "Columns: [microevent_id, subject_id, hadm_id, micro_specimen_id, order_provider_id, chartdate, charttime, spec_itemid, spec_type_desc, test_seq, storedate, storetime, test_itemid, test_name, org_itemid, org_name, isolate_num, quantity, ab_itemid, ab_name, dilution_text, dilution_comparison, dilution_value, interpretation, comments]\n",
       "Index: []"
      ]
     },
     "execution_count": 18,
     "metadata": {},
     "output_type": "execute_result"
    }
   ],
   "source": [
    "microevents[microevents['test_name'] == 'DIRECT AFB STAIN-BI']"
   ]
  },
  {
   "cell_type": "code",
   "execution_count": 19,
   "metadata": {
    "ExecuteTime": {
     "end_time": "2022-01-08T16:06:53.101170Z",
     "start_time": "2022-01-08T16:06:53.084170Z"
    },
    "execution": {
     "iopub.execute_input": "2023-11-28T12:19:46.007681Z",
     "iopub.status.busy": "2023-11-28T12:19:46.007067Z",
     "iopub.status.idle": "2023-11-28T12:19:46.017419Z",
     "shell.execute_reply": "2023-11-28T12:19:46.016732Z",
     "shell.execute_reply.started": "2023-11-28T12:19:46.007627Z"
    },
    "tags": []
   },
   "outputs": [
    {
     "data": {
      "text/plain": [
       "['URINE CULTURE',\n",
       " 'Blood Culture, Routine',\n",
       " 'MRSA SCREEN',\n",
       " 'RESPIRATORY CULTURE',\n",
       " 'ANAEROBIC CULTURE',\n",
       " 'FLUID CULTURE',\n",
       " 'WOUND CULTURE',\n",
       " 'FUNGAL CULTURE',\n",
       " 'FECAL CULTURE',\n",
       " 'CAMPYLOBACTER CULTURE',\n",
       " 'DIRECT AFB STAIN-BI',\n",
       " 'Rapid Respiratory Viral Antigen Test',\n",
       " 'Respiratory Viral Culture',\n",
       " 'TISSUE',\n",
       " 'Staph aureus Screen',\n",
       " 'LEGIONELLA CULTURE',\n",
       " 'R/O VANCOMYCIN RESISTANT ENTEROCOCCUS',\n",
       " 'FECAL CULTURE - R/O E.COLI 0157:H7',\n",
       " 'BLOOD/FUNGAL CULTURE',\n",
       " 'Fluid Culture in Bottles',\n",
       " 'BLOOD/AFB CULTURE',\n",
       " 'FECAL CULTURE - R/O YERSINIA',\n",
       " 'FECAL CULTURE - R/O VIBRIO',\n",
       " 'NOCARDIA CULTURE',\n",
       " 'VARICELLA-ZOSTER CULTURE',\n",
       " 'CHROMOSOME ANALYSIS-BONE MARROW',\n",
       " 'THROAT - R/O BETA STREP',\n",
       " 'MTB Direct Amplification',\n",
       " 'Tissue Culture-Bone Marrow',\n",
       " 'RUBEOLA ANTIBODY, IgG',\n",
       " 'MONOSPOT',\n",
       " 'FUNGAL CULTURE (HAIR/SKIN/NAILS)',\n",
       " 'Tissue Culture - Neoplastic Blood',\n",
       " 'BRUCELLA BLOOD CULTURE',\n",
       " 'R/O GROUP B BETA STREP',\n",
       " 'Swab - R/O Yeast - IC',\n",
       " 'Carbapenemase Resistant Enterobacteriaceae Screen',\n",
       " 'GEN-PROBE AMPLIFIED M. TUBERCULOSIS DIRECT TEST (MTD)',\n",
       " 'M. furfur Blood Culture',\n",
       " 'SWAB- R/O YEAST',\n",
       " 'TISSUE CULTURE-FLUID',\n",
       " 'AEROBIC BOTTLE',\n",
       " 'ANAEROBIC BOTTLE',\n",
       " 'TISSUE CULTURE-TISSUE',\n",
       " 'Blood Culture, Neonate',\n",
       " 'R/O Group B Strep - Penicillin Allergy',\n",
       " 'Anaerobic culture, Prosthetic Joint Fluid',\n",
       " 'TISSUE CULTURE-LYMPHOCYTE',\n",
       " 'BRUCELLA CULTURE',\n",
       " 'BARTONELLA BLOOD CULTURE',\n",
       " 'REFLEX URINE CULTURE',\n",
       " 'ISOLATE FOR MIC',\n",
       " 'GENITAL CULTURE',\n",
       " 'Sonication culture, prosthetic joint',\n",
       " 'GENITAL CULTURE FOR TOXIC SHOCK',\n",
       " 'YEAST VAGINITIS CULTURE',\n",
       " 'R/O GC Only',\n",
       " 'C. difficile DNA amplification assay',\n",
       " 'CLOSTRIDIUM DIFFICILE TOXIN A & B TEST',\n",
       " 'CLOSTRIDIUM DIFFICILE TOXIN ASSAY',\n",
       " 'VIRAL CULTURE']"
      ]
     },
     "execution_count": 19,
     "metadata": {},
     "output_type": "execute_result"
    }
   ],
   "source": [
    "test_name_sel"
   ]
  },
  {
   "cell_type": "code",
   "execution_count": 20,
   "metadata": {
    "ExecuteTime": {
     "end_time": "2021-12-27T07:57:09.642768Z",
     "start_time": "2021-12-27T07:56:53.679761Z"
    },
    "execution": {
     "iopub.execute_input": "2023-11-28T12:20:00.074657Z",
     "iopub.status.busy": "2023-11-28T12:20:00.074026Z",
     "iopub.status.idle": "2023-11-28T12:20:08.074706Z",
     "shell.execute_reply": "2023-11-28T12:20:08.073376Z",
     "shell.execute_reply.started": "2023-11-28T12:20:00.074605Z"
    },
    "tags": []
   },
   "outputs": [],
   "source": [
    "for i in ['chartdate','charttime','storedate','storetime']:\n",
    "    microevents[i] = microevents[i].apply(trans_time)"
   ]
  },
  {
   "cell_type": "code",
   "execution_count": 21,
   "metadata": {
    "ExecuteTime": {
     "end_time": "2021-12-27T07:57:53.739767Z",
     "start_time": "2021-12-27T07:57:09.645766Z"
    },
    "execution": {
     "iopub.execute_input": "2023-11-28T12:20:08.083579Z",
     "iopub.status.busy": "2023-11-28T12:20:08.083425Z",
     "iopub.status.idle": "2023-11-28T12:20:29.974021Z",
     "shell.execute_reply": "2023-11-28T12:20:29.973042Z",
     "shell.execute_reply.started": "2023-11-28T12:20:08.083564Z"
    },
    "tags": []
   },
   "outputs": [],
   "source": [
    "microevents['charttime'] = microevents[['chartdate','charttime']].\\\n",
    "apply(lambda x: x[0] if pd.isna(x[1]) else x[1], axis = 1)"
   ]
  },
  {
   "cell_type": "code",
   "execution_count": 22,
   "metadata": {
    "ExecuteTime": {
     "end_time": "2021-12-27T07:58:39.880767Z",
     "start_time": "2021-12-27T07:57:53.742763Z"
    },
    "execution": {
     "iopub.execute_input": "2023-11-28T12:20:29.975456Z",
     "iopub.status.busy": "2023-11-28T12:20:29.975264Z",
     "iopub.status.idle": "2023-11-28T12:20:52.130545Z",
     "shell.execute_reply": "2023-11-28T12:20:52.129047Z",
     "shell.execute_reply.started": "2023-11-28T12:20:29.975440Z"
    },
    "tags": []
   },
   "outputs": [],
   "source": [
    "microevents['storetime'] = microevents[['storedate','storetime']].\\\n",
    "apply(lambda x: x[0] if pd.isna(x[1]) else x[1],axis =1)"
   ]
  },
  {
   "cell_type": "code",
   "execution_count": 23,
   "metadata": {
    "ExecuteTime": {
     "end_time": "2021-12-27T07:58:46.367403Z",
     "start_time": "2021-12-27T07:58:39.883762Z"
    },
    "execution": {
     "iopub.execute_input": "2023-11-28T12:20:52.140583Z",
     "iopub.status.busy": "2023-11-28T12:20:52.140436Z",
     "iopub.status.idle": "2023-11-28T12:20:54.306253Z",
     "shell.execute_reply": "2023-11-28T12:20:54.304872Z",
     "shell.execute_reply.started": "2023-11-28T12:20:52.140570Z"
    },
    "tags": []
   },
   "outputs": [],
   "source": [
    "microevents_2 = pd.merge(microevents,org_name_sel[['org_name','org_category']],\\\n",
    "                         how = 'left', on = ['org_name'])"
   ]
  },
  {
   "cell_type": "code",
   "execution_count": 24,
   "metadata": {
    "ExecuteTime": {
     "end_time": "2021-12-27T07:58:49.738766Z",
     "start_time": "2021-12-27T07:58:46.368762Z"
    },
    "execution": {
     "iopub.execute_input": "2023-11-28T12:22:15.345077Z",
     "iopub.status.busy": "2023-11-28T12:22:15.344477Z",
     "iopub.status.idle": "2023-11-28T12:22:18.009345Z",
     "shell.execute_reply": "2023-11-28T12:22:18.008563Z",
     "shell.execute_reply.started": "2023-11-28T12:22:15.345024Z"
    },
    "tags": []
   },
   "outputs": [
    {
     "data": {
      "text/plain": [
       "None                                               576381\n",
       "STAPH AUREUS COAG +                                 17237\n",
       "YEAST                                               17000\n",
       "ESCHERICHIA COLI                                    15067\n",
       "STAPHYLOCOCCUS, COAGULASE NEGATIVE                   8349\n",
       "ENTEROCOCCUS SP.                                     7641\n",
       "CANCELLED                                            6583\n",
       "KLEBSIELLA PNEUMONIAE                                6129\n",
       "PSEUDOMONAS AERUGINOSA                               6097\n",
       "MIXED BACTERIAL FLORA                                3607\n",
       "GRAM POSITIVE BACTERIA                               3217\n",
       "POSITIVE FOR METHICILLIN RESISTANT STAPH AUREUS      2776\n",
       "GRAM NEGATIVE ROD(S)                                 2726\n",
       "PROTEUS MIRABILIS                                    2651\n",
       "CORYNEBACTERIUM SPECIES (DIPHTHEROIDS)               2193\n",
       "BETA STREPTOCOCCUS GROUP B                           1980\n",
       "ENTEROCOCCUS FAECIUM                                 1882\n",
       "VIRIDANS STREPTOCOCCI                                1300\n",
       "BACTEROIDES FRAGILIS GROUP                           1299\n",
       "ENTEROBACTER CLOACAE COMPLEX                         1260\n",
       "Name: org_name, dtype: int64"
      ]
     },
     "execution_count": 24,
     "metadata": {},
     "output_type": "execute_result"
    }
   ],
   "source": [
    "microevents_2[['subject_id','micro_specimen_id','org_name']].\\\n",
    "drop_duplicates().org_name.value_counts().head(20)"
   ]
  },
  {
   "cell_type": "code",
   "execution_count": 25,
   "metadata": {
    "ExecuteTime": {
     "end_time": "2021-12-27T07:58:51.106765Z",
     "start_time": "2021-12-27T07:58:49.740762Z"
    },
    "execution": {
     "iopub.execute_input": "2023-11-28T12:22:18.018714Z",
     "iopub.status.busy": "2023-11-28T12:22:18.018560Z",
     "iopub.status.idle": "2023-11-28T12:22:18.850487Z",
     "shell.execute_reply": "2023-11-28T12:22:18.849742Z",
     "shell.execute_reply.started": "2023-11-28T12:22:18.018699Z"
    },
    "tags": []
   },
   "outputs": [
    {
     "data": {
      "text/plain": [
       "Enterobacteriaceae        30637\n",
       "Staphylococcus aureus     20013\n",
       "Enterococcus spp.         11130\n",
       "Pseudomonas aeruginosa     6107\n",
       "Acinetobacter spp.          572\n",
       "Name: org_category, dtype: int64"
      ]
     },
     "execution_count": 25,
     "metadata": {},
     "output_type": "execute_result"
    }
   ],
   "source": [
    "microevents_2[['subject_id','micro_specimen_id','org_name','org_category']].\\\n",
    "drop_duplicates().org_category.value_counts().head(10)"
   ]
  },
  {
   "cell_type": "code",
   "execution_count": 26,
   "metadata": {
    "ExecuteTime": {
     "end_time": "2021-12-27T07:58:51.805767Z",
     "start_time": "2021-12-27T07:58:51.109769Z"
    },
    "execution": {
     "iopub.execute_input": "2023-11-28T12:22:18.851961Z",
     "iopub.status.busy": "2023-11-28T12:22:18.851779Z",
     "iopub.status.idle": "2023-11-28T12:22:19.232737Z",
     "shell.execute_reply": "2023-11-28T12:22:19.231996Z",
     "shell.execute_reply.started": "2023-11-28T12:22:18.851945Z"
    },
    "tags": []
   },
   "outputs": [
    {
     "data": {
      "text/plain": [
       "None                    724301\n",
       "GENTAMICIN               54212\n",
       "TRIMETHOPRIM/SULFA       44602\n",
       "CEFTAZIDIME              36427\n",
       "CIPROFLOXACIN            36326\n",
       "MEROPENEM                36147\n",
       "TOBRAMYCIN               36095\n",
       "CEFEPIME                 36051\n",
       "CEFTRIAXONE              30333\n",
       "PIPERACILLIN/TAZO        30052\n",
       "AMPICILLIN               25316\n",
       "AMPICILLIN/SULBACTAM     24197\n",
       "NITROFURANTOIN           23788\n",
       "CEFAZOLIN                22535\n",
       "VANCOMYCIN               20726\n",
       "LEVOFLOXACIN             19466\n",
       "TETRACYCLINE             18621\n",
       "ERYTHROMYCIN             18069\n",
       "OXACILLIN                17827\n",
       "CLINDAMYCIN              16461\n",
       "RIFAMPIN                  7988\n",
       "PENICILLIN G              6944\n",
       "AMIKACIN                  3880\n",
       "PIPERACILLIN              3675\n",
       "LINEZOLID                 3514\n",
       "CEFUROXIME                3179\n",
       "DAPTOMYCIN                2106\n",
       "IMIPENEM                  1290\n",
       "Name: ab_name, dtype: int64"
      ]
     },
     "execution_count": 26,
     "metadata": {},
     "output_type": "execute_result"
    }
   ],
   "source": [
    "microevents_2[['subject_id','micro_specimen_id','org_name','org_category',\\\n",
    "               'ab_name','interpretation']].ab_name.value_counts()"
   ]
  },
  {
   "cell_type": "code",
   "execution_count": 27,
   "metadata": {
    "ExecuteTime": {
     "end_time": "2021-12-27T07:58:53.975767Z",
     "start_time": "2021-12-27T07:58:51.808762Z"
    },
    "execution": {
     "iopub.execute_input": "2023-11-28T12:22:19.233739Z",
     "iopub.status.busy": "2023-11-28T12:22:19.233543Z",
     "iopub.status.idle": "2023-11-28T12:22:20.580465Z",
     "shell.execute_reply": "2023-11-28T12:22:20.579377Z",
     "shell.execute_reply.started": "2023-11-28T12:22:19.233724Z"
    },
    "tags": []
   },
   "outputs": [],
   "source": [
    "mdr_cal = microevents_2[['subject_id','micro_specimen_id','org_name',\\\n",
    "'org_category','ab_name','interpretation']].drop_duplicates()"
   ]
  },
  {
   "cell_type": "code",
   "execution_count": 28,
   "metadata": {
    "ExecuteTime": {
     "end_time": "2021-12-27T07:59:03.109761Z",
     "start_time": "2021-12-27T07:58:53.978761Z"
    },
    "execution": {
     "iopub.execute_input": "2023-11-28T12:22:20.590085Z",
     "iopub.status.busy": "2023-11-28T12:22:20.589935Z",
     "iopub.status.idle": "2023-11-28T12:22:26.024167Z",
     "shell.execute_reply": "2023-11-28T12:22:26.023086Z",
     "shell.execute_reply.started": "2023-11-28T12:22:20.590071Z"
    },
    "tags": []
   },
   "outputs": [],
   "source": [
    "MDR_CAL_cha = mdr_cal.set_index(['subject_id','micro_specimen_id',\\\n",
    "'org_name','org_category','ab_name'], append=True).unstack(-1).reset_index()"
   ]
  },
  {
   "cell_type": "code",
   "execution_count": 29,
   "metadata": {
    "ExecuteTime": {
     "end_time": "2021-12-27T07:59:04.574761Z",
     "start_time": "2021-12-27T07:59:03.115762Z"
    },
    "execution": {
     "iopub.execute_input": "2023-11-28T12:22:26.045154Z",
     "iopub.status.busy": "2023-11-28T12:22:26.045007Z",
     "iopub.status.idle": "2023-11-28T12:22:27.152102Z",
     "shell.execute_reply": "2023-11-28T12:22:27.150758Z",
     "shell.execute_reply.started": "2023-11-28T12:22:26.045141Z"
    },
    "tags": []
   },
   "outputs": [],
   "source": [
    "MDR_CAL_cha = MDR_CAL_cha.iloc[:,1:]\n",
    "MDR_CAL_cha.columns = ['subject_id','micro_specimen_id',\\\n",
    "'org_name','org_category'] + MDR_CAL_cha['interpretation'].columns.to_list()"
   ]
  },
  {
   "cell_type": "code",
   "execution_count": 30,
   "metadata": {
    "ExecuteTime": {
     "end_time": "2021-12-27T07:59:05.049077Z",
     "start_time": "2021-12-27T07:59:04.578762Z"
    },
    "execution": {
     "iopub.execute_input": "2023-11-28T12:22:27.162722Z",
     "iopub.status.busy": "2023-11-28T12:22:27.162567Z",
     "iopub.status.idle": "2023-11-28T12:22:27.439086Z",
     "shell.execute_reply": "2023-11-28T12:22:27.438255Z",
     "shell.execute_reply.started": "2023-11-28T12:22:27.162708Z"
    },
    "tags": []
   },
   "outputs": [],
   "source": [
    "MDR_CAL_cha.drop(columns = 'None', inplace = True)"
   ]
  },
  {
   "cell_type": "code",
   "execution_count": 31,
   "metadata": {
    "ExecuteTime": {
     "end_time": "2021-12-27T07:59:08.393761Z",
     "start_time": "2021-12-27T07:59:05.051766Z"
    },
    "execution": {
     "iopub.execute_input": "2023-11-28T12:22:27.440185Z",
     "iopub.status.busy": "2023-11-28T12:22:27.440002Z",
     "iopub.status.idle": "2023-11-28T12:22:29.248727Z",
     "shell.execute_reply": "2023-11-28T12:22:29.248075Z",
     "shell.execute_reply.started": "2023-11-28T12:22:27.440169Z"
    },
    "tags": []
   },
   "outputs": [
    {
     "data": {
      "text/plain": [
       "None                       576381\n",
       "ESCHERICHIA COLI           176479\n",
       "STAPH AUREUS COAG +         97944\n",
       "KLEBSIELLA PNEUMONIAE       64102\n",
       "PSEUDOMONAS AERUGINOSA      39918\n",
       "                            ...  \n",
       "NEISSERIA SUBFLAVA              1\n",
       "POSITIVE FOR ADENOVIRUS         1\n",
       "SALMONELLA NEWPORT              1\n",
       "STEMPHYLIUM SP.                 1\n",
       "PHOMA SPECIES                   1\n",
       "Name: org_name, Length: 472, dtype: int64"
      ]
     },
     "execution_count": 31,
     "metadata": {},
     "output_type": "execute_result"
    }
   ],
   "source": [
    "MDR_CAL_cha.drop_duplicates().org_name.value_counts()"
   ]
  },
  {
   "cell_type": "code",
   "execution_count": 32,
   "metadata": {
    "ExecuteTime": {
     "end_time": "2021-12-27T07:59:19.347767Z",
     "start_time": "2021-12-27T07:59:08.396761Z"
    },
    "execution": {
     "iopub.execute_input": "2023-11-28T12:22:29.249574Z",
     "iopub.status.busy": "2023-11-28T12:22:29.249405Z",
     "iopub.status.idle": "2023-11-28T12:22:36.893667Z",
     "shell.execute_reply": "2023-11-28T12:22:36.892857Z",
     "shell.execute_reply.started": "2023-11-28T12:22:29.249559Z"
    },
    "tags": []
   },
   "outputs": [],
   "source": [
    "MDR_CAL_cha_test = MDR_CAL_cha.copy()\n",
    "\n",
    "#抗生素的名称列表\n",
    "ab_list = MDR_CAL_cha.columns.to_list()\n",
    "del ab_list[0:4]\n",
    "\n",
    "for i in ab_list:\n",
    "    MDR_CAL_cha_test[i] = MDR_CAL_cha_test[i].astype(str)"
   ]
  },
  {
   "cell_type": "code",
   "execution_count": 33,
   "metadata": {
    "ExecuteTime": {
     "end_time": "2021-12-27T07:59:20.261767Z",
     "start_time": "2021-12-27T07:59:19.349762Z"
    },
    "execution": {
     "iopub.execute_input": "2023-11-28T12:22:36.894673Z",
     "iopub.status.busy": "2023-11-28T12:22:36.894492Z",
     "iopub.status.idle": "2023-11-28T12:22:37.801800Z",
     "shell.execute_reply": "2023-11-28T12:22:37.800435Z",
     "shell.execute_reply.started": "2023-11-28T12:22:36.894658Z"
    },
    "tags": []
   },
   "outputs": [],
   "source": [
    "MDR_CAL_cha_test = MDR_CAL_cha_test.drop(columns = 'org_category')"
   ]
  },
  {
   "cell_type": "code",
   "execution_count": 34,
   "metadata": {
    "ExecuteTime": {
     "end_time": "2021-12-27T08:35:36.598458Z",
     "start_time": "2021-12-27T07:59:20.263761Z"
    },
    "execution": {
     "iopub.execute_input": "2023-11-28T12:22:37.802699Z",
     "iopub.status.busy": "2023-11-28T12:22:37.802522Z",
     "iopub.status.idle": "2023-11-28T12:22:43.918870Z",
     "shell.execute_reply": "2023-11-28T12:22:43.918083Z",
     "shell.execute_reply.started": "2023-11-28T12:22:37.802683Z"
    },
    "tags": []
   },
   "outputs": [],
   "source": [
    "MDR_CAL_cha_test = MDR_CAL_cha_test.groupby(['subject_id','micro_specimen_id','org_name']).sum().reset_index()"
   ]
  },
  {
   "cell_type": "code",
   "execution_count": 35,
   "metadata": {
    "ExecuteTime": {
     "end_time": "2021-12-27T08:36:55.060239Z",
     "start_time": "2021-12-27T08:35:36.601453Z"
    },
    "execution": {
     "iopub.execute_input": "2023-11-28T12:22:43.919959Z",
     "iopub.status.busy": "2023-11-28T12:22:43.919771Z",
     "iopub.status.idle": "2023-11-28T12:23:18.180467Z",
     "shell.execute_reply": "2023-11-28T12:23:18.179045Z",
     "shell.execute_reply.started": "2023-11-28T12:22:43.919944Z"
    },
    "tags": []
   },
   "outputs": [],
   "source": [
    "import re\n",
    "\n",
    "def find_r(x):\n",
    "    if re.search('R',x):\n",
    "        return 'R'\n",
    "    elif re.search('I',x):\n",
    "        return 'I'\n",
    "    elif re.search('S',x):\n",
    "        return 'S'\n",
    "    else:\n",
    "        return np.nan\n",
    "\n",
    "for i in ab_list:\n",
    "    MDR_CAL_cha_test[i] = MDR_CAL_cha_test[i].apply(lambda x:find_r(x))\n",
    "\n",
    "MDR_CAL_conc = MDR_CAL_cha_test.drop_duplicates()"
   ]
  },
  {
   "cell_type": "code",
   "execution_count": 36,
   "metadata": {
    "ExecuteTime": {
     "end_time": "2021-12-27T08:36:55.076239Z",
     "start_time": "2021-12-27T08:36:55.062239Z"
    },
    "execution": {
     "iopub.execute_input": "2023-11-28T12:23:18.181820Z",
     "iopub.status.busy": "2023-11-28T12:23:18.181623Z",
     "iopub.status.idle": "2023-11-28T12:23:18.185738Z",
     "shell.execute_reply": "2023-11-28T12:23:18.185348Z",
     "shell.execute_reply.started": "2023-11-28T12:23:18.181803Z"
    },
    "tags": []
   },
   "outputs": [],
   "source": [
    "# #进行转化为列之后的规整--相当于加和\n",
    "\n",
    "# #抗生素的名称列表\n",
    "# ab_list = MDR_CAL_cha.columns.to_list()\n",
    "# del ab_list[0:3]\n",
    "\n",
    "# #定义转化函数\n",
    "# def ab_con(df):\n",
    "#     for i in ab_list:\n",
    "#         if (df[i]== 'S').any():\n",
    "#             df[i] = 'S'\n",
    "#         elif (df[i]== 'I').any():\n",
    "#             df[i] = 'I'\n",
    "#         elif (df[i]== 'R').any():\n",
    "#             df[i] = 'R'\n",
    "#         else:\n",
    "#             df[i] = np.nan\n",
    "#     return df\n",
    "\n",
    "# MDR_CAL_test = MDR_CAL_cha.copy()\n",
    "# #grouped = MDR_CAL_test.groupby(['subject_id','micro_specimen_id','org_name'])\n",
    "# MDR_CAL_test_re = MDR_CAL_test.groupby(['subject_id',\\\n",
    "# 'micro_specimen_id','org_category','org_name']).apply(ab_con)\n",
    "# MDR_CAL_conc = MDR_CAL_test_re.drop_duplicates()"
   ]
  },
  {
   "cell_type": "code",
   "execution_count": 37,
   "metadata": {
    "ExecuteTime": {
     "end_time": "2021-12-27T08:36:55.092238Z",
     "start_time": "2021-12-27T08:36:55.078238Z"
    },
    "execution": {
     "iopub.execute_input": "2023-11-28T12:23:18.188821Z",
     "iopub.status.busy": "2023-11-28T12:23:18.188658Z",
     "iopub.status.idle": "2023-11-28T12:23:18.191228Z",
     "shell.execute_reply": "2023-11-28T12:23:18.190841Z",
     "shell.execute_reply.started": "2023-11-28T12:23:18.188807Z"
    },
    "tags": []
   },
   "outputs": [],
   "source": [
    "#MDR_CAL_test.groupby(['subject_id','micro_specimen_id','org_category','org_name']).size()"
   ]
  },
  {
   "cell_type": "code",
   "execution_count": 38,
   "metadata": {
    "ExecuteTime": {
     "end_time": "2021-12-27T08:36:55.108253Z",
     "start_time": "2021-12-27T08:36:55.094239Z"
    },
    "execution": {
     "iopub.execute_input": "2023-11-28T12:23:18.205129Z",
     "iopub.status.busy": "2023-11-28T12:23:18.204980Z",
     "iopub.status.idle": "2023-11-28T12:23:18.207221Z",
     "shell.execute_reply": "2023-11-28T12:23:18.206851Z",
     "shell.execute_reply.started": "2023-11-28T12:23:18.205116Z"
    },
    "tags": []
   },
   "outputs": [],
   "source": [
    "#MDR_CAL_conc.drop(columns = ['org_category'], inplace = True)"
   ]
  },
  {
   "cell_type": "code",
   "execution_count": 39,
   "metadata": {
    "ExecuteTime": {
     "end_time": "2021-12-27T08:36:55.540242Z",
     "start_time": "2021-12-27T08:36:55.110238Z"
    },
    "execution": {
     "iopub.execute_input": "2023-11-28T12:23:18.208200Z",
     "iopub.status.busy": "2023-11-28T12:23:18.207816Z",
     "iopub.status.idle": "2023-11-28T12:23:18.589771Z",
     "shell.execute_reply": "2023-11-28T12:23:18.589118Z",
     "shell.execute_reply.started": "2023-11-28T12:23:18.208185Z"
    },
    "tags": []
   },
   "outputs": [],
   "source": [
    "MDR_CAL_cat = pd.merge(MDR_CAL_conc,org_name_sel[['org_name','org_category']],\\\n",
    "how = 'left', on = ['org_name'])#.org_category.value_counts()"
   ]
  },
  {
   "cell_type": "code",
   "execution_count": 40,
   "metadata": {
    "ExecuteTime": {
     "end_time": "2021-12-27T08:36:55.556246Z",
     "start_time": "2021-12-27T08:36:55.543246Z"
    },
    "execution": {
     "iopub.execute_input": "2023-11-28T12:23:18.603490Z",
     "iopub.status.busy": "2023-11-28T12:23:18.603315Z",
     "iopub.status.idle": "2023-11-28T12:23:18.609156Z",
     "shell.execute_reply": "2023-11-28T12:23:18.608658Z",
     "shell.execute_reply.started": "2023-11-28T12:23:18.603475Z"
    },
    "tags": []
   },
   "outputs": [],
   "source": [
    "#5个不同组别的微生物ID\n",
    "org_pieces = dict(list(org_name_sel['org_itemid'].groupby(org_name_sel['org_category'])))\n",
    "\n",
    "St_itemid = org_pieces['Staphylococcus aureus'].tolist()\n",
    "Eb_itemid = org_pieces['Enterobacteriaceae'].tolist()\n",
    "Ec_itemid = org_pieces['Enterococcus spp.'].tolist()\n",
    "Ps_itemid = org_pieces['Pseudomonas aeruginosa'].tolist()\n",
    "Ac_itemid = org_pieces['Acinetobacter spp.'].tolist()\n",
    "\n",
    "St_itemid = [str(i) for i in St_itemid]\n",
    "Eb_itemid = [str(i) for i in Eb_itemid]\n",
    "Ec_itemid = [str(i) for i in Ec_itemid]\n",
    "Ps_itemid = [str(i) for i in Ps_itemid]\n",
    "Ac_itemid = [str(i) for i in Ac_itemid]"
   ]
  },
  {
   "cell_type": "code",
   "execution_count": 41,
   "metadata": {
    "ExecuteTime": {
     "end_time": "2021-12-27T08:36:55.572244Z",
     "start_time": "2021-12-27T08:36:55.560239Z"
    },
    "execution": {
     "iopub.execute_input": "2023-11-28T12:23:18.623581Z",
     "iopub.status.busy": "2023-11-28T12:23:18.623431Z",
     "iopub.status.idle": "2023-11-28T12:23:18.627470Z",
     "shell.execute_reply": "2023-11-28T12:23:18.627021Z",
     "shell.execute_reply.started": "2023-11-28T12:23:18.623567Z"
    },
    "tags": []
   },
   "outputs": [],
   "source": [
    "#5个不同组别的微生物的名称\n",
    "org_pieces = dict(list(org_name_sel['org_name'].groupby(org_name_sel['org_category'])))\n",
    "\n",
    "St_name = org_pieces['Staphylococcus aureus'].tolist()\n",
    "Eb_name = org_pieces['Enterobacteriaceae'].tolist()\n",
    "Ec_name = org_pieces['Enterococcus spp.'].tolist()\n",
    "Ps_name = org_pieces['Pseudomonas aeruginosa'].tolist()\n",
    "Ac_name = org_pieces['Acinetobacter spp.'].tolist()"
   ]
  },
  {
   "cell_type": "code",
   "execution_count": 42,
   "metadata": {
    "ExecuteTime": {
     "end_time": "2021-12-27T08:36:55.588245Z",
     "start_time": "2021-12-27T08:36:55.574238Z"
    },
    "execution": {
     "iopub.execute_input": "2023-11-28T12:23:18.628299Z",
     "iopub.status.busy": "2023-11-28T12:23:18.628130Z",
     "iopub.status.idle": "2023-11-28T12:23:18.631959Z",
     "shell.execute_reply": "2023-11-28T12:23:18.631596Z",
     "shell.execute_reply.started": "2023-11-28T12:23:18.628285Z"
    },
    "tags": []
   },
   "outputs": [],
   "source": [
    "Eb_exc_amino_list = ['PROVIDENCIA RETTGERI', 'PROVIDENCIA STUARTII']\n",
    "Eb_exc_cefazolin_list = [\n",
    "    'CITROBACTER FREUNDII COMPLEX', 'ENTEROBACTER AEROGENES',\n",
    "    'ENTEROBACTER CLOACAE COMPLEX', 'ENTEROBACTER CLOACAE', 'HAFNIA ALVEI',\n",
    "    'MORGANELLA MORGANII', 'PROTEUS PENNERI', 'PROTEUS VULGARIS',\n",
    "    'PROTEUS VULGARIS GROUP', 'PROVIDENCIA RETTGERI', 'PROVIDENCIA STUARTII',\n",
    "    'SERRATIA MARCESCENS'\n",
    "]\n",
    "Eb_exc_cefuroxime_list = [\n",
    "    'MORGANELLA MORGANII', 'PROTEUS PENNERI', 'PROTEUS VULGARIS',\n",
    "    'PROTEUS VULGARIS GROUP', 'SERRATIA MARCESCENS'\n",
    "]\n",
    "Eb_exc_ampicillin_list = [\n",
    "    'CITROBACTER KOSERI', 'CITROBACTER FREUNDII COMPLEX',\n",
    "    'ENTEROBACTER AEROGENES', 'ENTEROBACTER CLOACAE COMPLEX',\n",
    "    'ENTEROBACTER CLOACAE', 'HAFNIA ALVEI', 'KLEBSIELLA PNEUMONIAE',\n",
    "    'KLEBSIELLA OXYTOCA', 'MORGANELLA MORGANII', 'PROTEUS PENNERI',\n",
    "    'PROTEUS VULGARIS', 'PROTEUS VULGARIS GROUP', 'PROVIDENCIA RETTGERI',\n",
    "    'PROVIDENCIA STUARTII', 'SERRATIA MARCESCENS'\n",
    "]\n",
    "Eb_exc_ampicillinsulbactam_list = [\n",
    "    'CITROBACTER FREUNDII COMPLEX', 'CITROBACTER KOSERI',\n",
    "    'ENTEROBACTER AEROGENES', 'ENTEROBACTER CLOACAE COMPLEX',\n",
    "    'ENTEROBACTER CLOACAE', 'HAFNIA ALVEI', 'PROVIDENCIA RETTGERI',\n",
    "    'SERRATIA MARCESCENS'\n",
    "]\n",
    "Eb_exc_teracycline_list = [\n",
    "    'MORGANELLA MORGANII', 'PROTEUS MIRABILIS','PROTEUS PENNERI',\n",
    "    'PROTEUS VULGARIS', 'PROTEUS VULGARIS GROUP', 'PROVIDENCIA RETTGERI',\n",
    "    'PROVIDENCIA STUARTII'\n",
    "]"
   ]
  },
  {
   "cell_type": "code",
   "execution_count": 43,
   "metadata": {
    "ExecuteTime": {
     "end_time": "2021-12-27T08:36:55.635245Z",
     "start_time": "2021-12-27T08:36:55.591240Z"
    },
    "execution": {
     "iopub.execute_input": "2023-11-28T12:23:18.633033Z",
     "iopub.status.busy": "2023-11-28T12:23:18.632823Z",
     "iopub.status.idle": "2023-11-28T12:23:18.655315Z",
     "shell.execute_reply": "2023-11-28T12:23:18.654907Z",
     "shell.execute_reply.started": "2023-11-28T12:23:18.633019Z"
    },
    "tags": []
   },
   "outputs": [],
   "source": [
    "def MDR(df):\n",
    "    #金黄色葡萄球菌\n",
    "    if df['org_name'] in St_name:\n",
    "        if df['org_name'] == 'POSITIVE FOR METHICILLIN RESISTANT STAPH AUREUS':\n",
    "            return 'MRSA', 1\n",
    "        elif df['org_name'] == 'S. AUREUS POSITIVE; MRSA POSITIVE':\n",
    "            return 'MRSA', 1\n",
    "        else:\n",
    "            St_dict = {}\n",
    "            St_sum = 0\n",
    "            St_ab_list = []\n",
    "            #氨基糖苷-庆大霉素\n",
    "            if df['GENTAMICIN'] == 'I' or df['GENTAMICIN'] == 'R':\n",
    "                St_dict['Aminoglycosides'] = 1\n",
    "            #安沙霉素-利福平\n",
    "            if df['RIFAMPIN'] == 'I' or df['RIFAMPIN'] == 'R':\n",
    "                St_dict['Ansamycins'] = 1\n",
    "            #抗MRSA 头孢菌素类\n",
    "            #抗葡萄球菌β内酰胺或头孢\n",
    "            if (df[['AMPICILLIN','AMPICILLIN/SULBACTAM','CEFAZOLIN',\\\n",
    "                'CEFEPIME','CEFTAZIDIME','CEFTRIAXONE','CEFUROXIME',\\\n",
    "                'OXACILLIN','PENICILLIN G','PIPERACILLIN','PIPERACILLIN/TAZO']] == 'I').any() or \\\n",
    "                (df[['AMPICILLIN','AMPICILLIN/SULBACTAM','CEFAZOLIN',\\\n",
    "                'CEFEPIME','CEFTAZIDIME','CEFTRIAXONE','CEFUROXIME',\\\n",
    "                'OXACILLIN','PENICILLIN G','PIPERACILLIN','PIPERACILLIN/TAZO']] == 'R').any():\n",
    "                St_dict['LactamsCephamycins'] = 1\n",
    "            #氟喹诺酮-环丙沙星\n",
    "            if df['CIPROFLOXACIN']=='I' or df['CIPROFLOXACIN']=='R':\n",
    "                St_dict['Fluoroquinolones'] = 1\n",
    "            #叶酸途径抑制剂-甲氧苄啶 复方新诺明\n",
    "            if df['TRIMETHOPRIM/SULFA']=='I' or df['TRIMETHOPRIM/SULFA']=='R':\n",
    "                St_dict['Folate'] = 1\n",
    "            #Fucidanes\n",
    "            #糖肽类-万古霉素\n",
    "            if df['VANCOMYCIN'] == 'I' or df['VANCOMYCIN'] == 'R':\n",
    "                St_dict['Glycopeptides'] = 1\n",
    "            #甘氨环素\n",
    "            #林可酰胺类-克林霉素\n",
    "            if df['CLINDAMYCIN'] == 'I' or df['CLINDAMYCIN'] == 'R':\n",
    "                St_dict['Lincosamides'] = 1\n",
    "            #脂肽类-达托霉素\n",
    "            if df['DAPTOMYCIN'] == 'I' or df['DAPTOMYCIN'] == 'R':\n",
    "                St_dict['Lipopeptides'] = 1\n",
    "            #大环内酯类-红霉素\n",
    "            if df['ERYTHROMYCIN'] == 'I' or df['ERYTHROMYCIN'] == 'R':\n",
    "                St_dict['Macrolides'] = 1\n",
    "            #恶唑烷酮类-利奈唑胺\n",
    "            if df['LINEZOLID'] == 'I' or df['LINEZOLID'] == 'R':\n",
    "                St_dict['Oxazolidinones'] = 1\n",
    "            #苯丙醇类\n",
    "            #磷酶酸类\n",
    "            #链阳霉素类\n",
    "            #四环素类-四环素\n",
    "            if df['TETRACYCLINE'] == 'I' or df['TETRACYCLINE'] == 'R':\n",
    "                St_dict['Tetracyclines'] = 1\n",
    "            \n",
    "            for i in St_dict:\n",
    "                St_sum += St_dict[i]\n",
    "                St_ab_list.append(i)\n",
    "            if St_sum>=3:\n",
    "                return \";\".join(St_ab_list), 1\n",
    "            else:\n",
    "                return \";\".join(St_ab_list), 0\n",
    "    #肠球菌\n",
    "    elif df['org_name'] in Ec_name:\n",
    "        Ec_dict = {}\n",
    "        Ec_sum = 0\n",
    "        Ec_ab_list = []\n",
    "        #氨基糖苷-高浓度庆大霉素\n",
    "        #链霉素-链霉素\n",
    "        #碳青霉烯类-亚胺培南、美罗培南\n",
    "        if (df[['IMIPENEM','MEROPENEM']] == 'I').any() or \\\n",
    "                (df[['IMIPENEM','MEROPENEM']] == 'R').any():\n",
    "            if df['org_name'] != 'ENTEROCOCCUS FAECIUM': \n",
    "#只有不是屎肠球菌才执行这条命令。如果是屎肠球菌，则跳过，字典里不会纳入碳青霉烯类的信息。\n",
    "                Ec_dict['Carbapenems'] = 1\n",
    "        #氟喹诺酮-环丙沙星、左氧氟沙星\n",
    "        if (df[['CIPROFLOXACIN','LEVOFLOXACIN']]=='I').any() or \\\n",
    "                (df[['CIPROFLOXACIN','LEVOFLOXACIN']]=='R').any():\n",
    "            Ec_dict['Fluroquinolones'] = 1\n",
    "        #糖肽类-万古霉素\n",
    "        if df['VANCOMYCIN'] == 'I' or df['VANCOMYCIN'] == 'R':\n",
    "            Ec_dict['Glycopeptides'] = 1\n",
    "        #甘氨环素类\n",
    "        #脂肽类-达托霉素\n",
    "        if df['DAPTOMYCIN'] == 'I' or df['DAPTOMYCIN'] == 'R':\n",
    "            Ec_dict['Lipopeptides'] = 1\n",
    "        #恶唑烷酮类-利奈唑胺\n",
    "        if df['LINEZOLID'] == 'I' or df['LINEZOLID'] == 'R':\n",
    "            Ec_dict['Oxazolidinones'] = 1\n",
    "        #青霉素类-氨苄西林\n",
    "        if df['AMPICILLIN'] == 'I' or df['AMPICILLIN'] == 'R':\n",
    "            Ec_dict['Penicillins'] = 1\n",
    "        #链阳霉素类\n",
    "        #四环素类\n",
    "        if df['TETRACYCLINE'] == 'I' or df['TETRACYCLINE'] == 'R':\n",
    "            Ec_dict['Tetracyclines'] = 1\n",
    "        \n",
    "        for i in Ec_dict:\n",
    "            Ec_sum += Ec_dict[i]\n",
    "            Ec_ab_list.append(i)\n",
    "        if Ec_sum>=3:\n",
    "            return \";\".join(Ec_ab_list), 1\n",
    "        else:\n",
    "            return \";\".join(Ec_ab_list), 0\n",
    "    #肠杆菌\n",
    "    elif df['org_name'] in Eb_name:\n",
    "        Eb_dict = {}\n",
    "        Eb_sum = 0\n",
    "        Eb_ab_list = []\n",
    "        #氨基糖苷-庆大霉素、妥布霉素、阿米卡星\n",
    "        if (df[['GENTAMICIN','TOBRAMYCIN']] == 'I').any() \\\n",
    "            or (df[['GENTAMICIN','TOBRAMYCIN']] == 'R').any():\n",
    "            if df['org_name'] not in Eb_exc_amino_list:\n",
    "                Eb_dict['Aminoglycosides'] = 1\n",
    "        if df['AMIKACIN'] == 'I' or df['AMIKACIN'] == 'R':\n",
    "            Eb_dict['Aminoglycosides'] = 1\n",
    "        #抗MRSA头孢-头孢洛林\n",
    "        #抗假单胞菌青霉素+β-内酰胺酶抑制剂 - 哌拉西林-他唑巴坦\n",
    "        if df['PIPERACILLIN/TAZO'] == 'I' or df['PIPERACILLIN/TAZO'] == 'R':\n",
    "            Eb_dict['AntiPenicillins&Lactamaseinhibitors'] = 1\n",
    "        #碳青霉烯类 - 亚胺培南、美罗培南\n",
    "        if (df[['IMIPENEM','MEROPENEM']] == 'I').any() or \\\n",
    "            (df[['IMIPENEM','MEROPENEM']] == 'R').any():\n",
    "            Eb_dict['Carbapenems'] = 1\n",
    "        #非超广谱头孢菌素-1、2代头孢 - 头孢唑林、头孢呋辛\n",
    "        if df['CEFAZOLIN']=='I' or df['CEFAZOLIN']=='R':\n",
    "            if df['org_name'] not in Eb_exc_cefazolin_list:\n",
    "                Eb_dict['NESCephalosporins'] = 1\n",
    "        if df['CEFUROXIME']=='I' or df['CEFUROXIME']=='R':\n",
    "            if df['org_name'] not in Eb_exc_cefuroxime_list:\n",
    "                Eb_dict['NESCephalosporins'] = 1\n",
    "        #超广谱头孢菌素-3、4代头孢 - 头孢曲松、头孢他啶、头孢吡肟\n",
    "        if (df[['CEFTRIAXONE','CEFTAZIDIME','CEFEPIME']]=='I').any() \\\n",
    "            or (df[['CEFTRIAXONE','CEFTAZIDIME','CEFEPIME']]=='R').any():\n",
    "            Eb_dict['ESCephalosporins'] = 1\n",
    "        #头孢菌素类 Cephamycins\n",
    "        #氟喹诺酮类 - 环丙沙星\n",
    "        if df['CIPROFLOXACIN'] == 'I' or df['CIPROFLOXACIN'] == 'R':\n",
    "            Eb_dict['Fluoroquinolones'] = 1\n",
    "        #叶酸途径抑制剂-甲氧苄啶 复方新诺明\n",
    "        if df['TRIMETHOPRIM/SULFA']=='I' or df['TRIMETHOPRIM/SULFA']=='R':\n",
    "            Eb_dict['Folate'] = 1\n",
    "        #甘氨环素类 - 替加环素\n",
    "        #单环β-内酰胺类 - 氨曲南\n",
    "        #青霉素类 - 氨苄西林\n",
    "        if df['AMPICILLIN']=='I' or df['AMPICILLIN']=='R':\n",
    "            if df['org_name'] not in Eb_exc_ampicillin_list:\n",
    "                Eb_dict['Penicillins'] = 1 \n",
    "        #青霉素类+β内酰胺酶抑制剂 - 氨苄西林-舒巴坦\n",
    "        if df['AMPICILLIN/SULBACTAM']=='I' or df['AMPICILLIN/SULBACTAM']=='R':\n",
    "            if df['org_name'] not in Eb_exc_ampicillinsulbactam_list:\n",
    "                Eb_dict['Penicillins&Lactamaseinhibitors'] = 1\n",
    "        #糖肽类-万古霉素\n",
    "        if df['VANCOMYCIN'] == 'I' or df['VANCOMYCIN'] == 'R':\n",
    "            Eb_dict['Glycopeptides'] = 1\n",
    "        #苯丙醇类\n",
    "        #磷酶酸类\n",
    "        #多粘菌素类\n",
    "        #四环素类-四环素\n",
    "        if df['TETRACYCLINE'] == 'I' or df['TETRACYCLINE'] == 'R':\n",
    "            if df['org_name'] not in Eb_exc_teracycline_list:\n",
    "                Eb_dict['Tetracyclines'] = 1\n",
    "        \n",
    "        for i in Eb_dict:\n",
    "            Eb_sum += Eb_dict[i]\n",
    "            Eb_ab_list.append(i)\n",
    "        if Eb_sum>=3:\n",
    "            return \";\".join(Eb_ab_list), 1\n",
    "        else:\n",
    "            return \";\".join(Eb_ab_list), 0\n",
    "    #铜绿假单胞菌\n",
    "    elif df['org_name'] in Ps_name:\n",
    "        Ps_dict = {}\n",
    "        Ps_sum = 0\n",
    "        Ps_ab_list = []\n",
    "        #氨基糖苷类 - 庆大霉素、妥布霉素、阿米卡星\n",
    "        if (df[['GENTAMICIN','TOBRAMYCIN','AMIKACIN']] == 'I').any() \\\n",
    "            or (df[['GENTAMICIN','TOBRAMYCIN','AMIKACIN']] == 'R').any():\n",
    "            Ps_dict['Aminoglycosides'] = 1    \n",
    "        #抗假单胞菌碳青霉烯类-亚胺培南、美罗培南\n",
    "        if (df[['IMIPENEM','MEROPENEM']] == 'I').any() or \\\n",
    "                (df[['IMIPENEM','MEROPENEM']] == 'R').any():\n",
    "            Ps_dict['Carbapenems'] = 1\n",
    "        #抗假单胞菌头孢菌素类-头孢他啶、头孢吡肟\n",
    "        if (df[['CEFTAZIDIME','CEFEPIME']] == 'I').any() or \\\n",
    "                (df[['CEFTAZIDIME','CEFEPIME']] == 'R').any():\n",
    "            Ps_dict['Cephalosporins'] = 1      \n",
    "        #抗假单胞菌氟喹诺酮类-环丙沙星、左氧氟沙星\n",
    "        if (df[['CIPROFLOXACIN','LEVOFLOXACIN']]=='I').any() or \\\n",
    "                (df[['CIPROFLOXACIN','LEVOFLOXACIN']]=='R').any():\n",
    "            Ps_dict['Fluroquinolones'] = 1\n",
    "        #抗假单胞菌青霉素类+β-内酰胺酶抑制剂\n",
    "        if df['PIPERACILLIN/TAZO'] == 'I' or df['PIPERACILLIN/TAZO'] == 'R':\n",
    "            Ps_dict['Penicillins&lactamaseinhibitors'] = 1\n",
    "        #单环β-内酰胺类\n",
    "        #磷霉酸类\n",
    "        #多粘菌素类\n",
    "        for i in Ps_dict:\n",
    "            Ps_sum += Ps_dict[i]\n",
    "            Ps_ab_list.append(i)\n",
    "        if Ps_sum>=3:\n",
    "            return \";\".join(Ps_ab_list), 1\n",
    "        else:\n",
    "            return \";\".join(Ps_ab_list), 0\n",
    "    #不动杆菌属\n",
    "    elif df['org_name'] in Ac_name:\n",
    "        Ac_dict = {}\n",
    "        Ac_sum = 0\n",
    "        Ac_ab_list = []\n",
    "        #氨基糖苷类 - 庆大霉素、妥布霉素、阿米卡星\n",
    "        if (df[['GENTAMICIN','TOBRAMYCIN','AMIKACIN']] == 'I').any() \\\n",
    "            or (df[['GENTAMICIN','TOBRAMYCIN','AMIKACIN']] == 'R').any():\n",
    "            Ac_dict['Aminoglycosides'] = 1    \n",
    "        #抗假单胞菌碳青霉烯类 - 亚胺培南、美罗培南\n",
    "        if (df[['IMIPENEM','MEROPENEM']] == 'I').any() or \\\n",
    "                (df[['IMIPENEM','MEROPENEM']] == 'R').any():\n",
    "            Ac_dict['Carbapenems'] = 1\n",
    "        #抗假单胞菌氟喹诺酮类 - 环丙沙星、左氧氟沙星\n",
    "        if (df[['CIPROFLOXACIN','LEVOFLOXACIN']]=='I').any() or \\\n",
    "                (df[['CIPROFLOXACIN','LEVOFLOXACIN']]=='R').any():\n",
    "            Ac_dict['Fluroquinolones'] = 1\n",
    "        #抗假单胞菌青霉素类+β-内酰胺酶抑制剂\n",
    "        if df['PIPERACILLIN/TAZO'] == 'I' or df['PIPERACILLIN/TAZO'] == 'R':\n",
    "            Ac_dict['Penicillins&lactamaseinhibitors'] = 1\n",
    "        #超广谱头孢菌素类-头孢他啶、头孢吡肟\n",
    "        if (df[['CEFTAZIDIME','CEFEPIME']] == 'I').any() or \\\n",
    "                (df[['CEFTAZIDIME','CEFEPIME']] == 'R').any():\n",
    "            Ac_dict['ESCephalosporins'] = 1\n",
    "        #叶酸途径抑制剂-甲氧苄啶 复方新诺明\n",
    "        if df['TRIMETHOPRIM/SULFA']=='I' or df['TRIMETHOPRIM/SULFA']=='R':\n",
    "            Ac_dict['Folate'] = 1\n",
    "        #青霉素类+β内酰胺酶抑制剂 - 氨苄西林-舒巴坦\n",
    "        if df['AMPICILLIN/SULBACTAM']=='I' or df['AMPICILLIN/SULBACTAM']=='R':\n",
    "            Ac_dict['Penicillins&lactamaseinhibitors'] = 1        \n",
    "        #多粘菌素类\n",
    "        #四环素类\n",
    "        if df['TETRACYCLINE'] == 'I' or df['TETRACYCLINE'] == 'R':\n",
    "            Ac_dict['Tetracyclines'] = 1        \n",
    "        for i in Ac_dict:\n",
    "            Ac_sum += Ac_dict[i]\n",
    "            Ac_ab_list.append(i)\n",
    "        if Ac_sum>=3:\n",
    "            return \";\".join(Ac_ab_list), 1\n",
    "        else:\n",
    "            return \";\".join(Ac_ab_list), 0\n",
    "    else:\n",
    "        return np.nan, np.nan"
   ]
  },
  {
   "cell_type": "code",
   "execution_count": 44,
   "metadata": {
    "ExecuteTime": {
     "end_time": "2021-12-27T08:41:34.502244Z",
     "start_time": "2021-12-27T08:36:55.637239Z"
    },
    "execution": {
     "iopub.execute_input": "2023-11-28T12:23:18.656046Z",
     "iopub.status.busy": "2023-11-28T12:23:18.655882Z",
     "iopub.status.idle": "2023-11-28T12:25:41.672614Z",
     "shell.execute_reply": "2023-11-28T12:25:41.671328Z",
     "shell.execute_reply.started": "2023-11-28T12:23:18.656031Z"
    },
    "tags": []
   },
   "outputs": [],
   "source": [
    "MDR_CAL_cat[['resistant_ab_cat','MDR']] = MDR_CAL_cat.apply(MDR,axis = 1,result_type=\"expand\")"
   ]
  },
  {
   "cell_type": "code",
   "execution_count": 45,
   "metadata": {
    "ExecuteTime": {
     "end_time": "2021-12-27T08:41:44.018244Z",
     "start_time": "2021-12-27T08:41:34.505238Z"
    },
    "execution": {
     "iopub.execute_input": "2023-11-28T12:25:41.690207Z",
     "iopub.status.busy": "2023-11-28T12:25:41.690053Z",
     "iopub.status.idle": "2023-11-28T12:25:44.953804Z",
     "shell.execute_reply": "2023-11-28T12:25:44.952422Z",
     "shell.execute_reply.started": "2023-11-28T12:25:41.690192Z"
    },
    "tags": []
   },
   "outputs": [],
   "source": [
    "MDR_CAL_cat['MDR'] = MDR_CAL_cat[['org_name','VANCOMYCIN','MDR']].\\\n",
    "apply(lambda x: 1 if ((x[0].find('ENTEROCOCCUS'))!=-1) \\\n",
    "and ((x[1] =='R') or (x[1] =='I')) \\\n",
    "else x[2],axis = 1)"
   ]
  },
  {
   "cell_type": "code",
   "execution_count": 46,
   "metadata": {
    "ExecuteTime": {
     "end_time": "2021-12-27T08:41:44.034243Z",
     "start_time": "2021-12-27T08:41:44.021238Z"
    },
    "execution": {
     "iopub.execute_input": "2023-11-28T12:25:44.954807Z",
     "iopub.status.busy": "2023-11-28T12:25:44.954632Z",
     "iopub.status.idle": "2023-11-28T12:25:44.958015Z",
     "shell.execute_reply": "2023-11-28T12:25:44.957638Z",
     "shell.execute_reply.started": "2023-11-28T12:25:44.954791Z"
    },
    "tags": []
   },
   "outputs": [],
   "source": [
    "#MDR_CAL_cat[MDR_CAL_cat['subject_id'] == 10004401]"
   ]
  },
  {
   "cell_type": "code",
   "execution_count": 47,
   "metadata": {
    "ExecuteTime": {
     "end_time": "2021-12-27T08:41:46.308239Z",
     "start_time": "2021-12-27T08:41:44.037239Z"
    },
    "execution": {
     "iopub.execute_input": "2023-11-28T12:25:44.958760Z",
     "iopub.status.busy": "2023-11-28T12:25:44.958592Z",
     "iopub.status.idle": "2023-11-28T12:25:46.230842Z",
     "shell.execute_reply": "2023-11-28T12:25:46.229447Z",
     "shell.execute_reply.started": "2023-11-28T12:25:44.958745Z"
    },
    "tags": []
   },
   "outputs": [],
   "source": [
    "MDR_CAL_cat = MDR_CAL_cat.drop_duplicates()"
   ]
  },
  {
   "cell_type": "code",
   "execution_count": 48,
   "metadata": {
    "ExecuteTime": {
     "end_time": "2021-12-27T08:41:46.546239Z",
     "start_time": "2021-12-27T08:41:46.311239Z"
    },
    "execution": {
     "iopub.execute_input": "2023-11-28T12:25:46.231944Z",
     "iopub.status.busy": "2023-11-28T12:25:46.231767Z",
     "iopub.status.idle": "2023-11-28T12:25:46.403105Z",
     "shell.execute_reply": "2023-11-28T12:25:46.402312Z",
     "shell.execute_reply.started": "2023-11-28T12:25:46.231928Z"
    },
    "tags": []
   },
   "outputs": [
    {
     "name": "stdout",
     "output_type": "stream",
     "text": [
      "-----------Staphylococcus aureus------------\n",
      "0.0    14137\n",
      "1.0     5876\n",
      "Name: MDR, dtype: int64\n",
      "-----------Enterobacteriaceae------------\n",
      "0.0    21696\n",
      "1.0     8941\n",
      "Name: MDR, dtype: int64\n",
      "-----------Enterococcus spp.------------\n",
      "0.0    7708\n",
      "1.0    3422\n",
      "Name: MDR, dtype: int64\n",
      "-----------Pseudomonas aeruginosa------------\n",
      "0.0    4756\n",
      "1.0    1351\n",
      "Name: MDR, dtype: int64\n",
      "-----------Acinetobacter spp.------------\n",
      "0.0    392\n",
      "1.0    180\n",
      "Name: MDR, dtype: int64\n"
     ]
    }
   ],
   "source": [
    "#查看每一类有多少耐药菌\n",
    "for i,j in zip(org_name_sel['org_category'].unique(),\\\n",
    "        [St_name, Eb_name, Ec_name, Ps_name, Ac_name]):\n",
    "    print('-----------%s------------'%i)\n",
    "    print(MDR_CAL_cat[MDR_CAL_cat.org_name.isin(j)].MDR.value_counts())"
   ]
  },
  {
   "cell_type": "code",
   "execution_count": 49,
   "metadata": {
    "ExecuteTime": {
     "end_time": "2021-12-27T08:41:47.116244Z",
     "start_time": "2021-12-27T08:41:46.548239Z"
    },
    "execution": {
     "iopub.execute_input": "2023-11-28T12:25:46.404152Z",
     "iopub.status.busy": "2023-11-28T12:25:46.403988Z",
     "iopub.status.idle": "2023-11-28T12:25:46.747919Z",
     "shell.execute_reply": "2023-11-28T12:25:46.747241Z",
     "shell.execute_reply.started": "2023-11-28T12:25:46.404137Z"
    },
    "tags": []
   },
   "outputs": [
    {
     "data": {
      "text/html": [
       "<div>\n",
       "<style scoped>\n",
       "    .dataframe tbody tr th:only-of-type {\n",
       "        vertical-align: middle;\n",
       "    }\n",
       "\n",
       "    .dataframe tbody tr th {\n",
       "        vertical-align: top;\n",
       "    }\n",
       "\n",
       "    .dataframe thead th {\n",
       "        text-align: right;\n",
       "    }\n",
       "</style>\n",
       "<table border=\"1\" class=\"dataframe\">\n",
       "  <thead>\n",
       "    <tr style=\"text-align: right;\">\n",
       "      <th></th>\n",
       "      <th>subject_id</th>\n",
       "      <th>micro_specimen_id</th>\n",
       "      <th>org_name</th>\n",
       "      <th>AMIKACIN</th>\n",
       "      <th>AMPICILLIN</th>\n",
       "      <th>AMPICILLIN/SULBACTAM</th>\n",
       "      <th>CEFAZOLIN</th>\n",
       "      <th>CEFEPIME</th>\n",
       "      <th>CEFTAZIDIME</th>\n",
       "      <th>CEFTRIAXONE</th>\n",
       "      <th>CEFUROXIME</th>\n",
       "      <th>CIPROFLOXACIN</th>\n",
       "      <th>CLINDAMYCIN</th>\n",
       "      <th>DAPTOMYCIN</th>\n",
       "      <th>ERYTHROMYCIN</th>\n",
       "      <th>GENTAMICIN</th>\n",
       "      <th>IMIPENEM</th>\n",
       "      <th>LEVOFLOXACIN</th>\n",
       "      <th>LINEZOLID</th>\n",
       "      <th>MEROPENEM</th>\n",
       "      <th>NITROFURANTOIN</th>\n",
       "      <th>OXACILLIN</th>\n",
       "      <th>PENICILLIN G</th>\n",
       "      <th>PIPERACILLIN</th>\n",
       "      <th>PIPERACILLIN/TAZO</th>\n",
       "      <th>RIFAMPIN</th>\n",
       "      <th>TETRACYCLINE</th>\n",
       "      <th>TOBRAMYCIN</th>\n",
       "      <th>TRIMETHOPRIM/SULFA</th>\n",
       "      <th>VANCOMYCIN</th>\n",
       "      <th>org_category</th>\n",
       "      <th>resistant_ab_cat</th>\n",
       "      <th>MDR</th>\n",
       "    </tr>\n",
       "  </thead>\n",
       "  <tbody>\n",
       "  </tbody>\n",
       "</table>\n",
       "</div>"
      ],
      "text/plain": [
       "Empty DataFrame\n",
       "Columns: [subject_id, micro_specimen_id, org_name, AMIKACIN, AMPICILLIN, AMPICILLIN/SULBACTAM, CEFAZOLIN, CEFEPIME, CEFTAZIDIME, CEFTRIAXONE, CEFUROXIME, CIPROFLOXACIN, CLINDAMYCIN, DAPTOMYCIN, ERYTHROMYCIN, GENTAMICIN, IMIPENEM, LEVOFLOXACIN, LINEZOLID, MEROPENEM, NITROFURANTOIN, OXACILLIN, PENICILLIN G, PIPERACILLIN, PIPERACILLIN/TAZO, RIFAMPIN, TETRACYCLINE, TOBRAMYCIN, TRIMETHOPRIM/SULFA, VANCOMYCIN, org_category, resistant_ab_cat, MDR]\n",
       "Index: []"
      ]
     },
     "execution_count": 49,
     "metadata": {},
     "output_type": "execute_result"
    }
   ],
   "source": [
    "MDR_CAL_cat[MDR_CAL_cat[['micro_specimen_id','org_name']].duplicated(keep = False)]"
   ]
  },
  {
   "cell_type": "code",
   "execution_count": 50,
   "metadata": {
    "ExecuteTime": {
     "end_time": "2021-12-27T08:41:47.626243Z",
     "start_time": "2021-12-27T08:41:47.119238Z"
    },
    "execution": {
     "iopub.execute_input": "2023-11-28T12:25:46.748949Z",
     "iopub.status.busy": "2023-11-28T12:25:46.748780Z",
     "iopub.status.idle": "2023-11-28T12:25:47.145577Z",
     "shell.execute_reply": "2023-11-28T12:25:47.145116Z",
     "shell.execute_reply.started": "2023-11-28T12:25:46.748934Z"
    },
    "tags": []
   },
   "outputs": [
    {
     "data": {
      "text/plain": [
       "<matplotlib.legend.Legend at 0x7f11ee4bbca0>"
      ]
     },
     "execution_count": 50,
     "metadata": {},
     "output_type": "execute_result"
    },
    {
     "data": {
      "image/png": "[encoded data removed]",
      "text/plain": [
       "<Figure size 800x1500 with 1 Axes>"
      ]
     },
     "metadata": {},
     "output_type": "display_data"
    }
   ],
   "source": [
    "mdr_plot_cat = MDR_CAL_cat[['org_name','MDR']]\n",
    "mdr_plot_cat = pd.merge(mdr_plot_cat,org_name_sel.iloc[:,1:4],how = 'left', on = 'org_name')\n",
    "mdr_plot_cat = mdr_plot_cat[~pd.isna(mdr_plot_cat.org_category)]\n",
    "mdr_plot_cat_bar1 = pd.DataFrame(mdr_plot_cat[mdr_plot_cat['MDR']==1].\\\n",
    "groupby(['org_category','MDR']).count()['org_name']).reset_index().sort_values(by = 'org_name',ascending = False)\n",
    "mdr_plot_cat_bar0 = pd.DataFrame(mdr_plot_cat[mdr_plot_cat['MDR']==0].\\\n",
    "groupby(['org_category','MDR']).count()['org_name']).reset_index().sort_values(by = 'org_name',ascending = False)\n",
    "mdr_plot_cat_bar = pd.merge(mdr_plot_cat_bar1,mdr_plot_cat_bar0,how = 'right', on = 'org_category')\n",
    "#with plt.style.context(['science','notebook','ieee','no-latex']):\n",
    "plt.figure(figsize= (8,15))\n",
    "plt.bar(mdr_plot_cat_bar['org_category'],mdr_plot_cat_bar['org_name_y'],\\\n",
    "    color='#307eb9',label='Not MDR')\n",
    "plt.bar(mdr_plot_cat_bar['org_category'],mdr_plot_cat_bar['org_name_x'],\\\n",
    "color='#74d7ff',bottom=mdr_plot_cat_bar['org_name_y'], label = 'MDR')\n",
    "plt.tick_params(labelsize = 15)\n",
    "for x1,x2, y1, y2 in zip(mdr_plot_cat_bar['org_category'], \\\n",
    "mdr_plot_cat_bar['org_category'], mdr_plot_cat_bar['org_name_y'], mdr_plot_cat_bar['org_name_x']):\n",
    "    plt.text(x1 , y1, '%.0f' % y1, ha='center', va='top',fontsize = 12)\n",
    "    plt.text(x2 , y1+y2, '%.0f' % y2, ha='center', va='bottom',fontsize = 12)\n",
    "plt.xticks(rotation = 60)\n",
    "plt.legend(loc=1)"
   ]
  },
  {
   "cell_type": "markdown",
   "metadata": {},
   "source": [
    "# 表连接"
   ]
  },
  {
   "cell_type": "markdown",
   "metadata": {},
   "source": [
    "## 是否最后一次ICU"
   ]
  },
  {
   "cell_type": "code",
   "execution_count": 51,
   "metadata": {
    "ExecuteTime": {
     "end_time": "2021-12-27T08:41:48.040586Z",
     "start_time": "2021-12-27T08:41:47.628238Z"
    },
    "execution": {
     "iopub.execute_input": "2023-11-28T12:25:47.146378Z",
     "iopub.status.busy": "2023-11-28T12:25:47.146214Z",
     "iopub.status.idle": "2023-11-28T12:25:47.450671Z",
     "shell.execute_reply": "2023-11-28T12:25:47.449355Z",
     "shell.execute_reply.started": "2023-11-28T12:25:47.146363Z"
    },
    "tags": []
   },
   "outputs": [],
   "source": [
    "trans_id(icustays)"
   ]
  },
  {
   "cell_type": "code",
   "execution_count": 53,
   "metadata": {
    "execution": {
     "iopub.execute_input": "2023-11-29T01:54:08.603420Z",
     "iopub.status.busy": "2023-11-29T01:54:08.602743Z",
     "iopub.status.idle": "2023-11-29T01:54:08.612695Z",
     "shell.execute_reply": "2023-11-29T01:54:08.611606Z",
     "shell.execute_reply.started": "2023-11-29T01:54:08.603364Z"
    }
   },
   "outputs": [
    {
     "data": {
      "text/plain": [
       "Index(['subject_id', 'hadm_id', 'stay_id', 'gender', 'dod', 'admittime',\n",
       "       'dischtime', 'los_hospital', 'admission_age', 'race',\n",
       "       'hospital_expire_flag', 'hospstay_seq', 'first_hosp_stay', 'icu_intime',\n",
       "       'icu_outtime', 'los_icu', 'icustay_seq', 'first_icu_stay'],\n",
       "      dtype='object')"
      ]
     },
     "execution_count": 53,
     "metadata": {},
     "output_type": "execute_result"
    }
   ],
   "source": [
    "icustays.columns"
   ]
  },
  {
   "cell_type": "code",
   "execution_count": 54,
   "metadata": {
    "ExecuteTime": {
     "end_time": "2021-12-27T08:43:27.220244Z",
     "start_time": "2021-12-27T08:41:48.044238Z"
    },
    "execution": {
     "iopub.execute_input": "2023-11-29T01:56:57.046018Z",
     "iopub.status.busy": "2023-11-29T01:56:57.045412Z",
     "iopub.status.idle": "2023-11-29T01:57:46.840963Z",
     "shell.execute_reply": "2023-11-29T01:57:46.839440Z",
     "shell.execute_reply.started": "2023-11-29T01:56:57.045967Z"
    },
    "tags": []
   },
   "outputs": [],
   "source": [
    "last_hospicu = icustays[['subject_id', 'hadm_id', 'stay_id', 'gender', 'dod', 'admittime',\n",
    "       'dischtime', 'los_hospital', 'admission_age', 'race',\n",
    "       'hospital_expire_flag', 'hospstay_seq', 'first_hosp_stay', 'icu_intime',\n",
    "       'icu_outtime', 'los_icu', 'icustay_seq', 'first_icu_stay']].drop_duplicates().groupby(['subject_id']).\\\n",
    "apply(lambda x: x.sort_values(['hospstay_seq','icustay_seq'],ascending = False).head(1)).reset_index(drop = True)"
   ]
  },
  {
   "cell_type": "code",
   "execution_count": 55,
   "metadata": {
    "ExecuteTime": {
     "end_time": "2021-12-27T08:43:27.235238Z",
     "start_time": "2021-12-27T08:43:27.223243Z"
    },
    "execution": {
     "iopub.execute_input": "2023-11-29T01:59:48.892434Z",
     "iopub.status.busy": "2023-11-29T01:59:48.891107Z",
     "iopub.status.idle": "2023-11-29T01:59:48.898705Z",
     "shell.execute_reply": "2023-11-29T01:59:48.898000Z",
     "shell.execute_reply.started": "2023-11-29T01:59:48.892373Z"
    },
    "tags": []
   },
   "outputs": [],
   "source": [
    "last_hospicu['last'] = 1"
   ]
  },
  {
   "cell_type": "code",
   "execution_count": 56,
   "metadata": {
    "ExecuteTime": {
     "end_time": "2021-12-27T08:43:27.472243Z",
     "start_time": "2021-12-27T08:43:27.237238Z"
    },
    "execution": {
     "iopub.execute_input": "2023-11-29T01:59:49.983697Z",
     "iopub.status.busy": "2023-11-29T01:59:49.983119Z",
     "iopub.status.idle": "2023-11-29T01:59:50.107923Z",
     "shell.execute_reply": "2023-11-29T01:59:50.106978Z",
     "shell.execute_reply.started": "2023-11-29T01:59:49.983645Z"
    },
    "tags": []
   },
   "outputs": [],
   "source": [
    "icustays = pd.merge(icustays, last_hospicu[['subject_id', 'hadm_id', 'stay_id','last']],\\\n",
    "                    how = 'left', on = ['subject_id', 'hadm_id', 'stay_id'])"
   ]
  },
  {
   "cell_type": "code",
   "execution_count": 57,
   "metadata": {
    "ExecuteTime": {
     "end_time": "2021-12-27T08:43:27.488238Z",
     "start_time": "2021-12-27T08:43:27.475238Z"
    },
    "execution": {
     "iopub.execute_input": "2023-11-29T01:59:50.772947Z",
     "iopub.status.busy": "2023-11-29T01:59:50.772265Z",
     "iopub.status.idle": "2023-11-29T01:59:50.785236Z",
     "shell.execute_reply": "2023-11-29T01:59:50.784535Z",
     "shell.execute_reply.started": "2023-11-29T01:59:50.772895Z"
    },
    "tags": []
   },
   "outputs": [
    {
     "data": {
      "text/plain": [
       "1.0    50920\n",
       "Name: last, dtype: int64"
      ]
     },
     "execution_count": 57,
     "metadata": {},
     "output_type": "execute_result"
    }
   ],
   "source": [
    "icustays['last'].value_counts()"
   ]
  },
  {
   "cell_type": "markdown",
   "metadata": {},
   "source": [
    "## 时间聚合"
   ]
  },
  {
   "cell_type": "markdown",
   "metadata": {},
   "source": [
    "### 将有微生物的结果和没有结果的连接"
   ]
  },
  {
   "cell_type": "code",
   "execution_count": 58,
   "metadata": {
    "ExecuteTime": {
     "end_time": "2021-12-27T08:43:33.630240Z",
     "start_time": "2021-12-27T08:43:27.490238Z"
    },
    "execution": {
     "iopub.execute_input": "2023-11-29T01:59:58.316562Z",
     "iopub.status.busy": "2023-11-29T01:59:58.315226Z",
     "iopub.status.idle": "2023-11-29T02:00:02.809733Z",
     "shell.execute_reply": "2023-11-29T02:00:02.808388Z",
     "shell.execute_reply.started": "2023-11-29T01:59:58.316506Z"
    },
    "tags": []
   },
   "outputs": [],
   "source": [
    "MDR_CAL_cat_tot = pd.merge(MDR_CAL_cha[['subject_id','micro_specimen_id','org_name']],\\\n",
    "        MDR_CAL_cat,how = 'left', on = ['subject_id','micro_specimen_id','org_name']).\\\n",
    "drop_duplicates()"
   ]
  },
  {
   "cell_type": "code",
   "execution_count": 59,
   "metadata": {
    "ExecuteTime": {
     "end_time": "2021-12-27T08:43:41.567048Z",
     "start_time": "2021-12-27T08:43:33.632239Z"
    },
    "execution": {
     "iopub.execute_input": "2023-11-29T02:00:03.353674Z",
     "iopub.status.busy": "2023-11-29T02:00:03.352585Z",
     "iopub.status.idle": "2023-11-29T02:00:08.944010Z",
     "shell.execute_reply": "2023-11-29T02:00:08.942658Z",
     "shell.execute_reply.started": "2023-11-29T02:00:03.353622Z"
    },
    "tags": []
   },
   "outputs": [],
   "source": [
    "MDR_CAL_cat_time = pd.merge(MDR_CAL_cat_tot,microevents[['subject_id','hadm_id',\\\n",
    "    'micro_specimen_id','org_name','charttime','spec_type_desc','storetime']],\\\n",
    "    how = 'left', on = ['subject_id','micro_specimen_id','org_name']).drop_duplicates()"
   ]
  },
  {
   "cell_type": "code",
   "execution_count": 60,
   "metadata": {
    "ExecuteTime": {
     "end_time": "2021-12-27T08:43:42.456243Z",
     "start_time": "2021-12-27T08:43:41.569239Z"
    },
    "execution": {
     "iopub.execute_input": "2023-11-29T02:00:08.967869Z",
     "iopub.status.busy": "2023-11-29T02:00:08.967704Z",
     "iopub.status.idle": "2023-11-29T02:00:09.557957Z",
     "shell.execute_reply": "2023-11-29T02:00:09.556553Z",
     "shell.execute_reply.started": "2023-11-29T02:00:08.967853Z"
    },
    "tags": []
   },
   "outputs": [],
   "source": [
    "MDR_CAL_cat_time = MDR_CAL_cat_time.\\\n",
    "drop_duplicates(subset = ['micro_specimen_id','org_name'],keep = 'first')"
   ]
  },
  {
   "cell_type": "code",
   "execution_count": 61,
   "metadata": {
    "ExecuteTime": {
     "end_time": "2021-12-27T08:43:42.471244Z",
     "start_time": "2021-12-27T08:43:42.458239Z"
    },
    "execution": {
     "iopub.execute_input": "2023-11-29T02:00:09.559540Z",
     "iopub.status.busy": "2023-11-29T02:00:09.559350Z",
     "iopub.status.idle": "2023-11-29T02:00:09.562956Z",
     "shell.execute_reply": "2023-11-29T02:00:09.562142Z",
     "shell.execute_reply.started": "2023-11-29T02:00:09.559525Z"
    },
    "tags": []
   },
   "outputs": [],
   "source": [
    "# MDR_CAL_cat_time = MDR_CAL_cat_time.\\\n",
    "# drop(columns = ['org_category_x']).rename(columns = {'org_category_y':'org_category'})"
   ]
  },
  {
   "cell_type": "code",
   "execution_count": 62,
   "metadata": {
    "ExecuteTime": {
     "end_time": "2021-12-27T08:43:42.487244Z",
     "start_time": "2021-12-27T08:43:42.474239Z"
    },
    "execution": {
     "iopub.execute_input": "2023-11-29T02:00:09.563755Z",
     "iopub.status.busy": "2023-11-29T02:00:09.563596Z",
     "iopub.status.idle": "2023-11-29T02:00:09.566618Z",
     "shell.execute_reply": "2023-11-29T02:00:09.566185Z",
     "shell.execute_reply.started": "2023-11-29T02:00:09.563740Z"
    },
    "tags": []
   },
   "outputs": [],
   "source": [
    "def pos_neg(df):\n",
    "    if (df['org_category'] == 'Staphylococcus aureus') or\\\n",
    "    (df['org_category'] == 'Enterococcus spp.'):\n",
    "        return 1,0\n",
    "    elif (df['org_category'] == 'Enterobacteriaceae') or \\\n",
    "    (df['org_category'] == 'Pseudomonas aeruginosa') or  (df['org_category'] == 'Acinetobacter spp.'):\n",
    "        return 0,1\n",
    "    else:\n",
    "        return 0,0"
   ]
  },
  {
   "cell_type": "code",
   "execution_count": 63,
   "metadata": {
    "ExecuteTime": {
     "end_time": "2021-12-27T08:45:07.022238Z",
     "start_time": "2021-12-27T08:43:42.489239Z"
    },
    "execution": {
     "iopub.execute_input": "2023-11-29T02:00:09.567506Z",
     "iopub.status.busy": "2023-11-29T02:00:09.567336Z",
     "iopub.status.idle": "2023-11-29T02:00:29.074437Z",
     "shell.execute_reply": "2023-11-29T02:00:29.073110Z",
     "shell.execute_reply.started": "2023-11-29T02:00:09.567491Z"
    },
    "tags": []
   },
   "outputs": [],
   "source": [
    "MDR_CAL_cat_time[['org_pos','org_neg']] = MDR_CAL_cat_time.apply(pos_neg, axis = 1, result_type=\"expand\")"
   ]
  },
  {
   "cell_type": "code",
   "execution_count": 64,
   "metadata": {
    "ExecuteTime": {
     "end_time": "2021-12-27T08:45:07.102238Z",
     "start_time": "2021-12-27T08:45:07.024238Z"
    },
    "execution": {
     "iopub.execute_input": "2023-11-29T02:00:29.075316Z",
     "iopub.status.busy": "2023-11-29T02:00:29.075136Z",
     "iopub.status.idle": "2023-11-29T02:00:29.143713Z",
     "shell.execute_reply": "2023-11-29T02:00:29.143002Z",
     "shell.execute_reply.started": "2023-11-29T02:00:29.075294Z"
    },
    "tags": []
   },
   "outputs": [
    {
     "data": {
      "text/plain": [
       "ENTEROCOCCUS SP.              7641\n",
       "ENTEROCOCCUS FAECIUM          1882\n",
       "ENTEROCOCCUS FAECALIS         1087\n",
       "PROBABLE ENTEROCOCCUS          409\n",
       "ENTEROCOCCUS GALLINARUM         49\n",
       "ENTEROCOCCUS CASSELIFLAVUS      32\n",
       "ENTEROCOCCUS AVIUM              17\n",
       "ENTEROCOCCUS RAFFINOSUS         10\n",
       "ENTEROCOCCUS HIRAE               3\n",
       "Name: org_name, dtype: int64"
      ]
     },
     "execution_count": 64,
     "metadata": {},
     "output_type": "execute_result"
    }
   ],
   "source": [
    "MDR_CAL_cat_time[MDR_CAL_cat_time['org_category'] == 'Enterococcus spp.'].org_name.value_counts()"
   ]
  },
  {
   "cell_type": "code",
   "execution_count": 65,
   "metadata": {
    "ExecuteTime": {
     "end_time": "2021-12-27T08:45:07.182238Z",
     "start_time": "2021-12-27T08:45:07.104239Z"
    },
    "execution": {
     "iopub.execute_input": "2023-11-29T02:00:29.144634Z",
     "iopub.status.busy": "2023-11-29T02:00:29.144481Z",
     "iopub.status.idle": "2023-11-29T02:00:29.191640Z",
     "shell.execute_reply": "2023-11-29T02:00:29.191129Z",
     "shell.execute_reply.started": "2023-11-29T02:00:29.144620Z"
    },
    "tags": []
   },
   "outputs": [],
   "source": [
    "spec_type = MDR_CAL_cat_time[['subject_id','micro_specimen_id','org_name','spec_type_desc']]"
   ]
  },
  {
   "cell_type": "code",
   "execution_count": 66,
   "metadata": {
    "ExecuteTime": {
     "end_time": "2021-12-27T08:45:07.563238Z",
     "start_time": "2021-12-27T08:45:07.184239Z"
    },
    "execution": {
     "iopub.execute_input": "2023-11-29T02:00:29.192436Z",
     "iopub.status.busy": "2023-11-29T02:00:29.192274Z",
     "iopub.status.idle": "2023-11-29T02:00:29.451859Z",
     "shell.execute_reply": "2023-11-29T02:00:29.451324Z",
     "shell.execute_reply.started": "2023-11-29T02:00:29.192422Z"
    },
    "tags": []
   },
   "outputs": [
    {
     "data": {
      "text/html": [
       "<div>\n",
       "<style scoped>\n",
       "    .dataframe tbody tr th:only-of-type {\n",
       "        vertical-align: middle;\n",
       "    }\n",
       "\n",
       "    .dataframe tbody tr th {\n",
       "        vertical-align: top;\n",
       "    }\n",
       "\n",
       "    .dataframe thead tr th {\n",
       "        text-align: left;\n",
       "    }\n",
       "\n",
       "    .dataframe thead tr:last-of-type th {\n",
       "        text-align: right;\n",
       "    }\n",
       "</style>\n",
       "<table border=\"1\" class=\"dataframe\">\n",
       "  <thead>\n",
       "    <tr>\n",
       "      <th></th>\n",
       "      <th>count</th>\n",
       "      <th>mean</th>\n",
       "    </tr>\n",
       "    <tr>\n",
       "      <th></th>\n",
       "      <th>MDR</th>\n",
       "      <th>MDR</th>\n",
       "    </tr>\n",
       "    <tr>\n",
       "      <th>spec_type_desc</th>\n",
       "      <th></th>\n",
       "      <th></th>\n",
       "    </tr>\n",
       "  </thead>\n",
       "  <tbody>\n",
       "    <tr>\n",
       "      <th>URINE</th>\n",
       "      <td>27105</td>\n",
       "      <td>0.296698</td>\n",
       "    </tr>\n",
       "    <tr>\n",
       "      <th>BLOOD CULTURE</th>\n",
       "      <td>10437</td>\n",
       "      <td>0.197183</td>\n",
       "    </tr>\n",
       "    <tr>\n",
       "      <th>SWAB</th>\n",
       "      <td>7715</td>\n",
       "      <td>0.268697</td>\n",
       "    </tr>\n",
       "    <tr>\n",
       "      <th>SPUTUM</th>\n",
       "      <td>6658</td>\n",
       "      <td>0.261190</td>\n",
       "    </tr>\n",
       "    <tr>\n",
       "      <th>TISSUE</th>\n",
       "      <td>3529</td>\n",
       "      <td>0.197790</td>\n",
       "    </tr>\n",
       "    <tr>\n",
       "      <th>MRSA SCREEN</th>\n",
       "      <td>2817</td>\n",
       "      <td>0.965566</td>\n",
       "    </tr>\n",
       "    <tr>\n",
       "      <th>BRONCHOALVEOLAR LAVAGE</th>\n",
       "      <td>1744</td>\n",
       "      <td>0.176606</td>\n",
       "    </tr>\n",
       "    <tr>\n",
       "      <th>Staph aureus swab</th>\n",
       "      <td>1682</td>\n",
       "      <td>0.129013</td>\n",
       "    </tr>\n",
       "    <tr>\n",
       "      <th>ABSCESS</th>\n",
       "      <td>1468</td>\n",
       "      <td>0.315395</td>\n",
       "    </tr>\n",
       "    <tr>\n",
       "      <th>BRONCHIAL WASHINGS</th>\n",
       "      <td>802</td>\n",
       "      <td>0.201995</td>\n",
       "    </tr>\n",
       "    <tr>\n",
       "      <th>PERITONEAL FLUID</th>\n",
       "      <td>716</td>\n",
       "      <td>0.368715</td>\n",
       "    </tr>\n",
       "    <tr>\n",
       "      <th>BILE</th>\n",
       "      <td>636</td>\n",
       "      <td>0.382075</td>\n",
       "    </tr>\n",
       "    <tr>\n",
       "      <th>Mini-BAL</th>\n",
       "      <td>599</td>\n",
       "      <td>0.168614</td>\n",
       "    </tr>\n",
       "    <tr>\n",
       "      <th>FLUID,OTHER</th>\n",
       "      <td>544</td>\n",
       "      <td>0.250000</td>\n",
       "    </tr>\n",
       "    <tr>\n",
       "      <th>CATHETER TIP-IV</th>\n",
       "      <td>339</td>\n",
       "      <td>0.327434</td>\n",
       "    </tr>\n",
       "    <tr>\n",
       "      <th>FOREIGN BODY</th>\n",
       "      <td>283</td>\n",
       "      <td>0.272085</td>\n",
       "    </tr>\n",
       "    <tr>\n",
       "      <th>JOINT FLUID</th>\n",
       "      <td>269</td>\n",
       "      <td>0.211896</td>\n",
       "    </tr>\n",
       "    <tr>\n",
       "      <th>PLEURAL FLUID</th>\n",
       "      <td>249</td>\n",
       "      <td>0.273092</td>\n",
       "    </tr>\n",
       "    <tr>\n",
       "      <th>FOOT CULTURE</th>\n",
       "      <td>181</td>\n",
       "      <td>0.259669</td>\n",
       "    </tr>\n",
       "    <tr>\n",
       "      <th>FLUID RECEIVED IN BLOOD CULTURE BOTTLES</th>\n",
       "      <td>158</td>\n",
       "      <td>0.322785</td>\n",
       "    </tr>\n",
       "  </tbody>\n",
       "</table>\n",
       "</div>"
      ],
      "text/plain": [
       "                                         count      mean\n",
       "                                           MDR       MDR\n",
       "spec_type_desc                                          \n",
       "URINE                                    27105  0.296698\n",
       "BLOOD CULTURE                            10437  0.197183\n",
       "SWAB                                      7715  0.268697\n",
       "SPUTUM                                    6658  0.261190\n",
       "TISSUE                                    3529  0.197790\n",
       "MRSA SCREEN                               2817  0.965566\n",
       "BRONCHOALVEOLAR LAVAGE                    1744  0.176606\n",
       "Staph aureus swab                         1682  0.129013\n",
       "ABSCESS                                   1468  0.315395\n",
       "BRONCHIAL WASHINGS                         802  0.201995\n",
       "PERITONEAL FLUID                           716  0.368715\n",
       "BILE                                       636  0.382075\n",
       "Mini-BAL                                   599  0.168614\n",
       "FLUID,OTHER                                544  0.250000\n",
       "CATHETER TIP-IV                            339  0.327434\n",
       "FOREIGN BODY                               283  0.272085\n",
       "JOINT FLUID                                269  0.211896\n",
       "PLEURAL FLUID                              249  0.273092\n",
       "FOOT CULTURE                               181  0.259669\n",
       "FLUID RECEIVED IN BLOOD CULTURE BOTTLES    158  0.322785"
      ]
     },
     "execution_count": 66,
     "metadata": {},
     "output_type": "execute_result"
    }
   ],
   "source": [
    "pd.pivot_table(data = MDR_CAL_cat_time,values='MDR',\\\n",
    "               index = ['spec_type_desc'],aggfunc= ['count','mean']).\\\n",
    "sort_values(by = [('count','MDR')],ascending = False).head(20)"
   ]
  },
  {
   "cell_type": "markdown",
   "metadata": {},
   "source": [
    "### 第一次MDRO的信息"
   ]
  },
  {
   "cell_type": "code",
   "execution_count": 67,
   "metadata": {
    "ExecuteTime": {
     "end_time": "2021-12-27T08:45:33.855251Z",
     "start_time": "2021-12-27T08:45:07.565239Z"
    },
    "execution": {
     "iopub.execute_input": "2023-11-29T02:00:29.453927Z",
     "iopub.status.busy": "2023-11-29T02:00:29.453753Z",
     "iopub.status.idle": "2023-11-29T02:00:40.887473Z",
     "shell.execute_reply": "2023-11-29T02:00:40.886153Z",
     "shell.execute_reply.started": "2023-11-29T02:00:29.453912Z"
    },
    "tags": []
   },
   "outputs": [],
   "source": [
    "micro_sim = MDR_CAL_cat_time[['subject_id', 'hadm_id','micro_specimen_id', 'charttime',\n",
    "       'spec_type_desc','storetime', 'org_name',\n",
    "       'resistant_ab_cat', 'MDR']].drop_duplicates()\n",
    "\n",
    "micro_sim['MDR'].fillna(0,inplace = True)\n",
    "\n",
    "micro_sim_firsthospmdr = micro_sim[micro_sim['MDR']==1].groupby(['subject_id','hadm_id']).\\\n",
    "apply(lambda x: x.sort_values(['storetime','charttime']).head(1)).reset_index(drop = True)\n",
    "\n",
    "micro_sim_firsthospmdr = micro_sim_firsthospmdr[['subject_id', 'hadm_id',\\\n",
    "                'charttime','storetime','org_name','resistant_ab_cat']].\\\n",
    "rename(columns = {'charttime':'firsthospmdrcharttime',\\\n",
    "                  'storetime':'firsthospmdrstoretime',\\\n",
    "                  'org_name':'firsthospmdrorgname',\\\n",
    "                 'resistant_ab_cat':'firsthospmdrRAB'})"
   ]
  },
  {
   "cell_type": "code",
   "execution_count": 68,
   "metadata": {
    "ExecuteTime": {
     "end_time": "2021-12-27T08:45:33.999244Z",
     "start_time": "2021-12-27T08:45:33.858240Z"
    },
    "execution": {
     "iopub.execute_input": "2023-11-29T02:00:40.888482Z",
     "iopub.status.busy": "2023-11-29T02:00:40.888301Z",
     "iopub.status.idle": "2023-11-29T02:00:41.068429Z",
     "shell.execute_reply": "2023-11-29T02:00:41.067426Z",
     "shell.execute_reply.started": "2023-11-29T02:00:40.888466Z"
    },
    "tags": []
   },
   "outputs": [],
   "source": [
    "icustay_1stmdr = pd.merge(icustays, micro_sim_firsthospmdr, how = 'left', on = ['subject_id','hadm_id'])"
   ]
  },
  {
   "cell_type": "code",
   "execution_count": 69,
   "metadata": {
    "ExecuteTime": {
     "end_time": "2021-12-27T08:45:38.391239Z",
     "start_time": "2021-12-27T08:45:34.002243Z"
    },
    "execution": {
     "iopub.execute_input": "2023-11-29T02:00:41.069485Z",
     "iopub.status.busy": "2023-11-29T02:00:41.069304Z",
     "iopub.status.idle": "2023-11-29T02:00:43.055233Z",
     "shell.execute_reply": "2023-11-29T02:00:43.054220Z",
     "shell.execute_reply.started": "2023-11-29T02:00:41.069470Z"
    },
    "tags": []
   },
   "outputs": [],
   "source": [
    "cohort_micro = pd.merge(MDR_CAL_cat_time,icustay_1stmdr, how = 'left', on = ['subject_id'])"
   ]
  },
  {
   "cell_type": "code",
   "execution_count": 71,
   "metadata": {
    "ExecuteTime": {
     "end_time": "2021-12-27T08:46:30.748245Z",
     "start_time": "2021-12-27T08:45:38.393240Z"
    },
    "execution": {
     "iopub.execute_input": "2023-11-29T02:10:39.406533Z",
     "iopub.status.busy": "2023-11-29T02:10:39.405240Z",
     "iopub.status.idle": "2023-11-29T02:11:07.870880Z",
     "shell.execute_reply": "2023-11-29T02:11:07.869054Z",
     "shell.execute_reply.started": "2023-11-29T02:10:39.406477Z"
    },
    "tags": []
   },
   "outputs": [],
   "source": [
    "for i in ['admittime','dischtime','icu_intime','icu_outtime','charttime','storetime']:\n",
    "    cohort_micro[i] = cohort_micro[i].apply(trans_time)"
   ]
  },
  {
   "cell_type": "code",
   "execution_count": 73,
   "metadata": {
    "ExecuteTime": {
     "end_time": "2021-12-27T08:46:31.145243Z",
     "start_time": "2021-12-27T08:46:30.751238Z"
    },
    "execution": {
     "iopub.execute_input": "2023-11-29T02:11:24.106277Z",
     "iopub.status.busy": "2023-11-29T02:11:24.105639Z",
     "iopub.status.idle": "2023-11-29T02:11:24.188521Z",
     "shell.execute_reply": "2023-11-29T02:11:24.187282Z",
     "shell.execute_reply.started": "2023-11-29T02:11:24.106222Z"
    },
    "tags": []
   },
   "outputs": [],
   "source": [
    "cohort_micro['microtest_days'] = round((cohort_micro['charttime'] - cohort_micro['icu_intime']).\\\n",
    "                                       dt.total_seconds()/3600/24,2)\n",
    "cohort_micro['microresult_days'] = round((cohort_micro['storetime'] - cohort_micro['icu_intime']).\\\n",
    "                                         dt.total_seconds()/3600/24,2)"
   ]
  },
  {
   "cell_type": "code",
   "execution_count": 74,
   "metadata": {
    "ExecuteTime": {
     "end_time": "2021-12-27T08:47:02.178243Z",
     "start_time": "2021-12-27T08:46:31.148238Z"
    },
    "execution": {
     "iopub.execute_input": "2023-11-29T02:11:24.213819Z",
     "iopub.status.busy": "2023-11-29T02:11:24.213674Z",
     "iopub.status.idle": "2023-11-29T02:11:35.779631Z",
     "shell.execute_reply": "2023-11-29T02:11:35.778925Z",
     "shell.execute_reply.started": "2023-11-29T02:11:24.213805Z"
    },
    "tags": []
   },
   "outputs": [
    {
     "data": {
      "text/plain": [
       "0    62815\n",
       "1    53472\n",
       "Name: microtest_inicu, dtype: int64"
      ]
     },
     "execution_count": 74,
     "metadata": {},
     "output_type": "execute_result"
    }
   ],
   "source": [
    "#在住ICU期间做的微生物检测，如果有检测，则microtest_inicu为1\n",
    "cohort_micro['los_icu'] = cohort_micro['los_icu'].astype(float)\n",
    "cohort_micro['microtest_inicu'] = cohort_micro[['microtest_days','los_icu']].\\\n",
    "apply(lambda x: 1 if (x[0]>=0) & (x[0]<=x[1]) else 0, axis = 1)\n",
    "\n",
    "#在入icu后，出ICU前做过微生物检测的人数\n",
    "cohort_micro[['stay_id','microtest_inicu']].drop_duplicates().microtest_inicu.value_counts()"
   ]
  },
  {
   "cell_type": "code",
   "execution_count": 75,
   "metadata": {
    "ExecuteTime": {
     "end_time": "2021-12-27T08:47:37.394243Z",
     "start_time": "2021-12-27T08:47:02.180239Z"
    },
    "execution": {
     "iopub.execute_input": "2023-11-29T02:11:35.806807Z",
     "iopub.status.busy": "2023-11-29T02:11:35.806651Z",
     "iopub.status.idle": "2023-11-29T02:11:47.144251Z",
     "shell.execute_reply": "2023-11-29T02:11:47.143536Z",
     "shell.execute_reply.started": "2023-11-29T02:11:35.806793Z"
    },
    "tags": []
   },
   "outputs": [
    {
     "data": {
      "text/plain": [
       "0    69175\n",
       "1    23537\n",
       "Name: microtest_beforeicu, dtype: int64"
      ]
     },
     "execution_count": 75,
     "metadata": {},
     "output_type": "execute_result"
    }
   ],
   "source": [
    "#在入icu前做微生物检测，在入ICU后结果才出来的人数\n",
    "cohort_micro['microtest_beforeicu'] = cohort_micro[['microtest_days','microresult_days','los_icu']].\\\n",
    "apply(lambda x: 1 if ((x[0]<0) & (x[1]<=x[2]) & (x[1]>0)) else 0, axis = 1)\n",
    "\n",
    "#在入icu前做微生物检测，在入ICU后，出ICU前结果出来的人数\n",
    "cohort_micro[['stay_id','microtest_beforeicu']].drop_duplicates().microtest_beforeicu.value_counts()"
   ]
  },
  {
   "cell_type": "code",
   "execution_count": 76,
   "metadata": {
    "ExecuteTime": {
     "end_time": "2021-12-27T08:48:01.537863Z",
     "start_time": "2021-12-27T08:47:37.397240Z"
    },
    "execution": {
     "iopub.execute_input": "2023-11-29T02:11:47.145184Z",
     "iopub.status.busy": "2023-11-29T02:11:47.145016Z",
     "iopub.status.idle": "2023-11-29T02:11:54.665907Z",
     "shell.execute_reply": "2023-11-29T02:11:54.665150Z",
     "shell.execute_reply.started": "2023-11-29T02:11:47.145170Z"
    },
    "tags": []
   },
   "outputs": [
    {
     "data": {
      "text/plain": [
       "0    67778\n",
       "1    41149\n",
       "Name: microresult_beforeicu, dtype: int64"
      ]
     },
     "execution_count": 76,
     "metadata": {},
     "output_type": "execute_result"
    }
   ],
   "source": [
    "#在入icu前做微生物检测，在入ICU前结果出来的人数\n",
    "cohort_micro['microresult_beforeicu'] = cohort_micro[['microtest_days','microresult_days','los_icu']].\\\n",
    "apply(lambda x: 1 if ((x[0]<0) & (x[1]<0)) else 0, axis = 1)\n",
    "\n",
    "#在入icu前做微生物检测，在入ICU前出结果人数\n",
    "cohort_micro[['stay_id','microresult_beforeicu']].drop_duplicates().microresult_beforeicu.value_counts()"
   ]
  },
  {
   "cell_type": "code",
   "execution_count": 77,
   "metadata": {
    "ExecuteTime": {
     "end_time": "2021-12-27T08:48:07.345858Z",
     "start_time": "2021-12-27T08:48:01.540858Z"
    },
    "execution": {
     "iopub.execute_input": "2023-11-29T02:11:54.666730Z",
     "iopub.status.busy": "2023-11-29T02:11:54.666564Z",
     "iopub.status.idle": "2023-11-29T02:11:57.716580Z",
     "shell.execute_reply": "2023-11-29T02:11:57.715905Z",
     "shell.execute_reply.started": "2023-11-29T02:11:54.666716Z"
    },
    "tags": []
   },
   "outputs": [
    {
     "data": {
      "text/plain": [
       "0.0    51370\n",
       "1.0    23802\n",
       "Name: MDR, dtype: int64"
      ]
     },
     "execution_count": 77,
     "metadata": {},
     "output_type": "execute_result"
    }
   ],
   "source": [
    "cohort_micro[cohort_micro['microresult_beforeicu']==1].drop_duplicates().MDR.value_counts()"
   ]
  },
  {
   "cell_type": "code",
   "execution_count": 78,
   "metadata": {
    "ExecuteTime": {
     "end_time": "2021-12-27T08:48:07.360859Z",
     "start_time": "2021-12-27T08:48:07.352858Z"
    },
    "execution": {
     "iopub.execute_input": "2023-11-29T02:11:57.718363Z",
     "iopub.status.busy": "2023-11-29T02:11:57.718184Z",
     "iopub.status.idle": "2023-11-29T02:11:57.722314Z",
     "shell.execute_reply": "2023-11-29T02:11:57.721657Z",
     "shell.execute_reply.started": "2023-11-29T02:11:57.718348Z"
    },
    "tags": []
   },
   "outputs": [],
   "source": [
    "cohort_micro.rename(columns = {'hadm_id_x':'hadm_id','hadm_id_y':'hadm_id_icu'},inplace = True)"
   ]
  },
  {
   "cell_type": "code",
   "execution_count": 79,
   "metadata": {
    "ExecuteTime": {
     "end_time": "2021-12-27T08:48:07.865865Z",
     "start_time": "2021-12-27T08:48:07.362860Z"
    },
    "execution": {
     "iopub.execute_input": "2023-11-29T02:11:57.748618Z",
     "iopub.status.busy": "2023-11-29T02:11:57.748467Z",
     "iopub.status.idle": "2023-11-29T02:11:58.474536Z",
     "shell.execute_reply": "2023-11-29T02:11:58.473155Z",
     "shell.execute_reply.started": "2023-11-29T02:11:57.748604Z"
    },
    "tags": []
   },
   "outputs": [],
   "source": [
    "cohort_WITHMDR = cohort_micro.copy()"
   ]
  },
  {
   "cell_type": "code",
   "execution_count": 80,
   "metadata": {
    "ExecuteTime": {
     "end_time": "2021-12-27T08:48:07.912863Z",
     "start_time": "2021-12-27T08:48:07.868858Z"
    },
    "execution": {
     "iopub.execute_input": "2023-11-29T02:11:58.475495Z",
     "iopub.status.busy": "2023-11-29T02:11:58.475321Z",
     "iopub.status.idle": "2023-11-29T02:11:58.534751Z",
     "shell.execute_reply": "2023-11-29T02:11:58.533885Z",
     "shell.execute_reply.started": "2023-11-29T02:11:58.475479Z"
    },
    "tags": []
   },
   "outputs": [],
   "source": [
    "cohort_WITHMDR['MDR'] = cohort_WITHMDR['MDR'].fillna(0)"
   ]
  },
  {
   "cell_type": "code",
   "execution_count": 81,
   "metadata": {
    "ExecuteTime": {
     "end_time": "2021-12-27T08:48:10.066859Z",
     "start_time": "2021-12-27T08:48:07.915859Z"
    },
    "execution": {
     "iopub.execute_input": "2023-11-29T02:11:58.535616Z",
     "iopub.status.busy": "2023-11-29T02:11:58.535450Z",
     "iopub.status.idle": "2023-11-29T02:11:59.589623Z",
     "shell.execute_reply": "2023-11-29T02:11:59.588946Z",
     "shell.execute_reply.started": "2023-11-29T02:11:58.535601Z"
    },
    "tags": []
   },
   "outputs": [
    {
     "data": {
      "text/plain": [
       "0.0    215472\n",
       "1.0      6154\n",
       "Name: MDR, dtype: int64"
      ]
     },
     "execution_count": 81,
     "metadata": {},
     "output_type": "execute_result"
    }
   ],
   "source": [
    "cohort_WITHMDR[cohort_WITHMDR['microtest_inicu']==1].drop_duplicates().MDR.value_counts()"
   ]
  },
  {
   "cell_type": "code",
   "execution_count": 82,
   "metadata": {
    "ExecuteTime": {
     "end_time": "2021-12-27T08:48:10.082859Z",
     "start_time": "2021-12-27T08:48:10.069858Z"
    },
    "execution": {
     "iopub.execute_input": "2023-11-29T02:11:59.590486Z",
     "iopub.status.busy": "2023-11-29T02:11:59.590315Z",
     "iopub.status.idle": "2023-11-29T02:11:59.593731Z",
     "shell.execute_reply": "2023-11-29T02:11:59.593353Z",
     "shell.execute_reply.started": "2023-11-29T02:11:59.590471Z"
    },
    "tags": []
   },
   "outputs": [],
   "source": [
    "#cohort_WITHMDR[cohort_WITHMDR['subject_id'] ==10002428.0].to_csv('test3.csv')"
   ]
  },
  {
   "cell_type": "code",
   "execution_count": 83,
   "metadata": {
    "ExecuteTime": {
     "end_time": "2021-12-27T08:48:11.224857Z",
     "start_time": "2021-12-27T08:48:10.085859Z"
    },
    "execution": {
     "iopub.execute_input": "2023-11-29T02:11:59.594431Z",
     "iopub.status.busy": "2023-11-29T02:11:59.594277Z",
     "iopub.status.idle": "2023-11-29T02:12:00.206014Z",
     "shell.execute_reply": "2023-11-29T02:12:00.205270Z",
     "shell.execute_reply.started": "2023-11-29T02:11:59.594416Z"
    },
    "tags": []
   },
   "outputs": [
    {
     "data": {
      "text/plain": [
       "Enterobacteriaceae        30637\n",
       "Staphylococcus aureus     20013\n",
       "Enterococcus spp.         11130\n",
       "Pseudomonas aeruginosa     6107\n",
       "Acinetobacter spp.          572\n",
       "Name: org_category, dtype: int64"
      ]
     },
     "execution_count": 83,
     "metadata": {},
     "output_type": "execute_result"
    }
   ],
   "source": [
    "cohort_WITHMDR[['subject_id','micro_specimen_id','org_name','org_category']].\\\n",
    "drop_duplicates().org_category.value_counts()"
   ]
  },
  {
   "cell_type": "code",
   "execution_count": 84,
   "metadata": {
    "ExecuteTime": {
     "end_time": "2021-12-27T08:49:16.837862Z",
     "start_time": "2021-12-27T08:48:11.226862Z"
    },
    "execution": {
     "iopub.execute_input": "2023-11-29T02:12:00.206952Z",
     "iopub.status.busy": "2023-11-29T02:12:00.206782Z",
     "iopub.status.idle": "2023-11-29T02:12:40.065974Z",
     "shell.execute_reply": "2023-11-29T02:12:40.064480Z",
     "shell.execute_reply.started": "2023-11-29T02:12:00.206936Z"
    },
    "tags": []
   },
   "outputs": [],
   "source": [
    "cohort_WITHMDR.to_csv('cohort_WITHMDR.csv', index = False)"
   ]
  },
  {
   "cell_type": "code",
   "execution_count": null,
   "metadata": {
    "ExecuteTime": {
     "end_time": "2021-12-27T08:49:16.949857Z",
     "start_time": "2021-12-27T08:49:16.840858Z"
    },
    "execution": {
     "iopub.status.busy": "2023-11-29T02:00:46.171822Z",
     "iopub.status.idle": "2023-11-29T02:00:46.172106Z",
     "shell.execute_reply": "2023-11-29T02:00:46.172008Z",
     "shell.execute_reply.started": "2023-11-29T02:00:46.171998Z"
    },
    "tags": []
   },
   "outputs": [],
   "source": [
    "cohort_WITHMDR"
   ]
  },
  {
   "cell_type": "code",
   "execution_count": null,
   "metadata": {},
   "outputs": [],
   "source": []
  },
  {
   "cell_type": "code",
   "execution_count": null,
   "metadata": {},
   "outputs": [],
   "source": []
  }
 ],
 "metadata": {
  "kernelspec": {
   "display_name": "data_extraction",
   "language": "python",
   "name": "data_extraction"
  },
  "language_info": {
   "codemirror_mode": {
    "name": "ipython",
    "version": 3
   },
   "file_extension": ".py",
   "mimetype": "text/x-python",
   "name": "python",
   "nbconvert_exporter": "python",
   "pygments_lexer": "ipython3",
   "version": "3.10.9"
  },
  "latex_envs": {
   "LaTeX_envs_menu_present": true,
   "autoclose": false,
   "autocomplete": true,
   "bibliofile": "biblio.bib",
   "cite_by": "apalike",
   "current_citInitial": 1,
   "eqLabelWithNumbers": true,
   "eqNumInitial": 1,
   "hotkeys": {
    "equation": "Ctrl-E",
    "itemize": "Ctrl-I"
   },
   "labels_anchors": false,
   "latex_user_defs": false,
   "report_style_numbering": false,
   "user_envs_cfg": false
  },
  "toc": {
   "base_numbering": 1,
   "nav_menu": {},
   "number_sections": true,
   "sideBar": true,
   "skip_h1_title": false,
   "title_cell": "Table of Contents",
   "title_sidebar": "Contents",
   "toc_cell": false,
   "toc_position": {},
   "toc_section_display": true,
   "toc_window_display": true
  }
 },
 "nbformat": 4,
 "nbformat_minor": 4
}
