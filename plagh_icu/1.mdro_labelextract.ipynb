{
 "cells": [
  {
   "cell_type": "code",
   "execution_count": 4,
   "id": "18034ec2",
   "metadata": {
    "ExecuteTime": {
     "end_time": "2022-01-04T07:07:38.032509Z",
     "start_time": "2022-01-04T07:07:34.807031Z"
    },
    "execution": {
     "iopub.execute_input": "2023-12-29T01:46:25.729589Z",
     "iopub.status.busy": "2023-12-29T01:46:25.728989Z",
     "iopub.status.idle": "2023-12-29T01:46:25.741950Z",
     "shell.execute_reply": "2023-12-29T01:46:25.740391Z",
     "shell.execute_reply.started": "2023-12-29T01:46:25.729536Z"
    },
    "tags": []
   },
   "outputs": [],
   "source": [
    "%config IPCompleter.greedy=True\n",
    "import numpy as np\n",
    "import pandas as pd\n",
    "import matplotlib.pyplot as plt\n",
    "import time\n",
    "import re\n",
    "import scipy\n",
    "from datetime import time, timedelta\n",
    "import seaborn as sns\n",
    "pd.set_option('display.max_columns', 100)\n",
    "from dateutil.parser import parse"
   ]
  },
  {
   "cell_type": "code",
   "execution_count": 5,
   "id": "152c7115",
   "metadata": {
    "ExecuteTime": {
     "end_time": "2022-01-04T07:07:38.048509Z",
     "start_time": "2022-01-04T07:07:38.035511Z"
    },
    "execution": {
     "iopub.execute_input": "2023-12-29T01:46:26.681404Z",
     "iopub.status.busy": "2023-12-29T01:46:26.680830Z",
     "iopub.status.idle": "2023-12-29T01:46:26.688249Z",
     "shell.execute_reply": "2023-12-29T01:46:26.686523Z",
     "shell.execute_reply.started": "2023-12-29T01:46:26.681353Z"
    },
    "tags": []
   },
   "outputs": [],
   "source": [
    "import warnings\n",
    "warnings.filterwarnings(\"ignore\")"
   ]
  },
  {
   "cell_type": "code",
   "execution_count": 6,
   "id": "9b6dcb72",
   "metadata": {
    "ExecuteTime": {
     "end_time": "2022-01-04T07:07:38.063510Z",
     "start_time": "2022-01-04T07:07:38.053388Z"
    },
    "execution": {
     "iopub.execute_input": "2023-12-29T01:46:27.331438Z",
     "iopub.status.busy": "2023-12-29T01:46:27.330890Z",
     "iopub.status.idle": "2023-12-29T01:46:27.338495Z",
     "shell.execute_reply": "2023-12-29T01:46:27.336738Z",
     "shell.execute_reply.started": "2023-12-29T01:46:27.331387Z"
    }
   },
   "outputs": [],
   "source": [
    "from pandas.api.types import CategoricalDtype"
   ]
  },
  {
   "cell_type": "code",
   "execution_count": 7,
   "id": "44fd66e4",
   "metadata": {
    "ExecuteTime": {
     "end_time": "2022-01-04T07:07:38.079509Z",
     "start_time": "2022-01-04T07:07:38.066510Z"
    },
    "execution": {
     "iopub.execute_input": "2023-12-29T01:46:28.030600Z",
     "iopub.status.busy": "2023-12-29T01:46:28.029331Z",
     "iopub.status.idle": "2023-12-29T01:46:28.038314Z",
     "shell.execute_reply": "2023-12-29T01:46:28.036751Z",
     "shell.execute_reply.started": "2023-12-29T01:46:28.030545Z"
    }
   },
   "outputs": [],
   "source": [
    "def trans_time(t):\n",
    "    if t == 'None':\n",
    "        return np.datetime64('NaT')\n",
    "    elif pd.isna(t):\n",
    "        return np.datetime64('NaT')\n",
    "    else:\n",
    "        return np.datetime64(t)"
   ]
  },
  {
   "cell_type": "code",
   "execution_count": 8,
   "id": "fd47824f",
   "metadata": {
    "ExecuteTime": {
     "end_time": "2022-01-04T07:07:38.095510Z",
     "start_time": "2022-01-04T07:07:38.081510Z"
    },
    "execution": {
     "iopub.execute_input": "2023-12-29T01:46:29.080066Z",
     "iopub.status.busy": "2023-12-29T01:46:29.079511Z",
     "iopub.status.idle": "2023-12-29T01:46:29.088171Z",
     "shell.execute_reply": "2023-12-29T01:46:29.086719Z",
     "shell.execute_reply.started": "2023-12-29T01:46:29.080015Z"
    }
   },
   "outputs": [],
   "source": [
    "def trans_float(df):\n",
    "    for i in df.columns:\n",
    "        if df[i].dtype == object:\n",
    "            if ((df[i]== 'None')|(df[i]== 'Null')).any():\n",
    "                df[i].replace('None',np.nan,inplace = True)\n",
    "                df[i].replace('Null',np.nan,inplace = True)\n",
    "                df[i] = df[i].astype(float)\n",
    "            else:\n",
    "                df[i] = df[i].astype(float)"
   ]
  },
  {
   "cell_type": "code",
   "execution_count": 9,
   "id": "94460303",
   "metadata": {
    "ExecuteTime": {
     "end_time": "2022-01-04T07:07:38.111510Z",
     "start_time": "2022-01-04T07:07:38.097512Z"
    },
    "execution": {
     "iopub.execute_input": "2023-12-29T01:46:29.720589Z",
     "iopub.status.busy": "2023-12-29T01:46:29.720020Z",
     "iopub.status.idle": "2023-12-29T01:46:29.728237Z",
     "shell.execute_reply": "2023-12-29T01:46:29.726765Z",
     "shell.execute_reply.started": "2023-12-29T01:46:29.720537Z"
    }
   },
   "outputs": [],
   "source": [
    "def trans_time(t):\n",
    "    if t == 'None':\n",
    "        return np.datetime64('NaT')\n",
    "    elif pd.isna(t):\n",
    "        return np.datetime64('NaT')\n",
    "    else:\n",
    "        return parse(t)"
   ]
  },
  {
   "cell_type": "code",
   "execution_count": 10,
   "id": "d415d2a3",
   "metadata": {
    "ExecuteTime": {
     "end_time": "2022-01-04T07:07:38.127512Z",
     "start_time": "2022-01-04T07:07:38.113512Z"
    },
    "execution": {
     "iopub.execute_input": "2023-12-29T01:46:30.208423Z",
     "iopub.status.busy": "2023-12-29T01:46:30.207880Z",
     "iopub.status.idle": "2023-12-29T01:46:30.217406Z",
     "shell.execute_reply": "2023-12-29T01:46:30.216068Z",
     "shell.execute_reply.started": "2023-12-29T01:46:30.208372Z"
    }
   },
   "outputs": [],
   "source": [
    "def read_largefile(path, encoding):\n",
    "    test = pd.read_csv(path, sep=',',encoding = encoding,nrows= 10000)\n",
    "    nan_count_list = []\n",
    "    col_sel_list = []\n",
    "    for i in range(len(test.columns.to_list())):\n",
    "        nan_count_list.append((pd.isna(test.iloc[:,i]).sum()/10000)*100)\n",
    "\n",
    "    for i in range(len(nan_count_list)):\n",
    "        if nan_count_list[i]<=50:\n",
    "            col_sel_list.append(test.columns.to_list()[i])\n",
    "    \n",
    "    reader = pd.read_csv(path,usecols= col_sel_list, sep=',', iterator=True,encoding = encoding)\n",
    "    loop = True\n",
    "    chunkSize = 100000\n",
    "    chunks = []\n",
    "    while loop:\n",
    "        try:\n",
    "            chunk = reader.get_chunk(chunkSize)\n",
    "            chunks.append(chunk)\n",
    "        except StopIteration:\n",
    "            loop = False\n",
    "            print(\"Iteration is stopped.\")\n",
    "    df = pd.concat(chunks, ignore_index=True)\n",
    "    return df"
   ]
  },
  {
   "cell_type": "code",
   "execution_count": 11,
   "id": "29449506",
   "metadata": {
    "ExecuteTime": {
     "end_time": "2022-01-04T07:07:42.746875Z",
     "start_time": "2022-01-04T07:07:38.546873Z"
    },
    "execution": {
     "iopub.execute_input": "2023-12-29T01:46:38.699602Z",
     "iopub.status.busy": "2023-12-29T01:46:38.698309Z",
     "iopub.status.idle": "2023-12-29T01:46:41.532405Z",
     "shell.execute_reply": "2023-12-29T01:46:41.530827Z",
     "shell.execute_reply.started": "2023-12-29T01:46:38.699548Z"
    }
   },
   "outputs": [
    {
     "name": "stdout",
     "output_type": "stream",
     "text": [
      "Iteration is stopped.\n"
     ]
    }
   ],
   "source": [
    "microevents = read_largefile('../Local_hosp_data/microevents.csv', encoding = 'gb18030')"
   ]
  },
  {
   "cell_type": "code",
   "execution_count": 12,
   "id": "2d32b0a6",
   "metadata": {
    "ExecuteTime": {
     "end_time": "2022-01-04T07:22:20.748716Z",
     "start_time": "2022-01-04T07:22:19.826711Z"
    },
    "execution": {
     "iopub.execute_input": "2023-12-29T01:46:59.159701Z",
     "iopub.status.busy": "2023-12-29T01:46:59.159106Z",
     "iopub.status.idle": "2023-12-29T01:46:59.166839Z",
     "shell.execute_reply": "2023-12-29T01:46:59.165556Z",
     "shell.execute_reply.started": "2023-12-29T01:46:59.159650Z"
    }
   },
   "outputs": [],
   "source": [
    "#微生物数据标注\n",
    "# label_cul_name = microevents[microevents.REPORT_ITEM_NAME.str.contains('培养',na=False)]\n",
    "# #label_cul_name.RESULT.value_counts().to_excel('micro_label_plagh.xlsx')\n",
    "# tot_micro_label_plagh = pd.read_excel('micro_label_plagh.xlsx')\n",
    "# before_micro_label_plagh = pd.read_excel('bc_results_label.xlsx')\n",
    "# merge_table = pd.merge(tot_micro_label_plagh,before_micro_label_plagh, how = 'left', left_on = ['org_name'], right_on = ['Results'])\n",
    "# merge_table.to_excel('micro_label_plagh_tot_tobefinished.xlsx')"
   ]
  },
  {
   "cell_type": "code",
   "execution_count": 13,
   "id": "39452ee3",
   "metadata": {
    "ExecuteTime": {
     "end_time": "2022-01-04T07:08:00.549683Z",
     "start_time": "2022-01-04T07:08:00.256681Z"
    },
    "execution": {
     "iopub.execute_input": "2023-12-29T01:47:02.886782Z",
     "iopub.status.busy": "2023-12-29T01:47:02.886209Z",
     "iopub.status.idle": "2023-12-29T01:47:03.153677Z",
     "shell.execute_reply": "2023-12-29T01:47:03.152624Z",
     "shell.execute_reply.started": "2023-12-29T01:47:02.886730Z"
    }
   },
   "outputs": [
    {
     "data": {
      "text/html": [
       "<div>\n",
       "<style scoped>\n",
       "    .dataframe tbody tr th:only-of-type {\n",
       "        vertical-align: middle;\n",
       "    }\n",
       "\n",
       "    .dataframe tbody tr th {\n",
       "        vertical-align: top;\n",
       "    }\n",
       "\n",
       "    .dataframe thead th {\n",
       "        text-align: right;\n",
       "    }\n",
       "</style>\n",
       "<table border=\"1\" class=\"dataframe\">\n",
       "  <thead>\n",
       "    <tr style=\"text-align: right;\">\n",
       "      <th></th>\n",
       "      <th>TEST_NO</th>\n",
       "      <th>PATIENT_ID</th>\n",
       "      <th>VISIT_ID</th>\n",
       "      <th>EXECUTE_DATE</th>\n",
       "      <th>SPECIMEN</th>\n",
       "      <th>SPCM_SAMPLE_DATE_TIME</th>\n",
       "      <th>REQUESTED_DATE_TIME</th>\n",
       "      <th>RESULTS_RPT_DATE_TIME</th>\n",
       "      <th>SUBJECT</th>\n",
       "      <th>ITEM_NO</th>\n",
       "      <th>REPORT_ITEM_NAME</th>\n",
       "      <th>RESULT</th>\n",
       "      <th>RESULT_DATE_TIME</th>\n",
       "    </tr>\n",
       "  </thead>\n",
       "  <tbody>\n",
       "    <tr>\n",
       "      <th>390649</th>\n",
       "      <td>153737</td>\n",
       "      <td>S111347899</td>\n",
       "      <td>1.0</td>\n",
       "      <td>2011/2/8 7:47:45</td>\n",
       "      <td>痰</td>\n",
       "      <td>NaN</td>\n",
       "      <td>2011/2/5 1:13:00</td>\n",
       "      <td>2011/2/8 7:47:45</td>\n",
       "      <td>药敏-肺炎克雷伯菌</td>\n",
       "      <td>1</td>\n",
       "      <td>阿莫西林/棒酸</td>\n",
       "      <td>I   19</td>\n",
       "      <td>2011/2/8 7:47:45</td>\n",
       "    </tr>\n",
       "    <tr>\n",
       "      <th>390650</th>\n",
       "      <td>153737</td>\n",
       "      <td>S111347899</td>\n",
       "      <td>1.0</td>\n",
       "      <td>2011/2/8 7:47:45</td>\n",
       "      <td>痰</td>\n",
       "      <td>NaN</td>\n",
       "      <td>2011/2/5 1:13:00</td>\n",
       "      <td>2011/2/8 7:47:45</td>\n",
       "      <td>药敏-肺炎克雷伯菌</td>\n",
       "      <td>2</td>\n",
       "      <td>阿米卡星</td>\n",
       "      <td>S   19</td>\n",
       "      <td>2011/2/8 7:47:45</td>\n",
       "    </tr>\n",
       "    <tr>\n",
       "      <th>390651</th>\n",
       "      <td>153737</td>\n",
       "      <td>S111347899</td>\n",
       "      <td>1.0</td>\n",
       "      <td>2011/2/8 7:47:45</td>\n",
       "      <td>痰</td>\n",
       "      <td>NaN</td>\n",
       "      <td>2011/2/5 1:13:00</td>\n",
       "      <td>2011/2/8 7:47:45</td>\n",
       "      <td>药敏-肺炎克雷伯菌</td>\n",
       "      <td>3</td>\n",
       "      <td>氨苄西林/舒巴坦</td>\n",
       "      <td>S   21</td>\n",
       "      <td>2011/2/8 7:47:45</td>\n",
       "    </tr>\n",
       "    <tr>\n",
       "      <th>390652</th>\n",
       "      <td>153737</td>\n",
       "      <td>S111347899</td>\n",
       "      <td>1.0</td>\n",
       "      <td>2011/2/8 7:47:45</td>\n",
       "      <td>痰</td>\n",
       "      <td>NaN</td>\n",
       "      <td>2011/2/5 1:13:00</td>\n",
       "      <td>2011/2/8 7:47:45</td>\n",
       "      <td>药敏-肺炎克雷伯菌</td>\n",
       "      <td>4</td>\n",
       "      <td>哌拉西林</td>\n",
       "      <td>R   12</td>\n",
       "      <td>2011/2/8 7:47:45</td>\n",
       "    </tr>\n",
       "    <tr>\n",
       "      <th>390653</th>\n",
       "      <td>153737</td>\n",
       "      <td>S111347899</td>\n",
       "      <td>1.0</td>\n",
       "      <td>2011/2/8 7:47:45</td>\n",
       "      <td>痰</td>\n",
       "      <td>NaN</td>\n",
       "      <td>2011/2/5 1:13:00</td>\n",
       "      <td>2011/2/8 7:47:45</td>\n",
       "      <td>药敏-肺炎克雷伯菌</td>\n",
       "      <td>5</td>\n",
       "      <td>头孢呋辛</td>\n",
       "      <td>R   6</td>\n",
       "      <td>2011/2/8 7:47:45</td>\n",
       "    </tr>\n",
       "    <tr>\n",
       "      <th>390654</th>\n",
       "      <td>153737</td>\n",
       "      <td>S111347899</td>\n",
       "      <td>1.0</td>\n",
       "      <td>2011/2/8 7:47:45</td>\n",
       "      <td>痰</td>\n",
       "      <td>NaN</td>\n",
       "      <td>2011/2/5 1:13:00</td>\n",
       "      <td>2011/2/8 7:47:45</td>\n",
       "      <td>药敏-肺炎克雷伯菌</td>\n",
       "      <td>6</td>\n",
       "      <td>头孢噻肟</td>\n",
       "      <td>R   15</td>\n",
       "      <td>2011/2/8 7:47:45</td>\n",
       "    </tr>\n",
       "    <tr>\n",
       "      <th>390655</th>\n",
       "      <td>153737</td>\n",
       "      <td>S111347899</td>\n",
       "      <td>1.0</td>\n",
       "      <td>2011/2/8 7:47:45</td>\n",
       "      <td>痰</td>\n",
       "      <td>NaN</td>\n",
       "      <td>2011/2/5 1:13:00</td>\n",
       "      <td>2011/2/8 7:47:45</td>\n",
       "      <td>药敏-肺炎克雷伯菌</td>\n",
       "      <td>7</td>\n",
       "      <td>亚胺培南</td>\n",
       "      <td>S   25</td>\n",
       "      <td>2011/2/8 7:47:45</td>\n",
       "    </tr>\n",
       "    <tr>\n",
       "      <th>390656</th>\n",
       "      <td>153737</td>\n",
       "      <td>S111347899</td>\n",
       "      <td>1.0</td>\n",
       "      <td>2011/2/8 7:47:45</td>\n",
       "      <td>痰</td>\n",
       "      <td>NaN</td>\n",
       "      <td>2011/2/5 1:13:00</td>\n",
       "      <td>2011/2/8 7:47:45</td>\n",
       "      <td>药敏-肺炎克雷伯菌</td>\n",
       "      <td>8</td>\n",
       "      <td>头孢他啶</td>\n",
       "      <td>S   26</td>\n",
       "      <td>2011/2/8 7:47:45</td>\n",
       "    </tr>\n",
       "    <tr>\n",
       "      <th>390657</th>\n",
       "      <td>153737</td>\n",
       "      <td>S111347899</td>\n",
       "      <td>1.0</td>\n",
       "      <td>2011/2/8 7:47:45</td>\n",
       "      <td>痰</td>\n",
       "      <td>NaN</td>\n",
       "      <td>2011/2/5 1:13:00</td>\n",
       "      <td>2011/2/8 7:47:45</td>\n",
       "      <td>药敏-肺炎克雷伯菌</td>\n",
       "      <td>9</td>\n",
       "      <td>头孢吡肟</td>\n",
       "      <td>S   22</td>\n",
       "      <td>2011/2/8 7:47:45</td>\n",
       "    </tr>\n",
       "    <tr>\n",
       "      <th>390658</th>\n",
       "      <td>153737</td>\n",
       "      <td>S111347899</td>\n",
       "      <td>1.0</td>\n",
       "      <td>2011/2/8 7:47:45</td>\n",
       "      <td>痰</td>\n",
       "      <td>NaN</td>\n",
       "      <td>2011/2/5 1:13:00</td>\n",
       "      <td>2011/2/8 7:47:45</td>\n",
       "      <td>药敏-肺炎克雷伯菌</td>\n",
       "      <td>10</td>\n",
       "      <td>美洛培南</td>\n",
       "      <td>S   29</td>\n",
       "      <td>2011/2/8 7:47:45</td>\n",
       "    </tr>\n",
       "    <tr>\n",
       "      <th>390659</th>\n",
       "      <td>153737</td>\n",
       "      <td>S111347899</td>\n",
       "      <td>1.0</td>\n",
       "      <td>2011/2/8 7:47:45</td>\n",
       "      <td>痰</td>\n",
       "      <td>NaN</td>\n",
       "      <td>2011/2/5 1:13:00</td>\n",
       "      <td>2011/2/8 7:47:45</td>\n",
       "      <td>药敏-肺炎克雷伯菌</td>\n",
       "      <td>11</td>\n",
       "      <td>环丙沙星</td>\n",
       "      <td>S   21</td>\n",
       "      <td>2011/2/8 7:47:45</td>\n",
       "    </tr>\n",
       "    <tr>\n",
       "      <th>390660</th>\n",
       "      <td>153737</td>\n",
       "      <td>S111347899</td>\n",
       "      <td>1.0</td>\n",
       "      <td>2011/2/8 7:47:45</td>\n",
       "      <td>痰</td>\n",
       "      <td>NaN</td>\n",
       "      <td>2011/2/5 1:13:00</td>\n",
       "      <td>2011/2/8 7:47:45</td>\n",
       "      <td>药敏-肺炎克雷伯菌</td>\n",
       "      <td>12</td>\n",
       "      <td>头孢哌酮/舒巴坦</td>\n",
       "      <td>22</td>\n",
       "      <td>2011/2/8 7:47:45</td>\n",
       "    </tr>\n",
       "    <tr>\n",
       "      <th>390661</th>\n",
       "      <td>153737</td>\n",
       "      <td>S111347899</td>\n",
       "      <td>1.0</td>\n",
       "      <td>2011/2/8 7:47:45</td>\n",
       "      <td>痰</td>\n",
       "      <td>NaN</td>\n",
       "      <td>2011/2/5 1:13:00</td>\n",
       "      <td>2011/2/8 7:47:45</td>\n",
       "      <td>药敏-肺炎克雷伯菌</td>\n",
       "      <td>13</td>\n",
       "      <td>哌拉西林/他唑巴坦</td>\n",
       "      <td>S   23</td>\n",
       "      <td>2011/2/8 7:47:45</td>\n",
       "    </tr>\n",
       "    <tr>\n",
       "      <th>390662</th>\n",
       "      <td>153737</td>\n",
       "      <td>S111347899</td>\n",
       "      <td>1.0</td>\n",
       "      <td>2011/2/8 7:47:45</td>\n",
       "      <td>痰</td>\n",
       "      <td>NaN</td>\n",
       "      <td>2011/2/5 1:13:00</td>\n",
       "      <td>2011/2/8 7:47:45</td>\n",
       "      <td>药敏-肺炎克雷伯菌</td>\n",
       "      <td>14</td>\n",
       "      <td>复方新诺明</td>\n",
       "      <td>R   6</td>\n",
       "      <td>2011/2/8 7:47:45</td>\n",
       "    </tr>\n",
       "    <tr>\n",
       "      <th>390663</th>\n",
       "      <td>153737</td>\n",
       "      <td>S111347899</td>\n",
       "      <td>1.0</td>\n",
       "      <td>2011/2/8 7:47:45</td>\n",
       "      <td>痰</td>\n",
       "      <td>NaN</td>\n",
       "      <td>2011/2/5 1:13:00</td>\n",
       "      <td>2011/2/8 7:47:45</td>\n",
       "      <td>药敏-肺炎克雷伯菌</td>\n",
       "      <td>15</td>\n",
       "      <td>ESBL检测</td>\n",
       "      <td>+   +</td>\n",
       "      <td>2011/2/8 7:47:45</td>\n",
       "    </tr>\n",
       "  </tbody>\n",
       "</table>\n",
       "</div>"
      ],
      "text/plain": [
       "       TEST_NO  PATIENT_ID  VISIT_ID      EXECUTE_DATE SPECIMEN  \\\n",
       "390649  153737  S111347899       1.0  2011/2/8 7:47:45        痰   \n",
       "390650  153737  S111347899       1.0  2011/2/8 7:47:45        痰   \n",
       "390651  153737  S111347899       1.0  2011/2/8 7:47:45        痰   \n",
       "390652  153737  S111347899       1.0  2011/2/8 7:47:45        痰   \n",
       "390653  153737  S111347899       1.0  2011/2/8 7:47:45        痰   \n",
       "390654  153737  S111347899       1.0  2011/2/8 7:47:45        痰   \n",
       "390655  153737  S111347899       1.0  2011/2/8 7:47:45        痰   \n",
       "390656  153737  S111347899       1.0  2011/2/8 7:47:45        痰   \n",
       "390657  153737  S111347899       1.0  2011/2/8 7:47:45        痰   \n",
       "390658  153737  S111347899       1.0  2011/2/8 7:47:45        痰   \n",
       "390659  153737  S111347899       1.0  2011/2/8 7:47:45        痰   \n",
       "390660  153737  S111347899       1.0  2011/2/8 7:47:45        痰   \n",
       "390661  153737  S111347899       1.0  2011/2/8 7:47:45        痰   \n",
       "390662  153737  S111347899       1.0  2011/2/8 7:47:45        痰   \n",
       "390663  153737  S111347899       1.0  2011/2/8 7:47:45        痰   \n",
       "\n",
       "       SPCM_SAMPLE_DATE_TIME REQUESTED_DATE_TIME RESULTS_RPT_DATE_TIME  \\\n",
       "390649                   NaN    2011/2/5 1:13:00      2011/2/8 7:47:45   \n",
       "390650                   NaN    2011/2/5 1:13:00      2011/2/8 7:47:45   \n",
       "390651                   NaN    2011/2/5 1:13:00      2011/2/8 7:47:45   \n",
       "390652                   NaN    2011/2/5 1:13:00      2011/2/8 7:47:45   \n",
       "390653                   NaN    2011/2/5 1:13:00      2011/2/8 7:47:45   \n",
       "390654                   NaN    2011/2/5 1:13:00      2011/2/8 7:47:45   \n",
       "390655                   NaN    2011/2/5 1:13:00      2011/2/8 7:47:45   \n",
       "390656                   NaN    2011/2/5 1:13:00      2011/2/8 7:47:45   \n",
       "390657                   NaN    2011/2/5 1:13:00      2011/2/8 7:47:45   \n",
       "390658                   NaN    2011/2/5 1:13:00      2011/2/8 7:47:45   \n",
       "390659                   NaN    2011/2/5 1:13:00      2011/2/8 7:47:45   \n",
       "390660                   NaN    2011/2/5 1:13:00      2011/2/8 7:47:45   \n",
       "390661                   NaN    2011/2/5 1:13:00      2011/2/8 7:47:45   \n",
       "390662                   NaN    2011/2/5 1:13:00      2011/2/8 7:47:45   \n",
       "390663                   NaN    2011/2/5 1:13:00      2011/2/8 7:47:45   \n",
       "\n",
       "          SUBJECT  ITEM_NO REPORT_ITEM_NAME  RESULT  RESULT_DATE_TIME  \n",
       "390649  药敏-肺炎克雷伯菌        1          阿莫西林/棒酸  I   19  2011/2/8 7:47:45  \n",
       "390650  药敏-肺炎克雷伯菌        2             阿米卡星  S   19  2011/2/8 7:47:45  \n",
       "390651  药敏-肺炎克雷伯菌        3         氨苄西林/舒巴坦  S   21  2011/2/8 7:47:45  \n",
       "390652  药敏-肺炎克雷伯菌        4             哌拉西林  R   12  2011/2/8 7:47:45  \n",
       "390653  药敏-肺炎克雷伯菌        5             头孢呋辛   R   6  2011/2/8 7:47:45  \n",
       "390654  药敏-肺炎克雷伯菌        6             头孢噻肟  R   15  2011/2/8 7:47:45  \n",
       "390655  药敏-肺炎克雷伯菌        7             亚胺培南  S   25  2011/2/8 7:47:45  \n",
       "390656  药敏-肺炎克雷伯菌        8             头孢他啶  S   26  2011/2/8 7:47:45  \n",
       "390657  药敏-肺炎克雷伯菌        9             头孢吡肟  S   22  2011/2/8 7:47:45  \n",
       "390658  药敏-肺炎克雷伯菌       10             美洛培南  S   29  2011/2/8 7:47:45  \n",
       "390659  药敏-肺炎克雷伯菌       11             环丙沙星  S   21  2011/2/8 7:47:45  \n",
       "390660  药敏-肺炎克雷伯菌       12         头孢哌酮/舒巴坦      22  2011/2/8 7:47:45  \n",
       "390661  药敏-肺炎克雷伯菌       13        哌拉西林/他唑巴坦  S   23  2011/2/8 7:47:45  \n",
       "390662  药敏-肺炎克雷伯菌       14            复方新诺明   R   6  2011/2/8 7:47:45  \n",
       "390663  药敏-肺炎克雷伯菌       15           ESBL检测   +   +  2011/2/8 7:47:45  "
      ]
     },
     "execution_count": 13,
     "metadata": {},
     "output_type": "execute_result"
    }
   ],
   "source": [
    "microevents[(microevents['PATIENT_ID'] == 'S111347899')&(microevents['SUBJECT'] == '药敏-肺炎克雷伯菌')]#.SUBJECT.value_counts()"
   ]
  },
  {
   "cell_type": "code",
   "execution_count": 14,
   "id": "755f5c94",
   "metadata": {
    "ExecuteTime": {
     "end_time": "2022-01-04T07:08:15.579583Z",
     "start_time": "2022-01-04T07:08:15.433581Z"
    },
    "execution": {
     "iopub.execute_input": "2023-12-29T01:47:09.449243Z",
     "iopub.status.busy": "2023-12-29T01:47:09.448656Z",
     "iopub.status.idle": "2023-12-29T01:47:09.540947Z",
     "shell.execute_reply": "2023-12-29T01:47:09.540378Z",
     "shell.execute_reply.started": "2023-12-29T01:47:09.449191Z"
    }
   },
   "outputs": [
    {
     "data": {
      "text/html": [
       "<div>\n",
       "<style scoped>\n",
       "    .dataframe tbody tr th:only-of-type {\n",
       "        vertical-align: middle;\n",
       "    }\n",
       "\n",
       "    .dataframe tbody tr th {\n",
       "        vertical-align: top;\n",
       "    }\n",
       "\n",
       "    .dataframe thead th {\n",
       "        text-align: right;\n",
       "    }\n",
       "</style>\n",
       "<table border=\"1\" class=\"dataframe\">\n",
       "  <thead>\n",
       "    <tr style=\"text-align: right;\">\n",
       "      <th></th>\n",
       "      <th>TEST_NO</th>\n",
       "      <th>PATIENT_ID</th>\n",
       "      <th>VISIT_ID</th>\n",
       "      <th>EXECUTE_DATE</th>\n",
       "      <th>SPECIMEN</th>\n",
       "      <th>SPCM_SAMPLE_DATE_TIME</th>\n",
       "      <th>REQUESTED_DATE_TIME</th>\n",
       "      <th>RESULTS_RPT_DATE_TIME</th>\n",
       "      <th>SUBJECT</th>\n",
       "      <th>ITEM_NO</th>\n",
       "      <th>REPORT_ITEM_NAME</th>\n",
       "      <th>RESULT</th>\n",
       "      <th>RESULT_DATE_TIME</th>\n",
       "    </tr>\n",
       "  </thead>\n",
       "  <tbody>\n",
       "    <tr>\n",
       "      <th>82241</th>\n",
       "      <td>1113250740</td>\n",
       "      <td>S111347899</td>\n",
       "      <td>1.0</td>\n",
       "      <td>2011/1/30 9:08:48</td>\n",
       "      <td>痰</td>\n",
       "      <td>NaN</td>\n",
       "      <td>2011/1/25 15:27:00</td>\n",
       "      <td>2011/1/30 9:08:48</td>\n",
       "      <td>普通细菌培养+鉴定+药敏等</td>\n",
       "      <td>2</td>\n",
       "      <td>普通细菌培养+鉴定+药敏</td>\n",
       "      <td>肺炎克雷伯菌</td>\n",
       "      <td>2011/1/28 10:38:14</td>\n",
       "    </tr>\n",
       "    <tr>\n",
       "      <th>83196</th>\n",
       "      <td>1114054432</td>\n",
       "      <td>S111347899</td>\n",
       "      <td>1.0</td>\n",
       "      <td>2011/2/11 9:00:34</td>\n",
       "      <td>痰</td>\n",
       "      <td>NaN</td>\n",
       "      <td>2011/2/5 1:13:00</td>\n",
       "      <td>2011/2/11 9:00:34</td>\n",
       "      <td>普通细菌培养+鉴定+药敏等</td>\n",
       "      <td>2</td>\n",
       "      <td>普通细菌培养+鉴定+药敏</td>\n",
       "      <td>肺炎克雷伯菌</td>\n",
       "      <td>2011/2/8 7:47:45</td>\n",
       "    </tr>\n",
       "    <tr>\n",
       "      <th>83664</th>\n",
       "      <td>1114140183</td>\n",
       "      <td>S111347899</td>\n",
       "      <td>1.0</td>\n",
       "      <td>2011/2/20 9:27:12</td>\n",
       "      <td>痰</td>\n",
       "      <td>NaN</td>\n",
       "      <td>2011/2/14 11:50:00</td>\n",
       "      <td>2011/2/20 9:27:12</td>\n",
       "      <td>普通细菌培养+鉴定+药敏等</td>\n",
       "      <td>2</td>\n",
       "      <td>普通细菌培养+鉴定+药敏</td>\n",
       "      <td>肺炎克雷伯菌</td>\n",
       "      <td>2011/2/18 10:57:18</td>\n",
       "    </tr>\n",
       "  </tbody>\n",
       "</table>\n",
       "</div>"
      ],
      "text/plain": [
       "          TEST_NO  PATIENT_ID  VISIT_ID       EXECUTE_DATE SPECIMEN  \\\n",
       "82241  1113250740  S111347899       1.0  2011/1/30 9:08:48        痰   \n",
       "83196  1114054432  S111347899       1.0  2011/2/11 9:00:34        痰   \n",
       "83664  1114140183  S111347899       1.0  2011/2/20 9:27:12        痰   \n",
       "\n",
       "      SPCM_SAMPLE_DATE_TIME REQUESTED_DATE_TIME RESULTS_RPT_DATE_TIME  \\\n",
       "82241                   NaN  2011/1/25 15:27:00     2011/1/30 9:08:48   \n",
       "83196                   NaN    2011/2/5 1:13:00     2011/2/11 9:00:34   \n",
       "83664                   NaN  2011/2/14 11:50:00     2011/2/20 9:27:12   \n",
       "\n",
       "             SUBJECT  ITEM_NO REPORT_ITEM_NAME  RESULT    RESULT_DATE_TIME  \n",
       "82241  普通细菌培养+鉴定+药敏等        2     普通细菌培养+鉴定+药敏  肺炎克雷伯菌  2011/1/28 10:38:14  \n",
       "83196  普通细菌培养+鉴定+药敏等        2     普通细菌培养+鉴定+药敏  肺炎克雷伯菌    2011/2/8 7:47:45  \n",
       "83664  普通细菌培养+鉴定+药敏等        2     普通细菌培养+鉴定+药敏  肺炎克雷伯菌  2011/2/18 10:57:18  "
      ]
     },
     "execution_count": 14,
     "metadata": {},
     "output_type": "execute_result"
    }
   ],
   "source": [
    "microevents[(microevents['PATIENT_ID'] == 'S111347899')&(microevents['RESULT'] == '肺炎克雷伯菌')]#.RESULT.value_counts()"
   ]
  },
  {
   "cell_type": "code",
   "execution_count": 15,
   "id": "29556807",
   "metadata": {
    "ExecuteTime": {
     "end_time": "2021-11-29T03:19:02.412768Z",
     "start_time": "2021-11-29T03:13:55.904741Z"
    },
    "execution": {
     "iopub.execute_input": "2023-12-29T01:47:16.758268Z",
     "iopub.status.busy": "2023-12-29T01:47:16.757707Z",
     "iopub.status.idle": "2023-12-29T01:49:52.841246Z",
     "shell.execute_reply": "2023-12-29T01:49:52.839631Z",
     "shell.execute_reply.started": "2023-12-29T01:47:16.758217Z"
    }
   },
   "outputs": [],
   "source": [
    "for i in ['EXECUTE_DATE','SPCM_SAMPLE_DATE_TIME','REQUESTED_DATE_TIME','RESULTS_RPT_DATE_TIME','RESULT_DATE_TIME']:\n",
    "    microevents[i] = microevents[i].apply(trans_time)"
   ]
  },
  {
   "cell_type": "code",
   "execution_count": 13,
   "id": "65458057",
   "metadata": {
    "ExecuteTime": {
     "end_time": "2021-11-29T03:19:02.428763Z",
     "start_time": "2021-11-29T03:19:02.415765Z"
    }
   },
   "outputs": [],
   "source": [
    "#microevents[microevents['PATIENT_ID'] == 'S110783085'].to_csv('test.csv',encoding = 'ANSI')"
   ]
  },
  {
   "cell_type": "code",
   "execution_count": 16,
   "id": "328de0f7",
   "metadata": {
    "ExecuteTime": {
     "end_time": "2021-11-29T03:21:50.207147Z",
     "start_time": "2021-11-29T03:21:49.617143Z"
    },
    "execution": {
     "iopub.execute_input": "2023-12-29T01:49:52.857608Z",
     "iopub.status.busy": "2023-12-29T01:49:52.857460Z",
     "iopub.status.idle": "2023-12-29T01:49:53.131156Z",
     "shell.execute_reply": "2023-12-29T01:49:53.129609Z",
     "shell.execute_reply.started": "2023-12-29T01:49:52.857594Z"
    }
   },
   "outputs": [],
   "source": [
    "culture = microevents[microevents.REPORT_ITEM_NAME.str.contains('培养',na=False)]"
   ]
  },
  {
   "cell_type": "code",
   "execution_count": 17,
   "id": "e447c9b1",
   "metadata": {
    "ExecuteTime": {
     "end_time": "2021-11-29T03:21:52.401758Z",
     "start_time": "2021-11-29T03:21:51.727752Z"
    },
    "execution": {
     "iopub.execute_input": "2023-12-29T01:49:53.132729Z",
     "iopub.status.busy": "2023-12-29T01:49:53.132551Z",
     "iopub.status.idle": "2023-12-29T01:49:53.466088Z",
     "shell.execute_reply": "2023-12-29T01:49:53.464712Z",
     "shell.execute_reply.started": "2023-12-29T01:49:53.132713Z"
    }
   },
   "outputs": [],
   "source": [
    "ab_test = microevents[microevents['SUBJECT'].str.contains('^药敏')]"
   ]
  },
  {
   "cell_type": "code",
   "execution_count": 18,
   "id": "ff3521bc",
   "metadata": {
    "ExecuteTime": {
     "end_time": "2021-11-29T03:21:58.949810Z",
     "start_time": "2021-11-29T03:21:57.567805Z"
    },
    "execution": {
     "iopub.execute_input": "2023-12-29T01:55:46.106788Z",
     "iopub.status.busy": "2023-12-29T01:55:46.106145Z",
     "iopub.status.idle": "2023-12-29T01:55:47.061871Z",
     "shell.execute_reply": "2023-12-29T01:55:47.060269Z",
     "shell.execute_reply.started": "2023-12-29T01:55:46.106731Z"
    }
   },
   "outputs": [],
   "source": [
    "icustay_detail = pd.read_csv('../Local_hosp_data/icustay_detail.csv',encoding = 'gb18030')"
   ]
  },
  {
   "cell_type": "code",
   "execution_count": 19,
   "id": "a4871497",
   "metadata": {
    "ExecuteTime": {
     "end_time": "2021-11-29T03:22:59.137788Z",
     "start_time": "2021-11-29T03:22:02.689788Z"
    },
    "execution": {
     "iopub.execute_input": "2023-12-29T01:55:50.179498Z",
     "iopub.status.busy": "2023-12-29T01:55:50.178961Z",
     "iopub.status.idle": "2023-12-29T01:56:18.886491Z",
     "shell.execute_reply": "2023-12-29T01:56:18.885180Z",
     "shell.execute_reply.started": "2023-12-29T01:55:50.179447Z"
    }
   },
   "outputs": [],
   "source": [
    "for i in ['ADMISSION_DATE_TIME','DISCHARGE_DATE_TIME','TF_ADMISSION_DATE_TIME', 'TF_DISCHARGE_DATE_TIME']:\n",
    "    icustay_detail[i] = icustay_detail[i].apply(trans_time)"
   ]
  },
  {
   "cell_type": "code",
   "execution_count": 20,
   "id": "ab9fc3d4",
   "metadata": {
    "ExecuteTime": {
     "end_time": "2021-11-29T03:24:02.372899Z",
     "start_time": "2021-11-29T03:23:57.953899Z"
    },
    "execution": {
     "iopub.execute_input": "2023-12-29T01:56:18.900977Z",
     "iopub.status.busy": "2023-12-29T01:56:18.900830Z",
     "iopub.status.idle": "2023-12-29T01:56:20.837575Z",
     "shell.execute_reply": "2023-12-29T01:56:20.836254Z",
     "shell.execute_reply.started": "2023-12-29T01:56:18.900963Z"
    }
   },
   "outputs": [
    {
     "data": {
      "text/plain": [
       "(27,)"
      ]
     },
     "execution_count": 20,
     "metadata": {},
     "output_type": "execute_result"
    }
   ],
   "source": [
    "ab_test_merge = pd.merge(ab_test, icustay_detail, how = 'left', on = ['PATIENT_ID'])\n",
    "test = ab_test_merge[((ab_test_merge['REQUESTED_DATE_TIME'] - ab_test_merge['TF_ADMISSION_DATE_TIME']).dt.total_seconds()/3600>=-24)&\\\n",
    "         ((ab_test_merge['REQUESTED_DATE_TIME'] - ab_test_merge['TF_DISCHARGE_DATE_TIME']).dt.total_seconds()/(3600*24)<=0)]\n",
    "test[(test['ICU_TYPE'] == 'ICU') &\\\n",
    "     (test['SUBJECT'].str.contains('肺炎'))&\\\n",
    "     #(test['ab_allna']==0)&\\\n",
    "    (test['REQUESTED_DATE_TIME'].dt.year==2014)&\\\n",
    "    (test['REPORT_ITEM_NAME']=='哌拉西林')].TEST_NO.drop_duplicates().sort_values(ascending = False).shape"
   ]
  },
  {
   "cell_type": "code",
   "execution_count": 21,
   "id": "ab252ec6",
   "metadata": {
    "ExecuteTime": {
     "end_time": "2021-10-16T17:11:55.404956Z",
     "start_time": "2021-10-16T17:11:55.391014Z"
    },
    "execution": {
     "iopub.execute_input": "2023-12-29T01:56:20.839646Z",
     "iopub.status.busy": "2023-12-29T01:56:20.839311Z",
     "iopub.status.idle": "2023-12-29T01:56:20.843383Z",
     "shell.execute_reply": "2023-12-29T01:56:20.842894Z",
     "shell.execute_reply.started": "2023-12-29T01:56:20.839627Z"
    }
   },
   "outputs": [],
   "source": [
    "culture.rename(columns = {'RESULT':'micro_name'}, inplace= True)"
   ]
  },
  {
   "cell_type": "code",
   "execution_count": 22,
   "id": "bfa32430",
   "metadata": {
    "ExecuteTime": {
     "end_time": "2021-10-16T14:49:47.609451Z",
     "start_time": "2021-10-16T14:49:47.590534Z"
    },
    "execution": {
     "iopub.execute_input": "2023-12-29T01:56:20.844277Z",
     "iopub.status.busy": "2023-12-29T01:56:20.844127Z",
     "iopub.status.idle": "2023-12-29T01:56:20.855194Z",
     "shell.execute_reply": "2023-12-29T01:56:20.854642Z",
     "shell.execute_reply.started": "2023-12-29T01:56:20.844263Z"
    }
   },
   "outputs": [
    {
     "data": {
      "text/html": [
       "<div>\n",
       "<style scoped>\n",
       "    .dataframe tbody tr th:only-of-type {\n",
       "        vertical-align: middle;\n",
       "    }\n",
       "\n",
       "    .dataframe tbody tr th {\n",
       "        vertical-align: top;\n",
       "    }\n",
       "\n",
       "    .dataframe thead th {\n",
       "        text-align: right;\n",
       "    }\n",
       "</style>\n",
       "<table border=\"1\" class=\"dataframe\">\n",
       "  <thead>\n",
       "    <tr style=\"text-align: right;\">\n",
       "      <th></th>\n",
       "      <th>TEST_NO</th>\n",
       "      <th>PATIENT_ID</th>\n",
       "      <th>VISIT_ID</th>\n",
       "      <th>EXECUTE_DATE</th>\n",
       "      <th>SPECIMEN</th>\n",
       "      <th>SPCM_SAMPLE_DATE_TIME</th>\n",
       "      <th>REQUESTED_DATE_TIME</th>\n",
       "      <th>RESULTS_RPT_DATE_TIME</th>\n",
       "      <th>SUBJECT</th>\n",
       "      <th>ITEM_NO</th>\n",
       "      <th>REPORT_ITEM_NAME</th>\n",
       "      <th>micro_name</th>\n",
       "      <th>RESULT_DATE_TIME</th>\n",
       "    </tr>\n",
       "  </thead>\n",
       "  <tbody>\n",
       "    <tr>\n",
       "      <th>0</th>\n",
       "      <td>12000021</td>\n",
       "      <td>S110236895</td>\n",
       "      <td>1.0</td>\n",
       "      <td>2009-01-15 08:45:00</td>\n",
       "      <td>痰</td>\n",
       "      <td>2009-01-11 16:46:36</td>\n",
       "      <td>2009-01-10 19:14:00</td>\n",
       "      <td>2009-01-15 08:45:00</td>\n",
       "      <td>真菌培养+鉴定+药敏</td>\n",
       "      <td>1</td>\n",
       "      <td>真菌培养+鉴定+药敏</td>\n",
       "      <td>酵母菌</td>\n",
       "      <td>2009-01-15 08:45:00</td>\n",
       "    </tr>\n",
       "    <tr>\n",
       "      <th>1</th>\n",
       "      <td>12000034</td>\n",
       "      <td>S111326401</td>\n",
       "      <td>1.0</td>\n",
       "      <td>2008-11-27 09:04:00</td>\n",
       "      <td>痰</td>\n",
       "      <td>NaT</td>\n",
       "      <td>2008-11-21 18:14:00</td>\n",
       "      <td>2008-11-27 09:04:00</td>\n",
       "      <td>真菌培养+鉴定+药敏</td>\n",
       "      <td>1</td>\n",
       "      <td>真菌培养+鉴定+药敏</td>\n",
       "      <td>经鉴定无真菌生长</td>\n",
       "      <td>2008-11-27 09:04:00</td>\n",
       "    </tr>\n",
       "    <tr>\n",
       "      <th>2</th>\n",
       "      <td>12000234</td>\n",
       "      <td>S110676645</td>\n",
       "      <td>1.0</td>\n",
       "      <td>2008-12-04 09:18:00</td>\n",
       "      <td>痰</td>\n",
       "      <td>2008-12-02 00:35:30</td>\n",
       "      <td>2008-12-01 13:50:00</td>\n",
       "      <td>2008-12-04 09:18:00</td>\n",
       "      <td>细菌培养(门诊)</td>\n",
       "      <td>1</td>\n",
       "      <td>门诊细菌培养+药敏（仪器）</td>\n",
       "      <td>不动杆菌属</td>\n",
       "      <td>2008-12-04 09:18:00</td>\n",
       "    </tr>\n",
       "    <tr>\n",
       "      <th>3</th>\n",
       "      <td>12000234</td>\n",
       "      <td>S110676645</td>\n",
       "      <td>1.0</td>\n",
       "      <td>2008-12-04 09:18:00</td>\n",
       "      <td>痰</td>\n",
       "      <td>2008-12-02 00:35:30</td>\n",
       "      <td>2008-12-01 13:50:00</td>\n",
       "      <td>2008-12-04 09:18:00</td>\n",
       "      <td>细菌培养(门诊)</td>\n",
       "      <td>2</td>\n",
       "      <td>门诊细菌培养+药敏（仪器）</td>\n",
       "      <td>洋葱伯克霍尔德菌</td>\n",
       "      <td>2008-12-04 09:18:00</td>\n",
       "    </tr>\n",
       "    <tr>\n",
       "      <th>4</th>\n",
       "      <td>12000469</td>\n",
       "      <td>S110183479</td>\n",
       "      <td>1.0</td>\n",
       "      <td>2008-12-11 10:46:00</td>\n",
       "      <td>引流液</td>\n",
       "      <td>2008-12-05 14:16:36</td>\n",
       "      <td>2008-12-05 13:45:00</td>\n",
       "      <td>2008-12-11 10:46:00</td>\n",
       "      <td>体液培养(需氧菌)+鉴定+药敏</td>\n",
       "      <td>1</td>\n",
       "      <td>体液培养(需氧菌)+鉴定+药敏</td>\n",
       "      <td>普通培养未生长</td>\n",
       "      <td>2008-12-11 10:46:00</td>\n",
       "    </tr>\n",
       "  </tbody>\n",
       "</table>\n",
       "</div>"
      ],
      "text/plain": [
       "    TEST_NO  PATIENT_ID  VISIT_ID        EXECUTE_DATE SPECIMEN  \\\n",
       "0  12000021  S110236895       1.0 2009-01-15 08:45:00        痰   \n",
       "1  12000034  S111326401       1.0 2008-11-27 09:04:00        痰   \n",
       "2  12000234  S110676645       1.0 2008-12-04 09:18:00        痰   \n",
       "3  12000234  S110676645       1.0 2008-12-04 09:18:00        痰   \n",
       "4  12000469  S110183479       1.0 2008-12-11 10:46:00      引流液   \n",
       "\n",
       "  SPCM_SAMPLE_DATE_TIME REQUESTED_DATE_TIME RESULTS_RPT_DATE_TIME  \\\n",
       "0   2009-01-11 16:46:36 2009-01-10 19:14:00   2009-01-15 08:45:00   \n",
       "1                   NaT 2008-11-21 18:14:00   2008-11-27 09:04:00   \n",
       "2   2008-12-02 00:35:30 2008-12-01 13:50:00   2008-12-04 09:18:00   \n",
       "3   2008-12-02 00:35:30 2008-12-01 13:50:00   2008-12-04 09:18:00   \n",
       "4   2008-12-05 14:16:36 2008-12-05 13:45:00   2008-12-11 10:46:00   \n",
       "\n",
       "           SUBJECT  ITEM_NO REPORT_ITEM_NAME micro_name    RESULT_DATE_TIME  \n",
       "0       真菌培养+鉴定+药敏        1       真菌培养+鉴定+药敏        酵母菌 2009-01-15 08:45:00  \n",
       "1       真菌培养+鉴定+药敏        1       真菌培养+鉴定+药敏   经鉴定无真菌生长 2008-11-27 09:04:00  \n",
       "2         细菌培养(门诊)        1    门诊细菌培养+药敏（仪器）      不动杆菌属 2008-12-04 09:18:00  \n",
       "3         细菌培养(门诊)        2    门诊细菌培养+药敏（仪器）   洋葱伯克霍尔德菌 2008-12-04 09:18:00  \n",
       "4  体液培养(需氧菌)+鉴定+药敏        1  体液培养(需氧菌)+鉴定+药敏    普通培养未生长 2008-12-11 10:46:00  "
      ]
     },
     "execution_count": 22,
     "metadata": {},
     "output_type": "execute_result"
    }
   ],
   "source": [
    "culture.head()"
   ]
  },
  {
   "cell_type": "code",
   "execution_count": 23,
   "id": "34fe3bd0",
   "metadata": {
    "ExecuteTime": {
     "end_time": "2021-10-16T14:50:04.061872Z",
     "start_time": "2021-10-16T14:50:03.532145Z"
    },
    "execution": {
     "iopub.execute_input": "2023-12-29T01:56:20.856302Z",
     "iopub.status.busy": "2023-12-29T01:56:20.856153Z",
     "iopub.status.idle": "2023-12-29T01:56:21.085686Z",
     "shell.execute_reply": "2023-12-29T01:56:21.084122Z",
     "shell.execute_reply.started": "2023-12-29T01:56:20.856288Z"
    }
   },
   "outputs": [],
   "source": [
    "ab_test = ab_test[['PATIENT_ID', 'SPECIMEN',\n",
    "        'REQUESTED_DATE_TIME', 'RESULTS_RPT_DATE_TIME',\n",
    "       'SUBJECT',  'REPORT_ITEM_NAME', 'RESULT']]\n",
    "\n",
    "ab_test.rename(columns = {'REPORT_ITEM_NAME':'ab_name','RESULT':'ab_result'}, inplace= True)\n",
    "ab_test['micro_name'] = ab_test['SUBJECT'].apply(lambda x: x.split('-')[1] if len(x.split('-')) == 2 else None)\n",
    "ab_test.drop(columns = ['SUBJECT'], inplace= True)"
   ]
  },
  {
   "cell_type": "code",
   "execution_count": 24,
   "id": "cf718c5e",
   "metadata": {
    "ExecuteTime": {
     "end_time": "2021-10-16T14:50:11.464644Z",
     "start_time": "2021-10-16T14:50:08.805365Z"
    },
    "execution": {
     "iopub.execute_input": "2023-12-29T01:56:21.087512Z",
     "iopub.status.busy": "2023-12-29T01:56:21.087334Z",
     "iopub.status.idle": "2023-12-29T01:56:22.216101Z",
     "shell.execute_reply": "2023-12-29T01:56:22.214566Z",
     "shell.execute_reply.started": "2023-12-29T01:56:21.087497Z"
    }
   },
   "outputs": [],
   "source": [
    "ab_test['interpretation'] = ab_test['ab_result'].apply(lambda x: x.split(' ')[0] if len(x.split('  ')) == 2 else 'Not applicable')\n",
    "ab_test['dilution_text'] = ab_test['ab_result'].apply(lambda x: x.split(' ')[-1])\n",
    "def dilution(text):\n",
    "    if re.search('性',text):\n",
    "        return None\n",
    "    elif re.findall('\\d+\\.\\d+|\\d+',text):\n",
    "        return re.findall('\\d+\\.\\d+|\\d+',text)[-1]\n",
    "    else:\n",
    "        return None\n",
    "\n",
    "ab_test['dilution_value'] = ab_test['dilution_text'].apply(lambda x: dilution(x))\n",
    "ab_test['dilution_value'] = ab_test['dilution_value'].astype(float)"
   ]
  },
  {
   "cell_type": "code",
   "execution_count": 25,
   "id": "42c2029e",
   "metadata": {
    "ExecuteTime": {
     "end_time": "2021-10-16T14:50:14.129664Z",
     "start_time": "2021-10-16T14:50:14.084859Z"
    },
    "execution": {
     "iopub.execute_input": "2023-12-29T01:56:22.217414Z",
     "iopub.status.busy": "2023-12-29T01:56:22.217245Z",
     "iopub.status.idle": "2023-12-29T01:56:22.251398Z",
     "shell.execute_reply": "2023-12-29T01:56:22.249931Z",
     "shell.execute_reply.started": "2023-12-29T01:56:22.217399Z"
    }
   },
   "outputs": [],
   "source": [
    "ab_test['year'] = ab_test['REQUESTED_DATE_TIME'].dt.year"
   ]
  },
  {
   "cell_type": "code",
   "execution_count": 26,
   "id": "550eaa4f",
   "metadata": {
    "ExecuteTime": {
     "end_time": "2021-10-16T14:50:14.922879Z",
     "start_time": "2021-10-16T14:50:14.908939Z"
    },
    "execution": {
     "iopub.execute_input": "2023-12-29T01:56:22.252940Z",
     "iopub.status.busy": "2023-12-29T01:56:22.252785Z",
     "iopub.status.idle": "2023-12-29T01:56:22.256799Z",
     "shell.execute_reply": "2023-12-29T01:56:22.255491Z",
     "shell.execute_reply.started": "2023-12-29T01:56:22.252925Z"
    }
   },
   "outputs": [],
   "source": [
    "#ab_test.micro_name.value_counts().to_csv('micro_abtest.csv',encoding = 'ANSI')"
   ]
  },
  {
   "cell_type": "code",
   "execution_count": 29,
   "id": "280fe38d",
   "metadata": {
    "ExecuteTime": {
     "end_time": "2021-10-16T14:50:30.451892Z",
     "start_time": "2021-10-16T14:50:29.796582Z"
    },
    "execution": {
     "iopub.execute_input": "2023-12-29T01:59:21.053079Z",
     "iopub.status.busy": "2023-12-29T01:59:21.052437Z",
     "iopub.status.idle": "2023-12-29T01:59:21.080811Z",
     "shell.execute_reply": "2023-12-29T01:59:21.079223Z",
     "shell.execute_reply.started": "2023-12-29T01:59:21.053024Z"
    },
    "tags": []
   },
   "outputs": [],
   "source": [
    "micro_abtest_sel = pd.read_excel('../Local_hosp_data/micro_abtest.xlsx',sheet_name='Sheet1')"
   ]
  },
  {
   "cell_type": "code",
   "execution_count": 30,
   "id": "01b4d729",
   "metadata": {
    "ExecuteTime": {
     "end_time": "2021-10-16T14:50:31.083162Z",
     "start_time": "2021-10-16T14:50:30.852115Z"
    },
    "execution": {
     "iopub.execute_input": "2023-12-29T01:59:23.499124Z",
     "iopub.status.busy": "2023-12-29T01:59:23.497910Z",
     "iopub.status.idle": "2023-12-29T01:59:23.614652Z",
     "shell.execute_reply": "2023-12-29T01:59:23.613406Z",
     "shell.execute_reply.started": "2023-12-29T01:59:23.499068Z"
    },
    "tags": []
   },
   "outputs": [],
   "source": [
    "ab_test_mer = pd.merge(ab_test, micro_abtest_sel,how = 'left', on = 'micro_name')"
   ]
  },
  {
   "cell_type": "code",
   "execution_count": 31,
   "id": "6fe973f9",
   "metadata": {
    "ExecuteTime": {
     "end_time": "2021-10-16T14:56:14.394324Z",
     "start_time": "2021-10-16T14:56:14.259645Z"
    },
    "execution": {
     "iopub.execute_input": "2023-12-29T01:59:26.011870Z",
     "iopub.status.busy": "2023-12-29T01:59:26.011331Z",
     "iopub.status.idle": "2023-12-29T01:59:26.142565Z",
     "shell.execute_reply": "2023-12-29T01:59:26.140974Z",
     "shell.execute_reply.started": "2023-12-29T01:59:26.011820Z"
    },
    "tags": []
   },
   "outputs": [],
   "source": [
    "ab_test_sel = ab_test_mer[~pd.isna(ab_test_mer['org_category'])]"
   ]
  },
  {
   "cell_type": "code",
   "execution_count": 32,
   "id": "08f13465",
   "metadata": {
    "ExecuteTime": {
     "end_time": "2021-10-16T14:56:16.309939Z",
     "start_time": "2021-10-16T14:56:16.277084Z"
    },
    "execution": {
     "iopub.execute_input": "2023-12-29T01:59:27.466566Z",
     "iopub.status.busy": "2023-12-29T01:59:27.466018Z",
     "iopub.status.idle": "2023-12-29T01:59:27.488276Z",
     "shell.execute_reply": "2023-12-29T01:59:27.486740Z",
     "shell.execute_reply.started": "2023-12-29T01:59:27.466515Z"
    },
    "tags": []
   },
   "outputs": [
    {
     "data": {
      "text/plain": [
       "Enterobacteriaceae        138299\n",
       "Acinetobacter spp.        107311\n",
       "Pseudomonas aeruginosa     71209\n",
       "Enterococcus spp.          29239\n",
       "Staphylococcus aureus      17463\n",
       "Name: org_category, dtype: int64"
      ]
     },
     "execution_count": 32,
     "metadata": {},
     "output_type": "execute_result"
    }
   ],
   "source": [
    "ab_test_sel.org_category.value_counts()"
   ]
  },
  {
   "cell_type": "code",
   "execution_count": 33,
   "id": "cd2538fe",
   "metadata": {
    "ExecuteTime": {
     "end_time": "2021-10-16T14:56:18.547403Z",
     "start_time": "2021-10-16T14:56:18.532467Z"
    },
    "execution": {
     "iopub.execute_input": "2023-12-29T01:59:31.280080Z",
     "iopub.status.busy": "2023-12-29T01:59:31.279516Z",
     "iopub.status.idle": "2023-12-29T01:59:31.291637Z",
     "shell.execute_reply": "2023-12-29T01:59:31.290369Z",
     "shell.execute_reply.started": "2023-12-29T01:59:31.280029Z"
    }
   },
   "outputs": [],
   "source": [
    "Pseudomonas_aeruginosa_ab = ['环丙沙星','亚胺培南','头孢吡肟', '美洛培南', '头孢他啶', '阿米卡星', '左旋氧氟沙星',\n",
    " '哌拉西林/他唑巴坦', '氨曲南', '庆大霉素', '妥布霉素']\n",
    "\n",
    "Enterobacteriaceae_ab = ['环丙沙星', '复方新诺明', '头孢吡肟', '阿米卡星', '头孢他啶', '亚胺培南', '哌拉西林/他唑巴坦',\n",
    "                         '厄它培南', '氨苄西林/舒巴坦', '庆大霉素', '氨曲南','头孢曲松', '氨苄西林', '妥布霉素', '头孢替坦', \n",
    "                         '美洛培南','阿莫西林/棒酸', '头孢呋辛', '四环素', '替加环素', '头孢呋辛酯',  '米诺环素'    \n",
    "]\n",
    "\n",
    "Acinetobacter_spp_ab = ['环丙沙星', '复方新诺明', '亚胺培南', '头孢吡肟', '头孢他啶',\n",
    " '氨苄西林/舒巴坦', '左旋氧氟沙星', '庆大霉素', '头孢曲松', '哌拉西林/他唑巴坦', '阿米卡星', '美洛培南',\n",
    " '四环素', '米诺环素']\n",
    "\n",
    "Staphylococcus_aureus_ab = ['复方新诺明', '万古霉素', '利福平', '克林霉素', '红霉素', '庆大霉素', '环丙沙星',\n",
    " '四环素', '利奈唑烷', '喹努普汀/达福普汀', '莫西沙星','苯唑西林', '替加环素','头孢呋辛', '力奈唑烷','头孢唑啉', '磷霉素',\n",
    "'青霉素',  '头孢西丁', '青霉素G', '苯唑青霉素','氨苄西林/舒巴坦', '厄它培南', '头孢吡肟', '哌拉西林', '头孢他啶', \n",
    "'亚胺培南', '美洛培南']\n",
    "\n",
    "Enterococcus_spp_ab = ['环丙沙星','万古霉素', '氨苄西林','利奈唑烷', '喹努普汀/达福普汀',\n",
    " '左旋氧氟沙星', '莫西沙星', '替加环素', '高水平链霉素', '高水平庆大霉素', '力奈唑烷',\n",
    " '替考拉宁','亚胺培南','美洛培南']"
   ]
  },
  {
   "cell_type": "code",
   "execution_count": 34,
   "id": "12bde91b",
   "metadata": {
    "ExecuteTime": {
     "end_time": "2021-10-16T14:56:22.467730Z",
     "start_time": "2021-10-16T14:56:22.461754Z"
    },
    "execution": {
     "iopub.execute_input": "2023-12-29T01:59:34.652161Z",
     "iopub.status.busy": "2023-12-29T01:59:34.651625Z",
     "iopub.status.idle": "2023-12-29T01:59:34.662196Z",
     "shell.execute_reply": "2023-12-29T01:59:34.660607Z",
     "shell.execute_reply.started": "2023-12-29T01:59:34.652110Z"
    }
   },
   "outputs": [],
   "source": [
    "def ab_sel(cat,ab_name):\n",
    "    if cat == 'Enterobacteriaceae' and ab_name in Enterobacteriaceae_ab:\n",
    "        return 1\n",
    "    elif cat == 'Acinetobacter spp.' and ab_name in Acinetobacter_spp_ab:\n",
    "        return 1\n",
    "    elif cat == 'Pseudomonas aeruginosa' and ab_name in Pseudomonas_aeruginosa_ab:\n",
    "        return 1    \n",
    "    elif cat == 'Enterococcus spp.' and ab_name in Enterococcus_spp_ab:\n",
    "        return 1\n",
    "    elif cat == 'Staphylococcus aureus' and ab_name in Staphylococcus_aureus_ab:\n",
    "        return 1 \n",
    "    else:\n",
    "        return 0"
   ]
  },
  {
   "cell_type": "code",
   "execution_count": 35,
   "id": "4022b571",
   "metadata": {
    "ExecuteTime": {
     "end_time": "2021-10-16T14:56:28.123341Z",
     "start_time": "2021-10-16T14:56:23.550431Z"
    },
    "execution": {
     "iopub.execute_input": "2023-12-29T01:59:36.092818Z",
     "iopub.status.busy": "2023-12-29T01:59:36.091544Z",
     "iopub.status.idle": "2023-12-29T01:59:37.619155Z",
     "shell.execute_reply": "2023-12-29T01:59:37.617695Z",
     "shell.execute_reply.started": "2023-12-29T01:59:36.092762Z"
    }
   },
   "outputs": [],
   "source": [
    "ab_test_sel['ab_Sel'] = ab_test_sel[['org_category','ab_name']].apply(lambda x: ab_sel(x[0],x[1]),axis= 1)"
   ]
  },
  {
   "cell_type": "code",
   "execution_count": 36,
   "id": "fa46be64",
   "metadata": {
    "ExecuteTime": {
     "end_time": "2021-10-16T15:38:36.161974Z",
     "start_time": "2021-10-16T15:38:36.129117Z"
    },
    "execution": {
     "iopub.execute_input": "2023-12-29T02:00:55.930393Z",
     "iopub.status.busy": "2023-12-29T02:00:55.929768Z",
     "iopub.status.idle": "2023-12-29T02:00:55.950345Z",
     "shell.execute_reply": "2023-12-29T02:00:55.949208Z",
     "shell.execute_reply.started": "2023-12-29T02:00:55.930339Z"
    }
   },
   "outputs": [
    {
     "data": {
      "text/html": [
       "<div>\n",
       "<style scoped>\n",
       "    .dataframe tbody tr th:only-of-type {\n",
       "        vertical-align: middle;\n",
       "    }\n",
       "\n",
       "    .dataframe tbody tr th {\n",
       "        vertical-align: top;\n",
       "    }\n",
       "\n",
       "    .dataframe thead th {\n",
       "        text-align: right;\n",
       "    }\n",
       "</style>\n",
       "<table border=\"1\" class=\"dataframe\">\n",
       "  <thead>\n",
       "    <tr style=\"text-align: right;\">\n",
       "      <th></th>\n",
       "      <th>PATIENT_ID</th>\n",
       "      <th>SPECIMEN</th>\n",
       "      <th>REQUESTED_DATE_TIME</th>\n",
       "      <th>RESULTS_RPT_DATE_TIME</th>\n",
       "      <th>ab_name</th>\n",
       "      <th>ab_result</th>\n",
       "      <th>micro_name</th>\n",
       "      <th>interpretation</th>\n",
       "      <th>dilution_text</th>\n",
       "      <th>dilution_value</th>\n",
       "      <th>year</th>\n",
       "      <th>org_category</th>\n",
       "      <th>ab_Sel</th>\n",
       "    </tr>\n",
       "  </thead>\n",
       "  <tbody>\n",
       "    <tr>\n",
       "      <th>0</th>\n",
       "      <td>S110889698</td>\n",
       "      <td>痰</td>\n",
       "      <td>2010-04-14 14:53:00</td>\n",
       "      <td>2010-04-17 06:49:15</td>\n",
       "      <td>阿米卡星</td>\n",
       "      <td>S   18</td>\n",
       "      <td>铜绿假单胞菌</td>\n",
       "      <td>S</td>\n",
       "      <td>18</td>\n",
       "      <td>18.0</td>\n",
       "      <td>2010</td>\n",
       "      <td>Pseudomonas aeruginosa</td>\n",
       "      <td>1</td>\n",
       "    </tr>\n",
       "    <tr>\n",
       "      <th>1</th>\n",
       "      <td>S110889698</td>\n",
       "      <td>痰</td>\n",
       "      <td>2010-04-14 14:53:00</td>\n",
       "      <td>2010-04-17 06:49:15</td>\n",
       "      <td>哌拉西林</td>\n",
       "      <td>S   27</td>\n",
       "      <td>铜绿假单胞菌</td>\n",
       "      <td>S</td>\n",
       "      <td>27</td>\n",
       "      <td>27.0</td>\n",
       "      <td>2010</td>\n",
       "      <td>Pseudomonas aeruginosa</td>\n",
       "      <td>0</td>\n",
       "    </tr>\n",
       "    <tr>\n",
       "      <th>2</th>\n",
       "      <td>S110889698</td>\n",
       "      <td>痰</td>\n",
       "      <td>2010-04-14 14:53:00</td>\n",
       "      <td>2010-04-17 06:49:15</td>\n",
       "      <td>头孢他啶</td>\n",
       "      <td>S   25</td>\n",
       "      <td>铜绿假单胞菌</td>\n",
       "      <td>S</td>\n",
       "      <td>25</td>\n",
       "      <td>25.0</td>\n",
       "      <td>2010</td>\n",
       "      <td>Pseudomonas aeruginosa</td>\n",
       "      <td>1</td>\n",
       "    </tr>\n",
       "    <tr>\n",
       "      <th>3</th>\n",
       "      <td>S110889698</td>\n",
       "      <td>痰</td>\n",
       "      <td>2010-04-14 14:53:00</td>\n",
       "      <td>2010-04-17 06:49:15</td>\n",
       "      <td>头孢哌酮</td>\n",
       "      <td>S   25</td>\n",
       "      <td>铜绿假单胞菌</td>\n",
       "      <td>S</td>\n",
       "      <td>25</td>\n",
       "      <td>25.0</td>\n",
       "      <td>2010</td>\n",
       "      <td>Pseudomonas aeruginosa</td>\n",
       "      <td>0</td>\n",
       "    </tr>\n",
       "    <tr>\n",
       "      <th>4</th>\n",
       "      <td>S110889698</td>\n",
       "      <td>痰</td>\n",
       "      <td>2010-04-14 14:53:00</td>\n",
       "      <td>2010-04-17 06:49:15</td>\n",
       "      <td>头孢吡肟</td>\n",
       "      <td>S   21</td>\n",
       "      <td>铜绿假单胞菌</td>\n",
       "      <td>S</td>\n",
       "      <td>21</td>\n",
       "      <td>21.0</td>\n",
       "      <td>2010</td>\n",
       "      <td>Pseudomonas aeruginosa</td>\n",
       "      <td>1</td>\n",
       "    </tr>\n",
       "    <tr>\n",
       "      <th>...</th>\n",
       "      <td>...</td>\n",
       "      <td>...</td>\n",
       "      <td>...</td>\n",
       "      <td>...</td>\n",
       "      <td>...</td>\n",
       "      <td>...</td>\n",
       "      <td>...</td>\n",
       "      <td>...</td>\n",
       "      <td>...</td>\n",
       "      <td>...</td>\n",
       "      <td>...</td>\n",
       "      <td>...</td>\n",
       "      <td>...</td>\n",
       "    </tr>\n",
       "    <tr>\n",
       "      <th>467457</th>\n",
       "      <td>S113598464</td>\n",
       "      <td>痰</td>\n",
       "      <td>2014-03-08 18:17:40</td>\n",
       "      <td>2014-03-11 01:43:43</td>\n",
       "      <td>环丙沙星</td>\n",
       "      <td>R  &gt;=4</td>\n",
       "      <td>鲍曼不动杆菌</td>\n",
       "      <td>R</td>\n",
       "      <td>&gt;=4</td>\n",
       "      <td>4.0</td>\n",
       "      <td>2014</td>\n",
       "      <td>Acinetobacter spp.</td>\n",
       "      <td>1</td>\n",
       "    </tr>\n",
       "    <tr>\n",
       "      <th>467458</th>\n",
       "      <td>S113598464</td>\n",
       "      <td>痰</td>\n",
       "      <td>2014-03-08 18:17:40</td>\n",
       "      <td>2014-03-11 01:43:43</td>\n",
       "      <td>左旋氧氟沙星</td>\n",
       "      <td>R  &gt;=8</td>\n",
       "      <td>鲍曼不动杆菌</td>\n",
       "      <td>R</td>\n",
       "      <td>&gt;=8</td>\n",
       "      <td>8.0</td>\n",
       "      <td>2014</td>\n",
       "      <td>Acinetobacter spp.</td>\n",
       "      <td>1</td>\n",
       "    </tr>\n",
       "    <tr>\n",
       "      <th>467459</th>\n",
       "      <td>S113598464</td>\n",
       "      <td>痰</td>\n",
       "      <td>2014-03-08 18:17:40</td>\n",
       "      <td>2014-03-11 01:43:43</td>\n",
       "      <td>四环素</td>\n",
       "      <td>R  &gt;=16</td>\n",
       "      <td>鲍曼不动杆菌</td>\n",
       "      <td>R</td>\n",
       "      <td>&gt;=16</td>\n",
       "      <td>16.0</td>\n",
       "      <td>2014</td>\n",
       "      <td>Acinetobacter spp.</td>\n",
       "      <td>1</td>\n",
       "    </tr>\n",
       "    <tr>\n",
       "      <th>467460</th>\n",
       "      <td>S113598464</td>\n",
       "      <td>痰</td>\n",
       "      <td>2014-03-08 18:17:40</td>\n",
       "      <td>2014-03-11 01:43:43</td>\n",
       "      <td>呋喃妥因</td>\n",
       "      <td>&gt;=512</td>\n",
       "      <td>鲍曼不动杆菌</td>\n",
       "      <td></td>\n",
       "      <td>&gt;=512</td>\n",
       "      <td>512.0</td>\n",
       "      <td>2014</td>\n",
       "      <td>Acinetobacter spp.</td>\n",
       "      <td>0</td>\n",
       "    </tr>\n",
       "    <tr>\n",
       "      <th>467461</th>\n",
       "      <td>S113598464</td>\n",
       "      <td>痰</td>\n",
       "      <td>2014-03-08 18:17:40</td>\n",
       "      <td>2014-03-11 01:43:43</td>\n",
       "      <td>复方新诺明</td>\n",
       "      <td>R  &gt;=320</td>\n",
       "      <td>鲍曼不动杆菌</td>\n",
       "      <td>R</td>\n",
       "      <td>&gt;=320</td>\n",
       "      <td>320.0</td>\n",
       "      <td>2014</td>\n",
       "      <td>Acinetobacter spp.</td>\n",
       "      <td>1</td>\n",
       "    </tr>\n",
       "  </tbody>\n",
       "</table>\n",
       "<p>363521 rows × 13 columns</p>\n",
       "</div>"
      ],
      "text/plain": [
       "        PATIENT_ID SPECIMEN REQUESTED_DATE_TIME RESULTS_RPT_DATE_TIME ab_name  \\\n",
       "0       S110889698        痰 2010-04-14 14:53:00   2010-04-17 06:49:15    阿米卡星   \n",
       "1       S110889698        痰 2010-04-14 14:53:00   2010-04-17 06:49:15    哌拉西林   \n",
       "2       S110889698        痰 2010-04-14 14:53:00   2010-04-17 06:49:15    头孢他啶   \n",
       "3       S110889698        痰 2010-04-14 14:53:00   2010-04-17 06:49:15    头孢哌酮   \n",
       "4       S110889698        痰 2010-04-14 14:53:00   2010-04-17 06:49:15    头孢吡肟   \n",
       "...            ...      ...                 ...                   ...     ...   \n",
       "467457  S113598464        痰 2014-03-08 18:17:40   2014-03-11 01:43:43    环丙沙星   \n",
       "467458  S113598464        痰 2014-03-08 18:17:40   2014-03-11 01:43:43  左旋氧氟沙星   \n",
       "467459  S113598464        痰 2014-03-08 18:17:40   2014-03-11 01:43:43     四环素   \n",
       "467460  S113598464        痰 2014-03-08 18:17:40   2014-03-11 01:43:43    呋喃妥因   \n",
       "467461  S113598464        痰 2014-03-08 18:17:40   2014-03-11 01:43:43   复方新诺明   \n",
       "\n",
       "       ab_result micro_name interpretation dilution_text  dilution_value  \\\n",
       "0         S   18     铜绿假单胞菌              S            18            18.0   \n",
       "1         S   27     铜绿假单胞菌              S            27            27.0   \n",
       "2         S   25     铜绿假单胞菌              S            25            25.0   \n",
       "3         S   25     铜绿假单胞菌              S            25            25.0   \n",
       "4         S   21     铜绿假单胞菌              S            21            21.0   \n",
       "...          ...        ...            ...           ...             ...   \n",
       "467457    R  >=4     鲍曼不动杆菌              R           >=4             4.0   \n",
       "467458    R  >=8     鲍曼不动杆菌              R           >=8             8.0   \n",
       "467459   R  >=16     鲍曼不动杆菌              R          >=16            16.0   \n",
       "467460     >=512     鲍曼不动杆菌                        >=512           512.0   \n",
       "467461  R  >=320     鲍曼不动杆菌              R         >=320           320.0   \n",
       "\n",
       "        year            org_category  ab_Sel  \n",
       "0       2010  Pseudomonas aeruginosa       1  \n",
       "1       2010  Pseudomonas aeruginosa       0  \n",
       "2       2010  Pseudomonas aeruginosa       1  \n",
       "3       2010  Pseudomonas aeruginosa       0  \n",
       "4       2010  Pseudomonas aeruginosa       1  \n",
       "...      ...                     ...     ...  \n",
       "467457  2014      Acinetobacter spp.       1  \n",
       "467458  2014      Acinetobacter spp.       1  \n",
       "467459  2014      Acinetobacter spp.       1  \n",
       "467460  2014      Acinetobacter spp.       0  \n",
       "467461  2014      Acinetobacter spp.       1  \n",
       "\n",
       "[363521 rows x 13 columns]"
      ]
     },
     "execution_count": 36,
     "metadata": {},
     "output_type": "execute_result"
    }
   ],
   "source": [
    "ab_test_sel"
   ]
  },
  {
   "cell_type": "code",
   "execution_count": 37,
   "id": "1ee4202f",
   "metadata": {
    "ExecuteTime": {
     "end_time": "2021-10-16T15:00:19.860325Z",
     "start_time": "2021-10-16T15:00:19.847380Z"
    },
    "execution": {
     "iopub.execute_input": "2023-12-29T02:01:00.249541Z",
     "iopub.status.busy": "2023-12-29T02:01:00.248973Z",
     "iopub.status.idle": "2023-12-29T02:01:00.264947Z",
     "shell.execute_reply": "2023-12-29T02:01:00.263705Z",
     "shell.execute_reply.started": "2023-12-29T02:01:00.249489Z"
    }
   },
   "outputs": [
    {
     "data": {
      "text/plain": [
       "1    237712\n",
       "0    125809\n",
       "Name: ab_Sel, dtype: int64"
      ]
     },
     "execution_count": 37,
     "metadata": {},
     "output_type": "execute_result"
    }
   ],
   "source": [
    "ab_test_sel.ab_Sel.value_counts()"
   ]
  },
  {
   "cell_type": "code",
   "execution_count": 38,
   "id": "b53a17bd",
   "metadata": {
    "ExecuteTime": {
     "end_time": "2021-10-16T15:40:44.498757Z",
     "start_time": "2021-10-16T15:40:41.403398Z"
    },
    "execution": {
     "iopub.execute_input": "2023-12-29T02:01:02.011239Z",
     "iopub.status.busy": "2023-12-29T02:01:02.009953Z",
     "iopub.status.idle": "2023-12-29T02:01:02.017681Z",
     "shell.execute_reply": "2023-12-29T02:01:02.015932Z",
     "shell.execute_reply.started": "2023-12-29T02:01:02.011183Z"
    }
   },
   "outputs": [],
   "source": [
    "# ab_test_merge = pd.merge(ab_test_sel, icustay_detail, how = 'left', on = ['PATIENT_ID'])\n",
    "# test = ab_test_merge[((ab_test_merge['REQUESTED_DATE_TIME'] - ab_test_merge['TF_ADMISSION_DATE_TIME']).dt.total_seconds()/3600>=-24)&\\\n",
    "#          ((ab_test_merge['REQUESTED_DATE_TIME'] - ab_test_merge['TF_DISCHARGE_DATE_TIME']).dt.total_seconds()/(3600*24)<=0)]\n",
    "# test[(test['ICU_TYPE'] == 'ICU') &\\\n",
    "#      (test['micro_name'].str.contains('肺炎'))&\\\n",
    "#      #(test['ab_allna']==0)&\\\n",
    "#     (test['REQUESTED_DATE_TIME'].dt.year==2011)&\\\n",
    "#     (test['ab_name']=='哌拉西林/他唑巴坦')].REQUESTED_DATE_TIME.drop_duplicates().sort_values(ascending = False).shape"
   ]
  },
  {
   "cell_type": "code",
   "execution_count": 39,
   "id": "6cc30204",
   "metadata": {
    "ExecuteTime": {
     "end_time": "2021-10-16T15:00:27.625253Z",
     "start_time": "2021-10-16T15:00:27.574007Z"
    },
    "execution": {
     "iopub.execute_input": "2023-12-29T02:01:03.634400Z",
     "iopub.status.busy": "2023-12-29T02:01:03.633861Z",
     "iopub.status.idle": "2023-12-29T02:01:03.668119Z",
     "shell.execute_reply": "2023-12-29T02:01:03.666628Z",
     "shell.execute_reply.started": "2023-12-29T02:01:03.634349Z"
    }
   },
   "outputs": [],
   "source": [
    "ab_test_sel_sel = ab_test_sel[ab_test_sel['ab_Sel'] == 1]"
   ]
  },
  {
   "cell_type": "code",
   "execution_count": 40,
   "id": "48144e84",
   "metadata": {
    "ExecuteTime": {
     "end_time": "2021-10-16T15:00:29.177861Z",
     "start_time": "2021-10-16T15:00:28.917009Z"
    },
    "execution": {
     "iopub.execute_input": "2023-12-29T02:01:06.170126Z",
     "iopub.status.busy": "2023-12-29T02:01:06.169583Z",
     "iopub.status.idle": "2023-12-29T02:01:06.456729Z",
     "shell.execute_reply": "2023-12-29T02:01:06.455499Z",
     "shell.execute_reply.started": "2023-12-29T02:01:06.170075Z"
    }
   },
   "outputs": [],
   "source": [
    "ab_test_sel_sel.replace({'利奈唑烷':'利奈唑胺', '力奈唑烷':'利奈唑胺'}, inplace= True)"
   ]
  },
  {
   "cell_type": "code",
   "execution_count": 41,
   "id": "e5fc3699",
   "metadata": {
    "ExecuteTime": {
     "end_time": "2021-10-16T15:00:31.273364Z",
     "start_time": "2021-10-16T15:00:31.052336Z"
    },
    "execution": {
     "iopub.execute_input": "2023-12-29T02:01:07.609476Z",
     "iopub.status.busy": "2023-12-29T02:01:07.608905Z",
     "iopub.status.idle": "2023-12-29T02:01:07.736568Z",
     "shell.execute_reply": "2023-12-29T02:01:07.735307Z",
     "shell.execute_reply.started": "2023-12-29T02:01:07.609424Z"
    }
   },
   "outputs": [
    {
     "name": "stdout",
     "output_type": "stream",
     "text": [
      "---------------------Pseudomonas aeruginosa---------------------\n",
      "妥布霉素         1977\n",
      "哌拉西林/他唑巴坦      71\n",
      "氨曲南            15\n",
      "环丙沙星            5\n",
      "头孢吡肟            5\n",
      "头孢他啶            5\n",
      "阿米卡星            4\n",
      "美洛培南            3\n",
      "亚胺培南            2\n",
      "左旋氧氟沙星          2\n",
      "庆大霉素            1\n",
      "Name: ab_name, dtype: int64\n",
      "---------------------Enterococcus spp.---------------------\n",
      "替加环素       1583\n",
      "莫西沙星       1575\n",
      "氨苄西林         32\n",
      "高水平庆大霉素       7\n",
      "高水平链霉素        7\n",
      "环丙沙星          6\n",
      "万古霉素          6\n",
      "替考拉宁          1\n",
      "亚胺培南          1\n",
      "左旋氧氟沙星        1\n",
      "Name: ab_name, dtype: int64\n",
      "---------------------Enterobacteriaceae---------------------\n",
      "妥布霉素         1447\n",
      "头孢替坦          811\n",
      "替加环素          622\n",
      "氨苄西林           64\n",
      "阿莫西林/棒酸        61\n",
      "氨苄西林/舒巴坦       44\n",
      "头孢呋辛           41\n",
      "头孢呋辛酯          32\n",
      "氨曲南            24\n",
      "复方新诺明          24\n",
      "米诺环素           18\n",
      "环丙沙星           14\n",
      "头孢吡肟           13\n",
      "哌拉西林/他唑巴坦      11\n",
      "阿米卡星            8\n",
      "亚胺培南            8\n",
      "头孢曲松            8\n",
      "四环素             7\n",
      "头孢他啶            7\n",
      "厄它培南            6\n",
      "美洛培南            5\n",
      "庆大霉素            2\n",
      "Name: ab_name, dtype: int64\n",
      "---------------------Staphylococcus aureus---------------------\n",
      "替加环素        615\n",
      "万古霉素          7\n",
      "利奈唑胺          5\n",
      "头孢唑啉          4\n",
      "头孢西丁          4\n",
      "复方新诺明         2\n",
      "青霉素           2\n",
      "头孢他啶          1\n",
      "环丙沙星          1\n",
      "哌拉西林          1\n",
      "头孢吡肟          1\n",
      "氨苄西林/舒巴坦      1\n",
      "头孢呋辛          1\n",
      "莫西沙星          1\n",
      "克林霉素          1\n",
      "四环素           1\n",
      "Name: ab_name, dtype: int64\n",
      "---------------------Acinetobacter spp.---------------------\n",
      "复方新诺明        24\n",
      "氨苄西林/舒巴坦     16\n",
      "头孢曲松         14\n",
      "四环素          10\n",
      "头孢吡肟          9\n",
      "哌拉西林/他唑巴坦     7\n",
      "环丙沙星          7\n",
      "亚胺培南          6\n",
      "阿米卡星          6\n",
      "美洛培南          5\n",
      "头孢他啶          5\n",
      "庆大霉素          4\n",
      "左旋氧氟沙星        3\n",
      "米诺环素          1\n",
      "Name: ab_name, dtype: int64\n"
     ]
    }
   ],
   "source": [
    "for i in ab_test_sel.org_category.unique():\n",
    "    print('---------------------%s---------------------'%i)\n",
    "    print(ab_test_sel_sel[(ab_test_sel_sel['org_category'] == i)&(ab_test_sel_sel['interpretation'] == '')].ab_name.value_counts())"
   ]
  },
  {
   "cell_type": "code",
   "execution_count": 42,
   "id": "19a24a9f",
   "metadata": {
    "ExecuteTime": {
     "end_time": "2021-10-16T15:00:38.812895Z",
     "start_time": "2021-10-16T15:00:38.797959Z"
    },
    "execution": {
     "iopub.execute_input": "2023-12-29T02:01:10.724267Z",
     "iopub.status.busy": "2023-12-29T02:01:10.723726Z",
     "iopub.status.idle": "2023-12-29T02:01:10.732148Z",
     "shell.execute_reply": "2023-12-29T02:01:10.730345Z",
     "shell.execute_reply.started": "2023-12-29T02:01:10.724216Z"
    }
   },
   "outputs": [],
   "source": [
    "# def impute_ris(ab_name, inter,dilution_value, org_category,year):\n",
    "#     if inter == '':\n",
    "#         ris_arr_year = ab_test_sel_sel[(ab_test_sel_sel['org_category'] == org_category)&\\\n",
    "#                      (ab_test_sel_sel['ab_name'] != ab_name)&\\\n",
    "#                         (ab_test_sel_sel['interpretation'] != '')&\\\n",
    "#                         (ab_test_sel_sel['dilution_value'] ==dilution_value)&\\\n",
    "#                         (ab_test_sel_sel['year'] ==year)].interpretation\n",
    "#         ris_arr_all = ab_test_sel_sel[(ab_test_sel_sel['org_category'] == org_category)&\\\n",
    "#                         (ab_test_sel_sel['ab_name'] != ab_name)&\\\n",
    "#                         (ab_test_sel_sel['interpretation'] != '')&\\\n",
    "#                         (ab_test_sel_sel['dilution_value'] ==dilution_value)].interpretation\n",
    "#         if len(ris_arr_year) > 0:\n",
    "#             ris = ris_arr_year.value_counts().index[0]\n",
    "#         elif len(ris_arr_all) > 0:\n",
    "#             ris = ris_arr_all.value_counts().index[0]\n",
    "#         else:                 \n",
    "#             ris = 'Not applicable'\n",
    "#     else:\n",
    "#         ris = inter\n",
    "                         \n",
    "#     return ris"
   ]
  },
  {
   "cell_type": "code",
   "execution_count": 43,
   "id": "44d2b0ca",
   "metadata": {
    "ExecuteTime": {
     "end_time": "2021-10-16T15:00:52.990227Z",
     "start_time": "2021-10-16T15:00:39.405501Z"
    },
    "execution": {
     "iopub.execute_input": "2023-12-29T02:01:12.719125Z",
     "iopub.status.busy": "2023-12-29T02:01:12.718587Z",
     "iopub.status.idle": "2023-12-29T02:01:18.357593Z",
     "shell.execute_reply": "2023-12-29T02:01:18.356290Z",
     "shell.execute_reply.started": "2023-12-29T02:01:12.719074Z"
    }
   },
   "outputs": [],
   "source": [
    "ab_togroup = ab_test_sel_sel[['org_category', 'ab_name',  'interpretation', 'dilution_value', 'year']]#.drop_duplicates()\n",
    "ab_togroup['yes'] = 1\n",
    "ab_togroup = ab_togroup[ab_togroup['interpretation'] != '']\n",
    "ab_group = ab_togroup.groupby(['org_category', 'ab_name',  'dilution_value', 'year','interpretation']).count().reset_index()\n",
    "\n",
    "ab_group_1st = ab_group.groupby(['org_category', 'ab_name',  'dilution_value', 'year']).\\\n",
    "apply(lambda x: x.sort_values('yes',ascending = False).head(1)).reset_index(drop =True)\n",
    "\n",
    "ab_group_1st.drop(columns = 'yes', inplace= True)\n",
    "ab_group_1st.rename(columns = {'interpretation':'interpretation_toimpute'}, inplace = True)\n",
    "ab_test_sel_sel_1st = pd.merge(ab_test_sel_sel, ab_group_1st, how = 'left', on = ['org_category', 'ab_name', 'dilution_value', 'year'])\n",
    "ab_test_sel_sel_1st['interpretation_imp'] = ab_test_sel_sel_1st[['interpretation','interpretation_toimpute']].\\\n",
    "apply(lambda x: x[1] if (x[0] == '') or (pd.isna(x[0])) else x[0],axis = 1)"
   ]
  },
  {
   "cell_type": "code",
   "execution_count": 44,
   "id": "b5d0ecd7",
   "metadata": {
    "ExecuteTime": {
     "end_time": "2021-10-16T15:16:25.186220Z",
     "start_time": "2021-10-16T15:16:23.210924Z"
    },
    "execution": {
     "iopub.execute_input": "2023-12-29T02:01:20.890025Z",
     "iopub.status.busy": "2023-12-29T02:01:20.889470Z",
     "iopub.status.idle": "2023-12-29T02:01:21.781340Z",
     "shell.execute_reply": "2023-12-29T02:01:21.779785Z",
     "shell.execute_reply.started": "2023-12-29T02:01:20.889973Z"
    }
   },
   "outputs": [],
   "source": [
    "#不考虑年份，用所有的去插补\n",
    "ab_togroup_noyear = ab_test_sel_sel[['org_category', 'ab_name',  'interpretation', 'dilution_value']]#.drop_duplicates()\n",
    "ab_togroup_noyear['yes'] = 1\n",
    "ab_togroup_noyear = ab_togroup_noyear[ab_togroup_noyear['interpretation'] != '']\n",
    "ab_group_noyear = ab_togroup_noyear.groupby(['org_category', 'ab_name',  'dilution_value', 'interpretation']).count().reset_index()\n",
    "\n",
    "\n",
    "ab_group_1st_noyear = ab_group_noyear.groupby(['org_category', 'ab_name',  'dilution_value']).\\\n",
    "apply(lambda x: x.sort_values('yes',ascending = False).head(1)).reset_index(drop =True)\n",
    "\n",
    "ab_group_1st_noyear.drop(columns = 'yes', inplace= True)\n",
    "ab_group_1st_noyear.rename(columns = {'interpretation':'interpretation_toimpute_all'}, inplace = True)\n",
    "ab_test_sel_sel_1st_all = pd.merge(ab_test_sel_sel_1st, ab_group_1st_noyear, how = 'left', on = ['org_category', 'ab_name', 'dilution_value'])"
   ]
  },
  {
   "cell_type": "code",
   "execution_count": 45,
   "id": "585e1d80",
   "metadata": {
    "ExecuteTime": {
     "end_time": "2021-10-16T15:16:39.458886Z",
     "start_time": "2021-10-16T15:16:35.825897Z"
    },
    "execution": {
     "iopub.execute_input": "2023-12-29T02:01:24.038554Z",
     "iopub.status.busy": "2023-12-29T02:01:24.038008Z",
     "iopub.status.idle": "2023-12-29T02:01:25.330097Z",
     "shell.execute_reply": "2023-12-29T02:01:25.328686Z",
     "shell.execute_reply.started": "2023-12-29T02:01:24.038502Z"
    }
   },
   "outputs": [],
   "source": [
    "ab_test_sel_sel_1st_all['interpretation_imp_all'] = ab_test_sel_sel_1st_all[['interpretation_imp','interpretation_toimpute_all']].\\\n",
    "apply(lambda x: x[1] if (x[0] == '') or (pd.isna(x[0])) else x[0],axis = 1)"
   ]
  },
  {
   "cell_type": "code",
   "execution_count": 46,
   "id": "a7502034",
   "metadata": {
    "ExecuteTime": {
     "end_time": "2021-10-16T15:18:00.905555Z",
     "start_time": "2021-10-16T15:18:00.426618Z"
    },
    "execution": {
     "iopub.execute_input": "2023-12-29T02:01:26.955210Z",
     "iopub.status.busy": "2023-12-29T02:01:26.954676Z",
     "iopub.status.idle": "2023-12-29T02:01:27.309304Z",
     "shell.execute_reply": "2023-12-29T02:01:27.308048Z",
     "shell.execute_reply.started": "2023-12-29T02:01:26.955159Z"
    }
   },
   "outputs": [],
   "source": [
    "ab_test_sel_sel_1st_all.replace({np.nan:''}, inplace = True)"
   ]
  },
  {
   "cell_type": "code",
   "execution_count": 47,
   "id": "d228ca24",
   "metadata": {
    "ExecuteTime": {
     "end_time": "2021-10-16T15:18:00.984208Z",
     "start_time": "2021-10-16T15:18:00.907544Z"
    },
    "execution": {
     "iopub.execute_input": "2023-12-29T02:01:28.092863Z",
     "iopub.status.busy": "2023-12-29T02:01:28.092323Z",
     "iopub.status.idle": "2023-12-29T02:01:28.141920Z",
     "shell.execute_reply": "2023-12-29T02:01:28.140849Z",
     "shell.execute_reply.started": "2023-12-29T02:01:28.092812Z"
    }
   },
   "outputs": [
    {
     "data": {
      "text/html": [
       "<div>\n",
       "<style scoped>\n",
       "    .dataframe tbody tr th:only-of-type {\n",
       "        vertical-align: middle;\n",
       "    }\n",
       "\n",
       "    .dataframe tbody tr th {\n",
       "        vertical-align: top;\n",
       "    }\n",
       "\n",
       "    .dataframe thead th {\n",
       "        text-align: right;\n",
       "    }\n",
       "</style>\n",
       "<table border=\"1\" class=\"dataframe\">\n",
       "  <thead>\n",
       "    <tr style=\"text-align: right;\">\n",
       "      <th></th>\n",
       "      <th>PATIENT_ID</th>\n",
       "      <th>SPECIMEN</th>\n",
       "      <th>REQUESTED_DATE_TIME</th>\n",
       "      <th>RESULTS_RPT_DATE_TIME</th>\n",
       "      <th>ab_name</th>\n",
       "      <th>ab_result</th>\n",
       "      <th>micro_name</th>\n",
       "      <th>interpretation</th>\n",
       "      <th>dilution_text</th>\n",
       "      <th>dilution_value</th>\n",
       "      <th>year</th>\n",
       "      <th>org_category</th>\n",
       "      <th>ab_Sel</th>\n",
       "      <th>interpretation_toimpute</th>\n",
       "      <th>interpretation_imp</th>\n",
       "      <th>interpretation_toimpute_all</th>\n",
       "      <th>interpretation_imp_all</th>\n",
       "    </tr>\n",
       "  </thead>\n",
       "  <tbody>\n",
       "    <tr>\n",
       "      <th>67</th>\n",
       "      <td>S115652379</td>\n",
       "      <td>伤口分泌</td>\n",
       "      <td>2016-08-05 11:25:59</td>\n",
       "      <td>2016-08-08 10:46:29</td>\n",
       "      <td>妥布霉素</td>\n",
       "      <td>&lt;=1.0</td>\n",
       "      <td>铜绿假单胞菌</td>\n",
       "      <td></td>\n",
       "      <td>&lt;=1.0</td>\n",
       "      <td>1.0</td>\n",
       "      <td>2016</td>\n",
       "      <td>Pseudomonas aeruginosa</td>\n",
       "      <td>1</td>\n",
       "      <td></td>\n",
       "      <td></td>\n",
       "      <td>S</td>\n",
       "      <td>S</td>\n",
       "    </tr>\n",
       "    <tr>\n",
       "      <th>78</th>\n",
       "      <td>S114037874</td>\n",
       "      <td>痰</td>\n",
       "      <td>2016-08-05 18:53:54</td>\n",
       "      <td>2016-08-08 10:10:43</td>\n",
       "      <td>妥布霉素</td>\n",
       "      <td>&lt;=1.0</td>\n",
       "      <td>铜绿假单胞菌</td>\n",
       "      <td></td>\n",
       "      <td>&lt;=1.0</td>\n",
       "      <td>1.0</td>\n",
       "      <td>2016</td>\n",
       "      <td>Pseudomonas aeruginosa</td>\n",
       "      <td>1</td>\n",
       "      <td></td>\n",
       "      <td></td>\n",
       "      <td>S</td>\n",
       "      <td>S</td>\n",
       "    </tr>\n",
       "    <tr>\n",
       "      <th>102</th>\n",
       "      <td>S115094713</td>\n",
       "      <td>痰</td>\n",
       "      <td>2016-08-05 17:22:36</td>\n",
       "      <td>2016-08-09 10:00:29</td>\n",
       "      <td>妥布霉素</td>\n",
       "      <td>&lt;=1.0</td>\n",
       "      <td>铜绿假单胞菌</td>\n",
       "      <td></td>\n",
       "      <td>&lt;=1.0</td>\n",
       "      <td>1.0</td>\n",
       "      <td>2016</td>\n",
       "      <td>Pseudomonas aeruginosa</td>\n",
       "      <td>1</td>\n",
       "      <td></td>\n",
       "      <td></td>\n",
       "      <td>S</td>\n",
       "      <td>S</td>\n",
       "    </tr>\n",
       "    <tr>\n",
       "      <th>122</th>\n",
       "      <td>S111511215</td>\n",
       "      <td>静脉血</td>\n",
       "      <td>2016-08-06 13:51:11</td>\n",
       "      <td>2016-08-09 09:53:07</td>\n",
       "      <td>妥布霉素</td>\n",
       "      <td>&lt;=1.0</td>\n",
       "      <td>铜绿假单胞菌</td>\n",
       "      <td></td>\n",
       "      <td>&lt;=1.0</td>\n",
       "      <td>1.0</td>\n",
       "      <td>2016</td>\n",
       "      <td>Pseudomonas aeruginosa</td>\n",
       "      <td>1</td>\n",
       "      <td></td>\n",
       "      <td></td>\n",
       "      <td>S</td>\n",
       "      <td>S</td>\n",
       "    </tr>\n",
       "    <tr>\n",
       "      <th>145</th>\n",
       "      <td>S115652379</td>\n",
       "      <td>伤口分泌</td>\n",
       "      <td>2016-08-06 10:35:54</td>\n",
       "      <td>2016-08-09 09:52:44</td>\n",
       "      <td>妥布霉素</td>\n",
       "      <td>&lt;=1.0</td>\n",
       "      <td>铜绿假单胞菌</td>\n",
       "      <td></td>\n",
       "      <td>&lt;=1.0</td>\n",
       "      <td>1.0</td>\n",
       "      <td>2016</td>\n",
       "      <td>Pseudomonas aeruginosa</td>\n",
       "      <td>1</td>\n",
       "      <td></td>\n",
       "      <td></td>\n",
       "      <td>S</td>\n",
       "      <td>S</td>\n",
       "    </tr>\n",
       "    <tr>\n",
       "      <th>...</th>\n",
       "      <td>...</td>\n",
       "      <td>...</td>\n",
       "      <td>...</td>\n",
       "      <td>...</td>\n",
       "      <td>...</td>\n",
       "      <td>...</td>\n",
       "      <td>...</td>\n",
       "      <td>...</td>\n",
       "      <td>...</td>\n",
       "      <td>...</td>\n",
       "      <td>...</td>\n",
       "      <td>...</td>\n",
       "      <td>...</td>\n",
       "      <td>...</td>\n",
       "      <td>...</td>\n",
       "      <td>...</td>\n",
       "      <td>...</td>\n",
       "    </tr>\n",
       "    <tr>\n",
       "      <th>237465</th>\n",
       "      <td>S115570051</td>\n",
       "      <td>尿</td>\n",
       "      <td>2016-08-03 09:43:08</td>\n",
       "      <td>2016-08-06 08:22:07</td>\n",
       "      <td>妥布霉素</td>\n",
       "      <td>&lt;=1.0</td>\n",
       "      <td>铜绿假单胞菌</td>\n",
       "      <td></td>\n",
       "      <td>&lt;=1.0</td>\n",
       "      <td>1.0</td>\n",
       "      <td>2016</td>\n",
       "      <td>Pseudomonas aeruginosa</td>\n",
       "      <td>1</td>\n",
       "      <td></td>\n",
       "      <td></td>\n",
       "      <td>S</td>\n",
       "      <td>S</td>\n",
       "    </tr>\n",
       "    <tr>\n",
       "      <th>237506</th>\n",
       "      <td>S114798031</td>\n",
       "      <td>痰</td>\n",
       "      <td>2016-08-03 15:01:19</td>\n",
       "      <td>2016-08-07 08:18:05</td>\n",
       "      <td>妥布霉素</td>\n",
       "      <td>&lt;=1.0</td>\n",
       "      <td>铜绿假单胞菌</td>\n",
       "      <td></td>\n",
       "      <td>&lt;=1.0</td>\n",
       "      <td>1.0</td>\n",
       "      <td>2016</td>\n",
       "      <td>Pseudomonas aeruginosa</td>\n",
       "      <td>1</td>\n",
       "      <td></td>\n",
       "      <td></td>\n",
       "      <td>S</td>\n",
       "      <td>S</td>\n",
       "    </tr>\n",
       "    <tr>\n",
       "      <th>237517</th>\n",
       "      <td>S115075113</td>\n",
       "      <td>痰</td>\n",
       "      <td>2016-08-04 10:14:15</td>\n",
       "      <td>2016-08-06 08:20:47</td>\n",
       "      <td>妥布霉素</td>\n",
       "      <td>&lt;=1.0</td>\n",
       "      <td>铜绿假单胞菌</td>\n",
       "      <td></td>\n",
       "      <td>&lt;=1.0</td>\n",
       "      <td>1.0</td>\n",
       "      <td>2016</td>\n",
       "      <td>Pseudomonas aeruginosa</td>\n",
       "      <td>1</td>\n",
       "      <td></td>\n",
       "      <td></td>\n",
       "      <td>S</td>\n",
       "      <td>S</td>\n",
       "    </tr>\n",
       "    <tr>\n",
       "      <th>237633</th>\n",
       "      <td>S115671050</td>\n",
       "      <td>导管</td>\n",
       "      <td>2016-08-04 09:11:13</td>\n",
       "      <td>2016-08-08 10:49:10</td>\n",
       "      <td>妥布霉素</td>\n",
       "      <td>&lt;=1.0</td>\n",
       "      <td>铜绿假单胞菌</td>\n",
       "      <td></td>\n",
       "      <td>&lt;=1.0</td>\n",
       "      <td>1.0</td>\n",
       "      <td>2016</td>\n",
       "      <td>Pseudomonas aeruginosa</td>\n",
       "      <td>1</td>\n",
       "      <td></td>\n",
       "      <td></td>\n",
       "      <td>S</td>\n",
       "      <td>S</td>\n",
       "    </tr>\n",
       "    <tr>\n",
       "      <th>237690</th>\n",
       "      <td>S115754846</td>\n",
       "      <td>痰</td>\n",
       "      <td>2016-08-04 18:06:29</td>\n",
       "      <td>2016-08-07 08:17:40</td>\n",
       "      <td>妥布霉素</td>\n",
       "      <td>&gt;=16.0</td>\n",
       "      <td>铜绿假单胞菌</td>\n",
       "      <td></td>\n",
       "      <td>&gt;=16.0</td>\n",
       "      <td>16.0</td>\n",
       "      <td>2016</td>\n",
       "      <td>Pseudomonas aeruginosa</td>\n",
       "      <td>1</td>\n",
       "      <td></td>\n",
       "      <td></td>\n",
       "      <td></td>\n",
       "      <td></td>\n",
       "    </tr>\n",
       "  </tbody>\n",
       "</table>\n",
       "<p>1978 rows × 17 columns</p>\n",
       "</div>"
      ],
      "text/plain": [
       "        PATIENT_ID SPECIMEN REQUESTED_DATE_TIME RESULTS_RPT_DATE_TIME ab_name  \\\n",
       "67      S115652379     伤口分泌 2016-08-05 11:25:59   2016-08-08 10:46:29    妥布霉素   \n",
       "78      S114037874        痰 2016-08-05 18:53:54   2016-08-08 10:10:43    妥布霉素   \n",
       "102     S115094713        痰 2016-08-05 17:22:36   2016-08-09 10:00:29    妥布霉素   \n",
       "122     S111511215      静脉血 2016-08-06 13:51:11   2016-08-09 09:53:07    妥布霉素   \n",
       "145     S115652379     伤口分泌 2016-08-06 10:35:54   2016-08-09 09:52:44    妥布霉素   \n",
       "...            ...      ...                 ...                   ...     ...   \n",
       "237465  S115570051        尿 2016-08-03 09:43:08   2016-08-06 08:22:07    妥布霉素   \n",
       "237506  S114798031        痰 2016-08-03 15:01:19   2016-08-07 08:18:05    妥布霉素   \n",
       "237517  S115075113        痰 2016-08-04 10:14:15   2016-08-06 08:20:47    妥布霉素   \n",
       "237633  S115671050       导管 2016-08-04 09:11:13   2016-08-08 10:49:10    妥布霉素   \n",
       "237690  S115754846        痰 2016-08-04 18:06:29   2016-08-07 08:17:40    妥布霉素   \n",
       "\n",
       "       ab_result micro_name interpretation dilution_text dilution_value  year  \\\n",
       "67         <=1.0     铜绿假单胞菌                        <=1.0            1.0  2016   \n",
       "78         <=1.0     铜绿假单胞菌                        <=1.0            1.0  2016   \n",
       "102        <=1.0     铜绿假单胞菌                        <=1.0            1.0  2016   \n",
       "122        <=1.0     铜绿假单胞菌                        <=1.0            1.0  2016   \n",
       "145        <=1.0     铜绿假单胞菌                        <=1.0            1.0  2016   \n",
       "...          ...        ...            ...           ...            ...   ...   \n",
       "237465     <=1.0     铜绿假单胞菌                        <=1.0            1.0  2016   \n",
       "237506     <=1.0     铜绿假单胞菌                        <=1.0            1.0  2016   \n",
       "237517     <=1.0     铜绿假单胞菌                        <=1.0            1.0  2016   \n",
       "237633     <=1.0     铜绿假单胞菌                        <=1.0            1.0  2016   \n",
       "237690    >=16.0     铜绿假单胞菌                       >=16.0           16.0  2016   \n",
       "\n",
       "                  org_category  ab_Sel interpretation_toimpute  \\\n",
       "67      Pseudomonas aeruginosa       1                           \n",
       "78      Pseudomonas aeruginosa       1                           \n",
       "102     Pseudomonas aeruginosa       1                           \n",
       "122     Pseudomonas aeruginosa       1                           \n",
       "145     Pseudomonas aeruginosa       1                           \n",
       "...                        ...     ...                     ...   \n",
       "237465  Pseudomonas aeruginosa       1                           \n",
       "237506  Pseudomonas aeruginosa       1                           \n",
       "237517  Pseudomonas aeruginosa       1                           \n",
       "237633  Pseudomonas aeruginosa       1                           \n",
       "237690  Pseudomonas aeruginosa       1                           \n",
       "\n",
       "       interpretation_imp interpretation_toimpute_all interpretation_imp_all  \n",
       "67                                                  S                      S  \n",
       "78                                                  S                      S  \n",
       "102                                                 S                      S  \n",
       "122                                                 S                      S  \n",
       "145                                                 S                      S  \n",
       "...                   ...                         ...                    ...  \n",
       "237465                                              S                      S  \n",
       "237506                                              S                      S  \n",
       "237517                                              S                      S  \n",
       "237633                                              S                      S  \n",
       "237690                                                                        \n",
       "\n",
       "[1978 rows x 17 columns]"
      ]
     },
     "execution_count": 47,
     "metadata": {},
     "output_type": "execute_result"
    }
   ],
   "source": [
    "ab_test_sel_sel_1st_all[(ab_test_sel_sel_1st_all['org_category'] == 'Pseudomonas aeruginosa')&(ab_test_sel_sel_1st_all['ab_name'] == '妥布霉素')]#.ab_result.value_counts()"
   ]
  },
  {
   "cell_type": "code",
   "execution_count": 48,
   "id": "d811c8fd",
   "metadata": {
    "ExecuteTime": {
     "end_time": "2021-10-16T15:18:01.390623Z",
     "start_time": "2021-10-16T15:18:01.290002Z"
    },
    "execution": {
     "iopub.execute_input": "2023-12-29T02:01:32.889507Z",
     "iopub.status.busy": "2023-12-29T02:01:32.888921Z",
     "iopub.status.idle": "2023-12-29T02:01:32.961800Z",
     "shell.execute_reply": "2023-12-29T02:01:32.960244Z",
     "shell.execute_reply.started": "2023-12-29T02:01:32.889454Z"
    }
   },
   "outputs": [],
   "source": [
    "ab_test_sel_sel_1st_all = ab_test_sel_sel_1st_all[~((pd.isna(ab_test_sel_sel_1st_all['ab_result']))| (ab_test_sel_sel_1st_all['ab_result'] == '  ') | (ab_test_sel_sel_1st_all['ab_result'] == '   '))]"
   ]
  },
  {
   "cell_type": "code",
   "execution_count": 49,
   "id": "08931e7b",
   "metadata": {
    "ExecuteTime": {
     "end_time": "2021-10-16T15:18:02.074036Z",
     "start_time": "2021-10-16T15:18:01.835096Z"
    },
    "execution": {
     "iopub.execute_input": "2023-12-29T02:01:38.493791Z",
     "iopub.status.busy": "2023-12-29T02:01:38.492321Z",
     "iopub.status.idle": "2023-12-29T02:01:38.624525Z",
     "shell.execute_reply": "2023-12-29T02:01:38.623339Z",
     "shell.execute_reply.started": "2023-12-29T02:01:38.493734Z"
    }
   },
   "outputs": [
    {
     "name": "stdout",
     "output_type": "stream",
     "text": [
      "---------------------Pseudomonas aeruginosa---------------------\n",
      "妥布霉素         488\n",
      "哌拉西林/他唑巴坦      2\n",
      "氨曲南            2\n",
      "Name: ab_name, dtype: int64\n",
      "---------------------Enterococcus spp.---------------------\n",
      "莫西沙星      97\n",
      "替加环素      66\n",
      "左旋氧氟沙星     1\n",
      "Name: ab_name, dtype: int64\n",
      "---------------------Enterobacteriaceae---------------------\n",
      "替加环素     621\n",
      "米诺环素      13\n",
      "氨曲南        3\n",
      "氨苄西林       2\n",
      "头孢呋辛酯      2\n",
      "头孢吡肟       1\n",
      "Name: ab_name, dtype: int64\n",
      "---------------------Staphylococcus aureus---------------------\n",
      "替加环素    152\n",
      "头孢唑啉      2\n",
      "环丙沙星      1\n",
      "哌拉西林      1\n",
      "利奈唑胺      1\n",
      "万古霉素      1\n",
      "Name: ab_name, dtype: int64\n",
      "---------------------Acinetobacter spp.---------------------\n",
      "庆大霉素    1\n",
      "Name: ab_name, dtype: int64\n"
     ]
    }
   ],
   "source": [
    "for i in ab_test_sel.org_category.unique():\n",
    "    print('---------------------%s---------------------'%i)\n",
    "    print(ab_test_sel_sel_1st_all[(ab_test_sel_sel_1st_all['org_category'] == i)&(ab_test_sel_sel_1st_all['interpretation_imp_all'] == '')].ab_name.value_counts())"
   ]
  },
  {
   "cell_type": "code",
   "execution_count": 50,
   "id": "fba980e9",
   "metadata": {
    "ExecuteTime": {
     "end_time": "2021-10-16T15:18:02.264699Z",
     "start_time": "2021-10-16T15:18:02.257729Z"
    },
    "execution": {
     "iopub.execute_input": "2023-12-29T02:01:41.848633Z",
     "iopub.status.busy": "2023-12-29T02:01:41.848080Z",
     "iopub.status.idle": "2023-12-29T02:01:43.485362Z",
     "shell.execute_reply": "2023-12-29T02:01:43.484428Z",
     "shell.execute_reply.started": "2023-12-29T02:01:41.848581Z"
    }
   },
   "outputs": [
    {
     "data": {
      "text/plain": [
       "(37,)"
      ]
     },
     "execution_count": 50,
     "metadata": {},
     "output_type": "execute_result"
    }
   ],
   "source": [
    "ab_test_merge = pd.merge(ab_test_sel, icustay_detail, how = 'left', on = ['PATIENT_ID'])\n",
    "test = ab_test_merge[((ab_test_merge['REQUESTED_DATE_TIME'] - ab_test_merge['TF_ADMISSION_DATE_TIME']).dt.total_seconds()/3600>=-24)&\\\n",
    "         ((ab_test_merge['REQUESTED_DATE_TIME'] - ab_test_merge['TF_DISCHARGE_DATE_TIME']).dt.total_seconds()/(3600*24)<=0)]\n",
    "test[(test['ICU_TYPE'] == 'ICU') &\\\n",
    "     (test['micro_name'].str.contains('肺炎'))&\\\n",
    "     #(test['ab_allna']==0)&\\\n",
    "    (test['REQUESTED_DATE_TIME'].dt.year==2011)&\\\n",
    "    (test['ab_name']=='哌拉西林')].REQUESTED_DATE_TIME.drop_duplicates().sort_values(ascending = False).shape"
   ]
  },
  {
   "cell_type": "code",
   "execution_count": 51,
   "id": "4c499004",
   "metadata": {
    "ExecuteTime": {
     "end_time": "2021-10-16T15:18:03.122279Z",
     "start_time": "2021-10-16T15:18:03.108338Z"
    },
    "execution": {
     "iopub.execute_input": "2023-12-29T02:01:45.931467Z",
     "iopub.status.busy": "2023-12-29T02:01:45.930919Z",
     "iopub.status.idle": "2023-12-29T02:01:45.945056Z",
     "shell.execute_reply": "2023-12-29T02:01:45.943649Z",
     "shell.execute_reply.started": "2023-12-29T02:01:45.931416Z"
    }
   },
   "outputs": [],
   "source": [
    "def impute_ris_second(org_category, ab_name, dilution_value, inter):\n",
    "    if inter == '':\n",
    "        if org_category == 'Pseudomonas aeruginosa' and ab_name == '妥布霉素':\n",
    "            if dilution_value <= 4:\n",
    "                return 'S'\n",
    "            elif dilution_value == 8:\n",
    "                return 'I'\n",
    "            elif dilution_value >=16:\n",
    "                return 'R'\n",
    "            else:\n",
    "                return None\n",
    "        if org_category == 'Pseudomonas aeruginosa' and ab_name == '氨曲南':\n",
    "            return 'S'\n",
    "        if org_category == 'Pseudomonas aeruginosa' and ab_name == '哌拉西林/他唑巴坦':\n",
    "            return 'S'\n",
    "        if org_category == 'Enterococcus spp.' and ab_name == '莫西沙星':\n",
    "            if dilution_value <= 1:\n",
    "                return 'S'\n",
    "            else:\n",
    "                return 'R'\n",
    "        if org_category == 'Enterococcus spp.' and ab_name == '替加环素':\n",
    "            if dilution_value <= 1:\n",
    "                return 'S'\n",
    "            else:\n",
    "                return 'R'\n",
    "        if org_category == 'Enterococcus spp.' and ab_name == '左旋氧氟沙星':\n",
    "            return 'S' \n",
    "            \n",
    "        if org_category == 'Enterobacteriaceae' and ab_name == '替加环素':\n",
    "            if dilution_value >= 18:\n",
    "                return 'S'\n",
    "            elif dilution_value < 15:\n",
    "                return 'R'                 \n",
    "            else:\n",
    "                return 'I'\n",
    "\n",
    "        if org_category == 'Enterobacteriaceae' and ab_name == '米诺环素':\n",
    "            if dilution_value >= 16:\n",
    "                return 'S'\n",
    "            elif dilution_value <= 12:\n",
    "                return 'R'                 \n",
    "            else:\n",
    "                return 'I'\n",
    "\n",
    "        if org_category == 'Enterobacteriaceae' and ab_name == '氨曲南':\n",
    "            if dilution_value >= 21:\n",
    "                return 'S'\n",
    "            elif dilution_value <= 17:\n",
    "                return 'R'                 \n",
    "            else:\n",
    "                return 'I'\n",
    "\n",
    "        if org_category == 'Enterobacteriaceae' and ab_name == '头孢呋辛酯':\n",
    "            return 'I'\n",
    "\n",
    "        if org_category == 'Enterobacteriaceae' and ab_name == '氨苄西林':\n",
    "            if dilution_value >= 17:\n",
    "                return 'S'\n",
    "            elif dilution_value <= 13:\n",
    "                return 'R'                 \n",
    "            else:\n",
    "                return 'I'\n",
    "            \n",
    "        if org_category == 'Enterobacteriaceae' and ab_name == '头孢吡肟':\n",
    "            return 'S'\n",
    "\n",
    "        if org_category == 'Staphylococcus aureus' and ab_name == '替加环素':\n",
    "            return 'Not applicable'\n",
    "        \n",
    "        if org_category == 'Staphylococcus aureus' and ab_name == '头孢唑啉':\n",
    "            return 'I'\n",
    "        if org_category == 'Staphylococcus aureus' and ab_name == '环丙沙星':\n",
    "            return 'R'\n",
    "        if org_category == 'Staphylococcus aureus' and ab_name == '利奈唑胺':\n",
    "            return 'R'\n",
    "        if org_category == 'Staphylococcus aureus' and ab_name == '万古霉素':\n",
    "            return 'S'\n",
    "        if org_category == 'Staphylococcus aureus' and ab_name == '哌拉西林':\n",
    "            return 'S'\n",
    "        if org_category == 'Acinetobacter spp.' and ab_name == '庆大霉素':\n",
    "            return 'S'\n",
    "    else:\n",
    "        return inter"
   ]
  },
  {
   "cell_type": "code",
   "execution_count": 52,
   "id": "8d97b66b",
   "metadata": {
    "ExecuteTime": {
     "end_time": "2021-10-16T15:19:05.281433Z",
     "start_time": "2021-10-16T15:19:05.156180Z"
    },
    "execution": {
     "iopub.execute_input": "2023-12-29T02:01:46.809125Z",
     "iopub.status.busy": "2023-12-29T02:01:46.808578Z",
     "iopub.status.idle": "2023-12-29T02:01:46.887884Z",
     "shell.execute_reply": "2023-12-29T02:01:46.886294Z",
     "shell.execute_reply.started": "2023-12-29T02:01:46.809075Z"
    }
   },
   "outputs": [],
   "source": [
    "ab_test_sel_sel_1st_all['dilution_value'] = ab_test_sel_sel_1st_all['dilution_value'].apply(lambda x: np.nan if x== '' else float(x))"
   ]
  },
  {
   "cell_type": "code",
   "execution_count": 53,
   "id": "f738a59d",
   "metadata": {
    "ExecuteTime": {
     "end_time": "2021-10-16T15:19:12.435660Z",
     "start_time": "2021-10-16T15:19:08.385965Z"
    },
    "execution": {
     "iopub.execute_input": "2023-12-29T02:01:47.463162Z",
     "iopub.status.busy": "2023-12-29T02:01:47.462623Z",
     "iopub.status.idle": "2023-12-29T02:01:48.843449Z",
     "shell.execute_reply": "2023-12-29T02:01:48.842173Z",
     "shell.execute_reply.started": "2023-12-29T02:01:47.463111Z"
    }
   },
   "outputs": [],
   "source": [
    "ab_test_sel_sel_1st_all['interpretation_final'] = ab_test_sel_sel_1st_all[['org_category', 'ab_name', 'dilution_value', 'interpretation_imp_all']].\\\n",
    "apply(lambda x: impute_ris_second(x[0],x[1],x[2],x[3]), axis = 1)"
   ]
  },
  {
   "cell_type": "code",
   "execution_count": 54,
   "id": "25e6e8ee",
   "metadata": {
    "ExecuteTime": {
     "end_time": "2021-10-16T15:43:13.906083Z",
     "start_time": "2021-10-16T15:43:11.331428Z"
    },
    "execution": {
     "iopub.execute_input": "2023-12-29T02:01:49.541970Z",
     "iopub.status.busy": "2023-12-29T02:01:49.541425Z",
     "iopub.status.idle": "2023-12-29T02:01:49.549174Z",
     "shell.execute_reply": "2023-12-29T02:01:49.547367Z",
     "shell.execute_reply.started": "2023-12-29T02:01:49.541920Z"
    }
   },
   "outputs": [],
   "source": [
    "# ab_test_merge = pd.merge(ab_test_sel_sel_1st_all, icustay_detail, how = 'left', on = ['PATIENT_ID'])\n",
    "# test = ab_test_merge[((ab_test_merge['REQUESTED_DATE_TIME'] - ab_test_merge['TF_ADMISSION_DATE_TIME']).dt.total_seconds()/3600>=-24)&\\\n",
    "#          ((ab_test_merge['REQUESTED_DATE_TIME'] - ab_test_merge['TF_DISCHARGE_DATE_TIME']).dt.total_seconds()/(3600*24)<=0)]\n",
    "# test[(test['ICU_TYPE'] == 'ICU') &\\\n",
    "#      (test['micro_name'].str.contains('肺炎'))&\\\n",
    "#      #(test['ab_allna']==0)&\\\n",
    "#     (test['REQUESTED_DATE_TIME'].dt.year==2011)&\\\n",
    "#     (test['ab_name']=='哌拉西林/他唑巴坦')].REQUESTED_DATE_TIME.drop_duplicates().sort_values(ascending = False).shape"
   ]
  },
  {
   "cell_type": "code",
   "execution_count": 55,
   "id": "40eb0647",
   "metadata": {
    "ExecuteTime": {
     "end_time": "2021-10-16T15:33:27.137485Z",
     "start_time": "2021-10-16T15:33:27.104628Z"
    },
    "execution": {
     "iopub.execute_input": "2023-12-29T02:01:50.167178Z",
     "iopub.status.busy": "2023-12-29T02:01:50.166639Z",
     "iopub.status.idle": "2023-12-29T02:01:50.198354Z",
     "shell.execute_reply": "2023-12-29T02:01:50.197165Z",
     "shell.execute_reply.started": "2023-12-29T02:01:50.167128Z"
    }
   },
   "outputs": [],
   "source": [
    "ab_test_sel_sel_1st_all['interpretation_final'] = ab_test_sel_sel_1st_all['interpretation_final'].replace({'r':'R', 's':'R'})"
   ]
  },
  {
   "cell_type": "code",
   "execution_count": 56,
   "id": "7da5e51f",
   "metadata": {
    "ExecuteTime": {
     "end_time": "2021-10-16T15:33:27.977268Z",
     "start_time": "2021-10-16T15:33:27.816974Z"
    },
    "execution": {
     "iopub.execute_input": "2023-12-29T02:01:50.808834Z",
     "iopub.status.busy": "2023-12-29T02:01:50.808295Z",
     "iopub.status.idle": "2023-12-29T02:01:50.916947Z",
     "shell.execute_reply": "2023-12-29T02:01:50.915526Z",
     "shell.execute_reply.started": "2023-12-29T02:01:50.808784Z"
    }
   },
   "outputs": [],
   "source": [
    "ab_test_final = ab_test_sel_sel_1st_all[ab_test_sel_sel_1st_all['interpretation_final'].isin(['R','I', 'S'])]\n",
    "ab_test_final = ab_test_final[['PATIENT_ID', 'SPECIMEN', 'REQUESTED_DATE_TIME',\n",
    "       'RESULTS_RPT_DATE_TIME', 'ab_name', 'ab_result', 'micro_name',\n",
    "       'interpretation', 'dilution_text', 'dilution_value', \n",
    "       'org_category',  'interpretation_final']]"
   ]
  },
  {
   "cell_type": "code",
   "execution_count": 57,
   "id": "f1460184",
   "metadata": {
    "ExecuteTime": {
     "end_time": "2021-10-16T15:33:32.933006Z",
     "start_time": "2021-10-16T15:33:32.914088Z"
    },
    "execution": {
     "iopub.execute_input": "2023-12-29T02:01:51.622457Z",
     "iopub.status.busy": "2023-12-29T02:01:51.621236Z",
     "iopub.status.idle": "2023-12-29T02:01:51.629753Z",
     "shell.execute_reply": "2023-12-29T02:01:51.628499Z",
     "shell.execute_reply.started": "2023-12-29T02:01:51.622401Z"
    }
   },
   "outputs": [],
   "source": [
    "def trans_time(t):\n",
    "    if t == 'None':\n",
    "        return np.datetime64('NaT')\n",
    "    elif pd.isna(t):\n",
    "        return np.datetime64('NaT')\n",
    "    else:\n",
    "        return np.datetime64(t)"
   ]
  },
  {
   "cell_type": "code",
   "execution_count": 58,
   "id": "4518e2d3",
   "metadata": {
    "ExecuteTime": {
     "end_time": "2021-10-16T15:33:36.729137Z",
     "start_time": "2021-10-16T15:33:33.417729Z"
    },
    "execution": {
     "iopub.execute_input": "2023-12-29T02:01:52.727771Z",
     "iopub.status.busy": "2023-12-29T02:01:52.727237Z",
     "iopub.status.idle": "2023-12-29T02:01:54.459115Z",
     "shell.execute_reply": "2023-12-29T02:01:54.457700Z",
     "shell.execute_reply.started": "2023-12-29T02:01:52.727721Z"
    }
   },
   "outputs": [],
   "source": [
    "ab_test_final['REQUESTED_DATE_TIME'] = ab_test_final['REQUESTED_DATE_TIME'].apply(lambda x: trans_time(x))\n",
    "ab_test_final['RESULTS_RPT_DATE_TIME'] = ab_test_final['RESULTS_RPT_DATE_TIME'].apply(lambda x: trans_time(x))"
   ]
  },
  {
   "cell_type": "code",
   "execution_count": 59,
   "id": "eb9bc997",
   "metadata": {
    "ExecuteTime": {
     "end_time": "2021-10-16T15:43:55.836269Z",
     "start_time": "2021-10-16T15:43:55.818345Z"
    },
    "execution": {
     "iopub.execute_input": "2023-12-29T02:01:54.471692Z",
     "iopub.status.busy": "2023-12-29T02:01:54.471541Z",
     "iopub.status.idle": "2023-12-29T02:01:54.474519Z",
     "shell.execute_reply": "2023-12-29T02:01:54.474008Z",
     "shell.execute_reply.started": "2023-12-29T02:01:54.471678Z"
    }
   },
   "outputs": [],
   "source": [
    "# ab_test_merge = pd.merge(ab_test_final, icustay_detail, how = 'left', on = ['PATIENT_ID'])\n",
    "# test = ab_test_merge[((ab_test_merge['REQUESTED_DATE_TIME'] - ab_test_merge['TF_ADMISSION_DATE_TIME']).dt.total_seconds()/3600>=-24)&\\\n",
    "#          ((ab_test_merge['REQUESTED_DATE_TIME'] - ab_test_merge['TF_DISCHARGE_DATE_TIME']).dt.total_seconds()/(3600*24)<=0)]\n",
    "# test[(test['ICU_TYPE'] == 'ICU') &\\\n",
    "#      (test['micro_name'].str.contains('肺炎'))&\\\n",
    "#      #(test['ab_allna']==0)&\\\n",
    "#     (test['REQUESTED_DATE_TIME'].dt.year==2011)&\\\n",
    "#     (test['ab_name']=='哌拉西林/他唑巴坦')].REQUESTED_DATE_TIME.drop_duplicates().sort_values(ascending = False).shape"
   ]
  },
  {
   "cell_type": "code",
   "execution_count": 60,
   "id": "011956de",
   "metadata": {
    "ExecuteTime": {
     "end_time": "2021-10-16T15:44:11.218685Z",
     "start_time": "2021-10-16T15:44:10.567553Z"
    },
    "execution": {
     "iopub.execute_input": "2023-12-29T02:01:55.288413Z",
     "iopub.status.busy": "2023-12-29T02:01:55.287880Z",
     "iopub.status.idle": "2023-12-29T02:01:55.596659Z",
     "shell.execute_reply": "2023-12-29T02:01:55.595085Z",
     "shell.execute_reply.started": "2023-12-29T02:01:55.288363Z"
    }
   },
   "outputs": [],
   "source": [
    "culture_ant = pd.merge(culture, ab_test_final, how = 'left', on = ['PATIENT_ID', 'SPECIMEN', 'REQUESTED_DATE_TIME',\n",
    "       'RESULTS_RPT_DATE_TIME',  'micro_name'])"
   ]
  },
  {
   "cell_type": "code",
   "execution_count": 61,
   "id": "291283d7",
   "metadata": {
    "ExecuteTime": {
     "end_time": "2021-10-16T15:44:11.950459Z",
     "start_time": "2021-10-16T15:44:11.222666Z"
    },
    "execution": {
     "iopub.execute_input": "2023-12-29T02:01:55.729576Z",
     "iopub.status.busy": "2023-12-29T02:01:55.728418Z",
     "iopub.status.idle": "2023-12-29T02:01:55.937464Z",
     "shell.execute_reply": "2023-12-29T02:01:55.935895Z",
     "shell.execute_reply.started": "2023-12-29T02:01:55.729521Z"
    }
   },
   "outputs": [],
   "source": [
    "culture_ant = pd.merge(culture_ant.drop(columns = ['org_category']),micro_abtest_sel, how = 'left', on = 'micro_name')"
   ]
  },
  {
   "cell_type": "code",
   "execution_count": 62,
   "id": "3f608e6c",
   "metadata": {
    "ExecuteTime": {
     "end_time": "2021-10-16T15:44:12.232637Z",
     "start_time": "2021-10-16T15:44:12.066303Z"
    },
    "execution": {
     "iopub.execute_input": "2023-12-29T02:01:56.355787Z",
     "iopub.status.busy": "2023-12-29T02:01:56.354575Z",
     "iopub.status.idle": "2023-12-29T02:01:56.479882Z",
     "shell.execute_reply": "2023-12-29T02:01:56.478387Z",
     "shell.execute_reply.started": "2023-12-29T02:01:56.355730Z"
    }
   },
   "outputs": [
    {
     "data": {
      "text/plain": [
       "43444"
      ]
     },
     "execution_count": 62,
     "metadata": {},
     "output_type": "execute_result"
    }
   ],
   "source": [
    "culture_ant[(~pd.isna(culture_ant['org_category']))&(pd.isna(culture_ant['interpretation_final']))].TEST_NO.drop_duplicates().count()"
   ]
  },
  {
   "cell_type": "code",
   "execution_count": 63,
   "id": "4ebb6cb8",
   "metadata": {
    "ExecuteTime": {
     "end_time": "2021-10-16T15:44:13.396127Z",
     "start_time": "2021-10-16T15:44:13.328369Z"
    },
    "execution": {
     "iopub.execute_input": "2023-12-29T02:01:58.113877Z",
     "iopub.status.busy": "2023-12-29T02:01:58.112651Z",
     "iopub.status.idle": "2023-12-29T02:01:58.153215Z",
     "shell.execute_reply": "2023-12-29T02:01:58.152279Z",
     "shell.execute_reply.started": "2023-12-29T02:01:58.113821Z"
    }
   },
   "outputs": [
    {
     "data": {
      "text/plain": [
       "185331"
      ]
     },
     "execution_count": 63,
     "metadata": {},
     "output_type": "execute_result"
    }
   ],
   "source": [
    "culture_ant.TEST_NO.drop_duplicates().count()"
   ]
  },
  {
   "cell_type": "code",
   "execution_count": 64,
   "id": "9f8e6f7b",
   "metadata": {
    "ExecuteTime": {
     "end_time": "2021-10-16T15:44:21.452231Z",
     "start_time": "2021-10-16T15:44:21.206252Z"
    },
    "execution": {
     "iopub.execute_input": "2023-12-29T02:01:59.166435Z",
     "iopub.status.busy": "2023-12-29T02:01:59.165890Z",
     "iopub.status.idle": "2023-12-29T02:01:59.292320Z",
     "shell.execute_reply": "2023-12-29T02:01:59.291256Z",
     "shell.execute_reply.started": "2023-12-29T02:01:59.166385Z"
    }
   },
   "outputs": [],
   "source": [
    "mdr_cal = ab_test_final[['PATIENT_ID','SPECIMEN','REQUESTED_DATE_TIME','RESULTS_RPT_DATE_TIME','micro_name','org_category', 'ab_name','interpretation_final']].drop_duplicates()"
   ]
  },
  {
   "cell_type": "code",
   "execution_count": 65,
   "id": "83d19e9f",
   "metadata": {
    "ExecuteTime": {
     "end_time": "2021-10-16T15:45:12.670907Z",
     "start_time": "2021-10-16T15:45:11.303931Z"
    },
    "execution": {
     "iopub.execute_input": "2023-12-29T02:01:59.927979Z",
     "iopub.status.busy": "2023-12-29T02:01:59.927443Z",
     "iopub.status.idle": "2023-12-29T02:02:00.756446Z",
     "shell.execute_reply": "2023-12-29T02:02:00.754914Z",
     "shell.execute_reply.started": "2023-12-29T02:01:59.927928Z"
    }
   },
   "outputs": [],
   "source": [
    "MDR_CAL_cha = mdr_cal.set_index(['PATIENT_ID','SPECIMEN','REQUESTED_DATE_TIME','RESULTS_RPT_DATE_TIME','micro_name','org_category', 'ab_name'], append = True).unstack(-1).reset_index()"
   ]
  },
  {
   "cell_type": "code",
   "execution_count": 66,
   "id": "0d40f582",
   "metadata": {
    "ExecuteTime": {
     "end_time": "2021-10-16T15:45:21.027833Z",
     "start_time": "2021-10-16T15:45:20.736118Z"
    },
    "execution": {
     "iopub.execute_input": "2023-12-29T02:02:01.208085Z",
     "iopub.status.busy": "2023-12-29T02:02:01.207542Z",
     "iopub.status.idle": "2023-12-29T02:02:01.507430Z",
     "shell.execute_reply": "2023-12-29T02:02:01.506163Z",
     "shell.execute_reply.started": "2023-12-29T02:02:01.208033Z"
    }
   },
   "outputs": [],
   "source": [
    "MDR_CAL_cha = MDR_CAL_cha.iloc[:,1:]\n",
    "MDR_CAL_cha.columns = ['PATIENT_ID','SPECIMEN','REQUESTED_DATE_TIME','RESULTS_RPT_DATE_TIME','micro_name','org_category'] + MDR_CAL_cha['interpretation_final'].columns.to_list()"
   ]
  },
  {
   "cell_type": "code",
   "execution_count": 67,
   "id": "4f524fc0",
   "metadata": {
    "ExecuteTime": {
     "end_time": "2021-10-16T15:45:36.647341Z",
     "start_time": "2021-10-16T15:45:36.593576Z"
    },
    "execution": {
     "iopub.execute_input": "2023-12-29T02:02:02.655880Z",
     "iopub.status.busy": "2023-12-29T02:02:02.654423Z",
     "iopub.status.idle": "2023-12-29T02:02:02.687931Z",
     "shell.execute_reply": "2023-12-29T02:02:02.686619Z",
     "shell.execute_reply.started": "2023-12-29T02:02:02.655824Z"
    }
   },
   "outputs": [
    {
     "data": {
      "text/html": [
       "<div>\n",
       "<style scoped>\n",
       "    .dataframe tbody tr th:only-of-type {\n",
       "        vertical-align: middle;\n",
       "    }\n",
       "\n",
       "    .dataframe tbody tr th {\n",
       "        vertical-align: top;\n",
       "    }\n",
       "\n",
       "    .dataframe thead th {\n",
       "        text-align: right;\n",
       "    }\n",
       "</style>\n",
       "<table border=\"1\" class=\"dataframe\">\n",
       "  <thead>\n",
       "    <tr style=\"text-align: right;\">\n",
       "      <th></th>\n",
       "      <th>PATIENT_ID</th>\n",
       "      <th>SPECIMEN</th>\n",
       "      <th>REQUESTED_DATE_TIME</th>\n",
       "      <th>RESULTS_RPT_DATE_TIME</th>\n",
       "      <th>micro_name</th>\n",
       "      <th>org_category</th>\n",
       "      <th>万古霉素</th>\n",
       "      <th>亚胺培南</th>\n",
       "      <th>克林霉素</th>\n",
       "      <th>利奈唑胺</th>\n",
       "      <th>利福平</th>\n",
       "      <th>厄它培南</th>\n",
       "      <th>哌拉西林</th>\n",
       "      <th>哌拉西林/他唑巴坦</th>\n",
       "      <th>喹努普汀/达福普汀</th>\n",
       "      <th>四环素</th>\n",
       "      <th>复方新诺明</th>\n",
       "      <th>头孢他啶</th>\n",
       "      <th>头孢吡肟</th>\n",
       "      <th>头孢呋辛</th>\n",
       "      <th>头孢呋辛酯</th>\n",
       "      <th>头孢唑啉</th>\n",
       "      <th>头孢曲松</th>\n",
       "      <th>头孢替坦</th>\n",
       "      <th>头孢西丁</th>\n",
       "      <th>妥布霉素</th>\n",
       "      <th>左旋氧氟沙星</th>\n",
       "      <th>庆大霉素</th>\n",
       "      <th>替加环素</th>\n",
       "      <th>替考拉宁</th>\n",
       "      <th>氨曲南</th>\n",
       "      <th>氨苄西林</th>\n",
       "      <th>氨苄西林/舒巴坦</th>\n",
       "      <th>环丙沙星</th>\n",
       "      <th>磷霉素</th>\n",
       "      <th>米诺环素</th>\n",
       "      <th>红霉素</th>\n",
       "      <th>美洛培南</th>\n",
       "      <th>苯唑西林</th>\n",
       "      <th>苯唑青霉素</th>\n",
       "      <th>莫西沙星</th>\n",
       "      <th>阿米卡星</th>\n",
       "      <th>阿莫西林/棒酸</th>\n",
       "      <th>青霉素</th>\n",
       "      <th>青霉素G</th>\n",
       "      <th>高水平庆大霉素</th>\n",
       "      <th>高水平链霉素</th>\n",
       "    </tr>\n",
       "  </thead>\n",
       "  <tbody>\n",
       "    <tr>\n",
       "      <th>0</th>\n",
       "      <td>S110889698</td>\n",
       "      <td>痰</td>\n",
       "      <td>2010-04-14 14:53:00</td>\n",
       "      <td>2010-04-17 06:49:15</td>\n",
       "      <td>铜绿假单胞菌</td>\n",
       "      <td>Pseudomonas aeruginosa</td>\n",
       "      <td>NaN</td>\n",
       "      <td>NaN</td>\n",
       "      <td>NaN</td>\n",
       "      <td>NaN</td>\n",
       "      <td>NaN</td>\n",
       "      <td>NaN</td>\n",
       "      <td>NaN</td>\n",
       "      <td>NaN</td>\n",
       "      <td>NaN</td>\n",
       "      <td>NaN</td>\n",
       "      <td>NaN</td>\n",
       "      <td>NaN</td>\n",
       "      <td>NaN</td>\n",
       "      <td>NaN</td>\n",
       "      <td>NaN</td>\n",
       "      <td>NaN</td>\n",
       "      <td>NaN</td>\n",
       "      <td>NaN</td>\n",
       "      <td>NaN</td>\n",
       "      <td>NaN</td>\n",
       "      <td>NaN</td>\n",
       "      <td>NaN</td>\n",
       "      <td>NaN</td>\n",
       "      <td>NaN</td>\n",
       "      <td>NaN</td>\n",
       "      <td>NaN</td>\n",
       "      <td>NaN</td>\n",
       "      <td>NaN</td>\n",
       "      <td>NaN</td>\n",
       "      <td>NaN</td>\n",
       "      <td>NaN</td>\n",
       "      <td>NaN</td>\n",
       "      <td>NaN</td>\n",
       "      <td>NaN</td>\n",
       "      <td>NaN</td>\n",
       "      <td>S</td>\n",
       "      <td>NaN</td>\n",
       "      <td>NaN</td>\n",
       "      <td>NaN</td>\n",
       "      <td>NaN</td>\n",
       "      <td>NaN</td>\n",
       "    </tr>\n",
       "    <tr>\n",
       "      <th>1</th>\n",
       "      <td>S110889698</td>\n",
       "      <td>痰</td>\n",
       "      <td>2010-04-14 14:53:00</td>\n",
       "      <td>2010-04-17 06:49:15</td>\n",
       "      <td>铜绿假单胞菌</td>\n",
       "      <td>Pseudomonas aeruginosa</td>\n",
       "      <td>NaN</td>\n",
       "      <td>NaN</td>\n",
       "      <td>NaN</td>\n",
       "      <td>NaN</td>\n",
       "      <td>NaN</td>\n",
       "      <td>NaN</td>\n",
       "      <td>NaN</td>\n",
       "      <td>NaN</td>\n",
       "      <td>NaN</td>\n",
       "      <td>NaN</td>\n",
       "      <td>NaN</td>\n",
       "      <td>S</td>\n",
       "      <td>NaN</td>\n",
       "      <td>NaN</td>\n",
       "      <td>NaN</td>\n",
       "      <td>NaN</td>\n",
       "      <td>NaN</td>\n",
       "      <td>NaN</td>\n",
       "      <td>NaN</td>\n",
       "      <td>NaN</td>\n",
       "      <td>NaN</td>\n",
       "      <td>NaN</td>\n",
       "      <td>NaN</td>\n",
       "      <td>NaN</td>\n",
       "      <td>NaN</td>\n",
       "      <td>NaN</td>\n",
       "      <td>NaN</td>\n",
       "      <td>NaN</td>\n",
       "      <td>NaN</td>\n",
       "      <td>NaN</td>\n",
       "      <td>NaN</td>\n",
       "      <td>NaN</td>\n",
       "      <td>NaN</td>\n",
       "      <td>NaN</td>\n",
       "      <td>NaN</td>\n",
       "      <td>NaN</td>\n",
       "      <td>NaN</td>\n",
       "      <td>NaN</td>\n",
       "      <td>NaN</td>\n",
       "      <td>NaN</td>\n",
       "      <td>NaN</td>\n",
       "    </tr>\n",
       "    <tr>\n",
       "      <th>2</th>\n",
       "      <td>S110889698</td>\n",
       "      <td>痰</td>\n",
       "      <td>2010-04-14 14:53:00</td>\n",
       "      <td>2010-04-17 06:49:15</td>\n",
       "      <td>铜绿假单胞菌</td>\n",
       "      <td>Pseudomonas aeruginosa</td>\n",
       "      <td>NaN</td>\n",
       "      <td>NaN</td>\n",
       "      <td>NaN</td>\n",
       "      <td>NaN</td>\n",
       "      <td>NaN</td>\n",
       "      <td>NaN</td>\n",
       "      <td>NaN</td>\n",
       "      <td>NaN</td>\n",
       "      <td>NaN</td>\n",
       "      <td>NaN</td>\n",
       "      <td>NaN</td>\n",
       "      <td>NaN</td>\n",
       "      <td>S</td>\n",
       "      <td>NaN</td>\n",
       "      <td>NaN</td>\n",
       "      <td>NaN</td>\n",
       "      <td>NaN</td>\n",
       "      <td>NaN</td>\n",
       "      <td>NaN</td>\n",
       "      <td>NaN</td>\n",
       "      <td>NaN</td>\n",
       "      <td>NaN</td>\n",
       "      <td>NaN</td>\n",
       "      <td>NaN</td>\n",
       "      <td>NaN</td>\n",
       "      <td>NaN</td>\n",
       "      <td>NaN</td>\n",
       "      <td>NaN</td>\n",
       "      <td>NaN</td>\n",
       "      <td>NaN</td>\n",
       "      <td>NaN</td>\n",
       "      <td>NaN</td>\n",
       "      <td>NaN</td>\n",
       "      <td>NaN</td>\n",
       "      <td>NaN</td>\n",
       "      <td>NaN</td>\n",
       "      <td>NaN</td>\n",
       "      <td>NaN</td>\n",
       "      <td>NaN</td>\n",
       "      <td>NaN</td>\n",
       "      <td>NaN</td>\n",
       "    </tr>\n",
       "    <tr>\n",
       "      <th>3</th>\n",
       "      <td>S110889698</td>\n",
       "      <td>痰</td>\n",
       "      <td>2010-04-14 14:53:00</td>\n",
       "      <td>2010-04-17 06:49:15</td>\n",
       "      <td>铜绿假单胞菌</td>\n",
       "      <td>Pseudomonas aeruginosa</td>\n",
       "      <td>NaN</td>\n",
       "      <td>NaN</td>\n",
       "      <td>NaN</td>\n",
       "      <td>NaN</td>\n",
       "      <td>NaN</td>\n",
       "      <td>NaN</td>\n",
       "      <td>NaN</td>\n",
       "      <td>NaN</td>\n",
       "      <td>NaN</td>\n",
       "      <td>NaN</td>\n",
       "      <td>NaN</td>\n",
       "      <td>NaN</td>\n",
       "      <td>NaN</td>\n",
       "      <td>NaN</td>\n",
       "      <td>NaN</td>\n",
       "      <td>NaN</td>\n",
       "      <td>NaN</td>\n",
       "      <td>NaN</td>\n",
       "      <td>NaN</td>\n",
       "      <td>NaN</td>\n",
       "      <td>NaN</td>\n",
       "      <td>NaN</td>\n",
       "      <td>NaN</td>\n",
       "      <td>NaN</td>\n",
       "      <td>I</td>\n",
       "      <td>NaN</td>\n",
       "      <td>NaN</td>\n",
       "      <td>NaN</td>\n",
       "      <td>NaN</td>\n",
       "      <td>NaN</td>\n",
       "      <td>NaN</td>\n",
       "      <td>NaN</td>\n",
       "      <td>NaN</td>\n",
       "      <td>NaN</td>\n",
       "      <td>NaN</td>\n",
       "      <td>NaN</td>\n",
       "      <td>NaN</td>\n",
       "      <td>NaN</td>\n",
       "      <td>NaN</td>\n",
       "      <td>NaN</td>\n",
       "      <td>NaN</td>\n",
       "    </tr>\n",
       "    <tr>\n",
       "      <th>4</th>\n",
       "      <td>S110889698</td>\n",
       "      <td>痰</td>\n",
       "      <td>2010-04-14 14:53:00</td>\n",
       "      <td>2010-04-17 06:49:15</td>\n",
       "      <td>铜绿假单胞菌</td>\n",
       "      <td>Pseudomonas aeruginosa</td>\n",
       "      <td>NaN</td>\n",
       "      <td>S</td>\n",
       "      <td>NaN</td>\n",
       "      <td>NaN</td>\n",
       "      <td>NaN</td>\n",
       "      <td>NaN</td>\n",
       "      <td>NaN</td>\n",
       "      <td>NaN</td>\n",
       "      <td>NaN</td>\n",
       "      <td>NaN</td>\n",
       "      <td>NaN</td>\n",
       "      <td>NaN</td>\n",
       "      <td>NaN</td>\n",
       "      <td>NaN</td>\n",
       "      <td>NaN</td>\n",
       "      <td>NaN</td>\n",
       "      <td>NaN</td>\n",
       "      <td>NaN</td>\n",
       "      <td>NaN</td>\n",
       "      <td>NaN</td>\n",
       "      <td>NaN</td>\n",
       "      <td>NaN</td>\n",
       "      <td>NaN</td>\n",
       "      <td>NaN</td>\n",
       "      <td>NaN</td>\n",
       "      <td>NaN</td>\n",
       "      <td>NaN</td>\n",
       "      <td>NaN</td>\n",
       "      <td>NaN</td>\n",
       "      <td>NaN</td>\n",
       "      <td>NaN</td>\n",
       "      <td>NaN</td>\n",
       "      <td>NaN</td>\n",
       "      <td>NaN</td>\n",
       "      <td>NaN</td>\n",
       "      <td>NaN</td>\n",
       "      <td>NaN</td>\n",
       "      <td>NaN</td>\n",
       "      <td>NaN</td>\n",
       "      <td>NaN</td>\n",
       "      <td>NaN</td>\n",
       "    </tr>\n",
       "    <tr>\n",
       "      <th>...</th>\n",
       "      <td>...</td>\n",
       "      <td>...</td>\n",
       "      <td>...</td>\n",
       "      <td>...</td>\n",
       "      <td>...</td>\n",
       "      <td>...</td>\n",
       "      <td>...</td>\n",
       "      <td>...</td>\n",
       "      <td>...</td>\n",
       "      <td>...</td>\n",
       "      <td>...</td>\n",
       "      <td>...</td>\n",
       "      <td>...</td>\n",
       "      <td>...</td>\n",
       "      <td>...</td>\n",
       "      <td>...</td>\n",
       "      <td>...</td>\n",
       "      <td>...</td>\n",
       "      <td>...</td>\n",
       "      <td>...</td>\n",
       "      <td>...</td>\n",
       "      <td>...</td>\n",
       "      <td>...</td>\n",
       "      <td>...</td>\n",
       "      <td>...</td>\n",
       "      <td>...</td>\n",
       "      <td>...</td>\n",
       "      <td>...</td>\n",
       "      <td>...</td>\n",
       "      <td>...</td>\n",
       "      <td>...</td>\n",
       "      <td>...</td>\n",
       "      <td>...</td>\n",
       "      <td>...</td>\n",
       "      <td>...</td>\n",
       "      <td>...</td>\n",
       "      <td>...</td>\n",
       "      <td>...</td>\n",
       "      <td>...</td>\n",
       "      <td>...</td>\n",
       "      <td>...</td>\n",
       "      <td>...</td>\n",
       "      <td>...</td>\n",
       "      <td>...</td>\n",
       "      <td>...</td>\n",
       "      <td>...</td>\n",
       "      <td>...</td>\n",
       "    </tr>\n",
       "    <tr>\n",
       "      <th>234992</th>\n",
       "      <td>S113598464</td>\n",
       "      <td>痰</td>\n",
       "      <td>2014-03-08 18:17:40</td>\n",
       "      <td>2014-03-11 01:43:43</td>\n",
       "      <td>鲍曼不动杆菌</td>\n",
       "      <td>Acinetobacter spp.</td>\n",
       "      <td>NaN</td>\n",
       "      <td>NaN</td>\n",
       "      <td>NaN</td>\n",
       "      <td>NaN</td>\n",
       "      <td>NaN</td>\n",
       "      <td>NaN</td>\n",
       "      <td>NaN</td>\n",
       "      <td>NaN</td>\n",
       "      <td>NaN</td>\n",
       "      <td>NaN</td>\n",
       "      <td>NaN</td>\n",
       "      <td>NaN</td>\n",
       "      <td>NaN</td>\n",
       "      <td>NaN</td>\n",
       "      <td>NaN</td>\n",
       "      <td>NaN</td>\n",
       "      <td>NaN</td>\n",
       "      <td>NaN</td>\n",
       "      <td>NaN</td>\n",
       "      <td>NaN</td>\n",
       "      <td>NaN</td>\n",
       "      <td>R</td>\n",
       "      <td>NaN</td>\n",
       "      <td>NaN</td>\n",
       "      <td>NaN</td>\n",
       "      <td>NaN</td>\n",
       "      <td>NaN</td>\n",
       "      <td>NaN</td>\n",
       "      <td>NaN</td>\n",
       "      <td>NaN</td>\n",
       "      <td>NaN</td>\n",
       "      <td>NaN</td>\n",
       "      <td>NaN</td>\n",
       "      <td>NaN</td>\n",
       "      <td>NaN</td>\n",
       "      <td>NaN</td>\n",
       "      <td>NaN</td>\n",
       "      <td>NaN</td>\n",
       "      <td>NaN</td>\n",
       "      <td>NaN</td>\n",
       "      <td>NaN</td>\n",
       "    </tr>\n",
       "    <tr>\n",
       "      <th>234993</th>\n",
       "      <td>S113598464</td>\n",
       "      <td>痰</td>\n",
       "      <td>2014-03-08 18:17:40</td>\n",
       "      <td>2014-03-11 01:43:43</td>\n",
       "      <td>鲍曼不动杆菌</td>\n",
       "      <td>Acinetobacter spp.</td>\n",
       "      <td>NaN</td>\n",
       "      <td>NaN</td>\n",
       "      <td>NaN</td>\n",
       "      <td>NaN</td>\n",
       "      <td>NaN</td>\n",
       "      <td>NaN</td>\n",
       "      <td>NaN</td>\n",
       "      <td>NaN</td>\n",
       "      <td>NaN</td>\n",
       "      <td>NaN</td>\n",
       "      <td>NaN</td>\n",
       "      <td>NaN</td>\n",
       "      <td>NaN</td>\n",
       "      <td>NaN</td>\n",
       "      <td>NaN</td>\n",
       "      <td>NaN</td>\n",
       "      <td>NaN</td>\n",
       "      <td>NaN</td>\n",
       "      <td>NaN</td>\n",
       "      <td>NaN</td>\n",
       "      <td>NaN</td>\n",
       "      <td>NaN</td>\n",
       "      <td>NaN</td>\n",
       "      <td>NaN</td>\n",
       "      <td>NaN</td>\n",
       "      <td>NaN</td>\n",
       "      <td>NaN</td>\n",
       "      <td>R</td>\n",
       "      <td>NaN</td>\n",
       "      <td>NaN</td>\n",
       "      <td>NaN</td>\n",
       "      <td>NaN</td>\n",
       "      <td>NaN</td>\n",
       "      <td>NaN</td>\n",
       "      <td>NaN</td>\n",
       "      <td>NaN</td>\n",
       "      <td>NaN</td>\n",
       "      <td>NaN</td>\n",
       "      <td>NaN</td>\n",
       "      <td>NaN</td>\n",
       "      <td>NaN</td>\n",
       "    </tr>\n",
       "    <tr>\n",
       "      <th>234994</th>\n",
       "      <td>S113598464</td>\n",
       "      <td>痰</td>\n",
       "      <td>2014-03-08 18:17:40</td>\n",
       "      <td>2014-03-11 01:43:43</td>\n",
       "      <td>鲍曼不动杆菌</td>\n",
       "      <td>Acinetobacter spp.</td>\n",
       "      <td>NaN</td>\n",
       "      <td>NaN</td>\n",
       "      <td>NaN</td>\n",
       "      <td>NaN</td>\n",
       "      <td>NaN</td>\n",
       "      <td>NaN</td>\n",
       "      <td>NaN</td>\n",
       "      <td>NaN</td>\n",
       "      <td>NaN</td>\n",
       "      <td>NaN</td>\n",
       "      <td>NaN</td>\n",
       "      <td>NaN</td>\n",
       "      <td>NaN</td>\n",
       "      <td>NaN</td>\n",
       "      <td>NaN</td>\n",
       "      <td>NaN</td>\n",
       "      <td>NaN</td>\n",
       "      <td>NaN</td>\n",
       "      <td>NaN</td>\n",
       "      <td>NaN</td>\n",
       "      <td>R</td>\n",
       "      <td>NaN</td>\n",
       "      <td>NaN</td>\n",
       "      <td>NaN</td>\n",
       "      <td>NaN</td>\n",
       "      <td>NaN</td>\n",
       "      <td>NaN</td>\n",
       "      <td>NaN</td>\n",
       "      <td>NaN</td>\n",
       "      <td>NaN</td>\n",
       "      <td>NaN</td>\n",
       "      <td>NaN</td>\n",
       "      <td>NaN</td>\n",
       "      <td>NaN</td>\n",
       "      <td>NaN</td>\n",
       "      <td>NaN</td>\n",
       "      <td>NaN</td>\n",
       "      <td>NaN</td>\n",
       "      <td>NaN</td>\n",
       "      <td>NaN</td>\n",
       "      <td>NaN</td>\n",
       "    </tr>\n",
       "    <tr>\n",
       "      <th>234995</th>\n",
       "      <td>S113598464</td>\n",
       "      <td>痰</td>\n",
       "      <td>2014-03-08 18:17:40</td>\n",
       "      <td>2014-03-11 01:43:43</td>\n",
       "      <td>鲍曼不动杆菌</td>\n",
       "      <td>Acinetobacter spp.</td>\n",
       "      <td>NaN</td>\n",
       "      <td>NaN</td>\n",
       "      <td>NaN</td>\n",
       "      <td>NaN</td>\n",
       "      <td>NaN</td>\n",
       "      <td>NaN</td>\n",
       "      <td>NaN</td>\n",
       "      <td>NaN</td>\n",
       "      <td>NaN</td>\n",
       "      <td>R</td>\n",
       "      <td>NaN</td>\n",
       "      <td>NaN</td>\n",
       "      <td>NaN</td>\n",
       "      <td>NaN</td>\n",
       "      <td>NaN</td>\n",
       "      <td>NaN</td>\n",
       "      <td>NaN</td>\n",
       "      <td>NaN</td>\n",
       "      <td>NaN</td>\n",
       "      <td>NaN</td>\n",
       "      <td>NaN</td>\n",
       "      <td>NaN</td>\n",
       "      <td>NaN</td>\n",
       "      <td>NaN</td>\n",
       "      <td>NaN</td>\n",
       "      <td>NaN</td>\n",
       "      <td>NaN</td>\n",
       "      <td>NaN</td>\n",
       "      <td>NaN</td>\n",
       "      <td>NaN</td>\n",
       "      <td>NaN</td>\n",
       "      <td>NaN</td>\n",
       "      <td>NaN</td>\n",
       "      <td>NaN</td>\n",
       "      <td>NaN</td>\n",
       "      <td>NaN</td>\n",
       "      <td>NaN</td>\n",
       "      <td>NaN</td>\n",
       "      <td>NaN</td>\n",
       "      <td>NaN</td>\n",
       "      <td>NaN</td>\n",
       "    </tr>\n",
       "    <tr>\n",
       "      <th>234996</th>\n",
       "      <td>S113598464</td>\n",
       "      <td>痰</td>\n",
       "      <td>2014-03-08 18:17:40</td>\n",
       "      <td>2014-03-11 01:43:43</td>\n",
       "      <td>鲍曼不动杆菌</td>\n",
       "      <td>Acinetobacter spp.</td>\n",
       "      <td>NaN</td>\n",
       "      <td>NaN</td>\n",
       "      <td>NaN</td>\n",
       "      <td>NaN</td>\n",
       "      <td>NaN</td>\n",
       "      <td>NaN</td>\n",
       "      <td>NaN</td>\n",
       "      <td>NaN</td>\n",
       "      <td>NaN</td>\n",
       "      <td>NaN</td>\n",
       "      <td>R</td>\n",
       "      <td>NaN</td>\n",
       "      <td>NaN</td>\n",
       "      <td>NaN</td>\n",
       "      <td>NaN</td>\n",
       "      <td>NaN</td>\n",
       "      <td>NaN</td>\n",
       "      <td>NaN</td>\n",
       "      <td>NaN</td>\n",
       "      <td>NaN</td>\n",
       "      <td>NaN</td>\n",
       "      <td>NaN</td>\n",
       "      <td>NaN</td>\n",
       "      <td>NaN</td>\n",
       "      <td>NaN</td>\n",
       "      <td>NaN</td>\n",
       "      <td>NaN</td>\n",
       "      <td>NaN</td>\n",
       "      <td>NaN</td>\n",
       "      <td>NaN</td>\n",
       "      <td>NaN</td>\n",
       "      <td>NaN</td>\n",
       "      <td>NaN</td>\n",
       "      <td>NaN</td>\n",
       "      <td>NaN</td>\n",
       "      <td>NaN</td>\n",
       "      <td>NaN</td>\n",
       "      <td>NaN</td>\n",
       "      <td>NaN</td>\n",
       "      <td>NaN</td>\n",
       "      <td>NaN</td>\n",
       "    </tr>\n",
       "  </tbody>\n",
       "</table>\n",
       "<p>234997 rows × 47 columns</p>\n",
       "</div>"
      ],
      "text/plain": [
       "        PATIENT_ID SPECIMEN REQUESTED_DATE_TIME RESULTS_RPT_DATE_TIME  \\\n",
       "0       S110889698        痰 2010-04-14 14:53:00   2010-04-17 06:49:15   \n",
       "1       S110889698        痰 2010-04-14 14:53:00   2010-04-17 06:49:15   \n",
       "2       S110889698        痰 2010-04-14 14:53:00   2010-04-17 06:49:15   \n",
       "3       S110889698        痰 2010-04-14 14:53:00   2010-04-17 06:49:15   \n",
       "4       S110889698        痰 2010-04-14 14:53:00   2010-04-17 06:49:15   \n",
       "...            ...      ...                 ...                   ...   \n",
       "234992  S113598464        痰 2014-03-08 18:17:40   2014-03-11 01:43:43   \n",
       "234993  S113598464        痰 2014-03-08 18:17:40   2014-03-11 01:43:43   \n",
       "234994  S113598464        痰 2014-03-08 18:17:40   2014-03-11 01:43:43   \n",
       "234995  S113598464        痰 2014-03-08 18:17:40   2014-03-11 01:43:43   \n",
       "234996  S113598464        痰 2014-03-08 18:17:40   2014-03-11 01:43:43   \n",
       "\n",
       "       micro_name            org_category 万古霉素 亚胺培南 克林霉素 利奈唑胺  利福平 厄它培南 哌拉西林  \\\n",
       "0          铜绿假单胞菌  Pseudomonas aeruginosa  NaN  NaN  NaN  NaN  NaN  NaN  NaN   \n",
       "1          铜绿假单胞菌  Pseudomonas aeruginosa  NaN  NaN  NaN  NaN  NaN  NaN  NaN   \n",
       "2          铜绿假单胞菌  Pseudomonas aeruginosa  NaN  NaN  NaN  NaN  NaN  NaN  NaN   \n",
       "3          铜绿假单胞菌  Pseudomonas aeruginosa  NaN  NaN  NaN  NaN  NaN  NaN  NaN   \n",
       "4          铜绿假单胞菌  Pseudomonas aeruginosa  NaN    S  NaN  NaN  NaN  NaN  NaN   \n",
       "...           ...                     ...  ...  ...  ...  ...  ...  ...  ...   \n",
       "234992     鲍曼不动杆菌      Acinetobacter spp.  NaN  NaN  NaN  NaN  NaN  NaN  NaN   \n",
       "234993     鲍曼不动杆菌      Acinetobacter spp.  NaN  NaN  NaN  NaN  NaN  NaN  NaN   \n",
       "234994     鲍曼不动杆菌      Acinetobacter spp.  NaN  NaN  NaN  NaN  NaN  NaN  NaN   \n",
       "234995     鲍曼不动杆菌      Acinetobacter spp.  NaN  NaN  NaN  NaN  NaN  NaN  NaN   \n",
       "234996     鲍曼不动杆菌      Acinetobacter spp.  NaN  NaN  NaN  NaN  NaN  NaN  NaN   \n",
       "\n",
       "       哌拉西林/他唑巴坦 喹努普汀/达福普汀  四环素 复方新诺明 头孢他啶 头孢吡肟 头孢呋辛 头孢呋辛酯 头孢唑啉 头孢曲松 头孢替坦  \\\n",
       "0            NaN       NaN  NaN   NaN  NaN  NaN  NaN   NaN  NaN  NaN  NaN   \n",
       "1            NaN       NaN  NaN   NaN    S  NaN  NaN   NaN  NaN  NaN  NaN   \n",
       "2            NaN       NaN  NaN   NaN  NaN    S  NaN   NaN  NaN  NaN  NaN   \n",
       "3            NaN       NaN  NaN   NaN  NaN  NaN  NaN   NaN  NaN  NaN  NaN   \n",
       "4            NaN       NaN  NaN   NaN  NaN  NaN  NaN   NaN  NaN  NaN  NaN   \n",
       "...          ...       ...  ...   ...  ...  ...  ...   ...  ...  ...  ...   \n",
       "234992       NaN       NaN  NaN   NaN  NaN  NaN  NaN   NaN  NaN  NaN  NaN   \n",
       "234993       NaN       NaN  NaN   NaN  NaN  NaN  NaN   NaN  NaN  NaN  NaN   \n",
       "234994       NaN       NaN  NaN   NaN  NaN  NaN  NaN   NaN  NaN  NaN  NaN   \n",
       "234995       NaN       NaN    R   NaN  NaN  NaN  NaN   NaN  NaN  NaN  NaN   \n",
       "234996       NaN       NaN  NaN     R  NaN  NaN  NaN   NaN  NaN  NaN  NaN   \n",
       "\n",
       "       头孢西丁 妥布霉素 左旋氧氟沙星 庆大霉素 替加环素 替考拉宁  氨曲南 氨苄西林 氨苄西林/舒巴坦 环丙沙星  磷霉素 米诺环素  红霉素  \\\n",
       "0       NaN  NaN    NaN  NaN  NaN  NaN  NaN  NaN      NaN  NaN  NaN  NaN  NaN   \n",
       "1       NaN  NaN    NaN  NaN  NaN  NaN  NaN  NaN      NaN  NaN  NaN  NaN  NaN   \n",
       "2       NaN  NaN    NaN  NaN  NaN  NaN  NaN  NaN      NaN  NaN  NaN  NaN  NaN   \n",
       "3       NaN  NaN    NaN  NaN  NaN  NaN    I  NaN      NaN  NaN  NaN  NaN  NaN   \n",
       "4       NaN  NaN    NaN  NaN  NaN  NaN  NaN  NaN      NaN  NaN  NaN  NaN  NaN   \n",
       "...     ...  ...    ...  ...  ...  ...  ...  ...      ...  ...  ...  ...  ...   \n",
       "234992  NaN  NaN    NaN    R  NaN  NaN  NaN  NaN      NaN  NaN  NaN  NaN  NaN   \n",
       "234993  NaN  NaN    NaN  NaN  NaN  NaN  NaN  NaN      NaN    R  NaN  NaN  NaN   \n",
       "234994  NaN  NaN      R  NaN  NaN  NaN  NaN  NaN      NaN  NaN  NaN  NaN  NaN   \n",
       "234995  NaN  NaN    NaN  NaN  NaN  NaN  NaN  NaN      NaN  NaN  NaN  NaN  NaN   \n",
       "234996  NaN  NaN    NaN  NaN  NaN  NaN  NaN  NaN      NaN  NaN  NaN  NaN  NaN   \n",
       "\n",
       "       美洛培南 苯唑西林 苯唑青霉素 莫西沙星 阿米卡星 阿莫西林/棒酸  青霉素 青霉素G 高水平庆大霉素 高水平链霉素  \n",
       "0       NaN  NaN   NaN  NaN    S     NaN  NaN  NaN     NaN    NaN  \n",
       "1       NaN  NaN   NaN  NaN  NaN     NaN  NaN  NaN     NaN    NaN  \n",
       "2       NaN  NaN   NaN  NaN  NaN     NaN  NaN  NaN     NaN    NaN  \n",
       "3       NaN  NaN   NaN  NaN  NaN     NaN  NaN  NaN     NaN    NaN  \n",
       "4       NaN  NaN   NaN  NaN  NaN     NaN  NaN  NaN     NaN    NaN  \n",
       "...     ...  ...   ...  ...  ...     ...  ...  ...     ...    ...  \n",
       "234992  NaN  NaN   NaN  NaN  NaN     NaN  NaN  NaN     NaN    NaN  \n",
       "234993  NaN  NaN   NaN  NaN  NaN     NaN  NaN  NaN     NaN    NaN  \n",
       "234994  NaN  NaN   NaN  NaN  NaN     NaN  NaN  NaN     NaN    NaN  \n",
       "234995  NaN  NaN   NaN  NaN  NaN     NaN  NaN  NaN     NaN    NaN  \n",
       "234996  NaN  NaN   NaN  NaN  NaN     NaN  NaN  NaN     NaN    NaN  \n",
       "\n",
       "[234997 rows x 47 columns]"
      ]
     },
     "execution_count": 67,
     "metadata": {},
     "output_type": "execute_result"
    }
   ],
   "source": [
    "MDR_CAL_cha"
   ]
  },
  {
   "cell_type": "code",
   "execution_count": 68,
   "id": "297ab0ac",
   "metadata": {
    "ExecuteTime": {
     "end_time": "2021-10-16T16:33:32.986090Z",
     "start_time": "2021-10-16T16:33:29.884758Z"
    },
    "execution": {
     "iopub.execute_input": "2023-12-29T02:02:04.567821Z",
     "iopub.status.busy": "2023-12-29T02:02:04.567286Z",
     "iopub.status.idle": "2023-12-29T02:02:06.436821Z",
     "shell.execute_reply": "2023-12-29T02:02:06.435471Z",
     "shell.execute_reply.started": "2023-12-29T02:02:04.567771Z"
    }
   },
   "outputs": [
    {
     "data": {
      "text/plain": [
       "(42, 2)"
      ]
     },
     "execution_count": 68,
     "metadata": {},
     "output_type": "execute_result"
    }
   ],
   "source": [
    "ab_test_merge = pd.merge(MDR_CAL_cha, icustay_detail, how = 'left', on = ['PATIENT_ID'])\n",
    "test = ab_test_merge[((ab_test_merge['REQUESTED_DATE_TIME'] - ab_test_merge['TF_ADMISSION_DATE_TIME']).dt.total_seconds()/3600>=-24)&\\\n",
    "         ((ab_test_merge['REQUESTED_DATE_TIME'] - ab_test_merge['TF_DISCHARGE_DATE_TIME']).dt.total_seconds()/(3600*24)<=0)]\n",
    "test[(test['ICU_TYPE'] == 'ICU') &\\\n",
    "     (test['micro_name'].str.contains('肺炎'))&\\\n",
    "     #(test['ab_allna']==0)&\\\n",
    "    (test['REQUESTED_DATE_TIME'].dt.year==2011)&\\\n",
    "    ((test['哌拉西林/他唑巴坦']=='S')|(test['哌拉西林/他唑巴坦']=='I')|(test['哌拉西林/他唑巴坦']=='R'))][['PATIENT_ID','REQUESTED_DATE_TIME']].drop_duplicates().shape"
   ]
  },
  {
   "cell_type": "code",
   "execution_count": 69,
   "id": "9ee5cde7",
   "metadata": {
    "ExecuteTime": {
     "end_time": "2021-10-16T15:52:32.560449Z",
     "start_time": "2021-10-16T15:52:30.312358Z"
    },
    "execution": {
     "iopub.execute_input": "2023-12-29T02:02:08.774505Z",
     "iopub.status.busy": "2023-12-29T02:02:08.773960Z",
     "iopub.status.idle": "2023-12-29T02:02:09.364480Z",
     "shell.execute_reply": "2023-12-29T02:02:09.362979Z",
     "shell.execute_reply.started": "2023-12-29T02:02:08.774454Z"
    }
   },
   "outputs": [],
   "source": [
    "MDR_CAL_cha['time_hour'] = MDR_CAL_cha.REQUESTED_DATE_TIME.dt.strftime(\"%Y-%m-%d %H\")"
   ]
  },
  {
   "cell_type": "code",
   "execution_count": 70,
   "id": "d5c101cd",
   "metadata": {
    "ExecuteTime": {
     "end_time": "2021-10-16T16:02:14.495284Z",
     "start_time": "2021-10-16T15:55:21.318337Z"
    },
    "execution": {
     "iopub.execute_input": "2023-12-29T02:02:10.853202Z",
     "iopub.status.busy": "2023-12-29T02:02:10.852632Z",
     "iopub.status.idle": "2023-12-29T02:06:43.075117Z",
     "shell.execute_reply": "2023-12-29T02:06:43.073403Z",
     "shell.execute_reply.started": "2023-12-29T02:02:10.853127Z"
    }
   },
   "outputs": [],
   "source": [
    "#进行转化为列之后的规整--相当于加和\n",
    "\n",
    "#抗生素的名称列表\n",
    "ab_list = ['万古霉素',\n",
    " '亚胺培南',\n",
    " '克林霉素',\n",
    " '利奈唑胺',\n",
    " '利福平',\n",
    " '厄它培南',\n",
    " '哌拉西林',\n",
    " '哌拉西林/他唑巴坦',\n",
    " '喹努普汀/达福普汀',\n",
    " '四环素',\n",
    " '复方新诺明',\n",
    " '头孢他啶',\n",
    " '头孢吡肟',\n",
    " '头孢呋辛',\n",
    " '头孢呋辛酯',\n",
    " '头孢唑啉',\n",
    " '头孢曲松',\n",
    " '头孢替坦',\n",
    " '头孢西丁',\n",
    " '妥布霉素',\n",
    " '左旋氧氟沙星',\n",
    " '庆大霉素',\n",
    " '替加环素',\n",
    " '替考拉宁',\n",
    " '氨曲南',\n",
    " '氨苄西林',\n",
    " '氨苄西林/舒巴坦',\n",
    " '环丙沙星',\n",
    " '磷霉素',\n",
    " '米诺环素',\n",
    " '红霉素',\n",
    " '美洛培南',\n",
    " '苯唑西林',\n",
    " '苯唑青霉素',\n",
    " '莫西沙星',\n",
    " '阿米卡星',\n",
    " '阿莫西林/棒酸',\n",
    " '青霉素',\n",
    " '青霉素G',\n",
    " '高水平庆大霉素',\n",
    " '高水平链霉素']\n",
    "\n",
    "#定义转化函数\n",
    "def ab_con(df):\n",
    "    for i in ab_list:\n",
    "        if (df[i]== 'S').any():\n",
    "            df[i] = 'S'\n",
    "        if (df[i]== 'I').any():\n",
    "            df[i] = 'I'\n",
    "        if (df[i]== 'R').any():\n",
    "            df[i] = 'R'\n",
    "    return df\n",
    "\n",
    "MDR_CAL_test = MDR_CAL_cha.copy()\n",
    "#grouped = MDR_CAL_test.groupby(['subject_id','micro_specimen_id','org_name'])\n",
    "MDR_CAL_test_re = MDR_CAL_test.groupby(['PATIENT_ID','SPECIMEN','time_hour','micro_name']).apply(ab_con)\n",
    "MDR_CAL_conc = MDR_CAL_test_re.drop_duplicates()"
   ]
  },
  {
   "cell_type": "code",
   "execution_count": 71,
   "id": "d4d26024",
   "metadata": {
    "ExecuteTime": {
     "end_time": "2021-10-16T16:05:50.921042Z",
     "start_time": "2021-10-16T16:05:50.912079Z"
    },
    "execution": {
     "iopub.execute_input": "2023-12-29T02:06:43.089372Z",
     "iopub.status.busy": "2023-12-29T02:06:43.089222Z",
     "iopub.status.idle": "2023-12-29T02:06:43.092184Z",
     "shell.execute_reply": "2023-12-29T02:06:43.091708Z",
     "shell.execute_reply.started": "2023-12-29T02:06:43.089358Z"
    }
   },
   "outputs": [],
   "source": [
    "# #进行转化为列之后的规整--相当于加和\n",
    "\n",
    "# #抗生素的名称列表\n",
    "# ab_list = MDR_CAL_cha.columns.to_list()\n",
    "# del ab_list[0:6]\n",
    "\n",
    "# #定义转化函数\n",
    "# def ab_con(df):\n",
    "#     for i in ab_list:\n",
    "#         if (df[i]== 'S').any():\n",
    "#             df[i] = 'S'\n",
    "#         elif (df[i]== 'I').any():\n",
    "#             df[i] = 'I'\n",
    "#         elif (df[i]== 'R').any():\n",
    "#             df[i] = 'R'\n",
    "#         else:\n",
    "#             df[i] = np.nan\n",
    "#     return df\n",
    "\n",
    "# MDR_CAL_test = MDR_CAL_cha.copy()\n",
    "# #grouped = MDR_CAL_test.groupby(['subject_id','micro_specimen_id','org_name'])\n",
    "# MDR_CAL_test_re = MDR_CAL_test.groupby(['PATIENT_ID','SPECIMEN','REQUESTED_DATE_TIME','RESULTS_RPT_DATE_TIME','micro_name','org_category']).apply(ab_con)\n",
    "# MDR_CAL_conc = MDR_CAL_test_re.drop_duplicates()"
   ]
  },
  {
   "cell_type": "code",
   "execution_count": 72,
   "id": "7fdefa93",
   "metadata": {
    "ExecuteTime": {
     "end_time": "2021-10-16T16:05:51.284997Z",
     "start_time": "2021-10-16T16:05:51.271058Z"
    },
    "execution": {
     "iopub.execute_input": "2023-12-29T02:06:43.093722Z",
     "iopub.status.busy": "2023-12-29T02:06:43.093468Z",
     "iopub.status.idle": "2023-12-29T02:06:43.098109Z",
     "shell.execute_reply": "2023-12-29T02:06:43.097626Z",
     "shell.execute_reply.started": "2023-12-29T02:06:43.093705Z"
    }
   },
   "outputs": [],
   "source": [
    "#5个不同组别的微生物的名称\n",
    "org_pieces = dict(list(micro_abtest_sel['micro_name'].groupby(micro_abtest_sel['org_category'])))\n",
    "\n",
    "St_name = org_pieces['Staphylococcus aureus'].tolist()\n",
    "Eb_name = org_pieces['Enterobacteriaceae'].tolist()\n",
    "Ec_name = org_pieces['Enterococcus spp.'].tolist()\n",
    "Ps_name = org_pieces['Pseudomonas aeruginosa'].tolist()\n",
    "Ac_name = org_pieces['Acinetobacter spp.'].tolist()"
   ]
  },
  {
   "cell_type": "code",
   "execution_count": 73,
   "id": "d3107bf9",
   "metadata": {
    "ExecuteTime": {
     "end_time": "2021-10-16T16:05:51.810275Z",
     "start_time": "2021-10-16T16:05:51.798325Z"
    },
    "execution": {
     "iopub.execute_input": "2023-12-29T02:06:43.099126Z",
     "iopub.status.busy": "2023-12-29T02:06:43.098971Z",
     "iopub.status.idle": "2023-12-29T02:06:43.103627Z",
     "shell.execute_reply": "2023-12-29T02:06:43.103150Z",
     "shell.execute_reply.started": "2023-12-29T02:06:43.099112Z"
    }
   },
   "outputs": [],
   "source": [
    "Eb_exc_amino_list = ['雷氏普罗威登斯菌', '普罗威登斯菌属']\n",
    "# Eb_exc_cefazolin_list = [\n",
    "# ]\n",
    "Eb_exc_cefuroxime_list = [\n",
    "    '摩氏摩根菌','摩氏摩根菌摩根亚种','奇异变形菌', '彭氏变形菌', '普通变形菌',\n",
    "    '普通变形菌群','普通变形菌群/彭氏变', '粘质沙雷菌'\n",
    "]\n",
    "Eb_exc_cefotetan_list = [\n",
    " '弗氏柠檬酸杆菌','产气肠杆菌','阴沟肠杆菌'\n",
    "]\n",
    "Eb_exc_tigecycline_list = [\n",
    " '摩氏摩根菌','摩氏摩根菌摩根亚种','彭氏变形菌', '普通变形菌',\n",
    "    '普通变形菌群','普通变形菌群/彭氏变','雷氏普罗威登斯菌', '普罗威登斯菌属'\n",
    "]\n",
    "Eb_exc_ampicillin_list = [\n",
    "    '克氏柠檬酸杆菌', '弗氏柠檬酸杆菌',\n",
    "    '产气肠杆菌', '阴沟肠杆菌', '肺炎克雷伯菌','肺炎克雷伯菌肺炎亚种','肺炎克雷伯菌臭鼻亚种',\n",
    "    '摩氏摩根菌','摩氏摩根菌摩根亚种', '彭氏变形菌', '普通变形菌',\n",
    "    '普通变形菌群','普通变形菌群/彭氏变','雷氏普罗威登斯菌', '普罗威登斯菌属', '粘质沙雷菌'\n",
    "]\n",
    "\n",
    "Eb_exc_amoxicillin_list = [\n",
    " '弗氏柠檬酸杆菌','产气肠杆菌', '阴沟肠杆菌',\n",
    "    '摩氏摩根菌','摩氏摩根菌摩根亚种', '雷氏普罗威登斯菌', '普罗威登斯菌属', '粘质沙雷菌'\n",
    "]\n",
    "Eb_exc_ampicillinsulbactam_list = [\n",
    "'弗氏柠檬酸杆菌','克氏柠檬酸杆菌', '产气肠杆菌', '阴沟肠杆菌',\n",
    "   '摩氏摩根菌摩根亚种', '雷氏普罗威登斯菌',  '粘质沙雷菌'\n",
    "]\n",
    "Eb_exc_teracycline_list = [\n",
    " '摩氏摩根菌','摩氏摩根菌摩根亚种','彭氏变形菌', '普通变形菌',\n",
    "    '普通变形菌群','普通变形菌群/彭氏变','雷氏普罗威登斯菌', '普罗威登斯菌属'\n",
    "]"
   ]
  },
  {
   "cell_type": "code",
   "execution_count": 74,
   "id": "c1072037",
   "metadata": {
    "ExecuteTime": {
     "end_time": "2021-10-16T16:06:02.865806Z",
     "start_time": "2021-10-16T16:06:02.680617Z"
    },
    "execution": {
     "iopub.execute_input": "2023-12-29T02:06:43.104746Z",
     "iopub.status.busy": "2023-12-29T02:06:43.104522Z",
     "iopub.status.idle": "2023-12-29T02:06:43.133368Z",
     "shell.execute_reply": "2023-12-29T02:06:43.132318Z",
     "shell.execute_reply.started": "2023-12-29T02:06:43.104730Z"
    }
   },
   "outputs": [],
   "source": [
    "def MDR(df):\n",
    "    #金黄色葡萄球菌\n",
    "    if df['micro_name'] in St_name:\n",
    "        St_dict = {}\n",
    "        St_sum = 0\n",
    "        St_ab_list = []\n",
    "        #氨基糖苷-庆大霉素\n",
    "        if df['庆大霉素'] == 'I' or df['庆大霉素'] == 'R':\n",
    "            St_dict['Aminoglycosides'] = 1\n",
    "        #安沙霉素-利福平\n",
    "        if df['利福平'] == 'I' or df['利福平'] == 'R':\n",
    "            St_dict['Ansamycins'] = 1\n",
    "        #抗MRSA 头孢菌素类    \n",
    "        #抗葡萄球菌β内酰胺或头孢\n",
    "        if (df[['苯唑西林',  '替加环素', '头孢呋辛', '头孢唑啉', '青霉素',  '头孢西丁',\\\n",
    "                '青霉素G','苯唑青霉素','氨苄西林/舒巴坦',  '厄它培南', '头孢吡肟',\\\n",
    "                '哌拉西林', '头孢他啶', '亚胺培南', '美洛培南']] == 'I').any() or \\\n",
    "            (df[['苯唑西林',  '替加环素', '头孢呋辛', '头孢唑啉', '青霉素',  '头孢西丁',\\\n",
    "                '青霉素G','苯唑青霉素','氨苄西林/舒巴坦',  '厄它培南', '头孢吡肟',\\\n",
    "                '哌拉西林', '头孢他啶', '亚胺培南', '美洛培南']] == 'R').any():\n",
    "            St_dict['LactamsCephamycins'] = 1\n",
    "        #氟喹诺酮-环丙沙星、莫西沙星\n",
    "        if (df[['环丙沙星','莫西沙星']]=='I').any() or (df[['环丙沙星','莫西沙星']]=='R').any():\n",
    "            St_dict['Fluoroquinolones'] = 1\n",
    "        #叶酸途径抑制剂-甲氧苄啶 复方新诺明\n",
    "        if df['复方新诺明']=='I' or df['复方新诺明']=='R':\n",
    "            St_dict['Folate'] = 1\n",
    "        #Fucidanes\n",
    "        #糖肽类-万古霉素\n",
    "        if df['万古霉素'] == 'I' or df['万古霉素'] == 'R':\n",
    "            St_dict['Glycopeptides'] = 1\n",
    "        #甘氨环素\n",
    "        if df['替加环素'] == 'I' or df['替加环素'] == 'R':\n",
    "            St_dict['Glycylcyclines'] = 1\n",
    "        #林可酰胺类-克林霉素\n",
    "        if df['克林霉素'] == 'I' or df['克林霉素'] == 'R':\n",
    "            St_dict['Lincosamides'] = 1\n",
    "        #脂肽类-达托霉素\n",
    "#         if df['达托霉素'] == 'I' or df['达托霉素'] == 'R':\n",
    "#             St_dict['Lipopeptides'] = 1\n",
    "        #大环内酯类-红霉素\n",
    "        if df['红霉素'] == 'I' or df['红霉素'] == 'R':\n",
    "            St_dict['Macrolides'] = 1\n",
    "        #恶唑烷酮类-利奈唑胺\n",
    "        if df['利奈唑胺'] == 'I' or df['利奈唑胺'] == 'R':\n",
    "            St_dict['Oxazolidinones'] = 1\n",
    "        #苯丙醇类\n",
    "        #磷酶酸类\n",
    "        if df['磷霉素'] == 'I' or df['磷霉素'] == 'R':\n",
    "            St_dict['Phosphonic_acids'] = 1       \n",
    "        #链阳霉素类\n",
    "        if df['喹努普汀/达福普汀'] == 'I' or df['喹努普汀/达福普汀'] == 'R':\n",
    "            St_dict['Streptogramins'] = 1\n",
    "        #四环素类-四环素\n",
    "        if df['四环素'] == 'I' or df['四环素'] == 'R':\n",
    "            St_dict['Tetracyclines'] = 1\n",
    "\n",
    "        for i in St_dict:\n",
    "            St_sum += St_dict[i]\n",
    "            St_ab_list.append(i)\n",
    "        if St_sum>=3:\n",
    "            return \";\".join(St_ab_list), 1\n",
    "        else:\n",
    "            return \";\".join(St_ab_list), 0\n",
    "    #肠球菌\n",
    "    elif df['micro_name'] in Ec_name:\n",
    "        Ec_dict = {}\n",
    "        Ec_sum = 0\n",
    "        Ec_ab_list = []\n",
    "        #氨基糖苷-高浓度庆大霉素\n",
    "        if df['高水平庆大霉素'] == 'I' or df['高水平庆大霉素'] == 'R':\n",
    "            Ec_dict['Aminoglycosides'] = 1        \n",
    "        #链霉素-链霉素\n",
    "        if df['高水平链霉素'] == 'I' or df['高水平链霉素'] == 'R':\n",
    "            Ec_dict['Streptomycin'] = 1            \n",
    "        #碳青霉烯类-亚胺培南、美罗培南\n",
    "        if (df[['亚胺培南','美洛培南']] == 'I').any() or \\\n",
    "                (df[['亚胺培南','美洛培南']] == 'R').any():\n",
    "            if df['micro_name'] != '屎肠球菌': #只有不是屎肠球菌才执行这条命令。如果是屎肠球菌，则跳过，字典里不会纳入碳青霉烯类的信息。\n",
    "                Ec_dict['Carbapenems'] = 1\n",
    "        #氟喹诺酮-环丙沙星、左氧氟沙星、莫西沙星\n",
    "        if (df[['环丙沙星', '左旋氧氟沙星', '莫西沙星']]=='I').any() or \\\n",
    "                (df[['环丙沙星', '左旋氧氟沙星', '莫西沙星']]=='R').any():\n",
    "            Ec_dict['Fluroquinolones'] = 1\n",
    "        #糖肽类-万古霉素\n",
    "        if (df[['万古霉素', '替考拉宁']] == 'I').any() or (df[['万古霉素', '替考拉宁']] == 'R').any():\n",
    "            Ec_dict['Glycopeptides'] = 1\n",
    "        #甘氨环素类\n",
    "        if df['替加环素'] == 'I' or df['替加环素'] == 'R':\n",
    "            Ec_dict['Glycylcyclines'] = 1           \n",
    "        #脂肽类-达托霉素\n",
    "#         if df['达托霉素'] == 'I' or df['达托霉素'] == 'R':\n",
    "#             Ec_dict['Lipopeptides'] = 1\n",
    "        #恶唑烷酮类-利奈唑胺\n",
    "        if df['利奈唑胺'] == 'I' or df['利奈唑胺'] == 'R':\n",
    "            Ec_dict['Oxazolidinones'] = 1\n",
    "        #青霉素类-氨苄西林\n",
    "        if df['氨苄西林'] == 'I' or df['氨苄西林'] == 'R':\n",
    "            Ec_dict['Penicillins'] = 1\n",
    "        #链阳霉素类\n",
    "        if df['喹努普汀/达福普汀'] == 'I' or df['喹努普汀/达福普汀'] == 'R':\n",
    "            if df['micro_name'] != '粪肠球菌':\n",
    "                Ec_dict['Streptogramins'] = 1\n",
    "        #四环素类\n",
    "#         if df['TETRACYCLINE'] == 'I' or df['TETRACYCLINE'] == 'R':\n",
    "#                 Ec_dict['Tetracyclines'] = 1\n",
    "\n",
    "        for i in Ec_dict:\n",
    "            Ec_sum += Ec_dict[i]\n",
    "            Ec_ab_list.append(i)\n",
    "        if Ec_sum>=3:\n",
    "            return \";\".join(Ec_ab_list), 1\n",
    "        else:\n",
    "            return \";\".join(Ec_ab_list), 0\n",
    "    #肠杆菌\n",
    "    elif df['micro_name'] in Eb_name:\n",
    "        Eb_dict = {}\n",
    "        Eb_sum = 0\n",
    "        Eb_ab_list = []\n",
    "        #氨基糖苷-庆大霉素、妥布霉素、阿米卡星\n",
    "        if (df[['庆大霉素', '妥布霉素']] == 'I').any() \\\n",
    "            or (df[['庆大霉素', '妥布霉素']] == 'R').any():\n",
    "            if df['micro_name'] not in Eb_exc_amino_list:\n",
    "                Eb_dict['Aminoglycosides'] = 1\n",
    "        if df['阿米卡星'] == 'I' or df['阿米卡星'] == 'R':\n",
    "            Eb_dict['Aminoglycosides'] = 1\n",
    "        #抗MRSA头孢-头孢洛林\n",
    "        #抗假单胞菌青霉素+β-内酰胺酶抑制剂 - 哌拉西林-他唑巴坦\n",
    "        if df['哌拉西林/他唑巴坦'] == 'I' or df['哌拉西林/他唑巴坦'] == 'R':\n",
    "            Eb_dict['AntiPenicillins&Lactamaseinhibitors'] = 1\n",
    "        #碳青霉烯类 - 亚胺培南、美罗培南\n",
    "        if (df[['亚胺培南','美洛培南','厄它培南']] == 'I').any() or \\\n",
    "            (df[['亚胺培南','美洛培南','厄它培南']] == 'R').any():\n",
    "            Eb_dict['Carbapenems'] = 1\n",
    "        #非超广谱头孢菌素-1、2代头孢 - 头孢唑林、头孢呋辛\n",
    "        if (df[['头孢呋辛','头孢呋辛酯']]=='I').any() or (df[['头孢呋辛','头孢呋辛酯']]=='R').any():\n",
    "            if df['micro_name'] not in Eb_exc_cefuroxime_list:\n",
    "                Eb_dict['NESCephalosporins'] = 1\n",
    "        #超广谱头孢菌素-3、4代头孢 - 头孢曲松、头孢他啶、头孢吡肟\n",
    "        if (df[['头孢吡肟',  '头孢他啶', '头孢曲松']]=='I').any() \\\n",
    "            or (df[['头孢吡肟',  '头孢他啶', '头孢曲松']]=='R').any():\n",
    "            Eb_dict['ESCephalosporins'] = 1\n",
    "        #头孢菌素类 Cephamycins\n",
    "        if df['头孢替坦'] == 'I' or df['头孢替坦'] == 'R':\n",
    "            if df['micro_name'] not in Eb_exc_cefotetan_list:\n",
    "                Eb_dict['Cephamycins'] = 1\n",
    "        #氟喹诺酮类 - 环丙沙星\n",
    "        if df['环丙沙星'] == 'I' or df['环丙沙星'] == 'R':\n",
    "            Eb_dict['Fluoroquinolones'] = 1\n",
    "        #叶酸途径抑制剂-甲氧苄啶 复方新诺明\n",
    "        if df['复方新诺明']=='I' or df['复方新诺明']=='R':\n",
    "            Eb_dict['Folate'] = 1\n",
    "        #甘氨环素类 - 替加环素\n",
    "        if df['替加环素'] == 'I' or df['替加环素'] == 'R':\n",
    "            if df['micro_name'] not in Eb_exc_tigecycline_list:\n",
    "                Eb_dict['Glycylcyclines'] = 1        \n",
    "        #单环β-内酰胺类 - 氨曲南\n",
    "        if df['氨曲南']=='I' or df['氨曲南']=='R':\n",
    "            Eb_dict['Monobactams'] = 1        \n",
    "        #青霉素类 - 氨苄西林\n",
    "        if df['氨苄西林']=='I' or df['氨苄西林']=='R':\n",
    "            if df['micro_name'] not in Eb_exc_ampicillin_list:\n",
    "                Eb_dict['Penicillins'] = 1 \n",
    "        #青霉素类+β内酰胺酶抑制剂 - 氨苄西林-舒巴坦\n",
    "        if df['阿莫西林/棒酸']=='I' or df['阿莫西林/棒酸']=='R':\n",
    "            if df['micro_name'] not in Eb_exc_amoxicillin_list:\n",
    "                Eb_dict['Penicillins&Lactamaseinhibitors'] = 1\n",
    "        if df['氨苄西林/舒巴坦']=='I' or df['氨苄西林/舒巴坦']=='R':\n",
    "            if df['micro_name'] not in Eb_exc_ampicillinsulbactam_list:\n",
    "                Eb_dict['Penicillins&Lactamaseinhibitors'] = 1\n",
    "        #苯丙醇类\n",
    "        #磷酶酸类\n",
    "        #多粘菌素类\n",
    "        #四环素类-四环素\n",
    "        if (df[['四环素','米诺环素']] == 'I').any() or (df[['四环素','米诺环素']] == 'R').any():\n",
    "            if df['micro_name'] not in Eb_exc_teracycline_list:\n",
    "                Eb_dict['Tetracyclines'] = 1\n",
    "        \n",
    "        for i in Eb_dict:\n",
    "            Eb_sum += Eb_dict[i]\n",
    "            Eb_ab_list.append(i)\n",
    "        if Eb_sum>=3:\n",
    "            return \";\".join(Eb_ab_list), 1\n",
    "        else:\n",
    "            return \";\".join(Eb_ab_list), 0\n",
    "    #铜绿假单胞菌\n",
    "    elif df['micro_name'] in Ps_name:\n",
    "        Ps_dict = {}\n",
    "        Ps_sum = 0\n",
    "        Ps_ab_list = []\n",
    "        #氨基糖苷类 - 庆大霉素、妥布霉素、阿米卡星\n",
    "        if (df[['庆大霉素', '妥布霉素','阿米卡星']] == 'I').any() \\\n",
    "            or (df[['庆大霉素', '妥布霉素','阿米卡星']] == 'R').any():\n",
    "            Ps_dict['Aminoglycosides'] = 1    \n",
    "        #抗假单胞菌碳青霉烯类-亚胺培南、美罗培南\n",
    "        if (df[['亚胺培南', '美洛培南']] == 'I').any() or \\\n",
    "                (df[['亚胺培南', '美洛培南']] == 'R').any():\n",
    "            Ps_dict['Carbapenems'] = 1\n",
    "        #抗假单胞菌头孢菌素类-头孢他啶、头孢吡肟\n",
    "        if (df[['头孢他啶','头孢吡肟']] == 'I').any() or \\\n",
    "                (df[['头孢他啶','头孢吡肟']] == 'R').any():\n",
    "            Ps_dict['Cephalosporins'] = 1      \n",
    "        #抗假单胞菌氟喹诺酮类-环丙沙星、左氧氟沙星\n",
    "        if (df[['环丙沙星','左旋氧氟沙星']]=='I').any() or \\\n",
    "                (df[['环丙沙星','左旋氧氟沙星']]=='R').any():\n",
    "            Ps_dict['Fluroquinolones'] = 1\n",
    "        #抗假单胞菌青霉素类+β-内酰胺酶抑制剂\n",
    "        if df['哌拉西林/他唑巴坦'] == 'I' or df['哌拉西林/他唑巴坦'] == 'R':\n",
    "            Ps_dict['Penicillins&lactamaseinhibitors'] = 1\n",
    "        #单环β-内酰胺类 - 氨曲南\n",
    "        if df['氨曲南']=='I' or df['氨曲南']=='R':\n",
    "            Ps_dict['Monobactams'] = 1      \n",
    "        #磷霉酸类\n",
    "        #多粘菌素类\n",
    "        for i in Ps_dict:\n",
    "            Ps_sum += Ps_dict[i]\n",
    "            Ps_ab_list.append(i)\n",
    "        if Ps_sum>=3:\n",
    "            return \";\".join(Ps_ab_list), 1\n",
    "        else:\n",
    "            return \";\".join(Ps_ab_list), 0\n",
    "    #不动杆菌属\n",
    "    elif df['micro_name'] in Ac_name:\n",
    "        Ac_dict = {}\n",
    "        Ac_sum = 0\n",
    "        Ac_ab_list = []\n",
    "        #氨基糖苷类 - 庆大霉素、妥布霉素、阿米卡星\n",
    "        if (df[['庆大霉素', '妥布霉素','阿米卡星']] == 'I').any() \\\n",
    "            or (df[['庆大霉素', '妥布霉素','阿米卡星']] == 'R').any():\n",
    "            Ac_dict['Aminoglycosides'] = 1    \n",
    "        #抗假单胞菌碳青霉烯类 - 亚胺培南、美罗培南\n",
    "        if (df[['亚胺培南', '美洛培南']] == 'I').any() or \\\n",
    "                (df[['亚胺培南', '美洛培南']] == 'R').any():\n",
    "            Ac_dict['Carbapenems'] = 1\n",
    "        #抗假单胞菌氟喹诺酮类 - 环丙沙星、左氧氟沙星\n",
    "        if (df[['环丙沙星','左旋氧氟沙星']]=='I').any() or \\\n",
    "                (df[['环丙沙星','左旋氧氟沙星']]=='R').any():\n",
    "            Ac_dict['Fluroquinolones'] = 1\n",
    "        #抗假单胞菌青霉素类+β-内酰胺酶抑制剂\n",
    "        if df['哌拉西林/他唑巴坦'] == 'I' or df['哌拉西林/他唑巴坦'] == 'R':\n",
    "            Ac_dict['Penicillins&lactamaseinhibitors'] = 1\n",
    "        #超广谱头孢菌素类-头孢他啶、头孢吡肟\n",
    "        if (df[['头孢曲松', '头孢吡肟', '头孢他啶']] == 'I').any() or \\\n",
    "                (df[['头孢曲松', '头孢吡肟', '头孢他啶']] == 'R').any():\n",
    "            Ac_dict['ESCephalosporins'] = 1\n",
    "        #叶酸途径抑制剂-甲氧苄啶 复方新诺明\n",
    "        if df['复方新诺明']=='I' or df['复方新诺明']=='R':\n",
    "            Ac_dict['Folate'] = 1\n",
    "        #青霉素类+β内酰胺酶抑制剂 - 氨苄西林-舒巴坦\n",
    "        if df['氨苄西林/舒巴坦']=='I' or df['氨苄西林/舒巴坦']=='R':\n",
    "            Ac_dict['Penicillins&lactamaseinhibitors'] = 1        \n",
    "        #多粘菌素类\n",
    "        #四环素类\n",
    "        if (df[['四环素', '米诺环素']] == 'I').any() or (df[['四环素', '米诺环素']] == 'R').any():\n",
    "            Ac_dict['Tetracyclines'] = 1        \n",
    "        for i in Ac_dict:\n",
    "            Ac_sum += Ac_dict[i]\n",
    "            Ac_ab_list.append(i)\n",
    "        if Ac_sum>=3:\n",
    "            return \";\".join(Ac_ab_list), 1\n",
    "        else:\n",
    "            return \";\".join(Ac_ab_list), 0\n",
    "    else:\n",
    "        return np.nan, np.nan"
   ]
  },
  {
   "cell_type": "code",
   "execution_count": 75,
   "id": "400bb7c2",
   "metadata": {
    "ExecuteTime": {
     "end_time": "2021-10-16T17:11:54.181193Z",
     "start_time": "2021-10-16T17:10:12.250265Z"
    },
    "execution": {
     "iopub.execute_input": "2023-12-29T02:06:43.136015Z",
     "iopub.status.busy": "2023-12-29T02:06:43.135226Z",
     "iopub.status.idle": "2023-12-29T02:07:53.717602Z",
     "shell.execute_reply": "2023-12-29T02:07:53.715889Z",
     "shell.execute_reply.started": "2023-12-29T02:06:43.135963Z"
    }
   },
   "outputs": [],
   "source": [
    "MDR_CAL_conc[['resistant_ab_cat','MDR']] = MDR_CAL_conc.apply(MDR,axis = 1,result_type=\"expand\")"
   ]
  },
  {
   "cell_type": "code",
   "execution_count": 76,
   "id": "10a7f4fb",
   "metadata": {
    "ExecuteTime": {
     "end_time": "2021-10-16T16:08:34.492041Z",
     "start_time": "2021-10-16T16:08:34.477106Z"
    },
    "execution": {
     "iopub.execute_input": "2023-12-29T02:07:53.720935Z",
     "iopub.status.busy": "2023-12-29T02:07:53.720374Z",
     "iopub.status.idle": "2023-12-29T02:07:53.731912Z",
     "shell.execute_reply": "2023-12-29T02:07:53.731425Z",
     "shell.execute_reply.started": "2023-12-29T02:07:53.720876Z"
    }
   },
   "outputs": [
    {
     "data": {
      "text/plain": [
       "1    15080\n",
       "0     6027\n",
       "Name: MDR, dtype: int64"
      ]
     },
     "execution_count": 76,
     "metadata": {},
     "output_type": "execute_result"
    }
   ],
   "source": [
    "MDR_CAL_conc.MDR.value_counts()"
   ]
  },
  {
   "cell_type": "code",
   "execution_count": 77,
   "id": "797251a9",
   "metadata": {
    "ExecuteTime": {
     "end_time": "2021-10-16T17:12:33.856362Z",
     "start_time": "2021-10-16T17:12:30.008138Z"
    },
    "execution": {
     "iopub.execute_input": "2023-12-29T02:07:53.732973Z",
     "iopub.status.busy": "2023-12-29T02:07:53.732819Z",
     "iopub.status.idle": "2023-12-29T02:07:54.712109Z",
     "shell.execute_reply": "2023-12-29T02:07:54.710602Z",
     "shell.execute_reply.started": "2023-12-29T02:07:53.732958Z"
    }
   },
   "outputs": [],
   "source": [
    "culture['merge_time'] =  culture['REQUESTED_DATE_TIME'].dt.strftime(\"%Y-%m-%d %H\").astype(str)\n",
    "MDR_CAL_conc['merge_time'] = MDR_CAL_conc['REQUESTED_DATE_TIME'].dt.strftime(\"%Y-%m-%d %H\").astype(str)"
   ]
  },
  {
   "cell_type": "code",
   "execution_count": 78,
   "id": "dbc460ea",
   "metadata": {
    "ExecuteTime": {
     "end_time": "2021-10-16T17:12:46.966874Z",
     "start_time": "2021-10-16T17:12:46.313669Z"
    },
    "execution": {
     "iopub.execute_input": "2023-12-29T02:07:54.714669Z",
     "iopub.status.busy": "2023-12-29T02:07:54.714496Z",
     "iopub.status.idle": "2023-12-29T02:07:55.229919Z",
     "shell.execute_reply": "2023-12-29T02:07:55.228790Z",
     "shell.execute_reply.started": "2023-12-29T02:07:54.714652Z"
    }
   },
   "outputs": [],
   "source": [
    "culture_mdr = pd.merge(culture[['TEST_NO', 'PATIENT_ID', 'VISIT_ID',  'SPECIMEN','REQUESTED_DATE_TIME', 'RESULTS_RPT_DATE_TIME',\n",
    "       'SUBJECT', 'ITEM_NO', 'REPORT_ITEM_NAME', 'micro_name','merge_time']], \\\n",
    "        MDR_CAL_conc[['PATIENT_ID', 'SPECIMEN', 'micro_name', 'org_category', '万古霉素', '亚胺培南',\n",
    "       '克林霉素', '利奈唑胺', '利福平', '厄它培南', '哌拉西林', '哌拉西林/他唑巴坦', '喹努普汀/达福普汀', '四环素',\n",
    "       '复方新诺明', '头孢他啶', '头孢吡肟', '头孢呋辛', '头孢呋辛酯', '头孢唑啉', '头孢曲松', '头孢替坦',\n",
    "       '头孢西丁', '妥布霉素', '左旋氧氟沙星', '庆大霉素', '替加环素', '替考拉宁', '氨曲南', '氨苄西林',\n",
    "       '氨苄西林/舒巴坦', '环丙沙星', '磷霉素', '米诺环素', '红霉素', '美洛培南', '苯唑西林', '苯唑青霉素',\n",
    "       '莫西沙星', '阿米卡星', '阿莫西林/棒酸', '青霉素', '青霉素G', '高水平庆大霉素', '高水平链霉素',\n",
    "       'time_hour', 'resistant_ab_cat', 'MDR', 'merge_time']],\\\n",
    "        how = 'left', on = ['PATIENT_ID', 'SPECIMEN','micro_name', 'merge_time'])"
   ]
  },
  {
   "cell_type": "code",
   "execution_count": 79,
   "id": "6cf79238",
   "metadata": {
    "ExecuteTime": {
     "end_time": "2021-10-16T17:12:48.272358Z",
     "start_time": "2021-10-16T17:12:48.265389Z"
    },
    "execution": {
     "iopub.execute_input": "2023-12-29T02:07:55.231268Z",
     "iopub.status.busy": "2023-12-29T02:07:55.231079Z",
     "iopub.status.idle": "2023-12-29T02:07:55.235043Z",
     "shell.execute_reply": "2023-12-29T02:07:55.234341Z",
     "shell.execute_reply.started": "2023-12-29T02:07:55.231251Z"
    }
   },
   "outputs": [],
   "source": [
    "#culture_mdr['REQUESTED_DATE_TIME'] = culture_mdr['REQUESTED_DATE_TIME'].apply(trans_time)"
   ]
  },
  {
   "cell_type": "code",
   "execution_count": 80,
   "id": "8eea8a78",
   "metadata": {
    "ExecuteTime": {
     "end_time": "2021-10-16T17:12:52.966989Z",
     "start_time": "2021-10-16T17:12:48.849138Z"
    },
    "execution": {
     "iopub.execute_input": "2023-12-29T02:07:55.236061Z",
     "iopub.status.busy": "2023-12-29T02:07:55.235908Z",
     "iopub.status.idle": "2023-12-29T02:07:58.457369Z",
     "shell.execute_reply": "2023-12-29T02:07:58.456520Z",
     "shell.execute_reply.started": "2023-12-29T02:07:55.236047Z"
    }
   },
   "outputs": [
    {
     "data": {
      "text/plain": [
       "(46, 2)"
      ]
     },
     "execution_count": 80,
     "metadata": {},
     "output_type": "execute_result"
    }
   ],
   "source": [
    "ab_test_merge = pd.merge(culture_mdr, icustay_detail, how = 'left', on = ['PATIENT_ID'])\n",
    "test = ab_test_merge[((ab_test_merge['REQUESTED_DATE_TIME'] - ab_test_merge['TF_ADMISSION_DATE_TIME']).dt.total_seconds()/3600>=-24)&\\\n",
    "         ((ab_test_merge['REQUESTED_DATE_TIME'] - ab_test_merge['TF_DISCHARGE_DATE_TIME']).dt.total_seconds()/(3600*24)<=0)]\n",
    "test[(test['ICU_TYPE'] == 'ICU') &\\\n",
    "     (test['micro_name'].str.contains('肺炎'))&\\\n",
    "     #(test['ab_allna']==0)&\\\n",
    "    (test['REQUESTED_DATE_TIME'].dt.year==2011)&\\\n",
    "    ((test['哌拉西林/他唑巴坦']=='S')|(test['哌拉西林/他唑巴坦']=='I')|(test['哌拉西林/他唑巴坦']=='R'))][['PATIENT_ID','REQUESTED_DATE_TIME']].drop_duplicates().shape"
   ]
  },
  {
   "cell_type": "code",
   "execution_count": 81,
   "id": "1b5a01b0",
   "metadata": {
    "ExecuteTime": {
     "end_time": "2021-10-16T17:13:39.919820Z",
     "start_time": "2021-10-16T17:13:38.234249Z"
    },
    "execution": {
     "iopub.execute_input": "2023-12-29T02:07:58.458753Z",
     "iopub.status.busy": "2023-12-29T02:07:58.458587Z",
     "iopub.status.idle": "2023-12-29T02:07:58.968356Z",
     "shell.execute_reply": "2023-12-29T02:07:58.966872Z",
     "shell.execute_reply.started": "2023-12-29T02:07:58.458738Z"
    }
   },
   "outputs": [],
   "source": [
    "culture_mdr = pd.merge(culture_mdr.drop(columns = ['org_category']),micro_abtest_sel, how = 'left', on = 'micro_name')"
   ]
  },
  {
   "cell_type": "code",
   "execution_count": 82,
   "id": "8625e270",
   "metadata": {
    "ExecuteTime": {
     "end_time": "2021-10-16T17:13:48.531471Z",
     "start_time": "2021-10-16T17:13:48.512553Z"
    },
    "execution": {
     "iopub.execute_input": "2023-12-29T02:07:58.969599Z",
     "iopub.status.busy": "2023-12-29T02:07:58.969409Z",
     "iopub.status.idle": "2023-12-29T02:07:58.974634Z",
     "shell.execute_reply": "2023-12-29T02:07:58.973486Z",
     "shell.execute_reply.started": "2023-12-29T02:07:58.969582Z"
    }
   },
   "outputs": [],
   "source": [
    "def pos_neg(df):\n",
    "    if (df['org_category'] == 'Staphylococcus aureus') or (df['org_category'] == 'Enterococcus spp.'):\n",
    "        return 1,0\n",
    "    elif (df['org_category'] == 'Enterobacteriaceae') or (df['org_category'] == 'Pseudomonas aeruginosa') or  (df['org_category'] == 'Acinetobacter spp.'):\n",
    "        return 0,1\n",
    "    else:\n",
    "        return 0,0"
   ]
  },
  {
   "cell_type": "code",
   "execution_count": 83,
   "id": "07f88210",
   "metadata": {
    "ExecuteTime": {
     "end_time": "2021-10-16T17:14:21.294226Z",
     "start_time": "2021-10-16T17:13:50.584575Z"
    },
    "execution": {
     "iopub.execute_input": "2023-12-29T02:07:58.975795Z",
     "iopub.status.busy": "2023-12-29T02:07:58.975645Z",
     "iopub.status.idle": "2023-12-29T02:08:08.489003Z",
     "shell.execute_reply": "2023-12-29T02:08:08.487570Z",
     "shell.execute_reply.started": "2023-12-29T02:07:58.975780Z"
    }
   },
   "outputs": [],
   "source": [
    "culture_mdr[['org_pos','org_neg']] = culture_mdr.apply(pos_neg, axis = 1, result_type=\"expand\")"
   ]
  },
  {
   "cell_type": "code",
   "execution_count": 84,
   "id": "bb094315",
   "metadata": {
    "ExecuteTime": {
     "end_time": "2021-10-16T17:14:38.183786Z",
     "start_time": "2021-10-16T17:14:21.296215Z"
    },
    "execution": {
     "iopub.execute_input": "2023-12-29T02:08:08.490491Z",
     "iopub.status.busy": "2023-12-29T02:08:08.490300Z",
     "iopub.status.idle": "2023-12-29T02:08:17.777019Z",
     "shell.execute_reply": "2023-12-29T02:08:17.775615Z",
     "shell.execute_reply.started": "2023-12-29T02:08:08.490475Z"
    }
   },
   "outputs": [],
   "source": [
    "micro_sim = culture_mdr[['PATIENT_ID', 'VISIT_ID', 'SPECIMEN','REQUESTED_DATE_TIME', 'RESULTS_RPT_DATE_TIME', 'micro_name','resistant_ab_cat','MDR']].drop_duplicates()\n",
    "\n",
    "micro_sim['MDR'].fillna(0,inplace = True)\n",
    "\n",
    "micro_sim_firsthospmdr = micro_sim[micro_sim['MDR']==1].groupby(['PATIENT_ID','VISIT_ID']).\\\n",
    "apply(lambda x: x.sort_values(['RESULTS_RPT_DATE_TIME','REQUESTED_DATE_TIME']).head(1)).reset_index(drop = True)\n"
   ]
  },
  {
   "cell_type": "code",
   "execution_count": 85,
   "id": "a8a8e5d1",
   "metadata": {
    "ExecuteTime": {
     "end_time": "2021-10-16T17:14:38.199716Z",
     "start_time": "2021-10-16T17:14:38.185776Z"
    },
    "execution": {
     "iopub.execute_input": "2023-12-29T02:08:17.778421Z",
     "iopub.status.busy": "2023-12-29T02:08:17.778224Z",
     "iopub.status.idle": "2023-12-29T02:08:17.784057Z",
     "shell.execute_reply": "2023-12-29T02:08:17.783405Z",
     "shell.execute_reply.started": "2023-12-29T02:08:17.778405Z"
    }
   },
   "outputs": [],
   "source": [
    "micro_sim_firsthospmdr = micro_sim_firsthospmdr[['PATIENT_ID', 'VISIT_ID',\\\n",
    "                                                          'REQUESTED_DATE_TIME','RESULTS_RPT_DATE_TIME','resistant_ab_cat','micro_name']].\\\n",
    "rename(columns = {'REQUESTED_DATE_TIME':'firsthospmdrcharttime',\\\n",
    "                  'RESULTS_RPT_DATE_TIME':'firsthospmdrstoretime',\\\n",
    "                  'micro_name':'firsthospmdrorgname',\\\n",
    "                 'resistant_ab_cat':'firsthospmdrRAB'})"
   ]
  },
  {
   "cell_type": "code",
   "execution_count": 86,
   "id": "c74e9379",
   "metadata": {
    "ExecuteTime": {
     "end_time": "2021-10-16T17:14:38.215646Z",
     "start_time": "2021-10-16T17:14:38.201705Z"
    },
    "execution": {
     "iopub.execute_input": "2023-12-29T02:08:17.784934Z",
     "iopub.status.busy": "2023-12-29T02:08:17.784782Z",
     "iopub.status.idle": "2023-12-29T02:08:17.788189Z",
     "shell.execute_reply": "2023-12-29T02:08:17.787579Z",
     "shell.execute_reply.started": "2023-12-29T02:08:17.784920Z"
    }
   },
   "outputs": [],
   "source": [
    "def trans_time(t):\n",
    "    if t == 'None':\n",
    "        return np.datetime64('NaT')\n",
    "    elif pd.isna(t):\n",
    "        return np.datetime64('NaT')\n",
    "    else:\n",
    "        return parse(t)"
   ]
  },
  {
   "cell_type": "code",
   "execution_count": 87,
   "id": "3e709833",
   "metadata": {
    "ExecuteTime": {
     "end_time": "2021-10-16T17:14:59.844003Z",
     "start_time": "2021-10-16T17:14:59.793226Z"
    },
    "execution": {
     "iopub.execute_input": "2023-12-29T02:08:17.789127Z",
     "iopub.status.busy": "2023-12-29T02:08:17.788980Z",
     "iopub.status.idle": "2023-12-29T02:08:17.823383Z",
     "shell.execute_reply": "2023-12-29T02:08:17.821861Z",
     "shell.execute_reply.started": "2023-12-29T02:08:17.789113Z"
    }
   },
   "outputs": [],
   "source": [
    "icustay_detail = icustay_detail[icustay_detail['LOS_ICU']>0]\n",
    "\n",
    "icustay_detail = icustay_detail[['PATIENT_ID', 'VISIT_ID', 'GENDER', 'AGE', 'ADMISSION_DATE_TIME',\n",
    "       'DISCHARGE_DATE_TIME',  'ADMISSION_TYPE','ICU_TYPE', \n",
    "       'TF_ADMISSION_DATE_TIME', 'TF_DISCHARGE_DATE_TIME', 'LOS_ICU']]"
   ]
  },
  {
   "cell_type": "code",
   "execution_count": 88,
   "id": "2ec80824",
   "metadata": {
    "ExecuteTime": {
     "end_time": "2021-10-16T17:15:01.249657Z",
     "start_time": "2021-10-16T17:15:01.177971Z"
    },
    "execution": {
     "iopub.execute_input": "2023-12-29T02:08:17.824889Z",
     "iopub.status.busy": "2023-12-29T02:08:17.824607Z",
     "iopub.status.idle": "2023-12-29T02:08:17.864196Z",
     "shell.execute_reply": "2023-12-29T02:08:17.862667Z",
     "shell.execute_reply.started": "2023-12-29T02:08:17.824872Z"
    }
   },
   "outputs": [],
   "source": [
    "icustay_1stmdr = pd.merge(icustay_detail, micro_sim_firsthospmdr, how = 'left', on = ['PATIENT_ID', 'VISIT_ID'])"
   ]
  },
  {
   "cell_type": "code",
   "execution_count": 89,
   "id": "6b782a0d",
   "metadata": {
    "ExecuteTime": {
     "end_time": "2021-10-16T17:15:02.185823Z",
     "start_time": "2021-10-16T17:15:01.967785Z"
    },
    "execution": {
     "iopub.execute_input": "2023-12-29T02:08:17.865577Z",
     "iopub.status.busy": "2023-12-29T02:08:17.865389Z",
     "iopub.status.idle": "2023-12-29T02:08:18.034169Z",
     "shell.execute_reply": "2023-12-29T02:08:18.032621Z",
     "shell.execute_reply.started": "2023-12-29T02:08:17.865561Z"
    }
   },
   "outputs": [],
   "source": [
    "culture_mdr.drop(columns = ['TEST_NO','VISIT_ID'],inplace= True)"
   ]
  },
  {
   "cell_type": "code",
   "execution_count": 90,
   "id": "43fa1aa0",
   "metadata": {
    "ExecuteTime": {
     "end_time": "2021-10-16T17:15:07.326425Z",
     "start_time": "2021-10-16T17:15:05.152876Z"
    },
    "execution": {
     "iopub.execute_input": "2023-12-29T02:08:18.035728Z",
     "iopub.status.busy": "2023-12-29T02:08:18.035550Z",
     "iopub.status.idle": "2023-12-29T02:08:18.645117Z",
     "shell.execute_reply": "2023-12-29T02:08:18.643538Z",
     "shell.execute_reply.started": "2023-12-29T02:08:18.035712Z"
    }
   },
   "outputs": [],
   "source": [
    "cohort_micro = pd.merge(culture_mdr,icustay_1stmdr, how = 'left', on = ['PATIENT_ID'])"
   ]
  },
  {
   "cell_type": "code",
   "execution_count": 91,
   "id": "43cd51f8",
   "metadata": {
    "ExecuteTime": {
     "end_time": "2021-10-16T17:15:07.467801Z",
     "start_time": "2021-10-16T17:15:07.328414Z"
    },
    "execution": {
     "iopub.execute_input": "2023-12-29T02:08:18.646727Z",
     "iopub.status.busy": "2023-12-29T02:08:18.646543Z",
     "iopub.status.idle": "2023-12-29T02:08:18.675100Z",
     "shell.execute_reply": "2023-12-29T02:08:18.673689Z",
     "shell.execute_reply.started": "2023-12-29T02:08:18.646711Z"
    }
   },
   "outputs": [],
   "source": [
    "cohort_micro['microtest_days'] = round((cohort_micro['REQUESTED_DATE_TIME'] - cohort_micro['TF_ADMISSION_DATE_TIME']).dt.total_seconds()/3600/24,2)\n",
    "cohort_micro['microresult_days'] = round((cohort_micro['RESULTS_RPT_DATE_TIME'] - cohort_micro['TF_ADMISSION_DATE_TIME']).dt.total_seconds()/3600/24,2)"
   ]
  },
  {
   "cell_type": "code",
   "execution_count": 92,
   "id": "3c4c2bb0",
   "metadata": {
    "ExecuteTime": {
     "end_time": "2021-10-16T17:15:23.519515Z",
     "start_time": "2021-10-16T17:15:13.039614Z"
    },
    "execution": {
     "iopub.execute_input": "2023-12-29T02:08:18.676305Z",
     "iopub.status.busy": "2023-12-29T02:08:18.676141Z",
     "iopub.status.idle": "2023-12-29T02:08:22.574067Z",
     "shell.execute_reply": "2023-12-29T02:08:22.572782Z",
     "shell.execute_reply.started": "2023-12-29T02:08:18.676291Z"
    }
   },
   "outputs": [
    {
     "data": {
      "text/plain": [
       "1    27370\n",
       "0    23140\n",
       "Name: microtest_inicu, dtype: int64"
      ]
     },
     "execution_count": 92,
     "metadata": {},
     "output_type": "execute_result"
    }
   ],
   "source": [
    "#在住ICU期间做的微生物检测，如果有检测，则microtest_inicu为1\n",
    "cohort_micro['LOS_ICU'] = cohort_micro['LOS_ICU'].astype(float)\n",
    "cohort_micro['microtest_inicu'] = cohort_micro[['microtest_days','LOS_ICU']].\\\n",
    "apply(lambda x: 1 if (x[0]>=0) & (x[0]<=x[1]) else 0, axis = 1)\n",
    "\n",
    "#在入icu后，出ICU前做过微生物检测的人数\n",
    "cohort_micro[['PATIENT_ID','TF_ADMISSION_DATE_TIME','microtest_inicu']].drop_duplicates().microtest_inicu.value_counts()"
   ]
  },
  {
   "cell_type": "code",
   "execution_count": 93,
   "id": "0ae017df",
   "metadata": {
    "ExecuteTime": {
     "end_time": "2021-10-16T17:15:39.637777Z",
     "start_time": "2021-10-16T17:15:27.656581Z"
    },
    "execution": {
     "iopub.execute_input": "2023-12-29T02:08:22.575478Z",
     "iopub.status.busy": "2023-12-29T02:08:22.575302Z",
     "iopub.status.idle": "2023-12-29T02:08:26.555674Z",
     "shell.execute_reply": "2023-12-29T02:08:26.554284Z",
     "shell.execute_reply.started": "2023-12-29T02:08:22.575463Z"
    }
   },
   "outputs": [
    {
     "data": {
      "text/plain": [
       "0    39465\n",
       "1     4213\n",
       "Name: microtest_beforeicu, dtype: int64"
      ]
     },
     "execution_count": 93,
     "metadata": {},
     "output_type": "execute_result"
    }
   ],
   "source": [
    "#在入icu前做微生物检测，在入ICU后结果才出来的人数\n",
    "cohort_micro['microtest_beforeicu'] = cohort_micro[['microtest_days','microresult_days','LOS_ICU']].\\\n",
    "apply(lambda x: 1 if ((x[0]<0) & (x[1]<=x[2]) & (x[1]>0)) else 0, axis = 1)\n",
    "\n",
    "#在入icu前做微生物检测，在入ICU后，出ICU前结果出来的人数\n",
    "cohort_micro[['PATIENT_ID','TF_ADMISSION_DATE_TIME','microtest_beforeicu']].drop_duplicates().microtest_beforeicu.value_counts()"
   ]
  },
  {
   "cell_type": "code",
   "execution_count": 94,
   "id": "df360c94",
   "metadata": {
    "ExecuteTime": {
     "end_time": "2021-10-16T17:15:50.998008Z",
     "start_time": "2021-10-16T17:15:42.472580Z"
    },
    "execution": {
     "iopub.execute_input": "2023-12-29T02:08:26.557073Z",
     "iopub.status.busy": "2023-12-29T02:08:26.556899Z",
     "iopub.status.idle": "2023-12-29T02:08:29.225386Z",
     "shell.execute_reply": "2023-12-29T02:08:29.224094Z",
     "shell.execute_reply.started": "2023-12-29T02:08:26.557058Z"
    }
   },
   "outputs": [
    {
     "data": {
      "text/plain": [
       "0    36582\n",
       "1     9251\n",
       "Name: microresult_beforeicu, dtype: int64"
      ]
     },
     "execution_count": 94,
     "metadata": {},
     "output_type": "execute_result"
    }
   ],
   "source": [
    "#在入icu前做微生物检测，在入ICU前结果出来的人数\n",
    "cohort_micro['microresult_beforeicu'] = cohort_micro[['microtest_days','microresult_days','LOS_ICU']].\\\n",
    "apply(lambda x: 1 if ((x[0]<0) & (x[1]<0)) else 0, axis = 1)\n",
    "\n",
    "#在入icu前做微生物检测，在入ICU前出结果人数\n",
    "cohort_micro[['PATIENT_ID','TF_ADMISSION_DATE_TIME','microresult_beforeicu']].drop_duplicates().microresult_beforeicu.value_counts()"
   ]
  },
  {
   "cell_type": "code",
   "execution_count": 95,
   "id": "9557671f",
   "metadata": {
    "ExecuteTime": {
     "end_time": "2021-10-16T17:15:51.968274Z",
     "start_time": "2021-10-16T17:15:50.999997Z"
    },
    "execution": {
     "iopub.execute_input": "2023-12-29T02:08:29.226640Z",
     "iopub.status.busy": "2023-12-29T02:08:29.226457Z",
     "iopub.status.idle": "2023-12-29T02:08:29.754703Z",
     "shell.execute_reply": "2023-12-29T02:08:29.753299Z",
     "shell.execute_reply.started": "2023-12-29T02:08:29.226624Z"
    }
   },
   "outputs": [
    {
     "data": {
      "text/plain": [
       "1.0    7592\n",
       "0.0    2642\n",
       "Name: MDR, dtype: int64"
      ]
     },
     "execution_count": 95,
     "metadata": {},
     "output_type": "execute_result"
    }
   ],
   "source": [
    "cohort_micro[cohort_micro['microresult_beforeicu']==1].drop_duplicates().MDR.value_counts()"
   ]
  },
  {
   "cell_type": "code",
   "execution_count": 96,
   "id": "b4fdcf99",
   "metadata": {
    "ExecuteTime": {
     "end_time": "2021-10-16T17:15:52.061861Z",
     "start_time": "2021-10-16T17:15:51.971259Z"
    },
    "execution": {
     "iopub.execute_input": "2023-12-29T02:08:29.759139Z",
     "iopub.status.busy": "2023-12-29T02:08:29.758962Z",
     "iopub.status.idle": "2023-12-29T02:08:29.820864Z",
     "shell.execute_reply": "2023-12-29T02:08:29.820123Z",
     "shell.execute_reply.started": "2023-12-29T02:08:29.759124Z"
    }
   },
   "outputs": [
    {
     "data": {
      "text/plain": [
       "真菌培养+鉴定+药敏         15418\n",
       "真菌培养+鉴定              152\n",
       "真菌培养                  44\n",
       "普通细菌培养+鉴定+药敏等2项       12\n",
       "普通细菌培养+鉴定+药敏           4\n",
       "体液仪器真菌培养               3\n",
       "真菌培养+鉴定+药敏等            3\n",
       "痰细菌培养+鉴定+药敏            2\n",
       "Name: REPORT_ITEM_NAME, dtype: int64"
      ]
     },
     "execution_count": 96,
     "metadata": {},
     "output_type": "execute_result"
    }
   ],
   "source": [
    "cohort_micro[cohort_micro['SUBJECT'] == '真菌培养+鉴定+药敏'].REPORT_ITEM_NAME.value_counts()"
   ]
  },
  {
   "cell_type": "code",
   "execution_count": 97,
   "id": "3f2b4773",
   "metadata": {
    "ExecuteTime": {
     "end_time": "2021-10-16T17:16:00.433658Z",
     "start_time": "2021-10-16T17:16:00.273072Z"
    },
    "execution": {
     "iopub.execute_input": "2023-12-29T02:08:29.821746Z",
     "iopub.status.busy": "2023-12-29T02:08:29.821586Z",
     "iopub.status.idle": "2023-12-29T02:08:30.054379Z",
     "shell.execute_reply": "2023-12-29T02:08:30.053169Z",
     "shell.execute_reply.started": "2023-12-29T02:08:29.821731Z"
    }
   },
   "outputs": [],
   "source": [
    "cohort_WITHMDR = cohort_micro.copy()"
   ]
  },
  {
   "cell_type": "code",
   "execution_count": 98,
   "id": "2bb325ac",
   "metadata": {
    "ExecuteTime": {
     "end_time": "2021-10-16T17:16:04.334172Z",
     "start_time": "2021-10-16T17:16:04.320232Z"
    },
    "execution": {
     "iopub.execute_input": "2023-12-29T02:08:30.055590Z",
     "iopub.status.busy": "2023-12-29T02:08:30.055429Z",
     "iopub.status.idle": "2023-12-29T02:08:30.068114Z",
     "shell.execute_reply": "2023-12-29T02:08:30.067386Z",
     "shell.execute_reply.started": "2023-12-29T02:08:30.055575Z"
    }
   },
   "outputs": [],
   "source": [
    "cohort_WITHMDR['MDR'] = cohort_WITHMDR['MDR'].fillna(0)"
   ]
  },
  {
   "cell_type": "code",
   "execution_count": 100,
   "id": "94e49c5f",
   "metadata": {
    "ExecuteTime": {
     "end_time": "2021-10-16T17:16:08.466477Z",
     "start_time": "2021-10-16T17:16:06.721168Z"
    },
    "execution": {
     "iopub.execute_input": "2023-12-29T02:08:30.073053Z",
     "iopub.status.busy": "2023-12-29T02:08:30.072904Z",
     "iopub.status.idle": "2023-12-29T02:08:31.034917Z",
     "shell.execute_reply": "2023-12-29T02:08:31.033783Z",
     "shell.execute_reply.started": "2023-12-29T02:08:30.073039Z"
    }
   },
   "outputs": [
    {
     "data": {
      "text/plain": [
       "0.0    258948\n",
       "1.0     11416\n",
       "Name: MDR, dtype: int64"
      ]
     },
     "execution_count": 100,
     "metadata": {},
     "output_type": "execute_result"
    }
   ],
   "source": [
    "cohort_WITHMDR[cohort_WITHMDR['microtest_inicu']==1].drop_duplicates().MDR.value_counts()"
   ]
  },
  {
   "cell_type": "code",
   "execution_count": 101,
   "id": "9dbc8d67",
   "metadata": {
    "ExecuteTime": {
     "end_time": "2021-10-16T17:16:15.628211Z",
     "start_time": "2021-10-16T17:16:15.336495Z"
    },
    "execution": {
     "iopub.execute_input": "2023-12-29T02:08:31.036404Z",
     "iopub.status.busy": "2023-12-29T02:08:31.036232Z",
     "iopub.status.idle": "2023-12-29T02:08:31.174991Z",
     "shell.execute_reply": "2023-12-29T02:08:31.173658Z",
     "shell.execute_reply.started": "2023-12-29T02:08:31.036389Z"
    }
   },
   "outputs": [
    {
     "data": {
      "text/plain": [
       "Enterobacteriaceae        20509\n",
       "Acinetobacter spp.        19667\n",
       "Pseudomonas aeruginosa    10282\n",
       "Enterococcus spp.          6911\n",
       "Staphylococcus aureus      2473\n",
       "Name: org_category, dtype: int64"
      ]
     },
     "execution_count": 101,
     "metadata": {},
     "output_type": "execute_result"
    }
   ],
   "source": [
    "cohort_WITHMDR[['PATIENT_ID','REQUESTED_DATE_TIME','micro_name','org_category']].drop_duplicates().org_category.value_counts()"
   ]
  },
  {
   "cell_type": "code",
   "execution_count": 102,
   "id": "ad65bd62",
   "metadata": {
    "ExecuteTime": {
     "end_time": "2021-10-16T17:16:21.749080Z",
     "start_time": "2021-10-16T17:16:21.736134Z"
    },
    "execution": {
     "iopub.execute_input": "2023-12-29T02:08:31.176107Z",
     "iopub.status.busy": "2023-12-29T02:08:31.175936Z",
     "iopub.status.idle": "2023-12-29T02:08:31.180397Z",
     "shell.execute_reply": "2023-12-29T02:08:31.179241Z",
     "shell.execute_reply.started": "2023-12-29T02:08:31.176092Z"
    }
   },
   "outputs": [],
   "source": [
    "org_cat_list = ['Staphylococcus aureus', 'Enterococcus spp.', 'Enterobacteriaceae','Pseudomonas aeruginosa','Acinetobacter spp.']"
   ]
  },
  {
   "cell_type": "code",
   "execution_count": 103,
   "id": "d6c91991",
   "metadata": {
    "ExecuteTime": {
     "end_time": "2021-10-16T17:16:25.480375Z",
     "start_time": "2021-10-16T17:16:25.144852Z"
    },
    "execution": {
     "iopub.execute_input": "2023-12-29T02:08:31.181908Z",
     "iopub.status.busy": "2023-12-29T02:08:31.181753Z",
     "iopub.status.idle": "2023-12-29T02:08:31.366649Z",
     "shell.execute_reply": "2023-12-29T02:08:31.365447Z",
     "shell.execute_reply.started": "2023-12-29T02:08:31.181893Z"
    }
   },
   "outputs": [],
   "source": [
    "cohort_WITHMDR['org_sel'] = cohort_WITHMDR['org_category'].apply(lambda x: 1 if x in org_cat_list else 0)"
   ]
  },
  {
   "cell_type": "code",
   "execution_count": 104,
   "id": "1594af59",
   "metadata": {
    "ExecuteTime": {
     "end_time": "2021-10-16T17:16:26.529736Z",
     "start_time": "2021-10-16T17:16:26.513806Z"
    },
    "execution": {
     "iopub.execute_input": "2023-12-29T02:08:31.368093Z",
     "iopub.status.busy": "2023-12-29T02:08:31.367920Z",
     "iopub.status.idle": "2023-12-29T02:08:31.373054Z",
     "shell.execute_reply": "2023-12-29T02:08:31.372126Z",
     "shell.execute_reply.started": "2023-12-29T02:08:31.368078Z"
    }
   },
   "outputs": [],
   "source": [
    "ab_list = ['万古霉素', '亚胺培南', '克林霉素', '利奈唑胺', '利福平', '厄它培南', '哌拉西林',\n",
    "       '哌拉西林/他唑巴坦', '喹努普汀/达福普汀', '四环素', '复方新诺明', '头孢他啶', '头孢吡肟', '头孢呋辛',\n",
    "       '头孢呋辛酯', '头孢唑啉', '头孢曲松', '头孢替坦', '头孢西丁', '妥布霉素', '左旋氧氟沙星', '庆大霉素',\n",
    "       '替加环素', '替考拉宁', '氨曲南', '氨苄西林', '氨苄西林/舒巴坦', '环丙沙星', '磷霉素', '米诺环素', '红霉素',\n",
    "       '美洛培南', '苯唑西林', '苯唑青霉素', '莫西沙星', '阿米卡星', '阿莫西林/棒酸', '青霉素', '青霉素G',\n",
    "       '高水平庆大霉素', '高水平链霉素']"
   ]
  },
  {
   "cell_type": "code",
   "execution_count": 105,
   "id": "2b6e721e",
   "metadata": {
    "ExecuteTime": {
     "end_time": "2021-10-16T17:16:35.342947Z",
     "start_time": "2021-10-16T17:16:34.063584Z"
    },
    "execution": {
     "iopub.execute_input": "2023-12-29T02:08:31.373813Z",
     "iopub.status.busy": "2023-12-29T02:08:31.373669Z",
     "iopub.status.idle": "2023-12-29T02:08:33.729173Z",
     "shell.execute_reply": "2023-12-29T02:08:33.727645Z",
     "shell.execute_reply.started": "2023-12-29T02:08:31.373799Z"
    }
   },
   "outputs": [],
   "source": [
    "cohort_WITHMDR['ab_allna'] = pd.isna(cohort_WITHMDR[ab_list]).all(axis = 1).astype(int)"
   ]
  },
  {
   "cell_type": "code",
   "execution_count": 106,
   "id": "01fed6d1",
   "metadata": {
    "ExecuteTime": {
     "end_time": "2021-10-16T17:16:42.717543Z",
     "start_time": "2021-10-16T17:16:35.952304Z"
    },
    "execution": {
     "iopub.execute_input": "2023-12-29T02:08:33.730361Z",
     "iopub.status.busy": "2023-12-29T02:08:33.730174Z",
     "iopub.status.idle": "2023-12-29T02:08:35.826815Z",
     "shell.execute_reply": "2023-12-29T02:08:35.825226Z",
     "shell.execute_reply.started": "2023-12-29T02:08:33.730344Z"
    }
   },
   "outputs": [],
   "source": [
    "cohort_WITHMDR['org_sel_notest'] = cohort_WITHMDR[['org_sel','ab_allna']].apply(lambda x: 1 if x[0]== 1 and x[1]==1 else 0, axis =1)"
   ]
  },
  {
   "cell_type": "code",
   "execution_count": 107,
   "id": "543e54c4",
   "metadata": {
    "ExecuteTime": {
     "end_time": "2021-10-16T17:16:44.448846Z",
     "start_time": "2021-10-16T17:16:44.431918Z"
    },
    "execution": {
     "iopub.execute_input": "2023-12-29T02:08:35.828527Z",
     "iopub.status.busy": "2023-12-29T02:08:35.828350Z",
     "iopub.status.idle": "2023-12-29T02:08:35.833467Z",
     "shell.execute_reply": "2023-12-29T02:08:35.832952Z",
     "shell.execute_reply.started": "2023-12-29T02:08:35.828510Z"
    }
   },
   "outputs": [
    {
     "data": {
      "text/plain": [
       "Index(['PATIENT_ID', 'SPECIMEN', 'REQUESTED_DATE_TIME',\n",
       "       'RESULTS_RPT_DATE_TIME', 'SUBJECT', 'ITEM_NO', 'REPORT_ITEM_NAME',\n",
       "       'micro_name', 'merge_time', '万古霉素', '亚胺培南', '克林霉素', '利奈唑胺', '利福平',\n",
       "       '厄它培南', '哌拉西林', '哌拉西林/他唑巴坦', '喹努普汀/达福普汀', '四环素', '复方新诺明', '头孢他啶',\n",
       "       '头孢吡肟', '头孢呋辛', '头孢呋辛酯', '头孢唑啉', '头孢曲松', '头孢替坦', '头孢西丁', '妥布霉素',\n",
       "       '左旋氧氟沙星', '庆大霉素', '替加环素', '替考拉宁', '氨曲南', '氨苄西林', '氨苄西林/舒巴坦', '环丙沙星',\n",
       "       '磷霉素', '米诺环素', '红霉素', '美洛培南', '苯唑西林', '苯唑青霉素', '莫西沙星', '阿米卡星',\n",
       "       '阿莫西林/棒酸', '青霉素', '青霉素G', '高水平庆大霉素', '高水平链霉素', 'time_hour',\n",
       "       'resistant_ab_cat', 'MDR', 'org_category', 'org_pos', 'org_neg',\n",
       "       'VISIT_ID', 'GENDER', 'AGE', 'ADMISSION_DATE_TIME',\n",
       "       'DISCHARGE_DATE_TIME', 'ADMISSION_TYPE', 'ICU_TYPE',\n",
       "       'TF_ADMISSION_DATE_TIME', 'TF_DISCHARGE_DATE_TIME', 'LOS_ICU',\n",
       "       'firsthospmdrcharttime', 'firsthospmdrstoretime', 'firsthospmdrRAB',\n",
       "       'firsthospmdrorgname', 'microtest_days', 'microresult_days',\n",
       "       'microtest_inicu', 'microtest_beforeicu', 'microresult_beforeicu',\n",
       "       'org_sel', 'ab_allna', 'org_sel_notest'],\n",
       "      dtype='object')"
      ]
     },
     "execution_count": 107,
     "metadata": {},
     "output_type": "execute_result"
    }
   ],
   "source": [
    "cohort_WITHMDR.columns"
   ]
  },
  {
   "cell_type": "code",
   "execution_count": 108,
   "id": "ea122327",
   "metadata": {
    "ExecuteTime": {
     "end_time": "2021-10-16T17:16:47.263962Z",
     "start_time": "2021-10-16T17:16:47.249027Z"
    },
    "execution": {
     "iopub.execute_input": "2023-12-29T02:08:35.834254Z",
     "iopub.status.busy": "2023-12-29T02:08:35.834102Z",
     "iopub.status.idle": "2023-12-29T02:08:35.837313Z",
     "shell.execute_reply": "2023-12-29T02:08:35.836462Z",
     "shell.execute_reply.started": "2023-12-29T02:08:35.834240Z"
    }
   },
   "outputs": [],
   "source": [
    "# cohort_WITHMDR[['PATIENT_ID', 'EXECUTE_DATE', 'SPECIMEN', 'SPCM_SAMPLE_DATE_TIME',\n",
    "#        'REQUESTED_DATE_TIME', 'RESULTS_RPT_DATE_TIME', 'SUBJECT', 'ITEM_NO',\n",
    "#        'REPORT_ITEM_NAME', 'micro_name', 'RESULT_DATE_TIME']].sort_values(by = ['PATIENT_ID', 'REQUESTED_DATE_TIME']).head(500).to_csv('sample.csv',encoding = 'ANSI', index = False)"
   ]
  },
  {
   "cell_type": "code",
   "execution_count": 109,
   "id": "24f6a8c9",
   "metadata": {
    "ExecuteTime": {
     "end_time": "2021-10-16T17:16:57.763134Z",
     "start_time": "2021-10-16T17:16:56.647025Z"
    },
    "execution": {
     "iopub.execute_input": "2023-12-29T02:08:35.838310Z",
     "iopub.status.busy": "2023-12-29T02:08:35.838153Z",
     "iopub.status.idle": "2023-12-29T02:08:36.467546Z",
     "shell.execute_reply": "2023-12-29T02:08:36.466543Z",
     "shell.execute_reply.started": "2023-12-29T02:08:35.838295Z"
    }
   },
   "outputs": [],
   "source": [
    "clulture_neg_list = list(set(cohort_WITHMDR[(cohort_WITHMDR['micro_name'].str.contains('无|未',na=False))|\\\n",
    "              (cohort_WITHMDR['micro_name'].str.contains('培养阴性',na=False))|\\\n",
    "              (cohort_WITHMDR['micro_name'] == '阴性')].micro_name.to_list()))"
   ]
  },
  {
   "cell_type": "code",
   "execution_count": 110,
   "id": "c5aebcb8",
   "metadata": {
    "ExecuteTime": {
     "end_time": "2021-10-16T17:17:04.640702Z",
     "start_time": "2021-10-16T17:17:03.471855Z"
    },
    "execution": {
     "iopub.execute_input": "2023-12-29T02:08:36.468943Z",
     "iopub.status.busy": "2023-12-29T02:08:36.468770Z",
     "iopub.status.idle": "2023-12-29T02:08:36.985655Z",
     "shell.execute_reply": "2023-12-29T02:08:36.984414Z",
     "shell.execute_reply.started": "2023-12-29T02:08:36.468927Z"
    }
   },
   "outputs": [],
   "source": [
    "#0代表阴性\n",
    "cohort_WITHMDR['culture_negative'] = cohort_WITHMDR['micro_name'].apply(lambda x:0 if x in clulture_neg_list else 1)"
   ]
  },
  {
   "cell_type": "code",
   "execution_count": 111,
   "id": "b1ae99c0",
   "metadata": {
    "ExecuteTime": {
     "end_time": "2021-10-16T17:17:05.899671Z",
     "start_time": "2021-10-16T17:17:05.887721Z"
    },
    "execution": {
     "iopub.execute_input": "2023-12-29T02:08:36.987032Z",
     "iopub.status.busy": "2023-12-29T02:08:36.986879Z",
     "iopub.status.idle": "2023-12-29T02:08:36.991350Z",
     "shell.execute_reply": "2023-12-29T02:08:36.990828Z",
     "shell.execute_reply.started": "2023-12-29T02:08:36.987017Z"
    }
   },
   "outputs": [
    {
     "data": {
      "text/plain": [
       "Index(['PATIENT_ID', 'SPECIMEN', 'REQUESTED_DATE_TIME',\n",
       "       'RESULTS_RPT_DATE_TIME', 'SUBJECT', 'ITEM_NO', 'REPORT_ITEM_NAME',\n",
       "       'micro_name', 'merge_time', '万古霉素', '亚胺培南', '克林霉素', '利奈唑胺', '利福平',\n",
       "       '厄它培南', '哌拉西林', '哌拉西林/他唑巴坦', '喹努普汀/达福普汀', '四环素', '复方新诺明', '头孢他啶',\n",
       "       '头孢吡肟', '头孢呋辛', '头孢呋辛酯', '头孢唑啉', '头孢曲松', '头孢替坦', '头孢西丁', '妥布霉素',\n",
       "       '左旋氧氟沙星', '庆大霉素', '替加环素', '替考拉宁', '氨曲南', '氨苄西林', '氨苄西林/舒巴坦', '环丙沙星',\n",
       "       '磷霉素', '米诺环素', '红霉素', '美洛培南', '苯唑西林', '苯唑青霉素', '莫西沙星', '阿米卡星',\n",
       "       '阿莫西林/棒酸', '青霉素', '青霉素G', '高水平庆大霉素', '高水平链霉素', 'time_hour',\n",
       "       'resistant_ab_cat', 'MDR', 'org_category', 'org_pos', 'org_neg',\n",
       "       'VISIT_ID', 'GENDER', 'AGE', 'ADMISSION_DATE_TIME',\n",
       "       'DISCHARGE_DATE_TIME', 'ADMISSION_TYPE', 'ICU_TYPE',\n",
       "       'TF_ADMISSION_DATE_TIME', 'TF_DISCHARGE_DATE_TIME', 'LOS_ICU',\n",
       "       'firsthospmdrcharttime', 'firsthospmdrstoretime', 'firsthospmdrRAB',\n",
       "       'firsthospmdrorgname', 'microtest_days', 'microresult_days',\n",
       "       'microtest_inicu', 'microtest_beforeicu', 'microresult_beforeicu',\n",
       "       'org_sel', 'ab_allna', 'org_sel_notest', 'culture_negative'],\n",
       "      dtype='object')"
      ]
     },
     "execution_count": 111,
     "metadata": {},
     "output_type": "execute_result"
    }
   ],
   "source": [
    "cohort_WITHMDR.columns"
   ]
  },
  {
   "cell_type": "code",
   "execution_count": 112,
   "id": "efbcb4ed",
   "metadata": {
    "ExecuteTime": {
     "end_time": "2021-10-16T17:17:08.932635Z",
     "start_time": "2021-10-16T17:17:08.656341Z"
    },
    "execution": {
     "iopub.execute_input": "2023-12-29T02:08:36.992142Z",
     "iopub.status.busy": "2023-12-29T02:08:36.991993Z",
     "iopub.status.idle": "2023-12-29T02:08:37.145976Z",
     "shell.execute_reply": "2023-12-29T02:08:37.144410Z",
     "shell.execute_reply.started": "2023-12-29T02:08:36.992128Z"
    }
   },
   "outputs": [],
   "source": [
    "cohort_simp = cohort_WITHMDR[['PATIENT_ID',  'SPECIMEN', 'REQUESTED_DATE_TIME',  'culture_negative']].drop_duplicates()"
   ]
  },
  {
   "cell_type": "code",
   "execution_count": 113,
   "id": "986cd44f",
   "metadata": {
    "ExecuteTime": {
     "end_time": "2021-10-16T17:17:15.788463Z",
     "start_time": "2021-10-16T17:17:15.585298Z"
    },
    "execution": {
     "iopub.execute_input": "2023-12-29T02:08:37.147579Z",
     "iopub.status.busy": "2023-12-29T02:08:37.147399Z",
     "iopub.status.idle": "2023-12-29T02:08:37.242310Z",
     "shell.execute_reply": "2023-12-29T02:08:37.241464Z",
     "shell.execute_reply.started": "2023-12-29T02:08:37.147563Z"
    }
   },
   "outputs": [],
   "source": [
    "cohort_simp_sum = cohort_simp.groupby(['PATIENT_ID',  'SPECIMEN', 'REQUESTED_DATE_TIME']).sum().reset_index()"
   ]
  },
  {
   "cell_type": "code",
   "execution_count": 114,
   "id": "0d3d6834",
   "metadata": {
    "ExecuteTime": {
     "end_time": "2021-10-16T17:17:16.394271Z",
     "start_time": "2021-10-16T17:17:16.313625Z"
    },
    "execution": {
     "iopub.execute_input": "2023-12-29T02:08:37.243344Z",
     "iopub.status.busy": "2023-12-29T02:08:37.243174Z",
     "iopub.status.idle": "2023-12-29T02:08:37.287198Z",
     "shell.execute_reply": "2023-12-29T02:08:37.285859Z",
     "shell.execute_reply.started": "2023-12-29T02:08:37.243330Z"
    }
   },
   "outputs": [],
   "source": [
    "cohort_simp_sum['culture_negative_tot'] = cohort_simp_sum['culture_negative'].apply(lambda x:0 if x==0 else 1)"
   ]
  },
  {
   "cell_type": "code",
   "execution_count": 115,
   "id": "8a62a4ce",
   "metadata": {
    "ExecuteTime": {
     "end_time": "2021-10-16T17:17:17.028638Z",
     "start_time": "2021-10-16T17:17:16.999763Z"
    },
    "execution": {
     "iopub.execute_input": "2023-12-29T02:08:37.288167Z",
     "iopub.status.busy": "2023-12-29T02:08:37.288014Z",
     "iopub.status.idle": "2023-12-29T02:08:37.296660Z",
     "shell.execute_reply": "2023-12-29T02:08:37.295720Z",
     "shell.execute_reply.started": "2023-12-29T02:08:37.288154Z"
    }
   },
   "outputs": [],
   "source": [
    "cohort_simp_sum.drop(columns = ['culture_negative'] , inplace = True)"
   ]
  },
  {
   "cell_type": "code",
   "execution_count": 116,
   "id": "1f5219bc",
   "metadata": {
    "ExecuteTime": {
     "end_time": "2021-10-16T17:17:20.903056Z",
     "start_time": "2021-10-16T17:17:20.872190Z"
    },
    "execution": {
     "iopub.execute_input": "2023-12-29T02:08:37.298250Z",
     "iopub.status.busy": "2023-12-29T02:08:37.298094Z",
     "iopub.status.idle": "2023-12-29T02:08:37.318091Z",
     "shell.execute_reply": "2023-12-29T02:08:37.317614Z",
     "shell.execute_reply.started": "2023-12-29T02:08:37.298236Z"
    }
   },
   "outputs": [
    {
     "data": {
      "text/html": [
       "<div>\n",
       "<style scoped>\n",
       "    .dataframe tbody tr th:only-of-type {\n",
       "        vertical-align: middle;\n",
       "    }\n",
       "\n",
       "    .dataframe tbody tr th {\n",
       "        vertical-align: top;\n",
       "    }\n",
       "\n",
       "    .dataframe thead th {\n",
       "        text-align: right;\n",
       "    }\n",
       "</style>\n",
       "<table border=\"1\" class=\"dataframe\">\n",
       "  <thead>\n",
       "    <tr style=\"text-align: right;\">\n",
       "      <th></th>\n",
       "      <th>PATIENT_ID</th>\n",
       "      <th>SPECIMEN</th>\n",
       "      <th>REQUESTED_DATE_TIME</th>\n",
       "      <th>culture_negative_tot</th>\n",
       "    </tr>\n",
       "  </thead>\n",
       "  <tbody>\n",
       "    <tr>\n",
       "      <th>99994</th>\n",
       "      <td>S114268674</td>\n",
       "      <td>引流液</td>\n",
       "      <td>2016-03-09 10:59:06</td>\n",
       "      <td>1</td>\n",
       "    </tr>\n",
       "    <tr>\n",
       "      <th>99995</th>\n",
       "      <td>S114268674</td>\n",
       "      <td>引流液</td>\n",
       "      <td>2016-03-09 10:59:18</td>\n",
       "      <td>0</td>\n",
       "    </tr>\n",
       "    <tr>\n",
       "      <th>99996</th>\n",
       "      <td>S114268674</td>\n",
       "      <td>引流液</td>\n",
       "      <td>2016-03-13 08:15:59</td>\n",
       "      <td>1</td>\n",
       "    </tr>\n",
       "    <tr>\n",
       "      <th>99997</th>\n",
       "      <td>S114268674</td>\n",
       "      <td>痰</td>\n",
       "      <td>2016-03-09 11:44:01</td>\n",
       "      <td>1</td>\n",
       "    </tr>\n",
       "    <tr>\n",
       "      <th>99998</th>\n",
       "      <td>S114268674</td>\n",
       "      <td>痰</td>\n",
       "      <td>2016-03-12 10:16:30</td>\n",
       "      <td>1</td>\n",
       "    </tr>\n",
       "    <tr>\n",
       "      <th>99999</th>\n",
       "      <td>S114268674</td>\n",
       "      <td>静脉血</td>\n",
       "      <td>2016-03-10 00:24:59</td>\n",
       "      <td>0</td>\n",
       "    </tr>\n",
       "    <tr>\n",
       "      <th>100000</th>\n",
       "      <td>S114268674</td>\n",
       "      <td>静脉血</td>\n",
       "      <td>2016-03-10 00:25:37</td>\n",
       "      <td>0</td>\n",
       "    </tr>\n",
       "    <tr>\n",
       "      <th>100001</th>\n",
       "      <td>S114268674</td>\n",
       "      <td>静脉血</td>\n",
       "      <td>2016-03-10 00:28:23</td>\n",
       "      <td>0</td>\n",
       "    </tr>\n",
       "    <tr>\n",
       "      <th>100002</th>\n",
       "      <td>S114268674</td>\n",
       "      <td>静脉血</td>\n",
       "      <td>2016-03-10 00:29:15</td>\n",
       "      <td>0</td>\n",
       "    </tr>\n",
       "    <tr>\n",
       "      <th>100003</th>\n",
       "      <td>S114268674</td>\n",
       "      <td>静脉血</td>\n",
       "      <td>2019-02-14 00:40:24</td>\n",
       "      <td>0</td>\n",
       "    </tr>\n",
       "  </tbody>\n",
       "</table>\n",
       "</div>"
      ],
      "text/plain": [
       "        PATIENT_ID SPECIMEN REQUESTED_DATE_TIME  culture_negative_tot\n",
       "99994   S114268674      引流液 2016-03-09 10:59:06                     1\n",
       "99995   S114268674      引流液 2016-03-09 10:59:18                     0\n",
       "99996   S114268674      引流液 2016-03-13 08:15:59                     1\n",
       "99997   S114268674        痰 2016-03-09 11:44:01                     1\n",
       "99998   S114268674        痰 2016-03-12 10:16:30                     1\n",
       "99999   S114268674      静脉血 2016-03-10 00:24:59                     0\n",
       "100000  S114268674      静脉血 2016-03-10 00:25:37                     0\n",
       "100001  S114268674      静脉血 2016-03-10 00:28:23                     0\n",
       "100002  S114268674      静脉血 2016-03-10 00:29:15                     0\n",
       "100003  S114268674      静脉血 2019-02-14 00:40:24                     0"
      ]
     },
     "execution_count": 116,
     "metadata": {},
     "output_type": "execute_result"
    }
   ],
   "source": [
    "cohort_simp_sum[cohort_simp_sum['PATIENT_ID'] == 'S114268674']"
   ]
  },
  {
   "cell_type": "code",
   "execution_count": 117,
   "id": "a149513d",
   "metadata": {
    "ExecuteTime": {
     "end_time": "2021-10-16T17:17:54.982471Z",
     "start_time": "2021-10-16T17:17:51.007959Z"
    },
    "execution": {
     "iopub.execute_input": "2023-12-29T02:08:37.318892Z",
     "iopub.status.busy": "2023-12-29T02:08:37.318745Z",
     "iopub.status.idle": "2023-12-29T02:08:38.115187Z",
     "shell.execute_reply": "2023-12-29T02:08:38.113728Z",
     "shell.execute_reply.started": "2023-12-29T02:08:37.318878Z"
    }
   },
   "outputs": [],
   "source": [
    "cohort_WITHMDR = pd.merge(cohort_WITHMDR,cohort_simp_sum, how = 'left', on = ['PATIENT_ID',  'SPECIMEN', 'REQUESTED_DATE_TIME'])"
   ]
  },
  {
   "cell_type": "code",
   "execution_count": 118,
   "id": "16e56943",
   "metadata": {
    "ExecuteTime": {
     "end_time": "2021-10-16T17:17:55.639638Z",
     "start_time": "2021-10-16T17:17:54.984463Z"
    },
    "execution": {
     "iopub.execute_input": "2023-12-29T02:08:38.116460Z",
     "iopub.status.busy": "2023-12-29T02:08:38.116273Z",
     "iopub.status.idle": "2023-12-29T02:08:38.848079Z",
     "shell.execute_reply": "2023-12-29T02:08:38.846508Z",
     "shell.execute_reply.started": "2023-12-29T02:08:38.116444Z"
    }
   },
   "outputs": [],
   "source": [
    "cohort_WITHMDR_part1 = cohort_WITHMDR[cohort_WITHMDR['culture_negative_tot'] == 0]"
   ]
  },
  {
   "cell_type": "code",
   "execution_count": 119,
   "id": "6ec67621",
   "metadata": {
    "ExecuteTime": {
     "end_time": "2021-10-16T17:17:56.144249Z",
     "start_time": "2021-10-16T17:17:56.127321Z"
    },
    "execution": {
     "iopub.execute_input": "2023-12-29T02:08:38.849697Z",
     "iopub.status.busy": "2023-12-29T02:08:38.849519Z",
     "iopub.status.idle": "2023-12-29T02:08:38.853482Z",
     "shell.execute_reply": "2023-12-29T02:08:38.852818Z",
     "shell.execute_reply.started": "2023-12-29T02:08:38.849680Z"
    }
   },
   "outputs": [],
   "source": [
    "#cohort_WITHMDR[(cohort_WITHMDR['ab_allna'] == 1)&(cohort_WITHMDR['org_sel'] == 0)].micro_name.value_counts().to_csv('sel_noresult.csv',encoding = 'ANSI')"
   ]
  },
  {
   "cell_type": "code",
   "execution_count": 120,
   "id": "6ab8bb6b",
   "metadata": {
    "ExecuteTime": {
     "end_time": "2021-10-16T17:17:57.639550Z",
     "start_time": "2021-10-16T17:17:57.560842Z"
    },
    "execution": {
     "iopub.execute_input": "2023-12-29T02:08:38.854476Z",
     "iopub.status.busy": "2023-12-29T02:08:38.854314Z",
     "iopub.status.idle": "2023-12-29T02:08:38.907223Z",
     "shell.execute_reply": "2023-12-29T02:08:38.905964Z",
     "shell.execute_reply.started": "2023-12-29T02:08:38.854462Z"
    }
   },
   "outputs": [],
   "source": [
    "cohort_WITHMDR_part2 = cohort_WITHMDR[(cohort_WITHMDR['org_sel']==1) & (cohort_WITHMDR['ab_allna']!=1)]"
   ]
  },
  {
   "cell_type": "code",
   "execution_count": 121,
   "id": "d7da2765",
   "metadata": {
    "ExecuteTime": {
     "end_time": "2021-10-16T17:17:58.448907Z",
     "start_time": "2021-10-16T17:17:58.428993Z"
    },
    "execution": {
     "iopub.execute_input": "2023-12-29T02:08:38.908253Z",
     "iopub.status.busy": "2023-12-29T02:08:38.908092Z",
     "iopub.status.idle": "2023-12-29T02:08:38.913753Z",
     "shell.execute_reply": "2023-12-29T02:08:38.912895Z",
     "shell.execute_reply.started": "2023-12-29T02:08:38.908239Z"
    }
   },
   "outputs": [],
   "source": [
    "cohort_WITHMDR_part1['PART'] = 'PART1'\n",
    "cohort_WITHMDR_part2['PART'] = 'PART2'"
   ]
  },
  {
   "cell_type": "code",
   "execution_count": 122,
   "id": "c6080b09",
   "metadata": {
    "ExecuteTime": {
     "end_time": "2021-10-16T17:18:01.760732Z",
     "start_time": "2021-10-16T17:18:01.368459Z"
    },
    "execution": {
     "iopub.execute_input": "2023-12-29T02:08:38.914664Z",
     "iopub.status.busy": "2023-12-29T02:08:38.914508Z",
     "iopub.status.idle": "2023-12-29T02:08:39.135855Z",
     "shell.execute_reply": "2023-12-29T02:08:39.134305Z",
     "shell.execute_reply.started": "2023-12-29T02:08:38.914649Z"
    }
   },
   "outputs": [],
   "source": [
    "cohort_WITHMDR_sel = pd.concat([cohort_WITHMDR_part1,cohort_WITHMDR_part2])"
   ]
  },
  {
   "cell_type": "code",
   "execution_count": 123,
   "id": "0b97d6f7",
   "metadata": {
    "ExecuteTime": {
     "end_time": "2021-10-16T17:18:33.013441Z",
     "start_time": "2021-10-16T17:18:03.967333Z"
    },
    "execution": {
     "iopub.execute_input": "2023-12-29T02:08:39.137384Z",
     "iopub.status.busy": "2023-12-29T02:08:39.137201Z",
     "iopub.status.idle": "2023-12-29T02:08:54.634648Z",
     "shell.execute_reply": "2023-12-29T02:08:54.633226Z",
     "shell.execute_reply.started": "2023-12-29T02:08:39.137367Z"
    }
   },
   "outputs": [],
   "source": [
    "cohort_WITHMDR.to_csv('cohort_WITHMDR.csv', index = False)"
   ]
  },
  {
   "cell_type": "code",
   "execution_count": 124,
   "id": "174830d4",
   "metadata": {
    "ExecuteTime": {
     "end_time": "2021-10-16T17:18:45.531512Z",
     "start_time": "2021-10-16T17:18:33.016426Z"
    },
    "execution": {
     "iopub.execute_input": "2023-12-29T02:08:54.636213Z",
     "iopub.status.busy": "2023-12-29T02:08:54.636031Z",
     "iopub.status.idle": "2023-12-29T02:09:01.435162Z",
     "shell.execute_reply": "2023-12-29T02:09:01.434047Z",
     "shell.execute_reply.started": "2023-12-29T02:08:54.636196Z"
    }
   },
   "outputs": [],
   "source": [
    "cohort_WITHMDR_sel.to_csv('cohort_WITHMDR_sel.csv', index = False)"
   ]
  },
  {
   "cell_type": "code",
   "execution_count": 125,
   "id": "abdb1e49",
   "metadata": {
    "ExecuteTime": {
     "end_time": "2021-10-17T15:35:25.595256Z",
     "start_time": "2021-10-17T15:35:25.535519Z"
    },
    "execution": {
     "iopub.execute_input": "2023-12-29T02:21:35.282204Z",
     "iopub.status.busy": "2023-12-29T02:21:35.281568Z",
     "iopub.status.idle": "2023-12-29T02:21:35.308980Z",
     "shell.execute_reply": "2023-12-29T02:21:35.308104Z",
     "shell.execute_reply.started": "2023-12-29T02:21:35.282150Z"
    }
   },
   "outputs": [
    {
     "data": {
      "text/html": [
       "<div>\n",
       "<style scoped>\n",
       "    .dataframe tbody tr th:only-of-type {\n",
       "        vertical-align: middle;\n",
       "    }\n",
       "\n",
       "    .dataframe tbody tr th {\n",
       "        vertical-align: top;\n",
       "    }\n",
       "\n",
       "    .dataframe thead th {\n",
       "        text-align: right;\n",
       "    }\n",
       "</style>\n",
       "<table border=\"1\" class=\"dataframe\">\n",
       "  <thead>\n",
       "    <tr style=\"text-align: right;\">\n",
       "      <th></th>\n",
       "      <th>PATIENT_ID</th>\n",
       "      <th>TF_ADMISSION_DATE_TIME</th>\n",
       "    </tr>\n",
       "  </thead>\n",
       "  <tbody>\n",
       "    <tr>\n",
       "      <th>15</th>\n",
       "      <td>S108424989</td>\n",
       "      <td>2015-08-19 17:04:43</td>\n",
       "    </tr>\n",
       "    <tr>\n",
       "      <th>18</th>\n",
       "      <td>S108427755</td>\n",
       "      <td>2013-11-06 22:38:27</td>\n",
       "    </tr>\n",
       "    <tr>\n",
       "      <th>30</th>\n",
       "      <td>S108437842</td>\n",
       "      <td>2018-08-17 02:02:13</td>\n",
       "    </tr>\n",
       "    <tr>\n",
       "      <th>52</th>\n",
       "      <td>S108491846</td>\n",
       "      <td>2016-06-15 13:15:46</td>\n",
       "    </tr>\n",
       "    <tr>\n",
       "      <th>56</th>\n",
       "      <td>S108493128</td>\n",
       "      <td>2018-05-19 23:56:26</td>\n",
       "    </tr>\n",
       "    <tr>\n",
       "      <th>...</th>\n",
       "      <td>...</td>\n",
       "      <td>...</td>\n",
       "    </tr>\n",
       "    <tr>\n",
       "      <th>168384</th>\n",
       "      <td>S118047621</td>\n",
       "      <td>2019-02-01 18:31:43</td>\n",
       "    </tr>\n",
       "    <tr>\n",
       "      <th>168428</th>\n",
       "      <td>S118051322</td>\n",
       "      <td>2019-02-05 18:14:55</td>\n",
       "    </tr>\n",
       "    <tr>\n",
       "      <th>168448</th>\n",
       "      <td>S118052962</td>\n",
       "      <td>2019-02-12 20:48:05</td>\n",
       "    </tr>\n",
       "    <tr>\n",
       "      <th>168469</th>\n",
       "      <td>S118055349</td>\n",
       "      <td>2019-02-10 12:56:43</td>\n",
       "    </tr>\n",
       "    <tr>\n",
       "      <th>168487</th>\n",
       "      <td>S118059185</td>\n",
       "      <td>2019-02-21 16:51:51</td>\n",
       "    </tr>\n",
       "  </tbody>\n",
       "</table>\n",
       "<p>8145 rows × 2 columns</p>\n",
       "</div>"
      ],
      "text/plain": [
       "        PATIENT_ID TF_ADMISSION_DATE_TIME\n",
       "15      S108424989    2015-08-19 17:04:43\n",
       "18      S108427755    2013-11-06 22:38:27\n",
       "30      S108437842    2018-08-17 02:02:13\n",
       "52      S108491846    2016-06-15 13:15:46\n",
       "56      S108493128    2018-05-19 23:56:26\n",
       "...            ...                    ...\n",
       "168384  S118047621    2019-02-01 18:31:43\n",
       "168428  S118051322    2019-02-05 18:14:55\n",
       "168448  S118052962    2019-02-12 20:48:05\n",
       "168469  S118055349    2019-02-10 12:56:43\n",
       "168487  S118059185    2019-02-21 16:51:51\n",
       "\n",
       "[8145 rows x 2 columns]"
      ]
     },
     "execution_count": 125,
     "metadata": {},
     "output_type": "execute_result"
    }
   ],
   "source": [
    "icustay_detail[icustay_detail['ICU_TYPE'] == 'ICU'][['PATIENT_ID','TF_ADMISSION_DATE_TIME']].drop_duplicates()"
   ]
  },
  {
   "cell_type": "code",
   "execution_count": 126,
   "id": "9aa51859",
   "metadata": {
    "ExecuteTime": {
     "end_time": "2021-10-17T15:22:25.630834Z",
     "start_time": "2021-10-17T15:22:25.450629Z"
    },
    "execution": {
     "iopub.execute_input": "2023-12-29T02:21:39.530675Z",
     "iopub.status.busy": "2023-12-29T02:21:39.530145Z",
     "iopub.status.idle": "2023-12-29T02:21:39.594878Z",
     "shell.execute_reply": "2023-12-29T02:21:39.594141Z",
     "shell.execute_reply.started": "2023-12-29T02:21:39.530624Z"
    }
   },
   "outputs": [
    {
     "data": {
      "text/html": [
       "<div>\n",
       "<style scoped>\n",
       "    .dataframe tbody tr th:only-of-type {\n",
       "        vertical-align: middle;\n",
       "    }\n",
       "\n",
       "    .dataframe tbody tr th {\n",
       "        vertical-align: top;\n",
       "    }\n",
       "\n",
       "    .dataframe thead th {\n",
       "        text-align: right;\n",
       "    }\n",
       "</style>\n",
       "<table border=\"1\" class=\"dataframe\">\n",
       "  <thead>\n",
       "    <tr style=\"text-align: right;\">\n",
       "      <th></th>\n",
       "      <th>PATIENT_ID</th>\n",
       "      <th>TF_ADMISSION_DATE_TIME</th>\n",
       "    </tr>\n",
       "  </thead>\n",
       "  <tbody>\n",
       "    <tr>\n",
       "      <th>0</th>\n",
       "      <td>S110236895</td>\n",
       "      <td>2009-01-10 15:40:00</td>\n",
       "    </tr>\n",
       "    <tr>\n",
       "      <th>1</th>\n",
       "      <td>S111326401</td>\n",
       "      <td>2009-07-02 17:00:00</td>\n",
       "    </tr>\n",
       "    <tr>\n",
       "      <th>2</th>\n",
       "      <td>S111326401</td>\n",
       "      <td>2009-09-02 17:20:00</td>\n",
       "    </tr>\n",
       "    <tr>\n",
       "      <th>3</th>\n",
       "      <td>S110676645</td>\n",
       "      <td>2008-11-17 18:14:08</td>\n",
       "    </tr>\n",
       "    <tr>\n",
       "      <th>5</th>\n",
       "      <td>S110183479</td>\n",
       "      <td>2008-12-05 11:46:58</td>\n",
       "    </tr>\n",
       "    <tr>\n",
       "      <th>...</th>\n",
       "      <td>...</td>\n",
       "      <td>...</td>\n",
       "    </tr>\n",
       "    <tr>\n",
       "      <th>648880</th>\n",
       "      <td>S113483336</td>\n",
       "      <td>NaT</td>\n",
       "    </tr>\n",
       "    <tr>\n",
       "      <th>648889</th>\n",
       "      <td>S118075204</td>\n",
       "      <td>2019-02-17 20:15:00</td>\n",
       "    </tr>\n",
       "    <tr>\n",
       "      <th>648892</th>\n",
       "      <td>S118072949</td>\n",
       "      <td>NaT</td>\n",
       "    </tr>\n",
       "    <tr>\n",
       "      <th>648904</th>\n",
       "      <td>S111214087</td>\n",
       "      <td>NaT</td>\n",
       "    </tr>\n",
       "    <tr>\n",
       "      <th>648921</th>\n",
       "      <td>S115155455</td>\n",
       "      <td>2017-06-20 10:51:17</td>\n",
       "    </tr>\n",
       "  </tbody>\n",
       "</table>\n",
       "<p>39720 rows × 2 columns</p>\n",
       "</div>"
      ],
      "text/plain": [
       "        PATIENT_ID TF_ADMISSION_DATE_TIME\n",
       "0       S110236895    2009-01-10 15:40:00\n",
       "1       S111326401    2009-07-02 17:00:00\n",
       "2       S111326401    2009-09-02 17:20:00\n",
       "3       S110676645    2008-11-17 18:14:08\n",
       "5       S110183479    2008-12-05 11:46:58\n",
       "...            ...                    ...\n",
       "648880  S113483336                    NaT\n",
       "648889  S118075204    2019-02-17 20:15:00\n",
       "648892  S118072949                    NaT\n",
       "648904  S111214087                    NaT\n",
       "648921  S115155455    2017-06-20 10:51:17\n",
       "\n",
       "[39720 rows x 2 columns]"
      ]
     },
     "execution_count": 126,
     "metadata": {},
     "output_type": "execute_result"
    }
   ],
   "source": [
    "cohort_WITHMDR[['PATIENT_ID','TF_ADMISSION_DATE_TIME']].drop_duplicates()"
   ]
  },
  {
   "cell_type": "code",
   "execution_count": 127,
   "id": "72b499de",
   "metadata": {
    "ExecuteTime": {
     "end_time": "2021-10-17T15:25:20.655466Z",
     "start_time": "2021-10-17T15:25:16.544585Z"
    },
    "execution": {
     "iopub.execute_input": "2023-12-29T02:21:45.555551Z",
     "iopub.status.busy": "2023-12-29T02:21:45.555006Z",
     "iopub.status.idle": "2023-12-29T02:21:46.637620Z",
     "shell.execute_reply": "2023-12-29T02:21:46.636007Z",
     "shell.execute_reply.started": "2023-12-29T02:21:45.555501Z"
    }
   },
   "outputs": [],
   "source": [
    "test = pd.merge(icustay_1stmdr, culture_mdr, how = 'left', on = ['PATIENT_ID'])"
   ]
  },
  {
   "cell_type": "code",
   "execution_count": 128,
   "id": "57ec56e7",
   "metadata": {
    "ExecuteTime": {
     "end_time": "2021-10-17T15:25:28.361503Z",
     "start_time": "2021-10-17T15:25:27.546098Z"
    },
    "execution": {
     "iopub.execute_input": "2023-12-29T02:21:48.130363Z",
     "iopub.status.busy": "2023-12-29T02:21:48.129824Z",
     "iopub.status.idle": "2023-12-29T02:21:48.818717Z",
     "shell.execute_reply": "2023-12-29T02:21:48.817211Z",
     "shell.execute_reply.started": "2023-12-29T02:21:48.130313Z"
    }
   },
   "outputs": [
    {
     "data": {
      "text/html": [
       "<div>\n",
       "<style scoped>\n",
       "    .dataframe tbody tr th:only-of-type {\n",
       "        vertical-align: middle;\n",
       "    }\n",
       "\n",
       "    .dataframe tbody tr th {\n",
       "        vertical-align: top;\n",
       "    }\n",
       "\n",
       "    .dataframe thead th {\n",
       "        text-align: right;\n",
       "    }\n",
       "</style>\n",
       "<table border=\"1\" class=\"dataframe\">\n",
       "  <thead>\n",
       "    <tr style=\"text-align: right;\">\n",
       "      <th></th>\n",
       "      <th>PATIENT_ID</th>\n",
       "      <th>TF_ADMISSION_DATE_TIME</th>\n",
       "    </tr>\n",
       "  </thead>\n",
       "  <tbody>\n",
       "    <tr>\n",
       "      <th>0</th>\n",
       "      <td>S108413368</td>\n",
       "      <td>2017-01-18 16:48:43</td>\n",
       "    </tr>\n",
       "    <tr>\n",
       "      <th>5</th>\n",
       "      <td>S108413368</td>\n",
       "      <td>2017-02-02 15:10:00</td>\n",
       "    </tr>\n",
       "    <tr>\n",
       "      <th>10</th>\n",
       "      <td>S108415620</td>\n",
       "      <td>2018-10-10 16:58:07</td>\n",
       "    </tr>\n",
       "    <tr>\n",
       "      <th>11</th>\n",
       "      <td>S108417789</td>\n",
       "      <td>2011-09-11 19:00:00</td>\n",
       "    </tr>\n",
       "    <tr>\n",
       "      <th>12</th>\n",
       "      <td>S108418984</td>\n",
       "      <td>2013-04-18 14:30:00</td>\n",
       "    </tr>\n",
       "    <tr>\n",
       "      <th>...</th>\n",
       "      <td>...</td>\n",
       "      <td>...</td>\n",
       "    </tr>\n",
       "    <tr>\n",
       "      <th>688702</th>\n",
       "      <td>S118088098</td>\n",
       "      <td>2019-02-20 13:50:00</td>\n",
       "    </tr>\n",
       "    <tr>\n",
       "      <th>688706</th>\n",
       "      <td>S118090924</td>\n",
       "      <td>2019-02-20 20:31:21</td>\n",
       "    </tr>\n",
       "    <tr>\n",
       "      <th>688707</th>\n",
       "      <td>S118091678</td>\n",
       "      <td>2019-02-20 13:54:48</td>\n",
       "    </tr>\n",
       "    <tr>\n",
       "      <th>688708</th>\n",
       "      <td>S118091792</td>\n",
       "      <td>2019-02-20 15:34:17</td>\n",
       "    </tr>\n",
       "    <tr>\n",
       "      <th>688709</th>\n",
       "      <td>S118094914</td>\n",
       "      <td>2019-02-21 13:08:54</td>\n",
       "    </tr>\n",
       "  </tbody>\n",
       "</table>\n",
       "<p>82668 rows × 2 columns</p>\n",
       "</div>"
      ],
      "text/plain": [
       "        PATIENT_ID TF_ADMISSION_DATE_TIME\n",
       "0       S108413368    2017-01-18 16:48:43\n",
       "5       S108413368    2017-02-02 15:10:00\n",
       "10      S108415620    2018-10-10 16:58:07\n",
       "11      S108417789    2011-09-11 19:00:00\n",
       "12      S108418984    2013-04-18 14:30:00\n",
       "...            ...                    ...\n",
       "688702  S118088098    2019-02-20 13:50:00\n",
       "688706  S118090924    2019-02-20 20:31:21\n",
       "688707  S118091678    2019-02-20 13:54:48\n",
       "688708  S118091792    2019-02-20 15:34:17\n",
       "688709  S118094914    2019-02-21 13:08:54\n",
       "\n",
       "[82668 rows x 2 columns]"
      ]
     },
     "execution_count": 128,
     "metadata": {},
     "output_type": "execute_result"
    }
   ],
   "source": [
    "test[['PATIENT_ID','TF_ADMISSION_DATE_TIME']].drop_duplicates()"
   ]
  },
  {
   "cell_type": "code",
   "execution_count": null,
   "id": "769fa4a6-1b68-4ed4-8932-83edf9d29763",
   "metadata": {},
   "outputs": [],
   "source": []
  }
 ],
 "metadata": {
  "kernelspec": {
   "display_name": "machine_learning",
   "language": "python",
   "name": "ml"
  },
  "language_info": {
   "codemirror_mode": {
    "name": "ipython",
    "version": 3
   },
   "file_extension": ".py",
   "mimetype": "text/x-python",
   "name": "python",
   "nbconvert_exporter": "python",
   "pygments_lexer": "ipython3",
   "version": "3.9.16"
  },
  "toc": {
   "base_numbering": 1,
   "nav_menu": {},
   "number_sections": true,
   "sideBar": true,
   "skip_h1_title": false,
   "title_cell": "Table of Contents",
   "title_sidebar": "Contents",
   "toc_cell": false,
   "toc_position": {},
   "toc_section_display": true,
   "toc_window_display": false
  },
  "varInspector": {
   "cols": {
    "lenName": 16,
    "lenType": 16,
    "lenVar": 40
   },
   "kernels_config": {
    "python": {
     "delete_cmd_postfix": "",
     "delete_cmd_prefix": "del ",
     "library": "var_list.py",
     "varRefreshCmd": "print(var_dic_list())"
    },
    "r": {
     "delete_cmd_postfix": ") ",
     "delete_cmd_prefix": "rm(",
     "library": "var_list.r",
     "varRefreshCmd": "cat(var_dic_list()) "
    }
   },
   "position": {
    "height": "400.844px",
    "left": "1337.33px",
    "right": "20px",
    "top": "120px",
    "width": "350px"
   },
   "types_to_exclude": [
    "module",
    "function",
    "builtin_function_or_method",
    "instance",
    "_Feature"
   ],
   "window_display": false
  }
 },
 "nbformat": 4,
 "nbformat_minor": 5
}
