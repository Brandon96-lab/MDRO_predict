{
 "cells": [
  {
   "cell_type": "code",
   "execution_count": 13,
   "id": "5732a789",
   "metadata": {
    "ExecuteTime": {
     "end_time": "2022-02-17T06:44:24.600628Z",
     "start_time": "2022-02-17T06:44:22.719144Z"
    },
    "execution": {
     "iopub.execute_input": "2024-06-18T03:41:12.291281Z",
     "iopub.status.busy": "2024-06-18T03:41:12.290911Z",
     "iopub.status.idle": "2024-06-18T03:41:12.315752Z",
     "shell.execute_reply": "2024-06-18T03:41:12.314563Z",
     "shell.execute_reply.started": "2024-06-18T03:41:12.291251Z"
    },
    "tags": []
   },
   "outputs": [],
   "source": [
    "import warnings\n",
    "warnings.filterwarnings(\"ignore\")\n",
    "\n",
    "import numpy as np\n",
    "import pandas as pd\n",
    "import matplotlib.pyplot as plt\n",
    "import seaborn as sns\n",
    "%matplotlib inline\n",
    "#pd.set_option('max_columns',100)\n",
    "\n",
    "import matplotlib as mpl\n",
    "mpl.style.use('ggplot')\n",
    "sns.set_style('white')\n",
    "\n",
    "import sklearn\n",
    "from sklearn.linear_model import LogisticRegression\n",
    "from sklearn.tree import DecisionTreeClassifier\n",
    "from sklearn.ensemble import RandomForestClassifier\n",
    "from xgboost.sklearn import XGBClassifier\n",
    "from sklearn.svm import SVC\n",
    "from sklearn.neural_network import MLPClassifier\n",
    "from sklearn.neighbors import KNeighborsClassifier\n",
    "\n",
    "import sys\n",
    "import os\n",
    "import tempfile\n",
    "from sklearn.preprocessing import StandardScaler\n",
    "\n",
    "from sklearn.model_selection import GridSearchCV\n",
    "from sklearn.model_selection import train_test_split\n",
    "from sklearn.model_selection import ShuffleSplit\n",
    "from sklearn.model_selection import cross_val_score\n",
    "\n",
    "from sklearn import metrics\n",
    "from sklearn.metrics import confusion_matrix\n",
    "from sklearn.metrics import plot_roc_curve\n",
    "from sklearn.metrics import roc_auc_score\n",
    "from sklearn.metrics import roc_curve,auc\n",
    "from sklearn.metrics import accuracy_score\n",
    "from sklearn.calibration import calibration_curve\n",
    "from sklearn.metrics import brier_score_loss\n",
    "from sklearn.metrics import (precision_score, recall_score,f1_score)\n",
    "from sklearn.calibration import CalibratedClassifierCV, calibration_curve"
   ]
  },
  {
   "cell_type": "code",
   "execution_count": 14,
   "id": "3afb4e02",
   "metadata": {
    "ExecuteTime": {
     "end_time": "2022-02-17T06:44:27.638220Z",
     "start_time": "2022-02-17T06:44:27.606130Z"
    },
    "execution": {
     "iopub.execute_input": "2024-06-18T03:41:12.773833Z",
     "iopub.status.busy": "2024-06-18T03:41:12.772776Z",
     "iopub.status.idle": "2024-06-18T03:41:12.777777Z",
     "shell.execute_reply": "2024-06-18T03:41:12.776889Z",
     "shell.execute_reply.started": "2024-06-18T03:41:12.773795Z"
    },
    "tags": []
   },
   "outputs": [],
   "source": [
    "from sklearn.ensemble import GradientBoostingClassifier\n",
    "from bayes_opt import BayesianOptimization"
   ]
  },
  {
   "cell_type": "code",
   "execution_count": 15,
   "id": "00887dcd",
   "metadata": {
    "ExecuteTime": {
     "end_time": "2022-02-10T16:33:25.983825Z",
     "start_time": "2022-02-10T16:33:25.396674Z"
    },
    "execution": {
     "iopub.execute_input": "2024-06-18T03:41:13.210951Z",
     "iopub.status.busy": "2024-06-18T03:41:13.209978Z",
     "iopub.status.idle": "2024-06-18T03:41:13.983943Z",
     "shell.execute_reply": "2024-06-18T03:41:13.982852Z",
     "shell.execute_reply.started": "2024-06-18T03:41:13.210913Z"
    },
    "tags": []
   },
   "outputs": [],
   "source": [
    "dev_df = pd.read_csv('dev_df_revise.csv')\n",
    "val_df = pd.read_csv('val_df_revise.csv')"
   ]
  },
  {
   "cell_type": "code",
   "execution_count": 16,
   "id": "1fc8eae2",
   "metadata": {
    "ExecuteTime": {
     "end_time": "2022-02-10T16:33:25.999824Z",
     "start_time": "2022-02-10T16:33:25.985820Z"
    },
    "execution": {
     "iopub.execute_input": "2024-06-18T03:41:14.023933Z",
     "iopub.status.busy": "2024-06-18T03:41:14.021522Z",
     "iopub.status.idle": "2024-06-18T03:41:14.031011Z",
     "shell.execute_reply": "2024-06-18T03:41:14.030253Z",
     "shell.execute_reply.started": "2024-06-18T03:41:14.023901Z"
    },
    "tags": []
   },
   "outputs": [],
   "source": [
    "label_features_dict = {\n",
    "'stay_chart_included_mdr':['dementia',\n",
    " 'platelet',\n",
    " 'phosphate',\n",
    " 'heart_rate',\n",
    " 'weight',\n",
    " 'creatinine',\n",
    " 'basophils_abs',\n",
    " 'lymphocytes_abs',\n",
    " 'icustay_rank',\n",
    " 'temperature',\n",
    " 'sodium',\n",
    " 'history_difficulty_swallowing',\n",
    " 'los_hosp_beforeicu',\n",
    " 'hospstay_seq',\n",
    " 'neutrophils_abs',\n",
    " 'wbc',\n",
    " 'mg',\n",
    " 'NLR',\n",
    " 'admission_age',\n",
    " 'history_assistive_devices_Wheelchair',\n",
    " 'mchc',\n",
    " 'history_past_COPD',\n",
    " 'bun',\n",
    " 'rdw',\n",
    " 'previous_mdr_90d'\n",
    "]\n",
    "}"
   ]
  },
  {
   "cell_type": "code",
   "execution_count": 17,
   "id": "cef84423",
   "metadata": {
    "ExecuteTime": {
     "end_time": "2022-02-10T16:33:26.015819Z",
     "start_time": "2022-02-10T16:33:26.001826Z"
    },
    "execution": {
     "iopub.execute_input": "2024-06-18T03:41:14.610070Z",
     "iopub.status.busy": "2024-06-18T03:41:14.609722Z",
     "iopub.status.idle": "2024-06-18T03:41:14.614772Z",
     "shell.execute_reply": "2024-06-18T03:41:14.613911Z",
     "shell.execute_reply.started": "2024-06-18T03:41:14.610042Z"
    },
    "tags": []
   },
   "outputs": [],
   "source": [
    "from sklearn.preprocessing import MinMaxScaler\n",
    "from sklearn.preprocessing import StandardScaler\n",
    "# scaler = StandardScaler()\n",
    "\n",
    "# x_train = scaler.fit_transform(x_train)\n",
    "# x_test = scaler.transform(x_test)"
   ]
  },
  {
   "cell_type": "code",
   "execution_count": 18,
   "id": "f613b26d",
   "metadata": {
    "ExecuteTime": {
     "end_time": "2022-02-10T16:33:26.093826Z",
     "start_time": "2022-02-10T16:33:26.017819Z"
    },
    "execution": {
     "iopub.execute_input": "2024-06-18T03:41:15.218790Z",
     "iopub.status.busy": "2024-06-18T03:41:15.218439Z",
     "iopub.status.idle": "2024-06-18T03:41:15.234005Z",
     "shell.execute_reply": "2024-06-18T03:41:15.233342Z",
     "shell.execute_reply.started": "2024-06-18T03:41:15.218761Z"
    },
    "tags": []
   },
   "outputs": [],
   "source": [
    "#lr\n",
    "def lr_cv(expC):\n",
    "    C = 10 ** expC\n",
    "    res = cross_val_score( \n",
    "        LogisticRegression(C = C\n",
    "        ),\n",
    "        x_train, y_train, scoring='roc_auc', cv=5\n",
    "    ).mean()\n",
    "    return res\n",
    "\n",
    "lr_op = BayesianOptimization(\n",
    "        lr_cv,\n",
    "        {'expC': (-5, 2)},\n",
    "    random_state=2023\n",
    ")\n",
    "\n",
    "#knn\n",
    "def knn_cv(n_neighbors, weights):\n",
    "    weights = int(round(weights))\n",
    "    res = cross_val_score( \n",
    "        KNeighborsClassifier(n_neighbors=int(n_neighbors),\n",
    "                            weights= ['uniform', 'distance'][weights]\n",
    "        ),\n",
    "        x_train, y_train, scoring='roc_auc', cv=5\n",
    "    ).mean()\n",
    "    return res\n",
    "\n",
    "knn_op = BayesianOptimization(\n",
    "        knn_cv,\n",
    "        {'n_neighbors': (2, 20),\n",
    "        'weights': (0,1)},\n",
    "    random_state = 2023\n",
    ")\n",
    "\n",
    "#svc\n",
    "def svc_cv(expC, expGamma):\n",
    "    C = 10 ** expC\n",
    "    gamma = 10 ** expGamma\n",
    "    \n",
    "    res = cross_val_score(\n",
    "        SVC(C=C, gamma=gamma,random_state=2023),\n",
    "        x_train, y_train, scoring='roc_auc', cv=5\n",
    "    ).mean()\n",
    "    return res\n",
    "\n",
    "svc_op = BayesianOptimization(\n",
    "        svc_cv,\n",
    "        {'expC': (-5, 3), \n",
    "         'expGamma': (-4, -1)},\n",
    "    random_state = 2023\n",
    ")\n",
    "\n",
    "#mlp\n",
    "def mlp_cv(layer1, layer2):    \n",
    "    res = cross_val_score(\n",
    "        MLPClassifier(hidden_layer_sizes=(int(layer1),int(layer2)),early_stopping = True, random_state=2023),\n",
    "        x_train, y_train, scoring='roc_auc', cv=5\n",
    "    ).mean()\n",
    "    return res\n",
    "\n",
    "mlp_op = BayesianOptimization(\n",
    "        mlp_cv,\n",
    "        {'layer1': (30, 300), \n",
    "         'layer2': (4, 120)},\n",
    "    random_state = 2023\n",
    ")"
   ]
  },
  {
   "cell_type": "code",
   "execution_count": 19,
   "id": "bb12d94a",
   "metadata": {
    "ExecuteTime": {
     "end_time": "2022-02-10T16:33:26.109819Z",
     "start_time": "2022-02-10T16:33:26.096820Z"
    },
    "execution": {
     "iopub.execute_input": "2024-06-18T03:41:15.480115Z",
     "iopub.status.busy": "2024-06-18T03:41:15.479834Z",
     "iopub.status.idle": "2024-06-18T03:41:15.496222Z",
     "shell.execute_reply": "2024-06-18T03:41:15.488648Z",
     "shell.execute_reply.started": "2024-06-18T03:41:15.480090Z"
    },
    "tags": []
   },
   "outputs": [],
   "source": [
    "def optimize_lr(n_iter):\n",
    "    total_param_dict = {}\n",
    "    models_dict = {}\n",
    "    \n",
    "    def lr_cv(expC):\n",
    "        C = 10 ** expC\n",
    "        res = cross_val_score( \n",
    "            LogisticRegression(C = C\n",
    "            ),\n",
    "            x_train, y_train, scoring='roc_auc', cv=5\n",
    "        ).mean()\n",
    "        return res\n",
    "\n",
    "    lr_op = BayesianOptimization(\n",
    "            lr_cv,\n",
    "            {'expC': (-5, 2)},\n",
    "        random_state=2023\n",
    "    )\n",
    "\n",
    "    for i in label_features_dict:\n",
    "        label = i\n",
    "        features = label_features_dict[i]\n",
    "        x_train = dev_df[features]\n",
    "        y_train = dev_df[label]\n",
    "        x_test = val_df[features]\n",
    "        y_test = val_df[label]\n",
    "\n",
    "        scaler = MinMaxScaler()\n",
    "        x_train = scaler.fit_transform(x_train)\n",
    "        x_test = scaler.transform(x_test)      \n",
    "        \n",
    "        lr_op = BayesianOptimization(\n",
    "            lr_cv,\n",
    "            {'expC': (-5, 2)},\n",
    "            random_state=2023)\n",
    "\n",
    "        print('---------------------------特征为：%s-------------------------------'%label)\n",
    "        print('---------------------------模型为：lr-------------------------------')\n",
    "        lr_op.maximize(n_iter=n_iter)\n",
    "        print(lr_op.max)\n",
    "        models_dict[label] = lr_op.max\n",
    "        print('----------------------------------------------------------------------------------------------------')\n",
    "        \n",
    "    return models_dict"
   ]
  },
  {
   "cell_type": "code",
   "execution_count": 20,
   "id": "088a9a65",
   "metadata": {
    "ExecuteTime": {
     "end_time": "2022-02-10T16:33:26.125826Z",
     "start_time": "2022-02-10T16:33:26.111821Z"
    },
    "execution": {
     "iopub.execute_input": "2024-06-18T03:41:15.930571Z",
     "iopub.status.busy": "2024-06-18T03:41:15.930128Z",
     "iopub.status.idle": "2024-06-18T03:41:15.949635Z",
     "shell.execute_reply": "2024-06-18T03:41:15.948909Z",
     "shell.execute_reply.started": "2024-06-18T03:41:15.930542Z"
    },
    "tags": []
   },
   "outputs": [],
   "source": [
    "def optimize_knn(n_iter):\n",
    "    total_param_dict = {}\n",
    "    models_dict = {}\n",
    "    \n",
    "    def knn_cv(n_neighbors, weights):\n",
    "        weights = int(round(weights))\n",
    "        res = cross_val_score( \n",
    "            KNeighborsClassifier(n_neighbors=int(n_neighbors),\n",
    "                                weights= ['uniform', 'distance'][weights]\n",
    "            ),\n",
    "            x_train, y_train, scoring='roc_auc', cv=5\n",
    "        ).mean()\n",
    "        return res\n",
    "\n",
    "    for i in label_features_dict:\n",
    "        label = i\n",
    "        features = label_features_dict[i]\n",
    "        x_train = dev_df[features]\n",
    "        y_train = dev_df[label]\n",
    "        x_test = val_df[features]\n",
    "        y_test = val_df[label]\n",
    "\n",
    "        scaler = MinMaxScaler()\n",
    "        x_train = scaler.fit_transform(x_train)\n",
    "        x_test = scaler.transform(x_test)      \n",
    "        \n",
    "        knn_op = BayesianOptimization(\n",
    "            knn_cv,\n",
    "            {'n_neighbors': (2, 50),\n",
    "            'weights': (0,1)},allow_duplicate_points=True,\n",
    "            random_state = 2023)\n",
    "\n",
    "        print('---------------------------特征为：%s-------------------------------'%label)\n",
    "        print('---------------------------模型为：knn-------------------------------')\n",
    "        knn_op.maximize(n_iter=n_iter)\n",
    "        print(knn_op.max)\n",
    "        models_dict[label] = knn_op.max\n",
    "        print('----------------------------------------------------------------------------------------------------')\n",
    "        \n",
    "    return models_dict"
   ]
  },
  {
   "cell_type": "code",
   "execution_count": 21,
   "id": "85d002b7",
   "metadata": {
    "ExecuteTime": {
     "end_time": "2022-02-10T16:33:26.141826Z",
     "start_time": "2022-02-10T16:33:26.127824Z"
    },
    "execution": {
     "iopub.execute_input": "2024-06-18T03:41:16.701094Z",
     "iopub.status.busy": "2024-06-18T03:41:16.700428Z",
     "iopub.status.idle": "2024-06-18T03:41:16.710814Z",
     "shell.execute_reply": "2024-06-18T03:41:16.709955Z",
     "shell.execute_reply.started": "2024-06-18T03:41:16.701060Z"
    },
    "tags": []
   },
   "outputs": [],
   "source": [
    "def optimize_svc(n_iter):\n",
    "    total_param_dict = {}\n",
    "    models_dict = {}\n",
    "    \n",
    "    def svc_cv(expC, expGamma):\n",
    "        C = 10 ** expC\n",
    "        gamma = 10 ** expGamma\n",
    "\n",
    "        res = cross_val_score(\n",
    "            SVC(C=C, gamma=gamma,random_state=2023),\n",
    "            x_train, y_train, scoring='roc_auc', cv=5\n",
    "        ).mean()\n",
    "        return res\n",
    "\n",
    "    for i in label_features_dict:\n",
    "        label = i\n",
    "        features = label_features_dict[i]\n",
    "        x_train = dev_df[features]\n",
    "        y_train = dev_df[label]\n",
    "        x_test = val_df[features]\n",
    "        y_test = val_df[label]\n",
    "\n",
    "        scaler = MinMaxScaler()\n",
    "        x_train = scaler.fit_transform(x_train)\n",
    "        x_test = scaler.transform(x_test)      \n",
    "        \n",
    "        svc_op = BayesianOptimization(\n",
    "            svc_cv,\n",
    "            {'expC': (-3, 2), \n",
    "             'expGamma': (-4, -1)},\n",
    "                random_state = 2023)\n",
    "\n",
    "        print('---------------------------特征为：%s-------------------------------'%label)\n",
    "        print('---------------------------模型为：svc-------------------------------')\n",
    "        svc_op.maximize(n_iter=n_iter)\n",
    "        print(svc_op.max)\n",
    "        models_dict[label] = svc_op.max\n",
    "        print('----------------------------------------------------------------------------------------------------')\n",
    "        \n",
    "    return models_dict"
   ]
  },
  {
   "cell_type": "code",
   "execution_count": 22,
   "id": "fa06dddc",
   "metadata": {
    "ExecuteTime": {
     "end_time": "2022-02-10T16:33:26.157826Z",
     "start_time": "2022-02-10T16:33:26.143825Z"
    },
    "execution": {
     "iopub.execute_input": "2024-06-18T03:41:17.451002Z",
     "iopub.status.busy": "2024-06-18T03:41:17.450442Z",
     "iopub.status.idle": "2024-06-18T03:41:17.460774Z",
     "shell.execute_reply": "2024-06-18T03:41:17.459906Z",
     "shell.execute_reply.started": "2024-06-18T03:41:17.450969Z"
    },
    "tags": []
   },
   "outputs": [],
   "source": [
    "def optimize_mlp(n_iter):\n",
    "    total_param_dict = {}\n",
    "    models_dict = {}\n",
    "    \n",
    "    def mlp_cv(layer1, layer2):    \n",
    "        res = cross_val_score(\n",
    "            MLPClassifier(hidden_layer_sizes=(int(layer1),int(layer2)),early_stopping=False, random_state=2023),\n",
    "            x_train, y_train, scoring='roc_auc', cv=5).mean()\n",
    "        return res\n",
    "\n",
    "    for i in label_features_dict:\n",
    "        label = i\n",
    "        features = label_features_dict[i]\n",
    "        x_train = dev_df[features]\n",
    "        y_train = dev_df[label]\n",
    "        x_test = val_df[features]\n",
    "        y_test = val_df[label]\n",
    "\n",
    "        scaler = MinMaxScaler()\n",
    "        x_train = scaler.fit_transform(x_train)\n",
    "        x_test = scaler.transform(x_test)      \n",
    "        \n",
    "        mlp_op = BayesianOptimization(\n",
    "                mlp_cv,\n",
    "                {'layer1': (30, 300), \n",
    "                 'layer2': (4, 120)},\n",
    "            random_state = 2023)\n",
    "\n",
    "        print('---------------------------特征为：%s-------------------------------'%label)\n",
    "        print('---------------------------模型为：mlp-------------------------------')\n",
    "        mlp_op.maximize(n_iter=n_iter)\n",
    "        print(mlp_op.max)\n",
    "        models_dict[label] = mlp_op.max\n",
    "        print('----------------------------------------------------------------------------------------------------')\n",
    "        \n",
    "    return models_dict"
   ]
  },
  {
   "cell_type": "code",
   "execution_count": 23,
   "id": "eb617f2f-c017-4e6a-b211-efa04922fcc2",
   "metadata": {
    "execution": {
     "iopub.execute_input": "2024-06-18T03:41:18.174007Z",
     "iopub.status.busy": "2024-06-18T03:41:18.173618Z",
     "iopub.status.idle": "2024-06-18T03:41:18.184092Z",
     "shell.execute_reply": "2024-06-18T03:41:18.183419Z",
     "shell.execute_reply.started": "2024-06-18T03:41:18.173961Z"
    },
    "tags": []
   },
   "outputs": [],
   "source": [
    "def optimize_svc(n_iter):\n",
    "    total_param_dict = {}\n",
    "    models_dict = {}\n",
    "\n",
    "    def svc_cv(expC, expGamma, kernel_index):\n",
    "        C = 10 ** expC\n",
    "        gamma = 10 ** expGamma\n",
    "        kernel_options = ['linear', 'poly', 'rbf', 'sigmoid']\n",
    "        kernel = kernel_options[int(kernel_index)]\n",
    "\n",
    "        res = cross_val_score(\n",
    "            SVC(C=C, gamma=gamma, kernel=kernel, random_state=2023),\n",
    "            x_train, y_train, scoring='roc_auc', cv=5\n",
    "        ).mean()\n",
    "        return res\n",
    "\n",
    "    for label, features in label_features_dict.items():\n",
    "        x_train = dev_df[features]\n",
    "        y_train = dev_df[label]\n",
    "        x_test = val_df[features]\n",
    "        y_test = val_df[label]\n",
    "\n",
    "        #scaler = MinMaxScaler()\n",
    "        scaler = StandardScaler()\n",
    "        x_train = scaler.fit_transform(x_train)\n",
    "        x_test = scaler.transform(x_test)\n",
    "\n",
    "        svc_op = BayesianOptimization(\n",
    "            svc_cv,\n",
    "            {'expC': (-3, 2), \n",
    "             'expGamma': (-4, -1),\n",
    "             'kernel_index': (0, 3)},  # Add kernel index\n",
    "            random_state=2023)\n",
    "\n",
    "        print(f'---------------------------特征为：{label}-------------------------------')\n",
    "        print('---------------------------模型为：svc-------------------------------')\n",
    "        svc_op.maximize(n_iter=n_iter)\n",
    "        print(svc_op.max)\n",
    "        models_dict[label] = svc_op.max\n",
    "        print('----------------------------------------------------------------------------------------------------')\n",
    "\n",
    "    return models_dict"
   ]
  },
  {
   "cell_type": "code",
   "execution_count": null,
   "id": "1e3722fb-6cf0-4731-80c0-a30c882fca54",
   "metadata": {},
   "outputs": [],
   "source": [
    "models_dict_svc = optimize_svc(45)"
   ]
  },
  {
   "cell_type": "code",
   "execution_count": null,
   "id": "87f0352b",
   "metadata": {
    "ExecuteTime": {
     "end_time": "2022-02-10T16:34:20.053881Z",
     "start_time": "2022-02-10T16:33:26.159828Z"
    },
    "execution": {
     "iopub.status.busy": "2024-06-18T03:40:53.271174Z",
     "iopub.status.idle": "2024-06-18T03:40:53.275479Z",
     "shell.execute_reply": "2024-06-18T03:40:53.275263Z",
     "shell.execute_reply.started": "2024-06-18T03:40:53.275238Z"
    },
    "scrolled": true,
    "tags": []
   },
   "outputs": [],
   "source": [
    "models_dict_lr = optimize_lr(45)"
   ]
  },
  {
   "cell_type": "code",
   "execution_count": null,
   "id": "e32794b8",
   "metadata": {
    "ExecuteTime": {
     "end_time": "2022-02-10T16:43:30.682716Z",
     "start_time": "2022-02-10T16:34:20.055882Z"
    },
    "execution": {
     "iopub.status.busy": "2024-06-18T03:40:53.279424Z",
     "iopub.status.idle": "2024-06-18T03:40:53.281816Z",
     "shell.execute_reply": "2024-06-18T03:40:53.281615Z",
     "shell.execute_reply.started": "2024-06-18T03:40:53.281592Z"
    },
    "scrolled": true,
    "tags": []
   },
   "outputs": [],
   "source": [
    "models_dict_knn = optimize_knn(45)"
   ]
  },
  {
   "cell_type": "code",
   "execution_count": null,
   "id": "6ce0ac3c",
   "metadata": {
    "ExecuteTime": {
     "end_time": "2022-02-10T17:16:57.630715Z",
     "start_time": "2022-02-10T16:43:30.684716Z"
    },
    "execution": {
     "iopub.status.busy": "2024-06-18T03:40:53.285396Z",
     "iopub.status.idle": "2024-06-18T03:40:53.287796Z",
     "shell.execute_reply": "2024-06-18T03:40:53.287597Z",
     "shell.execute_reply.started": "2024-06-18T03:40:53.287575Z"
    },
    "tags": []
   },
   "outputs": [],
   "source": [
    "#models_dict_svc = optimize_svc(45)"
   ]
  },
  {
   "cell_type": "code",
   "execution_count": null,
   "id": "b47d3ba8",
   "metadata": {
    "ExecuteTime": {
     "end_time": "2022-02-10T20:34:07.522951Z",
     "start_time": "2022-02-10T17:16:57.633717Z"
    },
    "execution": {
     "iopub.status.busy": "2024-06-18T03:40:53.291569Z",
     "iopub.status.idle": "2024-06-18T03:40:53.293944Z",
     "shell.execute_reply": "2024-06-18T03:40:53.293744Z",
     "shell.execute_reply.started": "2024-06-18T03:40:53.293722Z"
    },
    "tags": []
   },
   "outputs": [],
   "source": [
    "models_dict_mlp = optimize_mlp(45)"
   ]
  },
  {
   "cell_type": "code",
   "execution_count": null,
   "id": "85d527a1",
   "metadata": {
    "ExecuteTime": {
     "end_time": "2022-02-10T20:34:07.537951Z",
     "start_time": "2022-02-10T20:34:07.526951Z"
    },
    "execution": {
     "iopub.status.busy": "2024-06-18T03:40:53.295039Z",
     "iopub.status.idle": "2024-06-18T03:40:53.295652Z",
     "shell.execute_reply": "2024-06-18T03:40:53.295466Z",
     "shell.execute_reply.started": "2024-06-18T03:40:53.295445Z"
    },
    "tags": []
   },
   "outputs": [],
   "source": [
    "models_dict_lr_mod = models_dict_lr.copy()\n",
    "models_dict_knn_mod =models_dict_knn.copy()\n",
    "models_dict_svc_mod =models_dict_svc.copy()\n",
    "models_dict_mlp_mod =models_dict_mlp.copy()"
   ]
  },
  {
   "cell_type": "code",
   "execution_count": null,
   "id": "506c6abd",
   "metadata": {
    "ExecuteTime": {
     "end_time": "2022-02-10T20:34:07.568951Z",
     "start_time": "2022-02-10T20:34:07.555950Z"
    },
    "execution": {
     "iopub.status.busy": "2024-06-18T03:40:53.299289Z",
     "iopub.status.idle": "2024-06-18T03:40:53.299898Z",
     "shell.execute_reply": "2024-06-18T03:40:53.299721Z",
     "shell.execute_reply.started": "2024-06-18T03:40:53.299701Z"
    },
    "tags": []
   },
   "outputs": [],
   "source": [
    "for i in models_dict_lr_mod:\n",
    "    models_dict_lr_mod[i]['params']['C'] = round(10 ** models_dict_lr_mod[i]['params']['expC'],5)\n",
    "    del models_dict_lr_mod[i]['params']['expC']"
   ]
  },
  {
   "cell_type": "code",
   "execution_count": null,
   "id": "aec9c462",
   "metadata": {
    "ExecuteTime": {
     "end_time": "2022-02-10T20:34:07.583958Z",
     "start_time": "2022-02-10T20:34:07.571954Z"
    },
    "execution": {
     "iopub.status.busy": "2024-06-18T03:40:53.300970Z",
     "iopub.status.idle": "2024-06-18T03:40:53.301589Z",
     "shell.execute_reply": "2024-06-18T03:40:53.301405Z",
     "shell.execute_reply.started": "2024-06-18T03:40:53.301384Z"
    },
    "tags": []
   },
   "outputs": [],
   "source": [
    "for i in models_dict_knn_mod:\n",
    "    models_dict_knn_mod[i]['params']['n_neighbors'] = int(models_dict_knn_mod[i]['params']['n_neighbors'])\n",
    "    models_dict_knn_mod[i]['params']['weights'] = ['uniform', 'distance'][int(models_dict_knn_mod[i]['params']['weights'])]"
   ]
  },
  {
   "cell_type": "code",
   "execution_count": null,
   "id": "5186b309",
   "metadata": {
    "ExecuteTime": {
     "end_time": "2022-02-10T20:34:07.599951Z",
     "start_time": "2022-02-10T20:34:07.585951Z"
    },
    "execution": {
     "iopub.status.busy": "2024-06-18T03:40:53.309431Z",
     "iopub.status.idle": "2024-06-18T03:40:53.310072Z",
     "shell.execute_reply": "2024-06-18T03:40:53.309869Z",
     "shell.execute_reply.started": "2024-06-18T03:40:53.309848Z"
    },
    "tags": []
   },
   "outputs": [],
   "source": [
    "for i in models_dict_svc_mod:\n",
    "    models_dict_svc_mod[i]['params']['C'] = round(10 ** models_dict_svc_mod[i]['params']['expC'],5)\n",
    "    models_dict_svc_mod[i]['params']['gamma'] = round(10 ** models_dict_svc_mod[i]['params']['expGamma'],5)\n",
    "    del models_dict_svc_mod[i]['params']['expC']\n",
    "    del models_dict_svc_mod[i]['params']['expGamma']"
   ]
  },
  {
   "cell_type": "code",
   "execution_count": null,
   "id": "0a3b9adb",
   "metadata": {
    "ExecuteTime": {
     "end_time": "2022-02-10T20:34:07.615950Z",
     "start_time": "2022-02-10T20:34:07.602952Z"
    },
    "execution": {
     "iopub.status.busy": "2024-06-18T03:40:53.311103Z",
     "iopub.status.idle": "2024-06-18T03:40:53.311757Z",
     "shell.execute_reply": "2024-06-18T03:40:53.311543Z",
     "shell.execute_reply.started": "2024-06-18T03:40:53.311499Z"
    },
    "tags": []
   },
   "outputs": [],
   "source": [
    "for i in models_dict_mlp_mod:\n",
    "    models_dict_mlp_mod[i]['params']['layer1'] = int(models_dict_mlp_mod[i]['params']['layer1'])\n",
    "    models_dict_mlp_mod[i]['params']['layer2'] = int(models_dict_mlp_mod[i]['params']['layer2'])"
   ]
  },
  {
   "cell_type": "code",
   "execution_count": null,
   "id": "b4640f41",
   "metadata": {
    "ExecuteTime": {
     "end_time": "2022-02-10T20:34:07.631951Z",
     "start_time": "2022-02-10T20:34:07.618952Z"
    },
    "execution": {
     "iopub.status.busy": "2024-06-18T03:40:53.312989Z",
     "iopub.status.idle": "2024-06-18T03:40:53.313618Z",
     "shell.execute_reply": "2024-06-18T03:40:53.313431Z",
     "shell.execute_reply.started": "2024-06-18T03:40:53.313411Z"
    },
    "tags": []
   },
   "outputs": [],
   "source": [
    "np.save('lr_params_revise.npy',models_dict_lr_mod)\n",
    "np.save('knn_params_revise.npy',models_dict_knn_mod)\n",
    "np.save('svc_params_revise.npy',models_dict_svc_mod)\n",
    "np.save('mlp_params_revise.npy',models_dict_mlp_mod)"
   ]
  }
 ],
 "metadata": {
  "kernelspec": {
   "display_name": "machine_learning",
   "language": "python",
   "name": "ml"
  },
  "language_info": {
   "codemirror_mode": {
    "name": "ipython",
    "version": 3
   },
   "file_extension": ".py",
   "mimetype": "text/x-python",
   "name": "python",
   "nbconvert_exporter": "python",
   "pygments_lexer": "ipython3",
   "version": "3.9.16"
  },
  "toc": {
   "base_numbering": 1,
   "nav_menu": {},
   "number_sections": true,
   "sideBar": true,
   "skip_h1_title": false,
   "title_cell": "Table of Contents",
   "title_sidebar": "Contents",
   "toc_cell": false,
   "toc_position": {},
   "toc_section_display": true,
   "toc_window_display": false
  }
 },
 "nbformat": 4,
 "nbformat_minor": 5
}
