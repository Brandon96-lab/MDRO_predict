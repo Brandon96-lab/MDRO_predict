{
 "cells": [
  {
   "cell_type": "markdown",
   "metadata": {},
   "source": [
    "# Packages"
   ]
  },
  {
   "cell_type": "code",
   "execution_count": 1,
   "metadata": {
    "ExecuteTime": {
     "end_time": "2021-10-17T12:37:18.706537Z",
     "start_time": "2021-10-17T12:37:18.695586Z"
    }
   },
   "outputs": [],
   "source": [
    "import warnings\n",
    "warnings.filterwarnings(\"ignore\")"
   ]
  },
  {
   "cell_type": "code",
   "execution_count": 2,
   "metadata": {
    "ExecuteTime": {
     "end_time": "2021-10-17T12:37:20.626077Z",
     "start_time": "2021-10-17T12:37:19.032102Z"
    }
   },
   "outputs": [],
   "source": [
    "import numpy as np\n",
    "import pandas as pd\n",
    "import matplotlib.pyplot as plt\n",
    "import seaborn as sns\n",
    "%matplotlib inline\n",
    "pd.set_option('max_columns',200)"
   ]
  },
  {
   "cell_type": "code",
   "execution_count": 3,
   "metadata": {
    "ExecuteTime": {
     "end_time": "2021-10-17T12:37:20.642007Z",
     "start_time": "2021-10-17T12:37:20.628068Z"
    },
    "scrolled": true
   },
   "outputs": [],
   "source": [
    "import matplotlib as mpl\n",
    "mpl.style.use('ggplot')\n",
    "sns.set_style('white')"
   ]
  },
  {
   "cell_type": "code",
   "execution_count": 4,
   "metadata": {
    "ExecuteTime": {
     "end_time": "2021-10-17T12:37:21.130855Z",
     "start_time": "2021-10-17T12:37:20.643998Z"
    }
   },
   "outputs": [],
   "source": [
    "import sklearn\n",
    "from sklearn.linear_model import LogisticRegression\n",
    "from sklearn.tree import DecisionTreeClassifier\n",
    "from sklearn.ensemble import RandomForestClassifier\n",
    "from xgboost.sklearn import XGBClassifier\n",
    "from sklearn.svm import SVC\n",
    "from sklearn.neighbors import KNeighborsClassifier\n",
    "\n",
    "import sys\n",
    "import os\n",
    "import tempfile\n",
    "from sklearn.preprocessing import StandardScaler\n",
    "\n",
    "from sklearn.model_selection import GridSearchCV\n",
    "from sklearn.model_selection import train_test_split\n",
    "from sklearn.model_selection import ShuffleSplit\n",
    "from sklearn.model_selection import cross_val_score\n",
    "from sklearn.model_selection import StratifiedKFold\n",
    "\n",
    "from sklearn import metrics\n",
    "from sklearn.metrics import confusion_matrix\n",
    "from sklearn.metrics import plot_roc_curve\n",
    "from sklearn.metrics import roc_auc_score\n",
    "from sklearn.metrics import roc_curve,auc\n",
    "from sklearn.metrics import accuracy_score"
   ]
  },
  {
   "cell_type": "markdown",
   "metadata": {},
   "source": [
    "# Read  the data"
   ]
  },
  {
   "cell_type": "code",
   "execution_count": 5,
   "metadata": {
    "ExecuteTime": {
     "end_time": "2021-10-17T12:37:21.684412Z",
     "start_time": "2021-10-17T12:37:21.590825Z"
    }
   },
   "outputs": [],
   "source": [
    "dev = pd.read_csv('train_df.csv')\n",
    "val = pd.read_csv('val_df.csv')"
   ]
  },
  {
   "cell_type": "code",
   "execution_count": 6,
   "metadata": {
    "ExecuteTime": {
     "end_time": "2021-10-17T12:37:22.189187Z",
     "start_time": "2021-10-17T12:37:22.167284Z"
    }
   },
   "outputs": [
    {
     "data": {
      "text/plain": [
       "Index(['GENDER', 'AGE', 'previous_mdrpos_lessthan90d',\n",
       "       'previous_mdrneg_lessthan90d', 'icustay_rank', 'los_hosp_beforeicu',\n",
       "       'myocardial_infarct', 'congestive_heart_failure',\n",
       "       'peripheral_vascular_disease', 'cerebrovascular_disease', 'dementia',\n",
       "       'chronic_pulmonary_disease', 'rheumatic_disease',\n",
       "       'peptic_ulcer_disease', 'severe_liver_disease', 'mild_liver_disease',\n",
       "       'diabetes_with_cc', 'diabetes_without_cc', 'paraplegia',\n",
       "       'metastatic_solid_tumor', 'malignant_cancer', 'aids', 'ALP', 'ALT',\n",
       "       'APPT', 'AST', 'BNP', 'CRP', 'D_dimer', 'INR', 'LYN', 'PA', 'PCT',\n",
       "       'IL_6', 'PT', 'PTT', 'albumin', 'amylase', 'bands', 'basophil',\n",
       "       'bilirubin', 'bilirubin_direct', 'ca', 'chloride', 'ck', 'ck_mb',\n",
       "       'creatinine', 'eosinophil', 'fibrinogen', 'gamma_GT', 'glucose',\n",
       "       'hct_pcv', 'hemoglobin', 'lipase', 'mb', 'mch', 'mchc', 'mcv', 'mg',\n",
       "       'monocytes', 'mpv', 'p', 'platelet', 'potassium', 'rbc', 'rdw',\n",
       "       'sodium', 'urea', 'wbc', 'Temperature', 'RR', 'HR', 'DBP', 'SBP',\n",
       "       'ICU_TYPE_CCU', 'ICU_TYPE_EICU', 'ICU_TYPE_ICU', 'ICU_TYPE_KICU',\n",
       "       'ICU_TYPE_NICU', 'ICU_TYPE_NSICU', 'ICU_TYPE_RICU', 'ICU_TYPE_TICU',\n",
       "       'stay_chart_included_mdr', 'stay_chart_included_mdr_neg_tot',\n",
       "       'stay_chart_included_mdr_pos_tot'],\n",
       "      dtype='object')"
      ]
     },
     "execution_count": 6,
     "metadata": {},
     "output_type": "execute_result"
    }
   ],
   "source": [
    "dev.columns"
   ]
  },
  {
   "cell_type": "code",
   "execution_count": 7,
   "metadata": {
    "ExecuteTime": {
     "end_time": "2021-10-17T12:37:22.693970Z",
     "start_time": "2021-10-17T12:37:22.681021Z"
    }
   },
   "outputs": [],
   "source": [
    "features = [\n",
    "'los_hosp_beforeicu',\n",
    " 'ALP',\n",
    " 'BNP',\n",
    " 'CRP',\n",
    " 'INR',\n",
    " 'PCT',\n",
    " 'IL_6',\n",
    " 'bilirubin',\n",
    " 'ck',\n",
    " 'fibrinogen',\n",
    " 'rbc',\n",
    " 'sodium',\n",
    " 'urea',\n",
    " 'HR',\n",
    " 'SBP'\n",
    "]\n",
    "target = ['stay_chart_included_mdr']"
   ]
  },
  {
   "cell_type": "code",
   "execution_count": 8,
   "metadata": {
    "ExecuteTime": {
     "end_time": "2021-10-17T12:37:23.360027Z",
     "start_time": "2021-10-17T12:37:23.350071Z"
    }
   },
   "outputs": [],
   "source": [
    "x_train = dev[features]\n",
    "y_train = dev[target]\n",
    "\n",
    "x_extval = val[features]\n",
    "y_extval = val[target]"
   ]
  },
  {
   "cell_type": "code",
   "execution_count": 9,
   "metadata": {
    "ExecuteTime": {
     "end_time": "2021-10-17T12:37:23.843895Z",
     "start_time": "2021-10-17T12:37:23.818009Z"
    }
   },
   "outputs": [
    {
     "data": {
      "text/plain": [
       "stay_chart_included_mdr\n",
       "0                          1048\n",
       "1                           336\n",
       "dtype: int64"
      ]
     },
     "execution_count": 9,
     "metadata": {},
     "output_type": "execute_result"
    }
   ],
   "source": [
    "y_extval.value_counts()"
   ]
  },
  {
   "cell_type": "code",
   "execution_count": 10,
   "metadata": {
    "ExecuteTime": {
     "end_time": "2021-10-17T12:37:24.252096Z",
     "start_time": "2021-10-17T12:37:24.246123Z"
    }
   },
   "outputs": [],
   "source": [
    "train_tot = dev[features + target]\n",
    "extval_tot = val[features + target]"
   ]
  },
  {
   "cell_type": "code",
   "execution_count": 11,
   "metadata": {
    "ExecuteTime": {
     "end_time": "2021-10-17T12:37:24.611511Z",
     "start_time": "2021-10-17T12:37:24.600560Z"
    }
   },
   "outputs": [],
   "source": [
    "def lookup_miss(df):\n",
    "    nadf = pd.DataFrame(columns=['nan_nums','nan_ratios'])\n",
    "    for i in df.columns:\n",
    "        nadf.loc[i,'nan_nums'] = pd.isna(df[i]).sum()\n",
    "        nadf.loc[i,'nan_ratios'] = (nadf.loc[i,'nan_nums']/df.shape[0])*100\n",
    "    return nadf.sort_values(by = 'nan_ratios', ascending = False)"
   ]
  },
  {
   "cell_type": "code",
   "execution_count": 12,
   "metadata": {
    "ExecuteTime": {
     "end_time": "2021-10-17T12:37:25.080445Z",
     "start_time": "2021-10-17T12:37:25.033651Z"
    }
   },
   "outputs": [
    {
     "data": {
      "text/html": [
       "<div>\n",
       "<style scoped>\n",
       "    .dataframe tbody tr th:only-of-type {\n",
       "        vertical-align: middle;\n",
       "    }\n",
       "\n",
       "    .dataframe tbody tr th {\n",
       "        vertical-align: top;\n",
       "    }\n",
       "\n",
       "    .dataframe thead th {\n",
       "        text-align: right;\n",
       "    }\n",
       "</style>\n",
       "<table border=\"1\" class=\"dataframe\">\n",
       "  <thead>\n",
       "    <tr style=\"text-align: right;\">\n",
       "      <th></th>\n",
       "      <th>nan_nums</th>\n",
       "      <th>nan_ratios</th>\n",
       "    </tr>\n",
       "  </thead>\n",
       "  <tbody>\n",
       "    <tr>\n",
       "      <th>los_hosp_beforeicu</th>\n",
       "      <td>0</td>\n",
       "      <td>0.0</td>\n",
       "    </tr>\n",
       "    <tr>\n",
       "      <th>ALP</th>\n",
       "      <td>0</td>\n",
       "      <td>0.0</td>\n",
       "    </tr>\n",
       "    <tr>\n",
       "      <th>BNP</th>\n",
       "      <td>0</td>\n",
       "      <td>0.0</td>\n",
       "    </tr>\n",
       "    <tr>\n",
       "      <th>CRP</th>\n",
       "      <td>0</td>\n",
       "      <td>0.0</td>\n",
       "    </tr>\n",
       "    <tr>\n",
       "      <th>INR</th>\n",
       "      <td>0</td>\n",
       "      <td>0.0</td>\n",
       "    </tr>\n",
       "    <tr>\n",
       "      <th>PCT</th>\n",
       "      <td>0</td>\n",
       "      <td>0.0</td>\n",
       "    </tr>\n",
       "    <tr>\n",
       "      <th>IL_6</th>\n",
       "      <td>0</td>\n",
       "      <td>0.0</td>\n",
       "    </tr>\n",
       "    <tr>\n",
       "      <th>bilirubin</th>\n",
       "      <td>0</td>\n",
       "      <td>0.0</td>\n",
       "    </tr>\n",
       "    <tr>\n",
       "      <th>ck</th>\n",
       "      <td>0</td>\n",
       "      <td>0.0</td>\n",
       "    </tr>\n",
       "    <tr>\n",
       "      <th>fibrinogen</th>\n",
       "      <td>0</td>\n",
       "      <td>0.0</td>\n",
       "    </tr>\n",
       "    <tr>\n",
       "      <th>rbc</th>\n",
       "      <td>0</td>\n",
       "      <td>0.0</td>\n",
       "    </tr>\n",
       "    <tr>\n",
       "      <th>sodium</th>\n",
       "      <td>0</td>\n",
       "      <td>0.0</td>\n",
       "    </tr>\n",
       "    <tr>\n",
       "      <th>urea</th>\n",
       "      <td>0</td>\n",
       "      <td>0.0</td>\n",
       "    </tr>\n",
       "    <tr>\n",
       "      <th>HR</th>\n",
       "      <td>0</td>\n",
       "      <td>0.0</td>\n",
       "    </tr>\n",
       "    <tr>\n",
       "      <th>SBP</th>\n",
       "      <td>0</td>\n",
       "      <td>0.0</td>\n",
       "    </tr>\n",
       "  </tbody>\n",
       "</table>\n",
       "</div>"
      ],
      "text/plain": [
       "                   nan_nums nan_ratios\n",
       "los_hosp_beforeicu        0        0.0\n",
       "ALP                       0        0.0\n",
       "BNP                       0        0.0\n",
       "CRP                       0        0.0\n",
       "INR                       0        0.0\n",
       "PCT                       0        0.0\n",
       "IL_6                      0        0.0\n",
       "bilirubin                 0        0.0\n",
       "ck                        0        0.0\n",
       "fibrinogen                0        0.0\n",
       "rbc                       0        0.0\n",
       "sodium                    0        0.0\n",
       "urea                      0        0.0\n",
       "HR                        0        0.0\n",
       "SBP                       0        0.0"
      ]
     },
     "execution_count": 12,
     "metadata": {},
     "output_type": "execute_result"
    }
   ],
   "source": [
    "lookup_miss(x_train)"
   ]
  },
  {
   "cell_type": "code",
   "execution_count": 13,
   "metadata": {
    "ExecuteTime": {
     "end_time": "2021-10-17T12:37:25.505571Z",
     "start_time": "2021-10-17T12:37:25.478690Z"
    }
   },
   "outputs": [],
   "source": [
    "scaler = StandardScaler()\n",
    "\n",
    "x_train_scaler = scaler.fit_transform(x_train)\n",
    "x_extval_scaler = scaler.transform(x_extval)"
   ]
  },
  {
   "cell_type": "code",
   "execution_count": 14,
   "metadata": {
    "ExecuteTime": {
     "end_time": "2021-10-17T12:37:26.035237Z",
     "start_time": "2021-10-17T12:37:26.023289Z"
    }
   },
   "outputs": [],
   "source": [
    "skf = StratifiedKFold(n_splits=5, random_state=None, shuffle=False)"
   ]
  },
  {
   "cell_type": "markdown",
   "metadata": {},
   "source": [
    "## Logistic Regression"
   ]
  },
  {
   "cell_type": "code",
   "execution_count": 15,
   "metadata": {
    "ExecuteTime": {
     "end_time": "2021-10-17T12:37:31.744074Z",
     "start_time": "2021-10-17T12:37:27.638171Z"
    }
   },
   "outputs": [
    {
     "data": {
      "text/plain": [
       "GridSearchCV(cv=StratifiedKFold(n_splits=5, random_state=None, shuffle=False),\n",
       "             estimator=LogisticRegression(random_state=2021), n_jobs=-1,\n",
       "             param_grid={'C': [1e-05, 0.0001, 0.001, 0.01, 0.1, 1, 10, 100],\n",
       "                         'penalty': ['l1', 'l2']},\n",
       "             scoring='roc_auc')"
      ]
     },
     "execution_count": 15,
     "metadata": {},
     "output_type": "execute_result"
    }
   ],
   "source": [
    "lr_model = LogisticRegression(random_state=2021)\n",
    "         \n",
    "\n",
    "param_dict1 = {'penalty':['l1','l2'],\n",
    "             'C':[0.00001,0.0001,0.001,0.01,0.1,1,10,100]\n",
    "             }\n",
    "estimator_grid_lr = GridSearchCV(lr_model,param_grid=param_dict1,cv=skf,n_jobs = -1,scoring = 'roc_auc')\n",
    "\n",
    "estimator_grid_lr.fit(x_train_scaler,y_train)"
   ]
  },
  {
   "cell_type": "code",
   "execution_count": 16,
   "metadata": {
    "ExecuteTime": {
     "end_time": "2021-10-17T12:37:34.908129Z",
     "start_time": "2021-10-17T12:37:34.888217Z"
    }
   },
   "outputs": [
    {
     "name": "stdout",
     "output_type": "stream",
     "text": [
      "----------------------------------------\n",
      "最佳参数：\n",
      " {'C': 1e-05, 'penalty': 'l2'}\n",
      "最佳结果：\n",
      " 0.7576767124068454\n",
      "最佳估计器：\n",
      " LogisticRegression(C=1e-05, random_state=2021)\n"
     ]
    }
   ],
   "source": [
    "print(\"----------------------------------------\")\n",
    "print('最佳参数：\\n',estimator_grid_lr.best_params_)\n",
    "print('最佳结果：\\n',estimator_grid_lr.best_score_)\n",
    "print('最佳估计器：\\n',estimator_grid_lr.best_estimator_)"
   ]
  },
  {
   "cell_type": "code",
   "execution_count": 17,
   "metadata": {
    "ExecuteTime": {
     "end_time": "2021-10-17T12:37:42.939732Z",
     "start_time": "2021-10-17T12:37:42.919820Z"
    }
   },
   "outputs": [
    {
     "data": {
      "text/plain": [
       "0.7517436841148674"
      ]
     },
     "execution_count": 17,
     "metadata": {},
     "output_type": "execute_result"
    }
   ],
   "source": [
    "roc_auc_score(y_extval, estimator_grid_lr.predict_proba(x_extval_scaler)[:,1])"
   ]
  },
  {
   "cell_type": "markdown",
   "metadata": {
    "ExecuteTime": {
     "end_time": "2020-07-24T16:39:23.525414Z",
     "start_time": "2020-07-24T16:39:23.517610Z"
    }
   },
   "source": [
    "## Random Forest"
   ]
  },
  {
   "cell_type": "code",
   "execution_count": 19,
   "metadata": {
    "ExecuteTime": {
     "end_time": "2021-10-17T12:38:40.503052Z",
     "start_time": "2021-10-17T12:38:04.265737Z"
    }
   },
   "outputs": [
    {
     "data": {
      "text/plain": [
       "GridSearchCV(cv=StratifiedKFold(n_splits=5, random_state=None, shuffle=False),\n",
       "             estimator=RandomForestClassifier(random_state=2021), n_jobs=-1,\n",
       "             param_grid={'max_depth': [3, 4, 5, 6, 7],\n",
       "                         'min_samples_leaf': [7, 9, 11, 12, 13, 15],\n",
       "                         'n_estimators': [100, 150, 200, 250, 300]},\n",
       "             scoring='roc_auc')"
      ]
     },
     "execution_count": 19,
     "metadata": {},
     "output_type": "execute_result"
    }
   ],
   "source": [
    "forest_model1 = RandomForestClassifier(random_state=2021)\n",
    "         \n",
    "\n",
    "param_dict1 = {'n_estimators':[100,150,200,250,300],\n",
    "             'max_depth':[3,4,5,6,7],\n",
    "            'min_samples_leaf':[7,9,11,12,13,15]\n",
    "             }\n",
    "estimator_grid_forest1 = GridSearchCV(forest_model1,param_grid=param_dict1,cv=skf,n_jobs = -1,scoring = 'roc_auc')\n",
    "\n",
    "estimator_grid_forest1.fit(x_train,y_train)"
   ]
  },
  {
   "cell_type": "code",
   "execution_count": 20,
   "metadata": {
    "ExecuteTime": {
     "end_time": "2021-10-17T12:38:42.560955Z",
     "start_time": "2021-10-17T12:38:42.550998Z"
    }
   },
   "outputs": [
    {
     "name": "stdout",
     "output_type": "stream",
     "text": [
      "----------------------------------------\n",
      "最佳参数：\n",
      " {'max_depth': 6, 'min_samples_leaf': 15, 'n_estimators': 150}\n",
      "最佳结果：\n",
      " 0.7836145312306251\n",
      "最佳估计器：\n",
      " RandomForestClassifier(max_depth=6, min_samples_leaf=15, n_estimators=150,\n",
      "                       random_state=2021)\n"
     ]
    }
   ],
   "source": [
    "print(\"----------------------------------------\")\n",
    "print('最佳参数：\\n',estimator_grid_forest1.best_params_)\n",
    "print('最佳结果：\\n',estimator_grid_forest1.best_score_)\n",
    "print('最佳估计器：\\n',estimator_grid_forest1.best_estimator_)"
   ]
  },
  {
   "cell_type": "code",
   "execution_count": 21,
   "metadata": {
    "ExecuteTime": {
     "end_time": "2021-10-17T12:38:52.909372Z",
     "start_time": "2021-10-17T12:38:52.822726Z"
    }
   },
   "outputs": [
    {
     "data": {
      "text/plain": [
       "0.7919762131952018"
      ]
     },
     "execution_count": 21,
     "metadata": {},
     "output_type": "execute_result"
    }
   ],
   "source": [
    "roc_auc_score(y_extval, estimator_grid_forest1.predict_proba(x_extval)[:,1])"
   ]
  },
  {
   "cell_type": "code",
   "execution_count": 22,
   "metadata": {
    "ExecuteTime": {
     "end_time": "2021-10-17T12:42:11.252192Z",
     "start_time": "2021-10-17T12:39:36.391725Z"
    }
   },
   "outputs": [
    {
     "data": {
      "text/plain": [
       "GridSearchCV(cv=StratifiedKFold(n_splits=5, random_state=None, shuffle=False),\n",
       "             estimator=RandomForestClassifier(random_state=2021), n_jobs=5,\n",
       "             param_grid={'max_depth': [5, 6, 7],\n",
       "                         'min_samples_leaf': [14, 15, 16, 17, 18, 19],\n",
       "                         'n_estimators': [110, 120, 130, 140, 150, 160, 170,\n",
       "                                          180, 190, 200]},\n",
       "             scoring='roc_auc')"
      ]
     },
     "execution_count": 22,
     "metadata": {},
     "output_type": "execute_result"
    }
   ],
   "source": [
    "forest_model1 = RandomForestClassifier(random_state=2021)\n",
    "         \n",
    "\n",
    "param_dict1 = {'n_estimators':[110,120,130,140,150,160,170,180,190,200],\n",
    "             'max_depth':[5,6,7],\n",
    "            'min_samples_leaf':[14,15,16,17,18,19]\n",
    "             }\n",
    "estimator_grid_forest1 = GridSearchCV(forest_model1,param_grid=param_dict1,cv=skf,n_jobs = 5,scoring = 'roc_auc')\n",
    "\n",
    "estimator_grid_forest1.fit(x_train,y_train)"
   ]
  },
  {
   "cell_type": "code",
   "execution_count": 24,
   "metadata": {
    "ExecuteTime": {
     "end_time": "2021-10-17T12:44:10.161105Z",
     "start_time": "2021-10-17T12:44:10.147166Z"
    }
   },
   "outputs": [
    {
     "name": "stdout",
     "output_type": "stream",
     "text": [
      "----------------------------------------\n",
      "最佳参数：\n",
      " {'max_depth': 7, 'min_samples_leaf': 14, 'n_estimators': 110}\n",
      "最佳结果：\n",
      " 0.7846550690892862\n",
      "最佳估计器：\n",
      " RandomForestClassifier(max_depth=7, min_samples_leaf=14, n_estimators=110,\n",
      "                       random_state=2021)\n"
     ]
    }
   ],
   "source": [
    "print(\"----------------------------------------\")\n",
    "print('最佳参数：\\n',estimator_grid_forest1.best_params_)\n",
    "print('最佳结果：\\n',estimator_grid_forest1.best_score_)\n",
    "print('最佳估计器：\\n',estimator_grid_forest1.best_estimator_)"
   ]
  },
  {
   "cell_type": "code",
   "execution_count": 25,
   "metadata": {
    "ExecuteTime": {
     "end_time": "2021-10-17T12:44:13.488440Z",
     "start_time": "2021-10-17T12:44:13.415759Z"
    }
   },
   "outputs": [
    {
     "data": {
      "text/plain": [
       "0.7945945792439113"
      ]
     },
     "execution_count": 25,
     "metadata": {},
     "output_type": "execute_result"
    }
   ],
   "source": [
    "roc_auc_score(y_extval, estimator_grid_forest1.predict_proba(x_extval)[:,1])"
   ]
  },
  {
   "cell_type": "code",
   "execution_count": 29,
   "metadata": {
    "ExecuteTime": {
     "end_time": "2021-10-17T12:48:38.865456Z",
     "start_time": "2021-10-17T12:47:37.817631Z"
    }
   },
   "outputs": [
    {
     "data": {
      "text/plain": [
       "GridSearchCV(cv=StratifiedKFold(n_splits=5, random_state=None, shuffle=False),\n",
       "             estimator=RandomForestClassifier(random_state=2021), n_jobs=5,\n",
       "             param_grid={'max_depth': [5, 6, 7, 8],\n",
       "                         'min_samples_leaf': [12, 13, 14, 15],\n",
       "                         'n_estimators': [50, 60, 80, 90, 100, 110, 120]},\n",
       "             scoring='roc_auc')"
      ]
     },
     "execution_count": 29,
     "metadata": {},
     "output_type": "execute_result"
    }
   ],
   "source": [
    "forest_model1 = RandomForestClassifier(random_state=2021)\n",
    "         \n",
    "\n",
    "param_dict1 = {'n_estimators':[50,60,80,90,100,110,120],\n",
    "             'max_depth':[5,6,7,8],\n",
    "            'min_samples_leaf':[12,13,14,15]\n",
    "             }\n",
    "estimator_grid_forest1 = GridSearchCV(forest_model1,param_grid=param_dict1,cv=skf,n_jobs = 5,scoring = 'roc_auc')\n",
    "\n",
    "estimator_grid_forest1.fit(x_train,y_train)"
   ]
  },
  {
   "cell_type": "code",
   "execution_count": 30,
   "metadata": {
    "ExecuteTime": {
     "end_time": "2021-10-17T12:48:38.880390Z",
     "start_time": "2021-10-17T12:48:38.868443Z"
    }
   },
   "outputs": [
    {
     "name": "stdout",
     "output_type": "stream",
     "text": [
      "----------------------------------------\n",
      "最佳参数：\n",
      " {'max_depth': 7, 'min_samples_leaf': 14, 'n_estimators': 80}\n",
      "最佳结果：\n",
      " 0.7870885844798696\n",
      "最佳估计器：\n",
      " RandomForestClassifier(max_depth=7, min_samples_leaf=14, n_estimators=80,\n",
      "                       random_state=2021)\n"
     ]
    }
   ],
   "source": [
    "print(\"----------------------------------------\")\n",
    "print('最佳参数：\\n',estimator_grid_forest1.best_params_)\n",
    "print('最佳结果：\\n',estimator_grid_forest1.best_score_)\n",
    "print('最佳估计器：\\n',estimator_grid_forest1.best_estimator_)"
   ]
  },
  {
   "cell_type": "code",
   "execution_count": 31,
   "metadata": {
    "ExecuteTime": {
     "end_time": "2021-10-17T12:48:38.940126Z",
     "start_time": "2021-10-17T12:48:38.883375Z"
    }
   },
   "outputs": [
    {
     "data": {
      "text/plain": [
       "0.792351076881134"
      ]
     },
     "execution_count": 31,
     "metadata": {},
     "output_type": "execute_result"
    }
   ],
   "source": [
    "roc_auc_score(y_extval, estimator_grid_forest1.predict_proba(x_extval)[:,1])"
   ]
  },
  {
   "cell_type": "markdown",
   "metadata": {},
   "source": [
    "## XGBOOST"
   ]
  },
  {
   "cell_type": "code",
   "execution_count": 33,
   "metadata": {
    "ExecuteTime": {
     "end_time": "2021-10-17T12:52:03.068441Z",
     "start_time": "2021-10-17T12:51:01.002991Z"
    }
   },
   "outputs": [
    {
     "name": "stdout",
     "output_type": "stream",
     "text": [
      "Fitting 5 folds for each of 480 candidates, totalling 2400 fits\n",
      "[20:52:02] WARNING: D:\\bld\\xgboost-split_1631904903843\\work\\src\\learner.cc:1095: Starting in XGBoost 1.3.0, the default evaluation metric used with the objective 'binary:logistic' was changed from 'error' to 'logloss'. Explicitly set eval_metric if you'd like to restore the old behavior.\n"
     ]
    },
    {
     "data": {
      "text/plain": [
       "GridSearchCV(cv=StratifiedKFold(n_splits=5, random_state=None, shuffle=False),\n",
       "             estimator=XGBClassifier(base_score=None, booster=None,\n",
       "                                     colsample_bylevel=None,\n",
       "                                     colsample_bynode=None,\n",
       "                                     colsample_bytree=None, gamma=None,\n",
       "                                     gpu_id=None, importance_type='gain',\n",
       "                                     interaction_constraints=None,\n",
       "                                     learning_rate=None, max_delta_step=None,\n",
       "                                     max_depth=None, min_child_weight=None,\n",
       "                                     mis...\n",
       "                                     n_estimators=100, n_jobs=None,\n",
       "                                     num_parallel_tree=None, random_state=2021,\n",
       "                                     reg_alpha=None, reg_lambda=None,\n",
       "                                     scale_pos_weight=None, subsample=None,\n",
       "                                     tree_method=None, validate_parameters=None,\n",
       "                                     verbosity=None),\n",
       "             n_jobs=-1,\n",
       "             param_grid={'learning_rate': [0.001, 0.01, 0.1],\n",
       "                         'max_depth': [2, 3, 4, 5, 6],\n",
       "                         'min_child_weight': [1, 2, 4, 6],\n",
       "                         'n_estimators': [15, 20, 25, 35, 45, 50, 70, 80]},\n",
       "             scoring='roc_auc', verbose=20)"
      ]
     },
     "execution_count": 33,
     "metadata": {},
     "output_type": "execute_result"
    }
   ],
   "source": [
    "xgboost_model1_1 = XGBClassifier(random_state = 2021)\n",
    "         \n",
    "\n",
    "param_dict1_1 = {\n",
    "              'n_estimators':[15,20,25,35,45,50,70,80],\n",
    "            'max_depth':[2,3,4,5,6],\n",
    "            'min_child_weight':[1,2,4,6],\n",
    "            'learning_rate':[0.001,0.01,0.1]\n",
    "             }\n",
    "estimator_grid_xgb1_1 = GridSearchCV(xgboost_model1_1,param_grid=param_dict1_1,cv=skf, n_jobs = -1,scoring = 'roc_auc',verbose = 20)\n",
    "\n",
    "estimator_grid_xgb1_1.fit(x_train,y_train)"
   ]
  },
  {
   "cell_type": "code",
   "execution_count": 34,
   "metadata": {
    "ExecuteTime": {
     "end_time": "2021-10-17T12:52:42.191011Z",
     "start_time": "2021-10-17T12:52:42.170103Z"
    }
   },
   "outputs": [
    {
     "name": "stdout",
     "output_type": "stream",
     "text": [
      "----------------------------------------\n",
      "最佳参数：\n",
      " {'learning_rate': 0.1, 'max_depth': 2, 'min_child_weight': 4, 'n_estimators': 45}\n",
      "最佳结果：\n",
      " 0.7764848287949386\n",
      "最佳估计器：\n",
      " XGBClassifier(base_score=0.5, booster='gbtree', colsample_bylevel=1,\n",
      "              colsample_bynode=1, colsample_bytree=1, gamma=0, gpu_id=-1,\n",
      "              importance_type='gain', interaction_constraints='',\n",
      "              learning_rate=0.1, max_delta_step=0, max_depth=2,\n",
      "              min_child_weight=4, missing=nan, monotone_constraints='()',\n",
      "              n_estimators=45, n_jobs=40, num_parallel_tree=1,\n",
      "              random_state=2021, reg_alpha=0, reg_lambda=1, scale_pos_weight=1,\n",
      "              subsample=1, tree_method='exact', validate_parameters=1,\n",
      "              verbosity=None)\n"
     ]
    }
   ],
   "source": [
    "print(\"----------------------------------------\")\n",
    "print('最佳参数：\\n',estimator_grid_xgb1_1.best_params_)\n",
    "print('最佳结果：\\n',estimator_grid_xgb1_1.best_score_)\n",
    "print('最佳估计器：\\n',estimator_grid_xgb1_1.best_estimator_)"
   ]
  },
  {
   "cell_type": "code",
   "execution_count": 35,
   "metadata": {
    "ExecuteTime": {
     "end_time": "2021-10-17T12:52:51.786719Z",
     "start_time": "2021-10-17T12:52:51.768800Z"
    }
   },
   "outputs": [
    {
     "data": {
      "text/plain": [
       "0.7822127181025083"
      ]
     },
     "execution_count": 35,
     "metadata": {},
     "output_type": "execute_result"
    }
   ],
   "source": [
    "roc_auc_score(y_extval, estimator_grid_xgb1_1.predict_proba(x_extval)[:,1])"
   ]
  },
  {
   "cell_type": "code",
   "execution_count": 36,
   "metadata": {
    "ExecuteTime": {
     "end_time": "2021-10-17T12:54:52.391163Z",
     "start_time": "2021-10-17T12:53:45.513920Z"
    }
   },
   "outputs": [
    {
     "name": "stdout",
     "output_type": "stream",
     "text": [
      "Fitting 5 folds for each of 512 candidates, totalling 2560 fits\n",
      "[20:54:52] WARNING: D:\\bld\\xgboost-split_1631904903843\\work\\src\\learner.cc:1095: Starting in XGBoost 1.3.0, the default evaluation metric used with the objective 'binary:logistic' was changed from 'error' to 'logloss'. Explicitly set eval_metric if you'd like to restore the old behavior.\n"
     ]
    },
    {
     "data": {
      "text/plain": [
       "GridSearchCV(cv=StratifiedKFold(n_splits=5, random_state=None, shuffle=False),\n",
       "             estimator=XGBClassifier(base_score=None, booster=None,\n",
       "                                     colsample_bylevel=None,\n",
       "                                     colsample_bynode=None,\n",
       "                                     colsample_bytree=None, gamma=None,\n",
       "                                     gpu_id=None, importance_type='gain',\n",
       "                                     interaction_constraints=None,\n",
       "                                     learning_rate=None, max_delta_step=None,\n",
       "                                     max_depth=None, min_child_weight=None,\n",
       "                                     mis...\n",
       "                                     num_parallel_tree=None, random_state=2021,\n",
       "                                     reg_alpha=None, reg_lambda=None,\n",
       "                                     scale_pos_weight=None, subsample=None,\n",
       "                                     tree_method=None, validate_parameters=None,\n",
       "                                     verbosity=None),\n",
       "             n_jobs=10,\n",
       "             param_grid={'learning_rate': [0.01, 0.1],\n",
       "                         'max_depth': [2, 3, 4, 5],\n",
       "                         'min_child_weight': [2, 3, 4, 5],\n",
       "                         'n_estimators': [40, 41, 42, 43, 44, 45, 46, 47, 48,\n",
       "                                          49, 50, 51, 52, 53, 54, 55]},\n",
       "             scoring='roc_auc', verbose=20)"
      ]
     },
     "execution_count": 36,
     "metadata": {},
     "output_type": "execute_result"
    }
   ],
   "source": [
    "xgboost_model1_1 = XGBClassifier(random_state = 2021)\n",
    "         \n",
    "\n",
    "param_dict1_1 = {\n",
    "              'n_estimators':[40,41,42,43,44,45,46,47,48,49,50,51,52,53,54,55],\n",
    "            'max_depth':[2,3,4,5],\n",
    "            'min_child_weight':[2,3,4,5],\n",
    "     'learning_rate':[0.01,0.1]\n",
    "             }\n",
    "estimator_grid_xgb1_1 = GridSearchCV(xgboost_model1_1,param_grid=param_dict1_1,cv=skf, n_jobs = 10,scoring = 'roc_auc',verbose = 20)\n",
    "\n",
    "estimator_grid_xgb1_1.fit(x_train,y_train)"
   ]
  },
  {
   "cell_type": "code",
   "execution_count": 37,
   "metadata": {
    "ExecuteTime": {
     "end_time": "2021-10-17T13:57:59.398868Z",
     "start_time": "2021-10-17T13:57:59.377960Z"
    }
   },
   "outputs": [
    {
     "name": "stdout",
     "output_type": "stream",
     "text": [
      "----------------------------------------\n",
      "最佳参数：\n",
      " {'learning_rate': 0.1, 'max_depth': 2, 'min_child_weight': 4, 'n_estimators': 45}\n",
      "最佳结果：\n",
      " 0.7764848287949386\n",
      "最佳估计器：\n",
      " XGBClassifier(base_score=0.5, booster='gbtree', colsample_bylevel=1,\n",
      "              colsample_bynode=1, colsample_bytree=1, gamma=0, gpu_id=-1,\n",
      "              importance_type='gain', interaction_constraints='',\n",
      "              learning_rate=0.1, max_delta_step=0, max_depth=2,\n",
      "              min_child_weight=4, missing=nan, monotone_constraints='()',\n",
      "              n_estimators=45, n_jobs=40, num_parallel_tree=1,\n",
      "              random_state=2021, reg_alpha=0, reg_lambda=1, scale_pos_weight=1,\n",
      "              subsample=1, tree_method='exact', validate_parameters=1,\n",
      "              verbosity=None)\n"
     ]
    }
   ],
   "source": [
    "print(\"----------------------------------------\")\n",
    "print('最佳参数：\\n',estimator_grid_xgb1_1.best_params_)\n",
    "print('最佳结果：\\n',estimator_grid_xgb1_1.best_score_)\n",
    "print('最佳估计器：\\n',estimator_grid_xgb1_1.best_estimator_)"
   ]
  },
  {
   "cell_type": "code",
   "execution_count": 38,
   "metadata": {
    "ExecuteTime": {
     "end_time": "2021-10-17T13:58:06.035615Z",
     "start_time": "2021-10-17T13:58:06.015705Z"
    }
   },
   "outputs": [
    {
     "data": {
      "text/plain": [
       "0.7822127181025083"
      ]
     },
     "execution_count": 38,
     "metadata": {},
     "output_type": "execute_result"
    }
   ],
   "source": [
    "roc_auc_score(y_extval, estimator_grid_xgb1_1.predict_proba(x_extval)[:,1])"
   ]
  },
  {
   "cell_type": "markdown",
   "metadata": {},
   "source": [
    "## SVM"
   ]
  },
  {
   "cell_type": "code",
   "execution_count": 41,
   "metadata": {
    "ExecuteTime": {
     "end_time": "2021-10-04T13:26:10.564756Z",
     "start_time": "2021-10-04T12:06:19.289347Z"
    }
   },
   "outputs": [
    {
     "data": {
      "text/plain": [
       "GridSearchCV(cv=StratifiedKFold(n_splits=5, random_state=None, shuffle=False),\n",
       "             estimator=SVC(kernel='linear', probability=True,\n",
       "                           random_state=2021),\n",
       "             n_jobs=5,\n",
       "             param_grid={'C': [1e-06, 1e-05, 0.0001, 0.001, 0.01, 0.1, 1, 10,\n",
       "                               100]},\n",
       "             scoring='roc_auc')"
      ]
     },
     "execution_count": 41,
     "metadata": {},
     "output_type": "execute_result"
    }
   ],
   "source": [
    "svm_model = SVC(kernel='linear', probability = True, random_state = 2021)\n",
    "         \n",
    "\n",
    "param_dict1 = {\n",
    "             'C':[1e-06, 0.00001,0.0001,0.001,0.01,0.1,1,10,100]\n",
    "             }\n",
    "estimator_grid_svm = GridSearchCV(svm_model,param_grid=param_dict1,cv=skf,n_jobs = 5,scoring = 'roc_auc')\n",
    "\n",
    "estimator_grid_svm.fit(x_train_scaler,y_train)"
   ]
  },
  {
   "cell_type": "code",
   "execution_count": 42,
   "metadata": {
    "ExecuteTime": {
     "end_time": "2021-10-04T13:43:55.199263Z",
     "start_time": "2021-10-04T13:43:55.186761Z"
    }
   },
   "outputs": [
    {
     "name": "stdout",
     "output_type": "stream",
     "text": [
      "----------------------------------------\n",
      "最佳参数：\n",
      " {'C': 100}\n",
      "最佳结果：\n",
      " 0.652689567058008\n",
      "最佳估计器：\n",
      " SVC(C=100, kernel='linear', probability=True, random_state=2021)\n"
     ]
    }
   ],
   "source": [
    "print(\"----------------------------------------\")\n",
    "print('最佳参数：\\n',estimator_grid_svm.best_params_)\n",
    "print('最佳结果：\\n',estimator_grid_svm.best_score_)\n",
    "print('最佳估计器：\\n',estimator_grid_svm.best_estimator_)"
   ]
  },
  {
   "cell_type": "code",
   "execution_count": 43,
   "metadata": {
    "ExecuteTime": {
     "end_time": "2021-10-04T13:44:01.545087Z",
     "start_time": "2021-10-04T13:44:01.467573Z"
    },
    "scrolled": true
   },
   "outputs": [
    {
     "data": {
      "text/plain": [
       "0.662524268966846"
      ]
     },
     "execution_count": 43,
     "metadata": {},
     "output_type": "execute_result"
    }
   ],
   "source": [
    "roc_auc_score(y_extval, estimator_grid_svm.predict_proba(x_extval_scaler)[:,1]"
   ]
  },
  {
   "cell_type": "markdown",
   "metadata": {},
   "source": [
    "## KNN"
   ]
  },
  {
   "cell_type": "code",
   "execution_count": 61,
   "metadata": {
    "ExecuteTime": {
     "end_time": "2021-10-05T07:22:09.187855Z",
     "start_time": "2021-10-05T07:22:08.663764Z"
    }
   },
   "outputs": [
    {
     "data": {
      "text/plain": [
       "GridSearchCV(cv=StratifiedKFold(n_splits=5, random_state=None, shuffle=False),\n",
       "             estimator=KNeighborsClassifier(), n_jobs=5,\n",
       "             param_grid={'n_neighbors': [5, 20, 35, 40, 45, 50, 60, 70, 80,\n",
       "                                         100]},\n",
       "             scoring='roc_auc')"
      ]
     },
     "execution_count": 61,
     "metadata": {},
     "output_type": "execute_result"
    }
   ],
   "source": [
    "knn_model = KNeighborsClassifier()\n",
    "         \n",
    "\n",
    "param_dict1 = {\n",
    "             'n_neighbors':[5,20,35,40,45,50,60,70,80,100]\n",
    "             }\n",
    "estimator_grid_knn = GridSearchCV(knn_model,param_grid=param_dict1,cv=skf,n_jobs = 5,scoring = 'roc_auc')\n",
    "\n",
    "estimator_grid_knn.fit(x_train_scaler,y_train)"
   ]
  },
  {
   "cell_type": "code",
   "execution_count": 62,
   "metadata": {
    "ExecuteTime": {
     "end_time": "2021-10-05T07:22:09.528915Z",
     "start_time": "2021-10-05T07:22:09.519913Z"
    }
   },
   "outputs": [
    {
     "name": "stdout",
     "output_type": "stream",
     "text": [
      "----------------------------------------\n",
      "最佳参数：\n",
      " {'n_neighbors': 50}\n",
      "最佳结果：\n",
      " 0.6695932887175513\n",
      "最佳估计器：\n",
      " KNeighborsClassifier(n_neighbors=50)\n"
     ]
    }
   ],
   "source": [
    "print(\"----------------------------------------\")\n",
    "print('最佳参数：\\n',estimator_grid_knn.best_params_)\n",
    "print('最佳结果：\\n',estimator_grid_knn.best_score_)\n",
    "print('最佳估计器：\\n',estimator_grid_knn.best_estimator_)"
   ]
  },
  {
   "cell_type": "code",
   "execution_count": 63,
   "metadata": {
    "ExecuteTime": {
     "end_time": "2021-10-05T07:22:10.831142Z",
     "start_time": "2021-10-05T07:22:10.756130Z"
    }
   },
   "outputs": [
    {
     "data": {
      "text/plain": [
       "0.733389652157159"
      ]
     },
     "execution_count": 63,
     "metadata": {},
     "output_type": "execute_result"
    }
   ],
   "source": [
    "roc_auc_score(y_extval, estimator_grid_knn.predict_proba(x_extval_scaler)[:,1])"
   ]
  },
  {
   "cell_type": "code",
   "execution_count": 77,
   "metadata": {
    "ExecuteTime": {
     "end_time": "2021-10-05T07:29:52.932552Z",
     "start_time": "2021-10-05T07:29:52.281440Z"
    }
   },
   "outputs": [
    {
     "data": {
      "text/plain": [
       "GridSearchCV(cv=StratifiedKFold(n_splits=5, random_state=None, shuffle=False),\n",
       "             estimator=KNeighborsClassifier(), n_jobs=5,\n",
       "             param_grid={'n_neighbors': [46, 47, 48, 49, 50, 51, 52, 53, 54, 55,\n",
       "                                         56, 57, 58, 59]},\n",
       "             scoring='roc_auc')"
      ]
     },
     "execution_count": 77,
     "metadata": {},
     "output_type": "execute_result"
    }
   ],
   "source": [
    "knn_model = KNeighborsClassifier()\n",
    "         \n",
    "\n",
    "param_dict2 = {\n",
    "             'n_neighbors':[46,47,48,49,50,51,52,53,54,55,56,57,58,59]\n",
    "             }\n",
    "estimator_grid_knn2 = GridSearchCV(knn_model,param_grid=param_dict2,cv=skf,n_jobs = 5,scoring = 'roc_auc')\n",
    "\n",
    "estimator_grid_knn2.fit(x_train_scaler,y_train)"
   ]
  },
  {
   "cell_type": "code",
   "execution_count": 78,
   "metadata": {
    "ExecuteTime": {
     "end_time": "2021-10-05T07:29:53.273613Z",
     "start_time": "2021-10-05T07:29:53.270112Z"
    }
   },
   "outputs": [
    {
     "name": "stdout",
     "output_type": "stream",
     "text": [
      "----------------------------------------\n",
      "最佳参数：\n",
      " {'n_neighbors': 48}\n",
      "最佳结果：\n",
      " 0.6707857389834735\n",
      "最佳估计器：\n",
      " KNeighborsClassifier(n_neighbors=48)\n"
     ]
    }
   ],
   "source": [
    "print(\"----------------------------------------\")\n",
    "print('最佳参数：\\n',estimator_grid_knn2.best_params_)\n",
    "print('最佳结果：\\n',estimator_grid_knn2.best_score_)\n",
    "print('最佳估计器：\\n',estimator_grid_knn2.best_estimator_)"
   ]
  },
  {
   "cell_type": "code",
   "execution_count": 79,
   "metadata": {
    "ExecuteTime": {
     "end_time": "2021-10-05T07:29:53.816206Z",
     "start_time": "2021-10-05T07:29:53.743695Z"
    }
   },
   "outputs": [
    {
     "data": {
      "text/plain": [
       "0.7288878514368711"
      ]
     },
     "execution_count": 79,
     "metadata": {},
     "output_type": "execute_result"
    }
   ],
   "source": [
    "roc_auc_score(y_extval, estimator_grid_knn2.predict_proba(x_extval_scaler)[:,1])"
   ]
  },
  {
   "cell_type": "code",
   "execution_count": null,
   "metadata": {},
   "outputs": [],
   "source": []
  }
 ],
 "metadata": {
  "kernelspec": {
   "display_name": "Python 3",
   "language": "python",
   "name": "python3"
  },
  "language_info": {
   "codemirror_mode": {
    "name": "ipython",
    "version": 3
   },
   "file_extension": ".py",
   "mimetype": "text/x-python",
   "name": "python",
   "nbconvert_exporter": "python",
   "pygments_lexer": "ipython3",
   "version": "3.7.10"
  },
  "latex_envs": {
   "LaTeX_envs_menu_present": true,
   "autoclose": false,
   "autocomplete": true,
   "bibliofile": "biblio.bib",
   "cite_by": "apalike",
   "current_citInitial": 1,
   "eqLabelWithNumbers": true,
   "eqNumInitial": 1,
   "hotkeys": {
    "equation": "Ctrl-E",
    "itemize": "Ctrl-I"
   },
   "labels_anchors": false,
   "latex_user_defs": false,
   "report_style_numbering": false,
   "user_envs_cfg": false
  },
  "toc": {
   "base_numbering": 1,
   "nav_menu": {},
   "number_sections": true,
   "sideBar": true,
   "skip_h1_title": false,
   "title_cell": "Table of Contents",
   "title_sidebar": "Contents",
   "toc_cell": false,
   "toc_position": {
    "height": "calc(100% - 180px)",
    "left": "10px",
    "top": "150px",
    "width": "183px"
   },
   "toc_section_display": true,
   "toc_window_display": true
  },
  "varInspector": {
   "cols": {
    "lenName": 16,
    "lenType": 16,
    "lenVar": 40
   },
   "kernels_config": {
    "python": {
     "delete_cmd_postfix": "",
     "delete_cmd_prefix": "del ",
     "library": "var_list.py",
     "varRefreshCmd": "print(var_dic_list())"
    },
    "r": {
     "delete_cmd_postfix": ") ",
     "delete_cmd_prefix": "rm(",
     "library": "var_list.r",
     "varRefreshCmd": "cat(var_dic_list()) "
    }
   },
   "types_to_exclude": [
    "module",
    "function",
    "builtin_function_or_method",
    "instance",
    "_Feature"
   ],
   "window_display": false
  }
 },
 "nbformat": 4,
 "nbformat_minor": 4
}
