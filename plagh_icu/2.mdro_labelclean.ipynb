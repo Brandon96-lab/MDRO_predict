{
 "cells": [
  {
   "cell_type": "code",
   "execution_count": 1,
   "metadata": {
    "ExecuteTime": {
     "end_time": "2022-02-10T07:29:42.746465Z",
     "start_time": "2022-02-10T07:29:41.585460Z"
    },
    "execution": {
     "iopub.execute_input": "2024-01-24T09:41:55.905173Z",
     "iopub.status.busy": "2024-01-24T09:41:55.905017Z",
     "iopub.status.idle": "2024-01-24T09:41:56.617777Z",
     "shell.execute_reply": "2024-01-24T09:41:56.616996Z",
     "shell.execute_reply.started": "2024-01-24T09:41:55.905158Z"
    }
   },
   "outputs": [],
   "source": [
    "%config IPCompleter.greedy=True\n",
    "import numpy as np\n",
    "import pandas as pd\n",
    "\n",
    "import matplotlib.pyplot as plt\n",
    "import time\n",
    "import re\n",
    "import scipy\n",
    "from datetime import time, timedelta\n",
    "import seaborn as sns\n",
    "pd.set_option('display.max_columns', 100)\n",
    "\n",
    "def trans_float(df):\n",
    "    for i in df.columns:\n",
    "        if df[i].dtype == object:\n",
    "            if ((df[i]== 'None')|(df[i]== 'Null')).any():\n",
    "                df[i].replace('None',np.nan,inplace = True)\n",
    "                df[i].replace('Null',np.nan,inplace = True)\n",
    "                df[i] = df[i].astype(float)\n",
    "            else:\n",
    "                df[i] = df[i].astype(float)"
   ]
  },
  {
   "cell_type": "code",
   "execution_count": 2,
   "metadata": {
    "ExecuteTime": {
     "end_time": "2022-02-10T07:29:42.762459Z",
     "start_time": "2022-02-10T07:29:42.748459Z"
    },
    "execution": {
     "iopub.execute_input": "2024-01-24T09:41:56.618777Z",
     "iopub.status.busy": "2024-01-24T09:41:56.618554Z",
     "iopub.status.idle": "2024-01-24T09:41:56.621937Z",
     "shell.execute_reply": "2024-01-24T09:41:56.621566Z",
     "shell.execute_reply.started": "2024-01-24T09:41:56.618760Z"
    }
   },
   "outputs": [],
   "source": [
    "from dateutil.parser import parse"
   ]
  },
  {
   "cell_type": "code",
   "execution_count": 3,
   "metadata": {
    "ExecuteTime": {
     "end_time": "2022-02-10T07:29:42.778465Z",
     "start_time": "2022-02-10T07:29:42.764459Z"
    },
    "execution": {
     "iopub.execute_input": "2024-01-24T09:41:56.622617Z",
     "iopub.status.busy": "2024-01-24T09:41:56.622466Z",
     "iopub.status.idle": "2024-01-24T09:41:56.625524Z",
     "shell.execute_reply": "2024-01-24T09:41:56.625165Z",
     "shell.execute_reply.started": "2024-01-24T09:41:56.622603Z"
    }
   },
   "outputs": [],
   "source": [
    "def trans_time(t):\n",
    "    if t == 'None':\n",
    "        return np.datetime64('NaT')\n",
    "    elif pd.isna(t):\n",
    "        return np.datetime64('NaT')\n",
    "    else:\n",
    "        return parse(t)"
   ]
  },
  {
   "cell_type": "markdown",
   "metadata": {},
   "source": [
    "# 读取micro cohort"
   ]
  },
  {
   "cell_type": "code",
   "execution_count": 4,
   "metadata": {
    "ExecuteTime": {
     "end_time": "2022-02-10T07:29:53.890465Z",
     "start_time": "2022-02-10T07:29:42.780459Z"
    },
    "execution": {
     "iopub.execute_input": "2024-01-24T09:41:56.626375Z",
     "iopub.status.busy": "2024-01-24T09:41:56.626025Z",
     "iopub.status.idle": "2024-01-24T09:42:04.832560Z",
     "shell.execute_reply": "2024-01-24T09:42:04.831614Z",
     "shell.execute_reply.started": "2024-01-24T09:41:56.626360Z"
    },
    "scrolled": true
   },
   "outputs": [],
   "source": [
    "cohort_WITHMDR = pd.read_csv('cohort_WITHMDR.csv',low_memory=False)"
   ]
  },
  {
   "cell_type": "code",
   "execution_count": 5,
   "metadata": {
    "ExecuteTime": {
     "end_time": "2022-02-10T07:29:53.906465Z",
     "start_time": "2022-02-10T07:29:53.892459Z"
    },
    "execution": {
     "iopub.execute_input": "2024-01-24T09:42:04.833648Z",
     "iopub.status.busy": "2024-01-24T09:42:04.833455Z",
     "iopub.status.idle": "2024-01-24T09:42:04.836594Z",
     "shell.execute_reply": "2024-01-24T09:42:04.836196Z",
     "shell.execute_reply.started": "2024-01-24T09:42:04.833632Z"
    }
   },
   "outputs": [],
   "source": [
    "#cohort_WITHMDR = cohort_WITHMDR[cohort_WITHMDR['SPECIMEN']== '静脉血']"
   ]
  },
  {
   "cell_type": "code",
   "execution_count": 6,
   "metadata": {
    "ExecuteTime": {
     "end_time": "2022-02-10T07:29:53.922466Z",
     "start_time": "2022-02-10T07:29:53.908459Z"
    },
    "execution": {
     "iopub.execute_input": "2024-01-24T09:42:04.837296Z",
     "iopub.status.busy": "2024-01-24T09:42:04.837134Z",
     "iopub.status.idle": "2024-01-24T09:42:04.839794Z",
     "shell.execute_reply": "2024-01-24T09:42:04.839420Z",
     "shell.execute_reply.started": "2024-01-24T09:42:04.837282Z"
    }
   },
   "outputs": [],
   "source": [
    "#cohort_WITHMDR = cohort_WITHMDR[cohort_WITHMDR.org_category.isin(cohort_WITHMDR.org_category.value_counts().index)]"
   ]
  },
  {
   "cell_type": "code",
   "execution_count": 7,
   "metadata": {
    "ExecuteTime": {
     "end_time": "2022-02-10T07:29:54.640470Z",
     "start_time": "2022-02-10T07:29:53.925458Z"
    },
    "execution": {
     "iopub.execute_input": "2024-01-24T09:42:04.841715Z",
     "iopub.status.busy": "2024-01-24T09:42:04.841564Z",
     "iopub.status.idle": "2024-01-24T09:42:05.338024Z",
     "shell.execute_reply": "2024-01-24T09:42:05.337538Z",
     "shell.execute_reply.started": "2024-01-24T09:42:04.841701Z"
    }
   },
   "outputs": [
    {
     "data": {
      "text/plain": [
       "(38155, 2)"
      ]
     },
     "execution_count": 7,
     "metadata": {},
     "output_type": "execute_result"
    }
   ],
   "source": [
    "cohort_WITHMDR[(cohort_WITHMDR['AGE']>=18)][['PATIENT_ID','TF_ADMISSION_DATE_TIME']].drop_duplicates().shape"
   ]
  },
  {
   "cell_type": "code",
   "execution_count": 8,
   "metadata": {
    "ExecuteTime": {
     "end_time": "2022-02-10T07:29:55.115466Z",
     "start_time": "2022-02-10T07:29:54.643459Z"
    },
    "execution": {
     "iopub.execute_input": "2024-01-24T09:42:05.338883Z",
     "iopub.status.busy": "2024-01-24T09:42:05.338711Z",
     "iopub.status.idle": "2024-01-24T09:42:05.674496Z",
     "shell.execute_reply": "2024-01-24T09:42:05.673692Z",
     "shell.execute_reply.started": "2024-01-24T09:42:05.338867Z"
    }
   },
   "outputs": [],
   "source": [
    "cohort_WITHMDR = cohort_WITHMDR[['PATIENT_ID', 'SPECIMEN', \n",
    "       'REQUESTED_DATE_TIME', 'RESULTS_RPT_DATE_TIME', 'SUBJECT', 'ITEM_NO',\n",
    "       'REPORT_ITEM_NAME', 'micro_name', '万古霉素', '亚胺培南',\n",
    "       '克林霉素', '利奈唑胺', '利福平', '厄它培南', '哌拉西林', '哌拉西林/他唑巴坦', '喹努普汀/达福普汀', '四环素',\n",
    "       '复方新诺明', '头孢他啶', '头孢吡肟', '头孢呋辛', '头孢呋辛酯', '头孢唑啉', '头孢曲松', '头孢替坦',\n",
    "       '头孢西丁', '妥布霉素', '左旋氧氟沙星', '庆大霉素', '替加环素', '替考拉宁', '氨曲南', '氨苄西林',\n",
    "       '氨苄西林/舒巴坦', '环丙沙星', '磷霉素', '米诺环素', '红霉素', '美洛培南', '苯唑西林', '苯唑青霉素',\n",
    "       '莫西沙星', '阿米卡星', '阿莫西林/棒酸', '青霉素', '青霉素G', '高水平庆大霉素', '高水平链霉素',\n",
    "       'resistant_ab_cat', 'MDR', 'org_category', 'org_pos', 'org_neg',\n",
    "       'VISIT_ID', 'GENDER', 'AGE', 'ADMISSION_DATE_TIME',\n",
    "       'DISCHARGE_DATE_TIME', 'ADMISSION_TYPE', 'ICU_TYPE',\n",
    "       'TF_ADMISSION_DATE_TIME', 'TF_DISCHARGE_DATE_TIME', 'LOS_ICU',\n",
    "       'firsthospmdrcharttime', 'firsthospmdrstoretime', 'firsthospmdrRAB',\n",
    "       'firsthospmdrorgname', 'microtest_days', 'microresult_days',\n",
    "       'microtest_inicu', 'microtest_beforeicu', 'microresult_beforeicu']]"
   ]
  },
  {
   "cell_type": "code",
   "execution_count": 9,
   "metadata": {
    "ExecuteTime": {
     "end_time": "2022-02-10T07:30:03.592460Z",
     "start_time": "2022-02-10T07:29:55.117464Z"
    },
    "execution": {
     "iopub.execute_input": "2024-01-24T09:42:05.675415Z",
     "iopub.status.busy": "2024-01-24T09:42:05.675239Z",
     "iopub.status.idle": "2024-01-24T09:42:09.819327Z",
     "shell.execute_reply": "2024-01-24T09:42:09.818336Z",
     "shell.execute_reply.started": "2024-01-24T09:42:05.675400Z"
    }
   },
   "outputs": [],
   "source": [
    "def trans_time(t):\n",
    "    if t == 'None':\n",
    "        return np.datetime64('NaT')\n",
    "    elif pd.isna(t):\n",
    "        return np.datetime64('NaT')\n",
    "    else:\n",
    "        return np.datetime64(t)\n",
    "\n",
    "for i in ['REQUESTED_DATE_TIME','RESULTS_RPT_DATE_TIME','TF_ADMISSION_DATE_TIME','TF_DISCHARGE_DATE_TIME','ADMISSION_DATE_TIME','DISCHARGE_DATE_TIME']:\n",
    "    cohort_WITHMDR[i] = cohort_WITHMDR[i].apply(trans_time)"
   ]
  },
  {
   "cell_type": "markdown",
   "metadata": {},
   "source": [
    "# 检出时间"
   ]
  },
  {
   "cell_type": "code",
   "execution_count": 10,
   "metadata": {
    "ExecuteTime": {
     "end_time": "2022-02-10T07:30:03.720462Z",
     "start_time": "2022-02-10T07:30:03.594460Z"
    },
    "execution": {
     "iopub.execute_input": "2024-01-24T09:42:09.820301Z",
     "iopub.status.busy": "2024-01-24T09:42:09.820134Z",
     "iopub.status.idle": "2024-01-24T09:42:09.893367Z",
     "shell.execute_reply": "2024-01-24T09:42:09.892474Z",
     "shell.execute_reply.started": "2024-01-24T09:42:09.820286Z"
    }
   },
   "outputs": [],
   "source": [
    "#检出MDR的时间在第一天住ICU之前(本次住院期间)\n",
    "cohort_all_mdrpos_beforeicu1stday =  cohort_WITHMDR[(cohort_WITHMDR['MDR'] == 1)&\\\n",
    "                                                 (cohort_WITHMDR['org_pos'] == 1)&\\\n",
    "                    (((cohort_WITHMDR['RESULTS_RPT_DATE_TIME']-cohort_WITHMDR['TF_ADMISSION_DATE_TIME']).dt.total_seconds()/3600)<=24)]\n",
    "\n",
    "cohort_all_mdrneg_beforeicu1stday =  cohort_WITHMDR[(cohort_WITHMDR['MDR'] == 1)&\\\n",
    "                                                 (cohort_WITHMDR['org_neg'] == 1)&\\\n",
    "                    (((cohort_WITHMDR['RESULTS_RPT_DATE_TIME']-cohort_WITHMDR['TF_ADMISSION_DATE_TIME']).dt.total_seconds()/3600)<=24)]"
   ]
  },
  {
   "cell_type": "code",
   "execution_count": 11,
   "metadata": {
    "ExecuteTime": {
     "end_time": "2022-02-10T07:30:09.151464Z",
     "start_time": "2022-02-10T07:30:03.722462Z"
    },
    "execution": {
     "iopub.execute_input": "2024-01-24T09:42:09.894337Z",
     "iopub.status.busy": "2024-01-24T09:42:09.894167Z",
     "iopub.status.idle": "2024-01-24T09:42:11.724625Z",
     "shell.execute_reply": "2024-01-24T09:42:11.723296Z",
     "shell.execute_reply.started": "2024-01-24T09:42:09.894322Z"
    }
   },
   "outputs": [],
   "source": [
    "#在住ICU第一个24小时前最近一次检出MDRO\n",
    "cohort_all_lastmdrpos_beforeicu1stday = cohort_all_mdrpos_beforeicu1stday.drop_duplicates().groupby(['PATIENT_ID','TF_ADMISSION_DATE_TIME']).\\\n",
    "apply(lambda x: x.sort_values(['RESULTS_RPT_DATE_TIME'],ascending = False).head(1)).reset_index(drop = True)\n",
    "\n",
    "cohort_all_lastmdrneg_beforeicu1stday = cohort_all_mdrneg_beforeicu1stday.drop_duplicates().groupby(['PATIENT_ID','TF_ADMISSION_DATE_TIME']).\\\n",
    "apply(lambda x: x.sort_values(['RESULTS_RPT_DATE_TIME'],ascending = False).head(1)).reset_index(drop = True)\n",
    "\n",
    "#最近一次检出MDRO的信息，以及是否在-30至1天内\n",
    "cohort_all_lastmdrpos_beforeicu1stday = cohort_all_lastmdrpos_beforeicu1stday[['PATIENT_ID','TF_ADMISSION_DATE_TIME',\\\n",
    "                                                           'REQUESTED_DATE_TIME','RESULTS_RPT_DATE_TIME','micro_name','resistant_ab_cat']].\\\n",
    "rename(columns = {'REQUESTED_DATE_TIME':'lastbeforeicu1stday_mdrposcharttime',\\\n",
    "                  'RESULTS_RPT_DATE_TIME':'lastbeforeicu1stday_mdrposstoretime',\\\n",
    "                  'micro_name':'lastbeforeicu1stday_mdrposorgname',\\\n",
    "                 'resistant_ab_cat':'lastbeforeicu1stday_mdrposRAB'})\n",
    "\n",
    "cohort_all_lastmdrneg_beforeicu1stday = cohort_all_lastmdrneg_beforeicu1stday[['PATIENT_ID','TF_ADMISSION_DATE_TIME',\\\n",
    "                                                           'REQUESTED_DATE_TIME','RESULTS_RPT_DATE_TIME','micro_name','resistant_ab_cat']].\\\n",
    "rename(columns = {'REQUESTED_DATE_TIME':'lastbeforeicu1stday_mdrnegcharttime',\\\n",
    "                  'RESULTS_RPT_DATE_TIME':'lastbeforeicu1stday_mdrnegstoretime',\\\n",
    "                  'micro_name':'lastbeforeicu1stday_mdrnegorgname',\\\n",
    "                 'resistant_ab_cat':'lastbeforeicu1stday_mdrnegRAB'})"
   ]
  },
  {
   "cell_type": "markdown",
   "metadata": {},
   "source": [
    "# 阳性阴性分类"
   ]
  },
  {
   "cell_type": "code",
   "execution_count": 12,
   "metadata": {
    "ExecuteTime": {
     "end_time": "2022-02-10T07:30:13.835466Z",
     "start_time": "2022-02-10T07:30:09.153460Z"
    },
    "execution": {
     "iopub.execute_input": "2024-01-24T09:42:11.725668Z",
     "iopub.status.busy": "2024-01-24T09:42:11.725484Z",
     "iopub.status.idle": "2024-01-24T09:42:13.160837Z",
     "shell.execute_reply": "2024-01-24T09:42:13.159307Z",
     "shell.execute_reply.started": "2024-01-24T09:42:11.725651Z"
    }
   },
   "outputs": [],
   "source": [
    "#positive\n",
    "cohort_WITHMDR_withlastall = pd.merge(cohort_WITHMDR, cohort_all_lastmdrpos_beforeicu1stday,how = 'left', on = ['PATIENT_ID','TF_ADMISSION_DATE_TIME'])\n",
    "\n",
    "cohort_WITHMDR_withlastall['lastbeforeicu1stday_mdrposstoreday'] = (cohort_WITHMDR_withlastall['lastbeforeicu1stday_mdrposstoretime'] - \\\n",
    "                                                                   cohort_WITHMDR_withlastall['TF_ADMISSION_DATE_TIME']).\\\n",
    "dt.total_seconds()/(3600*24)\n",
    "cohort_WITHMDR_withlastall['lastbeforeicu1stday_mdrposchartday'] = (cohort_WITHMDR_withlastall['lastbeforeicu1stday_mdrposcharttime'] - \\\n",
    "                                                                   cohort_WITHMDR_withlastall['TF_ADMISSION_DATE_TIME']).\\\n",
    "dt.total_seconds()/(3600*24)\n",
    "\n",
    "#negative\n",
    "cohort_WITHMDR_withlastall = pd.merge(cohort_WITHMDR_withlastall, cohort_all_lastmdrneg_beforeicu1stday,how = 'left', on = ['PATIENT_ID','TF_ADMISSION_DATE_TIME'])\n",
    "\n",
    "cohort_WITHMDR_withlastall['lastbeforeicu1stday_mdrnegstoreday'] = (cohort_WITHMDR_withlastall['lastbeforeicu1stday_mdrnegstoretime'] - \\\n",
    "                                                                   cohort_WITHMDR_withlastall['TF_ADMISSION_DATE_TIME']).\\\n",
    "dt.total_seconds()/(3600*24)\n",
    "cohort_WITHMDR_withlastall['lastbeforeicu1stday_mdrnegchartday'] = (cohort_WITHMDR_withlastall['lastbeforeicu1stday_mdrnegcharttime'] - \\\n",
    "                                                                   cohort_WITHMDR_withlastall['TF_ADMISSION_DATE_TIME']).\\\n",
    "dt.total_seconds()/(3600*24)"
   ]
  },
  {
   "cell_type": "code",
   "execution_count": 13,
   "metadata": {
    "ExecuteTime": {
     "end_time": "2022-02-10T07:30:14.962464Z",
     "start_time": "2022-02-10T07:30:13.837459Z"
    },
    "execution": {
     "iopub.execute_input": "2024-01-24T09:42:13.161860Z",
     "iopub.status.busy": "2024-01-24T09:42:13.161682Z",
     "iopub.status.idle": "2024-01-24T09:42:13.793043Z",
     "shell.execute_reply": "2024-01-24T09:42:13.791837Z",
     "shell.execute_reply.started": "2024-01-24T09:42:13.161844Z"
    }
   },
   "outputs": [],
   "source": [
    "#cohort_WITHMDR_withlastall[cohort_WITHMDR_withlastall['subject_id'] == 10004401].to_csv('test.csv')\n",
    "\n",
    "cohort_WITHMDR_withlastall['previous_mdrpos_lessthan14d'] = \\\n",
    "cohort_WITHMDR_withlastall['lastbeforeicu1stday_mdrposstoreday'].apply(lambda x: 1 if -14<=x<=1 else 0) #-24*30<x<24\n",
    "\n",
    "cohort_WITHMDR_withlastall['previous_mdrneg_lessthan14d'] = \\\n",
    "cohort_WITHMDR_withlastall['lastbeforeicu1stday_mdrnegstoreday'].apply(lambda x: 1 if -14<=x<=1 else 0) #-24*30<x<24\n",
    "\n",
    "cohort_WITHMDR_withlastall['previous_mdrpos_lessthan90d'] = \\\n",
    "cohort_WITHMDR_withlastall['lastbeforeicu1stday_mdrposstoreday'].apply(lambda x: 1 if -90<=x<-14 else 0) #-24*30<x<24\n",
    "\n",
    "cohort_WITHMDR_withlastall['previous_mdrneg_lessthan90d'] = \\\n",
    "cohort_WITHMDR_withlastall['lastbeforeicu1stday_mdrnegstoreday'].apply(lambda x: 1 if -90<=x<-14 else 0) #-24*30<x<24\n"
   ]
  },
  {
   "cell_type": "code",
   "execution_count": 14,
   "metadata": {
    "ExecuteTime": {
     "end_time": "2022-02-10T07:30:14.978459Z",
     "start_time": "2022-02-10T07:30:14.964459Z"
    },
    "execution": {
     "iopub.execute_input": "2024-01-24T09:42:13.794032Z",
     "iopub.status.busy": "2024-01-24T09:42:13.793859Z",
     "iopub.status.idle": "2024-01-24T09:42:13.798446Z",
     "shell.execute_reply": "2024-01-24T09:42:13.796998Z",
     "shell.execute_reply.started": "2024-01-24T09:42:13.794017Z"
    }
   },
   "outputs": [],
   "source": [
    "# spec_type = cohort_WITHMDR_withlastall[['subject_id','micro_specimen_id','org_name','spec_type_desc']]\n",
    "\n",
    "# spec_type_dum = pd.get_dummies(spec_type, columns = ['spec_type_desc'])\n",
    "\n",
    "# spec_type_SEL = spec_type_dum[[\\\n",
    "#                'spec_type_desc_URINE','spec_type_desc_BLOOD CULTURE',\\\n",
    "#                'spec_type_desc_SWAB','spec_type_desc_SPUTUM','spec_type_desc_TISSUE','spec_type_desc_BRONCHOALVEOLAR LAVAGE','spec_type_desc_ABSCESS']]\n",
    "\n",
    "# cohort_WITHMDR_withlastall = pd.concat([cohort_WITHMDR_withlastall, spec_type_SEL], axis = 1)"
   ]
  },
  {
   "cell_type": "markdown",
   "metadata": {},
   "source": [
    "# 标签"
   ]
  },
  {
   "cell_type": "code",
   "execution_count": 15,
   "metadata": {
    "ExecuteTime": {
     "end_time": "2022-02-10T07:30:23.944459Z",
     "start_time": "2022-02-10T07:30:14.980459Z"
    },
    "execution": {
     "iopub.execute_input": "2024-01-24T09:42:13.799209Z",
     "iopub.status.busy": "2024-01-24T09:42:13.799059Z",
     "iopub.status.idle": "2024-01-24T09:42:17.208378Z",
     "shell.execute_reply": "2024-01-24T09:42:17.207003Z",
     "shell.execute_reply.started": "2024-01-24T09:42:13.799196Z"
    }
   },
   "outputs": [],
   "source": [
    "#微生物检查及出结果时间与住ICU时间之差\n",
    "cohort_WITHMDR_withlastall['chart_inttime']=(cohort_WITHMDR_withlastall['REQUESTED_DATE_TIME']-cohort_WITHMDR_withlastall['TF_ADMISSION_DATE_TIME']).\\\n",
    "dt.total_seconds()/3600\n",
    "cohort_WITHMDR_withlastall['store_inttime']=(cohort_WITHMDR_withlastall['RESULTS_RPT_DATE_TIME']-cohort_WITHMDR_withlastall['TF_ADMISSION_DATE_TIME']).\\\n",
    "dt.total_seconds()/3600\n",
    "\n",
    "cohort_WITHMDR_withlastall['chart_included'] = cohort_WITHMDR_withlastall['chart_inttime'].\\\n",
    "apply(lambda x: 1 if -24<=x<=24 else 0)\n",
    "\n",
    "cohort_WITHMDR_withlastall['chart_included_mdr'] = cohort_WITHMDR_withlastall[['chart_included','MDR']].\\\n",
    "apply(lambda x:1 if (x[0]==1)&(x[1]==1) else 0, axis = 1)"
   ]
  },
  {
   "cell_type": "code",
   "execution_count": 16,
   "metadata": {
    "ExecuteTime": {
     "end_time": "2022-02-10T07:31:01.335114Z",
     "start_time": "2022-02-10T07:30:23.946465Z"
    },
    "execution": {
     "iopub.execute_input": "2024-01-24T09:42:17.209376Z",
     "iopub.status.busy": "2024-01-24T09:42:17.209205Z",
     "iopub.status.idle": "2024-01-24T09:42:35.047279Z",
     "shell.execute_reply": "2024-01-24T09:42:35.046382Z",
     "shell.execute_reply.started": "2024-01-24T09:42:17.209361Z"
    }
   },
   "outputs": [
    {
     "data": {
      "text/plain": [
       "0.0    37832\n",
       "1.0     1750\n",
       "Name: stay_chart_included_mdr, dtype: int64"
      ]
     },
     "execution_count": 16,
     "metadata": {},
     "output_type": "execute_result"
    }
   ],
   "source": [
    "def sel_stay_chart_included(df):\n",
    "    df_0 = df\n",
    "    if (df_0['chart_included'] == 1).any():\n",
    "        return 1\n",
    "    elif (df_0['chart_included'] == 0).all():\n",
    "        return 0 \n",
    "    else:\n",
    "        return np.nan\n",
    "\n",
    "stay_chart_included_df = cohort_WITHMDR_withlastall.groupby(['PATIENT_ID','TF_ADMISSION_DATE_TIME']).apply(sel_stay_chart_included)\n",
    "stay_chart_included_df = pd.DataFrame(stay_chart_included_df,columns= ['stay_chart_included']).reset_index()\n",
    "\n",
    "def sel_stay_chart_included_mdr(df):\n",
    "    df_0 = df\n",
    "    if (df_0['chart_included_mdr'] == 1).any():\n",
    "        return 1\n",
    "    elif (df_0['chart_included_mdr'] == 0).all():\n",
    "        return 0 \n",
    "    else:\n",
    "        return np.nan\n",
    "\n",
    "stay_chart_included_mdr_df = cohort_WITHMDR_withlastall.groupby(['PATIENT_ID','TF_ADMISSION_DATE_TIME']).apply(sel_stay_chart_included_mdr)\n",
    "stay_chart_included_mdr_df = pd.DataFrame(stay_chart_included_mdr_df,columns= ['stay_chart_included_mdr']).reset_index()\n",
    "\n",
    "cohort_WITHMDR_withlastall_chartin = pd.merge(cohort_WITHMDR_withlastall,\\\n",
    "                                                     stay_chart_included_df,how = 'left' , \\\n",
    "                                                     on = ['PATIENT_ID','TF_ADMISSION_DATE_TIME'])\n",
    "cohort_WITHMDR_withlastall_chartin = pd.merge(cohort_WITHMDR_withlastall_chartin,\\\n",
    "                                                     stay_chart_included_mdr_df,how = 'left', \\\n",
    "                                                     on = ['PATIENT_ID','TF_ADMISSION_DATE_TIME'])\n",
    "\n",
    "cohort_WITHMDR_withlastall_chartin[['PATIENT_ID','TF_ADMISSION_DATE_TIME','stay_chart_included_mdr']].drop_duplicates().stay_chart_included_mdr.value_counts()"
   ]
  },
  {
   "cell_type": "code",
   "execution_count": 17,
   "metadata": {
    "ExecuteTime": {
     "end_time": "2022-02-10T07:31:01.493115Z",
     "start_time": "2022-02-10T07:31:01.337113Z"
    },
    "execution": {
     "iopub.execute_input": "2024-01-24T09:42:35.048446Z",
     "iopub.status.busy": "2024-01-24T09:42:35.048256Z",
     "iopub.status.idle": "2024-01-24T09:42:35.108575Z",
     "shell.execute_reply": "2024-01-24T09:42:35.108143Z",
     "shell.execute_reply.started": "2024-01-24T09:42:35.048430Z"
    }
   },
   "outputs": [
    {
     "data": {
      "text/plain": [
       "1.0    23019\n",
       "0.0    16563\n",
       "Name: stay_chart_included, dtype: int64"
      ]
     },
     "execution_count": 17,
     "metadata": {},
     "output_type": "execute_result"
    }
   ],
   "source": [
    "cohort_WITHMDR_withlastall_chartin[['PATIENT_ID','TF_ADMISSION_DATE_TIME','stay_chart_included']].drop_duplicates().stay_chart_included.value_counts()"
   ]
  },
  {
   "cell_type": "code",
   "execution_count": 18,
   "metadata": {
    "ExecuteTime": {
     "end_time": "2022-02-10T07:32:19.179589Z",
     "start_time": "2022-02-10T07:31:01.494115Z"
    },
    "execution": {
     "iopub.execute_input": "2024-01-24T09:42:35.109440Z",
     "iopub.status.busy": "2024-01-24T09:42:35.109264Z",
     "iopub.status.idle": "2024-01-24T09:42:56.951089Z",
     "shell.execute_reply": "2024-01-24T09:42:56.949656Z",
     "shell.execute_reply.started": "2024-01-24T09:42:35.109425Z"
    }
   },
   "outputs": [],
   "source": [
    "def sel_chart_included_mdr_pos(df):\n",
    "    df_0 = df\n",
    "    if (df_0['chart_included_mdr'] == 1) & ((df_0['org_category'] == 'Staphylococcus aureus') or (df_0['org_category'] == 'Enterococcus spp.')):\n",
    "        return 1\n",
    "    else:\n",
    "        return 0\n",
    "\n",
    "def sel_chart_included_mdr_neg(df):\n",
    "    df_0 = df\n",
    "    if (df_0['chart_included_mdr'] == 1) & ((df_0['org_category'] == 'Enterobacteriaceae') \\\n",
    "                         or (df_0['org_category'] == 'Pseudomonas aeruginosa')\\\n",
    "                        or (df_0['org_category'] == 'Acinetobacter spp.')):\n",
    "        return 1\n",
    "    else:\n",
    "        return 0\n",
    "\n",
    "cohort_WITHMDR_withlastall_chartin['chart_included_mdr_neg'] = \\\n",
    "cohort_WITHMDR_withlastall_chartin.apply(sel_chart_included_mdr_neg,axis = 1)\n",
    "\n",
    "cohort_WITHMDR_withlastall_chartin['chart_included_mdr_pos'] = \\\n",
    "cohort_WITHMDR_withlastall_chartin.apply(sel_chart_included_mdr_pos,axis = 1)"
   ]
  },
  {
   "cell_type": "code",
   "execution_count": 19,
   "metadata": {
    "ExecuteTime": {
     "end_time": "2022-02-10T07:32:19.195587Z",
     "start_time": "2022-02-10T07:32:19.181588Z"
    },
    "execution": {
     "iopub.execute_input": "2024-01-24T09:42:56.952122Z",
     "iopub.status.busy": "2024-01-24T09:42:56.951935Z",
     "iopub.status.idle": "2024-01-24T09:42:56.955358Z",
     "shell.execute_reply": "2024-01-24T09:42:56.954892Z",
     "shell.execute_reply.started": "2024-01-24T09:42:56.952105Z"
    }
   },
   "outputs": [],
   "source": [
    "org_cat_list = ['Staphylococcus aureus', 'Enterococcus spp.', 'Enterobacteriaceae','Pseudomonas aeruginosa','Acinetobacter spp.']"
   ]
  },
  {
   "cell_type": "code",
   "execution_count": 20,
   "metadata": {
    "ExecuteTime": {
     "end_time": "2022-02-10T07:32:19.211587Z",
     "start_time": "2022-02-10T07:32:19.197586Z"
    },
    "execution": {
     "iopub.execute_input": "2024-01-24T09:42:56.956319Z",
     "iopub.status.busy": "2024-01-24T09:42:56.956089Z",
     "iopub.status.idle": "2024-01-24T09:42:56.958828Z",
     "shell.execute_reply": "2024-01-24T09:42:56.958382Z",
     "shell.execute_reply.started": "2024-01-24T09:42:56.956304Z"
    }
   },
   "outputs": [],
   "source": [
    "#cohort_WITHMDR_withlastall_chartin[(cohort_WITHMDR_withlastall_chartin['PATIENT_ID'] == 'S112029800')].to_csv('test0.csv',encoding = 'ANSI')"
   ]
  },
  {
   "cell_type": "code",
   "execution_count": 21,
   "metadata": {
    "ExecuteTime": {
     "end_time": "2022-02-10T07:32:19.355587Z",
     "start_time": "2022-02-10T07:32:19.213588Z"
    },
    "execution": {
     "iopub.execute_input": "2024-01-24T09:42:56.959530Z",
     "iopub.status.busy": "2024-01-24T09:42:56.959385Z",
     "iopub.status.idle": "2024-01-24T09:42:57.050212Z",
     "shell.execute_reply": "2024-01-24T09:42:57.049789Z",
     "shell.execute_reply.started": "2024-01-24T09:42:56.959516Z"
    }
   },
   "outputs": [],
   "source": [
    "org_category_micro = cohort_WITHMDR_withlastall_chartin[(cohort_WITHMDR_withlastall_chartin['chart_included'] == 1)&(cohort_WITHMDR_withlastall_chartin['org_category'].isin(org_cat_list))]"
   ]
  },
  {
   "cell_type": "code",
   "execution_count": 22,
   "metadata": {
    "ExecuteTime": {
     "end_time": "2022-02-10T07:32:19.371587Z",
     "start_time": "2022-02-10T07:32:19.359588Z"
    },
    "execution": {
     "iopub.execute_input": "2024-01-24T09:42:57.050955Z",
     "iopub.status.busy": "2024-01-24T09:42:57.050808Z",
     "iopub.status.idle": "2024-01-24T09:42:57.053358Z",
     "shell.execute_reply": "2024-01-24T09:42:57.052992Z",
     "shell.execute_reply.started": "2024-01-24T09:42:57.050942Z"
    }
   },
   "outputs": [],
   "source": [
    "#cohort_WITHMDR_withlastall_chartin[(cohort_WITHMDR_withlastall_chartin['PATIENT_ID'] == 'S115897510')].to_csv('test1.csv',encoding = 'ANSI')"
   ]
  },
  {
   "cell_type": "code",
   "execution_count": 23,
   "metadata": {
    "ExecuteTime": {
     "end_time": "2022-02-10T07:32:19.387593Z",
     "start_time": "2022-02-10T07:32:19.373586Z"
    },
    "execution": {
     "iopub.execute_input": "2024-01-24T09:42:57.054211Z",
     "iopub.status.busy": "2024-01-24T09:42:57.053864Z",
     "iopub.status.idle": "2024-01-24T09:42:57.056345Z",
     "shell.execute_reply": "2024-01-24T09:42:57.055993Z",
     "shell.execute_reply.started": "2024-01-24T09:42:57.054196Z"
    }
   },
   "outputs": [],
   "source": [
    "#cohort_WITHMDR_withlastall_chartin[(cohort_WITHMDR_withlastall_chartin.stay_chart_included == 1)&(cohort_WITHMDR_withlastall_chartin.stay_chart_included_mdr == 0)&(cohort_WITHMDR_withlastall_chartin.MDR == 1)&(cohort_WITHMDR_withlastall_chartin.ICU_TYPE == 'ICU')][300:350]"
   ]
  },
  {
   "cell_type": "code",
   "execution_count": 24,
   "metadata": {
    "ExecuteTime": {
     "end_time": "2022-02-10T07:32:26.348587Z",
     "start_time": "2022-02-10T07:32:19.389587Z"
    },
    "execution": {
     "iopub.execute_input": "2024-01-24T09:42:57.056989Z",
     "iopub.status.busy": "2024-01-24T09:42:57.056844Z",
     "iopub.status.idle": "2024-01-24T09:42:58.834105Z",
     "shell.execute_reply": "2024-01-24T09:42:58.833089Z",
     "shell.execute_reply.started": "2024-01-24T09:42:57.056976Z"
    }
   },
   "outputs": [],
   "source": [
    "mdr_neg_sum = cohort_WITHMDR_withlastall_chartin[['PATIENT_ID','TF_ADMISSION_DATE_TIME','chart_included_mdr_neg']].\\\n",
    "groupby(['PATIENT_ID','TF_ADMISSION_DATE_TIME']).sum().reset_index()\n",
    "mdr_neg_sum['stay_chart_included_mdr_neg_tot'] = mdr_neg_sum['chart_included_mdr_neg'].apply(lambda x:1 if x>=1 else 0)\n",
    "\n",
    "mdr_pos_sum = cohort_WITHMDR_withlastall_chartin[['PATIENT_ID','TF_ADMISSION_DATE_TIME','chart_included_mdr_pos']].\\\n",
    "groupby(['PATIENT_ID','TF_ADMISSION_DATE_TIME']).sum().reset_index()\n",
    "mdr_pos_sum['stay_chart_included_mdr_pos_tot'] = mdr_pos_sum['chart_included_mdr_pos'].apply(lambda x:1 if x>=1 else 0)\n",
    "\n",
    "cohort_WITHMDR_withlastall_chartin = cohort_WITHMDR_withlastall_chartin.\\\n",
    "merge(mdr_neg_sum[['PATIENT_ID','TF_ADMISSION_DATE_TIME','stay_chart_included_mdr_neg_tot']], how = 'left', on = ['PATIENT_ID','TF_ADMISSION_DATE_TIME']).\\\n",
    "merge(mdr_pos_sum[['PATIENT_ID','TF_ADMISSION_DATE_TIME','stay_chart_included_mdr_pos_tot']], how = 'left', on = ['PATIENT_ID','TF_ADMISSION_DATE_TIME'])\n",
    "\n",
    "#cohort_WITHMDR_withlastall_chartin[cohort_WITHMDR_withlastall_chartin['micro_name'] == 'ENTEROCOCCUS SP.']"
   ]
  },
  {
   "cell_type": "code",
   "execution_count": 25,
   "metadata": {
    "ExecuteTime": {
     "end_time": "2022-02-10T07:32:26.363589Z",
     "start_time": "2022-02-10T07:32:26.350586Z"
    },
    "execution": {
     "iopub.execute_input": "2024-01-24T09:42:58.834988Z",
     "iopub.status.busy": "2024-01-24T09:42:58.834819Z",
     "iopub.status.idle": "2024-01-24T09:42:58.839673Z",
     "shell.execute_reply": "2024-01-24T09:42:58.839072Z",
     "shell.execute_reply.started": "2024-01-24T09:42:58.834973Z"
    }
   },
   "outputs": [
    {
     "data": {
      "text/plain": [
       "Index(['PATIENT_ID', 'SPECIMEN', 'REQUESTED_DATE_TIME',\n",
       "       'RESULTS_RPT_DATE_TIME', 'SUBJECT', 'ITEM_NO', 'REPORT_ITEM_NAME',\n",
       "       'micro_name', '万古霉素', '亚胺培南', '克林霉素', '利奈唑胺', '利福平', '厄它培南', '哌拉西林',\n",
       "       '哌拉西林/他唑巴坦', '喹努普汀/达福普汀', '四环素', '复方新诺明', '头孢他啶', '头孢吡肟', '头孢呋辛',\n",
       "       '头孢呋辛酯', '头孢唑啉', '头孢曲松', '头孢替坦', '头孢西丁', '妥布霉素', '左旋氧氟沙星', '庆大霉素',\n",
       "       '替加环素', '替考拉宁', '氨曲南', '氨苄西林', '氨苄西林/舒巴坦', '环丙沙星', '磷霉素', '米诺环素', '红霉素',\n",
       "       '美洛培南', '苯唑西林', '苯唑青霉素', '莫西沙星', '阿米卡星', '阿莫西林/棒酸', '青霉素', '青霉素G',\n",
       "       '高水平庆大霉素', '高水平链霉素', 'resistant_ab_cat', 'MDR', 'org_category',\n",
       "       'org_pos', 'org_neg', 'VISIT_ID', 'GENDER', 'AGE',\n",
       "       'ADMISSION_DATE_TIME', 'DISCHARGE_DATE_TIME', 'ADMISSION_TYPE',\n",
       "       'ICU_TYPE', 'TF_ADMISSION_DATE_TIME', 'TF_DISCHARGE_DATE_TIME',\n",
       "       'LOS_ICU', 'firsthospmdrcharttime', 'firsthospmdrstoretime',\n",
       "       'firsthospmdrRAB', 'firsthospmdrorgname', 'microtest_days',\n",
       "       'microresult_days', 'microtest_inicu', 'microtest_beforeicu',\n",
       "       'microresult_beforeicu', 'lastbeforeicu1stday_mdrposcharttime',\n",
       "       'lastbeforeicu1stday_mdrposstoretime',\n",
       "       'lastbeforeicu1stday_mdrposorgname', 'lastbeforeicu1stday_mdrposRAB',\n",
       "       'lastbeforeicu1stday_mdrposstoreday',\n",
       "       'lastbeforeicu1stday_mdrposchartday',\n",
       "       'lastbeforeicu1stday_mdrnegcharttime',\n",
       "       'lastbeforeicu1stday_mdrnegstoretime',\n",
       "       'lastbeforeicu1stday_mdrnegorgname', 'lastbeforeicu1stday_mdrnegRAB',\n",
       "       'lastbeforeicu1stday_mdrnegstoreday',\n",
       "       'lastbeforeicu1stday_mdrnegchartday', 'previous_mdrpos_lessthan7d',\n",
       "       'previous_mdrneg_lessthan7d', 'previous_mdrpos_lessthan90d',\n",
       "       'previous_mdrneg_lessthan90d', 'chart_inttime', 'store_inttime',\n",
       "       'chart_included', 'chart_included_mdr', 'stay_chart_included',\n",
       "       'stay_chart_included_mdr', 'chart_included_mdr_neg',\n",
       "       'chart_included_mdr_pos', 'stay_chart_included_mdr_neg_tot',\n",
       "       'stay_chart_included_mdr_pos_tot'],\n",
       "      dtype='object')"
      ]
     },
     "execution_count": 25,
     "metadata": {},
     "output_type": "execute_result"
    }
   ],
   "source": [
    "cohort_WITHMDR_withlastall_chartin.columns"
   ]
  },
  {
   "cell_type": "code",
   "execution_count": 26,
   "metadata": {
    "ExecuteTime": {
     "end_time": "2022-02-10T07:58:57.733058Z",
     "start_time": "2022-02-10T07:58:56.818054Z"
    },
    "execution": {
     "iopub.execute_input": "2024-01-24T09:42:58.843626Z",
     "iopub.status.busy": "2024-01-24T09:42:58.843472Z",
     "iopub.status.idle": "2024-01-24T09:42:59.906810Z",
     "shell.execute_reply": "2024-01-24T09:42:59.905427Z",
     "shell.execute_reply.started": "2024-01-24T09:42:58.843612Z"
    }
   },
   "outputs": [],
   "source": [
    "final_cohort_pre = cohort_WITHMDR_withlastall_chartin[['PATIENT_ID',  'VISIT_ID', 'GENDER', 'AGE',\n",
    "       'ADMISSION_DATE_TIME', 'DISCHARGE_DATE_TIME', 'ADMISSION_TYPE',\n",
    "       'ICU_TYPE', 'TF_ADMISSION_DATE_TIME', 'TF_DISCHARGE_DATE_TIME',\n",
    "       'LOS_ICU', 'firsthospmdrcharttime', 'firsthospmdrstoretime',\n",
    "       'firsthospmdrRAB', 'firsthospmdrorgname', \n",
    "      'previous_mdrpos_lessthan14d',\n",
    "       'previous_mdrneg_lessthan14d', 'previous_mdrpos_lessthan90d',\n",
    "       'previous_mdrneg_lessthan90d',  'stay_chart_included',\n",
    "       'stay_chart_included_mdr', 'stay_chart_included_mdr_neg_tot',\n",
    "       'stay_chart_included_mdr_pos_tot']].drop_duplicates()"
   ]
  },
  {
   "cell_type": "code",
   "execution_count": 27,
   "metadata": {
    "ExecuteTime": {
     "end_time": "2022-02-10T07:58:57.749055Z",
     "start_time": "2022-02-10T07:58:57.735053Z"
    },
    "execution": {
     "iopub.execute_input": "2024-01-24T09:42:59.907769Z",
     "iopub.status.busy": "2024-01-24T09:42:59.907594Z",
     "iopub.status.idle": "2024-01-24T09:42:59.911259Z",
     "shell.execute_reply": "2024-01-24T09:42:59.910824Z",
     "shell.execute_reply.started": "2024-01-24T09:42:59.907754Z"
    }
   },
   "outputs": [],
   "source": [
    "# spec_togroup = cohort_WITHMDR_withlastall_chartin[['stay_id','stay_chart_included','spec_type_desc_URINE','spec_type_desc_BLOOD CULTURE',\\\n",
    "#                'spec_type_desc_SWAB','spec_type_desc_SPUTUM','spec_type_desc_TISSUE','spec_type_desc_BRONCHOALVEOLAR LAVAGE','spec_type_desc_ABSCESS']]\n",
    "\n",
    "# spec_group = spec_togroup.groupby(['stay_id','stay_chart_included']).sum().reset_index()\n",
    "\n",
    "# for i in ['spec_type_desc_URINE','spec_type_desc_BLOOD CULTURE','spec_type_desc_SWAB','spec_type_desc_SPUTUM','spec_type_desc_TISSUE','spec_type_desc_BRONCHOALVEOLAR LAVAGE','spec_type_desc_ABSCESS']:\n",
    "#     spec_group[i] = spec_group[i].apply(lambda x:1 if x>0 else 0)\n",
    "\n",
    "# cohort_WITHMDR_withlastall_chartin = pd.merge(cohort_WITHMDR_withlastall_chartin.drop(columns = ['spec_type_desc_URINE','spec_type_desc_BLOOD CULTURE','spec_type_desc_SWAB','spec_type_desc_SPUTUM',\\\n",
    "#                                                             'spec_type_desc_TISSUE','spec_type_desc_BRONCHOALVEOLAR LAVAGE','spec_type_desc_ABSCESS']),\\\n",
    "#          spec_group,how = 'left', on = ['stay_id', 'stay_chart_included'])\n",
    "\n",
    "# final_cohort_pre = cohort_WITHMDR_withlastall_chartin[['subject_id', 'hadm_id_icu', 'stay_id', 'gender', 'admittime', 'dischtime',\n",
    "#        'los_hospital', 'age', 'ethnicity', 'admission_type',\n",
    "#        'hospital_expire_flag', 'hospstay_seq', 'first_hosp_stay', 'intime',\n",
    "#        'outtime', 'first_careunit', 'last_careunit', 'los_icu', 'icustay_seq',\n",
    "#        'first_icu_stay','spec_type_desc_URINE','spec_type_desc_BLOOD CULTURE','spec_type_desc_SWAB','spec_type_desc_SPUTUM',\n",
    "#      'spec_type_desc_TISSUE','spec_type_desc_BRONCHOALVEOLAR LAVAGE','spec_type_desc_ABSCESS',\n",
    "#        'firsthospmdrcharttime', 'firsthospmdrstoretime', 'firsthospmdrorgname',\n",
    "#        'firsthospmdrRAB','last','previous_mdrpos_lessthan14d','previous_mdrneg_lessthan14d','previous_mdrpos_lessthan90d','previous_mdrneg_lessthan90d',\n",
    "#      'stay_chart_included','stay_chart_included_mdr','stay_chart_included_mdr_neg_tot','stay_chart_included_mdr_pos_tot']].drop_duplicates()"
   ]
  },
  {
   "cell_type": "code",
   "execution_count": 28,
   "metadata": {
    "ExecuteTime": {
     "end_time": "2022-02-10T07:58:58.081057Z",
     "start_time": "2022-02-10T07:58:57.801054Z"
    },
    "execution": {
     "iopub.execute_input": "2024-01-24T09:42:59.911978Z",
     "iopub.status.busy": "2024-01-24T09:42:59.911825Z",
     "iopub.status.idle": "2024-01-24T09:43:00.021069Z",
     "shell.execute_reply": "2024-01-24T09:43:00.019653Z",
     "shell.execute_reply.started": "2024-01-24T09:42:59.911964Z"
    }
   },
   "outputs": [],
   "source": [
    "micro_sel = cohort_WITHMDR_withlastall_chartin[(cohort_WITHMDR_withlastall_chartin['chart_included']==1)\\\n",
    "                                   #&(cohort_WITHMDR_withlastall_chartin['last']==1)\\\n",
    "                                  &(cohort_WITHMDR_withlastall_chartin['LOS_ICU']>=1)\\\n",
    "                                 &(cohort_WITHMDR_withlastall_chartin['previous_mdrpos_lessthan14d']!=1)\n",
    "                                   &(cohort_WITHMDR_withlastall_chartin['previous_mdrneg_lessthan14d']!=1)]\\\n",
    "[['PATIENT_ID','TF_ADMISSION_DATE_TIME','SPECIMEN', 'REQUESTED_DATE_TIME','micro_name','org_category','MDR']].drop_duplicates()"
   ]
  },
  {
   "cell_type": "code",
   "execution_count": 29,
   "metadata": {
    "ExecuteTime": {
     "end_time": "2022-02-10T07:58:58.713216Z",
     "start_time": "2022-02-10T07:58:58.449215Z"
    },
    "execution": {
     "iopub.execute_input": "2024-01-24T09:43:00.022129Z",
     "iopub.status.busy": "2024-01-24T09:43:00.021948Z",
     "iopub.status.idle": "2024-01-24T09:43:00.270219Z",
     "shell.execute_reply": "2024-01-24T09:43:00.269203Z",
     "shell.execute_reply.started": "2024-01-24T09:43:00.022114Z"
    }
   },
   "outputs": [
    {
     "data": {
      "text/plain": [
       "<matplotlib.legend.Legend at 0x7fd92d938e50>"
      ]
     },
     "execution_count": 29,
     "metadata": {},
     "output_type": "execute_result"
    },
    {
     "data": {
      "image/png": "[encoded data removed]",
      "text/plain": [
       "<Figure size 800x1500 with 1 Axes>"
      ]
     },
     "metadata": {},
     "output_type": "display_data"
    }
   ],
   "source": [
    "mdr_plot_cat = micro_sel[['micro_name','org_category','MDR']]\n",
    "#mdr_plot_cat = pd.merge(mdr_plot_cat,org_name_sel.iloc[:,1:4],how = 'left', on = 'micro_name')\n",
    "mdr_plot_cat = mdr_plot_cat[~pd.isna(mdr_plot_cat.org_category)]\n",
    "mdr_plot_cat_bar1 = pd.DataFrame(mdr_plot_cat[mdr_plot_cat['MDR']==1].groupby(['org_category','MDR']).count()['micro_name']).reset_index().sort_values(by = 'micro_name',ascending = False)\n",
    "mdr_plot_cat_bar0 = pd.DataFrame(mdr_plot_cat[mdr_plot_cat['MDR']==0].groupby(['org_category','MDR']).count()['micro_name']).reset_index().sort_values(by = 'micro_name',ascending = False)\n",
    "mdr_plot_cat_bar = pd.merge(mdr_plot_cat_bar1,mdr_plot_cat_bar0,how = 'right', on = 'org_category')\n",
    "#with plt.style.context(['science','notebook','ieee','no-latex']):\n",
    "plt.figure(figsize= (8,15))\n",
    "plt.bar(mdr_plot_cat_bar['org_category'],mdr_plot_cat_bar['micro_name_y'],color='#307eb9',label='Not MDR')\n",
    "plt.bar(mdr_plot_cat_bar['org_category'],mdr_plot_cat_bar['micro_name_x'],color='#74d7ff',bottom=mdr_plot_cat_bar['micro_name_y'], label = 'MDR')\n",
    "plt.tick_params(labelsize = 15)\n",
    "for x1,x2, y1, y2 in zip(mdr_plot_cat_bar['org_category'], mdr_plot_cat_bar['org_category'], mdr_plot_cat_bar['micro_name_y'], mdr_plot_cat_bar['micro_name_x']):\n",
    "    plt.text(x1 , y1, '%.0f' % y1, ha='center', va='top',fontsize = 12)\n",
    "    plt.text(x2 , y1+y2, '%.0f' % y2, ha='center', va='bottom',fontsize = 12)\n",
    "plt.xticks(rotation = 60)\n",
    "plt.legend(loc=1)"
   ]
  },
  {
   "cell_type": "code",
   "execution_count": 30,
   "metadata": {
    "ExecuteTime": {
     "end_time": "2022-02-10T07:59:01.825254Z",
     "start_time": "2022-02-10T07:59:01.651250Z"
    },
    "execution": {
     "iopub.execute_input": "2024-01-24T09:43:00.271153Z",
     "iopub.status.busy": "2024-01-24T09:43:00.270989Z",
     "iopub.status.idle": "2024-01-24T09:43:00.341764Z",
     "shell.execute_reply": "2024-01-24T09:43:00.340792Z",
     "shell.execute_reply.started": "2024-01-24T09:43:00.271137Z"
    }
   },
   "outputs": [],
   "source": [
    "final_cohort_pre_id = final_cohort_pre[['PATIENT_ID','TF_ADMISSION_DATE_TIME']].drop_duplicates()\n",
    "final_cohort_pre_id['icustay_rank']= final_cohort_pre.groupby(['PATIENT_ID'])['TF_ADMISSION_DATE_TIME'].rank()\n",
    "final_cohort_pre = pd.merge(final_cohort_pre,final_cohort_pre_id,how = 'right', on = ['PATIENT_ID','TF_ADMISSION_DATE_TIME'])\n",
    "\n",
    "final_cohort_pre['los_icu_exc'] = final_cohort_pre['LOS_ICU'].apply(lambda x:1 if x < 1 else 0)\n",
    "\n",
    "final_cohort_stage0 = final_cohort_pre[final_cohort_pre['stay_chart_included'] == 1]\n",
    "\n",
    "final_cohort_stage1 = final_cohort_stage0[final_cohort_stage0['AGE']>=18]\n",
    "\n",
    "final_cohort_stage2 = final_cohort_stage1[final_cohort_stage1['los_icu_exc']==0]\n",
    "\n",
    "final_cohort_stage3 = final_cohort_stage2[(final_cohort_stage2['previous_mdrpos_lessthan14d'] != 1)& (final_cohort_stage2['previous_mdrneg_lessthan14d'] != 1)]"
   ]
  },
  {
   "cell_type": "code",
   "execution_count": 31,
   "metadata": {
    "ExecuteTime": {
     "end_time": "2022-02-10T07:59:03.004136Z",
     "start_time": "2022-02-10T07:59:02.986136Z"
    },
    "execution": {
     "iopub.execute_input": "2024-01-24T09:43:00.342640Z",
     "iopub.status.busy": "2024-01-24T09:43:00.342469Z",
     "iopub.status.idle": "2024-01-24T09:43:00.351288Z",
     "shell.execute_reply": "2024-01-24T09:43:00.350945Z",
     "shell.execute_reply.started": "2024-01-24T09:43:00.342625Z"
    }
   },
   "outputs": [
    {
     "data": {
      "text/plain": [
       "(23019, 2)"
      ]
     },
     "execution_count": 31,
     "metadata": {},
     "output_type": "execute_result"
    }
   ],
   "source": [
    "final_cohort_stage0[['PATIENT_ID','TF_ADMISSION_DATE_TIME']].drop_duplicates().shape"
   ]
  },
  {
   "cell_type": "code",
   "execution_count": 32,
   "metadata": {
    "ExecuteTime": {
     "end_time": "2022-02-10T07:59:04.071548Z",
     "start_time": "2022-02-10T07:59:04.048548Z"
    },
    "execution": {
     "iopub.execute_input": "2024-01-24T09:43:00.351964Z",
     "iopub.status.busy": "2024-01-24T09:43:00.351815Z",
     "iopub.status.idle": "2024-01-24T09:43:00.356875Z",
     "shell.execute_reply": "2024-01-24T09:43:00.356463Z",
     "shell.execute_reply.started": "2024-01-24T09:43:00.351950Z"
    }
   },
   "outputs": [
    {
     "data": {
      "text/plain": [
       "0.0    60\n",
       "1.0    30\n",
       "Name: stay_chart_included_mdr, dtype: int64"
      ]
     },
     "execution_count": 32,
     "metadata": {},
     "output_type": "execute_result"
    }
   ],
   "source": [
    "final_cohort_stage3[final_cohort_stage3['previous_mdrpos_lessthan90d']==1].stay_chart_included_mdr.value_counts()"
   ]
  },
  {
   "cell_type": "code",
   "execution_count": 33,
   "metadata": {
    "ExecuteTime": {
     "end_time": "2022-02-10T07:59:04.405642Z",
     "start_time": "2022-02-10T07:59:04.393643Z"
    },
    "execution": {
     "iopub.execute_input": "2024-01-24T09:43:00.357610Z",
     "iopub.status.busy": "2024-01-24T09:43:00.357460Z",
     "iopub.status.idle": "2024-01-24T09:43:00.362103Z",
     "shell.execute_reply": "2024-01-24T09:43:00.361755Z",
     "shell.execute_reply.started": "2024-01-24T09:43:00.357597Z"
    }
   },
   "outputs": [
    {
     "data": {
      "text/plain": [
       "0.0    195\n",
       "1.0    113\n",
       "Name: stay_chart_included_mdr, dtype: int64"
      ]
     },
     "execution_count": 33,
     "metadata": {},
     "output_type": "execute_result"
    }
   ],
   "source": [
    "final_cohort_stage3[final_cohort_stage3['previous_mdrneg_lessthan90d']==1].stay_chart_included_mdr.value_counts()"
   ]
  },
  {
   "cell_type": "code",
   "execution_count": 34,
   "metadata": {
    "ExecuteTime": {
     "end_time": "2022-02-10T07:59:04.706853Z",
     "start_time": "2022-02-10T07:59:04.697854Z"
    },
    "execution": {
     "iopub.execute_input": "2024-01-24T09:43:00.362779Z",
     "iopub.status.busy": "2024-01-24T09:43:00.362632Z",
     "iopub.status.idle": "2024-01-24T09:43:00.367416Z",
     "shell.execute_reply": "2024-01-24T09:43:00.367075Z",
     "shell.execute_reply.started": "2024-01-24T09:43:00.362765Z"
    }
   },
   "outputs": [
    {
     "data": {
      "text/plain": [
       "0.0    1218\n",
       "1.0     286\n",
       "Name: stay_chart_included_mdr_pos_tot, dtype: int64"
      ]
     },
     "execution_count": 34,
     "metadata": {},
     "output_type": "execute_result"
    }
   ],
   "source": [
    "final_cohort_stage3[final_cohort_stage3['stay_chart_included_mdr']==1].stay_chart_included_mdr_pos_tot.value_counts()"
   ]
  },
  {
   "cell_type": "code",
   "execution_count": 35,
   "metadata": {
    "ExecuteTime": {
     "end_time": "2022-02-10T07:59:05.073107Z",
     "start_time": "2022-02-10T07:59:05.059121Z"
    },
    "execution": {
     "iopub.execute_input": "2024-01-24T09:43:00.368085Z",
     "iopub.status.busy": "2024-01-24T09:43:00.367937Z",
     "iopub.status.idle": "2024-01-24T09:43:00.371766Z",
     "shell.execute_reply": "2024-01-24T09:43:00.371428Z",
     "shell.execute_reply.started": "2024-01-24T09:43:00.368071Z"
    }
   },
   "outputs": [
    {
     "data": {
      "text/plain": [
       "0.0    18273\n",
       "1.0     1504\n",
       "Name: stay_chart_included_mdr, dtype: int64"
      ]
     },
     "execution_count": 35,
     "metadata": {},
     "output_type": "execute_result"
    }
   ],
   "source": [
    "final_cohort_stage3.stay_chart_included_mdr.value_counts()"
   ]
  },
  {
   "cell_type": "code",
   "execution_count": 36,
   "metadata": {
    "ExecuteTime": {
     "end_time": "2022-02-10T07:59:06.263734Z",
     "start_time": "2022-02-10T07:59:06.257730Z"
    },
    "execution": {
     "iopub.execute_input": "2024-01-24T09:43:00.372466Z",
     "iopub.status.busy": "2024-01-24T09:43:00.372317Z",
     "iopub.status.idle": "2024-01-24T09:43:00.376189Z",
     "shell.execute_reply": "2024-01-24T09:43:00.375813Z",
     "shell.execute_reply.started": "2024-01-24T09:43:00.372452Z"
    }
   },
   "outputs": [
    {
     "name": "stderr",
     "output_type": "stream",
     "text": [
      "/tmp/ipykernel_2713993/1784526656.py:1: SettingWithCopyWarning: \n",
      "A value is trying to be set on a copy of a slice from a DataFrame.\n",
      "Try using .loc[row_indexer,col_indexer] = value instead\n",
      "\n",
      "See the caveats in the documentation: https://pandas.pydata.org/pandas-docs/stable/user_guide/indexing.html#returning-a-view-versus-a-copy\n",
      "  final_cohort_stage3['los_hosp_beforeicu'] = \\\n"
     ]
    }
   ],
   "source": [
    "final_cohort_stage3['los_hosp_beforeicu'] = \\\n",
    "(final_cohort_stage3['TF_ADMISSION_DATE_TIME'] - final_cohort_stage3['ADMISSION_DATE_TIME']).dt.total_seconds()/(3600*24)"
   ]
  },
  {
   "cell_type": "code",
   "execution_count": 37,
   "metadata": {
    "ExecuteTime": {
     "end_time": "2022-02-10T07:59:07.265486Z",
     "start_time": "2022-02-10T07:59:07.241485Z"
    },
    "execution": {
     "iopub.execute_input": "2024-01-24T09:43:00.377056Z",
     "iopub.status.busy": "2024-01-24T09:43:00.376687Z",
     "iopub.status.idle": "2024-01-24T09:43:00.386687Z",
     "shell.execute_reply": "2024-01-24T09:43:00.386343Z",
     "shell.execute_reply.started": "2024-01-24T09:43:00.377040Z"
    }
   },
   "outputs": [
    {
     "data": {
      "text/plain": [
       "(19777, 2)"
      ]
     },
     "execution_count": 37,
     "metadata": {},
     "output_type": "execute_result"
    }
   ],
   "source": [
    "final_cohort_stage3[(final_cohort_stage3['AGE']>=18)][['PATIENT_ID','TF_ADMISSION_DATE_TIME']].drop_duplicates().shape"
   ]
  },
  {
   "cell_type": "code",
   "execution_count": 38,
   "metadata": {
    "ExecuteTime": {
     "end_time": "2022-02-10T07:59:08.295349Z",
     "start_time": "2022-02-10T07:59:08.281349Z"
    },
    "execution": {
     "iopub.execute_input": "2024-01-24T09:43:00.387356Z",
     "iopub.status.busy": "2024-01-24T09:43:00.387210Z",
     "iopub.status.idle": "2024-01-24T09:43:00.391244Z",
     "shell.execute_reply": "2024-01-24T09:43:00.390845Z",
     "shell.execute_reply.started": "2024-01-24T09:43:00.387343Z"
    }
   },
   "outputs": [
    {
     "data": {
      "text/plain": [
       "0.0    18273\n",
       "1.0     1504\n",
       "Name: stay_chart_included_mdr, dtype: int64"
      ]
     },
     "execution_count": 38,
     "metadata": {},
     "output_type": "execute_result"
    }
   ],
   "source": [
    "final_cohort_stage3.stay_chart_included_mdr.value_counts()"
   ]
  },
  {
   "cell_type": "code",
   "execution_count": 39,
   "metadata": {
    "ExecuteTime": {
     "end_time": "2022-02-10T07:59:09.371906Z",
     "start_time": "2022-02-10T07:59:09.354899Z"
    },
    "execution": {
     "iopub.execute_input": "2024-01-24T09:43:00.391887Z",
     "iopub.status.busy": "2024-01-24T09:43:00.391738Z",
     "iopub.status.idle": "2024-01-24T09:43:00.399433Z",
     "shell.execute_reply": "2024-01-24T09:43:00.399075Z",
     "shell.execute_reply.started": "2024-01-24T09:43:00.391873Z"
    }
   },
   "outputs": [
    {
     "data": {
      "text/html": [
       "<div>\n",
       "<style scoped>\n",
       "    .dataframe tbody tr th:only-of-type {\n",
       "        vertical-align: middle;\n",
       "    }\n",
       "\n",
       "    .dataframe tbody tr th {\n",
       "        vertical-align: top;\n",
       "    }\n",
       "\n",
       "    .dataframe thead th {\n",
       "        text-align: right;\n",
       "    }\n",
       "</style>\n",
       "<table border=\"1\" class=\"dataframe\">\n",
       "  <thead>\n",
       "    <tr style=\"text-align: right;\">\n",
       "      <th></th>\n",
       "      <th>PATIENT_ID</th>\n",
       "      <th>VISIT_ID</th>\n",
       "      <th>GENDER</th>\n",
       "      <th>AGE</th>\n",
       "      <th>ADMISSION_DATE_TIME</th>\n",
       "      <th>DISCHARGE_DATE_TIME</th>\n",
       "      <th>ADMISSION_TYPE</th>\n",
       "      <th>ICU_TYPE</th>\n",
       "      <th>TF_ADMISSION_DATE_TIME</th>\n",
       "      <th>TF_DISCHARGE_DATE_TIME</th>\n",
       "      <th>LOS_ICU</th>\n",
       "      <th>firsthospmdrcharttime</th>\n",
       "      <th>firsthospmdrstoretime</th>\n",
       "      <th>firsthospmdrRAB</th>\n",
       "      <th>firsthospmdrorgname</th>\n",
       "      <th>previous_mdrpos_lessthan7d</th>\n",
       "      <th>previous_mdrneg_lessthan7d</th>\n",
       "      <th>previous_mdrpos_lessthan90d</th>\n",
       "      <th>previous_mdrneg_lessthan90d</th>\n",
       "      <th>stay_chart_included</th>\n",
       "      <th>stay_chart_included_mdr</th>\n",
       "      <th>stay_chart_included_mdr_neg_tot</th>\n",
       "      <th>stay_chart_included_mdr_pos_tot</th>\n",
       "      <th>icustay_rank</th>\n",
       "      <th>los_icu_exc</th>\n",
       "      <th>los_hosp_beforeicu</th>\n",
       "    </tr>\n",
       "  </thead>\n",
       "  <tbody>\n",
       "  </tbody>\n",
       "</table>\n",
       "</div>"
      ],
      "text/plain": [
       "Empty DataFrame\n",
       "Columns: [PATIENT_ID, VISIT_ID, GENDER, AGE, ADMISSION_DATE_TIME, DISCHARGE_DATE_TIME, ADMISSION_TYPE, ICU_TYPE, TF_ADMISSION_DATE_TIME, TF_DISCHARGE_DATE_TIME, LOS_ICU, firsthospmdrcharttime, firsthospmdrstoretime, firsthospmdrRAB, firsthospmdrorgname, previous_mdrpos_lessthan7d, previous_mdrneg_lessthan7d, previous_mdrpos_lessthan90d, previous_mdrneg_lessthan90d, stay_chart_included, stay_chart_included_mdr, stay_chart_included_mdr_neg_tot, stay_chart_included_mdr_pos_tot, icustay_rank, los_icu_exc, los_hosp_beforeicu]\n",
       "Index: []"
      ]
     },
     "execution_count": 39,
     "metadata": {},
     "output_type": "execute_result"
    }
   ],
   "source": [
    "final_cohort_stage3[final_cohort_stage3['AGE']<18]"
   ]
  },
  {
   "cell_type": "code",
   "execution_count": 40,
   "metadata": {
    "ExecuteTime": {
     "end_time": "2022-02-10T07:59:11.021628Z",
     "start_time": "2022-02-10T07:59:10.481629Z"
    },
    "execution": {
     "iopub.execute_input": "2024-01-24T09:43:00.400169Z",
     "iopub.status.busy": "2024-01-24T09:43:00.399946Z",
     "iopub.status.idle": "2024-01-24T09:43:00.641314Z",
     "shell.execute_reply": "2024-01-24T09:43:00.639971Z",
     "shell.execute_reply.started": "2024-01-24T09:43:00.400154Z"
    }
   },
   "outputs": [],
   "source": [
    "final_cohort_stage3.to_csv('final_cohort.csv', index = False)"
   ]
  },
  {
   "cell_type": "code",
   "execution_count": 41,
   "metadata": {
    "ExecuteTime": {
     "end_time": "2022-02-10T07:39:30.026166Z",
     "start_time": "2022-02-10T07:39:29.998170Z"
    },
    "execution": {
     "iopub.execute_input": "2024-01-24T09:43:00.642122Z",
     "iopub.status.busy": "2024-01-24T09:43:00.641967Z",
     "iopub.status.idle": "2024-01-24T09:43:00.654728Z",
     "shell.execute_reply": "2024-01-24T09:43:00.654354Z",
     "shell.execute_reply.started": "2024-01-24T09:43:00.642107Z"
    }
   },
   "outputs": [
    {
     "data": {
      "text/html": [
       "<div>\n",
       "<style scoped>\n",
       "    .dataframe tbody tr th:only-of-type {\n",
       "        vertical-align: middle;\n",
       "    }\n",
       "\n",
       "    .dataframe tbody tr th {\n",
       "        vertical-align: top;\n",
       "    }\n",
       "\n",
       "    .dataframe thead th {\n",
       "        text-align: right;\n",
       "    }\n",
       "</style>\n",
       "<table border=\"1\" class=\"dataframe\">\n",
       "  <thead>\n",
       "    <tr style=\"text-align: right;\">\n",
       "      <th></th>\n",
       "      <th>PATIENT_ID</th>\n",
       "      <th>TF_ADMISSION_DATE_TIME</th>\n",
       "    </tr>\n",
       "  </thead>\n",
       "  <tbody>\n",
       "    <tr>\n",
       "      <th>3</th>\n",
       "      <td>S110676645</td>\n",
       "      <td>2008-11-17 18:14:08</td>\n",
       "    </tr>\n",
       "    <tr>\n",
       "      <th>15</th>\n",
       "      <td>S110666507</td>\n",
       "      <td>2009-05-27 20:56:42</td>\n",
       "    </tr>\n",
       "    <tr>\n",
       "      <th>16</th>\n",
       "      <td>S110666507</td>\n",
       "      <td>2009-10-19 19:00:00</td>\n",
       "    </tr>\n",
       "    <tr>\n",
       "      <th>17</th>\n",
       "      <td>S112330035</td>\n",
       "      <td>2012-07-06 14:55:00</td>\n",
       "    </tr>\n",
       "    <tr>\n",
       "      <th>22</th>\n",
       "      <td>S108951515</td>\n",
       "      <td>2008-09-27 19:45:23</td>\n",
       "    </tr>\n",
       "    <tr>\n",
       "      <th>...</th>\n",
       "      <td>...</td>\n",
       "      <td>...</td>\n",
       "    </tr>\n",
       "    <tr>\n",
       "      <th>39685</th>\n",
       "      <td>S110433266</td>\n",
       "      <td>2009-06-02 15:10:00</td>\n",
       "    </tr>\n",
       "    <tr>\n",
       "      <th>39686</th>\n",
       "      <td>S110823974</td>\n",
       "      <td>2010-03-23 20:26:02</td>\n",
       "    </tr>\n",
       "    <tr>\n",
       "      <th>39688</th>\n",
       "      <td>S110016702</td>\n",
       "      <td>2008-07-22 21:43:35</td>\n",
       "    </tr>\n",
       "    <tr>\n",
       "      <th>39691</th>\n",
       "      <td>S110446777</td>\n",
       "      <td>2009-06-06 23:04:51</td>\n",
       "    </tr>\n",
       "    <tr>\n",
       "      <th>39711</th>\n",
       "      <td>S111528519</td>\n",
       "      <td>2008-08-22 13:41:57</td>\n",
       "    </tr>\n",
       "  </tbody>\n",
       "</table>\n",
       "<p>5718 rows × 2 columns</p>\n",
       "</div>"
      ],
      "text/plain": [
       "       PATIENT_ID TF_ADMISSION_DATE_TIME\n",
       "3      S110676645    2008-11-17 18:14:08\n",
       "15     S110666507    2009-05-27 20:56:42\n",
       "16     S110666507    2009-10-19 19:00:00\n",
       "17     S112330035    2012-07-06 14:55:00\n",
       "22     S108951515    2008-09-27 19:45:23\n",
       "...           ...                    ...\n",
       "39685  S110433266    2009-06-02 15:10:00\n",
       "39686  S110823974    2010-03-23 20:26:02\n",
       "39688  S110016702    2008-07-22 21:43:35\n",
       "39691  S110446777    2009-06-06 23:04:51\n",
       "39711  S111528519    2008-08-22 13:41:57\n",
       "\n",
       "[5718 rows x 2 columns]"
      ]
     },
     "execution_count": 41,
     "metadata": {},
     "output_type": "execute_result"
    }
   ],
   "source": [
    "final_cohort_pre[final_cohort_pre['ICU_TYPE'] == 'ICU'][['PATIENT_ID','TF_ADMISSION_DATE_TIME']].drop_duplicates()"
   ]
  },
  {
   "cell_type": "code",
   "execution_count": 42,
   "metadata": {
    "ExecuteTime": {
     "end_time": "2022-02-10T07:56:03.864663Z",
     "start_time": "2022-02-10T07:56:03.834663Z"
    },
    "execution": {
     "iopub.execute_input": "2024-01-24T09:43:00.655407Z",
     "iopub.status.busy": "2024-01-24T09:43:00.655258Z",
     "iopub.status.idle": "2024-01-24T09:43:00.664110Z",
     "shell.execute_reply": "2024-01-24T09:43:00.663749Z",
     "shell.execute_reply.started": "2024-01-24T09:43:00.655393Z"
    }
   },
   "outputs": [],
   "source": [
    "test0 = final_cohort_pre[(final_cohort_pre['ICU_TYPE'] == 'ICU')&(final_cohort_pre['stay_chart_included'] == 1)]\n",
    "\n",
    "test1 = test0[test0['AGE']>=18]\n",
    "\n",
    "test2 = test1[test1['los_icu_exc']==0]\n",
    "\n",
    "test3 = test2[(test2['previous_mdrpos_lessthan14d'] != 1)&(test2['previous_mdrneg_lessthan14d'] != 1)]"
   ]
  },
  {
   "cell_type": "code",
   "execution_count": 43,
   "metadata": {
    "execution": {
     "iopub.execute_input": "2024-01-24T09:43:00.664766Z",
     "iopub.status.busy": "2024-01-24T09:43:00.664616Z",
     "iopub.status.idle": "2024-01-24T09:43:00.671264Z",
     "shell.execute_reply": "2024-01-24T09:43:00.670864Z",
     "shell.execute_reply.started": "2024-01-24T09:43:00.664752Z"
    }
   },
   "outputs": [
    {
     "data": {
      "text/plain": [
       "(5718, 25)"
      ]
     },
     "execution_count": 43,
     "metadata": {},
     "output_type": "execute_result"
    }
   ],
   "source": [
    "final_cohort_pre[final_cohort_pre['ICU_TYPE'] == 'ICU'].shape"
   ]
  },
  {
   "cell_type": "code",
   "execution_count": 44,
   "metadata": {
    "ExecuteTime": {
     "end_time": "2022-02-10T07:56:04.322712Z",
     "start_time": "2022-02-10T07:56:04.298712Z"
    },
    "execution": {
     "iopub.execute_input": "2024-01-24T09:43:00.671936Z",
     "iopub.status.busy": "2024-01-24T09:43:00.671789Z",
     "iopub.status.idle": "2024-01-24T09:43:00.676725Z",
     "shell.execute_reply": "2024-01-24T09:43:00.676388Z",
     "shell.execute_reply.started": "2024-01-24T09:43:00.671923Z"
    },
    "tags": []
   },
   "outputs": [
    {
     "data": {
      "text/plain": [
       "(4039, 2)"
      ]
     },
     "execution_count": 44,
     "metadata": {},
     "output_type": "execute_result"
    }
   ],
   "source": [
    "test0[['PATIENT_ID','TF_ADMISSION_DATE_TIME']].drop_duplicates().shape"
   ]
  },
  {
   "cell_type": "code",
   "execution_count": 45,
   "metadata": {
    "ExecuteTime": {
     "end_time": "2022-02-10T07:56:04.783803Z",
     "start_time": "2022-02-10T07:56:04.760803Z"
    },
    "execution": {
     "iopub.execute_input": "2024-01-24T09:43:00.677372Z",
     "iopub.status.busy": "2024-01-24T09:43:00.677224Z",
     "iopub.status.idle": "2024-01-24T09:43:00.681931Z",
     "shell.execute_reply": "2024-01-24T09:43:00.681591Z",
     "shell.execute_reply.started": "2024-01-24T09:43:00.677358Z"
    },
    "tags": []
   },
   "outputs": [
    {
     "data": {
      "text/plain": [
       "(3978, 2)"
      ]
     },
     "execution_count": 45,
     "metadata": {},
     "output_type": "execute_result"
    }
   ],
   "source": [
    "test1[['PATIENT_ID','TF_ADMISSION_DATE_TIME']].drop_duplicates().shape"
   ]
  },
  {
   "cell_type": "code",
   "execution_count": 46,
   "metadata": {
    "ExecuteTime": {
     "end_time": "2022-02-10T07:56:05.245888Z",
     "start_time": "2022-02-10T07:56:05.225890Z"
    },
    "execution": {
     "iopub.execute_input": "2024-01-24T09:43:00.682733Z",
     "iopub.status.busy": "2024-01-24T09:43:00.682429Z",
     "iopub.status.idle": "2024-01-24T09:43:00.687215Z",
     "shell.execute_reply": "2024-01-24T09:43:00.686877Z",
     "shell.execute_reply.started": "2024-01-24T09:43:00.682718Z"
    },
    "tags": []
   },
   "outputs": [
    {
     "data": {
      "text/plain": [
       "(3645, 2)"
      ]
     },
     "execution_count": 46,
     "metadata": {},
     "output_type": "execute_result"
    }
   ],
   "source": [
    "test2[['PATIENT_ID','TF_ADMISSION_DATE_TIME']].drop_duplicates().shape"
   ]
  },
  {
   "cell_type": "code",
   "execution_count": 47,
   "metadata": {
    "ExecuteTime": {
     "end_time": "2022-02-10T07:56:05.690119Z",
     "start_time": "2022-02-10T07:56:05.673119Z"
    },
    "execution": {
     "iopub.execute_input": "2024-01-24T09:43:00.688085Z",
     "iopub.status.busy": "2024-01-24T09:43:00.687734Z",
     "iopub.status.idle": "2024-01-24T09:43:00.692550Z",
     "shell.execute_reply": "2024-01-24T09:43:00.692213Z",
     "shell.execute_reply.started": "2024-01-24T09:43:00.688070Z"
    },
    "tags": []
   },
   "outputs": [
    {
     "data": {
      "text/plain": [
       "(3537, 2)"
      ]
     },
     "execution_count": 47,
     "metadata": {},
     "output_type": "execute_result"
    }
   ],
   "source": [
    "test3[['PATIENT_ID','TF_ADMISSION_DATE_TIME']].drop_duplicates().shape"
   ]
  },
  {
   "cell_type": "code",
   "execution_count": 48,
   "metadata": {
    "ExecuteTime": {
     "end_time": "2022-02-10T07:40:19.130692Z",
     "start_time": "2022-02-10T07:40:19.115693Z"
    },
    "execution": {
     "iopub.execute_input": "2024-01-24T09:43:00.693221Z",
     "iopub.status.busy": "2024-01-24T09:43:00.693065Z",
     "iopub.status.idle": "2024-01-24T09:43:00.701166Z",
     "shell.execute_reply": "2024-01-24T09:43:00.700756Z",
     "shell.execute_reply.started": "2024-01-24T09:43:00.693208Z"
    },
    "tags": []
   },
   "outputs": [
    {
     "data": {
      "text/html": [
       "<div>\n",
       "<style scoped>\n",
       "    .dataframe tbody tr th:only-of-type {\n",
       "        vertical-align: middle;\n",
       "    }\n",
       "\n",
       "    .dataframe tbody tr th {\n",
       "        vertical-align: top;\n",
       "    }\n",
       "\n",
       "    .dataframe thead th {\n",
       "        text-align: right;\n",
       "    }\n",
       "</style>\n",
       "<table border=\"1\" class=\"dataframe\">\n",
       "  <thead>\n",
       "    <tr style=\"text-align: right;\">\n",
       "      <th></th>\n",
       "      <th>PATIENT_ID</th>\n",
       "      <th>VISIT_ID</th>\n",
       "      <th>GENDER</th>\n",
       "      <th>AGE</th>\n",
       "      <th>ADMISSION_DATE_TIME</th>\n",
       "      <th>DISCHARGE_DATE_TIME</th>\n",
       "      <th>ADMISSION_TYPE</th>\n",
       "      <th>ICU_TYPE</th>\n",
       "      <th>TF_ADMISSION_DATE_TIME</th>\n",
       "      <th>TF_DISCHARGE_DATE_TIME</th>\n",
       "      <th>LOS_ICU</th>\n",
       "      <th>firsthospmdrcharttime</th>\n",
       "      <th>firsthospmdrstoretime</th>\n",
       "      <th>firsthospmdrRAB</th>\n",
       "      <th>firsthospmdrorgname</th>\n",
       "      <th>previous_mdrpos_lessthan7d</th>\n",
       "      <th>previous_mdrneg_lessthan7d</th>\n",
       "      <th>previous_mdrpos_lessthan90d</th>\n",
       "      <th>previous_mdrneg_lessthan90d</th>\n",
       "      <th>stay_chart_included</th>\n",
       "      <th>stay_chart_included_mdr</th>\n",
       "      <th>stay_chart_included_mdr_neg_tot</th>\n",
       "      <th>stay_chart_included_mdr_pos_tot</th>\n",
       "      <th>icustay_rank</th>\n",
       "      <th>los_icu_exc</th>\n",
       "    </tr>\n",
       "  </thead>\n",
       "  <tbody>\n",
       "  </tbody>\n",
       "</table>\n",
       "</div>"
      ],
      "text/plain": [
       "Empty DataFrame\n",
       "Columns: [PATIENT_ID, VISIT_ID, GENDER, AGE, ADMISSION_DATE_TIME, DISCHARGE_DATE_TIME, ADMISSION_TYPE, ICU_TYPE, TF_ADMISSION_DATE_TIME, TF_DISCHARGE_DATE_TIME, LOS_ICU, firsthospmdrcharttime, firsthospmdrstoretime, firsthospmdrRAB, firsthospmdrorgname, previous_mdrpos_lessthan7d, previous_mdrneg_lessthan7d, previous_mdrpos_lessthan90d, previous_mdrneg_lessthan90d, stay_chart_included, stay_chart_included_mdr, stay_chart_included_mdr_neg_tot, stay_chart_included_mdr_pos_tot, icustay_rank, los_icu_exc]\n",
       "Index: []"
      ]
     },
     "execution_count": 48,
     "metadata": {},
     "output_type": "execute_result"
    }
   ],
   "source": [
    "test3[test3['icustay_rank'] == 1.5]"
   ]
  },
  {
   "cell_type": "code",
   "execution_count": 49,
   "metadata": {
    "ExecuteTime": {
     "end_time": "2022-02-10T07:32:29.003588Z",
     "start_time": "2022-02-10T07:29:41.671Z"
    },
    "execution": {
     "iopub.execute_input": "2024-01-24T09:43:00.701966Z",
     "iopub.status.busy": "2024-01-24T09:43:00.701668Z",
     "iopub.status.idle": "2024-01-24T09:43:00.708991Z",
     "shell.execute_reply": "2024-01-24T09:43:00.708638Z",
     "shell.execute_reply.started": "2024-01-24T09:43:00.701952Z"
    },
    "tags": []
   },
   "outputs": [],
   "source": [
    "from tableone import TableOne"
   ]
  },
  {
   "cell_type": "code",
   "execution_count": 50,
   "metadata": {
    "ExecuteTime": {
     "end_time": "2022-02-10T07:32:29.005588Z",
     "start_time": "2022-02-10T07:29:41.673Z"
    },
    "execution": {
     "iopub.execute_input": "2024-01-24T09:43:00.709832Z",
     "iopub.status.busy": "2024-01-24T09:43:00.709524Z",
     "iopub.status.idle": "2024-01-24T09:43:00.712563Z",
     "shell.execute_reply": "2024-01-24T09:43:00.712218Z",
     "shell.execute_reply.started": "2024-01-24T09:43:00.709817Z"
    },
    "tags": []
   },
   "outputs": [
    {
     "data": {
      "text/plain": [
       "Index(['PATIENT_ID', 'VISIT_ID', 'GENDER', 'AGE', 'ADMISSION_DATE_TIME',\n",
       "       'DISCHARGE_DATE_TIME', 'ADMISSION_TYPE', 'ICU_TYPE',\n",
       "       'TF_ADMISSION_DATE_TIME', 'TF_DISCHARGE_DATE_TIME', 'LOS_ICU',\n",
       "       'firsthospmdrcharttime', 'firsthospmdrstoretime', 'firsthospmdrRAB',\n",
       "       'firsthospmdrorgname', 'previous_mdrpos_lessthan7d',\n",
       "       'previous_mdrneg_lessthan7d', 'previous_mdrpos_lessthan90d',\n",
       "       'previous_mdrneg_lessthan90d', 'stay_chart_included',\n",
       "       'stay_chart_included_mdr', 'stay_chart_included_mdr_neg_tot',\n",
       "       'stay_chart_included_mdr_pos_tot', 'icustay_rank', 'los_icu_exc'],\n",
       "      dtype='object')"
      ]
     },
     "execution_count": 50,
     "metadata": {},
     "output_type": "execute_result"
    }
   ],
   "source": [
    "test3.columns"
   ]
  },
  {
   "cell_type": "code",
   "execution_count": 51,
   "metadata": {
    "ExecuteTime": {
     "end_time": "2022-02-10T07:32:29.006588Z",
     "start_time": "2022-02-10T07:29:41.675Z"
    },
    "execution": {
     "iopub.execute_input": "2024-01-24T09:43:00.713332Z",
     "iopub.status.busy": "2024-01-24T09:43:00.713167Z",
     "iopub.status.idle": "2024-01-24T09:43:00.715636Z",
     "shell.execute_reply": "2024-01-24T09:43:00.715287Z",
     "shell.execute_reply.started": "2024-01-24T09:43:00.713318Z"
    },
    "tags": []
   },
   "outputs": [],
   "source": [
    "def trans_time(t):\n",
    "    if t == 'None':\n",
    "        return np.datetime64('NaT')\n",
    "    elif pd.isna(t):\n",
    "        return np.datetime64('NaT')\n",
    "    else:\n",
    "        return parse(t)"
   ]
  },
  {
   "cell_type": "code",
   "execution_count": 52,
   "metadata": {
    "ExecuteTime": {
     "end_time": "2022-02-10T07:32:29.007587Z",
     "start_time": "2022-02-10T07:29:41.677Z"
    },
    "execution": {
     "iopub.execute_input": "2024-01-24T09:43:00.716525Z",
     "iopub.status.busy": "2024-01-24T09:43:00.716174Z",
     "iopub.status.idle": "2024-01-24T09:43:00.992082Z",
     "shell.execute_reply": "2024-01-24T09:43:00.991491Z",
     "shell.execute_reply.started": "2024-01-24T09:43:00.716510Z"
    },
    "tags": []
   },
   "outputs": [],
   "source": [
    "mort = pd.read_csv('../Local_hosp_data/mort.csv')\n",
    "\n",
    "mort['DOD_HOSP'] = mort['DOD_HOSP'].apply(trans_time)\n",
    "\n",
    "test3 = pd.merge(test3, mort, how = 'left', on = ['PATIENT_ID','VISIT_ID'])\n",
    "\n",
    "# test3['DISCHARGE_DATE_TIME'] = test3['DISCHARGE_DATE_TIME'].apply(trans_time)\n",
    "\n",
    "# test3['ADMISSION_DATE_TIME'] = test3['ADMISSION_DATE_TIME'].apply(trans_time)\n",
    "\n",
    "test3['DOD'] = \\\n",
    "test3[['ADMISSION_DATE_TIME','DISCHARGE_DATE_TIME','DOD_HOSP']].\\\n",
    "apply(lambda x: 1 if ((x[2]-x[0]).total_seconds()>=0) and ((x[2]-x[1]).total_seconds()<=0) else 0, axis = 1)"
   ]
  },
  {
   "cell_type": "code",
   "execution_count": 53,
   "metadata": {
    "ExecuteTime": {
     "end_time": "2022-02-10T07:32:29.008587Z",
     "start_time": "2022-02-10T07:29:41.679Z"
    },
    "execution": {
     "iopub.execute_input": "2024-01-24T09:43:00.992899Z",
     "iopub.status.busy": "2024-01-24T09:43:00.992605Z",
     "iopub.status.idle": "2024-01-24T09:43:00.996043Z",
     "shell.execute_reply": "2024-01-24T09:43:00.995666Z",
     "shell.execute_reply.started": "2024-01-24T09:43:00.992884Z"
    },
    "tags": []
   },
   "outputs": [
    {
     "data": {
      "text/plain": [
       "Index(['PATIENT_ID', 'VISIT_ID', 'GENDER', 'AGE', 'ADMISSION_DATE_TIME',\n",
       "       'DISCHARGE_DATE_TIME', 'ADMISSION_TYPE', 'ICU_TYPE',\n",
       "       'TF_ADMISSION_DATE_TIME', 'TF_DISCHARGE_DATE_TIME', 'LOS_ICU',\n",
       "       'firsthospmdrcharttime', 'firsthospmdrstoretime', 'firsthospmdrRAB',\n",
       "       'firsthospmdrorgname', 'previous_mdrpos_lessthan7d',\n",
       "       'previous_mdrneg_lessthan7d', 'previous_mdrpos_lessthan90d',\n",
       "       'previous_mdrneg_lessthan90d', 'stay_chart_included',\n",
       "       'stay_chart_included_mdr', 'stay_chart_included_mdr_neg_tot',\n",
       "       'stay_chart_included_mdr_pos_tot', 'icustay_rank', 'los_icu_exc',\n",
       "       'DOD_HOSP', 'DOD'],\n",
       "      dtype='object')"
      ]
     },
     "execution_count": 53,
     "metadata": {},
     "output_type": "execute_result"
    }
   ],
   "source": [
    "test3.columns"
   ]
  },
  {
   "cell_type": "code",
   "execution_count": 54,
   "metadata": {
    "ExecuteTime": {
     "end_time": "2022-02-10T07:32:29.009587Z",
     "start_time": "2022-02-10T07:29:41.681Z"
    },
    "execution": {
     "iopub.execute_input": "2024-01-24T09:43:00.996856Z",
     "iopub.status.busy": "2024-01-24T09:43:00.996559Z",
     "iopub.status.idle": "2024-01-24T09:43:01.209443Z",
     "shell.execute_reply": "2024-01-24T09:43:01.208638Z",
     "shell.execute_reply.started": "2024-01-24T09:43:00.996842Z"
    },
    "tags": []
   },
   "outputs": [],
   "source": [
    "columns_dev_ini = [\n",
    " 'GENDER', 'AGE','LOS_ICU','DOD',\n",
    " 'previous_mdrpos_lessthan90d',\n",
    "'previous_mdrneg_lessthan90d',\n",
    "'stay_chart_included_mdr'\n",
    "]\n",
    "\n",
    "nonnormal_dev_ini = [\n",
    " 'AGE','LOS_ICU'\n",
    "]\n",
    "\n",
    "category_dev_ini = [\n",
    " 'GENDER', 'DOD',\n",
    "'stay_chart_included_mdr'\n",
    "]\n",
    "groupby_ini = ['stay_chart_included_mdr']\n",
    "tableone_ = TableOne(test3,\n",
    "                      nonnormal=nonnormal_dev_ini,\n",
    "                            categorical=category_dev_ini,\n",
    "                            columns=columns_dev_ini,\n",
    "                            groupby=groupby_ini,\n",
    "                            label_suffix=True,\n",
    "                            pval=True,\n",
    "                            htest_name=True)"
   ]
  },
  {
   "cell_type": "code",
   "execution_count": 55,
   "metadata": {
    "ExecuteTime": {
     "end_time": "2022-02-10T07:32:29.010587Z",
     "start_time": "2022-02-10T07:29:41.683Z"
    },
    "execution": {
     "iopub.execute_input": "2024-01-24T09:43:01.210164Z",
     "iopub.status.busy": "2024-01-24T09:43:01.210015Z",
     "iopub.status.idle": "2024-01-24T09:43:01.213968Z",
     "shell.execute_reply": "2024-01-24T09:43:01.213525Z",
     "shell.execute_reply.started": "2024-01-24T09:43:01.210151Z"
    },
    "tags": []
   },
   "outputs": [],
   "source": [
    "tableone_.to_csv('table_one.csv')"
   ]
  },
  {
   "cell_type": "code",
   "execution_count": null,
   "metadata": {},
   "outputs": [],
   "source": []
  }
 ],
 "metadata": {
  "kernelspec": {
   "display_name": "machine_learning",
   "language": "python",
   "name": "ml"
  },
  "language_info": {
   "codemirror_mode": {
    "name": "ipython",
    "version": 3
   },
   "file_extension": ".py",
   "mimetype": "text/x-python",
   "name": "python",
   "nbconvert_exporter": "python",
   "pygments_lexer": "ipython3",
   "version": "3.9.16"
  },
  "toc": {
   "base_numbering": 1,
   "nav_menu": {},
   "number_sections": true,
   "sideBar": true,
   "skip_h1_title": false,
   "title_cell": "Table of Contents",
   "title_sidebar": "Contents",
   "toc_cell": false,
   "toc_position": {
    "height": "calc(100% - 180px)",
    "left": "10px",
    "top": "150px",
    "width": "359.273px"
   },
   "toc_section_display": true,
   "toc_window_display": true
  },
  "varInspector": {
   "cols": {
    "lenName": 16,
    "lenType": 16,
    "lenVar": 40
   },
   "kernels_config": {
    "python": {
     "delete_cmd_postfix": "",
     "delete_cmd_prefix": "del ",
     "library": "var_list.py",
     "varRefreshCmd": "print(var_dic_list())"
    },
    "r": {
     "delete_cmd_postfix": ") ",
     "delete_cmd_prefix": "rm(",
     "library": "var_list.r",
     "varRefreshCmd": "cat(var_dic_list()) "
    }
   },
   "types_to_exclude": [
    "module",
    "function",
    "builtin_function_or_method",
    "instance",
    "_Feature"
   ],
   "window_display": false
  }
 },
 "nbformat": 4,
 "nbformat_minor": 4
}
